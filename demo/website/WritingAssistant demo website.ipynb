{
 "cells": [
  {
   "cell_type": "markdown",
   "metadata": {
    "id": "MsvrVMScGvjf"
   },
   "source": [
    "# Writing Assistant Demo Website\n",
    "\n",
    "This google colab notebook hosts the demo website and makes use of google colab's GPU resources. To run the site, please follow the next steps:\n",
    "\n",
    "1. Change the runtime type to GPU: Runtime -> Change runtime type -> GPU\n",
    "2. Run all cells and wait until the website is shown within the output of the last cell.\n",
    "3. Right-Click on the last cell to toggle the menu and select to \"view output fullscreen\""
   ]
  },
  {
   "cell_type": "code",
   "execution_count": null,
   "metadata": {
    "colab": {
     "base_uri": "https://localhost:8080/"
    },
    "executionInfo": {
     "elapsed": 304087,
     "status": "ok",
     "timestamp": 1624456225611,
     "user": {
      "displayName": "Arthur Haas",
      "photoUrl": "",
      "userId": "16464209984721077494"
     },
     "user_tz": -120
    },
    "id": "7diA-BgjGw1i",
    "outputId": "a59aac99-b5e9-4c11-9705-af2c2b3e645c"
   },
   "outputs": [],
   "source": [
    "# load model and config from public folder https://drive.google.com/drive/folders/1XOWxF54WWqIHRbWQ0YUDf7qDt3LbIrsE?usp=sharing\n",
    "! echo \"Prepare download of T5 model...\"\n",
    "! mkdir t5_model_2\n",
    "%cd t5_model_2\n",
    "! echo \"download config of model\"\n",
    "! gdown \"https://drive.google.com/uc?id=1RrgKJAXK3lujRKSfCgo7CA2bqvOQUhup\"\n",
    "! echo \"download model\"\n",
    "! gdown \"https://drive.google.com/uc?id=1RXLJgNpjBKMmc5-F781NZBmxRV9WJ2xM\"\n",
    "%cd ..\n",
    "\n",
    "# set path to T5 model\n",
    "best_model_path = \"/content/t5_model_2/\"\n",
    "\n",
    "# install libraries\n",
    "! echo \"installing libraries...\"\n",
    "!pip install -q sentencepiece\n",
    "!pip install -q torch==1.4.0\n",
    "!pip install -q transformers==2.9.0\n",
    "!pip install -q pytorch_lightning==0.7.5\n",
    "!pip install -q jupyter-dash dash_bootstrap_components\n",
    "\n",
    "# Install localtunnel\n",
    "!npm install -g localtunnel"
   ]
  },
  {
   "cell_type": "code",
   "execution_count": null,
   "metadata": {
    "colab": {
     "base_uri": "https://localhost:8080/",
     "height": 83,
     "referenced_widgets": [
      "d35aaba334564f0e9f96f5dfb313b729",
      "1c8cb94d72d14a62840e3b3a4a04889b",
      "5b7e1286ab0c421686985f6825022a34",
      "552d5f38aae942bf90008196cbaefd4e",
      "ae8c394c472f4c37a4476cbfe566038a",
      "c353422149e947b58ba4d0421b647a2c",
      "2dba1dcd306a425888746fc4d75650f6",
      "b0d4c286c898422cba0a2589b4c30bb5"
     ]
    },
    "executionInfo": {
     "elapsed": 112667,
     "status": "ok",
     "timestamp": 1624456338253,
     "user": {
      "displayName": "Arthur Haas",
      "photoUrl": "",
      "userId": "16464209984721077494"
     },
     "user_tz": -120
    },
    "id": "i08I5ugQHARP",
    "outputId": "3b16a4cc-3553-4e3c-8b24-ee0154342f0f"
   },
   "outputs": [],
   "source": [
    "## prepare for model execution\n",
    "\n",
    "import torch\n",
    "from transformers import T5ForConditionalGeneration,T5Tokenizer\n",
    "\n",
    "def set_seed(seed):\n",
    "  torch.manual_seed(seed)\n",
    "#  if torch.cuda.is_available():\n",
    "#   torch.cuda.manual_seed_all(seed)\n",
    "\n",
    "\n",
    "\n",
    "set_seed(42)\n",
    "\n",
    "model = T5ForConditionalGeneration.from_pretrained(best_model_path)\n",
    "tokenizer = T5Tokenizer.from_pretrained('t5-large')\n",
    "\n",
    "device = torch.device(\"cuda\" if torch.cuda.is_available() else \"cpu\")\n",
    "print (\"device \",device)\n",
    "model = model.to(device)"
   ]
  },
  {
   "cell_type": "code",
   "execution_count": null,
   "metadata": {
    "colab": {
     "base_uri": "https://localhost:8080/"
    },
    "executionInfo": {
     "elapsed": 270,
     "status": "ok",
     "timestamp": 1624459760728,
     "user": {
      "displayName": "Arthur Haas",
      "photoUrl": "",
      "userId": "16464209984721077494"
     },
     "user_tz": -120
    },
    "id": "WGKqbMJEOdZb",
    "outputId": "d0bd1808-191b-4fa9-ca0d-8b4807a62142"
   },
   "outputs": [],
   "source": [
    "import nltk\n",
    "nltk.download('punkt')\n",
    "\n",
    "def infer(sentence=\"\", n_sentences=1):\n",
    "  text =  \"paraphrase: \" + sentence + \" </s>\"\n",
    "\n",
    "  max_len = 256\n",
    "\n",
    "  encoding = tokenizer.encode_plus(text,pad_to_max_length=True, return_tensors=\"pt\")\n",
    "  input_ids, attention_masks = encoding[\"input_ids\"].to(device), encoding[\"attention_mask\"].to(device)\n",
    "\n",
    "  # set top_k = 50 and set top_p = 0.95 and num_return_sequences = 5\n",
    "  beam_outputs = model.generate(\n",
    "      input_ids=input_ids, attention_mask=attention_masks,\n",
    "      do_sample=True,\n",
    "      max_length=256,\n",
    "      top_k=120,\n",
    "      top_p=0.95,\n",
    "      early_stopping=True,\n",
    "      num_return_sequences=n_sentences\n",
    "  )\n",
    "\n",
    "  final_outputs =[]\n",
    "  for beam_output in beam_outputs:\n",
    "      sent = tokenizer.decode(beam_output, skip_special_tokens=True,clean_up_tokenization_spaces=True)\n",
    "      if sent.lower() != sentence.lower() and sent not in final_outputs:\n",
    "          final_outputs.append(sent)\n",
    "  return final_outputs\n",
    "\n",
    "def process_input(input_text, n_sentences):\n",
    "    if not input_text:\n",
    "      return \"\"\n",
    "\n",
    "    sentences = nltk.tokenize.sent_tokenize(input_text)\n",
    "    \n",
    "    output = []\n",
    "    \n",
    "    for sentence in sentences:\n",
    "        output.append(\" || \".join(infer(sentence,n_sentences)))\n",
    "\n",
    "    return \"\\n\\n\".join(output)\n"
   ]
  },
  {
   "cell_type": "code",
   "execution_count": null,
   "metadata": {
    "colab": {
     "base_uri": "https://localhost:8080/",
     "height": 368
    },
    "executionInfo": {
     "elapsed": 360,
     "status": "error",
     "timestamp": 1624482771207,
     "user": {
      "displayName": "Arthur Haas",
      "photoUrl": "",
      "userId": "16464209984721077494"
     },
     "user_tz": -120
    },
    "id": "cIFiuQHvHD69",
    "outputId": "b0226434-3323-43d0-9afe-59dee0b2a783"
   },
   "outputs": [],
   "source": [
    "# build website\n",
    "\n",
    "#import dash\n",
    "from jupyter_dash import JupyterDash\n",
    "import dash_core_components as dcc\n",
    "import dash_html_components as html\n",
    "from dash_html_components.Button import Button\n",
    "import dash_bootstrap_components as dbc\n",
    "from dash.dependencies import Input, Output, State\n",
    "import plotly.express as px\n",
    "\n",
    "import pandas as pd\n",
    "\n",
    "#external_stylesheets = ['https://codepen.io/chriddyp/pen/bWLwgP.css']\n",
    "#app = JupyterDash(__name__, external_stylesheets=external_stylesheets)\n",
    "app = JupyterDash(__name__, external_stylesheets=[dbc.themes.BOOTSTRAP])\n",
    "\n",
    "df = pd.read_csv('https://raw.githubusercontent.com/plotly/datasets/master/gapminderDataFiveYear.csv')\n",
    "\n",
    "##########\n",
    "\n",
    "\n",
    "app.layout = dbc.Container(\n",
    "    fluid=False,\n",
    "    children=[\n",
    "        dbc.Jumbotron(\n",
    "        [\n",
    "            html.H1(\"Writing Assistant\", className=\"display-3\"),\n",
    "            html.P(\n",
    "                \"Apply text style transfer models to  \"\n",
    "                \"improve the scientificity.\",\n",
    "                className=\"lead\",\n",
    "            ),\n",
    "            html.Hr(className=\"my-2\"),\n",
    "            html.P(\n",
    "                \"Researched and developed by Master Research Project group 11 \"\n",
    "                \"at Maastricht University.\"\n",
    "            ),\n",
    "            html.P(dbc.Button(\"Learn more\", color=\"primary\",\n",
    "                href=\"https://www.maastrichtuniversity.nl/meta/415976/research-project-dsdm-1\",\n",
    "                target=\"new_tab\"\n",
    "                ),\n",
    "            className=\"lead\"),\n",
    "        ]),\n",
    "        dcc.Slider(\n",
    "                  id=\"n_sentences\",\n",
    "                  min=1,\n",
    "                  max=5,\n",
    "                  step=None,\n",
    "                  value=2,\n",
    "                  marks={n+1:str(n+1) for n in range(5)}\n",
    "              ),\n",
    "        dbc.Row(\n",
    "            [\n",
    "                dbc.Col(\n",
    "                    [\n",
    "                        dbc.Textarea(\n",
    "                            id=\"source-text\",\n",
    "                            placeholder=\"Add your non-scientific text here...\",\n",
    "                            style={\"margin-top\": \"15px\", \"height\": \"30vh\"},\n",
    "                        ),\n",
    "                    ]\n",
    "                ),\n",
    "                dbc.Col(\n",
    "                    [\n",
    "                        dbc.Textarea(\n",
    "                            id=\"target-text\",\n",
    "                            placeholder=\"Different output sentences divided by ||\",\n",
    "                            style={\"margin-top\": \"15px\", \"height\": \"30vh\"}\n",
    "                        ),\n",
    "                    ]\n",
    "                ),\n",
    "            ]\n",
    "        ),\n",
    "        dbc.Row(\n",
    "            [\n",
    "                dbc.Col(\n",
    "                    [\n",
    "                        dbc.Button(\n",
    "                            \"Translate\",\n",
    "                            id=\"button-translate\",\n",
    "                            className=\"mr-2\",\n",
    "                            style={\"margin-top\": \"15px\"}\n",
    "                      ),\n",
    "                    ]\n",
    "                )\n",
    "            ]\n",
    "        )\n",
    "    ]\n",
    ")\n",
    "\n",
    "\n",
    "\n",
    "@app.callback(\n",
    "    Output(component_id='target-text', component_property='value'),\n",
    "    Input(component_id='button-translate', component_property='n_clicks'),\n",
    "    State(component_id='source-text', component_property='value'),\n",
    "    State(component_id='n_sentences', component_property='value'),\n",
    ")\n",
    "def update_output_div(n_clicks,input_value,n_sentences):\n",
    "    sci_style = process_input(input_value,n_sentences)\n",
    "    return sci_style\n",
    "\n"
   ]
  },
  {
   "cell_type": "code",
   "execution_count": null,
   "metadata": {
    "colab": {
     "base_uri": "https://localhost:8080/",
     "height": 198
    },
    "executionInfo": {
     "elapsed": 48,
     "status": "error",
     "timestamp": 1624482766500,
     "user": {
      "displayName": "Arthur Haas",
      "photoUrl": "",
      "userId": "16464209984721077494"
     },
     "user_tz": -120
    },
    "id": "AxRuFb0vHIx3",
    "outputId": "7b3ec1f7-f3b4-4be1-9d25-bfead9f9e9ef"
   },
   "outputs": [],
   "source": [
    "# Run app and display result inline in the notebook\n",
    "#app.run_server(mode='external')\n",
    "app.run_server(mode='external')"
   ]
  },
  {
   "cell_type": "code",
   "execution_count": null,
   "metadata": {
    "colab": {
     "base_uri": "https://localhost:8080/"
    },
    "executionInfo": {
     "elapsed": 1500,
     "status": "ok",
     "timestamp": 1624457060360,
     "user": {
      "displayName": "Arthur Haas",
      "photoUrl": "",
      "userId": "16464209984721077494"
     },
     "user_tz": -120
    },
    "id": "4CZPM0CBLkJY",
    "outputId": "59e0d66a-96c6-44e3-aaeb-27df8653d6fb"
   },
   "outputs": [],
   "source": [
    "!lt --port 8050"
   ]
  },
  {
   "cell_type": "code",
   "execution_count": null,
   "metadata": {
    "id": "5en0PQOYLmsT"
   },
   "outputs": [],
   "source": []
  }
 ],
 "metadata": {
  "accelerator": "GPU",
  "colab": {
   "authorship_tag": "ABX9TyNXJDpdGQtXL5CDy5BjzzJP",
   "collapsed_sections": [],
   "name": "WritingAssistant demo website.ipynb",
   "provenance": []
  },
  "kernelspec": {
   "display_name": "Python 3",
   "language": "python",
   "name": "python3"
  },
  "language_info": {
   "codemirror_mode": {
    "name": "ipython",
    "version": 3
   },
   "file_extension": ".py",
   "mimetype": "text/x-python",
   "name": "python",
   "nbconvert_exporter": "python",
   "pygments_lexer": "ipython3",
   "version": "3.9.4"
  },
  "widgets": {
   "application/vnd.jupyter.widget-state+json": {
    "1c8cb94d72d14a62840e3b3a4a04889b": {
     "model_module": "@jupyter-widgets/base",
     "model_name": "LayoutModel",
     "state": {
      "_model_module": "@jupyter-widgets/base",
      "_model_module_version": "1.2.0",
      "_model_name": "LayoutModel",
      "_view_count": null,
      "_view_module": "@jupyter-widgets/base",
      "_view_module_version": "1.2.0",
      "_view_name": "LayoutView",
      "align_content": null,
      "align_items": null,
      "align_self": null,
      "border": null,
      "bottom": null,
      "display": null,
      "flex": null,
      "flex_flow": null,
      "grid_area": null,
      "grid_auto_columns": null,
      "grid_auto_flow": null,
      "grid_auto_rows": null,
      "grid_column": null,
      "grid_gap": null,
      "grid_row": null,
      "grid_template_areas": null,
      "grid_template_columns": null,
      "grid_template_rows": null,
      "height": null,
      "justify_content": null,
      "justify_items": null,
      "left": null,
      "margin": null,
      "max_height": null,
      "max_width": null,
      "min_height": null,
      "min_width": null,
      "object_fit": null,
      "object_position": null,
      "order": null,
      "overflow": null,
      "overflow_x": null,
      "overflow_y": null,
      "padding": null,
      "right": null,
      "top": null,
      "visibility": null,
      "width": null
     }
    },
    "2dba1dcd306a425888746fc4d75650f6": {
     "model_module": "@jupyter-widgets/controls",
     "model_name": "DescriptionStyleModel",
     "state": {
      "_model_module": "@jupyter-widgets/controls",
      "_model_module_version": "1.5.0",
      "_model_name": "DescriptionStyleModel",
      "_view_count": null,
      "_view_module": "@jupyter-widgets/base",
      "_view_module_version": "1.2.0",
      "_view_name": "StyleView",
      "description_width": ""
     }
    },
    "552d5f38aae942bf90008196cbaefd4e": {
     "model_module": "@jupyter-widgets/controls",
     "model_name": "HTMLModel",
     "state": {
      "_dom_classes": [],
      "_model_module": "@jupyter-widgets/controls",
      "_model_module_version": "1.5.0",
      "_model_name": "HTMLModel",
      "_view_count": null,
      "_view_module": "@jupyter-widgets/controls",
      "_view_module_version": "1.5.0",
      "_view_name": "HTMLView",
      "description": "",
      "description_tooltip": null,
      "layout": "IPY_MODEL_b0d4c286c898422cba0a2589b4c30bb5",
      "placeholder": "​",
      "style": "IPY_MODEL_2dba1dcd306a425888746fc4d75650f6",
      "value": " 792k/792k [00:10&lt;00:00, 72.2kB/s]"
     }
    },
    "5b7e1286ab0c421686985f6825022a34": {
     "model_module": "@jupyter-widgets/controls",
     "model_name": "FloatProgressModel",
     "state": {
      "_dom_classes": [],
      "_model_module": "@jupyter-widgets/controls",
      "_model_module_version": "1.5.0",
      "_model_name": "FloatProgressModel",
      "_view_count": null,
      "_view_module": "@jupyter-widgets/controls",
      "_view_module_version": "1.5.0",
      "_view_name": "ProgressView",
      "bar_style": "success",
      "description": "Downloading: 100%",
      "description_tooltip": null,
      "layout": "IPY_MODEL_c353422149e947b58ba4d0421b647a2c",
      "max": 791656,
      "min": 0,
      "orientation": "horizontal",
      "style": "IPY_MODEL_ae8c394c472f4c37a4476cbfe566038a",
      "value": 791656
     }
    },
    "ae8c394c472f4c37a4476cbfe566038a": {
     "model_module": "@jupyter-widgets/controls",
     "model_name": "ProgressStyleModel",
     "state": {
      "_model_module": "@jupyter-widgets/controls",
      "_model_module_version": "1.5.0",
      "_model_name": "ProgressStyleModel",
      "_view_count": null,
      "_view_module": "@jupyter-widgets/base",
      "_view_module_version": "1.2.0",
      "_view_name": "StyleView",
      "bar_color": null,
      "description_width": "initial"
     }
    },
    "b0d4c286c898422cba0a2589b4c30bb5": {
     "model_module": "@jupyter-widgets/base",
     "model_name": "LayoutModel",
     "state": {
      "_model_module": "@jupyter-widgets/base",
      "_model_module_version": "1.2.0",
      "_model_name": "LayoutModel",
      "_view_count": null,
      "_view_module": "@jupyter-widgets/base",
      "_view_module_version": "1.2.0",
      "_view_name": "LayoutView",
      "align_content": null,
      "align_items": null,
      "align_self": null,
      "border": null,
      "bottom": null,
      "display": null,
      "flex": null,
      "flex_flow": null,
      "grid_area": null,
      "grid_auto_columns": null,
      "grid_auto_flow": null,
      "grid_auto_rows": null,
      "grid_column": null,
      "grid_gap": null,
      "grid_row": null,
      "grid_template_areas": null,
      "grid_template_columns": null,
      "grid_template_rows": null,
      "height": null,
      "justify_content": null,
      "justify_items": null,
      "left": null,
      "margin": null,
      "max_height": null,
      "max_width": null,
      "min_height": null,
      "min_width": null,
      "object_fit": null,
      "object_position": null,
      "order": null,
      "overflow": null,
      "overflow_x": null,
      "overflow_y": null,
      "padding": null,
      "right": null,
      "top": null,
      "visibility": null,
      "width": null
     }
    },
    "c353422149e947b58ba4d0421b647a2c": {
     "model_module": "@jupyter-widgets/base",
     "model_name": "LayoutModel",
     "state": {
      "_model_module": "@jupyter-widgets/base",
      "_model_module_version": "1.2.0",
      "_model_name": "LayoutModel",
      "_view_count": null,
      "_view_module": "@jupyter-widgets/base",
      "_view_module_version": "1.2.0",
      "_view_name": "LayoutView",
      "align_content": null,
      "align_items": null,
      "align_self": null,
      "border": null,
      "bottom": null,
      "display": null,
      "flex": null,
      "flex_flow": null,
      "grid_area": null,
      "grid_auto_columns": null,
      "grid_auto_flow": null,
      "grid_auto_rows": null,
      "grid_column": null,
      "grid_gap": null,
      "grid_row": null,
      "grid_template_areas": null,
      "grid_template_columns": null,
      "grid_template_rows": null,
      "height": null,
      "justify_content": null,
      "justify_items": null,
      "left": null,
      "margin": null,
      "max_height": null,
      "max_width": null,
      "min_height": null,
      "min_width": null,
      "object_fit": null,
      "object_position": null,
      "order": null,
      "overflow": null,
      "overflow_x": null,
      "overflow_y": null,
      "padding": null,
      "right": null,
      "top": null,
      "visibility": null,
      "width": null
     }
    },
    "d35aaba334564f0e9f96f5dfb313b729": {
     "model_module": "@jupyter-widgets/controls",
     "model_name": "HBoxModel",
     "state": {
      "_dom_classes": [],
      "_model_module": "@jupyter-widgets/controls",
      "_model_module_version": "1.5.0",
      "_model_name": "HBoxModel",
      "_view_count": null,
      "_view_module": "@jupyter-widgets/controls",
      "_view_module_version": "1.5.0",
      "_view_name": "HBoxView",
      "box_style": "",
      "children": [
       "IPY_MODEL_5b7e1286ab0c421686985f6825022a34",
       "IPY_MODEL_552d5f38aae942bf90008196cbaefd4e"
      ],
      "layout": "IPY_MODEL_1c8cb94d72d14a62840e3b3a4a04889b"
     }
    }
   }
  }
 },
 "nbformat": 4,
 "nbformat_minor": 4
}