{
 "cells": [
  {
   "cell_type": "code",
   "execution_count": 21,
   "id": "4c2f26e1-5cd5-4c10-ac99-f02766183e55",
   "metadata": {},
   "outputs": [],
   "source": [
    "import pandas as pd\n",
    "import seaborn as sns\n",
    "import matplotlib.pyplot as plt\n",
    "sns.set_style(\"whitegrid\")"
   ]
  },
  {
   "cell_type": "markdown",
   "id": "965578a9-7a94-498c-a1c2-a5693e4c8376",
   "metadata": {},
   "source": [
    "## data wrangling"
   ]
  },
  {
   "cell_type": "code",
   "execution_count": 19,
   "id": "8c8abbb6-8911-4918-9dac-78801eeba4df",
   "metadata": {},
   "outputs": [],
   "source": [
    "df = pd.read_csv(\"section_relevance_T5.csv\")\n",
    "df.rename({\"Unnamed: 0\":\"position\"}, axis=1, inplace=True)\n",
    "df = pd.melt(df, id_vars=['position', 'original'], value_vars=[f\"paraphrase{i+1}\" for i in range(5)], var_name='paraphrase', value_name='sci_sentence')\n",
    "df['paraphrase'] = pd.to_numeric(df['paraphrase'].apply(lambda x: x.replace(\"paraphrase\",\"\")))\n",
    "df = df.sort_values(by=[\"position\", \"paraphrase\"]).reset_index(drop=True)\n",
    "df.head()\n",
    "df.to_csv(\"section_relevance_T5_melted.csv\", index=False)"
   ]
  },
  {
   "cell_type": "markdown",
   "id": "c6b6d3bf-7ab3-4bca-aae3-173d634ed43d",
   "metadata": {},
   "source": [
    "## visualize"
   ]
  },
  {
   "cell_type": "code",
   "execution_count": 38,
   "id": "3319d9bc-319f-4700-8943-96e871aa8d07",
   "metadata": {},
   "outputs": [],
   "source": [
    "df = pd.read_excel(\"section_relevance_T5_melted.xlsx\")"
   ]
  },
  {
   "cell_type": "code",
   "execution_count": 40,
   "id": "6d0205d3-8cd4-46ff-ba31-d19709d425e7",
   "metadata": {},
   "outputs": [
    {
     "data": {
      "image/png": "[encoded data removed]",
      "text/plain": [
       "<Figure size 432x288 with 1 Axes>"
      ]
     },
     "metadata": {},
     "output_type": "display_data"
    },
    {
     "data": {
      "image/png": "[encoded data removed]",
      "text/plain": [
       "<Figure size 432x288 with 1 Axes>"
      ]
     },
     "metadata": {},
     "output_type": "display_data"
    }
   ],
   "source": [
    "ax = sns.histplot(data=df, x=\"sci_sentence_style_svm\")\n",
    "ax.set_title(f\"Prediction of scientificity\")\n",
    "ax.set_xlabel(\"Prediction (1 = scientific)\")\n",
    "plt.show()\n",
    "\n",
    "ax = sns.histplot(data=df, x=\"sci_pred_label\")\n",
    "ax.set_title(f\"Prediction of scientificity\")\n",
    "ax.set_xlabel(\"Prediction (1 = scientific)\")\n",
    "plt.show()\n",
    "\n",
    "#plt.savefig(os.path.join(\"plots\",\"val_student_reports.png\"), facecolor='white', dpi=300)"
   ]
  },
  {
   "cell_type": "code",
   "execution_count": 42,
   "id": "537938b1-95c9-4efc-b7d5-800076140ef6",
   "metadata": {},
   "outputs": [
    {
     "data": {
      "text/html": [
       "<div>\n",
       "<style scoped>\n",
       "    .dataframe tbody tr th:only-of-type {\n",
       "        vertical-align: middle;\n",
       "    }\n",
       "\n",
       "    .dataframe tbody tr th {\n",
       "        vertical-align: top;\n",
       "    }\n",
       "\n",
       "    .dataframe thead th {\n",
       "        text-align: right;\n",
       "    }\n",
       "</style>\n",
       "<table border=\"1\" class=\"dataframe\">\n",
       "  <thead>\n",
       "    <tr style=\"text-align: right;\">\n",
       "      <th></th>\n",
       "      <th>position</th>\n",
       "      <th>original</th>\n",
       "      <th>paraphrase</th>\n",
       "      <th>sci_sentence</th>\n",
       "      <th>sci_merged</th>\n",
       "      <th>original_style_svm</th>\n",
       "      <th>sci_sentence_style_svm</th>\n",
       "      <th>original_masked</th>\n",
       "      <th>sci_masked</th>\n",
       "      <th>orig_pred_label</th>\n",
       "      <th>orig_prob0</th>\n",
       "      <th>orig_prob1</th>\n",
       "      <th>orig_prob_max</th>\n",
       "      <th>sci_pred_label</th>\n",
       "      <th>sci_prob0</th>\n",
       "      <th>sci_prob1</th>\n",
       "      <th>sci_prob_max</th>\n",
       "      <th>chosen</th>\n",
       "      <th>comment</th>\n",
       "    </tr>\n",
       "  </thead>\n",
       "  <tbody>\n",
       "    <tr>\n",
       "      <th>0</th>\n",
       "      <td>0</td>\n",
       "      <td>The recent significant increase in publicly av...</td>\n",
       "      <td>1</td>\n",
       "      <td>it highlights the importance of the field, as ...</td>\n",
       "      <td>1</td>\n",
       "      <td>0</td>\n",
       "      <td>0</td>\n",
       "      <td>The recent significant increase in publicly av...</td>\n",
       "      <td>it highlights the importance of the field, as ...</td>\n",
       "      <td>0</td>\n",
       "      <td>0.900127</td>\n",
       "      <td>0.099873</td>\n",
       "      <td>0.900127</td>\n",
       "      <td>1</td>\n",
       "      <td>0.008072</td>\n",
       "      <td>0.991928</td>\n",
       "      <td>0.991928</td>\n",
       "      <td>0</td>\n",
       "      <td>NaN</td>\n",
       "    </tr>\n",
       "    <tr>\n",
       "      <th>1</th>\n",
       "      <td>0</td>\n",
       "      <td>The recent significant increase in publicly av...</td>\n",
       "      <td>2</td>\n",
       "      <td>a recent major increment in publicly available...</td>\n",
       "      <td>2</td>\n",
       "      <td>0</td>\n",
       "      <td>1</td>\n",
       "      <td>The recent significant increase in publicly av...</td>\n",
       "      <td>a recent major increment in publicly available...</td>\n",
       "      <td>0</td>\n",
       "      <td>0.900127</td>\n",
       "      <td>0.099873</td>\n",
       "      <td>0.900127</td>\n",
       "      <td>1</td>\n",
       "      <td>0.003236</td>\n",
       "      <td>0.996764</td>\n",
       "      <td>0.996764</td>\n",
       "      <td>0</td>\n",
       "      <td>NaN</td>\n",
       "    </tr>\n",
       "  </tbody>\n",
       "</table>\n",
       "</div>"
      ],
      "text/plain": [
       "   position                                           original  paraphrase  \\\n",
       "0         0  The recent significant increase in publicly av...           1   \n",
       "1         0  The recent significant increase in publicly av...           2   \n",
       "\n",
       "                                        sci_sentence  sci_merged  \\\n",
       "0  it highlights the importance of the field, as ...           1   \n",
       "1  a recent major increment in publicly available...           2   \n",
       "\n",
       "   original_style_svm  sci_sentence_style_svm  \\\n",
       "0                   0                       0   \n",
       "1                   0                       1   \n",
       "\n",
       "                                     original_masked  \\\n",
       "0  The recent significant increase in publicly av...   \n",
       "1  The recent significant increase in publicly av...   \n",
       "\n",
       "                                          sci_masked  orig_pred_label  \\\n",
       "0  it highlights the importance of the field, as ...                0   \n",
       "1  a recent major increment in publicly available...                0   \n",
       "\n",
       "   orig_prob0  orig_prob1  orig_prob_max  sci_pred_label  sci_prob0  \\\n",
       "0    0.900127    0.099873       0.900127               1   0.008072   \n",
       "1    0.900127    0.099873       0.900127               1   0.003236   \n",
       "\n",
       "   sci_prob1  sci_prob_max  chosen comment  \n",
       "0   0.991928      0.991928       0     NaN  \n",
       "1   0.996764      0.996764       0     NaN  "
      ]
     },
     "execution_count": 42,
     "metadata": {},
     "output_type": "execute_result"
    }
   ],
   "source": [
    "df.head(2)"
   ]
  },
  {
   "cell_type": "code",
   "execution_count": 50,
   "id": "ec82fb26-ead0-4ce8-ae0d-1e2cdb673449",
   "metadata": {},
   "outputs": [],
   "source": [
    "from sklearn.metrics import classification_report, confusion_matrix, plot_confusion_matrix"
   ]
  },
  {
   "cell_type": "code",
   "execution_count": 55,
   "id": "2759f577-213b-44ee-9940-303a442cedc3",
   "metadata": {},
   "outputs": [
    {
     "ename": "ValueError",
     "evalue": "plot_confusion_matrix only supports classifiers",
     "output_type": "error",
     "traceback": [
      "\u001b[0;31m---------------------------------------------------------------------------\u001b[0m",
      "\u001b[0;31mValueError\u001b[0m                                Traceback (most recent call last)",
      "\u001b[0;32m<ipython-input-55-6360866150af>\u001b[0m in \u001b[0;36m<module>\u001b[0;34m\u001b[0m\n\u001b[0;32m----> 1\u001b[0;31m \u001b[0mplot_confusion_matrix\u001b[0m\u001b[0;34m(\u001b[0m\u001b[0mconfusion_matrix\u001b[0m\u001b[0;34m(\u001b[0m\u001b[0mdf\u001b[0m\u001b[0;34m.\u001b[0m\u001b[0msci_sentence_style_svm\u001b[0m\u001b[0;34m,\u001b[0m \u001b[0mdf\u001b[0m\u001b[0;34m.\u001b[0m\u001b[0msci_pred_label\u001b[0m\u001b[0;34m)\u001b[0m\u001b[0;34m,\u001b[0m\u001b[0mdf\u001b[0m\u001b[0;34m.\u001b[0m\u001b[0msci_sentence_style_svm\u001b[0m\u001b[0;34m,\u001b[0m \u001b[0mdf\u001b[0m\u001b[0;34m.\u001b[0m\u001b[0msci_pred_label\u001b[0m\u001b[0;34m)\u001b[0m\u001b[0;34m\u001b[0m\u001b[0;34m\u001b[0m\u001b[0m\n\u001b[0m",
      "\u001b[0;32m~/.pyenv/versions/3.9.4/envs/mrp/lib/python3.9/site-packages/sklearn/utils/validation.py\u001b[0m in \u001b[0;36minner_f\u001b[0;34m(*args, **kwargs)\u001b[0m\n\u001b[1;32m     61\u001b[0m             \u001b[0mextra_args\u001b[0m \u001b[0;34m=\u001b[0m \u001b[0mlen\u001b[0m\u001b[0;34m(\u001b[0m\u001b[0margs\u001b[0m\u001b[0;34m)\u001b[0m \u001b[0;34m-\u001b[0m \u001b[0mlen\u001b[0m\u001b[0;34m(\u001b[0m\u001b[0mall_args\u001b[0m\u001b[0;34m)\u001b[0m\u001b[0;34m\u001b[0m\u001b[0;34m\u001b[0m\u001b[0m\n\u001b[1;32m     62\u001b[0m             \u001b[0;32mif\u001b[0m \u001b[0mextra_args\u001b[0m \u001b[0;34m<=\u001b[0m \u001b[0;36m0\u001b[0m\u001b[0;34m:\u001b[0m\u001b[0;34m\u001b[0m\u001b[0;34m\u001b[0m\u001b[0m\n\u001b[0;32m---> 63\u001b[0;31m                 \u001b[0;32mreturn\u001b[0m \u001b[0mf\u001b[0m\u001b[0;34m(\u001b[0m\u001b[0;34m*\u001b[0m\u001b[0margs\u001b[0m\u001b[0;34m,\u001b[0m \u001b[0;34m**\u001b[0m\u001b[0mkwargs\u001b[0m\u001b[0;34m)\u001b[0m\u001b[0;34m\u001b[0m\u001b[0;34m\u001b[0m\u001b[0m\n\u001b[0m\u001b[1;32m     64\u001b[0m \u001b[0;34m\u001b[0m\u001b[0m\n\u001b[1;32m     65\u001b[0m             \u001b[0;31m# extra_args > 0\u001b[0m\u001b[0;34m\u001b[0m\u001b[0;34m\u001b[0m\u001b[0;34m\u001b[0m\u001b[0m\n",
      "\u001b[0;32m~/.pyenv/versions/3.9.4/envs/mrp/lib/python3.9/site-packages/sklearn/metrics/_plot/confusion_matrix.py\u001b[0m in \u001b[0;36mplot_confusion_matrix\u001b[0;34m(estimator, X, y_true, labels, sample_weight, normalize, display_labels, include_values, xticks_rotation, values_format, cmap, ax, colorbar)\u001b[0m\n\u001b[1;32m    259\u001b[0m \u001b[0;34m\u001b[0m\u001b[0m\n\u001b[1;32m    260\u001b[0m     \u001b[0;32mif\u001b[0m \u001b[0;32mnot\u001b[0m \u001b[0mis_classifier\u001b[0m\u001b[0;34m(\u001b[0m\u001b[0mestimator\u001b[0m\u001b[0;34m)\u001b[0m\u001b[0;34m:\u001b[0m\u001b[0;34m\u001b[0m\u001b[0;34m\u001b[0m\u001b[0m\n\u001b[0;32m--> 261\u001b[0;31m         \u001b[0;32mraise\u001b[0m \u001b[0mValueError\u001b[0m\u001b[0;34m(\u001b[0m\u001b[0;34m\"plot_confusion_matrix only supports classifiers\"\u001b[0m\u001b[0;34m)\u001b[0m\u001b[0;34m\u001b[0m\u001b[0;34m\u001b[0m\u001b[0m\n\u001b[0m\u001b[1;32m    262\u001b[0m \u001b[0;34m\u001b[0m\u001b[0m\n\u001b[1;32m    263\u001b[0m     \u001b[0my_pred\u001b[0m \u001b[0;34m=\u001b[0m \u001b[0mestimator\u001b[0m\u001b[0;34m.\u001b[0m\u001b[0mpredict\u001b[0m\u001b[0;34m(\u001b[0m\u001b[0mX\u001b[0m\u001b[0;34m)\u001b[0m\u001b[0;34m\u001b[0m\u001b[0;34m\u001b[0m\u001b[0m\n",
      "\u001b[0;31mValueError\u001b[0m: plot_confusion_matrix only supports classifiers"
     ]
    }
   ],
   "source": [
    "plot_confusion_matrix(confusion_matrix(df.sci_sentence_style_svm, df.sci_pred_label),df.sci_sentence_style_svm, df.sci_pred_label)"
   ]
  },
  {
   "cell_type": "code",
   "execution_count": 48,
   "id": "0591fc7b-2c03-400b-ab72-16f6b62d8d1d",
   "metadata": {},
   "outputs": [
    {
     "data": {
      "text/plain": [
       "<seaborn.axisgrid.FacetGrid at 0x124d79df0>"
      ]
     },
     "execution_count": 48,
     "metadata": {},
     "output_type": "execute_result"
    },
    {
     "data": {
      "image/png": "[encoded data removed]",
      "text/plain": [
       "<Figure size 360x360 with 1 Axes>"
      ]
     },
     "metadata": {},
     "output_type": "display_data"
    }
   ],
   "source": [
    "sns.displot(df, x=\"sci_prob1\", kind=\"kde\")"
   ]
  },
  {
   "cell_type": "code",
   "execution_count": null,
   "id": "5da78be8-206e-4a40-a18c-8920f7a85b13",
   "metadata": {},
   "outputs": [],
   "source": []
  }
 ],
 "metadata": {
  "kernelspec": {
   "display_name": "Python 3",
   "language": "python",
   "name": "python3"
  },
  "language_info": {
   "codemirror_mode": {
    "name": "ipython",
    "version": 3
   },
   "file_extension": ".py",
   "mimetype": "text/x-python",
   "name": "python",
   "nbconvert_exporter": "python",
   "pygments_lexer": "ipython3",
   "version": "3.9.4"
  }
 },
 "nbformat": 4,
 "nbformat_minor": 5
}
