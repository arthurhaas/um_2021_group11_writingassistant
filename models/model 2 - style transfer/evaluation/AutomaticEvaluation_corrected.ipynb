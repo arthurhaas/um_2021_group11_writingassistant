{
 "cells": [
  {
   "cell_type": "code",
   "execution_count": null,
   "metadata": {
    "colab": {
     "base_uri": "https://localhost:8080/"
    },
    "id": "hJ4ne0SP-MCr",
    "outputId": "446d6f0f-bed2-41c1-a20c-e057b70073f3"
   },
   "outputs": [
    {
     "name": "stdout",
     "output_type": "stream",
     "text": [
      "Mounted at /content/gdrive/\n"
     ]
    }
   ],
   "source": [
    "#from google.colab import drive\n",
    "#drive.mount('/content/gdrive/')"
   ]
  },
  {
   "cell_type": "markdown",
   "metadata": {
    "id": "-9SP-ntQ-ndp"
   },
   "source": [
    "# Setup"
   ]
  },
  {
   "cell_type": "code",
   "execution_count": null,
   "metadata": {
    "colab": {
     "base_uri": "https://localhost:8080/"
    },
    "id": "zrBV6pcb-Sxa",
    "outputId": "9e2930a2-cddc-41f3-9044-4e22d3a97651"
   },
   "outputs": [
    {
     "name": "stderr",
     "output_type": "stream",
     "text": [
      "/usr/local/lib/python3.7/dist-packages/ipykernel_launcher.py:15: FutureWarning: Passing a negative integer is deprecated in version 1.0 and will not be supported in future version. Instead, use None to not limit the column width.\n",
      "  from ipykernel import kernelapp as app\n"
     ]
    }
   ],
   "source": [
    "import os\n",
    "import pickle\n",
    "import tqdm\n",
    "import seaborn as sns\n",
    "import numpy as np\n",
    "import matplotlib.pyplot as plt\n",
    "import warnings\n",
    "import pandas as pd\n",
    "import statistics\n",
    "import string\n",
    "from sklearn.metrics import confusion_matrix, ConfusionMatrixDisplay\n",
    "\n",
    "\n",
    "#warnings.simplefilter(action='ignore', category=FutureWarning)\n",
    "pd.set_option('display.max_colwidth', -1)"
   ]
  },
  {
   "cell_type": "markdown",
   "metadata": {
    "id": "HHCJH4XcNVbN"
   },
   "source": [
    "## Functioanlity for later Analysis"
   ]
  },
  {
   "cell_type": "code",
   "execution_count": null,
   "metadata": {
    "id": "cb6rAvAMJnMJ"
   },
   "outputs": [],
   "source": [
    "def show_confusion_matrix(confusion_matrix, names = ['Non-Sci', 'Scientifc'], top_only = False):\n",
    "  if top_only:\n",
    "    confusion_df = pd.DataFrame(confusion_matrix[0,:].reshape(1,2), index=[names[0]],columns=names)\n",
    "  else:\n",
    "    confusion_df = pd.DataFrame(confusion_matrix, index=names,columns=names)\n",
    "  plt.figure(figsize=(5,5))\n",
    "  sns.heatmap(confusion_df,annot=True,annot_kws={\"size\": 12},cbar=False, square=True,fmt='.2f', cmap = 'cividis')\n",
    "  plt.ylabel(r'Input Prediction',fontsize=14)\n",
    "  plt.xlabel(r'Output Prediction',fontsize=14)\n",
    "  plt.tick_params(labelsize=12)\n",
    "  plt.show()\n",
    "\n",
    "\n",
    "def num_transfered(df, classifier = 'roberta', display_cm = False, top_only = False):\n",
    "\n",
    "  cache = df[[f'input_{classifier}_label', f'output_{classifier}_label']].sum(axis = 0)\n",
    "  print(cache)\n",
    "\n",
    "  if display_cm:\n",
    "    cm = confusion_matrix(df[f'input_{classifier}_label'], df[f'output_{classifier}_label'], normalize='true')\n",
    "    show_confusion_matrix(cm, top_only=top_only)\n",
    "    #disp = ConfusionMatrixDisplay(cm, display_labels=['Non-Sci', 'Sci'])\n",
    "    #disp.plot(values_format= '.2g', cmap = 'cividis')\n",
    "    #plt.show()\n",
    "\n",
    "  if classifier == 'svm':\n",
    "    ratio = cache[f'output_{classifier}_label']/cache[f'input_{classifier}_label'] \n",
    "    print(f'Ratio: {ratio:.2f}')\n",
    "\n",
    "  print()\n",
    "\n",
    "\n",
    "def analysis(df, classifier = 'roberta', display_cm = False, top_only = False):\n",
    "  print(f'Using: {classifier}')\n",
    "  print('All sentences: ')\n",
    "  num_transfered(df=df, classifier=classifier, display_cm=display_cm, top_only= top_only)\n",
    "\n",
    "  for key in set(df.source.to_list()):\n",
    "    print(f'Considering only sentences from: {key}')\n",
    "    df_subset = df[df.source == key]\n",
    "    num_transfered(df=df_subset, classifier=classifier, display_cm=display_cm, top_only=top_only)\n",
    "\n",
    "def prob_diff(df):\n",
    "\n",
    "  diff = {}\n",
    "  diff['all'] = df['output_roberta_prob']-df['input_roberta_prob']\n",
    "  \n",
    "  for key in set(df.source.to_list()):\n",
    "    print(f'Considering only sentences from: {key}')\n",
    "    df_subset = df[df.source == key]\n",
    "    diff[key] = df_subset['output_roberta_prob']-df_subset['input_roberta_prob']\n",
    "    \n",
    "  fig, ax = plt.subplots(1,1)\n",
    "  ax.hist([x for _,x in diff.items()], label =[key for key,_ in diff.items()], density = True, bins = 20)\n",
    "  ax.legend()\n",
    "  plt.show()\n",
    "\n",
    "  for key, x in diff.items():\n",
    "    print()\n",
    "    print(f'{key}: mean:{np.mean(x):.2f}, (std: {np.std(x):.2f}) ')\n",
    "\n"
   ]
  },
  {
   "cell_type": "markdown",
   "metadata": {
    "id": "2-j5HxpG-o8r"
   },
   "source": [
    "# Loading Data"
   ]
  },
  {
   "cell_type": "code",
   "execution_count": null,
   "metadata": {
    "id": "nF5XAE1c-maE"
   },
   "outputs": [],
   "source": [
    "data_path = '/models/model 2 - style transfer/evaluation/data/'\n",
    "\n",
    "# Model1: T5 from Phase2\n",
    "data_T5_p2 = pd.read_csv(data_path+'T5_phase2_combined_corrected.csv')\n",
    "\n",
    "# Model2: T5 from Phase3\n",
    "data_T5_p3 = pd.read_csv(data_path+'T5_phase3_combined_corrected.csv')\n",
    "\n",
    "# Model3: GPT from Phase3\n",
    "data_GPT2_p3 = pd.read_csv(data_path+'GPT2_phase3_combined_corrected.csv')\n",
    "\n",
    "# Easier Access with dict\n",
    "data ={'T5_p2': data_T5_p2, 'T5_p3': data_T5_p3, 'GPT2': data_GPT2_p3}"
   ]
  },
  {
   "cell_type": "code",
   "execution_count": null,
   "metadata": {
    "id": "twAMBY24_Vnb"
   },
   "outputs": [],
   "source": [
    "data_T5_p2.head()"
   ]
  },
  {
   "cell_type": "code",
   "execution_count": null,
   "metadata": {
    "id": "dmufD14h_cqH"
   },
   "outputs": [],
   "source": [
    "data_T5_p3.head()"
   ]
  },
  {
   "cell_type": "code",
   "execution_count": null,
   "metadata": {
    "id": "KKJWeiom_ebX"
   },
   "outputs": [],
   "source": [
    "data_GPT2_p3.head()"
   ]
  },
  {
   "cell_type": "markdown",
   "metadata": {
    "id": "PMl1szpi_k5u"
   },
   "source": [
    "# Transfer Success by Model and CLF"
   ]
  },
  {
   "cell_type": "markdown",
   "metadata": {
    "id": "x0Tt7PMN_q4F"
   },
   "source": [
    "## SVM\n",
    "\n",
    "We evaluate the style transfer success by using confusion matrices. This way, one can see the transfer of labels between model input and output.\n",
    "\n",
    "This done for each model:\n",
    "  - first for all test sentences\n",
    "  - then for test sentences according to each data source (medium, stduent reports, accepted papers)"
   ]
  },
  {
   "cell_type": "code",
   "execution_count": null,
   "metadata": {
    "colab": {
     "base_uri": "https://localhost:8080/",
     "height": 1000
    },
    "id": "B4QBom5QEb1c",
    "outputId": "e961c192-5ca9-405c-fc6c-310d826598a2"
   },
   "outputs": [
    {
     "name": "stdout",
     "output_type": "stream",
     "text": [
      "Analysing: T5_p2\n",
      "Using: svm\n",
      "All sentences: \n",
      "input_svm_label     1167\n",
      "output_svm_label    1336\n",
      "dtype: int64\n"
     ]
    },
    {
     "data": {
      "image/png": "[encoded data removed]",
      "text/plain": [
       "<Figure size 360x360 with 1 Axes>"
      ]
     },
     "metadata": {
      "needs_background": "light",
      "tags": []
     },
     "output_type": "display_data"
    },
    {
     "name": "stdout",
     "output_type": "stream",
     "text": [
      "Ratio: 1.14\n",
      "\n",
      "Considering only sentences from: cs_conf\n",
      "input_svm_label     447\n",
      "output_svm_label    495\n",
      "dtype: int64\n"
     ]
    },
    {
     "data": {
      "image/png": "[encoded data removed]",
      "text/plain": [
       "<Figure size 360x360 with 1 Axes>"
      ]
     },
     "metadata": {
      "needs_background": "light",
      "tags": []
     },
     "output_type": "display_data"
    },
    {
     "name": "stdout",
     "output_type": "stream",
     "text": [
      "Ratio: 1.11\n",
      "\n",
      "Considering only sentences from: student\n",
      "input_svm_label     396\n",
      "output_svm_label    467\n",
      "dtype: int64\n"
     ]
    },
    {
     "data": {
      "image/png": "[encoded data removed]",
      "text/plain": [
       "<Figure size 360x360 with 1 Axes>"
      ]
     },
     "metadata": {
      "needs_background": "light",
      "tags": []
     },
     "output_type": "display_data"
    },
    {
     "name": "stdout",
     "output_type": "stream",
     "text": [
      "Ratio: 1.18\n",
      "\n",
      "Considering only sentences from: medium\n",
      "input_svm_label     324\n",
      "output_svm_label    374\n",
      "dtype: int64\n"
     ]
    },
    {
     "data": {
      "image/png": "[encoded data removed]",
      "text/plain": [
       "<Figure size 360x360 with 1 Axes>"
      ]
     },
     "metadata": {
      "needs_background": "light",
      "tags": []
     },
     "output_type": "display_data"
    },
    {
     "name": "stdout",
     "output_type": "stream",
     "text": [
      "Ratio: 1.15\n",
      "\n",
      "\n",
      "Analysing: T5_p3\n",
      "Using: svm\n",
      "All sentences: \n",
      "input_svm_label     1167\n",
      "output_svm_label    1190\n",
      "dtype: int64\n"
     ]
    },
    {
     "data": {
      "image/png": "[encoded data removed]",
      "text/plain": [
       "<Figure size 360x360 with 1 Axes>"
      ]
     },
     "metadata": {
      "needs_background": "light",
      "tags": []
     },
     "output_type": "display_data"
    },
    {
     "name": "stdout",
     "output_type": "stream",
     "text": [
      "Ratio: 1.02\n",
      "\n",
      "Considering only sentences from: cs_conf\n",
      "input_svm_label     447\n",
      "output_svm_label    428\n",
      "dtype: int64\n"
     ]
    },
    {
     "data": {
      "image/png": "[encoded data removed]",
      "text/plain": [
       "<Figure size 360x360 with 1 Axes>"
      ]
     },
     "metadata": {
      "needs_background": "light",
      "tags": []
     },
     "output_type": "display_data"
    },
    {
     "name": "stdout",
     "output_type": "stream",
     "text": [
      "Ratio: 0.96\n",
      "\n",
      "Considering only sentences from: student\n",
      "input_svm_label     396\n",
      "output_svm_label    401\n",
      "dtype: int64\n"
     ]
    },
    {
     "data": {
      "image/png": "[encoded data removed]",
      "text/plain": [
       "<Figure size 360x360 with 1 Axes>"
      ]
     },
     "metadata": {
      "needs_background": "light",
      "tags": []
     },
     "output_type": "display_data"
    },
    {
     "name": "stdout",
     "output_type": "stream",
     "text": [
      "Ratio: 1.01\n",
      "\n",
      "Considering only sentences from: medium\n",
      "input_svm_label     324\n",
      "output_svm_label    361\n",
      "dtype: int64\n"
     ]
    },
    {
     "data": {
      "image/png": "[encoded data removed]",
      "text/plain": [
       "<Figure size 360x360 with 1 Axes>"
      ]
     },
     "metadata": {
      "needs_background": "light",
      "tags": []
     },
     "output_type": "display_data"
    },
    {
     "name": "stdout",
     "output_type": "stream",
     "text": [
      "Ratio: 1.11\n",
      "\n",
      "\n",
      "Analysing: GPT2\n",
      "Using: svm\n",
      "All sentences: \n",
      "input_svm_label     1167\n",
      "output_svm_label    1096\n",
      "dtype: int64\n"
     ]
    },
    {
     "data": {
      "image/png": "[encoded data removed]",
      "text/plain": [
       "<Figure size 360x360 with 1 Axes>"
      ]
     },
     "metadata": {
      "needs_background": "light",
      "tags": []
     },
     "output_type": "display_data"
    },
    {
     "name": "stdout",
     "output_type": "stream",
     "text": [
      "Ratio: 0.94\n",
      "\n",
      "Considering only sentences from: cs_conf\n",
      "input_svm_label     447\n",
      "output_svm_label    451\n",
      "dtype: int64\n"
     ]
    },
    {
     "data": {
      "image/png": "[encoded data removed]",
      "text/plain": [
       "<Figure size 360x360 with 1 Axes>"
      ]
     },
     "metadata": {
      "needs_background": "light",
      "tags": []
     },
     "output_type": "display_data"
    },
    {
     "name": "stdout",
     "output_type": "stream",
     "text": [
      "Ratio: 1.01\n",
      "\n",
      "Considering only sentences from: student\n",
      "input_svm_label     396\n",
      "output_svm_label    364\n",
      "dtype: int64\n"
     ]
    },
    {
     "data": {
      "image/png": "[encoded data removed]",
      "text/plain": [
       "<Figure size 360x360 with 1 Axes>"
      ]
     },
     "metadata": {
      "needs_background": "light",
      "tags": []
     },
     "output_type": "display_data"
    },
    {
     "name": "stdout",
     "output_type": "stream",
     "text": [
      "Ratio: 0.92\n",
      "\n",
      "Considering only sentences from: medium\n",
      "input_svm_label     324\n",
      "output_svm_label    281\n",
      "dtype: int64\n"
     ]
    },
    {
     "data": {
      "image/png": "[encoded data removed]",
      "text/plain": [
       "<Figure size 360x360 with 1 Axes>"
      ]
     },
     "metadata": {
      "needs_background": "light",
      "tags": []
     },
     "output_type": "display_data"
    },
    {
     "name": "stdout",
     "output_type": "stream",
     "text": [
      "Ratio: 0.87\n",
      "\n",
      "\n"
     ]
    }
   ],
   "source": [
    "for key, df in data.items():\n",
    "  print(f'Analysing: {key}')\n",
    "  analysis(df, classifier='svm', display_cm=True)\n",
    "  print()"
   ]
  },
  {
   "cell_type": "markdown",
   "metadata": {
    "id": "Ktl3JQ45NzBN"
   },
   "source": [
    "**Some imporved sentences according to SVM**"
   ]
  },
  {
   "cell_type": "code",
   "execution_count": null,
   "metadata": {
    "colab": {
     "base_uri": "https://localhost:8080/",
     "height": 980
    },
    "id": "Zj5RCfp_Nxo0",
    "outputId": "b2c0b617-d692-4111-9b40-ffb7f1f1b260"
   },
   "outputs": [
    {
     "name": "stdout",
     "output_type": "stream",
     "text": [
      "463\n"
     ]
    },
    {
     "name": "stderr",
     "output_type": "stream",
     "text": [
      "/usr/local/lib/python3.7/dist-packages/pandas/core/computation/expressions.py:204: UserWarning: evaluating in Python space because the '*' operator is not supported by numexpr for the bool dtype, use '&' instead\n",
      "  f\"evaluating in Python space because the {repr(op_str)} \"\n"
     ]
    },
    {
     "data": {
      "text/html": [
       "<div>\n",
       "<style scoped>\n",
       "    .dataframe tbody tr th:only-of-type {\n",
       "        vertical-align: middle;\n",
       "    }\n",
       "\n",
       "    .dataframe tbody tr th {\n",
       "        vertical-align: top;\n",
       "    }\n",
       "\n",
       "    .dataframe thead th {\n",
       "        text-align: right;\n",
       "    }\n",
       "</style>\n",
       "<table border=\"1\" class=\"dataframe\">\n",
       "  <thead>\n",
       "    <tr style=\"text-align: right;\">\n",
       "      <th></th>\n",
       "      <th>Unnamed: 0</th>\n",
       "      <th>source</th>\n",
       "      <th>input</th>\n",
       "      <th>output</th>\n",
       "      <th>input_masked</th>\n",
       "      <th>output_masked</th>\n",
       "      <th>input_roberta_label</th>\n",
       "      <th>input_roberta_prob</th>\n",
       "      <th>input_svm_label</th>\n",
       "      <th>output_roberta_label</th>\n",
       "      <th>output_roberta_prob</th>\n",
       "      <th>output_svm_label</th>\n",
       "      <th>MoverScore</th>\n",
       "      <th>BLEU</th>\n",
       "    </tr>\n",
       "  </thead>\n",
       "  <tbody>\n",
       "    <tr>\n",
       "      <th>5</th>\n",
       "      <td>5</td>\n",
       "      <td>cs_conf</td>\n",
       "      <td>a targeted attack is the same as random removal, because the degree distribution is a delta function.</td>\n",
       "      <td>targetted attack and random removal, since the degree distribution is a delta function.</td>\n",
       "      <td>a targeted &lt;unk&gt; is the same as &lt;unk&gt; removal, because the degree &lt;unk&gt; is a delta &lt;unk&gt;.</td>\n",
       "      <td>targetted attack and &lt;unk&gt; removal, since the degree distribution is a delta &lt;unk&gt;.</td>\n",
       "      <td>0</td>\n",
       "      <td>0.378312</td>\n",
       "      <td>0</td>\n",
       "      <td>0</td>\n",
       "      <td>0.143292</td>\n",
       "      <td>1</td>\n",
       "      <td>0.668293</td>\n",
       "      <td>0.392892</td>\n",
       "    </tr>\n",
       "    <tr>\n",
       "      <th>6</th>\n",
       "      <td>6</td>\n",
       "      <td>cs_conf</td>\n",
       "      <td>in the ideal data case, we can see that the sequential methods outperform all the other algorithms in terms of runtime.</td>\n",
       "      <td>in the ideal case, all other algorithms are slightly longer than the sequential method.</td>\n",
       "      <td>in the ideal &lt;unk&gt; &lt;unk&gt;, we can see that the sequential &lt;unk&gt; outperform all the other &lt;unk&gt; in &lt;unk&gt; of runtime.</td>\n",
       "      <td>in the ideal &lt;unk&gt;, all other &lt;unk&gt; are slightly longer than the sequential &lt;unk&gt;.</td>\n",
       "      <td>0</td>\n",
       "      <td>0.485732</td>\n",
       "      <td>0</td>\n",
       "      <td>1</td>\n",
       "      <td>0.944336</td>\n",
       "      <td>1</td>\n",
       "      <td>0.488020</td>\n",
       "      <td>0.146112</td>\n",
       "    </tr>\n",
       "    <tr>\n",
       "      <th>23</th>\n",
       "      <td>23</td>\n",
       "      <td>cs_conf</td>\n",
       "      <td>the proxies were installed just as they exist on the production memento machines.</td>\n",
       "      <td>the same replica was installed on each machine.</td>\n",
       "      <td>the proxies were installed just as they exist on the production memento &lt;unk&gt;.</td>\n",
       "      <td>the same replica was installed on each &lt;unk&gt;.</td>\n",
       "      <td>0</td>\n",
       "      <td>0.357642</td>\n",
       "      <td>0</td>\n",
       "      <td>0</td>\n",
       "      <td>0.481094</td>\n",
       "      <td>1</td>\n",
       "      <td>0.342163</td>\n",
       "      <td>0.139604</td>\n",
       "    </tr>\n",
       "    <tr>\n",
       "      <th>24</th>\n",
       "      <td>24</td>\n",
       "      <td>cs_conf</td>\n",
       "      <td>before we proceed with the argument, some comments are in order.</td>\n",
       "      <td>before proceeding with the argument, a few remarks are a good idea.</td>\n",
       "      <td>before we proceed with the &lt;unk&gt;, some comments are in &lt;unk&gt;.</td>\n",
       "      <td>before proceeding with the argument, a few remarks are a good idea.</td>\n",
       "      <td>0</td>\n",
       "      <td>0.436172</td>\n",
       "      <td>0</td>\n",
       "      <td>0</td>\n",
       "      <td>0.003290</td>\n",
       "      <td>1</td>\n",
       "      <td>0.677993</td>\n",
       "      <td>0.197174</td>\n",
       "    </tr>\n",
       "    <tr>\n",
       "      <th>28</th>\n",
       "      <td>28</td>\n",
       "      <td>cs_conf</td>\n",
       "      <td>we will start with some rudimentary examples and gradually build up a toolkit for general networks.</td>\n",
       "      <td>we're going to start with basic examples and build gradually a comprehensive toolkit for general networks.</td>\n",
       "      <td>we will start with some rudimentary &lt;unk&gt; and gradually build up a toolkit for general &lt;unk&gt;.</td>\n",
       "      <td>we're going to start with basic &lt;unk&gt; and build gradually a comprehensive toolkit for general &lt;unk&gt;.</td>\n",
       "      <td>0</td>\n",
       "      <td>0.274956</td>\n",
       "      <td>0</td>\n",
       "      <td>0</td>\n",
       "      <td>0.065296</td>\n",
       "      <td>1</td>\n",
       "      <td>0.747952</td>\n",
       "      <td>0.214091</td>\n",
       "    </tr>\n",
       "  </tbody>\n",
       "</table>\n",
       "</div>"
      ],
      "text/plain": [
       "    Unnamed: 0   source  ... MoverScore      BLEU\n",
       "5   5           cs_conf  ...  0.668293   0.392892\n",
       "6   6           cs_conf  ...  0.488020   0.146112\n",
       "23  23          cs_conf  ...  0.342163   0.139604\n",
       "24  24          cs_conf  ...  0.677993   0.197174\n",
       "28  28          cs_conf  ...  0.747952   0.214091\n",
       "\n",
       "[5 rows x 14 columns]"
      ]
     },
     "execution_count": 9,
     "metadata": {
      "tags": []
     },
     "output_type": "execute_result"
    }
   ],
   "source": [
    "cond = (data_T5_p2['output_svm_label']==1)*(data_T5_p2['input_svm_label']==0)\n",
    "print(len(data_T5_p2[cond]))\n",
    "data_T5_p2[cond].head()"
   ]
  },
  {
   "cell_type": "markdown",
   "metadata": {
    "id": "Nd1D6FSSOagm"
   },
   "source": [
    "**Some sentences that impair according to SVM**"
   ]
  },
  {
   "cell_type": "code",
   "execution_count": null,
   "metadata": {
    "colab": {
     "base_uri": "https://localhost:8080/",
     "height": 831
    },
    "id": "DlO-rrYWOagx",
    "outputId": "2f2c76a4-de4b-4b76-a998-528ae07e3698"
   },
   "outputs": [
    {
     "name": "stdout",
     "output_type": "stream",
     "text": [
      "294\n"
     ]
    },
    {
     "name": "stderr",
     "output_type": "stream",
     "text": [
      "/usr/local/lib/python3.7/dist-packages/pandas/core/computation/expressions.py:204: UserWarning: evaluating in Python space because the '*' operator is not supported by numexpr for the bool dtype, use '&' instead\n",
      "  f\"evaluating in Python space because the {repr(op_str)} \"\n"
     ]
    },
    {
     "data": {
      "text/html": [
       "<div>\n",
       "<style scoped>\n",
       "    .dataframe tbody tr th:only-of-type {\n",
       "        vertical-align: middle;\n",
       "    }\n",
       "\n",
       "    .dataframe tbody tr th {\n",
       "        vertical-align: top;\n",
       "    }\n",
       "\n",
       "    .dataframe thead th {\n",
       "        text-align: right;\n",
       "    }\n",
       "</style>\n",
       "<table border=\"1\" class=\"dataframe\">\n",
       "  <thead>\n",
       "    <tr style=\"text-align: right;\">\n",
       "      <th></th>\n",
       "      <th>Unnamed: 0</th>\n",
       "      <th>source</th>\n",
       "      <th>input</th>\n",
       "      <th>output</th>\n",
       "      <th>input_masked</th>\n",
       "      <th>output_masked</th>\n",
       "      <th>input_roberta_label</th>\n",
       "      <th>input_roberta_prob</th>\n",
       "      <th>input_svm_label</th>\n",
       "      <th>output_roberta_label</th>\n",
       "      <th>output_roberta_prob</th>\n",
       "      <th>output_svm_label</th>\n",
       "      <th>MoverScore</th>\n",
       "      <th>BLEU</th>\n",
       "    </tr>\n",
       "  </thead>\n",
       "  <tbody>\n",
       "    <tr>\n",
       "      <th>8</th>\n",
       "      <td>8</td>\n",
       "      <td>cs_conf</td>\n",
       "      <td>the unitbox demonstrates not only more accurate box prediction, but also faster training convergence.</td>\n",
       "      <td>the unitbox not only predicts boxes with more accuracy, but also has a faster convergence in training.</td>\n",
       "      <td>the unitbox demonstrates not only more accurate box &lt;unk&gt;, but also faster training &lt;unk&gt;.</td>\n",
       "      <td>the unitbox not only predicts boxes with more &lt;unk&gt;, but also has a faster convergence in &lt;unk&gt;.</td>\n",
       "      <td>0</td>\n",
       "      <td>0.298025</td>\n",
       "      <td>1</td>\n",
       "      <td>0</td>\n",
       "      <td>0.138430</td>\n",
       "      <td>0</td>\n",
       "      <td>0.652697</td>\n",
       "      <td>0.280022</td>\n",
       "    </tr>\n",
       "    <tr>\n",
       "      <th>25</th>\n",
       "      <td>25</td>\n",
       "      <td>cs_conf</td>\n",
       "      <td>more than two decades have passed and the question still remains open.</td>\n",
       "      <td>more than 20 years have passed since its introduction and it remains a question.</td>\n",
       "      <td>more than two decades have passed and the &lt;unk&gt; still remains open.</td>\n",
       "      <td>more than 20 years have passed since its introduction and it remains a &lt;unk&gt;.</td>\n",
       "      <td>0</td>\n",
       "      <td>0.288803</td>\n",
       "      <td>1</td>\n",
       "      <td>0</td>\n",
       "      <td>0.122999</td>\n",
       "      <td>0</td>\n",
       "      <td>0.648586</td>\n",
       "      <td>0.252039</td>\n",
       "    </tr>\n",
       "    <tr>\n",
       "      <th>27</th>\n",
       "      <td>27</td>\n",
       "      <td>cs_conf</td>\n",
       "      <td>multicast, or transmit different portions of its packets to different destinations, viz.</td>\n",
       "      <td>in different destinations, like, among the many aforementioned destinations, the multicast or multi-channel broadcast is possible.</td>\n",
       "      <td>multicast, or transmit different portions of its &lt;unk&gt; to different &lt;unk&gt;, viz.</td>\n",
       "      <td>in different destinations, like, among the many aforementioned destinations, the multicast or multi-channel broadcast is possible.</td>\n",
       "      <td>0</td>\n",
       "      <td>0.495215</td>\n",
       "      <td>1</td>\n",
       "      <td>1</td>\n",
       "      <td>0.707496</td>\n",
       "      <td>0</td>\n",
       "      <td>0.367834</td>\n",
       "      <td>0.201226</td>\n",
       "    </tr>\n",
       "    <tr>\n",
       "      <th>43</th>\n",
       "      <td>43</td>\n",
       "      <td>cs_conf</td>\n",
       "      <td>a pure node is a node not holding the message or any of its replicas.</td>\n",
       "      <td>a pure node is a node which does not contain the message or copy it.</td>\n",
       "      <td>a pure &lt;unk&gt; is a &lt;unk&gt; not holding the &lt;unk&gt; or any of its replicas.</td>\n",
       "      <td>a pure &lt;unk&gt; is a &lt;unk&gt; which does not contain the message or copy it.</td>\n",
       "      <td>0</td>\n",
       "      <td>0.238621</td>\n",
       "      <td>1</td>\n",
       "      <td>0</td>\n",
       "      <td>0.025978</td>\n",
       "      <td>0</td>\n",
       "      <td>0.707677</td>\n",
       "      <td>0.423118</td>\n",
       "    </tr>\n",
       "    <tr>\n",
       "      <th>61</th>\n",
       "      <td>61</td>\n",
       "      <td>cs_conf</td>\n",
       "      <td>inference under uncertainty is a common problem in the real world.</td>\n",
       "      <td>in real world, uncertainty affects us all.</td>\n",
       "      <td>&lt;unk&gt; under &lt;unk&gt; is a common &lt;unk&gt; in the real world.</td>\n",
       "      <td>in real world, uncertainty affects us all.</td>\n",
       "      <td>0</td>\n",
       "      <td>0.299803</td>\n",
       "      <td>1</td>\n",
       "      <td>0</td>\n",
       "      <td>0.003334</td>\n",
       "      <td>0</td>\n",
       "      <td>0.442295</td>\n",
       "      <td>0.139673</td>\n",
       "    </tr>\n",
       "  </tbody>\n",
       "</table>\n",
       "</div>"
      ],
      "text/plain": [
       "    Unnamed: 0   source  ... MoverScore      BLEU\n",
       "8   8           cs_conf  ...  0.652697   0.280022\n",
       "25  25          cs_conf  ...  0.648586   0.252039\n",
       "27  27          cs_conf  ...  0.367834   0.201226\n",
       "43  43          cs_conf  ...  0.707677   0.423118\n",
       "61  61          cs_conf  ...  0.442295   0.139673\n",
       "\n",
       "[5 rows x 14 columns]"
      ]
     },
     "execution_count": 10,
     "metadata": {
      "tags": []
     },
     "output_type": "execute_result"
    }
   ],
   "source": [
    "cond = (data_T5_p2['output_svm_label']==0)*(data_T5_p2['input_svm_label']==1)\n",
    "print(len(data_T5_p2[cond]))\n",
    "data_T5_p2[cond].head()"
   ]
  },
  {
   "cell_type": "markdown",
   "metadata": {
    "id": "4JWDGI-mEVkF"
   },
   "source": [
    "## RoBERTa\n",
    "\n",
    "We evaluate the style transfer success by using confusion matrices. This way, one can see the transfer of labels between model input and output.\n",
    "Note that hear, only sentencs were considered that were labelled as non-scientific by the RoBERTa model. An additional study can be found at the end of this notebook.\n",
    "\n",
    "This done for each model:\n",
    "  - first for all test sentences\n",
    "  - then for test sentences according to each data source (medium, stduent reports, accepted papers)\n"
   ]
  },
  {
   "cell_type": "code",
   "execution_count": null,
   "metadata": {
    "colab": {
     "base_uri": "https://localhost:8080/",
     "height": 1000
    },
    "id": "5S8qYeEVEqNr",
    "outputId": "0209dcce-7157-479f-b641-d3c2bbba588f"
   },
   "outputs": [
    {
     "name": "stdout",
     "output_type": "stream",
     "text": [
      "Analysing: T5_p2\n",
      "Using: roberta\n",
      "All sentences: \n",
      "input_roberta_label     0  \n",
      "output_roberta_label    557\n",
      "dtype: int64\n"
     ]
    },
    {
     "data": {
      "image/png": "[encoded data removed]",
      "text/plain": [
       "<Figure size 360x360 with 1 Axes>"
      ]
     },
     "metadata": {
      "needs_background": "light",
      "tags": []
     },
     "output_type": "display_data"
    },
    {
     "name": "stdout",
     "output_type": "stream",
     "text": [
      "\n",
      "Considering only sentences from: cs_conf\n",
      "input_roberta_label     0  \n",
      "output_roberta_label    202\n",
      "dtype: int64\n"
     ]
    },
    {
     "data": {
      "image/png": "[encoded data removed]",
      "text/plain": [
       "<Figure size 360x360 with 1 Axes>"
      ]
     },
     "metadata": {
      "needs_background": "light",
      "tags": []
     },
     "output_type": "display_data"
    },
    {
     "name": "stdout",
     "output_type": "stream",
     "text": [
      "\n",
      "Considering only sentences from: student\n",
      "input_roberta_label     0  \n",
      "output_roberta_label    261\n",
      "dtype: int64\n"
     ]
    },
    {
     "data": {
      "image/png": "[encoded data removed]",
      "text/plain": [
       "<Figure size 360x360 with 1 Axes>"
      ]
     },
     "metadata": {
      "needs_background": "light",
      "tags": []
     },
     "output_type": "display_data"
    },
    {
     "name": "stdout",
     "output_type": "stream",
     "text": [
      "\n",
      "Considering only sentences from: medium\n",
      "input_roberta_label     0 \n",
      "output_roberta_label    94\n",
      "dtype: int64\n"
     ]
    },
    {
     "data": {
      "image/png": "[encoded data removed]",
      "text/plain": [
       "<Figure size 360x360 with 1 Axes>"
      ]
     },
     "metadata": {
      "needs_background": "light",
      "tags": []
     },
     "output_type": "display_data"
    },
    {
     "name": "stdout",
     "output_type": "stream",
     "text": [
      "\n",
      "\n",
      "Analysing: T5_p3\n",
      "Using: roberta\n",
      "All sentences: \n",
      "input_roberta_label     0   \n",
      "output_roberta_label    1013\n",
      "dtype: int64\n"
     ]
    },
    {
     "data": {
      "image/png": "[encoded data removed]",
      "text/plain": [
       "<Figure size 360x360 with 1 Axes>"
      ]
     },
     "metadata": {
      "needs_background": "light",
      "tags": []
     },
     "output_type": "display_data"
    },
    {
     "name": "stdout",
     "output_type": "stream",
     "text": [
      "\n",
      "Considering only sentences from: cs_conf\n",
      "input_roberta_label     0  \n",
      "output_roberta_label    351\n",
      "dtype: int64\n"
     ]
    },
    {
     "data": {
      "image/png": "[encoded data removed]",
      "text/plain": [
       "<Figure size 360x360 with 1 Axes>"
      ]
     },
     "metadata": {
      "needs_background": "light",
      "tags": []
     },
     "output_type": "display_data"
    },
    {
     "name": "stdout",
     "output_type": "stream",
     "text": [
      "\n",
      "Considering only sentences from: student\n",
      "input_roberta_label     0  \n",
      "output_roberta_label    437\n",
      "dtype: int64\n"
     ]
    },
    {
     "data": {
      "image/png": "[encoded data removed]",
      "text/plain": [
       "<Figure size 360x360 with 1 Axes>"
      ]
     },
     "metadata": {
      "needs_background": "light",
      "tags": []
     },
     "output_type": "display_data"
    },
    {
     "name": "stdout",
     "output_type": "stream",
     "text": [
      "\n",
      "Considering only sentences from: medium\n",
      "input_roberta_label     0  \n",
      "output_roberta_label    225\n",
      "dtype: int64\n"
     ]
    },
    {
     "data": {
      "image/png": "[encoded data removed]",
      "text/plain": [
       "<Figure size 360x360 with 1 Axes>"
      ]
     },
     "metadata": {
      "needs_background": "light",
      "tags": []
     },
     "output_type": "display_data"
    },
    {
     "name": "stdout",
     "output_type": "stream",
     "text": [
      "\n",
      "\n",
      "Analysing: GPT2\n",
      "Using: roberta\n",
      "All sentences: \n",
      "input_roberta_label     0  \n",
      "output_roberta_label    633\n",
      "dtype: int64\n"
     ]
    },
    {
     "data": {
      "image/png": "[encoded data removed]",
      "text/plain": [
       "<Figure size 360x360 with 1 Axes>"
      ]
     },
     "metadata": {
      "needs_background": "light",
      "tags": []
     },
     "output_type": "display_data"
    },
    {
     "name": "stdout",
     "output_type": "stream",
     "text": [
      "\n",
      "Considering only sentences from: cs_conf\n",
      "input_roberta_label     0  \n",
      "output_roberta_label    254\n",
      "dtype: int64\n"
     ]
    },
    {
     "data": {
      "image/png": "[encoded data removed]",
      "text/plain": [
       "<Figure size 360x360 with 1 Axes>"
      ]
     },
     "metadata": {
      "needs_background": "light",
      "tags": []
     },
     "output_type": "display_data"
    },
    {
     "name": "stdout",
     "output_type": "stream",
     "text": [
      "\n",
      "Considering only sentences from: student\n",
      "input_roberta_label     0  \n",
      "output_roberta_label    254\n",
      "dtype: int64\n"
     ]
    },
    {
     "data": {
      "image/png": "[encoded data removed]",
      "text/plain": [
       "<Figure size 360x360 with 1 Axes>"
      ]
     },
     "metadata": {
      "needs_background": "light",
      "tags": []
     },
     "output_type": "display_data"
    },
    {
     "name": "stdout",
     "output_type": "stream",
     "text": [
      "\n",
      "Considering only sentences from: medium\n",
      "input_roberta_label     0  \n",
      "output_roberta_label    125\n",
      "dtype: int64\n"
     ]
    },
    {
     "data": {
      "image/png": "[encoded data removed]",
      "text/plain": [
       "<Figure size 360x360 with 1 Axes>"
      ]
     },
     "metadata": {
      "needs_background": "light",
      "tags": []
     },
     "output_type": "display_data"
    },
    {
     "name": "stdout",
     "output_type": "stream",
     "text": [
      "\n",
      "\n"
     ]
    }
   ],
   "source": [
    "for key, df in data.items():\n",
    "  print(f'Analysing: {key}')\n",
    "  analysis(df, classifier='roberta', display_cm=True, top_only = True)\n",
    "  print()"
   ]
  },
  {
   "cell_type": "markdown",
   "metadata": {
    "id": "kNJDpib5OGYT"
   },
   "source": [
    "## Looking at the change of softmax probabilities regarding scientificity from model input to model output"
   ]
  },
  {
   "cell_type": "code",
   "execution_count": null,
   "metadata": {
    "colab": {
     "base_uri": "https://localhost:8080/",
     "height": 500
    },
    "id": "fSGBKRJSI5c8",
    "outputId": "8ddfb50f-5ce8-408f-9298-d153a20f5c8e"
   },
   "outputs": [
    {
     "name": "stdout",
     "output_type": "stream",
     "text": [
      "Considering only sentences from: cs_conf\n",
      "Considering only sentences from: student\n",
      "Considering only sentences from: medium\n"
     ]
    },
    {
     "name": "stderr",
     "output_type": "stream",
     "text": [
      "/usr/local/lib/python3.7/dist-packages/numpy/core/_asarray.py:83: VisibleDeprecationWarning: Creating an ndarray from ragged nested sequences (which is a list-or-tuple of lists-or-tuples-or ndarrays with different lengths or shapes) is deprecated. If you meant to do this, you must specify 'dtype=object' when creating the ndarray\n",
      "  return array(a, dtype, copy=False, order=order)\n"
     ]
    },
    {
     "data": {
      "image/png": "[encoded data removed]",
      "text/plain": [
       "<Figure size 432x288 with 1 Axes>"
      ]
     },
     "metadata": {
      "needs_background": "light",
      "tags": []
     },
     "output_type": "display_data"
    },
    {
     "name": "stdout",
     "output_type": "stream",
     "text": [
      "\n",
      "all: mean:0.08, (std: 0.29) \n",
      "\n",
      "cs_conf: mean:-0.01, (std: 0.30) \n",
      "\n",
      "student: mean:0.17, (std: 0.31) \n",
      "\n",
      "medium: mean:0.08, (std: 0.22) \n"
     ]
    }
   ],
   "source": [
    "prob_diff(df= data_T5_p2)"
   ]
  },
  {
   "cell_type": "code",
   "execution_count": null,
   "metadata": {
    "colab": {
     "base_uri": "https://localhost:8080/",
     "height": 501
    },
    "id": "8E4Vy6kvMAwP",
    "outputId": "0695e7da-acd5-4a6a-f3a5-63c24c541897"
   },
   "outputs": [
    {
     "name": "stdout",
     "output_type": "stream",
     "text": [
      "Considering only sentences from: cs_conf\n",
      "Considering only sentences from: student\n",
      "Considering only sentences from: medium\n"
     ]
    },
    {
     "name": "stderr",
     "output_type": "stream",
     "text": [
      "/usr/local/lib/python3.7/dist-packages/numpy/core/_asarray.py:83: VisibleDeprecationWarning: Creating an ndarray from ragged nested sequences (which is a list-or-tuple of lists-or-tuples-or ndarrays with different lengths or shapes) is deprecated. If you meant to do this, you must specify 'dtype=object' when creating the ndarray\n",
      "  return array(a, dtype, copy=False, order=order)\n"
     ]
    },
    {
     "data": {
      "image/png": "[encoded data removed]",
      "text/plain": [
       "<Figure size 432x288 with 1 Axes>"
      ]
     },
     "metadata": {
      "needs_background": "light",
      "tags": []
     },
     "output_type": "display_data"
    },
    {
     "name": "stdout",
     "output_type": "stream",
     "text": [
      "\n",
      "all: mean:0.22, (std: 0.35) \n",
      "\n",
      "cs_conf: mean:0.11, (std: 0.33) \n",
      "\n",
      "student: mean:0.33, (std: 0.35) \n",
      "\n",
      "medium: mean:0.21, (std: 0.33) \n"
     ]
    }
   ],
   "source": [
    "prob_diff(df= data_T5_p3)"
   ]
  },
  {
   "cell_type": "code",
   "execution_count": null,
   "metadata": {
    "colab": {
     "base_uri": "https://localhost:8080/",
     "height": 500
    },
    "id": "DNHe6471NSnP",
    "outputId": "fd413b36-1aa9-49cf-f7d6-808cc09c2e24"
   },
   "outputs": [
    {
     "name": "stdout",
     "output_type": "stream",
     "text": [
      "Considering only sentences from: cs_conf\n",
      "Considering only sentences from: student\n",
      "Considering only sentences from: medium\n"
     ]
    },
    {
     "name": "stderr",
     "output_type": "stream",
     "text": [
      "/usr/local/lib/python3.7/dist-packages/numpy/core/_asarray.py:83: VisibleDeprecationWarning: Creating an ndarray from ragged nested sequences (which is a list-or-tuple of lists-or-tuples-or ndarrays with different lengths or shapes) is deprecated. If you meant to do this, you must specify 'dtype=object' when creating the ndarray\n",
      "  return array(a, dtype, copy=False, order=order)\n"
     ]
    },
    {
     "data": {
      "image/png": "[encoded data removed]",
      "text/plain": [
       "<Figure size 432x288 with 1 Axes>"
      ]
     },
     "metadata": {
      "needs_background": "light",
      "tags": []
     },
     "output_type": "display_data"
    },
    {
     "name": "stdout",
     "output_type": "stream",
     "text": [
      "\n",
      "all: mean:0.10, (std: 0.30) \n",
      "\n",
      "cs_conf: mean:0.02, (std: 0.32) \n",
      "\n",
      "student: mean:0.18, (std: 0.31) \n",
      "\n",
      "medium: mean:0.10, (std: 0.25) \n"
     ]
    }
   ],
   "source": [
    "prob_diff(df= data_GPT2_p3)"
   ]
  },
  {
   "cell_type": "markdown",
   "metadata": {
    "id": "QgViwwYy9qSt"
   },
   "source": [
    "**Examples of medium sentences with roughly same prob**"
   ]
  },
  {
   "cell_type": "code",
   "execution_count": null,
   "metadata": {
    "colab": {
     "base_uri": "https://localhost:8080/"
    },
    "id": "J1C-HY-iNi5A",
    "outputId": "4be5eae6-ba78-4839-e8ca-f1bd6c7f8ae1"
   },
   "outputs": [
    {
     "name": "stdout",
     "output_type": "stream",
     "text": [
      "166\n",
      "\n"
     ]
    },
    {
     "name": "stderr",
     "output_type": "stream",
     "text": [
      "/usr/local/lib/python3.7/dist-packages/ipykernel_launcher.py:2: UserWarning: Boolean Series key will be reindexed to match DataFrame index.\n",
      "  \n",
      "/usr/local/lib/python3.7/dist-packages/ipykernel_launcher.py:3: UserWarning: Boolean Series key will be reindexed to match DataFrame index.\n",
      "  This is separate from the ipykernel package so we can avoid doing imports until\n"
     ]
    }
   ],
   "source": [
    "cond = np.abs(data_T5_p3['output_roberta_prob']-data_T5_p3['input_roberta_prob'])<=0.001\n",
    "print(len(data_T5_p3[data_T5_p3.source == 'medium'][cond]))\n",
    "data_T5_p3[data_T5_p3.source == 'medium'][cond].head()\n",
    "\n",
    "print()"
   ]
  },
  {
   "cell_type": "markdown",
   "metadata": {
    "id": "Ugd1UqAS-IAe"
   },
   "source": [
    "**Examples of improved sentences**"
   ]
  },
  {
   "cell_type": "code",
   "execution_count": null,
   "metadata": {
    "colab": {
     "base_uri": "https://localhost:8080/",
     "height": 1000
    },
    "id": "OOOhzKdQ92Vv",
    "outputId": "684f7949-8066-4606-9cfb-fe3f56bdc6a6"
   },
   "outputs": [
    {
     "name": "stdout",
     "output_type": "stream",
     "text": [
      "114\n"
     ]
    },
    {
     "name": "stderr",
     "output_type": "stream",
     "text": [
      "/usr/local/lib/python3.7/dist-packages/pandas/core/computation/expressions.py:204: UserWarning: evaluating in Python space because the '*' operator is not supported by numexpr for the bool dtype, use '&' instead\n",
      "  f\"evaluating in Python space because the {repr(op_str)} \"\n"
     ]
    },
    {
     "data": {
      "text/html": [
       "<div>\n",
       "<style scoped>\n",
       "    .dataframe tbody tr th:only-of-type {\n",
       "        vertical-align: middle;\n",
       "    }\n",
       "\n",
       "    .dataframe tbody tr th {\n",
       "        vertical-align: top;\n",
       "    }\n",
       "\n",
       "    .dataframe thead th {\n",
       "        text-align: right;\n",
       "    }\n",
       "</style>\n",
       "<table border=\"1\" class=\"dataframe\">\n",
       "  <thead>\n",
       "    <tr style=\"text-align: right;\">\n",
       "      <th></th>\n",
       "      <th>input</th>\n",
       "      <th>output</th>\n",
       "      <th>input_masked</th>\n",
       "      <th>output_masked</th>\n",
       "    </tr>\n",
       "  </thead>\n",
       "  <tbody>\n",
       "    <tr>\n",
       "      <th>78</th>\n",
       "      <td>with such a large dataset of what is being said online ready to be processed by a computer program, the possibilities are infinite.</td>\n",
       "      <td>the possibilities are infinite when the available online discourse is such a large dataset ready to be processed by a computer program.</td>\n",
       "      <td>with such a large &lt;unk&gt; of what is being said online ready to be processed by a &lt;unk&gt; &lt;unk&gt;, the &lt;unk&gt; are infinite.</td>\n",
       "      <td>the possibilities are infinite when the available online discourse is such a large &lt;unk&gt; ready to be processed by a computer &lt;unk&gt;.</td>\n",
       "    </tr>\n",
       "    <tr>\n",
       "      <th>256</th>\n",
       "      <td>meanwhile, data collectors that receive data from sensor nodes, are always ready to receive data from them.</td>\n",
       "      <td>the data collectors, on the other hand, receive data from the sensor nodes, and are always ready to receive data from them.</td>\n",
       "      <td>meanwhile, &lt;unk&gt; collectors that receive &lt;unk&gt; from &lt;unk&gt; &lt;unk&gt;, are always ready to receive &lt;unk&gt; from them.</td>\n",
       "      <td>the &lt;unk&gt; collectors, on the other hand, receive &lt;unk&gt; from the sensor &lt;unk&gt;, and are always ready to receive &lt;unk&gt; from them.</td>\n",
       "    </tr>\n",
       "    <tr>\n",
       "      <th>301</th>\n",
       "      <td>with packet generation, we can perform the zrp as an extension of the model in ref.</td>\n",
       "      <td>we can perform zrp as an extension of the model described in ref.</td>\n",
       "      <td>with &lt;unk&gt; &lt;unk&gt;, we can perform the zrp as an &lt;unk&gt; of the &lt;unk&gt; in ref.</td>\n",
       "      <td>we can perform zrp as an extension of the &lt;unk&gt; described in ref.</td>\n",
       "    </tr>\n",
       "    <tr>\n",
       "      <th>353</th>\n",
       "      <td>it does not require gradients and hence, it can be used on problems that are not continuous or differentiable.</td>\n",
       "      <td>this design does not require gradients and thus may work for problems that are neither continuous nor diffusive.</td>\n",
       "      <td>it does not require gradients and &lt;unk&gt;, it can be used on &lt;unk&gt; that are not continuous or differentiable.</td>\n",
       "      <td>this &lt;unk&gt; does not require gradients and thus may work for &lt;unk&gt; that are neither continuous nor diffusive.</td>\n",
       "    </tr>\n",
       "    <tr>\n",
       "      <th>514</th>\n",
       "      <td>when we need more vocabularies, the ones came from the unlabeled training set was then randomly added to the dictionary.</td>\n",
       "      <td>we then randomly added them to lexicons when we needed more vocabularies than the one given in the unlabeled training set.</td>\n",
       "      <td>when we need more vocabularies, the ones came from the unlabeled &lt;unk&gt; &lt;unk&gt; was then randomly added to the dictionary.</td>\n",
       "      <td>we then randomly added them to lexicons when we needed more vocabularies than the one given in the unlabeled &lt;unk&gt; &lt;unk&gt;.</td>\n",
       "    </tr>\n",
       "    <tr>\n",
       "      <th>522</th>\n",
       "      <td>there are many details about the internals of the scheduler, its dependency analysis, memory management, and other performance enhancements that are not covered here.</td>\n",
       "      <td>there is a lot of detail in the scheduler s internals, ranging from dependency analysis to memory management, and other performance enhancements that is not covered here.</td>\n",
       "      <td>there are many &lt;unk&gt; about the internals of the scheduler, its &lt;unk&gt; &lt;unk&gt;, &lt;unk&gt; management, and other &lt;unk&gt; enhancements that are not covered here.</td>\n",
       "      <td>there is a lot of &lt;unk&gt; in the scheduler s internals, ranging from dependency &lt;unk&gt; to memory management, and other &lt;unk&gt; enhancements that is not covered here.</td>\n",
       "    </tr>\n",
       "    <tr>\n",
       "      <th>551</th>\n",
       "      <td>whatever the answer here we are focusing on the inherent ambiguity, which we will note or record in an appropriate way.</td>\n",
       "      <td>we focus on ambiguity, which we will mark or record in an appropriate way in any answer here.</td>\n",
       "      <td>whatever the &lt;unk&gt; here we are focusing on the inherent ambiguity, which we will note or record in an appropriate &lt;unk&gt;.</td>\n",
       "      <td>we focus on ambiguity, which we will mark or record in an appropriate &lt;unk&gt; in any &lt;unk&gt; here.</td>\n",
       "    </tr>\n",
       "    <tr>\n",
       "      <th>702</th>\n",
       "      <td>from now on, proofs omitted in the main body of the paper can be found in appendix a).</td>\n",
       "      <td>as from now on the proofs omitted in the main body of the paper can be found in appendix a).</td>\n",
       "      <td>from now on, &lt;unk&gt; omitted in the main body of the &lt;unk&gt; can be found in &lt;unk&gt; a).</td>\n",
       "      <td>as from now on the proofs omitted in the main body of the &lt;unk&gt; can be found in appendix a).</td>\n",
       "    </tr>\n",
       "    <tr>\n",
       "      <th>710</th>\n",
       "      <td>we will then discuss in the following sections how to take channel time variation into account.</td>\n",
       "      <td>we discuss in the following sections how to account for channel time variation.</td>\n",
       "      <td>we will then discuss in the following &lt;unk&gt; how to take &lt;unk&gt; &lt;unk&gt; &lt;unk&gt; into &lt;unk&gt;.</td>\n",
       "      <td>we discuss in the following &lt;unk&gt; how to account for &lt;unk&gt; &lt;unk&gt; variation.</td>\n",
       "    </tr>\n",
       "    <tr>\n",
       "      <th>719</th>\n",
       "      <td>but it seems that in order to make our observations one needs to look at large networks.</td>\n",
       "      <td>yet, it seems that one should look at large-scale networks to obtain our findings.</td>\n",
       "      <td>but it seems that in &lt;unk&gt; to make our &lt;unk&gt; one needs to look at large &lt;unk&gt;.</td>\n",
       "      <td>yet, it seems that one should look at large-scale &lt;unk&gt; to obtain our findings.</td>\n",
       "    </tr>\n",
       "    <tr>\n",
       "      <th>725</th>\n",
       "      <td>the dashed line is a qualitative description of the phase boundary given by eq.</td>\n",
       "      <td>the dashed line represents the phase boundary qualitatively given by eq.</td>\n",
       "      <td>the dashed &lt;unk&gt; is a qualitative &lt;unk&gt; of the &lt;unk&gt; boundary given by &lt;unk&gt;.</td>\n",
       "      <td>the dashed line represents the phase boundary qualitatively given by eq.</td>\n",
       "    </tr>\n",
       "    <tr>\n",
       "      <th>781</th>\n",
       "      <td>let us consider alternative random variable, representing an alternative, specific, channel state at the beginning of the super-symbol.</td>\n",
       "      <td>let us consider alternative random variables, corresponding to auxiliary, specific, channel states, at the beginning of the super-symbol.</td>\n",
       "      <td>let us consider &lt;unk&gt; &lt;unk&gt; variable, representing an &lt;unk&gt;, specific, channel &lt;unk&gt; at the beginning of the super-symbol.</td>\n",
       "      <td>let us consider alternative &lt;unk&gt; &lt;unk&gt;, corresponding to auxiliary, specific, channel &lt;unk&gt;, at the beginning of the super-symbol.</td>\n",
       "    </tr>\n",
       "    <tr>\n",
       "      <th>841</th>\n",
       "      <td>smith teaching logic provides support for logic being a better choice than algorithms.</td>\n",
       "      <td>smith s approach to learning logic provides support for the argument that logic should be used in lieu of algorithms.</td>\n",
       "      <td>smith teaching &lt;unk&gt; provides &lt;unk&gt; for &lt;unk&gt; being a better &lt;unk&gt; than &lt;unk&gt;.</td>\n",
       "      <td>smith s &lt;unk&gt; to learning logic provides &lt;unk&gt; for the argument that logic should be used in lieu of &lt;unk&gt;.</td>\n",
       "    </tr>\n",
       "    <tr>\n",
       "      <th>892</th>\n",
       "      <td>on the other hand, switching to the polynomial framework changes the setup.</td>\n",
       "      <td>by contrast switching the cc framework to the polynomial one changes the setup.</td>\n",
       "      <td>on the other &lt;unk&gt;, switching to the polynomial &lt;unk&gt; changes the setup.</td>\n",
       "      <td>by contrast switching the cc framework to the polynomial one changes the setup.</td>\n",
       "    </tr>\n",
       "    <tr>\n",
       "      <th>923</th>\n",
       "      <td>the feed for an article includes a title, a short summary of the article, its url, and a time-stamp.</td>\n",
       "      <td>an article s feed contains a feed with a title, a succinct summary of the article s contents, the article s url, and a time-stamp.</td>\n",
       "      <td>the feed for an &lt;unk&gt; includes a title, a short summary of the &lt;unk&gt;, its url, and a time-stamp.</td>\n",
       "      <td>an &lt;unk&gt; s feed contains a feed with a title, a succinct summary of the &lt;unk&gt; s &lt;unk&gt;, the &lt;unk&gt; s url, and a time-stamp.</td>\n",
       "    </tr>\n",
       "    <tr>\n",
       "      <th>1008</th>\n",
       "      <td>part of the reason for this drop in performance could be the use of unoptimized hyper-parameters as the default values were used to represent a baseline for the td-algorithm.</td>\n",
       "      <td>the downsizing of the performance of the td-algorithm could also be a result of the use of unoptimized hyper-parameters whose values were meant as the baselines for the td-algorithm.</td>\n",
       "      <td>part of the reason for this drop in &lt;unk&gt; could be the &lt;unk&gt; of unoptimized hyper-parameters as the default &lt;unk&gt; were &lt;unk&gt;d to represent a baseline for the &lt;unk&gt;.</td>\n",
       "      <td>the downsizing of the &lt;unk&gt; of the td-algorithm could also be a &lt;unk&gt; of the &lt;unk&gt; of unoptimized hyper-parameters whose &lt;unk&gt; were meant as the baselines for the td-algorithm.</td>\n",
       "    </tr>\n",
       "    <tr>\n",
       "      <th>1016</th>\n",
       "      <td>evaluation: the larger the channel sizes (within the range of sizes under investigation), the lower the mse becomes.</td>\n",
       "      <td>evaluation: the bigger the channel size (over the range of channel sizes to be investigated), the lower the mse becomes.</td>\n",
       "      <td>evaluation: the larger the channel &lt;unk&gt; (within the range of &lt;unk&gt; under investigation), the lower the &lt;unk&gt; becomes.</td>\n",
       "      <td>evaluation: the bigger the &lt;unk&gt; &lt;unk&gt; (over the range of &lt;unk&gt; &lt;unk&gt;s to be investigated), the lower the mse becomes.</td>\n",
       "    </tr>\n",
       "    <tr>\n",
       "      <th>1017</th>\n",
       "      <td>in summary, we used imdb review data to train a logistic regression based sentiment analysis model which is applied to twitter data to retrieve the sentiment of early reactions on movies.</td>\n",
       "      <td>we summarize how sentiment sentiment of movie reviews has been learned for imdb reviews data training a logistic regression based sentiment analysis model which will then be applied to twitter data to learn sentiment profiles for movies.</td>\n",
       "      <td>in summary, we used &lt;unk&gt; review &lt;unk&gt; to train a logistic &lt;unk&gt; based sentiment &lt;unk&gt; &lt;unk&gt; which is applied to &lt;unk&gt; &lt;unk&gt; to retrieve the sentiment of early reactions on movies.</td>\n",
       "      <td>we summarize how sentiment sentiment of &lt;unk&gt; reviews has been learned for imdb reviews &lt;unk&gt; training a logistic &lt;unk&gt; based sentiment &lt;unk&gt; &lt;unk&gt; which will then be applied to twitter &lt;unk&gt; to learn sentiment profiles for &lt;unk&gt;s.</td>\n",
       "    </tr>\n",
       "    <tr>\n",
       "      <th>1033</th>\n",
       "      <td>this includes a discussion of initialization, learning rate and number of iterations performed.</td>\n",
       "      <td>we also discuss our initialization, learning rate, and number of iterations needed to complete the task.</td>\n",
       "      <td>this includes a discussion of initialization, learning &lt;unk&gt; and &lt;unk&gt; of iterations performed.</td>\n",
       "      <td>we also discuss our initialization, learning &lt;unk&gt;, and &lt;unk&gt; of &lt;unk&gt; needed to complete the &lt;unk&gt;.</td>\n",
       "    </tr>\n",
       "    <tr>\n",
       "      <th>1062</th>\n",
       "      <td>a second property of gradient ascent to be determined is its stopping criteria.</td>\n",
       "      <td>we also describe the stopping criteria for the gradient ascent as mentioned earlier.</td>\n",
       "      <td>a second property of gradient ascent to be determined is its stopping criteria.</td>\n",
       "      <td>we also describe the stopping criteria for the gradient ascent as mentioned earlier.</td>\n",
       "    </tr>\n",
       "    <tr>\n",
       "      <th>1103</th>\n",
       "      <td>to deal with putting the state outputs of the system into the desired bins, we wrote a function that converts the exact state values of the arrays into their respected bin number.</td>\n",
       "      <td>we have written a function which converts exact state values for arrays into their given bin count matrices when dealing with the problem of pushing the system s output states in the desired bins.</td>\n",
       "      <td>to deal with putting the &lt;unk&gt; &lt;unk&gt; of the &lt;unk&gt; into the desired bins, we wrote a &lt;unk&gt; that converts the exact &lt;unk&gt; &lt;unk&gt; of the arrays into their respected bin &lt;unk&gt;.</td>\n",
       "      <td>we have written a &lt;unk&gt; which converts exact &lt;unk&gt; &lt;unk&gt; for arrays into their given bin count &lt;unk&gt; when dealing with the &lt;unk&gt; of pushing the &lt;unk&gt; s &lt;unk&gt; &lt;unk&gt;s in the desired bins.</td>\n",
       "    </tr>\n",
       "    <tr>\n",
       "      <th>1106</th>\n",
       "      <td>even thought the main deliverable of this project was to implement the methods mentioned in the paper, some experimentation with other similar optimization methods was conducted.</td>\n",
       "      <td>although applying the methods introduced in this paper was an important deliverable, we have conducted some experiments with other similar optimization approaches.</td>\n",
       "      <td>even thought the main deliverable of this &lt;unk&gt; was to implement the &lt;unk&gt; mentioned in the &lt;unk&gt;, some experimentation with other similar optimization &lt;unk&gt; was conducted.</td>\n",
       "      <td>although applying the &lt;unk&gt; introduced in this &lt;unk&gt; was an important deliverable, we have conducted some &lt;unk&gt; with other similar &lt;unk&gt; &lt;unk&gt;.</td>\n",
       "    </tr>\n",
       "    <tr>\n",
       "      <th>1116</th>\n",
       "      <td>furthermore, we have added a linear decay to this epsilon, to reduce the chance of making random actions linearly until the last episode.</td>\n",
       "      <td>we have further modified this epsilon to linear decay, to reduce the probability of a random action to a maximum of linear time up to its last episode.</td>\n",
       "      <td>furthermore, we have added a linear decay to this epsilon, to reduce the chance of making random actions linearly until the last episode.</td>\n",
       "      <td>we have further modified this epsilon to linear decay, to reduce the &lt;unk&gt; of a random &lt;unk&gt; to a maximum of linear &lt;unk&gt; up to its last episode.</td>\n",
       "    </tr>\n",
       "    <tr>\n",
       "      <th>1124</th>\n",
       "      <td>in addition to the metrics originating from game design theory, several graph features are measured as well.</td>\n",
       "      <td>our metrics are not limited to metrics derived from the game design theory, but instead include several graph metrics.</td>\n",
       "      <td>in addition to the &lt;unk&gt; originating from &lt;unk&gt; &lt;unk&gt; theory, several &lt;unk&gt; &lt;unk&gt; are measured as well.</td>\n",
       "      <td>our &lt;unk&gt; are not limited to &lt;unk&gt; derived from the &lt;unk&gt; &lt;unk&gt; theory, but instead include several graph &lt;unk&gt;.</td>\n",
       "    </tr>\n",
       "    <tr>\n",
       "      <th>1177</th>\n",
       "      <td>overall this methods shows some potential, as there is more space for some relationships, which would already break a classic planar arrangement.</td>\n",
       "      <td>the overall approach is a promising one, as it allows some relations to be more granular, and does break the tradition of planar arrangements.</td>\n",
       "      <td>overall this &lt;unk&gt; shows some potential, as there is more &lt;unk&gt; for some relationships, which would already break a classic planar arrangement.</td>\n",
       "      <td>the overall &lt;unk&gt; is a promising one, as it allows some &lt;unk&gt; to be more granular, and does break the tradition of planar arrangements.</td>\n",
       "    </tr>\n",
       "    <tr>\n",
       "      <th>1185</th>\n",
       "      <td>ideally, we would have all the features needed for each approach available in a common data set of games played.</td>\n",
       "      <td>we would ideally like to know whether each of our approaches has all the features needed by our approach and have a common dataset of games played.</td>\n",
       "      <td>ideally, we would have all the &lt;unk&gt; needed for each &lt;unk&gt; available in a common &lt;unk&gt; &lt;unk&gt; of &lt;unk&gt; played.</td>\n",
       "      <td>we would ideally like to know whether each of our &lt;unk&gt; has all the &lt;unk&gt; needed by our &lt;unk&gt; and have a common &lt;unk&gt; of &lt;unk&gt; played.</td>\n",
       "    </tr>\n",
       "    <tr>\n",
       "      <th>1187</th>\n",
       "      <td>to match with the options provided by the ui we combine fear, anger, sadness and disgust as negative impressions and joy and surprise as positive ones.</td>\n",
       "      <td>we combine fears, anger, sadness and disgust as negative impressions, and we use happiness and surprise as positive impressions to match the categories of preference offered by the ui.</td>\n",
       "      <td>to match with the options provided by the &lt;unk&gt; we combine fear, anger, sadness and disgust as negative impressions and joy and surprise as positive ones.</td>\n",
       "      <td>we combine fears, anger, sadness and disgust as negative impressions, and we use happiness and surprise as positive impressions to match the categories of preference offered by the ui.</td>\n",
       "    </tr>\n",
       "    <tr>\n",
       "      <th>1216</th>\n",
       "      <td>one can identify the following behavior: if the agent has a positive velocity, he will almost always accelerate positively (white area).</td>\n",
       "      <td>the behavior is then simple to characterize: if an agent s velocity is positive, it is avpcnticly always accelerating positively (white region).</td>\n",
       "      <td>one can identify the following behavior: if the agent has a positive velocity, he will almost always accelerate positively (white area).</td>\n",
       "      <td>the behavior is then simple to characterize: if an &lt;unk&gt; s velocity is positive, it is avpcnticly always accelerating positively (white region).</td>\n",
       "    </tr>\n",
       "    <tr>\n",
       "      <th>1233</th>\n",
       "      <td>the main goals of a q-bot is to minimize the number of troops lost in battle while maximizing the amount of controlled territory.</td>\n",
       "      <td>the main goals of the q-bot is to minimize the number of troops that are lost in the battle while maximizing the number of captured territories.</td>\n",
       "      <td>the main goals of a &lt;unk&gt; is to minimize the &lt;unk&gt; of troops lost in battle while maximizing the amount of controlled territory.</td>\n",
       "      <td>the main goals of the q-bot is to minimize the &lt;unk&gt; of troops that are lost in the battle while maximizing the &lt;unk&gt; of captured territories.</td>\n",
       "    </tr>\n",
       "    <tr>\n",
       "      <th>1237</th>\n",
       "      <td>note that one vertex is created for each of the perceived emotion while one vertex is created for each member of the set of chord-set extracted from a music object.</td>\n",
       "      <td>note that a distinct vertex is created for each perceived emotion, and one vertex is created for each member of the chord-set extracted from the music object.</td>\n",
       "      <td>note that one vertex is created for each of the perceived &lt;unk&gt; while one vertex is created for each member of the &lt;unk&gt; of chord-&lt;unk&gt; extracted from a music object.</td>\n",
       "      <td>&lt;unk&gt; that a distinct vertex is created for each perceived emotion, and one vertex is created for each member of the chord-set extracted from the music &lt;unk&gt;.</td>\n",
       "    </tr>\n",
       "  </tbody>\n",
       "</table>\n",
       "</div>"
      ],
      "text/plain": [
       "                                                                                                                                                                                            input  ...                                                                                                                                                                                                                            output_masked\n",
       "78    with such a large dataset of what is being said online ready to be processed by a computer program, the possibilities are infinite.                                                          ...  the possibilities are infinite when the available online discourse is such a large <unk> ready to be processed by a computer <unk>.                                                                                                    \n",
       "256   meanwhile, data collectors that receive data from sensor nodes, are always ready to receive data from them.                                                                                  ...  the <unk> collectors, on the other hand, receive <unk> from the sensor <unk>, and are always ready to receive <unk> from them.                                                                                                         \n",
       "301   with packet generation, we can perform the zrp as an extension of the model in ref.                                                                                                          ...  we can perform zrp as an extension of the <unk> described in ref.                                                                                                                                                                      \n",
       "353   it does not require gradients and hence, it can be used on problems that are not continuous or differentiable.                                                                               ...  this <unk> does not require gradients and thus may work for <unk> that are neither continuous nor diffusive.                                                                                                                           \n",
       "514   when we need more vocabularies, the ones came from the unlabeled training set was then randomly added to the dictionary.                                                                     ...  we then randomly added them to lexicons when we needed more vocabularies than the one given in the unlabeled <unk> <unk>.                                                                                                              \n",
       "522   there are many details about the internals of the scheduler, its dependency analysis, memory management, and other performance enhancements that are not covered here.                       ...  there is a lot of <unk> in the scheduler s internals, ranging from dependency <unk> to memory management, and other <unk> enhancements that is not covered here.                                                                       \n",
       "551   whatever the answer here we are focusing on the inherent ambiguity, which we will note or record in an appropriate way.                                                                      ...  we focus on ambiguity, which we will mark or record in an appropriate <unk> in any <unk> here.                                                                                                                                         \n",
       "702   from now on, proofs omitted in the main body of the paper can be found in appendix a).                                                                                                       ...  as from now on the proofs omitted in the main body of the <unk> can be found in appendix a).                                                                                                                                           \n",
       "710   we will then discuss in the following sections how to take channel time variation into account.                                                                                              ...  we discuss in the following <unk> how to account for <unk> <unk> variation.                                                                                                                                                            \n",
       "719   but it seems that in order to make our observations one needs to look at large networks.                                                                                                     ...  yet, it seems that one should look at large-scale <unk> to obtain our findings.                                                                                                                                                        \n",
       "725   the dashed line is a qualitative description of the phase boundary given by eq.                                                                                                              ...  the dashed line represents the phase boundary qualitatively given by eq.                                                                                                                                                               \n",
       "781   let us consider alternative random variable, representing an alternative, specific, channel state at the beginning of the super-symbol.                                                      ...  let us consider alternative <unk> <unk>, corresponding to auxiliary, specific, channel <unk>, at the beginning of the super-symbol.                                                                                                    \n",
       "841   smith teaching logic provides support for logic being a better choice than algorithms.                                                                                                       ...  smith s <unk> to learning logic provides <unk> for the argument that logic should be used in lieu of <unk>.                                                                                                                            \n",
       "892   on the other hand, switching to the polynomial framework changes the setup.                                                                                                                  ...  by contrast switching the cc framework to the polynomial one changes the setup.                                                                                                                                                        \n",
       "923   the feed for an article includes a title, a short summary of the article, its url, and a time-stamp.                                                                                         ...  an <unk> s feed contains a feed with a title, a succinct summary of the <unk> s <unk>, the <unk> s url, and a time-stamp.                                                                                                              \n",
       "1008  part of the reason for this drop in performance could be the use of unoptimized hyper-parameters as the default values were used to represent a baseline for the td-algorithm.               ...  the downsizing of the <unk> of the td-algorithm could also be a <unk> of the <unk> of unoptimized hyper-parameters whose <unk> were meant as the baselines for the td-algorithm.                                                       \n",
       "1016  evaluation: the larger the channel sizes (within the range of sizes under investigation), the lower the mse becomes.                                                                         ...  evaluation: the bigger the <unk> <unk> (over the range of <unk> <unk>s to be investigated), the lower the mse becomes.                                                                                                                 \n",
       "1017  in summary, we used imdb review data to train a logistic regression based sentiment analysis model which is applied to twitter data to retrieve the sentiment of early reactions on movies.  ...  we summarize how sentiment sentiment of <unk> reviews has been learned for imdb reviews <unk> training a logistic <unk> based sentiment <unk> <unk> which will then be applied to twitter <unk> to learn sentiment profiles for <unk>s.\n",
       "1033  this includes a discussion of initialization, learning rate and number of iterations performed.                                                                                              ...  we also discuss our initialization, learning <unk>, and <unk> of <unk> needed to complete the <unk>.                                                                                                                                   \n",
       "1062  a second property of gradient ascent to be determined is its stopping criteria.                                                                                                              ...  we also describe the stopping criteria for the gradient ascent as mentioned earlier.                                                                                                                                                   \n",
       "1103  to deal with putting the state outputs of the system into the desired bins, we wrote a function that converts the exact state values of the arrays into their respected bin number.          ...  we have written a <unk> which converts exact <unk> <unk> for arrays into their given bin count <unk> when dealing with the <unk> of pushing the <unk> s <unk> <unk>s in the desired bins.                                              \n",
       "1106  even thought the main deliverable of this project was to implement the methods mentioned in the paper, some experimentation with other similar optimization methods was conducted.           ...  although applying the <unk> introduced in this <unk> was an important deliverable, we have conducted some <unk> with other similar <unk> <unk>.                                                                                        \n",
       "1116  furthermore, we have added a linear decay to this epsilon, to reduce the chance of making random actions linearly until the last episode.                                                    ...  we have further modified this epsilon to linear decay, to reduce the <unk> of a random <unk> to a maximum of linear <unk> up to its last episode.                                                                                      \n",
       "1124  in addition to the metrics originating from game design theory, several graph features are measured as well.                                                                                 ...  our <unk> are not limited to <unk> derived from the <unk> <unk> theory, but instead include several graph <unk>.                                                                                                                       \n",
       "1177  overall this methods shows some potential, as there is more space for some relationships, which would already break a classic planar arrangement.                                            ...  the overall <unk> is a promising one, as it allows some <unk> to be more granular, and does break the tradition of planar arrangements.                                                                                                \n",
       "1185  ideally, we would have all the features needed for each approach available in a common data set of games played.                                                                             ...  we would ideally like to know whether each of our <unk> has all the <unk> needed by our <unk> and have a common <unk> of <unk> played.                                                                                                 \n",
       "1187  to match with the options provided by the ui we combine fear, anger, sadness and disgust as negative impressions and joy and surprise as positive ones.                                      ...  we combine fears, anger, sadness and disgust as negative impressions, and we use happiness and surprise as positive impressions to match the categories of preference offered by the ui.                                               \n",
       "1216  one can identify the following behavior: if the agent has a positive velocity, he will almost always accelerate positively (white area).                                                     ...  the behavior is then simple to characterize: if an <unk> s velocity is positive, it is avpcnticly always accelerating positively (white region).                                                                                       \n",
       "1233  the main goals of a q-bot is to minimize the number of troops lost in battle while maximizing the amount of controlled territory.                                                            ...  the main goals of the q-bot is to minimize the <unk> of troops that are lost in the battle while maximizing the <unk> of captured territories.                                                                                         \n",
       "1237  note that one vertex is created for each of the perceived emotion while one vertex is created for each member of the set of chord-set extracted from a music object.                         ...  <unk> that a distinct vertex is created for each perceived emotion, and one vertex is created for each member of the chord-set extracted from the music <unk>.                                                                         \n",
       "\n",
       "[30 rows x 4 columns]"
      ]
     },
     "execution_count": 30,
     "metadata": {
      "tags": []
     },
     "output_type": "execute_result"
    }
   ],
   "source": [
    "cond = ((data_T5_p3['output_roberta_prob']-data_T5_p3['input_roberta_prob']) >=0.8)*((data_T5_p3['output_roberta_prob']-data_T5_p3['input_roberta_prob'])<=0.9)\n",
    "print(len(data_T5_p3[cond]))\n",
    "data_T5_p3[cond].head(30)[['input', 'output', 'input_masked', 'output_masked']]"
   ]
  },
  {
   "cell_type": "code",
   "execution_count": null,
   "metadata": {
    "colab": {
     "base_uri": "https://localhost:8080/",
     "height": 1000
    },
    "id": "7VltOyGM-TmH",
    "outputId": "4a8983a3-389d-4e53-e1f9-2a9a15dd8e50"
   },
   "outputs": [
    {
     "name": "stdout",
     "output_type": "stream",
     "text": [
      "150\n"
     ]
    },
    {
     "data": {
      "text/html": [
       "<div>\n",
       "<style scoped>\n",
       "    .dataframe tbody tr th:only-of-type {\n",
       "        vertical-align: middle;\n",
       "    }\n",
       "\n",
       "    .dataframe tbody tr th {\n",
       "        vertical-align: top;\n",
       "    }\n",
       "\n",
       "    .dataframe thead th {\n",
       "        text-align: right;\n",
       "    }\n",
       "</style>\n",
       "<table border=\"1\" class=\"dataframe\">\n",
       "  <thead>\n",
       "    <tr style=\"text-align: right;\">\n",
       "      <th></th>\n",
       "      <th>Unnamed: 0</th>\n",
       "      <th>source</th>\n",
       "      <th>input</th>\n",
       "      <th>output</th>\n",
       "      <th>input_masked</th>\n",
       "      <th>output_masked</th>\n",
       "      <th>input_roberta_label</th>\n",
       "      <th>input_roberta_prob</th>\n",
       "      <th>input_svm_label</th>\n",
       "      <th>output_roberta_label</th>\n",
       "      <th>output_roberta_prob</th>\n",
       "      <th>output_svm_label</th>\n",
       "      <th>MoverScore</th>\n",
       "      <th>BLEU</th>\n",
       "      <th>F1</th>\n",
       "    </tr>\n",
       "  </thead>\n",
       "  <tbody>\n",
       "    <tr>\n",
       "      <th>51</th>\n",
       "      <td>51</td>\n",
       "      <td>cs_conf</td>\n",
       "      <td>we pick an agent at random (this is the target agent) as well as one of its four neighbors</td>\n",
       "      <td>we assume that a given agent (the target agent) and one of its four neighbors are chosen at random.</td>\n",
       "      <td>we pick an &lt;unk&gt; at &lt;unk&gt; (this is the &lt;unk&gt; &lt;unk&gt;) as well as one of its four &lt;unk&gt;</td>\n",
       "      <td>we assume that a given &lt;unk&gt; (the target &lt;unk&gt;) and one of its four neighbors are chosen at &lt;unk&gt;.</td>\n",
       "      <td>0</td>\n",
       "      <td>0.080962</td>\n",
       "      <td>0</td>\n",
       "      <td>1</td>\n",
       "      <td>0.989140</td>\n",
       "      <td>0</td>\n",
       "      <td>0.640092</td>\n",
       "      <td>0.291537</td>\n",
       "      <td>0.672545</td>\n",
       "    </tr>\n",
       "    <tr>\n",
       "      <th>79</th>\n",
       "      <td>79</td>\n",
       "      <td>cs_conf</td>\n",
       "      <td>so we see that forecaster is losing utility because of her local predictive commitments.</td>\n",
       "      <td>this shows that the prediction process loses utility due to its local adversity.</td>\n",
       "      <td>so we see that forecaster is losing &lt;unk&gt; because of her local predictive commitments.</td>\n",
       "      <td>this shows that the &lt;unk&gt; &lt;unk&gt; loses utility due to its local adversity.</td>\n",
       "      <td>0</td>\n",
       "      <td>0.013058</td>\n",
       "      <td>0</td>\n",
       "      <td>1</td>\n",
       "      <td>0.926662</td>\n",
       "      <td>1</td>\n",
       "      <td>0.642642</td>\n",
       "      <td>0.232909</td>\n",
       "      <td>0.699373</td>\n",
       "    </tr>\n",
       "    <tr>\n",
       "      <th>88</th>\n",
       "      <td>88</td>\n",
       "      <td>cs_conf</td>\n",
       "      <td>the focus is mostly on utilizing within-document features, such as term frequencies.</td>\n",
       "      <td>we focus mostly on the use of within-document features, such as term frequencies.</td>\n",
       "      <td>the &lt;unk&gt; is mostly on utilizing within-document &lt;unk&gt;, such as &lt;unk&gt; &lt;unk&gt;.</td>\n",
       "      <td>we focus mostly on the &lt;unk&gt; of within-document &lt;unk&gt;, such as term frequencies.</td>\n",
       "      <td>0</td>\n",
       "      <td>0.030501</td>\n",
       "      <td>1</td>\n",
       "      <td>1</td>\n",
       "      <td>0.979652</td>\n",
       "      <td>0</td>\n",
       "      <td>0.876230</td>\n",
       "      <td>0.503175</td>\n",
       "      <td>0.634109</td>\n",
       "    </tr>\n",
       "    <tr>\n",
       "      <th>133</th>\n",
       "      <td>133</td>\n",
       "      <td>cs_conf</td>\n",
       "      <td>the channel state information (csi) is supposed to be known to the receiver but not to the transmitter.</td>\n",
       "      <td>we presume that the receiver but not the transmitter has information about the channel state information (csi).</td>\n",
       "      <td>the &lt;unk&gt; &lt;unk&gt; &lt;unk&gt; (&lt;unk&gt;) is supposed to be known to the &lt;unk&gt; but not to the &lt;unk&gt;.</td>\n",
       "      <td>we presume that the receiver but not the transmitter has &lt;unk&gt; about the &lt;unk&gt; &lt;unk&gt; &lt;unk&gt; (csi).</td>\n",
       "      <td>0</td>\n",
       "      <td>0.087392</td>\n",
       "      <td>1</td>\n",
       "      <td>1</td>\n",
       "      <td>0.998691</td>\n",
       "      <td>0</td>\n",
       "      <td>0.573872</td>\n",
       "      <td>0.367620</td>\n",
       "      <td>0.601707</td>\n",
       "    </tr>\n",
       "    <tr>\n",
       "      <th>179</th>\n",
       "      <td>179</td>\n",
       "      <td>cs_conf</td>\n",
       "      <td>it offers several novelties compared to existing sets, including template based, rather than image based, recognition and a mix of both images and videos.</td>\n",
       "      <td>the new generation of psmrs offers several unique attributes over existing datasets, including template-based vt instead of image-based vt, recognition, and mixing of both image and video features.</td>\n",
       "      <td>it offers several novelties compared to existing &lt;unk&gt;, including template based, rather than &lt;unk&gt; based, recognition and a mix of both &lt;unk&gt;s and &lt;unk&gt;.</td>\n",
       "      <td>the new generation of psmrs offers several unique &lt;unk&gt; over existing &lt;unk&gt;, including template-based vt instead of &lt;unk&gt;-based vt, recognition, and mixing of both &lt;unk&gt; and video &lt;unk&gt;.</td>\n",
       "      <td>0</td>\n",
       "      <td>0.058753</td>\n",
       "      <td>0</td>\n",
       "      <td>1</td>\n",
       "      <td>0.995272</td>\n",
       "      <td>0</td>\n",
       "      <td>0.632779</td>\n",
       "      <td>0.163597</td>\n",
       "      <td>0.720480</td>\n",
       "    </tr>\n",
       "    <tr>\n",
       "      <th>275</th>\n",
       "      <td>275</td>\n",
       "      <td>cs_conf</td>\n",
       "      <td>if we use the global classification error rates, they seem to perform well, however if we use the fitness value or look at fig.</td>\n",
       "      <td>we see that they perform well when using global classification error rates; however, they perform poorly when using fitness values and considering fig.</td>\n",
       "      <td>if we use the global &lt;unk&gt; &lt;unk&gt; &lt;unk&gt;, they seem to perform well, however if we use the fitness &lt;unk&gt; or look at &lt;unk&gt;.</td>\n",
       "      <td>we see that they perform well when using global classification &lt;unk&gt; &lt;unk&gt;; however, they perform poorly when using fitness &lt;unk&gt; and considering fig.</td>\n",
       "      <td>0</td>\n",
       "      <td>0.024529</td>\n",
       "      <td>0</td>\n",
       "      <td>1</td>\n",
       "      <td>0.967883</td>\n",
       "      <td>0</td>\n",
       "      <td>0.658111</td>\n",
       "      <td>0.136580</td>\n",
       "      <td>0.746913</td>\n",
       "    </tr>\n",
       "    <tr>\n",
       "      <th>478</th>\n",
       "      <td>478</td>\n",
       "      <td>cs_conf</td>\n",
       "      <td>hybrid systems modeled by quantum markov chains have already been often encountered in quantum information processing, and the quantum engineering systems developed in the future will most probably be hybrid systems.</td>\n",
       "      <td>hybrid systems as modeled by quantum markov chains have already been commonly encountered in quantum information processing, and there are many applications to quantum engineering that will mainly be hybrid systems.</td>\n",
       "      <td>hybrid &lt;unk&gt; modeled by &lt;unk&gt; &lt;unk&gt; &lt;unk&gt; have already been often encountered in &lt;unk&gt; &lt;unk&gt; &lt;unk&gt;, and the &lt;unk&gt; engineering &lt;unk&gt; developed in the &lt;unk&gt; will most probably be hybrid &lt;unk&gt;.</td>\n",
       "      <td>hybrid &lt;unk&gt; as modeled by quantum markov chains have already been commonly encountered in quantum &lt;unk&gt; processing, and there are many &lt;unk&gt; to quantum engineering that will mainly be hybrid &lt;unk&gt;.</td>\n",
       "      <td>0</td>\n",
       "      <td>0.029835</td>\n",
       "      <td>0</td>\n",
       "      <td>1</td>\n",
       "      <td>0.986846</td>\n",
       "      <td>0</td>\n",
       "      <td>0.795814</td>\n",
       "      <td>0.450035</td>\n",
       "      <td>0.650433</td>\n",
       "    </tr>\n",
       "    <tr>\n",
       "      <th>588</th>\n",
       "      <td>588</td>\n",
       "      <td>cs_conf</td>\n",
       "      <td>is closely related to the amount of channel state information (csi) at the base station (bs).</td>\n",
       "      <td>is closely related to the channel state information (csi) received at the base station (bs).</td>\n",
       "      <td>is closely related to the &lt;unk&gt; of &lt;unk&gt; &lt;unk&gt; &lt;unk&gt; (&lt;unk&gt;) at the &lt;unk&gt; station (&lt;unk&gt;).</td>\n",
       "      <td>is closely related to the &lt;unk&gt; &lt;unk&gt; &lt;unk&gt; (csi) received at the &lt;unk&gt; station (bs).</td>\n",
       "      <td>0</td>\n",
       "      <td>0.096503</td>\n",
       "      <td>0</td>\n",
       "      <td>1</td>\n",
       "      <td>0.998570</td>\n",
       "      <td>0</td>\n",
       "      <td>0.825950</td>\n",
       "      <td>0.616036</td>\n",
       "      <td>0.524227</td>\n",
       "    </tr>\n",
       "    <tr>\n",
       "      <th>671</th>\n",
       "      <td>671</td>\n",
       "      <td>cs_conf</td>\n",
       "      <td>this phenomena, which is called fading, degrades the system performance.</td>\n",
       "      <td>the phenomena, called fading, degrades the system s throughput.</td>\n",
       "      <td>this phenomena, which is called &lt;unk&gt;, degrades the &lt;unk&gt; &lt;unk&gt;.</td>\n",
       "      <td>the phenomena, called fading, degrades the &lt;unk&gt; s throughput.</td>\n",
       "      <td>0</td>\n",
       "      <td>0.031566</td>\n",
       "      <td>1</td>\n",
       "      <td>1</td>\n",
       "      <td>0.991115</td>\n",
       "      <td>1</td>\n",
       "      <td>0.759382</td>\n",
       "      <td>0.418013</td>\n",
       "      <td>0.658954</td>\n",
       "    </tr>\n",
       "    <tr>\n",
       "      <th>760</th>\n",
       "      <td>760</td>\n",
       "      <td>cs_conf</td>\n",
       "      <td>processes, markov chains, and so on, as special cases</td>\n",
       "      <td>we consider, as special cases, process or markov chain, and so on.</td>\n",
       "      <td>&lt;unk&gt;, &lt;unk&gt; &lt;unk&gt;, and so on, as special &lt;unk&gt;</td>\n",
       "      <td>we consider, as special &lt;unk&gt;, &lt;unk&gt; or markov chain, and so on.</td>\n",
       "      <td>0</td>\n",
       "      <td>0.037819</td>\n",
       "      <td>0</td>\n",
       "      <td>1</td>\n",
       "      <td>0.996399</td>\n",
       "      <td>0</td>\n",
       "      <td>0.654782</td>\n",
       "      <td>0.303318</td>\n",
       "      <td>0.675083</td>\n",
       "    </tr>\n",
       "    <tr>\n",
       "      <th>1012</th>\n",
       "      <td>1012</td>\n",
       "      <td>student</td>\n",
       "      <td>larger learning rates caused divergence in several cases and smaller learning rates were too costly in terms of iterations needed to reach the same accuracy w.r.t.</td>\n",
       "      <td>in fact, in several cases the larger learning rate caused divergence, while the smaller learning rate made it too costly due to the number of iterations needed to reach the same accuracy.</td>\n",
       "      <td>&lt;unk&gt; &lt;unk&gt; &lt;unk&gt; caused divergence in several &lt;unk&gt; and smaller &lt;unk&gt; &lt;unk&gt; were too costly in terms of iterations needed to reach the same &lt;unk&gt; w.r.t.</td>\n",
       "      <td>in &lt;unk&gt;, in several &lt;unk&gt; the larger &lt;unk&gt; &lt;unk&gt; caused divergence, while the smaller &lt;unk&gt; &lt;unk&gt; made it too costly due to the &lt;unk&gt; of &lt;unk&gt; needed to reach the same &lt;unk&gt;.</td>\n",
       "      <td>0</td>\n",
       "      <td>0.029056</td>\n",
       "      <td>0</td>\n",
       "      <td>1</td>\n",
       "      <td>0.973644</td>\n",
       "      <td>0</td>\n",
       "      <td>0.647180</td>\n",
       "      <td>0.320444</td>\n",
       "      <td>0.662973</td>\n",
       "    </tr>\n",
       "    <tr>\n",
       "      <th>1022</th>\n",
       "      <td>1022</td>\n",
       "      <td>student</td>\n",
       "      <td>in order to verify that the knowledge graph meets a prescribed structure, we decided to use shex (structural schema language for rdf graphs).</td>\n",
       "      <td>so, we decided to use shex (a structure-aware schema language for rdf graphs) to verify that a knowledge graph has the prescribed type structure.</td>\n",
       "      <td>in &lt;unk&gt; to verify that the knowledge &lt;unk&gt; meets a prescribed structure, we decided to use &lt;unk&gt; (structural schema language for &lt;unk&gt; &lt;unk&gt;s).</td>\n",
       "      <td>so, we decided to use shex (a &lt;unk&gt;-aware schema &lt;unk&gt; for rdf &lt;unk&gt;) to verify that a &lt;unk&gt; &lt;unk&gt; has the prescribed &lt;unk&gt; &lt;unk&gt;.</td>\n",
       "      <td>0</td>\n",
       "      <td>0.003295</td>\n",
       "      <td>0</td>\n",
       "      <td>1</td>\n",
       "      <td>0.959607</td>\n",
       "      <td>0</td>\n",
       "      <td>0.700569</td>\n",
       "      <td>0.372607</td>\n",
       "      <td>0.661965</td>\n",
       "    </tr>\n",
       "    <tr>\n",
       "      <th>1058</th>\n",
       "      <td>1058</td>\n",
       "      <td>student</td>\n",
       "      <td>we got that the wolf of wall street is expected to be a big hit, the unbelievables is supposed to be quite profitable, and the movie annie will probably not bring much profit.</td>\n",
       "      <td>we see that wall street wolf is expected to be a big success, unbelievables is expected to earn several thousands of dollars, and annie s movie should probably bring relatively little revenue.</td>\n",
       "      <td>we got that the &lt;unk&gt; of &lt;unk&gt; &lt;unk&gt; is expected to be a big hit, the &lt;unk&gt; is supposed to be quite profitable, and the movie &lt;unk&gt; will probably not bring much profit.</td>\n",
       "      <td>we see that wall street wolf is expected to be a big success, unbelievables is expected to earn several thousands of dollars, and annie s &lt;unk&gt; should probably bring relatively little revenue.</td>\n",
       "      <td>0</td>\n",
       "      <td>0.002599</td>\n",
       "      <td>0</td>\n",
       "      <td>1</td>\n",
       "      <td>0.996805</td>\n",
       "      <td>0</td>\n",
       "      <td>0.564073</td>\n",
       "      <td>0.203586</td>\n",
       "      <td>0.660404</td>\n",
       "    </tr>\n",
       "    <tr>\n",
       "      <th>1064</th>\n",
       "      <td>1064</td>\n",
       "      <td>student</td>\n",
       "      <td>the production of the dataset happened a collaboration between numerous companies, and because of this, to our knowledge, the dataset exceeds all other freely available datasets in its number of features, while still having one of the biggest song libraries.</td>\n",
       "      <td>we acknowledge the generous cooperation between several companies on the production of this dataset, and are told that it far exceeds any other free publicly available dataset in number of features while still being one of the largest song libraries.</td>\n",
       "      <td>the production of the &lt;unk&gt; happened a collaboration between numerous companies, and because of this, to our knowledge, the &lt;unk&gt; exceeds all other freely available &lt;unk&gt;s in its &lt;unk&gt; of &lt;unk&gt;, while still having one of the biggest &lt;unk&gt; libraries.</td>\n",
       "      <td>we acknowledge the generous cooperation between several companies on the production of this &lt;unk&gt;, and are told that it far exceeds any other free publicly available &lt;unk&gt; in &lt;unk&gt; of &lt;unk&gt; while still being one of the largest &lt;unk&gt; &lt;unk&gt;.</td>\n",
       "      <td>0</td>\n",
       "      <td>0.003036</td>\n",
       "      <td>0</td>\n",
       "      <td>1</td>\n",
       "      <td>0.942928</td>\n",
       "      <td>0</td>\n",
       "      <td>0.634912</td>\n",
       "      <td>0.181876</td>\n",
       "      <td>0.714967</td>\n",
       "    </tr>\n",
       "    <tr>\n",
       "      <th>1065</th>\n",
       "      <td>1065</td>\n",
       "      <td>student</td>\n",
       "      <td>the ui is built using javafx and css.</td>\n",
       "      <td>the ui is created using javafx and css.</td>\n",
       "      <td>the &lt;unk&gt; is built using &lt;unk&gt; and &lt;unk&gt;.</td>\n",
       "      <td>the ui is created using javafx and css.</td>\n",
       "      <td>0</td>\n",
       "      <td>0.026177</td>\n",
       "      <td>1</td>\n",
       "      <td>1</td>\n",
       "      <td>0.987089</td>\n",
       "      <td>1</td>\n",
       "      <td>0.956732</td>\n",
       "      <td>0.500000</td>\n",
       "      <td>0.656766</td>\n",
       "    </tr>\n",
       "    <tr>\n",
       "      <th>1089</th>\n",
       "      <td>1089</td>\n",
       "      <td>student</td>\n",
       "      <td>choosing rr representation as pointed out in the previous discussion there can be relationships between tweets such that one might even consider rr representation for this task.</td>\n",
       "      <td>we note that it can exist relations between tweets in a manner that one may even consider choosing the rr representation in the following discussion.</td>\n",
       "      <td>choosing &lt;unk&gt; &lt;unk&gt; as pointed out in the previous discussion there can be relationships between &lt;unk&gt; such that one might even consider &lt;unk&gt; &lt;unk&gt; for this &lt;unk&gt;.</td>\n",
       "      <td>we note that it can exist &lt;unk&gt; between &lt;unk&gt; in a manner that one may even consider choosing the rr &lt;unk&gt; in the following discussion.</td>\n",
       "      <td>0</td>\n",
       "      <td>0.011465</td>\n",
       "      <td>0</td>\n",
       "      <td>1</td>\n",
       "      <td>0.994463</td>\n",
       "      <td>0</td>\n",
       "      <td>0.557399</td>\n",
       "      <td>0.264062</td>\n",
       "      <td>0.634346</td>\n",
       "    </tr>\n",
       "    <tr>\n",
       "      <th>1092</th>\n",
       "      <td>1092</td>\n",
       "      <td>student</td>\n",
       "      <td>in addition, a better and more theoretical based convergence condition could be used to minimize as much as possible the error stemming from the optimization algorithms.</td>\n",
       "      <td>therefore, the objective function could be used to minimize the error induced by the optimization algorithms, in a better, more theoretical way.</td>\n",
       "      <td>in addition, a better and more theoretical based convergence condition could be used to minimize as much as possible the &lt;unk&gt; stemming from the optimization &lt;unk&gt;.</td>\n",
       "      <td>therefore, the objective &lt;unk&gt; could be used to minimize the &lt;unk&gt; induced by the &lt;unk&gt; &lt;unk&gt;, in a better, more theoretical &lt;unk&gt;.</td>\n",
       "      <td>0</td>\n",
       "      <td>0.001787</td>\n",
       "      <td>1</td>\n",
       "      <td>1</td>\n",
       "      <td>0.970765</td>\n",
       "      <td>1</td>\n",
       "      <td>0.588545</td>\n",
       "      <td>0.233500</td>\n",
       "      <td>0.665837</td>\n",
       "    </tr>\n",
       "    <tr>\n",
       "      <th>1123</th>\n",
       "      <td>1123</td>\n",
       "      <td>student</td>\n",
       "      <td>in addition, with the utilization of a dendrogram, we can reasonably guess the number of clusters.</td>\n",
       "      <td>we also note that we can reasonably guess the number of clusters that may appear, using a dendrogram.</td>\n",
       "      <td>in addition, with the utilization of a dendrogram, we can reasonably guess the &lt;unk&gt; of clusters.</td>\n",
       "      <td>we also note that we can reasonably guess the &lt;unk&gt; of &lt;unk&gt; that may appear, using a dendrogram.</td>\n",
       "      <td>0</td>\n",
       "      <td>0.046049</td>\n",
       "      <td>0</td>\n",
       "      <td>1</td>\n",
       "      <td>0.965593</td>\n",
       "      <td>0</td>\n",
       "      <td>0.610638</td>\n",
       "      <td>0.425177</td>\n",
       "      <td>0.592190</td>\n",
       "    </tr>\n",
       "    <tr>\n",
       "      <th>1141</th>\n",
       "      <td>1141</td>\n",
       "      <td>student</td>\n",
       "      <td>khwaja mohd salik rajiv ratn shah yifang yin roger zimmermann yaman kumar, rohit jain.</td>\n",
       "      <td>rakut pradhan, raj ratn shah yifang.</td>\n",
       "      <td>&lt;unk&gt; &lt;unk&gt; &lt;unk&gt; &lt;unk&gt; &lt;unk&gt; &lt;unk&gt; &lt;unk&gt; &lt;unk&gt; &lt;unk&gt; &lt;unk&gt; &lt;unk&gt; &lt;unk&gt;, &lt;unk&gt; &lt;unk&gt;.</td>\n",
       "      <td>rakut pradhan, raj ratn shah yifang.</td>\n",
       "      <td>0</td>\n",
       "      <td>0.001079</td>\n",
       "      <td>0</td>\n",
       "      <td>1</td>\n",
       "      <td>0.991865</td>\n",
       "      <td>1</td>\n",
       "      <td>0.462095</td>\n",
       "      <td>0.080353</td>\n",
       "      <td>0.615113</td>\n",
       "    </tr>\n",
       "    <tr>\n",
       "      <th>1156</th>\n",
       "      <td>1156</td>\n",
       "      <td>student</td>\n",
       "      <td>given these reasons we can state that this paper is relevant to an ai audience.</td>\n",
       "      <td>we believe that this paper is of interest to the ai audience for the following reason.</td>\n",
       "      <td>given these reasons we can &lt;unk&gt; that this &lt;unk&gt; is relevant to an &lt;unk&gt; audience.</td>\n",
       "      <td>we believe that this &lt;unk&gt; is of interest to the ai audience for the following reason.</td>\n",
       "      <td>0</td>\n",
       "      <td>0.025381</td>\n",
       "      <td>1</td>\n",
       "      <td>1</td>\n",
       "      <td>0.983997</td>\n",
       "      <td>1</td>\n",
       "      <td>0.647815</td>\n",
       "      <td>0.195648</td>\n",
       "      <td>0.717647</td>\n",
       "    </tr>\n",
       "  </tbody>\n",
       "</table>\n",
       "</div>"
      ],
      "text/plain": [
       "      Unnamed: 0   source  ...      BLEU        F1\n",
       "51    51          cs_conf  ...  0.291537  0.672545\n",
       "79    79          cs_conf  ...  0.232909  0.699373\n",
       "88    88          cs_conf  ...  0.503175  0.634109\n",
       "133   133         cs_conf  ...  0.367620  0.601707\n",
       "179   179         cs_conf  ...  0.163597  0.720480\n",
       "275   275         cs_conf  ...  0.136580  0.746913\n",
       "478   478         cs_conf  ...  0.450035  0.650433\n",
       "588   588         cs_conf  ...  0.616036  0.524227\n",
       "671   671         cs_conf  ...  0.418013  0.658954\n",
       "760   760         cs_conf  ...  0.303318  0.675083\n",
       "1012  1012        student  ...  0.320444  0.662973\n",
       "1022  1022        student  ...  0.372607  0.661965\n",
       "1058  1058        student  ...  0.203586  0.660404\n",
       "1064  1064        student  ...  0.181876  0.714967\n",
       "1065  1065        student  ...  0.500000  0.656766\n",
       "1089  1089        student  ...  0.264062  0.634346\n",
       "1092  1092        student  ...  0.233500  0.665837\n",
       "1123  1123        student  ...  0.425177  0.592190\n",
       "1141  1141        student  ...  0.080353  0.615113\n",
       "1156  1156        student  ...  0.195648  0.717647\n",
       "\n",
       "[20 rows x 15 columns]"
      ]
     },
     "execution_count": 36,
     "metadata": {
      "tags": []
     },
     "output_type": "execute_result"
    }
   ],
   "source": [
    "cond = (data_T5_p3['output_roberta_prob']-data_T5_p3['input_roberta_prob'])>=0.9\n",
    "print(len(data_T5_p3[cond]))\n",
    "data_T5_p3[cond].head(20)"
   ]
  },
  {
   "cell_type": "code",
   "execution_count": null,
   "metadata": {
    "colab": {
     "base_uri": "https://localhost:8080/",
     "height": 1000
    },
    "id": "AGsLSze74fkQ",
    "outputId": "35be4e68-dc2c-4e43-ec45-d21519c72dee"
   },
   "outputs": [
    {
     "name": "stdout",
     "output_type": "stream",
     "text": [
      "264\n"
     ]
    },
    {
     "data": {
      "text/html": [
       "<div>\n",
       "<style scoped>\n",
       "    .dataframe tbody tr th:only-of-type {\n",
       "        vertical-align: middle;\n",
       "    }\n",
       "\n",
       "    .dataframe tbody tr th {\n",
       "        vertical-align: top;\n",
       "    }\n",
       "\n",
       "    .dataframe thead th {\n",
       "        text-align: right;\n",
       "    }\n",
       "</style>\n",
       "<table border=\"1\" class=\"dataframe\">\n",
       "  <thead>\n",
       "    <tr style=\"text-align: right;\">\n",
       "      <th></th>\n",
       "      <th>Unnamed: 0</th>\n",
       "      <th>source</th>\n",
       "      <th>input</th>\n",
       "      <th>output</th>\n",
       "      <th>input_masked</th>\n",
       "      <th>output_masked</th>\n",
       "      <th>input_roberta_label</th>\n",
       "      <th>input_roberta_prob</th>\n",
       "      <th>input_svm_label</th>\n",
       "      <th>output_roberta_label</th>\n",
       "      <th>output_roberta_prob</th>\n",
       "      <th>output_svm_label</th>\n",
       "      <th>MoverScore</th>\n",
       "      <th>BLEU</th>\n",
       "      <th>F1</th>\n",
       "    </tr>\n",
       "  </thead>\n",
       "  <tbody>\n",
       "    <tr>\n",
       "      <th>1746</th>\n",
       "      <td>1746</td>\n",
       "      <td>student</td>\n",
       "      <td>also, as delay allowance enters the model the ilp formulation becomes more complicated and more solutions are possible which could yield the wider spread from the mean solution value.</td>\n",
       "      <td>furthermore, if the delay allowance is introduced into the ilp formula, the ilp formulation becomes more complex and would allow fewer solutions, which could lead to a larger difference in the resulting snrs from the averaged solution value.</td>\n",
       "      <td>also, as &lt;unk&gt; &lt;unk&gt; enters the &lt;unk&gt; the &lt;unk&gt; formulation becomes more complicated and more &lt;unk&gt; are possible which could yield the wider spread from the mean &lt;unk&gt; &lt;unk&gt;.</td>\n",
       "      <td>furthermore, if the delay allowance is introduced into the ilp formula, the ilp formulation becomes more complex and would allow fewer &lt;unk&gt;, which could lead to a larger difference in the resulting snrs from the averaged &lt;unk&gt; &lt;unk&gt;.</td>\n",
       "      <td>0</td>\n",
       "      <td>0.025987</td>\n",
       "      <td>0</td>\n",
       "      <td>1</td>\n",
       "      <td>0.976677</td>\n",
       "      <td>0</td>\n",
       "      <td>0.589743</td>\n",
       "      <td>0.146499</td>\n",
       "      <td>0.697521</td>\n",
       "    </tr>\n",
       "    <tr>\n",
       "      <th>2761</th>\n",
       "      <td>2761</td>\n",
       "      <td>medium</td>\n",
       "      <td>for example, it can integrate with google-developed kubernetes and other apache products such as hadoop, cassandra, mesos and hbase.</td>\n",
       "      <td>the new development allows to integrate google kubernetes along with other apache products like hadoop, cassandra, mesos, and hbase.</td>\n",
       "      <td>for &lt;unk&gt;, it can integrate with &lt;unk&gt; kubernetes and other &lt;unk&gt; &lt;unk&gt; such as &lt;unk&gt;, &lt;unk&gt;, &lt;unk&gt; and &lt;unk&gt;.</td>\n",
       "      <td>the new development allows to integrate google kubernetes along with other apache products like hadoop, cassandra, mesos, and hbase.</td>\n",
       "      <td>0</td>\n",
       "      <td>0.018622</td>\n",
       "      <td>0</td>\n",
       "      <td>1</td>\n",
       "      <td>0.965204</td>\n",
       "      <td>0</td>\n",
       "      <td>0.771815</td>\n",
       "      <td>0.266133</td>\n",
       "      <td>0.752363</td>\n",
       "    </tr>\n",
       "    <tr>\n",
       "      <th>1971</th>\n",
       "      <td>1971</td>\n",
       "      <td>student</td>\n",
       "      <td>choosing av representation when choosing av representation instead of mi one needs to either summarize all the instances in one example into a representative instance or give all the individual instances the example label.</td>\n",
       "      <td>one needs to choose the av representation instead of mi and either re-rank all the instances in an example by its example identifier or assign each instance a representative instance identifier by its name.</td>\n",
       "      <td>choosing &lt;unk&gt; &lt;unk&gt; when choosing &lt;unk&gt; &lt;unk&gt; instead of &lt;unk&gt; one needs to either summarize all the &lt;unk&gt; in one &lt;unk&gt; into a representative &lt;unk&gt; or give all the individual &lt;unk&gt; the &lt;unk&gt; label.</td>\n",
       "      <td>one needs to choose the av &lt;unk&gt; instead of mi and either re-rank all the &lt;unk&gt; in an &lt;unk&gt; by its &lt;unk&gt; identifier or assign each &lt;unk&gt; a representative &lt;unk&gt; identifier by its name.</td>\n",
       "      <td>0</td>\n",
       "      <td>0.014852</td>\n",
       "      <td>0</td>\n",
       "      <td>1</td>\n",
       "      <td>0.990774</td>\n",
       "      <td>0</td>\n",
       "      <td>0.577024</td>\n",
       "      <td>0.246240</td>\n",
       "      <td>0.653656</td>\n",
       "    </tr>\n",
       "    <tr>\n",
       "      <th>522</th>\n",
       "      <td>522</td>\n",
       "      <td>cs_conf</td>\n",
       "      <td>there are many details about the internals of the scheduler, its dependency analysis, memory management, and other performance enhancements that are not covered here.</td>\n",
       "      <td>there is a lot of detail in the scheduler s internals, ranging from dependency analysis to memory management, and other performance enhancements that is not covered here.</td>\n",
       "      <td>there are many &lt;unk&gt; about the internals of the scheduler, its &lt;unk&gt; &lt;unk&gt;, &lt;unk&gt; management, and other &lt;unk&gt; enhancements that are not covered here.</td>\n",
       "      <td>there is a lot of &lt;unk&gt; in the scheduler s internals, ranging from dependency &lt;unk&gt; to memory management, and other &lt;unk&gt; enhancements that is not covered here.</td>\n",
       "      <td>0</td>\n",
       "      <td>0.188594</td>\n",
       "      <td>0</td>\n",
       "      <td>1</td>\n",
       "      <td>0.990631</td>\n",
       "      <td>0</td>\n",
       "      <td>0.745017</td>\n",
       "      <td>0.313721</td>\n",
       "      <td>0.714443</td>\n",
       "    </tr>\n",
       "    <tr>\n",
       "      <th>1799</th>\n",
       "      <td>1799</td>\n",
       "      <td>student</td>\n",
       "      <td>the objective of this research question is to identify the machine learning approach that outperforms the others in terms of accuracy of predicting the health status of an individual.</td>\n",
       "      <td>the goal of this research is to identify the machine learning approach which outperforms others in terms of accuracy for predicting the individual s personal status.</td>\n",
       "      <td>the objective of this &lt;unk&gt; &lt;unk&gt; is to identify the machine learning &lt;unk&gt; that outperforms the others in terms of &lt;unk&gt; of predicting the &lt;unk&gt; status of an individual.</td>\n",
       "      <td>the goal of this &lt;unk&gt; is to identify the &lt;unk&gt; &lt;unk&gt; &lt;unk&gt; which outperforms others in terms of &lt;unk&gt; for predicting the individual s personal status.</td>\n",
       "      <td>0</td>\n",
       "      <td>0.005554</td>\n",
       "      <td>0</td>\n",
       "      <td>1</td>\n",
       "      <td>0.992028</td>\n",
       "      <td>0</td>\n",
       "      <td>0.770053</td>\n",
       "      <td>0.401158</td>\n",
       "      <td>0.673741</td>\n",
       "    </tr>\n",
       "    <tr>\n",
       "      <th>1008</th>\n",
       "      <td>1008</td>\n",
       "      <td>student</td>\n",
       "      <td>part of the reason for this drop in performance could be the use of unoptimized hyper-parameters as the default values were used to represent a baseline for the td-algorithm.</td>\n",
       "      <td>the downsizing of the performance of the td-algorithm could also be a result of the use of unoptimized hyper-parameters whose values were meant as the baselines for the td-algorithm.</td>\n",
       "      <td>part of the reason for this drop in &lt;unk&gt; could be the &lt;unk&gt; of unoptimized hyper-parameters as the default &lt;unk&gt; were &lt;unk&gt;d to represent a baseline for the &lt;unk&gt;.</td>\n",
       "      <td>the downsizing of the &lt;unk&gt; of the td-algorithm could also be a &lt;unk&gt; of the &lt;unk&gt; of unoptimized hyper-parameters whose &lt;unk&gt; were meant as the baselines for the td-algorithm.</td>\n",
       "      <td>0</td>\n",
       "      <td>0.036941</td>\n",
       "      <td>0</td>\n",
       "      <td>1</td>\n",
       "      <td>0.936526</td>\n",
       "      <td>0</td>\n",
       "      <td>0.551655</td>\n",
       "      <td>0.279673</td>\n",
       "      <td>0.624807</td>\n",
       "    </tr>\n",
       "    <tr>\n",
       "      <th>1674</th>\n",
       "      <td>1674</td>\n",
       "      <td>student</td>\n",
       "      <td>shap shapley additive explanations (shap) is a game theoretic approach to explain the output of any machine learning model.</td>\n",
       "      <td>shapley additive explanations (shap) is a game-theoretic approach to explaining output from any machine learning model.</td>\n",
       "      <td>&lt;unk&gt; &lt;unk&gt; &lt;unk&gt; explanations (&lt;unk&gt;) is a &lt;unk&gt; theoretic &lt;unk&gt; to explain the &lt;unk&gt; of any machine &lt;unk&gt; &lt;unk&gt;.</td>\n",
       "      <td>shapley additive explanations (shap) is a game-theoretic &lt;unk&gt; to explaining &lt;unk&gt; from any &lt;unk&gt; &lt;unk&gt; &lt;unk&gt;.</td>\n",
       "      <td>0</td>\n",
       "      <td>0.002286</td>\n",
       "      <td>0</td>\n",
       "      <td>1</td>\n",
       "      <td>0.960558</td>\n",
       "      <td>1</td>\n",
       "      <td>0.866250</td>\n",
       "      <td>0.629941</td>\n",
       "      <td>0.518581</td>\n",
       "    </tr>\n",
       "    <tr>\n",
       "      <th>2433</th>\n",
       "      <td>2433</td>\n",
       "      <td>medium</td>\n",
       "      <td>here is how we can create a scatter plot in tableau:</td>\n",
       "      <td>we show in fig.</td>\n",
       "      <td>here is how we can create a scatter &lt;unk&gt; in &lt;unk&gt;:</td>\n",
       "      <td>we show in fig.</td>\n",
       "      <td>0</td>\n",
       "      <td>0.000348</td>\n",
       "      <td>0</td>\n",
       "      <td>1</td>\n",
       "      <td>0.998406</td>\n",
       "      <td>1</td>\n",
       "      <td>0.213292</td>\n",
       "      <td>0.040430</td>\n",
       "      <td>0.349007</td>\n",
       "    </tr>\n",
       "    <tr>\n",
       "      <th>2410</th>\n",
       "      <td>2410</td>\n",
       "      <td>medium</td>\n",
       "      <td>at this time, we have four possible states with equal amplitudes and equal measurement probabilities.</td>\n",
       "      <td>we have four possible states with equal amplitudes and equal measurement probabilities at this point in time.</td>\n",
       "      <td>at this &lt;unk&gt;, we have four possible &lt;unk&gt; with equal amplitudes and equal measurement &lt;unk&gt;.</td>\n",
       "      <td>we have four possible &lt;unk&gt; with equal amplitudes and equal measurement &lt;unk&gt; at this &lt;unk&gt; in &lt;unk&gt;.</td>\n",
       "      <td>0</td>\n",
       "      <td>0.156102</td>\n",
       "      <td>0</td>\n",
       "      <td>1</td>\n",
       "      <td>0.991115</td>\n",
       "      <td>0</td>\n",
       "      <td>0.844981</td>\n",
       "      <td>0.729763</td>\n",
       "      <td>0.409508</td>\n",
       "    </tr>\n",
       "    <tr>\n",
       "      <th>1270</th>\n",
       "      <td>1270</td>\n",
       "      <td>student</td>\n",
       "      <td>in the following, the received aggregated answers will be analyzed and the results are compared to our expectations.</td>\n",
       "      <td>the received aggregation answers are evaluated, and their results are shown to be satisfactory.</td>\n",
       "      <td>in the &lt;unk&gt;, the received aggregated &lt;unk&gt; will be analyzed and the &lt;unk&gt; are compared to our expectations.</td>\n",
       "      <td>the received aggregation &lt;unk&gt; are evaluated, and their &lt;unk&gt; are shown to be satisfactory.</td>\n",
       "      <td>0</td>\n",
       "      <td>0.001963</td>\n",
       "      <td>1</td>\n",
       "      <td>1</td>\n",
       "      <td>0.996857</td>\n",
       "      <td>1</td>\n",
       "      <td>0.641273</td>\n",
       "      <td>0.195831</td>\n",
       "      <td>0.713542</td>\n",
       "    </tr>\n",
       "    <tr>\n",
       "      <th>1475</th>\n",
       "      <td>1475</td>\n",
       "      <td>student</td>\n",
       "      <td>the other pitfall is that this approach combines two highly computational expensive techniques: evolutionary learning and nn.</td>\n",
       "      <td>another problem is that this approach involves two highly computationally costly techniques: evolutionary learning and nn.</td>\n",
       "      <td>the other pitfall is that this &lt;unk&gt; combines two highly computational expensive techniques: evolutionary &lt;unk&gt; and &lt;unk&gt;.</td>\n",
       "      <td>another &lt;unk&gt; is that this &lt;unk&gt; involves two highly computationally costly &lt;unk&gt;: evolutionary &lt;unk&gt; and nn.</td>\n",
       "      <td>0</td>\n",
       "      <td>0.044538</td>\n",
       "      <td>0</td>\n",
       "      <td>1</td>\n",
       "      <td>0.926080</td>\n",
       "      <td>1</td>\n",
       "      <td>0.822505</td>\n",
       "      <td>0.391678</td>\n",
       "      <td>0.699383</td>\n",
       "    </tr>\n",
       "    <tr>\n",
       "      <th>2598</th>\n",
       "      <td>2598</td>\n",
       "      <td>medium</td>\n",
       "      <td>we have seen some countries that imposed compulsory testing on international arrivals have either nearly crashed their health-care system, like germany, or had explosive community spread, such as iceland.</td>\n",
       "      <td>it is interesting to note that some countries have imposed compulsory testing for international arrivals and they both have either crashed their health care system, as in germany, or their communities were explosively propagated as in iceland.</td>\n",
       "      <td>we have seen some countries that imposed compulsory testing on international arrivals have either nearly crashed their health-care &lt;unk&gt;, like &lt;unk&gt;, or had explosive community spread, such as &lt;unk&gt;.</td>\n",
       "      <td>it is interesting to note that some countries have imposed compulsory testing for international arrivals and they both have either crashed their &lt;unk&gt; care &lt;unk&gt;, as in germany, or their communities were explosively propagated as in iceland.</td>\n",
       "      <td>0</td>\n",
       "      <td>0.006353</td>\n",
       "      <td>0</td>\n",
       "      <td>1</td>\n",
       "      <td>0.982714</td>\n",
       "      <td>0</td>\n",
       "      <td>0.676079</td>\n",
       "      <td>0.178245</td>\n",
       "      <td>0.741833</td>\n",
       "    </tr>\n",
       "    <tr>\n",
       "      <th>2145</th>\n",
       "      <td>2145</td>\n",
       "      <td>medium</td>\n",
       "      <td>here are some examples showing the slice objects used when using indexing syntax to slice a list:</td>\n",
       "      <td>some sample applications of index-based representations of list slicers are mentioned here.</td>\n",
       "      <td>here are some &lt;unk&gt; showing the slice &lt;unk&gt; used when using indexing syntax to slice a &lt;unk&gt;:</td>\n",
       "      <td>some sample &lt;unk&gt; of index-based &lt;unk&gt; of list slicers are mentioned here.</td>\n",
       "      <td>0</td>\n",
       "      <td>0.000678</td>\n",
       "      <td>1</td>\n",
       "      <td>1</td>\n",
       "      <td>0.990602</td>\n",
       "      <td>1</td>\n",
       "      <td>0.494203</td>\n",
       "      <td>0.198701</td>\n",
       "      <td>0.611353</td>\n",
       "    </tr>\n",
       "    <tr>\n",
       "      <th>478</th>\n",
       "      <td>478</td>\n",
       "      <td>cs_conf</td>\n",
       "      <td>hybrid systems modeled by quantum markov chains have already been often encountered in quantum information processing, and the quantum engineering systems developed in the future will most probably be hybrid systems.</td>\n",
       "      <td>hybrid systems as modeled by quantum markov chains have already been commonly encountered in quantum information processing, and there are many applications to quantum engineering that will mainly be hybrid systems.</td>\n",
       "      <td>hybrid &lt;unk&gt; modeled by &lt;unk&gt; &lt;unk&gt; &lt;unk&gt; have already been often encountered in &lt;unk&gt; &lt;unk&gt; &lt;unk&gt;, and the &lt;unk&gt; engineering &lt;unk&gt; developed in the &lt;unk&gt; will most probably be hybrid &lt;unk&gt;.</td>\n",
       "      <td>hybrid &lt;unk&gt; as modeled by quantum markov chains have already been commonly encountered in quantum &lt;unk&gt; processing, and there are many &lt;unk&gt; to quantum engineering that will mainly be hybrid &lt;unk&gt;.</td>\n",
       "      <td>0</td>\n",
       "      <td>0.029835</td>\n",
       "      <td>0</td>\n",
       "      <td>1</td>\n",
       "      <td>0.986846</td>\n",
       "      <td>0</td>\n",
       "      <td>0.795814</td>\n",
       "      <td>0.450035</td>\n",
       "      <td>0.650433</td>\n",
       "    </tr>\n",
       "    <tr>\n",
       "      <th>1022</th>\n",
       "      <td>1022</td>\n",
       "      <td>student</td>\n",
       "      <td>in order to verify that the knowledge graph meets a prescribed structure, we decided to use shex (structural schema language for rdf graphs).</td>\n",
       "      <td>so, we decided to use shex (a structure-aware schema language for rdf graphs) to verify that a knowledge graph has the prescribed type structure.</td>\n",
       "      <td>in &lt;unk&gt; to verify that the knowledge &lt;unk&gt; meets a prescribed structure, we decided to use &lt;unk&gt; (structural schema language for &lt;unk&gt; &lt;unk&gt;s).</td>\n",
       "      <td>so, we decided to use shex (a &lt;unk&gt;-aware schema &lt;unk&gt; for rdf &lt;unk&gt;) to verify that a &lt;unk&gt; &lt;unk&gt; has the prescribed &lt;unk&gt; &lt;unk&gt;.</td>\n",
       "      <td>0</td>\n",
       "      <td>0.003295</td>\n",
       "      <td>0</td>\n",
       "      <td>1</td>\n",
       "      <td>0.959607</td>\n",
       "      <td>0</td>\n",
       "      <td>0.700569</td>\n",
       "      <td>0.372607</td>\n",
       "      <td>0.661965</td>\n",
       "    </tr>\n",
       "    <tr>\n",
       "      <th>1576</th>\n",
       "      <td>1576</td>\n",
       "      <td>student</td>\n",
       "      <td>unfortunately, due the time limitations of the project it was decided to not be further explore the option of newton type methods and conduct the experiments using the other optimization algorithms.</td>\n",
       "      <td>unfortunately, the alternative optimization algorithms used were decided to not further explore the newton s option due to the time constraints, and instead perform experiments with the other optimization algorithms.</td>\n",
       "      <td>unfortunately, due the &lt;unk&gt; limitations of the &lt;unk&gt; it was decided to not be further explore the option of &lt;unk&gt; type &lt;unk&gt; and conduct the &lt;unk&gt; using the other optimization &lt;unk&gt;.</td>\n",
       "      <td>unfortunately, the alternative &lt;unk&gt; &lt;unk&gt; used were decided to not further explore the newton s option due to the &lt;unk&gt; &lt;unk&gt;, and instead perform &lt;unk&gt; with the other &lt;unk&gt; &lt;unk&gt;.</td>\n",
       "      <td>0</td>\n",
       "      <td>0.013544</td>\n",
       "      <td>0</td>\n",
       "      <td>1</td>\n",
       "      <td>0.998372</td>\n",
       "      <td>0</td>\n",
       "      <td>0.548300</td>\n",
       "      <td>0.168651</td>\n",
       "      <td>0.660789</td>\n",
       "    </tr>\n",
       "    <tr>\n",
       "      <th>2916</th>\n",
       "      <td>2916</td>\n",
       "      <td>medium</td>\n",
       "      <td>in this example, i will show how to create a bn only using expert knowledge.</td>\n",
       "      <td>let us now illustrate how to construct a bn using only expert knowledge in this example.</td>\n",
       "      <td>in this &lt;unk&gt;, i will show how to create a &lt;unk&gt; only using expert &lt;unk&gt;.</td>\n",
       "      <td>let us now illustrate how to construct a bn using only expert &lt;unk&gt; in this &lt;unk&gt;.</td>\n",
       "      <td>0</td>\n",
       "      <td>0.000518</td>\n",
       "      <td>1</td>\n",
       "      <td>1</td>\n",
       "      <td>0.995651</td>\n",
       "      <td>1</td>\n",
       "      <td>0.732355</td>\n",
       "      <td>0.241612</td>\n",
       "      <td>0.745144</td>\n",
       "    </tr>\n",
       "    <tr>\n",
       "      <th>2470</th>\n",
       "      <td>2470</td>\n",
       "      <td>medium</td>\n",
       "      <td>this blog will speculate on how enterprise knowledge graphs (ekgs) will evolve to contain specialized functions and specialized subgraphs.</td>\n",
       "      <td>we speculate here how enterprise knowledge graphs (ekgs) evolve toward having specialized functions and specialized subgraphs.</td>\n",
       "      <td>this blog will speculate on how enterprise &lt;unk&gt; &lt;unk&gt; (&lt;unk&gt;) will evolve to contain specialized &lt;unk&gt; and specialized sub&lt;unk&gt;.</td>\n",
       "      <td>we speculate here how enterprise &lt;unk&gt; &lt;unk&gt; (ekgs) evolve toward having specialized &lt;unk&gt; and specialized sub&lt;unk&gt;.</td>\n",
       "      <td>0</td>\n",
       "      <td>0.001066</td>\n",
       "      <td>1</td>\n",
       "      <td>1</td>\n",
       "      <td>0.982592</td>\n",
       "      <td>0</td>\n",
       "      <td>0.792472</td>\n",
       "      <td>0.397301</td>\n",
       "      <td>0.684679</td>\n",
       "    </tr>\n",
       "    <tr>\n",
       "      <th>2493</th>\n",
       "      <td>2493</td>\n",
       "      <td>medium</td>\n",
       "      <td>(also, note that only looking at the next immediate reward is very similar to a greedy algorithm.</td>\n",
       "      <td>note that the greedy algorithm merely looks at its immediate reward.</td>\n",
       "      <td>(also, &lt;unk&gt; that only looking at the next immediate reward is very similar to a greedy &lt;unk&gt;.</td>\n",
       "      <td>&lt;unk&gt; that the greedy &lt;unk&gt; merely looks at its immediate reward.</td>\n",
       "      <td>0</td>\n",
       "      <td>0.017621</td>\n",
       "      <td>1</td>\n",
       "      <td>1</td>\n",
       "      <td>0.880950</td>\n",
       "      <td>1</td>\n",
       "      <td>0.494998</td>\n",
       "      <td>0.185540</td>\n",
       "      <td>0.615760</td>\n",
       "    </tr>\n",
       "    <tr>\n",
       "      <th>2331</th>\n",
       "      <td>2331</td>\n",
       "      <td>medium</td>\n",
       "      <td>peng has a very unique style of writing that is both direct, but also containing style.</td>\n",
       "      <td>pengs writing style is very different from all other languages: its writing is largely written in a direct, but also containing style.</td>\n",
       "      <td>&lt;unk&gt; has a very unique style of writing that is both direct, but also containing style.</td>\n",
       "      <td>pengs writing style is very different from all other &lt;unk&gt;: its writing is largely written in a direct, but also containing style.</td>\n",
       "      <td>0</td>\n",
       "      <td>0.003134</td>\n",
       "      <td>1</td>\n",
       "      <td>1</td>\n",
       "      <td>0.962707</td>\n",
       "      <td>0</td>\n",
       "      <td>0.515218</td>\n",
       "      <td>0.192285</td>\n",
       "      <td>0.629131</td>\n",
       "    </tr>\n",
       "  </tbody>\n",
       "</table>\n",
       "</div>"
      ],
      "text/plain": [
       "      Unnamed: 0   source  ...      BLEU        F1\n",
       "1746  1746        student  ...  0.146499  0.697521\n",
       "2761  2761        medium   ...  0.266133  0.752363\n",
       "1971  1971        student  ...  0.246240  0.653656\n",
       "522   522         cs_conf  ...  0.313721  0.714443\n",
       "1799  1799        student  ...  0.401158  0.673741\n",
       "1008  1008        student  ...  0.279673  0.624807\n",
       "1674  1674        student  ...  0.629941  0.518581\n",
       "2433  2433        medium   ...  0.040430  0.349007\n",
       "2410  2410        medium   ...  0.729763  0.409508\n",
       "1270  1270        student  ...  0.195831  0.713542\n",
       "1475  1475        student  ...  0.391678  0.699383\n",
       "2598  2598        medium   ...  0.178245  0.741833\n",
       "2145  2145        medium   ...  0.198701  0.611353\n",
       "478   478         cs_conf  ...  0.450035  0.650433\n",
       "1022  1022        student  ...  0.372607  0.661965\n",
       "1576  1576        student  ...  0.168651  0.660789\n",
       "2916  2916        medium   ...  0.241612  0.745144\n",
       "2470  2470        medium   ...  0.397301  0.684679\n",
       "2493  2493        medium   ...  0.185540  0.615760\n",
       "2331  2331        medium   ...  0.192285  0.629131\n",
       "\n",
       "[20 rows x 15 columns]"
      ]
     },
     "execution_count": 42,
     "metadata": {
      "tags": []
     },
     "output_type": "execute_result"
    }
   ],
   "source": [
    "cond = (data_T5_p3['output_roberta_prob']-data_T5_p3['input_roberta_prob'])>=0.8\n",
    "print(len(data_T5_p3[cond]))\n",
    "data_T5_p3[cond].sample(20)"
   ]
  },
  {
   "cell_type": "markdown",
   "metadata": {
    "id": "1cGF2HMgOeG1"
   },
   "source": [
    "**Mean scientificity probability of model input**"
   ]
  },
  {
   "cell_type": "code",
   "execution_count": null,
   "metadata": {
    "colab": {
     "base_uri": "https://localhost:8080/"
    },
    "id": "sUGpCh_JrThq",
    "outputId": "2554e497-ee1f-4147-a1a3-eb9713c4dc81"
   },
   "outputs": [
    {
     "name": "stdout",
     "output_type": "stream",
     "text": [
      "cs_conf\n",
      "0.2784894318450242\n",
      "student\n",
      "0.12369681816286175\n",
      "medium\n",
      "0.04699342163145775\n"
     ]
    }
   ],
   "source": [
    "for key in set(df.source.to_list()):\n",
    "  print(key)\n",
    "  print(data_T5_p3[data_T5_p3.source == key]['input_roberta_prob'].mean())\n",
    "\n",
    "  "
   ]
  },
  {
   "cell_type": "markdown",
   "metadata": {
    "id": "kg-qSz9AOile"
   },
   "source": [
    "**Mean scientificity probability of model output**"
   ]
  },
  {
   "cell_type": "code",
   "execution_count": null,
   "metadata": {
    "colab": {
     "base_uri": "https://localhost:8080/"
    },
    "id": "LGmee4jjaYu4",
    "outputId": "16678a4f-159a-4461-c81d-9d5738aaa3be"
   },
   "outputs": [
    {
     "name": "stdout",
     "output_type": "stream",
     "text": [
      "cs_conf\n",
      "0.385133581898408\n",
      "student\n",
      "0.45843934749794424\n",
      "medium\n",
      "0.2551752262285445\n"
     ]
    }
   ],
   "source": [
    "for key in set(df.source.to_list()):\n",
    "  print(key)\n",
    "  print(data_T5_p3[data_T5_p3.source == key]['output_roberta_prob'].mean())"
   ]
  },
  {
   "cell_type": "markdown",
   "metadata": {
    "id": "3Wud60alRaRM"
   },
   "source": [
    "# Semantic Evaluation\n",
    "\n",
    "In this section we illustrate Moverscore achieved by our models, aswell as the diversity (inv.BLEU) to put Moverscore in perspective."
   ]
  },
  {
   "cell_type": "code",
   "execution_count": null,
   "metadata": {
    "colab": {
     "base_uri": "https://localhost:8080/",
     "height": 423
    },
    "id": "1gtDmxkg_cBU",
    "outputId": "8ca5a52b-3fce-4393-b1a0-3da93d0092d6"
   },
   "outputs": [
    {
     "data": {
      "image/png": "[encoded data removed]",
      "text/plain": [
       "<Figure size 720x432 with 1 Axes>"
      ]
     },
     "metadata": {
      "needs_background": "light",
      "tags": []
     },
     "output_type": "display_data"
    },
    {
     "name": "stdout",
     "output_type": "stream",
     "text": [
      "Data: T5_p2 | Mean MS: 0.67, (STD: 0.16)\n",
      "Data: T5_p3 | Mean MS: 0.69, (STD: 0.11)\n",
      "Data: GPT2 | Mean MS: 0.57, (STD: 0.11)\n"
     ]
    }
   ],
   "source": [
    "fig, ax = plt.subplots(1,1, figsize = (10,6))\n",
    "\n",
    "ax.hist([x['MoverScore'] for _,x in data.items()], label = [key for key, _ in data.items()], density = True, bins = 50 )\n",
    "ax.legend(fontsize = 14)\n",
    "ax.set_ylabel('Moverscore', fontsize = 14)\n",
    "plt.show()\n",
    "\n",
    "for key, x in data.items():\n",
    "  x = x['MoverScore']\n",
    "  print(f'Data: {key} | Mean MS: {np.mean(x):.2f}, (STD: {np.std(x):.2f})')"
   ]
  },
  {
   "cell_type": "code",
   "execution_count": null,
   "metadata": {
    "colab": {
     "base_uri": "https://localhost:8080/",
     "height": 427
    },
    "id": "q9DsVO8cSAe-",
    "outputId": "8200c4bb-1491-4d43-e04c-65156861b3d9"
   },
   "outputs": [
    {
     "data": {
      "image/png": "[encoded data removed]",
      "text/plain": [
       "<Figure size 720x432 with 1 Axes>"
      ]
     },
     "metadata": {
      "needs_background": "light",
      "tags": []
     },
     "output_type": "display_data"
    },
    {
     "name": "stdout",
     "output_type": "stream",
     "text": [
      "Data: T5_p2 | Mean BLEU: 0.67, (STD: 0.18)\n",
      "Data: T5_p3 | Mean BLEU: 0.68, (STD: 0.15)\n",
      "Data: GPT2 | Mean BLEU: 0.78, (STD: 0.09)\n"
     ]
    }
   ],
   "source": [
    "fig, ax = plt.subplots(1,1, figsize = (10,6))\n",
    "\n",
    "ax.hist([1-x['BLEU'] for _,x in data.items()], label = [key for key, _ in data.items()], density = True, bins = 50 )\n",
    "ax.legend(fontsize = 14)\n",
    "ax.set_ylabel('inv. BLEU', fontsize = 14)\n",
    "plt.show()\n",
    "\n",
    "for key, x in data.items():\n",
    "  x = 1-x['BLEU']\n",
    "  print(f'Data: {key} | Mean BLEU: {np.mean(x):.2f}, (STD: {np.std(x):.2f})')"
   ]
  },
  {
   "cell_type": "code",
   "execution_count": null,
   "metadata": {
    "id": "iFnoGzeeUr-G"
   },
   "outputs": [],
   "source": [
    "def F1(x,y):\n",
    "  if (x==None) or (y==None):\n",
    "    return None\n",
    "  else:\n",
    "    return 2*(x*y)/(x+y)   \n",
    "\n",
    "for _, x in data.items():\n",
    "  x['F1'] = [F1(MS,1-B) for MS,B in zip(x['MoverScore'],x['BLEU'])]"
   ]
  },
  {
   "cell_type": "code",
   "execution_count": null,
   "metadata": {
    "colab": {
     "base_uri": "https://localhost:8080/",
     "height": 423
    },
    "id": "arze4Ln4Vct6",
    "outputId": "5fdd5f8c-21f7-4ed2-999f-c0c59d44641b"
   },
   "outputs": [
    {
     "data": {
      "image/png": "[encoded data removed]",
      "text/plain": [
       "<Figure size 720x432 with 1 Axes>"
      ]
     },
     "metadata": {
      "needs_background": "light",
      "tags": []
     },
     "output_type": "display_data"
    },
    {
     "name": "stdout",
     "output_type": "stream",
     "text": [
      "Data: T5_p2 | Mean F1: 0.63, (STD: 0.11)\n",
      "Data: T5_p3 | Mean F1: 0.66, (STD: 0.08)\n",
      "Data: GPT2 | Mean F1: 0.65, (STD: 0.07)\n"
     ]
    }
   ],
   "source": [
    "fig, ax = plt.subplots(1,1, figsize = (10,6))\n",
    "\n",
    "ax.hist([x['F1'] for _,x in data.items()], label = [key for key, _ in data.items()], density = True, bins = 50 )\n",
    "ax.legend(fontsize = 14)\n",
    "ax.set_ylabel('F1(MS, inv. BLEU)', fontsize = 14)\n",
    "plt.show()\n",
    "\n",
    "for key, x in data.items():\n",
    "  x = x['F1']\n",
    "  print(f'Data: {key} | Mean F1: {np.mean(x):.2f}, (STD: {np.std(x):.2f})')"
   ]
  },
  {
   "cell_type": "code",
   "execution_count": null,
   "metadata": {
    "id": "s9uXrKkrck99"
   },
   "outputs": [],
   "source": []
  },
  {
   "cell_type": "markdown",
   "metadata": {
    "id": "F2_bcpQbRDgM"
   },
   "source": [
    "# Additional RoBERTa Experiment\n",
    "\n",
    "Lastly, we perform an experiment on a new test set, in which input sentences are chosen indepedently of their RoBERTa label"
   ]
  },
  {
   "cell_type": "code",
   "execution_count": null,
   "metadata": {
    "colab": {
     "base_uri": "https://localhost:8080/",
     "height": 399
    },
    "id": "c-5XGXB1RGq4",
    "outputId": "6a84618c-9ed7-4072-fd80-6195e2bb0382"
   },
   "outputs": [
    {
     "data": {
      "text/html": [
       "<div>\n",
       "<style scoped>\n",
       "    .dataframe tbody tr th:only-of-type {\n",
       "        vertical-align: middle;\n",
       "    }\n",
       "\n",
       "    .dataframe tbody tr th {\n",
       "        vertical-align: top;\n",
       "    }\n",
       "\n",
       "    .dataframe thead th {\n",
       "        text-align: right;\n",
       "    }\n",
       "</style>\n",
       "<table border=\"1\" class=\"dataframe\">\n",
       "  <thead>\n",
       "    <tr style=\"text-align: right;\">\n",
       "      <th></th>\n",
       "      <th>Unnamed: 0</th>\n",
       "      <th>Unnamed: 0.1.1</th>\n",
       "      <th>sent</th>\n",
       "      <th>true_label</th>\n",
       "      <th>pred_label</th>\n",
       "      <th>prob0</th>\n",
       "      <th>prob1</th>\n",
       "      <th>prob_max</th>\n",
       "      <th>len</th>\n",
       "      <th>sent_masked</th>\n",
       "      <th>source</th>\n",
       "      <th>paraphrase</th>\n",
       "      <th>praphrase_masked</th>\n",
       "      <th>para_label</th>\n",
       "      <th>para_prob0</th>\n",
       "      <th>para_prob1</th>\n",
       "      <th>para_prob_max</th>\n",
       "      <th>para_len</th>\n",
       "    </tr>\n",
       "  </thead>\n",
       "  <tbody>\n",
       "    <tr>\n",
       "      <th>0</th>\n",
       "      <td>0</td>\n",
       "      <td>73110</td>\n",
       "      <td>this allows us to use similarity metrics on past actions to find non-friends who are as similar in preferences to a user as her actual friends.</td>\n",
       "      <td>1</td>\n",
       "      <td>0</td>\n",
       "      <td>0.563415</td>\n",
       "      <td>0.436585</td>\n",
       "      <td>0.563415</td>\n",
       "      <td>29</td>\n",
       "      <td>this allows us to use &lt;unk&gt; &lt;unk&gt; on past &lt;unk&gt; to find non-friends who are as similar in &lt;unk&gt; to a &lt;unk&gt; as her actual friends.</td>\n",
       "      <td>cs_conf</td>\n",
       "      <td>this allows us to harness past behaviour similarity to learn non-friends whose preferences are as similar as those of the actual user.</td>\n",
       "      <td>this allows us to harness past behaviour similarity to learn non-friends whose preferences are as similar as those of the actual &lt;unk&gt;.</td>\n",
       "      <td>1</td>\n",
       "      <td>0.290120</td>\n",
       "      <td>0.709880</td>\n",
       "      <td>0.709880</td>\n",
       "      <td>29</td>\n",
       "    </tr>\n",
       "    <tr>\n",
       "      <th>1</th>\n",
       "      <td>1</td>\n",
       "      <td>3007</td>\n",
       "      <td>that is why we defined the conditional probability with respect to a specific delay.</td>\n",
       "      <td>1</td>\n",
       "      <td>0</td>\n",
       "      <td>0.576455</td>\n",
       "      <td>0.423545</td>\n",
       "      <td>0.576455</td>\n",
       "      <td>15</td>\n",
       "      <td>that is why we defined the conditional &lt;unk&gt; with &lt;unk&gt; to a specific &lt;unk&gt;.</td>\n",
       "      <td>cs_conf</td>\n",
       "      <td>we derived such conditional probability with respect to a given delay.</td>\n",
       "      <td>we derived such conditional &lt;unk&gt; with respect to a given &lt;unk&gt;.</td>\n",
       "      <td>1</td>\n",
       "      <td>0.188913</td>\n",
       "      <td>0.811087</td>\n",
       "      <td>0.811087</td>\n",
       "      <td>15</td>\n",
       "    </tr>\n",
       "    <tr>\n",
       "      <th>2</th>\n",
       "      <td>2</td>\n",
       "      <td>111845</td>\n",
       "      <td>this section discusses the datasets used in the experiments and shows a synthetic evaluation of the method as well as experiments based on real data.</td>\n",
       "      <td>1</td>\n",
       "      <td>0</td>\n",
       "      <td>0.677521</td>\n",
       "      <td>0.322479</td>\n",
       "      <td>0.677521</td>\n",
       "      <td>26</td>\n",
       "      <td>this &lt;unk&gt; discusses the &lt;unk&gt; used in the &lt;unk&gt; and shows a synthetic &lt;unk&gt; of the &lt;unk&gt; as well as &lt;unk&gt; based on real &lt;unk&gt;.</td>\n",
       "      <td>cs_conf</td>\n",
       "      <td>in this section, we discuss the datasets used for the experiments and present the synthetic evaluation of the method along with experiments on real data.</td>\n",
       "      <td>in this &lt;unk&gt;, we discuss the &lt;unk&gt; used for the &lt;unk&gt; and present the synthetic evaluation of the &lt;unk&gt; along with &lt;unk&gt; on real &lt;unk&gt;.</td>\n",
       "      <td>1</td>\n",
       "      <td>0.150792</td>\n",
       "      <td>0.849208</td>\n",
       "      <td>0.849208</td>\n",
       "      <td>26</td>\n",
       "    </tr>\n",
       "    <tr>\n",
       "      <th>3</th>\n",
       "      <td>3</td>\n",
       "      <td>129133</td>\n",
       "      <td>the ground truth is indicated with a solid line while the nodes along the predicted are shown as dots.</td>\n",
       "      <td>1</td>\n",
       "      <td>0</td>\n",
       "      <td>0.542001</td>\n",
       "      <td>0.457999</td>\n",
       "      <td>0.542001</td>\n",
       "      <td>20</td>\n",
       "      <td>the &lt;unk&gt; truth is indicated with a solid &lt;unk&gt; while the &lt;unk&gt; along the predicted are shown as dots.</td>\n",
       "      <td>cs_conf</td>\n",
       "      <td>the ground truth points are indicated by solid lines and the edgepoints along the expected paths are highlighted by the dot.</td>\n",
       "      <td>the ground truth &lt;unk&gt; are indicated by solid &lt;unk&gt; and the edge&lt;unk&gt; along the expected &lt;unk&gt; are highlighted by the dot.</td>\n",
       "      <td>0</td>\n",
       "      <td>0.735963</td>\n",
       "      <td>0.264038</td>\n",
       "      <td>0.735963</td>\n",
       "      <td>20</td>\n",
       "    </tr>\n",
       "    <tr>\n",
       "      <th>4</th>\n",
       "      <td>4</td>\n",
       "      <td>129058</td>\n",
       "      <td>map building with robots is interesting because there are often no exact ground truths, only location estimates.</td>\n",
       "      <td>1</td>\n",
       "      <td>0</td>\n",
       "      <td>0.851524</td>\n",
       "      <td>0.148476</td>\n",
       "      <td>0.851524</td>\n",
       "      <td>19</td>\n",
       "      <td>&lt;unk&gt; building with &lt;unk&gt; is interesting because there are often no exact &lt;unk&gt; truths, only &lt;unk&gt; &lt;unk&gt;.</td>\n",
       "      <td>cs_conf</td>\n",
       "      <td>robot mappings are interesting in that, often, the ground truth is not exactly known, only location estimates are used.</td>\n",
       "      <td>robot mappings are interesting in that, often, the ground truth is not exactly known, only location estimates are used.</td>\n",
       "      <td>0</td>\n",
       "      <td>0.918799</td>\n",
       "      <td>0.081201</td>\n",
       "      <td>0.918799</td>\n",
       "      <td>19</td>\n",
       "    </tr>\n",
       "  </tbody>\n",
       "</table>\n",
       "</div>"
      ],
      "text/plain": [
       "   Unnamed: 0  Unnamed: 0.1.1  ... para_prob_max  para_len\n",
       "0  0           73110           ...  0.709880      29      \n",
       "1  1           3007            ...  0.811087      15      \n",
       "2  2           111845          ...  0.849208      26      \n",
       "3  3           129133          ...  0.735963      20      \n",
       "4  4           129058          ...  0.918799      19      \n",
       "\n",
       "[5 rows x 18 columns]"
      ]
     },
     "execution_count": 26,
     "metadata": {
      "tags": []
     },
     "output_type": "execute_result"
    }
   ],
   "source": [
    "data2 = pd.read_excel(data_path+'final_eval2_corrected.xlsx')\n",
    "data2.head()"
   ]
  },
  {
   "cell_type": "code",
   "execution_count": null,
   "metadata": {
    "colab": {
     "base_uri": "https://localhost:8080/",
     "height": 340
    },
    "id": "4lVSiOYjRc1Z",
    "outputId": "67a8ad8c-b51f-4798-8563-def3765dd365"
   },
   "outputs": [
    {
     "data": {
      "image/png": "[encoded data removed]",
      "text/plain": [
       "<Figure size 360x360 with 1 Axes>"
      ]
     },
     "metadata": {
      "needs_background": "light",
      "tags": []
     },
     "output_type": "display_data"
    }
   ],
   "source": [
    "cm = confusion_matrix(data2['pred_label'], data2['para_label'], normalize = 'true')\n",
    "show_confusion_matrix(cm, top_only=False)\n"
   ]
  },
  {
   "cell_type": "code",
   "execution_count": null,
   "metadata": {
    "colab": {
     "base_uri": "https://localhost:8080/",
     "height": 1000
    },
    "id": "fDf8voJ9Ssbs",
    "outputId": "73414963-9913-429d-d567-ac7281fe36fc"
   },
   "outputs": [
    {
     "name": "stdout",
     "output_type": "stream",
     "text": [
      "cs_conf\n"
     ]
    },
    {
     "data": {
      "image/png": "[encoded data removed]",
      "text/plain": [
       "<Figure size 360x360 with 1 Axes>"
      ]
     },
     "metadata": {
      "needs_background": "light",
      "tags": []
     },
     "output_type": "display_data"
    },
    {
     "name": "stdout",
     "output_type": "stream",
     "text": [
      "student\n"
     ]
    },
    {
     "data": {
      "image/png": "[encoded data removed]",
      "text/plain": [
       "<Figure size 360x360 with 1 Axes>"
      ]
     },
     "metadata": {
      "needs_background": "light",
      "tags": []
     },
     "output_type": "display_data"
    },
    {
     "name": "stdout",
     "output_type": "stream",
     "text": [
      "medium\n"
     ]
    },
    {
     "data": {
      "image/png": "[encoded data removed]",
      "text/plain": [
       "<Figure size 360x360 with 1 Axes>"
      ]
     },
     "metadata": {
      "needs_background": "light",
      "tags": []
     },
     "output_type": "display_data"
    }
   ],
   "source": [
    "for key in set(data2.source.to_list()):\n",
    "  print(key)\n",
    "  df = data2[data2.source == key]\n",
    "  cm = confusion_matrix(df['pred_label'], df['para_label'], normalize = 'true')\n",
    "  show_confusion_matrix(cm, top_only=False) "
   ]
  },
  {
   "cell_type": "code",
   "execution_count": null,
   "metadata": {
    "id": "MYRUsUQUTNIT"
   },
   "outputs": [],
   "source": []
  }
 ],
 "metadata": {
  "colab": {
   "collapsed_sections": [],
   "name": "AutomaticEvaluation_corrected.ipynb",
   "provenance": [],
   "toc_visible": true
  },
  "kernelspec": {
   "display_name": "Python 3",
   "language": "python",
   "name": "python3"
  },
  "language_info": {
   "codemirror_mode": {
    "name": "ipython",
    "version": 3
   },
   "file_extension": ".py",
   "mimetype": "text/x-python",
   "name": "python",
   "nbconvert_exporter": "python",
   "pygments_lexer": "ipython3",
   "version": "3.7.5"
  },
  "toc": {
   "base_numbering": 1,
   "nav_menu": {},
   "number_sections": true,
   "sideBar": true,
   "skip_h1_title": false,
   "title_cell": "Table of Contents",
   "title_sidebar": "Contents",
   "toc_cell": false,
   "toc_position": {},
   "toc_section_display": true,
   "toc_window_display": false
  }
 },
 "nbformat": 4,
 "nbformat_minor": 1
}
