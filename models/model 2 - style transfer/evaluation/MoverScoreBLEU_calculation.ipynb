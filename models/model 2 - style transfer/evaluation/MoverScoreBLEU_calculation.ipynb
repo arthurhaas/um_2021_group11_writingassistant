{
 "cells": [
  {
   "cell_type": "markdown",
   "metadata": {
    "id": "rPCCWgJSfY42"
   },
   "source": [
    "# Notebook for Automatic Evaluation of Final Model\n",
    "\n",
    "This Notebook needs to be fed Model input and model output to evaluate\n",
    "  - Semantic Preservation: Using Moverscore and comparing to baseline from PARANMT\n",
    "  \n",
    "**PLEASE INSTALL MOVERSCORE AS BELOW USING**\n",
    "- https://drive.google.com/drive/folders/1SMHlJ338BHoJnkRiY-419EjLdFTHV91O?usp=sharing\n",
    "\n",
    "Alternatively, please refer to https://github.com/AIPHES/emnlp19-moverscore\n"
   ]
  },
  {
   "cell_type": "code",
   "execution_count": 1,
   "metadata": {
    "colab": {
     "base_uri": "https://localhost:8080/"
    },
    "id": "HUcgjuB-NhKo",
    "outputId": "41c3013d-e2a6-430b-e4f1-a591908c6ecd"
   },
   "outputs": [
    {
     "name": "stdout",
     "output_type": "stream",
     "text": [
      "Mounted at /content/gdrive/\n"
     ]
    }
   ],
   "source": [
    "#from google.colab import drive\n",
    "#drive.mount('/content/gdrive/')"
   ]
  },
  {
   "cell_type": "markdown",
   "metadata": {
    "id": "3qfFHE5QfctJ"
   },
   "source": [
    "## Setup\n"
   ]
  },
  {
   "cell_type": "markdown",
   "metadata": {
    "id": "p6fOfaff5WuX"
   },
   "source": [
    "First, connecting to drive."
   ]
  },
  {
   "cell_type": "markdown",
   "metadata": {
    "id": "rByBj68_6Fhc"
   },
   "source": [
    "### Moverscore Setup"
   ]
  },
  {
   "cell_type": "markdown",
   "metadata": {
    "id": "5g1LBLBd5mHG"
   },
   "source": [
    "Please correct path to Moverscore requirements, if necessary!"
   ]
  },
  {
   "cell_type": "code",
   "execution_count": 2,
   "metadata": {
    "colab": {
     "base_uri": "https://localhost:8080/",
     "height": 0
    },
    "id": "MZhfdg-iTJin",
    "outputId": "0bc73e73-7b3f-4381-a265-5f87b9b278c1"
   },
   "outputs": [
    {
     "name": "stdout",
     "output_type": "stream",
     "text": [
      "Requirement already satisfied: torch>=1.0.0 in /usr/local/lib/python3.7/dist-packages (from -r /content/gdrive/MyDrive/NLP_EvaluationMetrics/MoverScore/requirements.txt (line 1)) (1.9.0+cu102)\n",
      "Requirement already satisfied: pyemd==0.5.1 in /usr/local/lib/python3.7/dist-packages (from -r /content/gdrive/MyDrive/NLP_EvaluationMetrics/MoverScore/requirements.txt (line 2)) (0.5.1)\n",
      "Collecting pytorch-transformers>=1.1.0\n",
      "\u001b[?25l  Downloading https://files.pythonhosted.org/packages/a3/b7/d3d18008a67e0b968d1ab93ad444fc05699403fa662f634b2f2c318a508b/pytorch_transformers-1.2.0-py3-none-any.whl (176kB)\n",
      "\u001b[K     |████████████████████████████████| 184kB 4.3MB/s \n",
      "\u001b[?25hRequirement already satisfied: typing-extensions in /usr/local/lib/python3.7/dist-packages (from torch>=1.0.0->-r /content/gdrive/MyDrive/NLP_EvaluationMetrics/MoverScore/requirements.txt (line 1)) (3.7.4.3)\n",
      "Requirement already satisfied: numpy<2.0.0,>=1.9.0 in /usr/local/lib/python3.7/dist-packages (from pyemd==0.5.1->-r /content/gdrive/MyDrive/NLP_EvaluationMetrics/MoverScore/requirements.txt (line 2)) (1.19.5)\n",
      "Requirement already satisfied: requests in /usr/local/lib/python3.7/dist-packages (from pytorch-transformers>=1.1.0->-r /content/gdrive/MyDrive/NLP_EvaluationMetrics/MoverScore/requirements.txt (line 3)) (2.23.0)\n",
      "Collecting boto3\n",
      "\u001b[?25l  Downloading https://files.pythonhosted.org/packages/39/96/5c009100d651f4646639f9777a82777430897590f5fd28bbc077cace09bf/boto3-1.17.97-py2.py3-none-any.whl (131kB)\n",
      "\u001b[K     |████████████████████████████████| 133kB 22.2MB/s \n",
      "\u001b[?25hRequirement already satisfied: regex in /usr/local/lib/python3.7/dist-packages (from pytorch-transformers>=1.1.0->-r /content/gdrive/MyDrive/NLP_EvaluationMetrics/MoverScore/requirements.txt (line 3)) (2019.12.20)\n",
      "Collecting sacremoses\n",
      "\u001b[?25l  Downloading https://files.pythonhosted.org/packages/75/ee/67241dc87f266093c533a2d4d3d69438e57d7a90abb216fa076e7d475d4a/sacremoses-0.0.45-py3-none-any.whl (895kB)\n",
      "\u001b[K     |████████████████████████████████| 901kB 36.8MB/s \n",
      "\u001b[?25hCollecting sentencepiece\n",
      "\u001b[?25l  Downloading https://files.pythonhosted.org/packages/ac/aa/1437691b0c7c83086ebb79ce2da16e00bef024f24fec2a5161c35476f499/sentencepiece-0.1.96-cp37-cp37m-manylinux_2_17_x86_64.manylinux2014_x86_64.whl (1.2MB)\n",
      "\u001b[K     |████████████████████████████████| 1.2MB 32.0MB/s \n",
      "\u001b[?25hRequirement already satisfied: tqdm in /usr/local/lib/python3.7/dist-packages (from pytorch-transformers>=1.1.0->-r /content/gdrive/MyDrive/NLP_EvaluationMetrics/MoverScore/requirements.txt (line 3)) (4.41.1)\n",
      "Requirement already satisfied: certifi>=2017.4.17 in /usr/local/lib/python3.7/dist-packages (from requests->pytorch-transformers>=1.1.0->-r /content/gdrive/MyDrive/NLP_EvaluationMetrics/MoverScore/requirements.txt (line 3)) (2021.5.30)\n",
      "Requirement already satisfied: urllib3!=1.25.0,!=1.25.1,<1.26,>=1.21.1 in /usr/local/lib/python3.7/dist-packages (from requests->pytorch-transformers>=1.1.0->-r /content/gdrive/MyDrive/NLP_EvaluationMetrics/MoverScore/requirements.txt (line 3)) (1.24.3)\n",
      "Requirement already satisfied: idna<3,>=2.5 in /usr/local/lib/python3.7/dist-packages (from requests->pytorch-transformers>=1.1.0->-r /content/gdrive/MyDrive/NLP_EvaluationMetrics/MoverScore/requirements.txt (line 3)) (2.10)\n",
      "Requirement already satisfied: chardet<4,>=3.0.2 in /usr/local/lib/python3.7/dist-packages (from requests->pytorch-transformers>=1.1.0->-r /content/gdrive/MyDrive/NLP_EvaluationMetrics/MoverScore/requirements.txt (line 3)) (3.0.4)\n",
      "Collecting botocore<1.21.0,>=1.20.97\n",
      "\u001b[?25l  Downloading https://files.pythonhosted.org/packages/94/a2/bd7cd40c61a71c3daede70158b5c0aca918057f63cfbef015c56cccdb6b2/botocore-1.20.97-py2.py3-none-any.whl (7.6MB)\n",
      "\u001b[K     |████████████████████████████████| 7.6MB 33.6MB/s \n",
      "\u001b[?25hCollecting jmespath<1.0.0,>=0.7.1\n",
      "  Downloading https://files.pythonhosted.org/packages/07/cb/5f001272b6faeb23c1c9e0acc04d48eaaf5c862c17709d20e3469c6e0139/jmespath-0.10.0-py2.py3-none-any.whl\n",
      "Collecting s3transfer<0.5.0,>=0.4.0\n",
      "\u001b[?25l  Downloading https://files.pythonhosted.org/packages/63/d0/693477c688348654ddc21dcdce0817653a294aa43f41771084c25e7ff9c7/s3transfer-0.4.2-py2.py3-none-any.whl (79kB)\n",
      "\u001b[K     |████████████████████████████████| 81kB 8.5MB/s \n",
      "\u001b[?25hRequirement already satisfied: click in /usr/local/lib/python3.7/dist-packages (from sacremoses->pytorch-transformers>=1.1.0->-r /content/gdrive/MyDrive/NLP_EvaluationMetrics/MoverScore/requirements.txt (line 3)) (7.1.2)\n",
      "Requirement already satisfied: six in /usr/local/lib/python3.7/dist-packages (from sacremoses->pytorch-transformers>=1.1.0->-r /content/gdrive/MyDrive/NLP_EvaluationMetrics/MoverScore/requirements.txt (line 3)) (1.15.0)\n",
      "Requirement already satisfied: joblib in /usr/local/lib/python3.7/dist-packages (from sacremoses->pytorch-transformers>=1.1.0->-r /content/gdrive/MyDrive/NLP_EvaluationMetrics/MoverScore/requirements.txt (line 3)) (1.0.1)\n",
      "Requirement already satisfied: python-dateutil<3.0.0,>=2.1 in /usr/local/lib/python3.7/dist-packages (from botocore<1.21.0,>=1.20.97->boto3->pytorch-transformers>=1.1.0->-r /content/gdrive/MyDrive/NLP_EvaluationMetrics/MoverScore/requirements.txt (line 3)) (2.8.1)\n",
      "\u001b[31mERROR: botocore 1.20.97 has requirement urllib3<1.27,>=1.25.4, but you'll have urllib3 1.24.3 which is incompatible.\u001b[0m\n",
      "Installing collected packages: jmespath, botocore, s3transfer, boto3, sacremoses, sentencepiece, pytorch-transformers\n",
      "Successfully installed boto3-1.17.97 botocore-1.20.97 jmespath-0.10.0 pytorch-transformers-1.2.0 s3transfer-0.4.2 sacremoses-0.0.45 sentencepiece-0.1.96\n",
      "Collecting transformers\n",
      "\u001b[?25l  Downloading https://files.pythonhosted.org/packages/00/92/6153f4912b84ee1ab53ab45663d23e7cf3704161cb5ef18b0c07e207cef2/transformers-4.7.0-py3-none-any.whl (2.5MB)\n",
      "\u001b[K     |████████████████████████████████| 2.5MB 4.3MB/s \n",
      "\u001b[?25hRequirement already satisfied: pyyaml in /usr/local/lib/python3.7/dist-packages (from transformers) (3.13)\n",
      "Requirement already satisfied: sacremoses in /usr/local/lib/python3.7/dist-packages (from transformers) (0.0.45)\n",
      "Requirement already satisfied: tqdm>=4.27 in /usr/local/lib/python3.7/dist-packages (from transformers) (4.41.1)\n",
      "Requirement already satisfied: regex!=2019.12.17 in /usr/local/lib/python3.7/dist-packages (from transformers) (2019.12.20)\n",
      "Collecting tokenizers<0.11,>=0.10.1\n",
      "\u001b[?25l  Downloading https://files.pythonhosted.org/packages/d4/e2/df3543e8ffdab68f5acc73f613de9c2b155ac47f162e725dcac87c521c11/tokenizers-0.10.3-cp37-cp37m-manylinux_2_5_x86_64.manylinux1_x86_64.manylinux_2_12_x86_64.manylinux2010_x86_64.whl (3.3MB)\n",
      "\u001b[K     |████████████████████████████████| 3.3MB 38.8MB/s \n",
      "\u001b[?25hRequirement already satisfied: packaging in /usr/local/lib/python3.7/dist-packages (from transformers) (20.9)\n",
      "Collecting huggingface-hub==0.0.8\n",
      "  Downloading https://files.pythonhosted.org/packages/a1/88/7b1e45720ecf59c6c6737ff332f41c955963090a18e72acbcbeac6b25e86/huggingface_hub-0.0.8-py3-none-any.whl\n",
      "Requirement already satisfied: numpy>=1.17 in /usr/local/lib/python3.7/dist-packages (from transformers) (1.19.5)\n",
      "Requirement already satisfied: importlib-metadata; python_version < \"3.8\" in /usr/local/lib/python3.7/dist-packages (from transformers) (4.5.0)\n",
      "Requirement already satisfied: requests in /usr/local/lib/python3.7/dist-packages (from transformers) (2.23.0)\n",
      "Requirement already satisfied: filelock in /usr/local/lib/python3.7/dist-packages (from transformers) (3.0.12)\n",
      "Requirement already satisfied: joblib in /usr/local/lib/python3.7/dist-packages (from sacremoses->transformers) (1.0.1)\n",
      "Requirement already satisfied: click in /usr/local/lib/python3.7/dist-packages (from sacremoses->transformers) (7.1.2)\n",
      "Requirement already satisfied: six in /usr/local/lib/python3.7/dist-packages (from sacremoses->transformers) (1.15.0)\n",
      "Requirement already satisfied: pyparsing>=2.0.2 in /usr/local/lib/python3.7/dist-packages (from packaging->transformers) (2.4.7)\n",
      "Requirement already satisfied: zipp>=0.5 in /usr/local/lib/python3.7/dist-packages (from importlib-metadata; python_version < \"3.8\"->transformers) (3.4.1)\n",
      "Requirement already satisfied: typing-extensions>=3.6.4; python_version < \"3.8\" in /usr/local/lib/python3.7/dist-packages (from importlib-metadata; python_version < \"3.8\"->transformers) (3.7.4.3)\n",
      "Requirement already satisfied: idna<3,>=2.5 in /usr/local/lib/python3.7/dist-packages (from requests->transformers) (2.10)\n",
      "Requirement already satisfied: chardet<4,>=3.0.2 in /usr/local/lib/python3.7/dist-packages (from requests->transformers) (3.0.4)\n",
      "Requirement already satisfied: certifi>=2017.4.17 in /usr/local/lib/python3.7/dist-packages (from requests->transformers) (2021.5.30)\n",
      "Requirement already satisfied: urllib3!=1.25.0,!=1.25.1,<1.26,>=1.21.1 in /usr/local/lib/python3.7/dist-packages (from requests->transformers) (1.24.3)\n",
      "Installing collected packages: tokenizers, huggingface-hub, transformers\n",
      "Successfully installed huggingface-hub-0.0.8 tokenizers-0.10.3 transformers-4.7.0\n",
      "Collecting pytorch-pretrained-bert\n",
      "\u001b[?25l  Downloading https://files.pythonhosted.org/packages/d7/e0/c08d5553b89973d9a240605b9c12404bcf8227590de62bae27acbcfe076b/pytorch_pretrained_bert-0.6.2-py3-none-any.whl (123kB)\n",
      "\u001b[K     |████████████████████████████████| 133kB 4.0MB/s \n",
      "\u001b[?25hRequirement already satisfied: requests in /usr/local/lib/python3.7/dist-packages (from pytorch-pretrained-bert) (2.23.0)\n",
      "Requirement already satisfied: numpy in /usr/local/lib/python3.7/dist-packages (from pytorch-pretrained-bert) (1.19.5)\n",
      "Requirement already satisfied: tqdm in /usr/local/lib/python3.7/dist-packages (from pytorch-pretrained-bert) (4.41.1)\n",
      "Requirement already satisfied: boto3 in /usr/local/lib/python3.7/dist-packages (from pytorch-pretrained-bert) (1.17.97)\n",
      "Requirement already satisfied: torch>=0.4.1 in /usr/local/lib/python3.7/dist-packages (from pytorch-pretrained-bert) (1.9.0+cu102)\n",
      "Requirement already satisfied: regex in /usr/local/lib/python3.7/dist-packages (from pytorch-pretrained-bert) (2019.12.20)\n",
      "Requirement already satisfied: idna<3,>=2.5 in /usr/local/lib/python3.7/dist-packages (from requests->pytorch-pretrained-bert) (2.10)\n",
      "Requirement already satisfied: certifi>=2017.4.17 in /usr/local/lib/python3.7/dist-packages (from requests->pytorch-pretrained-bert) (2021.5.30)\n",
      "Requirement already satisfied: urllib3!=1.25.0,!=1.25.1,<1.26,>=1.21.1 in /usr/local/lib/python3.7/dist-packages (from requests->pytorch-pretrained-bert) (1.24.3)\n",
      "Requirement already satisfied: chardet<4,>=3.0.2 in /usr/local/lib/python3.7/dist-packages (from requests->pytorch-pretrained-bert) (3.0.4)\n",
      "Requirement already satisfied: s3transfer<0.5.0,>=0.4.0 in /usr/local/lib/python3.7/dist-packages (from boto3->pytorch-pretrained-bert) (0.4.2)\n",
      "Requirement already satisfied: botocore<1.21.0,>=1.20.97 in /usr/local/lib/python3.7/dist-packages (from boto3->pytorch-pretrained-bert) (1.20.97)\n",
      "Requirement already satisfied: jmespath<1.0.0,>=0.7.1 in /usr/local/lib/python3.7/dist-packages (from boto3->pytorch-pretrained-bert) (0.10.0)\n",
      "Requirement already satisfied: typing-extensions in /usr/local/lib/python3.7/dist-packages (from torch>=0.4.1->pytorch-pretrained-bert) (3.7.4.3)\n",
      "Requirement already satisfied: python-dateutil<3.0.0,>=2.1 in /usr/local/lib/python3.7/dist-packages (from botocore<1.21.0,>=1.20.97->boto3->pytorch-pretrained-bert) (2.8.1)\n",
      "Requirement already satisfied: six>=1.5 in /usr/local/lib/python3.7/dist-packages (from python-dateutil<3.0.0,>=2.1->botocore<1.21.0,>=1.20.97->boto3->pytorch-pretrained-bert) (1.15.0)\n",
      "Installing collected packages: pytorch-pretrained-bert\n",
      "Successfully installed pytorch-pretrained-bert-0.6.2\n",
      "Collecting moverscore\n",
      "  Downloading https://files.pythonhosted.org/packages/d7/66/5ac942903a4d2d316f6c1df716e047e34fb0f9bfc7e70d44dab995708e9d/moverscore-1.0.3.tar.gz\n",
      "Collecting typing\n",
      "\u001b[?25l  Downloading https://files.pythonhosted.org/packages/05/d9/6eebe19d46bd05360c9a9aae822e67a80f9242aabbfc58b641b957546607/typing-3.7.4.3.tar.gz (78kB)\n",
      "\u001b[K     |████████████████████████████████| 81kB 3.7MB/s \n",
      "\u001b[?25hCollecting portalocker\n",
      "  Downloading https://files.pythonhosted.org/packages/68/33/cb524f4de298509927b90aa5ee34767b9a2b93e663cf354b2a3efa2b4acd/portalocker-2.3.0-py2.py3-none-any.whl\n",
      "Building wheels for collected packages: moverscore, typing\n",
      "  Building wheel for moverscore (setup.py) ... \u001b[?25l\u001b[?25hdone\n",
      "  Created wheel for moverscore: filename=moverscore-1.0.3-cp37-none-any.whl size=7968 sha256=667250d0718cab0f324d37b628b8ece06eb370e353ed7778bef03652a9eadecd\n",
      "  Stored in directory: /root/.cache/pip/wheels/79/1b/3b/146bc744eef28d6c091b864fac8b76a7ffec5a694776c105f1\n",
      "  Building wheel for typing (setup.py) ... \u001b[?25l\u001b[?25hdone\n",
      "  Created wheel for typing: filename=typing-3.7.4.3-cp37-none-any.whl size=26323 sha256=bf8e8da869b5452dd9b87c83bd6c0ed64684fd05d72d07a3278ab77d4dcb63b4\n",
      "  Stored in directory: /root/.cache/pip/wheels/2d/04/41/8e1836e79581989c22eebac3f4e70aaac9af07b0908da173be\n",
      "Successfully built moverscore typing\n",
      "Installing collected packages: typing, portalocker, moverscore\n",
      "Successfully installed moverscore-1.0.3 portalocker-2.3.0 typing-3.7.4.3\n"
     ]
    },
    {
     "data": {
      "application/vnd.colab-display-data+json": {
       "pip_warning": {
        "packages": [
         "typing"
        ]
       }
      }
     },
     "metadata": {
      "tags": []
     },
     "output_type": "display_data"
    },
    {
     "name": "stdout",
     "output_type": "stream",
     "text": [
      "Collecting tdqm\n",
      "  Downloading https://files.pythonhosted.org/packages/5a/38/58c9e22b95e98666fe29f35e217ab6126a03798dadf3f4f8f3e5f898510b/tdqm-0.0.1.tar.gz\n",
      "Requirement already satisfied: tqdm in /usr/local/lib/python3.7/dist-packages (from tdqm) (4.41.1)\n",
      "Building wheels for collected packages: tdqm\n",
      "  Building wheel for tdqm (setup.py) ... \u001b[?25l\u001b[?25hdone\n",
      "  Created wheel for tdqm: filename=tdqm-0.0.1-cp37-none-any.whl size=1320 sha256=da9fa0cc7895676587f22ab341f0c2b3e7fda93e4c03c4f35bb1cc7faa76c6ab\n",
      "  Stored in directory: /root/.cache/pip/wheels/d5/c0/4b/a98405d8b13071ab9a2be7beeef6820d26349ee46651c16a0d\n",
      "Successfully built tdqm\n",
      "Installing collected packages: tdqm\n",
      "Successfully installed tdqm-0.0.1\n"
     ]
    }
   ],
   "source": [
    "path_to_moverscore = '/content/gdrive/MyDrive/NLP_EvaluationMetrics/MoverScore/requirements.txt'\n",
    "! pip3 install -r {path_to_moverscore}\n",
    "! pip3 install transformers\n",
    "! pip3 install pytorch-pretrained-bert\n",
    "! pip3 install moverscore\n",
    "! pip3 install tdqm"
   ]
  },
  {
   "cell_type": "code",
   "execution_count": 3,
   "metadata": {
    "id": "hJ4mgxKPOT6-"
   },
   "outputs": [],
   "source": [
    "# base_path_moverscore = '/content/gdrive/MyDrive/NLP_EvaluationMetrics/MoverScoreBLEU/'"
   ]
  },
  {
   "cell_type": "code",
   "execution_count": 4,
   "metadata": {
    "colab": {
     "base_uri": "https://localhost:8080/"
    },
    "id": "yxmF6jvTVOen",
    "outputId": "51d1c1a9-8a51-4dc7-97c5-ef60db7e79c7"
   },
   "outputs": [
    {
     "name": "stdout",
     "output_type": "stream",
     "text": [
      "Used device is cuda:0\n"
     ]
    }
   ],
   "source": [
    "# Get Device \n",
    "import torch\n",
    "device = torch.device(\"cuda:0\" if torch.cuda.is_available() else \"cpu\")\n",
    "print(f'Used device is {device}')"
   ]
  },
  {
   "cell_type": "code",
   "execution_count": 5,
   "metadata": {
    "colab": {
     "base_uri": "https://localhost:8080/"
    },
    "id": "kxVOQhP_O6fz",
    "outputId": "476a0ac2-bff6-455e-9fab-8729ea94ba80"
   },
   "outputs": [
    {
     "name": "stdout",
     "output_type": "stream",
     "text": [
      "Downloading https://github.com/AIPHES/emnlp19-moverscore/releases/download/0.6/MNLI_BERT.zip to /root/.moverscore/MNLI_BERT.zip\n",
      "[--------------------------------------------------]\n"
     ]
    }
   ],
   "source": [
    "## Use the original version with BERTMNLI to reproduce the results.\n",
    "from moverscore import get_idf_dict, word_mover_score\n",
    "## Recommend to use this version (DistilBERT) for evaluation, if the speed is your concern.\n",
    "##from moverscore_v2 import get_idf_dict, word_mover_score \n",
    "from collections import defaultdict\n",
    "import os\n",
    "import pickle\n",
    "import tqdm\n",
    "import seaborn as sns\n",
    "import numpy as np\n",
    "import matplotlib.pyplot as plt\n",
    "import warnings\n",
    "import pandas as pd\n",
    "from nltk.translate.bleu_score import sentence_bleu\n",
    "from nltk.translate.bleu_score import SmoothingFunction\n",
    "import statistics\n",
    "import string\n",
    "\n",
    "\n",
    "warnings.simplefilter(action='ignore', category=FutureWarning)\n",
    "pd.set_option('display.max_colwidth', -1)"
   ]
  },
  {
   "cell_type": "markdown",
   "metadata": {
    "id": "xgEPiZhI6J43"
   },
   "source": [
    "### RoBERTa Setup"
   ]
  },
  {
   "cell_type": "code",
   "execution_count": 6,
   "metadata": {
    "colab": {
     "base_uri": "https://localhost:8080/"
    },
    "id": "dmNuCOFOGh1w",
    "outputId": "a9e70e20-02af-404e-d2b8-3307beed9f4c"
   },
   "outputs": [
    {
     "name": "stdout",
     "output_type": "stream",
     "text": [
      "Collecting transformers==3\n",
      "\u001b[?25l  Downloading https://files.pythonhosted.org/packages/9c/35/1c3f6e62d81f5f0daff1384e6d5e6c5758682a8357ebc765ece2b9def62b/transformers-3.0.0-py3-none-any.whl (754kB)\n",
      "\u001b[K     |████████████████████████████████| 757kB 4.1MB/s \n",
      "\u001b[?25hRequirement already satisfied: tqdm>=4.27 in /usr/local/lib/python3.7/dist-packages (from transformers==3) (4.41.1)\n",
      "Requirement already satisfied: requests in /usr/local/lib/python3.7/dist-packages (from transformers==3) (2.23.0)\n",
      "Collecting tokenizers==0.8.0-rc4\n",
      "\u001b[?25l  Downloading https://files.pythonhosted.org/packages/f7/82/0e82a95bd9db2b32569500cc1bb47aa7c4e0f57aa5e35cceba414096917b/tokenizers-0.8.0rc4-cp37-cp37m-manylinux1_x86_64.whl (3.0MB)\n",
      "\u001b[K     |████████████████████████████████| 3.0MB 8.2MB/s \n",
      "\u001b[?25hRequirement already satisfied: numpy in /usr/local/lib/python3.7/dist-packages (from transformers==3) (1.19.5)\n",
      "Requirement already satisfied: filelock in /usr/local/lib/python3.7/dist-packages (from transformers==3) (3.0.12)\n",
      "Requirement already satisfied: regex!=2019.12.17 in /usr/local/lib/python3.7/dist-packages (from transformers==3) (2019.12.20)\n",
      "Requirement already satisfied: sacremoses in /usr/local/lib/python3.7/dist-packages (from transformers==3) (0.0.45)\n",
      "Requirement already satisfied: sentencepiece in /usr/local/lib/python3.7/dist-packages (from transformers==3) (0.1.96)\n",
      "Requirement already satisfied: packaging in /usr/local/lib/python3.7/dist-packages (from transformers==3) (20.9)\n",
      "Requirement already satisfied: urllib3!=1.25.0,!=1.25.1,<1.26,>=1.21.1 in /usr/local/lib/python3.7/dist-packages (from requests->transformers==3) (1.24.3)\n",
      "Requirement already satisfied: certifi>=2017.4.17 in /usr/local/lib/python3.7/dist-packages (from requests->transformers==3) (2021.5.30)\n",
      "Requirement already satisfied: chardet<4,>=3.0.2 in /usr/local/lib/python3.7/dist-packages (from requests->transformers==3) (3.0.4)\n",
      "Requirement already satisfied: idna<3,>=2.5 in /usr/local/lib/python3.7/dist-packages (from requests->transformers==3) (2.10)\n",
      "Requirement already satisfied: click in /usr/local/lib/python3.7/dist-packages (from sacremoses->transformers==3) (7.1.2)\n",
      "Requirement already satisfied: six in /usr/local/lib/python3.7/dist-packages (from sacremoses->transformers==3) (1.15.0)\n",
      "Requirement already satisfied: joblib in /usr/local/lib/python3.7/dist-packages (from sacremoses->transformers==3) (1.0.1)\n",
      "Requirement already satisfied: pyparsing>=2.0.2 in /usr/local/lib/python3.7/dist-packages (from packaging->transformers==3) (2.4.7)\n",
      "Installing collected packages: tokenizers, transformers\n",
      "  Found existing installation: tokenizers 0.10.3\n",
      "    Uninstalling tokenizers-0.10.3:\n",
      "      Successfully uninstalled tokenizers-0.10.3\n",
      "  Found existing installation: transformers 4.7.0\n",
      "    Uninstalling transformers-4.7.0:\n",
      "      Successfully uninstalled transformers-4.7.0\n",
      "Successfully installed tokenizers-0.8.0rc4 transformers-3.0.0\n",
      "Requirement already satisfied: tokenizers in /usr/local/lib/python3.7/dist-packages (0.8.0rc4)\n"
     ]
    }
   ],
   "source": [
    "! pip install transformers==3\n",
    "! pip install tokenizers"
   ]
  },
  {
   "cell_type": "code",
   "execution_count": 7,
   "metadata": {
    "id": "CEqGmlAVGG7C"
   },
   "outputs": [],
   "source": [
    "import transformers\n",
    "from transformers import RobertaModel, RobertaTokenizer, AdamW, get_linear_schedule_with_warmup\n",
    "import torch\n",
    "import seaborn as sns\n",
    "from pylab import rcParams\n",
    "import matplotlib.pyplot as plt\n",
    "from matplotlib import rc\n",
    "from sklearn.model_selection import train_test_split\n",
    "from sklearn.metrics import confusion_matrix, classification_report\n",
    "from collections import defaultdict\n",
    "from textwrap import wrap\n",
    "from torch import nn, optim\n",
    "import torch.nn.functional as F\n",
    "from torch.utils.data import Dataset, DataLoader\n",
    "import re\n",
    "from sklearn.utils import resample\n",
    "from sklearn.metrics import confusion_matrix\n",
    "import random\n"
   ]
  },
  {
   "cell_type": "code",
   "execution_count": 8,
   "metadata": {
    "colab": {
     "base_uri": "https://localhost:8080/",
     "height": 0,
     "referenced_widgets": [
      "32b56452d3e3457e86fecb3fcdf4aeb1",
      "66a15f5cb68944129b066dc73e17abad",
      "d90f96542c64451a831674ee14fe6d7e",
      "f51571a365fe43c3aa9cc56d7741a6e2",
      "10a638fc584b4358b5f6f2875a27c143",
      "d7d202cce2ab40d282eb910e982e4353",
      "2b0cc5bc3bbe46cb82e0d50b04c883ae",
      "c6517b5006b24f85abde800b998bf8bf",
      "98517f582dac4a709856a422d5f70279",
      "5f6273b1465a4b9d9a2fc0b9c6f008a4",
      "00c2fdb7715b4d4eaddcfe7e57572d6e",
      "cba821443fac479ebe4f612cc58377c6",
      "2c58edfd120c481aad0851626d31c3fb",
      "32d2b6bf8d9e491683be931a7a80944b",
      "795ba84b5b3b484ebe97ac7a6d587c8f",
      "312e663165874145a3aabbcf5d77e7bf"
     ]
    },
    "id": "5qfK5p4QGG7L",
    "outputId": "8c8520ea-484a-40f3-9960-1b03cf5fc48b"
   },
   "outputs": [
    {
     "data": {
      "application/vnd.jupyter.widget-view+json": {
       "model_id": "32b56452d3e3457e86fecb3fcdf4aeb1",
       "version_major": 2,
       "version_minor": 0
      },
      "text/plain": [
       "HBox(children=(FloatProgress(value=0.0, description='Downloading', max=898823.0, style=ProgressStyle(descripti…"
      ]
     },
     "metadata": {
      "tags": []
     },
     "output_type": "display_data"
    },
    {
     "name": "stdout",
     "output_type": "stream",
     "text": [
      "\n"
     ]
    },
    {
     "data": {
      "application/vnd.jupyter.widget-view+json": {
       "model_id": "98517f582dac4a709856a422d5f70279",
       "version_major": 2,
       "version_minor": 0
      },
      "text/plain": [
       "HBox(children=(FloatProgress(value=0.0, description='Downloading', max=456318.0, style=ProgressStyle(descripti…"
      ]
     },
     "metadata": {
      "tags": []
     },
     "output_type": "display_data"
    },
    {
     "name": "stdout",
     "output_type": "stream",
     "text": [
      "\n"
     ]
    }
   ],
   "source": [
    "# Special RoBERTa mdoe to be used: While slight information might be lost; capitalization in tweets is a neglectable characteristic\n",
    "PRE_TRAINED_MODEL_NAME = 'roberta-base'\n",
    "tokenizer = RobertaTokenizer.from_pretrained(PRE_TRAINED_MODEL_NAME)"
   ]
  },
  {
   "cell_type": "markdown",
   "metadata": {
    "id": "rrbiImoZj4C1"
   },
   "source": [
    "- Get understanding of the distribution of token sizes for maximal length used in BERT"
   ]
  },
  {
   "cell_type": "markdown",
   "metadata": {
    "id": "Q1xDxi2TGG7M"
   },
   "source": [
    "#### Build PyTorch Dataset and DataLoader"
   ]
  },
  {
   "cell_type": "code",
   "execution_count": 9,
   "metadata": {
    "id": "r5iRZUrDGG7M"
   },
   "outputs": [],
   "source": [
    "# Data Structure\n",
    "class SentenceDataset(Dataset):\n",
    "    def __init__(self, sents, labels, tokenizer, max_len):\n",
    "        self.sents = sents\n",
    "        self.labels = labels\n",
    "        self.tokenizer = tokenizer\n",
    "        self.max_len = max_len\n",
    "        \n",
    "    def __len__(self):\n",
    "        return len(self.sents)\n",
    "    \n",
    "    def __getitem__(self, item):\n",
    "        \n",
    "        sent = str(self.sents[item])\n",
    "        label = self.labels[item]\n",
    "\n",
    "        encoding = tokenizer(sent,\n",
    "                             truncation=True,\n",
    "                             add_special_tokens=True, # Add '[CLS]' and '[SEP]'\n",
    "                             return_token_type_ids=False,\n",
    "                             padding = 'max_length',\n",
    "                             max_length=self.max_len,\n",
    "                             return_attention_mask=True,\n",
    "                             return_tensors='pt')\n",
    "      \n",
    "        return { 'sent': sent, 'input_ids': encoding['input_ids'].flatten(),\n",
    "          'attention_mask': encoding['attention_mask'].flatten(),\n",
    "          'label': torch.tensor(label, dtype=torch.long)\n",
    "        }\n",
    "# Data Loader\n",
    "def create_data_loader(sentences, labels, tokenizer, max_len = 100, batch_size= 32):\n",
    "    ds = SentenceDataset(\n",
    "        sents=sentences, #.to_numpy()\n",
    "        labels=labels, #.to_numpy()\n",
    "        tokenizer=tokenizer,\n",
    "        max_len=max_len\n",
    "    )\n",
    "    return DataLoader(\n",
    "        ds,\n",
    "        batch_size=batch_size,\n",
    "        num_workers=2\n",
    "    )"
   ]
  },
  {
   "cell_type": "markdown",
   "metadata": {
    "id": "4-AWbwUqGG7O"
   },
   "source": [
    "#### Actual Model"
   ]
  },
  {
   "cell_type": "code",
   "execution_count": 10,
   "metadata": {
    "id": "S_DvWra9GG7O"
   },
   "outputs": [],
   "source": [
    "class StyleClassifier(nn.Module):\n",
    "    def __init__(self, n_classes, drop = 0.3):\n",
    "        \n",
    "        super(StyleClassifier, self).__init__()\n",
    "        self.roberta = RobertaModel.from_pretrained(PRE_TRAINED_MODEL_NAME)\n",
    "        self.drop = nn.Dropout(p=drop)\n",
    "        self.out = nn.Linear(self.roberta.config.hidden_size, n_classes)\n",
    "        \n",
    "    def forward(self, input_ids, attention_mask):\n",
    "        _, pooled_output = self.roberta(input_ids=input_ids, attention_mask=attention_mask)\n",
    "        output = self.drop(pooled_output)\n",
    "        return self.out(output)\n",
    "\n",
    "class StyleClassifier_forCluster(nn.Module):\n",
    "    def __init__(self, n_classes, drop = 0.3):\n",
    "        \n",
    "        super(StyleClassifier_forCluster, self).__init__()\n",
    "        self.roberta = RobertaModel.from_pretrained(PRE_TRAINED_MODEL_NAME)\n",
    "        self.drop = nn.Dropout(p=drop)\n",
    "        self.out = nn.Linear(self.roberta.config.hidden_size, n_classes)\n",
    "        \n",
    "    def forward(self, input_ids, attention_mask):\n",
    "        _, pooled_output = self.roberta(input_ids=input_ids, attention_mask=attention_mask)\n",
    "        output = self.drop(pooled_output)\n",
    "        return self.out(output), pooled_output"
   ]
  },
  {
   "cell_type": "markdown",
   "metadata": {
    "id": "WeVa1TidGG7P"
   },
   "source": [
    "#### Define Helper functions"
   ]
  },
  {
   "cell_type": "code",
   "execution_count": 11,
   "metadata": {
    "id": "Frpt7_9lxxiv"
   },
   "outputs": [],
   "source": [
    "# This provides just a way to illustrate our confusion matrices in a nice and labeled way\n",
    "def show_confusion_matrix(confusion_matrix, names = ['Scientific', 'Non-Scientifc'], save_path = None):\n",
    "  confusion_df = pd.DataFrame(cm, index=['Input', 'Output'],columns=['Non-Sci', 'Sci'])\n",
    "  plt.figure(figsize=(5,5))\n",
    "  sns.heatmap(confusion_df,annot=True,annot_kws={\"size\": 12},cbar=False, square=True,fmt='.2f')\n",
    "  #plt.ylabel(r'True categories',fontsize=14)\n",
    "  plt.xlabel(r'Predicted categories',fontsize=14)\n",
    "  plt.tick_params(labelsize=12)\n",
    "  if save_path:\n",
    "    plt.savefig(save_path)\n",
    "  plt.show()"
   ]
  },
  {
   "cell_type": "code",
   "execution_count": 12,
   "metadata": {
    "id": "wOtgFHQQyLgS"
   },
   "outputs": [],
   "source": [
    "def get_predictions(model, data_loader):\n",
    "  # put to eval mode to disable dropout \n",
    "  model = model.eval()\n",
    "\n",
    "  predictions = []\n",
    "  prediction_probs = []\n",
    "  real_values = []\n",
    "  with torch.no_grad():\n",
    "    for d in data_loader:\n",
    "\n",
    "      input_ids = d[\"input_ids\"].to(device)\n",
    "      attention_mask = d[\"attention_mask\"].to(device)\n",
    "      labels = d[\"label\"].to(device)\n",
    "\n",
    "      outputs = model(input_ids=input_ids, attention_mask=attention_mask) #dim BATCH_SIZE x 3\n",
    "      # torch.max(outputs, dim=1) returns (vals, positions) of maxima -> positions are kept and correspond to class labels\n",
    "      _, preds = torch.max(outputs, dim=1) # dim BATCH_SIZE x 1\n",
    "\n",
    "      predictions.extend(preds)\n",
    "      prediction_probs.extend(outputs)\n",
    "      real_values.extend(labels)\n",
    "  predictions = torch.stack(predictions).cpu()\n",
    "  prediction_probs = torch.stack(prediction_probs).cpu()\n",
    "  real_values = torch.stack(real_values).cpu()\n",
    "  return predictions, real_values, prediction_probs"
   ]
  },
  {
   "cell_type": "code",
   "execution_count": 13,
   "metadata": {
    "id": "tqkdAEHUGG7Q"
   },
   "outputs": [],
   "source": [
    "def eval_model(model, data_loader, loss_fn, device, n_examples):\n",
    "    \n",
    "    model = model.eval()\n",
    "    losses = []\n",
    "    correct_predictions = 0\n",
    "    \n",
    "    with torch.no_grad():\n",
    "        for d in data_loader:\n",
    "            \n",
    "            input_ids = d[\"input_ids\"].to(device)\n",
    "            attention_mask = d[\"attention_mask\"].to(device)\n",
    "            labels = d[\"label\"].to(device)\n",
    "            outputs = model(input_ids=input_ids, attention_mask=attention_mask)\n",
    "            _, preds = torch.max(outputs, dim=1)\n",
    "            loss = loss_fn(outputs, labels)\n",
    "            correct_predictions += torch.sum(preds == labels)\n",
    "            losses.append(loss.item())\n",
    "            \n",
    "    return correct_predictions.double() / n_examples, np.mean(losses)"
   ]
  },
  {
   "cell_type": "markdown",
   "metadata": {
    "id": "YrVavpzV8VON"
   },
   "source": [
    "#### Load model"
   ]
  },
  {
   "cell_type": "markdown",
   "metadata": {
    "id": "tIO-JdfC8YY9"
   },
   "source": [
    "Please Adjust model path if necessary"
   ]
  },
  {
   "cell_type": "code",
   "execution_count": 14,
   "metadata": {
    "id": "N_N3Gyg087Kp"
   },
   "outputs": [],
   "source": [
    "import datetime\n",
    "day = datetime.date(2021, 6, 13)\n",
    "MAX_LEN = 100 # chosen acccroding to hist above\n",
    "BATCH_SIZE = 32# tunable hyper parameter\n",
    "EPOCHS = 3\n",
    "lr = 1e-5\n",
    "dropout = 0.3"
   ]
  },
  {
   "cell_type": "code",
   "execution_count": 15,
   "metadata": {
    "colab": {
     "base_uri": "https://localhost:8080/",
     "height": 0,
     "referenced_widgets": [
      "4a4e77e82baa45b5a9fd0ba8e74c9d3a",
      "e6327dfa4f954c96975144721e2c3db7",
      "0b913f8bbd5643c9bba39ae5c14d3913",
      "759012e0fbee4511ad53406c908d2875",
      "d33e63bee1744d1893e141279ce17fa9",
      "a9d365f6eba142a0bdfabaf75e770f21",
      "032a9539e4d54b04964e749ff68af870",
      "ceeb8a2357614860994006016ec7fc02",
      "647ea3f3d0104dd98e63c5ef1b1783b3",
      "3bd243c308734ebc9fa961d515d57341",
      "c6e0a84db78f4f488d35db6c48b0b258",
      "3f365691c5c34c31870794a95c470fe5",
      "adff09035b774b48916196842c74915f",
      "d47ef45a53244f75a6fc2ad255da0a11",
      "4b9e39418fc04216bfd9f16452d10227",
      "0f673016ad154db7aa0b22882646cd72"
     ]
    },
    "id": "dz0vgSVF7tAJ",
    "outputId": "d49c33c6-b2c0-418e-89ad-d01824a0057b"
   },
   "outputs": [
    {
     "data": {
      "application/vnd.jupyter.widget-view+json": {
       "model_id": "4a4e77e82baa45b5a9fd0ba8e74c9d3a",
       "version_major": 2,
       "version_minor": 0
      },
      "text/plain": [
       "HBox(children=(FloatProgress(value=0.0, description='Downloading', max=481.0, style=ProgressStyle(description_…"
      ]
     },
     "metadata": {
      "tags": []
     },
     "output_type": "display_data"
    },
    {
     "name": "stdout",
     "output_type": "stream",
     "text": [
      "\n"
     ]
    },
    {
     "data": {
      "application/vnd.jupyter.widget-view+json": {
       "model_id": "647ea3f3d0104dd98e63c5ef1b1783b3",
       "version_major": 2,
       "version_minor": 0
      },
      "text/plain": [
       "HBox(children=(FloatProgress(value=0.0, description='Downloading', max=501200538.0, style=ProgressStyle(descri…"
      ]
     },
     "metadata": {
      "tags": []
     },
     "output_type": "display_data"
    },
    {
     "name": "stdout",
     "output_type": "stream",
     "text": [
      "\n"
     ]
    }
   ],
   "source": [
    "model_save_path = f'/content/gdrive/MyDrive/StyleClassifier/models/{day}/RoBERTA_Epochs{EPOCHS}_Bs{BATCH_SIZE}_lr{lr}_drop{dropout}/RoBERTa.bin'\n",
    "\n",
    "model = StyleClassifier(2, drop = dropout).to(device)\n",
    "model.load_state_dict(torch.load(model_save_path))\n",
    "model = model.to(device)"
   ]
  },
  {
   "cell_type": "markdown",
   "metadata": {
    "id": "uDo3Emk0W-GO"
   },
   "source": [
    "## Loading Model Input and Output\n"
   ]
  },
  {
   "cell_type": "code",
   "execution_count": 40,
   "metadata": {
    "colab": {
     "base_uri": "https://localhost:8080/",
     "height": 531
    },
    "id": "23ZbAxUU82xM",
    "outputId": "bffa42fb-f534-41ed-e1e3-c964e2105fa9"
   },
   "outputs": [
    {
     "data": {
      "text/html": [
       "<div>\n",
       "<style scoped>\n",
       "    .dataframe tbody tr th:only-of-type {\n",
       "        vertical-align: middle;\n",
       "    }\n",
       "\n",
       "    .dataframe tbody tr th {\n",
       "        vertical-align: top;\n",
       "    }\n",
       "\n",
       "    .dataframe thead th {\n",
       "        text-align: right;\n",
       "    }\n",
       "</style>\n",
       "<table border=\"1\" class=\"dataframe\">\n",
       "  <thead>\n",
       "    <tr style=\"text-align: right;\">\n",
       "      <th></th>\n",
       "      <th>Unnamed: 0</th>\n",
       "      <th>Unnamed: 0.1</th>\n",
       "      <th>sent</th>\n",
       "      <th>true_label</th>\n",
       "      <th>pred_label</th>\n",
       "      <th>prob0</th>\n",
       "      <th>prob1</th>\n",
       "      <th>prob_max</th>\n",
       "      <th>len</th>\n",
       "      <th>sent_masked</th>\n",
       "      <th>source</th>\n",
       "      <th>sent_output</th>\n",
       "    </tr>\n",
       "  </thead>\n",
       "  <tbody>\n",
       "    <tr>\n",
       "      <th>0</th>\n",
       "      <td>0</td>\n",
       "      <td>102226</td>\n",
       "      <td>therefore, for languages like chinese and japanese, which are written without spaces between words, tokenization boils down to string matching.</td>\n",
       "      <td>1</td>\n",
       "      <td>0</td>\n",
       "      <td>0.670159</td>\n",
       "      <td>0.416702</td>\n",
       "      <td>0.670159</td>\n",
       "      <td>29</td>\n",
       "      <td>therefore, for &lt;unk&gt; like chinese and japanese, which are written without &lt;unk&gt; between &lt;unk&gt;, tokenization boils down to string matching.</td>\n",
       "      <td>cs_conf</td>\n",
       "      <td>therefore, tokenization is a matter of language in which the word is written without spaces between words.</td>\n",
       "    </tr>\n",
       "    <tr>\n",
       "      <th>1</th>\n",
       "      <td>1</td>\n",
       "      <td>28200</td>\n",
       "      <td>similar to these subtopics, feature representation is put as another important section deserving detailed descriptions, since feature representation, as an indispensable basis, is highly correlated with each of the three subtopics.</td>\n",
       "      <td>1</td>\n",
       "      <td>0</td>\n",
       "      <td>0.776326</td>\n",
       "      <td>0.337896</td>\n",
       "      <td>0.776326</td>\n",
       "      <td>40</td>\n",
       "      <td>similar to these subtopics, &lt;unk&gt; &lt;unk&gt; is put as another important &lt;unk&gt; deserving detailed &lt;unk&gt;, since &lt;unk&gt; &lt;unk&gt;, as an indispensable &lt;unk&gt;, is highly correlated with each of the three subtopics.</td>\n",
       "      <td>cs_conf</td>\n",
       "      <td>as an essential element for the three main components, the representation of the features is an important part of this subtopics in a detailed description, since the representation of these subtopics is highly correlated with each other.</td>\n",
       "    </tr>\n",
       "    <tr>\n",
       "      <th>2</th>\n",
       "      <td>2</td>\n",
       "      <td>75338</td>\n",
       "      <td>these clusters are ranked by collection selection to determine which clusters to search.</td>\n",
       "      <td>1</td>\n",
       "      <td>0</td>\n",
       "      <td>0.590534</td>\n",
       "      <td>0.567582</td>\n",
       "      <td>0.590534</td>\n",
       "      <td>14</td>\n",
       "      <td>these &lt;unk&gt; are ranked by &lt;unk&gt; &lt;unk&gt; to determine which &lt;unk&gt; to search.</td>\n",
       "      <td>cs_conf</td>\n",
       "      <td>in order to determine which clusters to search, the collection selection is made.</td>\n",
       "    </tr>\n",
       "    <tr>\n",
       "      <th>3</th>\n",
       "      <td>3</td>\n",
       "      <td>100804</td>\n",
       "      <td>however, the behavior network is realized by running some random process over the potential network which samples vertices and edges from it to produce the behavioral network and in some cases adds additional edges.</td>\n",
       "      <td>1</td>\n",
       "      <td>0</td>\n",
       "      <td>0.732323</td>\n",
       "      <td>0.412871</td>\n",
       "      <td>0.732323</td>\n",
       "      <td>38</td>\n",
       "      <td>however, the &lt;unk&gt; &lt;unk&gt; is realized by running some &lt;unk&gt; &lt;unk&gt; over the potential &lt;unk&gt; which samples &lt;unk&gt; and &lt;unk&gt; from it to produce the &lt;unk&gt;al &lt;unk&gt; and in some &lt;unk&gt; adds additional &lt;unk&gt;.</td>\n",
       "      <td>cs_conf</td>\n",
       "      <td>however, the behavior network is designed to run a random process to generate an individual network of vertices and edges, and sometimes it adds additional edges.</td>\n",
       "    </tr>\n",
       "    <tr>\n",
       "      <th>4</th>\n",
       "      <td>4</td>\n",
       "      <td>54387</td>\n",
       "      <td>how well the code is performing, the percentage of potential instruction execution and memory bandwidth used by the kernel is output.</td>\n",
       "      <td>1</td>\n",
       "      <td>0</td>\n",
       "      <td>0.692315</td>\n",
       "      <td>0.452050</td>\n",
       "      <td>0.692315</td>\n",
       "      <td>23</td>\n",
       "      <td>how well the &lt;unk&gt; is performing, the percentage of potential instruction &lt;unk&gt; and &lt;unk&gt; bandwidth used by the &lt;unk&gt; is &lt;unk&gt;.</td>\n",
       "      <td>cs_conf</td>\n",
       "      <td>how well the code is working, how much work is involved in each operation and the amount of memory used by the kernel.</td>\n",
       "    </tr>\n",
       "  </tbody>\n",
       "</table>\n",
       "</div>"
      ],
      "text/plain": [
       "   Unnamed: 0  ...                                                                                                                                                                                                                                    sent_output\n",
       "0  0           ...  therefore, tokenization is a matter of language in which the word is written without spaces between words.                                                                                                                                   \n",
       "1  1           ...  as an essential element for the three main components, the representation of the features is an important part of this subtopics in a detailed description, since the representation of these subtopics is highly correlated with each other.\n",
       "2  2           ...  in order to determine which clusters to search, the collection selection is made.                                                                                                                                                            \n",
       "3  3           ...  however, the behavior network is designed to run a random process to generate an individual network of vertices and edges, and sometimes it adds additional edges.                                                                           \n",
       "4  4           ...  how well the code is working, how much work is involved in each operation and the amount of memory used by the kernel.                                                                                                                       \n",
       "\n",
       "[5 rows x 12 columns]"
      ]
     },
     "execution_count": 40,
     "metadata": {
      "tags": []
     },
     "output_type": "execute_result"
    }
   ],
   "source": [
    "# Load paraphrases for calculation\n",
    "data_path = '/content/gdrive/MyDrive/NLP_EvaluationMetrics/final_data/'\n",
    "data_filename = 'evaluation_sample3000_GPT_M2.csv'\n",
    "# Read model input and output\n",
    "#with open(data_path+data_filename, 'rb') as f:\n",
    "  #data = pickle.load(f)\n",
    "data = pd.read_csv(data_path+data_filename)\n",
    "data.head()"
   ]
  },
  {
   "cell_type": "code",
   "execution_count": 47,
   "metadata": {
    "colab": {
     "base_uri": "https://localhost:8080/",
     "height": 547
    },
    "id": "jV97t7JdCF9N",
    "outputId": "16d5e195-1758-4cbd-a6e0-f00e3c2b6e9d"
   },
   "outputs": [
    {
     "name": "stdout",
     "output_type": "stream",
     "text": [
      "['Unnamed: 0', 'Unnamed: 0.1', 'sent', 'true_label', 'pred_label', 'prob0', 'prob1', 'prob_max', 'len', 'sent_masked', 'source', 'sent_output']\n"
     ]
    },
    {
     "data": {
      "text/html": [
       "<div>\n",
       "<style scoped>\n",
       "    .dataframe tbody tr th:only-of-type {\n",
       "        vertical-align: middle;\n",
       "    }\n",
       "\n",
       "    .dataframe tbody tr th {\n",
       "        vertical-align: top;\n",
       "    }\n",
       "\n",
       "    .dataframe thead th {\n",
       "        text-align: right;\n",
       "    }\n",
       "</style>\n",
       "<table border=\"1\" class=\"dataframe\">\n",
       "  <thead>\n",
       "    <tr style=\"text-align: right;\">\n",
       "      <th></th>\n",
       "      <th>Unnamed: 0</th>\n",
       "      <th>Unnamed: 0.1</th>\n",
       "      <th>input</th>\n",
       "      <th>true_label</th>\n",
       "      <th>pred_label</th>\n",
       "      <th>prob0</th>\n",
       "      <th>prob1</th>\n",
       "      <th>prob_max</th>\n",
       "      <th>len</th>\n",
       "      <th>sent_masked</th>\n",
       "      <th>source</th>\n",
       "      <th>output</th>\n",
       "    </tr>\n",
       "  </thead>\n",
       "  <tbody>\n",
       "    <tr>\n",
       "      <th>0</th>\n",
       "      <td>0</td>\n",
       "      <td>102226</td>\n",
       "      <td>therefore, for languages like chinese and japanese, which are written without spaces between words, tokenization boils down to string matching.</td>\n",
       "      <td>1</td>\n",
       "      <td>0</td>\n",
       "      <td>0.670159</td>\n",
       "      <td>0.416702</td>\n",
       "      <td>0.670159</td>\n",
       "      <td>29</td>\n",
       "      <td>therefore, for &lt;unk&gt; like chinese and japanese, which are written without &lt;unk&gt; between &lt;unk&gt;, tokenization boils down to string matching.</td>\n",
       "      <td>cs_conf</td>\n",
       "      <td>therefore, tokenization is a matter of language in which the word is written without spaces between words.</td>\n",
       "    </tr>\n",
       "    <tr>\n",
       "      <th>1</th>\n",
       "      <td>1</td>\n",
       "      <td>28200</td>\n",
       "      <td>similar to these subtopics, feature representation is put as another important section deserving detailed descriptions, since feature representation, as an indispensable basis, is highly correlated with each of the three subtopics.</td>\n",
       "      <td>1</td>\n",
       "      <td>0</td>\n",
       "      <td>0.776326</td>\n",
       "      <td>0.337896</td>\n",
       "      <td>0.776326</td>\n",
       "      <td>40</td>\n",
       "      <td>similar to these subtopics, &lt;unk&gt; &lt;unk&gt; is put as another important &lt;unk&gt; deserving detailed &lt;unk&gt;, since &lt;unk&gt; &lt;unk&gt;, as an indispensable &lt;unk&gt;, is highly correlated with each of the three subtopics.</td>\n",
       "      <td>cs_conf</td>\n",
       "      <td>as an essential element for the three main components, the representation of the features is an important part of this subtopics in a detailed description, since the representation of these subtopics is highly correlated with each other.</td>\n",
       "    </tr>\n",
       "    <tr>\n",
       "      <th>2</th>\n",
       "      <td>2</td>\n",
       "      <td>75338</td>\n",
       "      <td>these clusters are ranked by collection selection to determine which clusters to search.</td>\n",
       "      <td>1</td>\n",
       "      <td>0</td>\n",
       "      <td>0.590534</td>\n",
       "      <td>0.567582</td>\n",
       "      <td>0.590534</td>\n",
       "      <td>14</td>\n",
       "      <td>these &lt;unk&gt; are ranked by &lt;unk&gt; &lt;unk&gt; to determine which &lt;unk&gt; to search.</td>\n",
       "      <td>cs_conf</td>\n",
       "      <td>in order to determine which clusters to search, the collection selection is made.</td>\n",
       "    </tr>\n",
       "    <tr>\n",
       "      <th>3</th>\n",
       "      <td>3</td>\n",
       "      <td>100804</td>\n",
       "      <td>however, the behavior network is realized by running some random process over the potential network which samples vertices and edges from it to produce the behavioral network and in some cases adds additional edges.</td>\n",
       "      <td>1</td>\n",
       "      <td>0</td>\n",
       "      <td>0.732323</td>\n",
       "      <td>0.412871</td>\n",
       "      <td>0.732323</td>\n",
       "      <td>38</td>\n",
       "      <td>however, the &lt;unk&gt; &lt;unk&gt; is realized by running some &lt;unk&gt; &lt;unk&gt; over the potential &lt;unk&gt; which samples &lt;unk&gt; and &lt;unk&gt; from it to produce the &lt;unk&gt;al &lt;unk&gt; and in some &lt;unk&gt; adds additional &lt;unk&gt;.</td>\n",
       "      <td>cs_conf</td>\n",
       "      <td>however, the behavior network is designed to run a random process to generate an individual network of vertices and edges, and sometimes it adds additional edges.</td>\n",
       "    </tr>\n",
       "    <tr>\n",
       "      <th>4</th>\n",
       "      <td>4</td>\n",
       "      <td>54387</td>\n",
       "      <td>how well the code is performing, the percentage of potential instruction execution and memory bandwidth used by the kernel is output.</td>\n",
       "      <td>1</td>\n",
       "      <td>0</td>\n",
       "      <td>0.692315</td>\n",
       "      <td>0.452050</td>\n",
       "      <td>0.692315</td>\n",
       "      <td>23</td>\n",
       "      <td>how well the &lt;unk&gt; is performing, the percentage of potential instruction &lt;unk&gt; and &lt;unk&gt; bandwidth used by the &lt;unk&gt; is &lt;unk&gt;.</td>\n",
       "      <td>cs_conf</td>\n",
       "      <td>how well the code is working, how much work is involved in each operation and the amount of memory used by the kernel.</td>\n",
       "    </tr>\n",
       "  </tbody>\n",
       "</table>\n",
       "</div>"
      ],
      "text/plain": [
       "   Unnamed: 0  ...                                                                                                                                                                                                                                         output\n",
       "0  0           ...  therefore, tokenization is a matter of language in which the word is written without spaces between words.                                                                                                                                   \n",
       "1  1           ...  as an essential element for the three main components, the representation of the features is an important part of this subtopics in a detailed description, since the representation of these subtopics is highly correlated with each other.\n",
       "2  2           ...  in order to determine which clusters to search, the collection selection is made.                                                                                                                                                            \n",
       "3  3           ...  however, the behavior network is designed to run a random process to generate an individual network of vertices and edges, and sometimes it adds additional edges.                                                                           \n",
       "4  4           ...  how well the code is working, how much work is involved in each operation and the amount of memory used by the kernel.                                                                                                                       \n",
       "\n",
       "[5 rows x 12 columns]"
      ]
     },
     "execution_count": 47,
     "metadata": {
      "tags": []
     },
     "output_type": "execute_result"
    }
   ],
   "source": [
    "names = list(data.columns)\n",
    "print(names)\n",
    "names[2]='input'\n",
    "names[-1]='output'\n",
    "data.columns=names\n",
    "data.head()"
   ]
  },
  {
   "cell_type": "markdown",
   "metadata": {
    "id": "GqqBP0WMCa_N"
   },
   "source": [
    "The next cell should not do anything, ideally"
   ]
  },
  {
   "cell_type": "markdown",
   "metadata": {
    "id": "3miYxQuYACZ2"
   },
   "source": [
    "## Moverscore and BLEU4 "
   ]
  },
  {
   "cell_type": "markdown",
   "metadata": {
    "id": "mLUy9kKtCsrI"
   },
   "source": [
    "### Calculation"
   ]
  },
  {
   "cell_type": "markdown",
   "metadata": {
    "id": "UfMvhXVu-jGo"
   },
   "source": [
    " The following cell will calculate MoverScore and BLEU4 from pairs of model input and output!\n",
    "\n",
    "\n",
    "The data will be stored as 'model_input_output_with_scores.pkl'."
   ]
  },
  {
   "cell_type": "code",
   "execution_count": 50,
   "metadata": {
    "colab": {
     "base_uri": "https://localhost:8080/",
     "height": 115,
     "referenced_widgets": [
      "8dc03780927548cfad240e7dc5d9532c",
      "ddebbaaedffc4c44a25e90b25f9a2918",
      "a1cdf49f9d0d41a48d1e24f8af7e0938",
      "6c112e93831b42a4af739de966c2717b",
      "89cb93ea19464c43963423de45a6ba23",
      "a65d51aab8804ad7a206ee40457fe737",
      "aec9970c0b16416082aee9b4747f4e9f",
      "7251149eec624f62a7d9eb589408f572"
     ]
    },
    "id": "YKv8kYBNW-GO",
    "outputId": "3862ec9b-3f41-4aec-cc38-c19043fcee19"
   },
   "outputs": [
    {
     "name": "stdout",
     "output_type": "stream",
     "text": [
      "Data does not exist yet! Calculating scores now ... \n"
     ]
    },
    {
     "data": {
      "application/vnd.jupyter.widget-view+json": {
       "model_id": "8dc03780927548cfad240e7dc5d9532c",
       "version_major": 2,
       "version_minor": 0
      },
      "text/plain": [
       "HBox(children=(FloatProgress(value=0.0, max=2998.0), HTML(value='')))"
      ]
     },
     "metadata": {
      "tags": []
     },
     "output_type": "display_data"
    },
    {
     "name": "stdout",
     "output_type": "stream",
     "text": [
      "\n",
      "Saving data to :\t /content/gdrive/MyDrive/NLP_EvaluationMetrics/final_data/evaluation_sample3000_GPT_M2_moverscore.csv\n",
      "Done!\n"
     ]
    }
   ],
   "source": [
    "# datapath =\n",
    "\n",
    "filename_dataframe = data_filename[:-4]+'_moverscore.csv'\n",
    "\n",
    "try:\n",
    "  # Try to read already calculated data\n",
    "  data_scored =  pd.read_pickle(data_path + filename_dataframe)\n",
    "\n",
    "except FileNotFoundError:\n",
    "  print(f'Data does not exist yet! Calculating scores now ... ')\n",
    "\n",
    "\n",
    "  # Setup data structure\n",
    "  data_scored = pd.DataFrame(columns=['input', 'output', 'MoverScore', 'BLEU'])\n",
    "\n",
    "  # Get idf dicts \n",
    "  idf_dict_hyp = get_idf_dict(data['input']) # idf_dict_hyp = defaultdict(lambda: 1.)\n",
    "  idf_dict_ref = get_idf_dict(data['output']) # idf_dict_ref = defaultdict(lambda: 1.)\n",
    "\n",
    "  # BLEU helpers\n",
    "  translator = str.maketrans(string.punctuation, ' '*len(string.punctuation))\n",
    "  smoothie = SmoothingFunction().method4\n",
    "  \n",
    "  # calculate moverscores\n",
    "  #THIS MIGHT BE IMPROVED WITH BETTER BATCHING\n",
    "  for i, (ref, tran) in tqdm.notebook.tqdm(enumerate(zip(data['input'], data['output'])), total = len(data['output'])):\n",
    "\n",
    "    # Calc Moverscore\n",
    "    score_MS = word_mover_score([ref], [tran], idf_dict_ref, idf_dict_hyp, stop_words=[], n_gram=4, remove_subwords=True)\n",
    "    \n",
    "    # Calc BLEU\n",
    "    try:\n",
    "      score_BLEU = sentence_bleu(references=[ref.translate(translator).lower().split()], hypothesis=tran.translate(translator).lower().split(), weights=(.25, .25, .25, .25), smoothing_function=smoothie)\n",
    "\n",
    "    except ZeroDivisionError:\n",
    "      score_BLEU = None\n",
    "       \n",
    "    # Storing data in dataframe\n",
    "    data_scored = data_scored.append(pd.DataFrame([[ref, tran, score_MS[0], score_BLEU]], \n",
    "                                              columns=['input', 'output', 'MoverScore', 'BLEU']),\n",
    "                                              ignore_index=True)\n",
    "\n",
    "  # After all sentences are done: Save data\n",
    "  print('Saving data to :\\t', data_path + filename_dataframe )\n",
    "  data_scored.to_csv(data_path + filename_dataframe)\n",
    "\n",
    "finally:\n",
    "  print('Done!')"
   ]
  },
  {
   "cell_type": "code",
   "execution_count": 51,
   "metadata": {
    "colab": {
     "base_uri": "https://localhost:8080/"
    },
    "id": "76obXOTJtKV6",
    "outputId": "994765ef-4a79-4fb0-9777-b4446a8a04de"
   },
   "outputs": [
    {
     "name": "stdout",
     "output_type": "stream",
     "text": [
      "Mean of BLEU 0.22149832908442035\n",
      "Mean of MS 0.5719492447805534\n"
     ]
    }
   ],
   "source": [
    "print(f'Mean of BLEU', data_scored['BLEU'].mean())\n",
    "print(f'Mean of MS', data_scored['MoverScore'].mean())"
   ]
  },
  {
   "cell_type": "markdown",
   "metadata": {
    "id": "iUOY8X9OAIWQ"
   },
   "source": [
    "### Comparison to Baseline\n",
    "In this section the distribution of Moverscores from the Model In- and Outputs is compared to that of a sample of the PARANMT dataset"
   ]
  },
  {
   "cell_type": "code",
   "execution_count": 52,
   "metadata": {
    "colab": {
     "base_uri": "https://localhost:8080/",
     "height": 663
    },
    "id": "JG8tMUxUANha",
    "outputId": "35f4a1ce-3c3b-4755-80c8-57333e6ad9c8"
   },
   "outputs": [
    {
     "name": "stderr",
     "output_type": "stream",
     "text": [
      "/usr/local/lib/python3.7/dist-packages/numpy/core/_asarray.py:83: VisibleDeprecationWarning: Creating an ndarray from ragged nested sequences (which is a list-or-tuple of lists-or-tuples-or ndarrays with different lengths or shapes) is deprecated. If you meant to do this, you must specify 'dtype=object' when creating the ndarray\n",
      "  return array(a, dtype, copy=False, order=order)\n"
     ]
    },
    {
     "data": {
      "image/png": "[encoded data removed]",
      "text/plain": [
       "<Figure size 1440x720 with 1 Axes>"
      ]
     },
     "metadata": {
      "needs_background": "light",
      "tags": []
     },
     "output_type": "display_data"
    }
   ],
   "source": [
    "#Loading data for comparison\n",
    "with open('/content/gdrive/MyDrive/NLP_EvaluationMetrics/paranmt_sampled/mover_scores_paranmt.pickle', 'rb') as f:\n",
    "  moverscore_paranmt= pickle.load(f)\n",
    "with open('/content/gdrive/MyDrive/NLP_EvaluationMetrics/paranmt_filtered/mover_scores.pickle', 'rb') as f:\n",
    "  moverscore_paranmt75k= pickle.load(f)\n",
    "\n",
    "fig, ax = plt.subplots(1,1, figsize = (20,10))\n",
    "\n",
    "ax.hist([moverscore_paranmt75k, moverscore_paranmt, data_scored['MoverScore']], label = ['PARANMT75k','PARANMT', 'Model'], bins = 100, density = True)\n",
    "ax.legend(fontsize = 14)\n",
    "ax.set_xlabel('MoverScore', fontsize = 14)\n",
    "plt.show()"
   ]
  },
  {
   "cell_type": "markdown",
   "metadata": {
    "id": "bkW5lf95JovG"
   },
   "source": [
    "**Conclusion:** The overall level of semantic preservation according to Moverscore is ..."
   ]
  },
  {
   "cell_type": "markdown",
   "metadata": {
    "id": "LkpH6uc0C6Wl"
   },
   "source": [
    "## Style Transfer Evaluation using RoBERTa Model"
   ]
  },
  {
   "cell_type": "code",
   "execution_count": null,
   "metadata": {
    "id": "AQtnDLe7LApM"
   },
   "outputs": [],
   "source": [
    "# Classifying input sentences\n",
    "model_input_datalaoder = create_data_loader(data['input'].to_list(), [0 for _ in data['input']], tokenizer) #, MAX_LEN, BATCH_SIZE)\n",
    "\n",
    "# Predict input and output sentences\n",
    "labels_input_pred, _ ,_ = get_predictions(model, model_input_datalaoder)\n",
    "\n",
    "data['input_label'] = labels_input_pred"
   ]
  },
  {
   "cell_type": "code",
   "execution_count": null,
   "metadata": {
    "id": "i3XKnxDrRAYK"
   },
   "outputs": [],
   "source": [
    "# Classifying input sentences\n",
    "model_output_datalaoder = create_data_loader(data['output'].to_list(), [1 for _ in data['output']], tokenizer) #, MAX_LEN, BATCH_SIZE)\n",
    "\n",
    "# Predict input and output sentences\n",
    "labels_output_pred, _ ,_ = get_predictions(model, model_output_datalaoder)\n",
    "\n",
    "data['output_label'] = labels_output_pred"
   ]
  },
  {
   "cell_type": "code",
   "execution_count": null,
   "metadata": {
    "colab": {
     "base_uri": "https://localhost:8080/"
    },
    "id": "QxWQ_9_ORtPl",
    "outputId": "8e38eda4-3e87-4dbc-d7f7-f85ef5ed8433"
   },
   "outputs": [
    {
     "name": "stdout",
     "output_type": "stream",
     "text": [
      "Total: 104999 sentences !\n",
      "Unchanged: 87345 sentences !\n",
      "Succesfully transferred: 2466 sentences | 0.31% of unscientific sentences!\n",
      "Wrongly transferred: 15188 sentences | 0.16% of scientific sentences!\n"
     ]
    }
   ],
   "source": [
    "warnings.filterwarnings(\"ignore\")\n",
    "print(f'Total: {len(data)} sentences !')\n",
    "\n",
    "cond = (data['input_label'] == data['output_label'])\n",
    "print(f'Unchanged: {len(data[cond])} sentences !')\n",
    "\n",
    "cond = (data['input_label'] == 0)*(data['output_label']==1)\n",
    "cond2 = (data['input_label'] == 0)\n",
    "print(f'Succesfully transferred: {len(data[cond])} sentences | {len(data[cond])/len(data[cond2]):.2f}% of unscientific sentences!')\n",
    "\n",
    "\n",
    "cond = (data['input_label'] == 1)*(data['output_label']==0)\n",
    "cond2 = (data['input_label'] == 1)\n",
    "print(f'Wrongly transferred: {len(data[cond])} sentences | {len(data[cond])/len(data[cond2]):.2f}% of scientific sentences!')"
   ]
  },
  {
   "cell_type": "code",
   "execution_count": null,
   "metadata": {
    "id": "HtFDLrp9TsFx"
   },
   "outputs": [],
   "source": []
  }
 ],
 "metadata": {
  "accelerator": "GPU",
  "colab": {
   "collapsed_sections": [
    "3qfFHE5QfctJ"
   ],
   "name": "MoverScoreBLEU_calculation.ipynb",
   "provenance": [],
   "toc_visible": true
  },
  "kernelspec": {
   "display_name": "Python 3",
   "language": "python",
   "name": "python3"
  },
  "language_info": {
   "codemirror_mode": {
    "name": "ipython",
    "version": 3
   },
   "file_extension": ".py",
   "mimetype": "text/x-python",
   "name": "python",
   "nbconvert_exporter": "python",
   "pygments_lexer": "ipython3",
   "version": "3.7.5"
  },
  "toc": {
   "base_numbering": 1,
   "nav_menu": {},
   "number_sections": true,
   "sideBar": true,
   "skip_h1_title": false,
   "title_cell": "Table of Contents",
   "title_sidebar": "Contents",
   "toc_cell": false,
   "toc_position": {},
   "toc_section_display": true,
   "toc_window_display": false
  },
  "widgets": {
   "application/vnd.jupyter.widget-state+json": {
    "00c2fdb7715b4d4eaddcfe7e57572d6e": {
     "model_module": "@jupyter-widgets/controls",
     "model_name": "FloatProgressModel",
     "state": {
      "_dom_classes": [],
      "_model_module": "@jupyter-widgets/controls",
      "_model_module_version": "1.5.0",
      "_model_name": "FloatProgressModel",
      "_view_count": null,
      "_view_module": "@jupyter-widgets/controls",
      "_view_module_version": "1.5.0",
      "_view_name": "ProgressView",
      "bar_style": "success",
      "description": "Downloading: 100%",
      "description_tooltip": null,
      "layout": "IPY_MODEL_32d2b6bf8d9e491683be931a7a80944b",
      "max": 456318,
      "min": 0,
      "orientation": "horizontal",
      "style": "IPY_MODEL_2c58edfd120c481aad0851626d31c3fb",
      "value": 456318
     }
    },
    "032a9539e4d54b04964e749ff68af870": {
     "model_module": "@jupyter-widgets/controls",
     "model_name": "DescriptionStyleModel",
     "state": {
      "_model_module": "@jupyter-widgets/controls",
      "_model_module_version": "1.5.0",
      "_model_name": "DescriptionStyleModel",
      "_view_count": null,
      "_view_module": "@jupyter-widgets/base",
      "_view_module_version": "1.2.0",
      "_view_name": "StyleView",
      "description_width": ""
     }
    },
    "0b913f8bbd5643c9bba39ae5c14d3913": {
     "model_module": "@jupyter-widgets/controls",
     "model_name": "FloatProgressModel",
     "state": {
      "_dom_classes": [],
      "_model_module": "@jupyter-widgets/controls",
      "_model_module_version": "1.5.0",
      "_model_name": "FloatProgressModel",
      "_view_count": null,
      "_view_module": "@jupyter-widgets/controls",
      "_view_module_version": "1.5.0",
      "_view_name": "ProgressView",
      "bar_style": "success",
      "description": "Downloading: 100%",
      "description_tooltip": null,
      "layout": "IPY_MODEL_a9d365f6eba142a0bdfabaf75e770f21",
      "max": 481,
      "min": 0,
      "orientation": "horizontal",
      "style": "IPY_MODEL_d33e63bee1744d1893e141279ce17fa9",
      "value": 481
     }
    },
    "0f673016ad154db7aa0b22882646cd72": {
     "model_module": "@jupyter-widgets/base",
     "model_name": "LayoutModel",
     "state": {
      "_model_module": "@jupyter-widgets/base",
      "_model_module_version": "1.2.0",
      "_model_name": "LayoutModel",
      "_view_count": null,
      "_view_module": "@jupyter-widgets/base",
      "_view_module_version": "1.2.0",
      "_view_name": "LayoutView",
      "align_content": null,
      "align_items": null,
      "align_self": null,
      "border": null,
      "bottom": null,
      "display": null,
      "flex": null,
      "flex_flow": null,
      "grid_area": null,
      "grid_auto_columns": null,
      "grid_auto_flow": null,
      "grid_auto_rows": null,
      "grid_column": null,
      "grid_gap": null,
      "grid_row": null,
      "grid_template_areas": null,
      "grid_template_columns": null,
      "grid_template_rows": null,
      "height": null,
      "justify_content": null,
      "justify_items": null,
      "left": null,
      "margin": null,
      "max_height": null,
      "max_width": null,
      "min_height": null,
      "min_width": null,
      "object_fit": null,
      "object_position": null,
      "order": null,
      "overflow": null,
      "overflow_x": null,
      "overflow_y": null,
      "padding": null,
      "right": null,
      "top": null,
      "visibility": null,
      "width": null
     }
    },
    "10a638fc584b4358b5f6f2875a27c143": {
     "model_module": "@jupyter-widgets/controls",
     "model_name": "ProgressStyleModel",
     "state": {
      "_model_module": "@jupyter-widgets/controls",
      "_model_module_version": "1.5.0",
      "_model_name": "ProgressStyleModel",
      "_view_count": null,
      "_view_module": "@jupyter-widgets/base",
      "_view_module_version": "1.2.0",
      "_view_name": "StyleView",
      "bar_color": null,
      "description_width": "initial"
     }
    },
    "2b0cc5bc3bbe46cb82e0d50b04c883ae": {
     "model_module": "@jupyter-widgets/controls",
     "model_name": "DescriptionStyleModel",
     "state": {
      "_model_module": "@jupyter-widgets/controls",
      "_model_module_version": "1.5.0",
      "_model_name": "DescriptionStyleModel",
      "_view_count": null,
      "_view_module": "@jupyter-widgets/base",
      "_view_module_version": "1.2.0",
      "_view_name": "StyleView",
      "description_width": ""
     }
    },
    "2c58edfd120c481aad0851626d31c3fb": {
     "model_module": "@jupyter-widgets/controls",
     "model_name": "ProgressStyleModel",
     "state": {
      "_model_module": "@jupyter-widgets/controls",
      "_model_module_version": "1.5.0",
      "_model_name": "ProgressStyleModel",
      "_view_count": null,
      "_view_module": "@jupyter-widgets/base",
      "_view_module_version": "1.2.0",
      "_view_name": "StyleView",
      "bar_color": null,
      "description_width": "initial"
     }
    },
    "312e663165874145a3aabbcf5d77e7bf": {
     "model_module": "@jupyter-widgets/base",
     "model_name": "LayoutModel",
     "state": {
      "_model_module": "@jupyter-widgets/base",
      "_model_module_version": "1.2.0",
      "_model_name": "LayoutModel",
      "_view_count": null,
      "_view_module": "@jupyter-widgets/base",
      "_view_module_version": "1.2.0",
      "_view_name": "LayoutView",
      "align_content": null,
      "align_items": null,
      "align_self": null,
      "border": null,
      "bottom": null,
      "display": null,
      "flex": null,
      "flex_flow": null,
      "grid_area": null,
      "grid_auto_columns": null,
      "grid_auto_flow": null,
      "grid_auto_rows": null,
      "grid_column": null,
      "grid_gap": null,
      "grid_row": null,
      "grid_template_areas": null,
      "grid_template_columns": null,
      "grid_template_rows": null,
      "height": null,
      "justify_content": null,
      "justify_items": null,
      "left": null,
      "margin": null,
      "max_height": null,
      "max_width": null,
      "min_height": null,
      "min_width": null,
      "object_fit": null,
      "object_position": null,
      "order": null,
      "overflow": null,
      "overflow_x": null,
      "overflow_y": null,
      "padding": null,
      "right": null,
      "top": null,
      "visibility": null,
      "width": null
     }
    },
    "32b56452d3e3457e86fecb3fcdf4aeb1": {
     "model_module": "@jupyter-widgets/controls",
     "model_name": "HBoxModel",
     "state": {
      "_dom_classes": [],
      "_model_module": "@jupyter-widgets/controls",
      "_model_module_version": "1.5.0",
      "_model_name": "HBoxModel",
      "_view_count": null,
      "_view_module": "@jupyter-widgets/controls",
      "_view_module_version": "1.5.0",
      "_view_name": "HBoxView",
      "box_style": "",
      "children": [
       "IPY_MODEL_d90f96542c64451a831674ee14fe6d7e",
       "IPY_MODEL_f51571a365fe43c3aa9cc56d7741a6e2"
      ],
      "layout": "IPY_MODEL_66a15f5cb68944129b066dc73e17abad"
     }
    },
    "32d2b6bf8d9e491683be931a7a80944b": {
     "model_module": "@jupyter-widgets/base",
     "model_name": "LayoutModel",
     "state": {
      "_model_module": "@jupyter-widgets/base",
      "_model_module_version": "1.2.0",
      "_model_name": "LayoutModel",
      "_view_count": null,
      "_view_module": "@jupyter-widgets/base",
      "_view_module_version": "1.2.0",
      "_view_name": "LayoutView",
      "align_content": null,
      "align_items": null,
      "align_self": null,
      "border": null,
      "bottom": null,
      "display": null,
      "flex": null,
      "flex_flow": null,
      "grid_area": null,
      "grid_auto_columns": null,
      "grid_auto_flow": null,
      "grid_auto_rows": null,
      "grid_column": null,
      "grid_gap": null,
      "grid_row": null,
      "grid_template_areas": null,
      "grid_template_columns": null,
      "grid_template_rows": null,
      "height": null,
      "justify_content": null,
      "justify_items": null,
      "left": null,
      "margin": null,
      "max_height": null,
      "max_width": null,
      "min_height": null,
      "min_width": null,
      "object_fit": null,
      "object_position": null,
      "order": null,
      "overflow": null,
      "overflow_x": null,
      "overflow_y": null,
      "padding": null,
      "right": null,
      "top": null,
      "visibility": null,
      "width": null
     }
    },
    "3bd243c308734ebc9fa961d515d57341": {
     "model_module": "@jupyter-widgets/base",
     "model_name": "LayoutModel",
     "state": {
      "_model_module": "@jupyter-widgets/base",
      "_model_module_version": "1.2.0",
      "_model_name": "LayoutModel",
      "_view_count": null,
      "_view_module": "@jupyter-widgets/base",
      "_view_module_version": "1.2.0",
      "_view_name": "LayoutView",
      "align_content": null,
      "align_items": null,
      "align_self": null,
      "border": null,
      "bottom": null,
      "display": null,
      "flex": null,
      "flex_flow": null,
      "grid_area": null,
      "grid_auto_columns": null,
      "grid_auto_flow": null,
      "grid_auto_rows": null,
      "grid_column": null,
      "grid_gap": null,
      "grid_row": null,
      "grid_template_areas": null,
      "grid_template_columns": null,
      "grid_template_rows": null,
      "height": null,
      "justify_content": null,
      "justify_items": null,
      "left": null,
      "margin": null,
      "max_height": null,
      "max_width": null,
      "min_height": null,
      "min_width": null,
      "object_fit": null,
      "object_position": null,
      "order": null,
      "overflow": null,
      "overflow_x": null,
      "overflow_y": null,
      "padding": null,
      "right": null,
      "top": null,
      "visibility": null,
      "width": null
     }
    },
    "3f365691c5c34c31870794a95c470fe5": {
     "model_module": "@jupyter-widgets/controls",
     "model_name": "HTMLModel",
     "state": {
      "_dom_classes": [],
      "_model_module": "@jupyter-widgets/controls",
      "_model_module_version": "1.5.0",
      "_model_name": "HTMLModel",
      "_view_count": null,
      "_view_module": "@jupyter-widgets/controls",
      "_view_module_version": "1.5.0",
      "_view_name": "HTMLView",
      "description": "",
      "description_tooltip": null,
      "layout": "IPY_MODEL_0f673016ad154db7aa0b22882646cd72",
      "placeholder": "​",
      "style": "IPY_MODEL_4b9e39418fc04216bfd9f16452d10227",
      "value": " 501M/501M [00:15&lt;00:00, 31.6MB/s]"
     }
    },
    "4a4e77e82baa45b5a9fd0ba8e74c9d3a": {
     "model_module": "@jupyter-widgets/controls",
     "model_name": "HBoxModel",
     "state": {
      "_dom_classes": [],
      "_model_module": "@jupyter-widgets/controls",
      "_model_module_version": "1.5.0",
      "_model_name": "HBoxModel",
      "_view_count": null,
      "_view_module": "@jupyter-widgets/controls",
      "_view_module_version": "1.5.0",
      "_view_name": "HBoxView",
      "box_style": "",
      "children": [
       "IPY_MODEL_0b913f8bbd5643c9bba39ae5c14d3913",
       "IPY_MODEL_759012e0fbee4511ad53406c908d2875"
      ],
      "layout": "IPY_MODEL_e6327dfa4f954c96975144721e2c3db7"
     }
    },
    "4b9e39418fc04216bfd9f16452d10227": {
     "model_module": "@jupyter-widgets/controls",
     "model_name": "DescriptionStyleModel",
     "state": {
      "_model_module": "@jupyter-widgets/controls",
      "_model_module_version": "1.5.0",
      "_model_name": "DescriptionStyleModel",
      "_view_count": null,
      "_view_module": "@jupyter-widgets/base",
      "_view_module_version": "1.2.0",
      "_view_name": "StyleView",
      "description_width": ""
     }
    },
    "5f6273b1465a4b9d9a2fc0b9c6f008a4": {
     "model_module": "@jupyter-widgets/base",
     "model_name": "LayoutModel",
     "state": {
      "_model_module": "@jupyter-widgets/base",
      "_model_module_version": "1.2.0",
      "_model_name": "LayoutModel",
      "_view_count": null,
      "_view_module": "@jupyter-widgets/base",
      "_view_module_version": "1.2.0",
      "_view_name": "LayoutView",
      "align_content": null,
      "align_items": null,
      "align_self": null,
      "border": null,
      "bottom": null,
      "display": null,
      "flex": null,
      "flex_flow": null,
      "grid_area": null,
      "grid_auto_columns": null,
      "grid_auto_flow": null,
      "grid_auto_rows": null,
      "grid_column": null,
      "grid_gap": null,
      "grid_row": null,
      "grid_template_areas": null,
      "grid_template_columns": null,
      "grid_template_rows": null,
      "height": null,
      "justify_content": null,
      "justify_items": null,
      "left": null,
      "margin": null,
      "max_height": null,
      "max_width": null,
      "min_height": null,
      "min_width": null,
      "object_fit": null,
      "object_position": null,
      "order": null,
      "overflow": null,
      "overflow_x": null,
      "overflow_y": null,
      "padding": null,
      "right": null,
      "top": null,
      "visibility": null,
      "width": null
     }
    },
    "647ea3f3d0104dd98e63c5ef1b1783b3": {
     "model_module": "@jupyter-widgets/controls",
     "model_name": "HBoxModel",
     "state": {
      "_dom_classes": [],
      "_model_module": "@jupyter-widgets/controls",
      "_model_module_version": "1.5.0",
      "_model_name": "HBoxModel",
      "_view_count": null,
      "_view_module": "@jupyter-widgets/controls",
      "_view_module_version": "1.5.0",
      "_view_name": "HBoxView",
      "box_style": "",
      "children": [
       "IPY_MODEL_c6e0a84db78f4f488d35db6c48b0b258",
       "IPY_MODEL_3f365691c5c34c31870794a95c470fe5"
      ],
      "layout": "IPY_MODEL_3bd243c308734ebc9fa961d515d57341"
     }
    },
    "66a15f5cb68944129b066dc73e17abad": {
     "model_module": "@jupyter-widgets/base",
     "model_name": "LayoutModel",
     "state": {
      "_model_module": "@jupyter-widgets/base",
      "_model_module_version": "1.2.0",
      "_model_name": "LayoutModel",
      "_view_count": null,
      "_view_module": "@jupyter-widgets/base",
      "_view_module_version": "1.2.0",
      "_view_name": "LayoutView",
      "align_content": null,
      "align_items": null,
      "align_self": null,
      "border": null,
      "bottom": null,
      "display": null,
      "flex": null,
      "flex_flow": null,
      "grid_area": null,
      "grid_auto_columns": null,
      "grid_auto_flow": null,
      "grid_auto_rows": null,
      "grid_column": null,
      "grid_gap": null,
      "grid_row": null,
      "grid_template_areas": null,
      "grid_template_columns": null,
      "grid_template_rows": null,
      "height": null,
      "justify_content": null,
      "justify_items": null,
      "left": null,
      "margin": null,
      "max_height": null,
      "max_width": null,
      "min_height": null,
      "min_width": null,
      "object_fit": null,
      "object_position": null,
      "order": null,
      "overflow": null,
      "overflow_x": null,
      "overflow_y": null,
      "padding": null,
      "right": null,
      "top": null,
      "visibility": null,
      "width": null
     }
    },
    "6c112e93831b42a4af739de966c2717b": {
     "model_module": "@jupyter-widgets/controls",
     "model_name": "HTMLModel",
     "state": {
      "_dom_classes": [],
      "_model_module": "@jupyter-widgets/controls",
      "_model_module_version": "1.5.0",
      "_model_name": "HTMLModel",
      "_view_count": null,
      "_view_module": "@jupyter-widgets/controls",
      "_view_module_version": "1.5.0",
      "_view_name": "HTMLView",
      "description": "",
      "description_tooltip": null,
      "layout": "IPY_MODEL_7251149eec624f62a7d9eb589408f572",
      "placeholder": "​",
      "style": "IPY_MODEL_aec9970c0b16416082aee9b4747f4e9f",
      "value": " 2998/2998 [02:27&lt;00:00, 20.27it/s]"
     }
    },
    "7251149eec624f62a7d9eb589408f572": {
     "model_module": "@jupyter-widgets/base",
     "model_name": "LayoutModel",
     "state": {
      "_model_module": "@jupyter-widgets/base",
      "_model_module_version": "1.2.0",
      "_model_name": "LayoutModel",
      "_view_count": null,
      "_view_module": "@jupyter-widgets/base",
      "_view_module_version": "1.2.0",
      "_view_name": "LayoutView",
      "align_content": null,
      "align_items": null,
      "align_self": null,
      "border": null,
      "bottom": null,
      "display": null,
      "flex": null,
      "flex_flow": null,
      "grid_area": null,
      "grid_auto_columns": null,
      "grid_auto_flow": null,
      "grid_auto_rows": null,
      "grid_column": null,
      "grid_gap": null,
      "grid_row": null,
      "grid_template_areas": null,
      "grid_template_columns": null,
      "grid_template_rows": null,
      "height": null,
      "justify_content": null,
      "justify_items": null,
      "left": null,
      "margin": null,
      "max_height": null,
      "max_width": null,
      "min_height": null,
      "min_width": null,
      "object_fit": null,
      "object_position": null,
      "order": null,
      "overflow": null,
      "overflow_x": null,
      "overflow_y": null,
      "padding": null,
      "right": null,
      "top": null,
      "visibility": null,
      "width": null
     }
    },
    "759012e0fbee4511ad53406c908d2875": {
     "model_module": "@jupyter-widgets/controls",
     "model_name": "HTMLModel",
     "state": {
      "_dom_classes": [],
      "_model_module": "@jupyter-widgets/controls",
      "_model_module_version": "1.5.0",
      "_model_name": "HTMLModel",
      "_view_count": null,
      "_view_module": "@jupyter-widgets/controls",
      "_view_module_version": "1.5.0",
      "_view_name": "HTMLView",
      "description": "",
      "description_tooltip": null,
      "layout": "IPY_MODEL_ceeb8a2357614860994006016ec7fc02",
      "placeholder": "​",
      "style": "IPY_MODEL_032a9539e4d54b04964e749ff68af870",
      "value": " 481/481 [00:19&lt;00:00, 24.7B/s]"
     }
    },
    "795ba84b5b3b484ebe97ac7a6d587c8f": {
     "model_module": "@jupyter-widgets/controls",
     "model_name": "DescriptionStyleModel",
     "state": {
      "_model_module": "@jupyter-widgets/controls",
      "_model_module_version": "1.5.0",
      "_model_name": "DescriptionStyleModel",
      "_view_count": null,
      "_view_module": "@jupyter-widgets/base",
      "_view_module_version": "1.2.0",
      "_view_name": "StyleView",
      "description_width": ""
     }
    },
    "89cb93ea19464c43963423de45a6ba23": {
     "model_module": "@jupyter-widgets/controls",
     "model_name": "ProgressStyleModel",
     "state": {
      "_model_module": "@jupyter-widgets/controls",
      "_model_module_version": "1.5.0",
      "_model_name": "ProgressStyleModel",
      "_view_count": null,
      "_view_module": "@jupyter-widgets/base",
      "_view_module_version": "1.2.0",
      "_view_name": "StyleView",
      "bar_color": null,
      "description_width": "initial"
     }
    },
    "8dc03780927548cfad240e7dc5d9532c": {
     "model_module": "@jupyter-widgets/controls",
     "model_name": "HBoxModel",
     "state": {
      "_dom_classes": [],
      "_model_module": "@jupyter-widgets/controls",
      "_model_module_version": "1.5.0",
      "_model_name": "HBoxModel",
      "_view_count": null,
      "_view_module": "@jupyter-widgets/controls",
      "_view_module_version": "1.5.0",
      "_view_name": "HBoxView",
      "box_style": "",
      "children": [
       "IPY_MODEL_a1cdf49f9d0d41a48d1e24f8af7e0938",
       "IPY_MODEL_6c112e93831b42a4af739de966c2717b"
      ],
      "layout": "IPY_MODEL_ddebbaaedffc4c44a25e90b25f9a2918"
     }
    },
    "98517f582dac4a709856a422d5f70279": {
     "model_module": "@jupyter-widgets/controls",
     "model_name": "HBoxModel",
     "state": {
      "_dom_classes": [],
      "_model_module": "@jupyter-widgets/controls",
      "_model_module_version": "1.5.0",
      "_model_name": "HBoxModel",
      "_view_count": null,
      "_view_module": "@jupyter-widgets/controls",
      "_view_module_version": "1.5.0",
      "_view_name": "HBoxView",
      "box_style": "",
      "children": [
       "IPY_MODEL_00c2fdb7715b4d4eaddcfe7e57572d6e",
       "IPY_MODEL_cba821443fac479ebe4f612cc58377c6"
      ],
      "layout": "IPY_MODEL_5f6273b1465a4b9d9a2fc0b9c6f008a4"
     }
    },
    "a1cdf49f9d0d41a48d1e24f8af7e0938": {
     "model_module": "@jupyter-widgets/controls",
     "model_name": "FloatProgressModel",
     "state": {
      "_dom_classes": [],
      "_model_module": "@jupyter-widgets/controls",
      "_model_module_version": "1.5.0",
      "_model_name": "FloatProgressModel",
      "_view_count": null,
      "_view_module": "@jupyter-widgets/controls",
      "_view_module_version": "1.5.0",
      "_view_name": "ProgressView",
      "bar_style": "success",
      "description": "100%",
      "description_tooltip": null,
      "layout": "IPY_MODEL_a65d51aab8804ad7a206ee40457fe737",
      "max": 2998,
      "min": 0,
      "orientation": "horizontal",
      "style": "IPY_MODEL_89cb93ea19464c43963423de45a6ba23",
      "value": 2998
     }
    },
    "a65d51aab8804ad7a206ee40457fe737": {
     "model_module": "@jupyter-widgets/base",
     "model_name": "LayoutModel",
     "state": {
      "_model_module": "@jupyter-widgets/base",
      "_model_module_version": "1.2.0",
      "_model_name": "LayoutModel",
      "_view_count": null,
      "_view_module": "@jupyter-widgets/base",
      "_view_module_version": "1.2.0",
      "_view_name": "LayoutView",
      "align_content": null,
      "align_items": null,
      "align_self": null,
      "border": null,
      "bottom": null,
      "display": null,
      "flex": null,
      "flex_flow": null,
      "grid_area": null,
      "grid_auto_columns": null,
      "grid_auto_flow": null,
      "grid_auto_rows": null,
      "grid_column": null,
      "grid_gap": null,
      "grid_row": null,
      "grid_template_areas": null,
      "grid_template_columns": null,
      "grid_template_rows": null,
      "height": null,
      "justify_content": null,
      "justify_items": null,
      "left": null,
      "margin": null,
      "max_height": null,
      "max_width": null,
      "min_height": null,
      "min_width": null,
      "object_fit": null,
      "object_position": null,
      "order": null,
      "overflow": null,
      "overflow_x": null,
      "overflow_y": null,
      "padding": null,
      "right": null,
      "top": null,
      "visibility": null,
      "width": null
     }
    },
    "a9d365f6eba142a0bdfabaf75e770f21": {
     "model_module": "@jupyter-widgets/base",
     "model_name": "LayoutModel",
     "state": {
      "_model_module": "@jupyter-widgets/base",
      "_model_module_version": "1.2.0",
      "_model_name": "LayoutModel",
      "_view_count": null,
      "_view_module": "@jupyter-widgets/base",
      "_view_module_version": "1.2.0",
      "_view_name": "LayoutView",
      "align_content": null,
      "align_items": null,
      "align_self": null,
      "border": null,
      "bottom": null,
      "display": null,
      "flex": null,
      "flex_flow": null,
      "grid_area": null,
      "grid_auto_columns": null,
      "grid_auto_flow": null,
      "grid_auto_rows": null,
      "grid_column": null,
      "grid_gap": null,
      "grid_row": null,
      "grid_template_areas": null,
      "grid_template_columns": null,
      "grid_template_rows": null,
      "height": null,
      "justify_content": null,
      "justify_items": null,
      "left": null,
      "margin": null,
      "max_height": null,
      "max_width": null,
      "min_height": null,
      "min_width": null,
      "object_fit": null,
      "object_position": null,
      "order": null,
      "overflow": null,
      "overflow_x": null,
      "overflow_y": null,
      "padding": null,
      "right": null,
      "top": null,
      "visibility": null,
      "width": null
     }
    },
    "adff09035b774b48916196842c74915f": {
     "model_module": "@jupyter-widgets/controls",
     "model_name": "ProgressStyleModel",
     "state": {
      "_model_module": "@jupyter-widgets/controls",
      "_model_module_version": "1.5.0",
      "_model_name": "ProgressStyleModel",
      "_view_count": null,
      "_view_module": "@jupyter-widgets/base",
      "_view_module_version": "1.2.0",
      "_view_name": "StyleView",
      "bar_color": null,
      "description_width": "initial"
     }
    },
    "aec9970c0b16416082aee9b4747f4e9f": {
     "model_module": "@jupyter-widgets/controls",
     "model_name": "DescriptionStyleModel",
     "state": {
      "_model_module": "@jupyter-widgets/controls",
      "_model_module_version": "1.5.0",
      "_model_name": "DescriptionStyleModel",
      "_view_count": null,
      "_view_module": "@jupyter-widgets/base",
      "_view_module_version": "1.2.0",
      "_view_name": "StyleView",
      "description_width": ""
     }
    },
    "c6517b5006b24f85abde800b998bf8bf": {
     "model_module": "@jupyter-widgets/base",
     "model_name": "LayoutModel",
     "state": {
      "_model_module": "@jupyter-widgets/base",
      "_model_module_version": "1.2.0",
      "_model_name": "LayoutModel",
      "_view_count": null,
      "_view_module": "@jupyter-widgets/base",
      "_view_module_version": "1.2.0",
      "_view_name": "LayoutView",
      "align_content": null,
      "align_items": null,
      "align_self": null,
      "border": null,
      "bottom": null,
      "display": null,
      "flex": null,
      "flex_flow": null,
      "grid_area": null,
      "grid_auto_columns": null,
      "grid_auto_flow": null,
      "grid_auto_rows": null,
      "grid_column": null,
      "grid_gap": null,
      "grid_row": null,
      "grid_template_areas": null,
      "grid_template_columns": null,
      "grid_template_rows": null,
      "height": null,
      "justify_content": null,
      "justify_items": null,
      "left": null,
      "margin": null,
      "max_height": null,
      "max_width": null,
      "min_height": null,
      "min_width": null,
      "object_fit": null,
      "object_position": null,
      "order": null,
      "overflow": null,
      "overflow_x": null,
      "overflow_y": null,
      "padding": null,
      "right": null,
      "top": null,
      "visibility": null,
      "width": null
     }
    },
    "c6e0a84db78f4f488d35db6c48b0b258": {
     "model_module": "@jupyter-widgets/controls",
     "model_name": "FloatProgressModel",
     "state": {
      "_dom_classes": [],
      "_model_module": "@jupyter-widgets/controls",
      "_model_module_version": "1.5.0",
      "_model_name": "FloatProgressModel",
      "_view_count": null,
      "_view_module": "@jupyter-widgets/controls",
      "_view_module_version": "1.5.0",
      "_view_name": "ProgressView",
      "bar_style": "success",
      "description": "Downloading: 100%",
      "description_tooltip": null,
      "layout": "IPY_MODEL_d47ef45a53244f75a6fc2ad255da0a11",
      "max": 501200538,
      "min": 0,
      "orientation": "horizontal",
      "style": "IPY_MODEL_adff09035b774b48916196842c74915f",
      "value": 501200538
     }
    },
    "cba821443fac479ebe4f612cc58377c6": {
     "model_module": "@jupyter-widgets/controls",
     "model_name": "HTMLModel",
     "state": {
      "_dom_classes": [],
      "_model_module": "@jupyter-widgets/controls",
      "_model_module_version": "1.5.0",
      "_model_name": "HTMLModel",
      "_view_count": null,
      "_view_module": "@jupyter-widgets/controls",
      "_view_module_version": "1.5.0",
      "_view_name": "HTMLView",
      "description": "",
      "description_tooltip": null,
      "layout": "IPY_MODEL_312e663165874145a3aabbcf5d77e7bf",
      "placeholder": "​",
      "style": "IPY_MODEL_795ba84b5b3b484ebe97ac7a6d587c8f",
      "value": " 456k/456k [00:00&lt;00:00, 471kB/s]"
     }
    },
    "ceeb8a2357614860994006016ec7fc02": {
     "model_module": "@jupyter-widgets/base",
     "model_name": "LayoutModel",
     "state": {
      "_model_module": "@jupyter-widgets/base",
      "_model_module_version": "1.2.0",
      "_model_name": "LayoutModel",
      "_view_count": null,
      "_view_module": "@jupyter-widgets/base",
      "_view_module_version": "1.2.0",
      "_view_name": "LayoutView",
      "align_content": null,
      "align_items": null,
      "align_self": null,
      "border": null,
      "bottom": null,
      "display": null,
      "flex": null,
      "flex_flow": null,
      "grid_area": null,
      "grid_auto_columns": null,
      "grid_auto_flow": null,
      "grid_auto_rows": null,
      "grid_column": null,
      "grid_gap": null,
      "grid_row": null,
      "grid_template_areas": null,
      "grid_template_columns": null,
      "grid_template_rows": null,
      "height": null,
      "justify_content": null,
      "justify_items": null,
      "left": null,
      "margin": null,
      "max_height": null,
      "max_width": null,
      "min_height": null,
      "min_width": null,
      "object_fit": null,
      "object_position": null,
      "order": null,
      "overflow": null,
      "overflow_x": null,
      "overflow_y": null,
      "padding": null,
      "right": null,
      "top": null,
      "visibility": null,
      "width": null
     }
    },
    "d33e63bee1744d1893e141279ce17fa9": {
     "model_module": "@jupyter-widgets/controls",
     "model_name": "ProgressStyleModel",
     "state": {
      "_model_module": "@jupyter-widgets/controls",
      "_model_module_version": "1.5.0",
      "_model_name": "ProgressStyleModel",
      "_view_count": null,
      "_view_module": "@jupyter-widgets/base",
      "_view_module_version": "1.2.0",
      "_view_name": "StyleView",
      "bar_color": null,
      "description_width": "initial"
     }
    },
    "d47ef45a53244f75a6fc2ad255da0a11": {
     "model_module": "@jupyter-widgets/base",
     "model_name": "LayoutModel",
     "state": {
      "_model_module": "@jupyter-widgets/base",
      "_model_module_version": "1.2.0",
      "_model_name": "LayoutModel",
      "_view_count": null,
      "_view_module": "@jupyter-widgets/base",
      "_view_module_version": "1.2.0",
      "_view_name": "LayoutView",
      "align_content": null,
      "align_items": null,
      "align_self": null,
      "border": null,
      "bottom": null,
      "display": null,
      "flex": null,
      "flex_flow": null,
      "grid_area": null,
      "grid_auto_columns": null,
      "grid_auto_flow": null,
      "grid_auto_rows": null,
      "grid_column": null,
      "grid_gap": null,
      "grid_row": null,
      "grid_template_areas": null,
      "grid_template_columns": null,
      "grid_template_rows": null,
      "height": null,
      "justify_content": null,
      "justify_items": null,
      "left": null,
      "margin": null,
      "max_height": null,
      "max_width": null,
      "min_height": null,
      "min_width": null,
      "object_fit": null,
      "object_position": null,
      "order": null,
      "overflow": null,
      "overflow_x": null,
      "overflow_y": null,
      "padding": null,
      "right": null,
      "top": null,
      "visibility": null,
      "width": null
     }
    },
    "d7d202cce2ab40d282eb910e982e4353": {
     "model_module": "@jupyter-widgets/base",
     "model_name": "LayoutModel",
     "state": {
      "_model_module": "@jupyter-widgets/base",
      "_model_module_version": "1.2.0",
      "_model_name": "LayoutModel",
      "_view_count": null,
      "_view_module": "@jupyter-widgets/base",
      "_view_module_version": "1.2.0",
      "_view_name": "LayoutView",
      "align_content": null,
      "align_items": null,
      "align_self": null,
      "border": null,
      "bottom": null,
      "display": null,
      "flex": null,
      "flex_flow": null,
      "grid_area": null,
      "grid_auto_columns": null,
      "grid_auto_flow": null,
      "grid_auto_rows": null,
      "grid_column": null,
      "grid_gap": null,
      "grid_row": null,
      "grid_template_areas": null,
      "grid_template_columns": null,
      "grid_template_rows": null,
      "height": null,
      "justify_content": null,
      "justify_items": null,
      "left": null,
      "margin": null,
      "max_height": null,
      "max_width": null,
      "min_height": null,
      "min_width": null,
      "object_fit": null,
      "object_position": null,
      "order": null,
      "overflow": null,
      "overflow_x": null,
      "overflow_y": null,
      "padding": null,
      "right": null,
      "top": null,
      "visibility": null,
      "width": null
     }
    },
    "d90f96542c64451a831674ee14fe6d7e": {
     "model_module": "@jupyter-widgets/controls",
     "model_name": "FloatProgressModel",
     "state": {
      "_dom_classes": [],
      "_model_module": "@jupyter-widgets/controls",
      "_model_module_version": "1.5.0",
      "_model_name": "FloatProgressModel",
      "_view_count": null,
      "_view_module": "@jupyter-widgets/controls",
      "_view_module_version": "1.5.0",
      "_view_name": "ProgressView",
      "bar_style": "success",
      "description": "Downloading: 100%",
      "description_tooltip": null,
      "layout": "IPY_MODEL_d7d202cce2ab40d282eb910e982e4353",
      "max": 898823,
      "min": 0,
      "orientation": "horizontal",
      "style": "IPY_MODEL_10a638fc584b4358b5f6f2875a27c143",
      "value": 898823
     }
    },
    "ddebbaaedffc4c44a25e90b25f9a2918": {
     "model_module": "@jupyter-widgets/base",
     "model_name": "LayoutModel",
     "state": {
      "_model_module": "@jupyter-widgets/base",
      "_model_module_version": "1.2.0",
      "_model_name": "LayoutModel",
      "_view_count": null,
      "_view_module": "@jupyter-widgets/base",
      "_view_module_version": "1.2.0",
      "_view_name": "LayoutView",
      "align_content": null,
      "align_items": null,
      "align_self": null,
      "border": null,
      "bottom": null,
      "display": null,
      "flex": null,
      "flex_flow": null,
      "grid_area": null,
      "grid_auto_columns": null,
      "grid_auto_flow": null,
      "grid_auto_rows": null,
      "grid_column": null,
      "grid_gap": null,
      "grid_row": null,
      "grid_template_areas": null,
      "grid_template_columns": null,
      "grid_template_rows": null,
      "height": null,
      "justify_content": null,
      "justify_items": null,
      "left": null,
      "margin": null,
      "max_height": null,
      "max_width": null,
      "min_height": null,
      "min_width": null,
      "object_fit": null,
      "object_position": null,
      "order": null,
      "overflow": null,
      "overflow_x": null,
      "overflow_y": null,
      "padding": null,
      "right": null,
      "top": null,
      "visibility": null,
      "width": null
     }
    },
    "e6327dfa4f954c96975144721e2c3db7": {
     "model_module": "@jupyter-widgets/base",
     "model_name": "LayoutModel",
     "state": {
      "_model_module": "@jupyter-widgets/base",
      "_model_module_version": "1.2.0",
      "_model_name": "LayoutModel",
      "_view_count": null,
      "_view_module": "@jupyter-widgets/base",
      "_view_module_version": "1.2.0",
      "_view_name": "LayoutView",
      "align_content": null,
      "align_items": null,
      "align_self": null,
      "border": null,
      "bottom": null,
      "display": null,
      "flex": null,
      "flex_flow": null,
      "grid_area": null,
      "grid_auto_columns": null,
      "grid_auto_flow": null,
      "grid_auto_rows": null,
      "grid_column": null,
      "grid_gap": null,
      "grid_row": null,
      "grid_template_areas": null,
      "grid_template_columns": null,
      "grid_template_rows": null,
      "height": null,
      "justify_content": null,
      "justify_items": null,
      "left": null,
      "margin": null,
      "max_height": null,
      "max_width": null,
      "min_height": null,
      "min_width": null,
      "object_fit": null,
      "object_position": null,
      "order": null,
      "overflow": null,
      "overflow_x": null,
      "overflow_y": null,
      "padding": null,
      "right": null,
      "top": null,
      "visibility": null,
      "width": null
     }
    },
    "f51571a365fe43c3aa9cc56d7741a6e2": {
     "model_module": "@jupyter-widgets/controls",
     "model_name": "HTMLModel",
     "state": {
      "_dom_classes": [],
      "_model_module": "@jupyter-widgets/controls",
      "_model_module_version": "1.5.0",
      "_model_name": "HTMLModel",
      "_view_count": null,
      "_view_module": "@jupyter-widgets/controls",
      "_view_module_version": "1.5.0",
      "_view_name": "HTMLView",
      "description": "",
      "description_tooltip": null,
      "layout": "IPY_MODEL_c6517b5006b24f85abde800b998bf8bf",
      "placeholder": "​",
      "style": "IPY_MODEL_2b0cc5bc3bbe46cb82e0d50b04c883ae",
      "value": " 899k/899k [00:03&lt;00:00, 251kB/s]"
     }
    }
   }
  }
 },
 "nbformat": 4,
 "nbformat_minor": 1
}
