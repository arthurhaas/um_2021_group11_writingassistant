{
 "cells": [
  {
   "cell_type": "markdown",
   "metadata": {
    "id": "rPCCWgJSfY42"
   },
   "source": [
    "# MS and BLEU on Paraphrases\n"
   ]
  },
  {
   "cell_type": "markdown",
   "metadata": {},
   "source": [
    "**PLEASE INSTALL MOVERSCORE AS BELOW USING**\n",
    "- https://drive.google.com/drive/folders/1SMHlJ338BHoJnkRiY-419EjLdFTHV91O?usp=sharing\n",
    "\n",
    "Alternatively, please refer to https://github.com/AIPHES/emnlp19-moverscore"
   ]
  },
  {
   "cell_type": "markdown",
   "metadata": {
    "id": "3qfFHE5QfctJ"
   },
   "source": [
    "## Mount Drive and Setup\n"
   ]
  },
  {
   "cell_type": "code",
   "execution_count": null,
   "metadata": {
    "colab": {
     "base_uri": "https://localhost:8080/"
    },
    "id": "HUcgjuB-NhKo",
    "outputId": "c868c096-3490-434c-9861-89e0ef3f36e8"
   },
   "outputs": [
    {
     "name": "stdout",
     "output_type": "stream",
     "text": [
      "Mounted at /content/gdrive/\n"
     ]
    }
   ],
   "source": [
    "from google.colab import drive\n",
    "drive.mount('/content/gdrive/')"
   ]
  },
  {
   "cell_type": "code",
   "execution_count": null,
   "metadata": {
    "id": "MZhfdg-iTJin"
   },
   "outputs": [],
   "source": [
    "! pip3 install -r /content/gdrive/MyDrive/NLP_EvaluationMetrics/MoverScore/requirements.txt\n",
    "! pip3 install transformers\n",
    "! pip3 install pytorch-pretrained-bert\n",
    "! pip3 install moverscore\n",
    "! pip3 install tdqm"
   ]
  },
  {
   "cell_type": "code",
   "execution_count": null,
   "metadata": {
    "id": "hJ4mgxKPOT6-"
   },
   "outputs": [],
   "source": [
    "base_path_moverscore = '/content/gdrive/MyDrive/NLP_EvaluationMetrics/MoverScoreBLEU/'"
   ]
  },
  {
   "cell_type": "code",
   "execution_count": null,
   "metadata": {
    "colab": {
     "base_uri": "https://localhost:8080/"
    },
    "id": "yxmF6jvTVOen",
    "outputId": "c011c2e8-5fa0-46df-ce29-d237700a7d42"
   },
   "outputs": [
    {
     "name": "stdout",
     "output_type": "stream",
     "text": [
      "Used device is cuda:0\n"
     ]
    }
   ],
   "source": [
    "# Get Device \n",
    "import torch\n",
    "device = torch.device(\"cuda:0\" if torch.cuda.is_available() else \"cpu\")\n",
    "print(f'Used device is {device}')"
   ]
  },
  {
   "cell_type": "code",
   "execution_count": null,
   "metadata": {
    "colab": {
     "base_uri": "https://localhost:8080/"
    },
    "id": "kxVOQhP_O6fz",
    "outputId": "86929a0b-d899-4c6a-f544-a8038be1f94f"
   },
   "outputs": [
    {
     "name": "stdout",
     "output_type": "stream",
     "text": [
      "Downloading https://github.com/AIPHES/emnlp19-moverscore/releases/download/0.6/MNLI_BERT.zip to /root/.moverscore/MNLI_BERT.zip\n",
      "[--------------------------------------------------]\n"
     ]
    }
   ],
   "source": [
    "## Use the original version with BERTMNLI to reproduce the results.\n",
    "from moverscore import get_idf_dict, word_mover_score\n",
    "## Recommend to use this version (DistilBERT) for evaluation, if the speed is your concern.\n",
    "##from moverscore_v2 import get_idf_dict, word_mover_score \n",
    "from collections import defaultdict\n",
    "import os\n",
    "import pickle\n",
    "import tqdm\n",
    "import seaborn as sns\n",
    "import numpy as np\n",
    "import matplotlib.pyplot as plt\n",
    "import warnings\n",
    "import pandas as pd\n",
    "from nltk.translate.bleu_score import sentence_bleu\n",
    "from nltk.translate.bleu_score import SmoothingFunction\n",
    "import statistics\n",
    "import string\n",
    "\n",
    "\n",
    "warnings.simplefilter(action='ignore', category=FutureWarning)\n",
    "pd.set_option('display.max_colwidth', -1)"
   ]
  },
  {
   "cell_type": "markdown",
   "metadata": {
    "id": "uDo3Emk0W-GO"
   },
   "source": [
    "## Calculating/Loading Scores on T5\n"
   ]
  },
  {
   "cell_type": "code",
   "execution_count": null,
   "metadata": {
    "id": "23ZbAxUU82xM"
   },
   "outputs": [],
   "source": [
    "# Load paraphrases for calculation\n",
    "data_path = '/content/gdrive/MyDrive/NLP_EvaluationMetrics/T5_paraphrases/Phase3/'\n",
    "with open(data_path+'data_paraphrased_model1.pkl', 'rb') as f:\n",
    "  data = pickle.load(f)\n",
    "data.columns = ['original', 'paraphrase']"
   ]
  },
  {
   "cell_type": "code",
   "execution_count": null,
   "metadata": {
    "colab": {
     "base_uri": "https://localhost:8080/"
    },
    "id": "bjzpIjZb87ZZ",
    "outputId": "608fa283-9b4c-4985-9e49-4dc2d2717ab9"
   },
   "outputs": [
    {
     "data": {
      "text/plain": [
       "105000"
      ]
     },
     "execution_count": 11,
     "metadata": {
      "tags": []
     },
     "output_type": "execute_result"
    }
   ],
   "source": [
    "data['max_length'] = [max(len(sent.split()), len(ref.split())) for sent, ref in zip(data['original'], data['paraphrase'])]\n",
    "data['min_length'] = [min(len(sent.split()), len(ref.split())) for sent, ref in zip(data['original'], data['paraphrase'])]\n",
    "len(data)"
   ]
  },
  {
   "cell_type": "code",
   "execution_count": null,
   "metadata": {
    "colab": {
     "base_uri": "https://localhost:8080/"
    },
    "id": "l1m-BR5T9yNS",
    "outputId": "e2784ca6-6d64-4496-9eeb-087eddb61bfa"
   },
   "outputs": [
    {
     "data": {
      "text/plain": [
       "104999"
      ]
     },
     "execution_count": 12,
     "metadata": {
      "tags": []
     },
     "output_type": "execute_result"
    }
   ],
   "source": [
    "data = data.loc[data['min_length']>=3]\n",
    "len(data)"
   ]
  },
  {
   "cell_type": "code",
   "execution_count": null,
   "metadata": {
    "id": "J_SAbpoJya2Z"
   },
   "outputs": [],
   "source": [
    "# Workaround used because of woring order of applciation of COLA and MS\n",
    "#data_cache = pd.read_excel(data_path+'cola_filtered+score.xlsx')\n",
    "#data_cache.head()\n",
    "#data_cache.to_pickle(data_path+'data_paraphrased_with_scores.pkl')"
   ]
  },
  {
   "cell_type": "code",
   "execution_count": null,
   "metadata": {
    "colab": {
     "base_uri": "https://localhost:8080/"
    },
    "id": "YKv8kYBNW-GO",
    "outputId": "a62aad51-4e55-412e-d742-7ecd348cbed7"
   },
   "outputs": [
    {
     "name": "stdout",
     "output_type": "stream",
     "text": [
      "Done!\n"
     ]
    }
   ],
   "source": [
    "data_path = '/content/gdrive/MyDrive/NLP_EvaluationMetrics/T5_paraphrases/Phase3/'\n",
    "\n",
    "filename_dataframe = 'data_paraphrased_with_scores.pkl'\n",
    "\n",
    "try:\n",
    "  # Try to read already calculated data\n",
    "  data_scored =  pd.read_pickle(data_path + filename_dataframe)\n",
    "\n",
    "except FileNotFoundError:\n",
    "  print(f'Data does not exist yet! Calculating scores now ... ')\n",
    "\n",
    "  # Load paraphrases for calculation\n",
    "  #with open(data_path+'data_paraphrased.pkl', 'rb') as f:\n",
    "    #data = pickle.load(f)\n",
    "  #data.columns = ['original', 'paraphrase']\n",
    "\n",
    "  # Setup data structure\n",
    "  data_scored = pd.DataFrame(columns=['original', 'paraphrase', 'MoverScore', 'BLEU'])\n",
    "\n",
    "  # Get idf dicts \n",
    "  idf_dict_hyp = get_idf_dict(data['original']) # idf_dict_hyp = defaultdict(lambda: 1.)\n",
    "  idf_dict_ref = get_idf_dict(data['paraphrase']) # idf_dict_ref = defaultdict(lambda: 1.)\n",
    "\n",
    "  # BLEU helpers\n",
    "  translator = str.maketrans(string.punctuation, ' '*len(string.punctuation))\n",
    "  smoothie = SmoothingFunction().method4\n",
    "  \n",
    "  # calculate moverscores\n",
    "  #THIS MIGHT BE IMPROVED WITH BETTER BATCHING\n",
    "  for i, (ref, tran) in tqdm.notebook.tqdm(enumerate(zip(data['original'], data['paraphrase'])), total = len(data['paraphrase'])):\n",
    "\n",
    "    # Calc Moverscore\n",
    "    score_MS = word_mover_score([ref], [tran], idf_dict_ref, idf_dict_hyp, stop_words=[], n_gram=4, remove_subwords=True)\n",
    "    \n",
    "    # Calc BLEU\n",
    "    score_BLEU = sentence_bleu(references=[ref.translate(translator).lower().split()], hypothesis=tran.translate(translator).lower().split(), weights=(.25, .25, .25, .25), smoothing_function=smoothie)\n",
    "\n",
    "    # Storing data in dataframe\n",
    "    data_scored = data_scored.append(pd.DataFrame([[ref, tran, score_MS[0], score_BLEU]], \n",
    "                                              columns=['original', 'paraphrase', 'MoverScore', 'BLEU']),\n",
    "                                              ignore_index=True)\n",
    "\n",
    "  # After all sentences are done: Save data\n",
    "  print('Saving data to :\\t', data_path + filename_dataframe )\n",
    "  data_scored.to_pickle(data_path + filename_dataframe)\n",
    "\n",
    "finally:\n",
    "  print('Done!')"
   ]
  },
  {
   "cell_type": "code",
   "execution_count": null,
   "metadata": {
    "colab": {
     "base_uri": "https://localhost:8080/"
    },
    "id": "76obXOTJtKV6",
    "outputId": "2ec21548-9dd8-41e6-8890-c235b1bdda5c"
   },
   "outputs": [
    {
     "name": "stdout",
     "output_type": "stream",
     "text": [
      "Mean of BLEU 0.24722168377223105\n",
      "Mean of MS 0.6022756020437136\n"
     ]
    }
   ],
   "source": [
    "print(f'Mean of BLEU', data_scored['BLEU'].mean())\n",
    "print(f'Mean of MS', data_scored['MoverScore'].mean())"
   ]
  },
  {
   "cell_type": "code",
   "execution_count": null,
   "metadata": {
    "id": "Jq6f-c0V74GE"
   },
   "outputs": [],
   "source": [
    "def F1(x,y):\n",
    "  return 2*(x*y)/(x+y)    \n",
    "def z_score(data):\n",
    "  data = (data-np.mean(data))/np.std(data)    \n",
    "  return data   "
   ]
  },
  {
   "cell_type": "code",
   "execution_count": null,
   "metadata": {
    "id": "5zuOuGAghJjz"
   },
   "outputs": [],
   "source": [
    "data_scored['F1']= [F1(MS,1-B) for MS,B in zip(data_scored['MoverScore'],data_scored['BLEU'])]\n",
    "data_scored = data_scored.sort_values(by =['F1'], ascending = False)"
   ]
  },
  {
   "cell_type": "markdown",
   "metadata": {
    "id": "0g4jg3x6VRi2"
   },
   "source": []
  },
  {
   "cell_type": "code",
   "execution_count": null,
   "metadata": {
    "colab": {
     "base_uri": "https://localhost:8080/",
     "height": 282
    },
    "id": "eKCzJtpwoGVl",
    "outputId": "9b2adce5-3b85-44dc-bb8d-9e00d87ba0ea"
   },
   "outputs": [
    {
     "data": {
      "text/plain": [
       "<matplotlib.axes._subplots.AxesSubplot at 0x7f20546217d0>"
      ]
     },
     "execution_count": 18,
     "metadata": {
      "tags": []
     },
     "output_type": "execute_result"
    },
    {
     "data": {
      "image/png": "[encoded data removed]",
      "text/plain": [
       "<Figure size 432x288 with 1 Axes>"
      ]
     },
     "metadata": {
      "needs_background": "light",
      "tags": []
     },
     "output_type": "display_data"
    }
   ],
   "source": [
    "data_scored['F1'].hist(density= True, bins = 1000)"
   ]
  },
  {
   "cell_type": "code",
   "execution_count": null,
   "metadata": {
    "id": "7oFSbHxzoGYM"
   },
   "outputs": [],
   "source": [
    "#data_scored.head(40)"
   ]
  },
  {
   "cell_type": "code",
   "execution_count": null,
   "metadata": {
    "id": "7WsrGdxCmyPa"
   },
   "outputs": [],
   "source": [
    "#data_scored.tail(40)"
   ]
  },
  {
   "cell_type": "code",
   "execution_count": null,
   "metadata": {
    "colab": {
     "base_uri": "https://localhost:8080/"
    },
    "id": "YCSMf6azkxvq",
    "outputId": "09e1c3d9-f2ab-46ac-eaa3-544566428177"
   },
   "outputs": [
    {
     "name": "stdout",
     "output_type": "stream",
     "text": [
      "Remaining: 104999 sentence pairs!\n",
      "Remaining: 76597 sentence pairs!\n"
     ]
    }
   ],
   "source": [
    "print(f'Remaining: {len(data_scored)} sentence pairs!')\n",
    "data_scored['F1_Zscore']= z_score(data_scored['F1'])\n",
    "data_scored_subset = data_scored[np.abs(data_scored['F1_Zscore'])<1]\n",
    "print(f'Remaining: {len(data_scored_subset)} sentence pairs!')"
   ]
  },
  {
   "cell_type": "code",
   "execution_count": null,
   "metadata": {
    "id": "7oyj1cEhn5q0"
   },
   "outputs": [],
   "source": [
    "data_scored_subset.head(40)"
   ]
  },
  {
   "cell_type": "code",
   "execution_count": null,
   "metadata": {
    "id": "6nGJsRICo164"
   },
   "outputs": [],
   "source": [
    "#data_scored_subset.tail(40)"
   ]
  },
  {
   "cell_type": "code",
   "execution_count": null,
   "metadata": {
    "id": "HshDf8YUhIzP"
   },
   "outputs": [],
   "source": [
    "# After all sentences are done: Save data\n",
    "data_scored.to_pickle(data_path + 'data_paraphrased_with_F1.pkl')\n",
    "# After all sentences are done: Save data\n",
    "data_scored_subset.head(75000).to_pickle(data_path + 'data_paraphrased_Z-filtered_75K.pkl')"
   ]
  },
  {
   "cell_type": "code",
   "execution_count": null,
   "metadata": {
    "id": "0YOU-LALjUXR"
   },
   "outputs": [],
   "source": [
    "data_T5_scored = data_scored"
   ]
  },
  {
   "cell_type": "markdown",
   "metadata": {
    "id": "DuCZWlpx4NA2"
   },
   "source": [
    "## Calculating/Loading Scores on GPT2\n",
    "\n",
    "---\n",
    "\n",
    "\n"
   ]
  },
  {
   "cell_type": "code",
   "execution_count": null,
   "metadata": {
    "id": "s4AWaiGd4NBB"
   },
   "outputs": [],
   "source": [
    "# Load paraphrases for calculation\n",
    "data_path = '/content/gdrive/MyDrive/NLP_EvaluationMetrics/GPT2_paraphrases/Phase3/'\n",
    "#with open(data_path+'cleaned_df_gpt2.pkl', 'rb') as f:\n",
    "  #data_gpt2 = pickle.load(f)\n",
    "data_gpt2=pd.read_csv(data_path+'gpt_2_105k_para.csv')\n",
    "#data_gpt2 = data_gpt2.drop(columns = ['Unnamed: 0'])\n",
    "data_gpt2.columns = ['original', 'paraphrase']"
   ]
  },
  {
   "cell_type": "code",
   "execution_count": null,
   "metadata": {
    "colab": {
     "base_uri": "https://localhost:8080/",
     "height": 283
    },
    "id": "GmAzhd9IWXbL",
    "outputId": "fb013882-ff25-46aa-fbe3-8e4cb2128ff5"
   },
   "outputs": [
    {
     "name": "stdout",
     "output_type": "stream",
     "text": [
      "Num sentences: 104997\n"
     ]
    },
    {
     "data": {
      "text/html": [
       "<div>\n",
       "<style scoped>\n",
       "    .dataframe tbody tr th:only-of-type {\n",
       "        vertical-align: middle;\n",
       "    }\n",
       "\n",
       "    .dataframe tbody tr th {\n",
       "        vertical-align: top;\n",
       "    }\n",
       "\n",
       "    .dataframe thead th {\n",
       "        text-align: right;\n",
       "    }\n",
       "</style>\n",
       "<table border=\"1\" class=\"dataframe\">\n",
       "  <thead>\n",
       "    <tr style=\"text-align: right;\">\n",
       "      <th></th>\n",
       "      <th>original</th>\n",
       "      <th>paraphrase</th>\n",
       "    </tr>\n",
       "  </thead>\n",
       "  <tbody>\n",
       "    <tr>\n",
       "      <th>0</th>\n",
       "      <td>in the last years wireless communication systems coped with the problem of delivering reliable information while granting high throughput.</td>\n",
       "      <td>in recent years, the problem of reliable information delivery has been addressed by wireless systems that have been able to handle high-speed data</td>\n",
       "    </tr>\n",
       "    <tr>\n",
       "      <th>1</th>\n",
       "      <td>several works addressed the parallelization of turbo decoder architectures to achieve higher throughput.</td>\n",
       "      <td>several projects have been developed to parallelize the architecture of the turbo decoder.</td>\n",
       "    </tr>\n",
       "    <tr>\n",
       "      <th>2</th>\n",
       "      <td>thus, together with flexible and high throughput processing elements, a multi-asip architecture must feature also a flexible and high throughput interconnection backbone.</td>\n",
       "      <td>a multi-asip architecture must also include a flexible and high-speed connection backbone, which is also a multi-asip architecture.</td>\n",
       "    </tr>\n",
       "    <tr>\n",
       "      <th>3</th>\n",
       "      <td>in this work a general framework to design network on chip based turbo decoder architectures has been presented.</td>\n",
       "      <td>a general framework for the design of a network on chip based on a turbo decoder has been presented in this work.</td>\n",
       "    </tr>\n",
       "    <tr>\n",
       "      <th>4</th>\n",
       "      <td>the proposed framework can be adapted to explore different topologies, degrees of parallelism, message injection rates and routing algorithms.</td>\n",
       "      <td>the framework can be adapted to examine different topologies, degrees of parallelism, message injection rates and routing algorithms.</td>\n",
       "    </tr>\n",
       "  </tbody>\n",
       "</table>\n",
       "</div>"
      ],
      "text/plain": [
       "                                                                                                                                                                     original                                                                                                                                          paraphrase\n",
       "0  in the last years wireless communication systems coped with the problem of delivering reliable information while granting high throughput.                                  in recent years, the problem of reliable information delivery has been addressed by wireless systems that have been able to handle high-speed data\n",
       "1  several works addressed the parallelization of turbo decoder architectures to achieve higher throughput.                                                                    several projects have been developed to parallelize the architecture of the turbo decoder.                                                        \n",
       "2  thus, together with flexible and high throughput processing elements, a multi-asip architecture must feature also a flexible and high throughput interconnection backbone.  a multi-asip architecture must also include a flexible and high-speed connection backbone, which is also a multi-asip architecture.               \n",
       "3  in this work a general framework to design network on chip based turbo decoder architectures has been presented.                                                            a general framework for the design of a network on chip based on a turbo decoder has been presented in this work.                                 \n",
       "4  the proposed framework can be adapted to explore different topologies, degrees of parallelism, message injection rates and routing algorithms.                              the framework can be adapted to examine different topologies, degrees of parallelism, message injection rates and routing algorithms.             "
      ]
     },
     "execution_count": 27,
     "metadata": {
      "tags": []
     },
     "output_type": "execute_result"
    }
   ],
   "source": [
    "print(f'Num sentences: {len(data_gpt2)}')\n",
    "data_gpt2.head()"
   ]
  },
  {
   "cell_type": "code",
   "execution_count": null,
   "metadata": {
    "colab": {
     "base_uri": "https://localhost:8080/"
    },
    "id": "015z0RMl4NBB",
    "outputId": "62481ead-fa42-4656-8338-a7ff50d39ae8"
   },
   "outputs": [
    {
     "name": "stdout",
     "output_type": "stream",
     "text": [
      "Num sentences: 104997\n"
     ]
    }
   ],
   "source": [
    "data_gpt2['max_length'] = [max(len(sent.split()), len(ref.split())) for sent, ref in zip(data_gpt2['original'], data_gpt2['paraphrase'])]\n",
    "data_gpt2['min_length'] = [min(len(sent.split()), len(ref.split())) for sent, ref in zip(data_gpt2['original'], data_gpt2['paraphrase'])]\n",
    "print(f'Num sentences: {len(data_gpt2)}')"
   ]
  },
  {
   "cell_type": "code",
   "execution_count": null,
   "metadata": {
    "colab": {
     "base_uri": "https://localhost:8080/"
    },
    "id": "vyhMEWH34NBC",
    "outputId": "2e589fd2-1619-4953-ecbd-d67a25b2b382"
   },
   "outputs": [
    {
     "name": "stdout",
     "output_type": "stream",
     "text": [
      "Num sentences: 104900\n"
     ]
    }
   ],
   "source": [
    "data_gpt2 = data_gpt2.loc[data_gpt2['min_length']>=3]\n",
    "print(f'Num sentences: {len(data_gpt2)}')"
   ]
  },
  {
   "cell_type": "code",
   "execution_count": null,
   "metadata": {
    "colab": {
     "base_uri": "https://localhost:8080/"
    },
    "id": "PsVKWfYs4NBD",
    "outputId": "f2e9aeb1-df9c-4a97-8642-a5010e0e4364"
   },
   "outputs": [
    {
     "name": "stdout",
     "output_type": "stream",
     "text": [
      "Done!\n"
     ]
    }
   ],
   "source": [
    "data_path = '/content/gdrive/MyDrive/NLP_EvaluationMetrics/GPT2_paraphrases/Phase3/'\n",
    "\n",
    "filename_dataframe = 'cleaned_df_gpt2_with_scores.pkl'\n",
    "\n",
    "try:\n",
    "  # Try to read already calculated data\n",
    "  data_gpt2_scored =  pd.read_pickle(data_path + filename_dataframe)\n",
    "\n",
    "except FileNotFoundError:\n",
    "  print(f'Data does not exist yet! Calculating scores now ... ')\n",
    "\n",
    "  # Load paraphrases for calculation\n",
    "  #with open(data_path+'data_paraphrased.pkl', 'rb') as f:\n",
    "    #data = pickle.load(f)\n",
    "  #data.columns = ['original', 'paraphrase']\n",
    "\n",
    "  # Setup data structure\n",
    "  data_gpt2_scored = pd.DataFrame(columns=['original', 'paraphrase', 'MoverScore', 'BLEU'])\n",
    "\n",
    "  # Get idf dicts \n",
    "  idf_dict_hyp = get_idf_dict(data_gpt2['original']) # idf_dict_hyp = defaultdict(lambda: 1.)\n",
    "  idf_dict_ref = get_idf_dict(data_gpt2['paraphrase']) # idf_dict_ref = defaultdict(lambda: 1.)\n",
    "\n",
    "  # BLEU helpers\n",
    "  translator = str.maketrans(string.punctuation, ' '*len(string.punctuation))\n",
    "  smoothie = SmoothingFunction().method4\n",
    "  \n",
    "  # calculate moverscores\n",
    "  #THIS MIGHT BE IMPROVED WITH BETTER BATCHING\n",
    "  for i, (ref, tran) in tqdm.notebook.tqdm(enumerate(zip(data_gpt2['original'], data_gpt2['paraphrase'])), total = len(data_gpt2['paraphrase'])):\n",
    "\n",
    "    # Calc Moverscore\n",
    "    score_MS = word_mover_score([ref], [tran], idf_dict_ref, idf_dict_hyp, stop_words=[], n_gram=4, remove_subwords=True)\n",
    "    \n",
    "    # Calc BLEU\n",
    "    score_BLEU = sentence_bleu(references=[ref.translate(translator).lower().split()], hypothesis=tran.translate(translator).lower().split(), weights=(.25, .25, .25, .25), smoothing_function=smoothie)\n",
    "\n",
    "    # Storing data in dataframe\n",
    "    data_gpt2_scored = data_gpt2_scored.append(pd.DataFrame([[ref, tran, score_MS[0], score_BLEU]], \n",
    "                                              columns=['original', 'paraphrase', 'MoverScore', 'BLEU']),\n",
    "                                              ignore_index=True)\n",
    "\n",
    "  # After all sentences are done: Save data\n",
    "  print('Saving data to :\\t', data_path + filename_dataframe )\n",
    "  data_gpt2_scored.to_pickle(data_path + filename_dataframe)\n",
    "\n",
    "finally:\n",
    "  print('Done!')"
   ]
  },
  {
   "cell_type": "code",
   "execution_count": null,
   "metadata": {
    "colab": {
     "base_uri": "https://localhost:8080/"
    },
    "id": "1tWXPVM34NBE",
    "outputId": "23ea7167-2ebf-45e7-da7e-9d2a76072f6b"
   },
   "outputs": [
    {
     "name": "stdout",
     "output_type": "stream",
     "text": [
      "Mean of BLEU 0.35285961338716093\n",
      "Mean of MS 0.6484123554572696\n"
     ]
    }
   ],
   "source": [
    "print(f'Mean of BLEU', data_gpt2_scored['BLEU'].mean())\n",
    "print(f'Mean of MS', data_gpt2_scored['MoverScore'].mean())"
   ]
  },
  {
   "cell_type": "code",
   "execution_count": null,
   "metadata": {
    "id": "2kiLUyzK4NBG"
   },
   "outputs": [],
   "source": [
    "data_gpt2_scored['F1']= [F1(MS,1-B) for MS,B in zip(data_gpt2_scored['MoverScore'],data_gpt2_scored['BLEU'])]\n",
    "#data_gpt2_scored.to_pickle(data_path + 'cleaned_df_gpt2_with_scores_F1.pk')"
   ]
  },
  {
   "cell_type": "code",
   "execution_count": null,
   "metadata": {
    "colab": {
     "base_uri": "https://localhost:8080/",
     "height": 282
    },
    "id": "jTJHY8Jbn0cL",
    "outputId": "6e7de413-8a8b-451f-ba6c-2774f974834c"
   },
   "outputs": [
    {
     "data": {
      "text/plain": [
       "<matplotlib.axes._subplots.AxesSubplot at 0x7f2053cdd910>"
      ]
     },
     "execution_count": 33,
     "metadata": {
      "tags": []
     },
     "output_type": "execute_result"
    },
    {
     "data": {
      "image/png": "[encoded data removed]",
      "text/plain": [
       "<Figure size 432x288 with 1 Axes>"
      ]
     },
     "metadata": {
      "needs_background": "light",
      "tags": []
     },
     "output_type": "display_data"
    }
   ],
   "source": [
    "data_gpt2_scored['F1'].hist(bins = 200, density = True)"
   ]
  },
  {
   "cell_type": "code",
   "execution_count": null,
   "metadata": {
    "colab": {
     "base_uri": "https://localhost:8080/",
     "height": 282
    },
    "id": "d7cKB2W9tmia",
    "outputId": "d1dc2b6f-e93a-4f07-ecd8-67741726db37"
   },
   "outputs": [
    {
     "data": {
      "text/plain": [
       "<matplotlib.axes._subplots.AxesSubplot at 0x7f2053d1d910>"
      ]
     },
     "execution_count": 34,
     "metadata": {
      "tags": []
     },
     "output_type": "execute_result"
    },
    {
     "data": {
      "image/png": "[encoded data removed]",
      "text/plain": [
       "<Figure size 432x288 with 1 Axes>"
      ]
     },
     "metadata": {
      "needs_background": "light",
      "tags": []
     },
     "output_type": "display_data"
    }
   ],
   "source": [
    "(1-data_gpt2_scored['BLEU']).hist(bins = 200, density = True)"
   ]
  },
  {
   "cell_type": "code",
   "execution_count": null,
   "metadata": {
    "colab": {
     "base_uri": "https://localhost:8080/",
     "height": 321
    },
    "id": "3aLmJCyftCe-",
    "outputId": "ee251aae-21f2-4f6f-cccb-b7f98069a546"
   },
   "outputs": [
    {
     "name": "stderr",
     "output_type": "stream",
     "text": [
      "/usr/local/lib/python3.7/dist-packages/numpy/core/_asarray.py:83: VisibleDeprecationWarning: Creating an ndarray from ragged nested sequences (which is a list-or-tuple of lists-or-tuples-or ndarrays with different lengths or shapes) is deprecated. If you meant to do this, you must specify 'dtype=object' when creating the ndarray\n",
      "  return array(a, dtype, copy=False, order=order)\n"
     ]
    },
    {
     "data": {
      "image/png": "[encoded data removed]",
      "text/plain": [
       "<Figure size 432x288 with 1 Axes>"
      ]
     },
     "metadata": {
      "needs_background": "light",
      "tags": []
     },
     "output_type": "display_data"
    }
   ],
   "source": [
    "plt.hist([data_gpt2_scored['F1'],data_T5_scored['F1']], label=['GPT2', 'T5'], bins = 200, density=True)\n",
    "plt.legend()\n",
    "plt.show()"
   ]
  },
  {
   "cell_type": "code",
   "execution_count": null,
   "metadata": {
    "id": "i6CcN-jWn6S7"
   },
   "outputs": [],
   "source": [
    "#data_gpt2_scored.head(40)"
   ]
  },
  {
   "cell_type": "code",
   "execution_count": null,
   "metadata": {
    "id": "VjIg4SZcn9Vj"
   },
   "outputs": [],
   "source": [
    "#data_gpt2_scored.tail(40)"
   ]
  },
  {
   "cell_type": "code",
   "execution_count": null,
   "metadata": {
    "colab": {
     "base_uri": "https://localhost:8080/"
    },
    "id": "fAwYNXRioQW_",
    "outputId": "ae3f864a-9c3a-4e55-9c61-ff8e10d5e194"
   },
   "outputs": [
    {
     "name": "stdout",
     "output_type": "stream",
     "text": [
      "Remaining: 104900 sentence pairs!\n",
      "Remaining: 82616 sentence pairs!\n"
     ]
    }
   ],
   "source": [
    "print(f'Remaining: {len(data_gpt2_scored)} sentence pairs!')\n",
    "data_gpt2_scored['F1_Zscore']= z_score(data_gpt2_scored['F1'])\n",
    "data_gpt2_scored_subset = data_gpt2_scored[np.abs(data_gpt2_scored['F1_Zscore'])<1]\n",
    "print(f'Remaining: {len(data_gpt2_scored_subset)} sentence pairs!')"
   ]
  },
  {
   "cell_type": "code",
   "execution_count": null,
   "metadata": {
    "id": "YTL5ZHt4tair"
   },
   "outputs": [],
   "source": [
    "# After all sentences are done: Save data\n",
    "data_gpt2_scored.to_pickle(data_path + 'data_gpt2_paraphrased_with_F1.pkl')\n",
    "# After all sentences are done: Save data\n",
    "data_gpt2_scored_subset.head(75000).to_pickle(data_path + 'data_gpt2_paraphrased_Z-filtered_75K.pkl')"
   ]
  },
  {
   "cell_type": "code",
   "execution_count": null,
   "metadata": {
    "id": "0SJsdJ6quGyU"
   },
   "outputs": [],
   "source": [
    "#data_gpt2_scored_subset"
   ]
  },
  {
   "cell_type": "code",
   "execution_count": null,
   "metadata": {
    "id": "wlxHBp0v4NBG"
   },
   "outputs": [],
   "source": [
    "# After all sentences are done: Save data\n",
    "data_gpt2_scored.to_pickle(data_path + 'data_paraphrased_F1.pkl')"
   ]
  },
  {
   "cell_type": "markdown",
   "metadata": {
    "id": "eSdKyRiFTwcS"
   },
   "source": [
    "## Comparison\n",
    "Note that the datasets differ slightly due to filtering, but this is neglectable due to the large amount of data."
   ]
  },
  {
   "cell_type": "code",
   "execution_count": null,
   "metadata": {
    "colab": {
     "base_uri": "https://localhost:8080/",
     "height": 369
    },
    "id": "fZqmUwJHRO38",
    "outputId": "a4f7aa29-bc09-4fc4-c907-1499e2f14f02"
   },
   "outputs": [
    {
     "name": "stderr",
     "output_type": "stream",
     "text": [
      "/usr/local/lib/python3.7/dist-packages/numpy/core/_asarray.py:83: VisibleDeprecationWarning: Creating an ndarray from ragged nested sequences (which is a list-or-tuple of lists-or-tuples-or ndarrays with different lengths or shapes) is deprecated. If you meant to do this, you must specify 'dtype=object' when creating the ndarray\n",
      "  return array(a, dtype, copy=False, order=order)\n"
     ]
    },
    {
     "data": {
      "image/png": "[encoded data removed]",
      "text/plain": [
       "<Figure size 2016x360 with 3 Axes>"
      ]
     },
     "metadata": {
      "needs_background": "light",
      "tags": []
     },
     "output_type": "display_data"
    }
   ],
   "source": [
    "fig, ax = plt.subplots(1,3, figsize = (28,5))\n",
    "\n",
    "\n",
    "ax[0].hist([data_gpt2_scored['MoverScore'], data_T5_scored['MoverScore']], bins = 100, label = ['GPT2', 'T5'], density = True)\n",
    "ax[0].set_title('Moverscore', fontsize = 14)\n",
    "ax[0].legend(fontsize = 14)\n",
    "ax[1].hist([1-data_gpt2_scored['BLEU'], 1-data_T5_scored['BLEU']], bins = 100, label = ['GPT2', 'T5'], density = True)\n",
    "ax[1].set_title('Inverse BLEU', fontsize = 14)\n",
    "ax[1].legend(fontsize = 14)\n",
    "ax[2].hist([data_gpt2_scored['F1'], data_T5_scored['F1']], bins = 100, label = ['GPT2', 'T5'], density = True)\n",
    "ax[2].set_title('F1(MS,1-BLEU)', fontsize = 14)\n",
    "ax[2].legend(fontsize = 14)\n",
    "\n",
    "plt.show()"
   ]
  },
  {
   "cell_type": "code",
   "execution_count": null,
   "metadata": {
    "colab": {
     "base_uri": "https://localhost:8080/",
     "height": 1000
    },
    "id": "LtTmY8pfudQM",
    "outputId": "ba1b96a6-a0a6-4512-b2c1-019075741b04"
   },
   "outputs": [
    {
     "data": {
      "text/html": [
       "<div>\n",
       "<style scoped>\n",
       "    .dataframe tbody tr th:only-of-type {\n",
       "        vertical-align: middle;\n",
       "    }\n",
       "\n",
       "    .dataframe tbody tr th {\n",
       "        vertical-align: top;\n",
       "    }\n",
       "\n",
       "    .dataframe thead th {\n",
       "        text-align: right;\n",
       "    }\n",
       "</style>\n",
       "<table border=\"1\" class=\"dataframe\">\n",
       "  <thead>\n",
       "    <tr style=\"text-align: right;\">\n",
       "      <th></th>\n",
       "      <th>original</th>\n",
       "      <th>paraphrase</th>\n",
       "      <th>MoverScore</th>\n",
       "      <th>BLEU</th>\n",
       "      <th>F1</th>\n",
       "      <th>F1_Zscore</th>\n",
       "    </tr>\n",
       "  </thead>\n",
       "  <tbody>\n",
       "    <tr>\n",
       "      <th>36420</th>\n",
       "      <td>both of these alternatives are reasonable.</td>\n",
       "      <td>both of these alternatives are reasonable.</td>\n",
       "      <td>0.998289</td>\n",
       "      <td>1.0</td>\n",
       "      <td>0.0</td>\n",
       "      <td>-5.847205</td>\n",
       "    </tr>\n",
       "    <tr>\n",
       "      <th>98120</th>\n",
       "      <td>therefore, the following theorem can be stated.</td>\n",
       "      <td>therefore, the following theorem can be stated.</td>\n",
       "      <td>0.983182</td>\n",
       "      <td>1.0</td>\n",
       "      <td>0.0</td>\n",
       "      <td>-5.847205</td>\n",
       "    </tr>\n",
       "    <tr>\n",
       "      <th>91624</th>\n",
       "      <td>we show the recovered frame corresponding to the object moving at the fastest speed.</td>\n",
       "      <td>we show the recovered frame corresponding to the object moving at the fastest speed.</td>\n",
       "      <td>0.995098</td>\n",
       "      <td>1.0</td>\n",
       "      <td>0.0</td>\n",
       "      <td>-5.847205</td>\n",
       "    </tr>\n",
       "    <tr>\n",
       "      <th>83587</th>\n",
       "      <td>this proves the first part of the theorem.</td>\n",
       "      <td>this proves the first part of the theorem.</td>\n",
       "      <td>0.983421</td>\n",
       "      <td>1.0</td>\n",
       "      <td>0.0</td>\n",
       "      <td>-5.847205</td>\n",
       "    </tr>\n",
       "    <tr>\n",
       "      <th>55578</th>\n",
       "      <td>the measurement matrix was assumed to be gaussian.</td>\n",
       "      <td>the measurement matrix was assumed to be Gaussian.</td>\n",
       "      <td>0.995301</td>\n",
       "      <td>1.0</td>\n",
       "      <td>0.0</td>\n",
       "      <td>-5.847205</td>\n",
       "    </tr>\n",
       "    <tr>\n",
       "      <th>83577</th>\n",
       "      <td>methods for learning with partial feedback.</td>\n",
       "      <td>methods for learning with partial feedback.</td>\n",
       "      <td>0.993942</td>\n",
       "      <td>1.0</td>\n",
       "      <td>0.0</td>\n",
       "      <td>-5.847205</td>\n",
       "    </tr>\n",
       "    <tr>\n",
       "      <th>13405</th>\n",
       "      <td>the symmetric boolean functions can be efficiently implemented.</td>\n",
       "      <td>the symmetric boolean functions can be efficiently implemented.</td>\n",
       "      <td>0.994447</td>\n",
       "      <td>1.0</td>\n",
       "      <td>0.0</td>\n",
       "      <td>-5.847205</td>\n",
       "    </tr>\n",
       "    <tr>\n",
       "      <th>9812</th>\n",
       "      <td>the main limitation of this approach is that the present method does not work well for classes where the rcnn results are weak.</td>\n",
       "      <td>the main limitation of this approach is that the present method does not work well for classes where the rcnn results are weak.</td>\n",
       "      <td>0.990076</td>\n",
       "      <td>1.0</td>\n",
       "      <td>0.0</td>\n",
       "      <td>-5.847205</td>\n",
       "    </tr>\n",
       "    <tr>\n",
       "      <th>91687</th>\n",
       "      <td>the results are more diverse (cf.</td>\n",
       "      <td>the results are more diverse (cf.</td>\n",
       "      <td>0.996749</td>\n",
       "      <td>1.0</td>\n",
       "      <td>0.0</td>\n",
       "      <td>-5.847205</td>\n",
       "    </tr>\n",
       "    <tr>\n",
       "      <th>51722</th>\n",
       "      <td>e-band offers a cost-effective and flexible alternative to fiber for future backhaul.</td>\n",
       "      <td>e-band offers a cost-effective and flexible alternative to fiber for future backhaul.</td>\n",
       "      <td>0.989993</td>\n",
       "      <td>1.0</td>\n",
       "      <td>0.0</td>\n",
       "      <td>-5.847205</td>\n",
       "    </tr>\n",
       "    <tr>\n",
       "      <th>79997</th>\n",
       "      <td>these two steps are repeated until convergence.</td>\n",
       "      <td>these two steps are repeated until convergence.</td>\n",
       "      <td>0.995981</td>\n",
       "      <td>1.0</td>\n",
       "      <td>0.0</td>\n",
       "      <td>-5.847205</td>\n",
       "    </tr>\n",
       "    <tr>\n",
       "      <th>61311</th>\n",
       "      <td>however, this is rare in practice.</td>\n",
       "      <td>however, this is rare in practice.</td>\n",
       "      <td>0.997003</td>\n",
       "      <td>1.0</td>\n",
       "      <td>0.0</td>\n",
       "      <td>-5.847205</td>\n",
       "    </tr>\n",
       "    <tr>\n",
       "      <th>91702</th>\n",
       "      <td>this confirms our findings from the previous section</td>\n",
       "      <td>this confirms our findings from the previous section.</td>\n",
       "      <td>0.975909</td>\n",
       "      <td>1.0</td>\n",
       "      <td>0.0</td>\n",
       "      <td>-5.847205</td>\n",
       "    </tr>\n",
       "    <tr>\n",
       "      <th>51771</th>\n",
       "      <td>unfortunately, this problem is often overlooked.</td>\n",
       "      <td>unfortunately, this problem is often overlooked.</td>\n",
       "      <td>0.990999</td>\n",
       "      <td>1.0</td>\n",
       "      <td>0.0</td>\n",
       "      <td>-5.847205</td>\n",
       "    </tr>\n",
       "    <tr>\n",
       "      <th>65733</th>\n",
       "      <td>we show the probability density function (pdf).</td>\n",
       "      <td>we show the probability density function (pdf).</td>\n",
       "      <td>0.993284</td>\n",
       "      <td>1.0</td>\n",
       "      <td>0.0</td>\n",
       "      <td>-5.847205</td>\n",
       "    </tr>\n",
       "    <tr>\n",
       "      <th>80008</th>\n",
       "      <td>a) (left) mesh contours in red, (right) video contours in white.</td>\n",
       "      <td>a) (left) mesh contours in red, (right) video contours in white.</td>\n",
       "      <td>0.998720</td>\n",
       "      <td>1.0</td>\n",
       "      <td>0.0</td>\n",
       "      <td>-5.847205</td>\n",
       "    </tr>\n",
       "    <tr>\n",
       "      <th>36662</th>\n",
       "      <td>this is recorded in the following.</td>\n",
       "      <td>this is recorded in the following.</td>\n",
       "      <td>0.993909</td>\n",
       "      <td>1.0</td>\n",
       "      <td>0.0</td>\n",
       "      <td>-5.847205</td>\n",
       "    </tr>\n",
       "    <tr>\n",
       "      <th>55510</th>\n",
       "      <td>the duplicator has a winning strategy.</td>\n",
       "      <td>the duplicator has a winning strategy.</td>\n",
       "      <td>0.999433</td>\n",
       "      <td>1.0</td>\n",
       "      <td>0.0</td>\n",
       "      <td>-5.847205</td>\n",
       "    </tr>\n",
       "    <tr>\n",
       "      <th>101997</th>\n",
       "      <td>the output is what the machine has written on the tape.</td>\n",
       "      <td>the output is what the machine has written on the tape.</td>\n",
       "      <td>0.995878</td>\n",
       "      <td>1.0</td>\n",
       "      <td>0.0</td>\n",
       "      <td>-5.847205</td>\n",
       "    </tr>\n",
       "    <tr>\n",
       "      <th>98208</th>\n",
       "      <td>the archiving strategy does not seem to affect its convergence.</td>\n",
       "      <td>the archiving strategy does not seem to affect its convergence.</td>\n",
       "      <td>0.992855</td>\n",
       "      <td>1.0</td>\n",
       "      <td>0.0</td>\n",
       "      <td>-5.847205</td>\n",
       "    </tr>\n",
       "    <tr>\n",
       "      <th>102003</th>\n",
       "      <td>in other cases, we can detect them at runtime, by setting appropriate filters.</td>\n",
       "      <td>in other cases, we can detect them at runtime, by setting appropriate filters.</td>\n",
       "      <td>0.994652</td>\n",
       "      <td>1.0</td>\n",
       "      <td>0.0</td>\n",
       "      <td>-5.847205</td>\n",
       "    </tr>\n",
       "    <tr>\n",
       "      <th>55467</th>\n",
       "      <td>the structures are assumed to be infinite.</td>\n",
       "      <td>the structures are assumed to be infinite.</td>\n",
       "      <td>0.994315</td>\n",
       "      <td>1.0</td>\n",
       "      <td>0.0</td>\n",
       "      <td>-5.847205</td>\n",
       "    </tr>\n",
       "    <tr>\n",
       "      <th>63636</th>\n",
       "      <td>the automatic method is quite inaccurate.</td>\n",
       "      <td>the automatic method is quite inaccurate.</td>\n",
       "      <td>0.992353</td>\n",
       "      <td>1.0</td>\n",
       "      <td>0.0</td>\n",
       "      <td>-5.847205</td>\n",
       "    </tr>\n",
       "    <tr>\n",
       "      <th>100413</th>\n",
       "      <td>we have the following three cases.</td>\n",
       "      <td>we have the following three cases.</td>\n",
       "      <td>0.997284</td>\n",
       "      <td>1.0</td>\n",
       "      <td>0.0</td>\n",
       "      <td>-5.847205</td>\n",
       "    </tr>\n",
       "    <tr>\n",
       "      <th>47309</th>\n",
       "      <td>the presentation is generally clear and well organized.</td>\n",
       "      <td>the presentation is generally clear and well organized.</td>\n",
       "      <td>0.992910</td>\n",
       "      <td>1.0</td>\n",
       "      <td>0.0</td>\n",
       "      <td>-5.847205</td>\n",
       "    </tr>\n",
       "    <tr>\n",
       "      <th>101950</th>\n",
       "      <td>however, the relationship between semantic similarity and semantic shift is still poorly understood.</td>\n",
       "      <td>however, the relationship between semantic similarity and semantic shift is still poorly understood.</td>\n",
       "      <td>0.988501</td>\n",
       "      <td>1.0</td>\n",
       "      <td>0.0</td>\n",
       "      <td>-5.847205</td>\n",
       "    </tr>\n",
       "    <tr>\n",
       "      <th>89345</th>\n",
       "      <td>furthermore, the dashed contexts are rwr: entrycontexts and the dotted contexts are rwr: exitcontexts.</td>\n",
       "      <td>furthermore, the dashed contexts are rwr: EntryContexts and the dotted contexts are rwr: ExitContexts.</td>\n",
       "      <td>0.993628</td>\n",
       "      <td>1.0</td>\n",
       "      <td>0.0</td>\n",
       "      <td>-5.847205</td>\n",
       "    </tr>\n",
       "    <tr>\n",
       "      <th>89465</th>\n",
       "      <td>the ratio index has many other interesting properties.</td>\n",
       "      <td>the ratio index has many other interesting properties.</td>\n",
       "      <td>0.996241</td>\n",
       "      <td>1.0</td>\n",
       "      <td>0.0</td>\n",
       "      <td>-5.847205</td>\n",
       "    </tr>\n",
       "    <tr>\n",
       "      <th>83603</th>\n",
       "      <td>instead of learning a single regressor, we can learn a separate regressor for each choice.</td>\n",
       "      <td>instead of learning a single regressor, we can learn a separate regressor for each choice.</td>\n",
       "      <td>0.994389</td>\n",
       "      <td>1.0</td>\n",
       "      <td>0.0</td>\n",
       "      <td>-5.847205</td>\n",
       "    </tr>\n",
       "    <tr>\n",
       "      <th>30951</th>\n",
       "      <td>linear or polynomial regression is used.</td>\n",
       "      <td>linear or polynomial regression is used.</td>\n",
       "      <td>0.996162</td>\n",
       "      <td>1.0</td>\n",
       "      <td>0.0</td>\n",
       "      <td>-5.847205</td>\n",
       "    </tr>\n",
       "    <tr>\n",
       "      <th>63401</th>\n",
       "      <td>the focus was only on the complexity of the decoder but not on the analysis of the tightness of the sub.</td>\n",
       "      <td>the focus was only on the complexity of the decoder, but not on the analysis of the tightness of the sub.</td>\n",
       "      <td>0.986977</td>\n",
       "      <td>1.0</td>\n",
       "      <td>0.0</td>\n",
       "      <td>-5.847205</td>\n",
       "    </tr>\n",
       "    <tr>\n",
       "      <th>83838</th>\n",
       "      <td>the system was tested with video streaming and video conferencing applications.</td>\n",
       "      <td>the system was tested with video streaming and video conferencing applications.</td>\n",
       "      <td>0.992888</td>\n",
       "      <td>1.0</td>\n",
       "      <td>0.0</td>\n",
       "      <td>-5.847205</td>\n",
       "    </tr>\n",
       "    <tr>\n",
       "      <th>100607</th>\n",
       "      <td>the conjecture is that neither exists.</td>\n",
       "      <td>the conjecture is that neither exists.</td>\n",
       "      <td>0.981239</td>\n",
       "      <td>1.0</td>\n",
       "      <td>0.0</td>\n",
       "      <td>-5.847205</td>\n",
       "    </tr>\n",
       "    <tr>\n",
       "      <th>61567</th>\n",
       "      <td>we thank jean-paul allouche for his helpful comments.</td>\n",
       "      <td>we thank Jean-Paul Allouche for his helpful comments.</td>\n",
       "      <td>0.990346</td>\n",
       "      <td>1.0</td>\n",
       "      <td>0.0</td>\n",
       "      <td>-5.847205</td>\n",
       "    </tr>\n",
       "    <tr>\n",
       "      <th>31022</th>\n",
       "      <td>vadim lyubashevsky, chris peikert, and oded regev.</td>\n",
       "      <td>Vadim Lyubashevsky, Chris Peikert, and Oded Regev.</td>\n",
       "      <td>0.998037</td>\n",
       "      <td>1.0</td>\n",
       "      <td>0.0</td>\n",
       "      <td>-5.847205</td>\n",
       "    </tr>\n",
       "    <tr>\n",
       "      <th>51468</th>\n",
       "      <td>however, we recommend a mixed procedure.</td>\n",
       "      <td>however, we recommend a mixed procedure.</td>\n",
       "      <td>0.999363</td>\n",
       "      <td>1.0</td>\n",
       "      <td>0.0</td>\n",
       "      <td>-5.847205</td>\n",
       "    </tr>\n",
       "    <tr>\n",
       "      <th>27777</th>\n",
       "      <td>the signal handler is limited to atomic changes.</td>\n",
       "      <td>the signal handler is limited to atomic changes.</td>\n",
       "      <td>0.995542</td>\n",
       "      <td>1.0</td>\n",
       "      <td>0.0</td>\n",
       "      <td>-5.847205</td>\n",
       "    </tr>\n",
       "    <tr>\n",
       "      <th>9992</th>\n",
       "      <td>for example, the adjacency matrix of the graph shown in fig.</td>\n",
       "      <td>for example, the adjacency matrix of the graph shown in fig.</td>\n",
       "      <td>0.991934</td>\n",
       "      <td>1.0</td>\n",
       "      <td>0.0</td>\n",
       "      <td>-5.847205</td>\n",
       "    </tr>\n",
       "    <tr>\n",
       "      <th>36875</th>\n",
       "      <td>note that the residual form is not unique.</td>\n",
       "      <td>note that the residual form is not unique.</td>\n",
       "      <td>0.993987</td>\n",
       "      <td>1.0</td>\n",
       "      <td>0.0</td>\n",
       "      <td>-5.847205</td>\n",
       "    </tr>\n",
       "    <tr>\n",
       "      <th>91516</th>\n",
       "      <td>other than one case, (ii)-wedges are the best choice.</td>\n",
       "      <td>other than one case, (ii) - wedges are the best choice.</td>\n",
       "      <td>0.983357</td>\n",
       "      <td>1.0</td>\n",
       "      <td>0.0</td>\n",
       "      <td>-5.847205</td>\n",
       "    </tr>\n",
       "  </tbody>\n",
       "</table>\n",
       "</div>"
      ],
      "text/plain": [
       "                                                                                                                               original  ... F1_Zscore\n",
       "36420   both of these alternatives are reasonable.                                                                                       ... -5.847205\n",
       "98120   therefore, the following theorem can be stated.                                                                                  ... -5.847205\n",
       "91624   we show the recovered frame corresponding to the object moving at the fastest speed.                                             ... -5.847205\n",
       "83587   this proves the first part of the theorem.                                                                                       ... -5.847205\n",
       "55578   the measurement matrix was assumed to be gaussian.                                                                               ... -5.847205\n",
       "83577   methods for learning with partial feedback.                                                                                      ... -5.847205\n",
       "13405   the symmetric boolean functions can be efficiently implemented.                                                                  ... -5.847205\n",
       "9812    the main limitation of this approach is that the present method does not work well for classes where the rcnn results are weak.  ... -5.847205\n",
       "91687   the results are more diverse (cf.                                                                                                ... -5.847205\n",
       "51722   e-band offers a cost-effective and flexible alternative to fiber for future backhaul.                                            ... -5.847205\n",
       "79997   these two steps are repeated until convergence.                                                                                  ... -5.847205\n",
       "61311   however, this is rare in practice.                                                                                               ... -5.847205\n",
       "91702   this confirms our findings from the previous section                                                                             ... -5.847205\n",
       "51771   unfortunately, this problem is often overlooked.                                                                                 ... -5.847205\n",
       "65733   we show the probability density function (pdf).                                                                                  ... -5.847205\n",
       "80008   a) (left) mesh contours in red, (right) video contours in white.                                                                 ... -5.847205\n",
       "36662   this is recorded in the following.                                                                                               ... -5.847205\n",
       "55510   the duplicator has a winning strategy.                                                                                           ... -5.847205\n",
       "101997  the output is what the machine has written on the tape.                                                                          ... -5.847205\n",
       "98208   the archiving strategy does not seem to affect its convergence.                                                                  ... -5.847205\n",
       "102003  in other cases, we can detect them at runtime, by setting appropriate filters.                                                   ... -5.847205\n",
       "55467   the structures are assumed to be infinite.                                                                                       ... -5.847205\n",
       "63636   the automatic method is quite inaccurate.                                                                                        ... -5.847205\n",
       "100413  we have the following three cases.                                                                                               ... -5.847205\n",
       "47309   the presentation is generally clear and well organized.                                                                          ... -5.847205\n",
       "101950  however, the relationship between semantic similarity and semantic shift is still poorly understood.                             ... -5.847205\n",
       "89345   furthermore, the dashed contexts are rwr: entrycontexts and the dotted contexts are rwr: exitcontexts.                           ... -5.847205\n",
       "89465   the ratio index has many other interesting properties.                                                                           ... -5.847205\n",
       "83603   instead of learning a single regressor, we can learn a separate regressor for each choice.                                       ... -5.847205\n",
       "30951   linear or polynomial regression is used.                                                                                         ... -5.847205\n",
       "63401   the focus was only on the complexity of the decoder but not on the analysis of the tightness of the sub.                         ... -5.847205\n",
       "83838   the system was tested with video streaming and video conferencing applications.                                                  ... -5.847205\n",
       "100607  the conjecture is that neither exists.                                                                                           ... -5.847205\n",
       "61567   we thank jean-paul allouche for his helpful comments.                                                                            ... -5.847205\n",
       "31022   vadim lyubashevsky, chris peikert, and oded regev.                                                                               ... -5.847205\n",
       "51468   however, we recommend a mixed procedure.                                                                                         ... -5.847205\n",
       "27777   the signal handler is limited to atomic changes.                                                                                 ... -5.847205\n",
       "9992    for example, the adjacency matrix of the graph shown in fig.                                                                     ... -5.847205\n",
       "36875   note that the residual form is not unique.                                                                                       ... -5.847205\n",
       "91516   other than one case, (ii)-wedges are the best choice.                                                                            ... -5.847205\n",
       "\n",
       "[40 rows x 6 columns]"
      ]
     },
     "execution_count": 72,
     "metadata": {
      "tags": []
     },
     "output_type": "execute_result"
    }
   ],
   "source": [
    "data_gpt2_scored.sort_values(by='BLEU', ascending=False).head(40)"
   ]
  },
  {
   "cell_type": "code",
   "execution_count": null,
   "metadata": {
    "colab": {
     "base_uri": "https://localhost:8080/",
     "height": 283
    },
    "id": "9gq__sMK4NBI",
    "outputId": "f6f48304-71c2-40bf-b048-b2760af83d0a"
   },
   "outputs": [
    {
     "data": {
      "text/html": [
       "<div>\n",
       "<style scoped>\n",
       "    .dataframe tbody tr th:only-of-type {\n",
       "        vertical-align: middle;\n",
       "    }\n",
       "\n",
       "    .dataframe tbody tr th {\n",
       "        vertical-align: top;\n",
       "    }\n",
       "\n",
       "    .dataframe thead th {\n",
       "        text-align: right;\n",
       "    }\n",
       "</style>\n",
       "<table border=\"1\" class=\"dataframe\">\n",
       "  <thead>\n",
       "    <tr style=\"text-align: right;\">\n",
       "      <th></th>\n",
       "      <th>original</th>\n",
       "      <th>paraphrase</th>\n",
       "      <th>MoverScore</th>\n",
       "      <th>BLEU</th>\n",
       "      <th>F1</th>\n",
       "      <th>F1_Zscore</th>\n",
       "    </tr>\n",
       "  </thead>\n",
       "  <tbody>\n",
       "    <tr>\n",
       "      <th>0</th>\n",
       "      <td>in the last years wireless communication systems coped with the problem of delivering reliable information while granting high throughput.</td>\n",
       "      <td>in recent years, the problem of reliable information delivery has been addressed by wireless systems that have been able to handle high-speed data</td>\n",
       "      <td>0.544882</td>\n",
       "      <td>0.152452</td>\n",
       "      <td>0.663321</td>\n",
       "      <td>0.449819</td>\n",
       "    </tr>\n",
       "    <tr>\n",
       "      <th>1</th>\n",
       "      <td>several works addressed the parallelization of turbo decoder architectures to achieve higher throughput.</td>\n",
       "      <td>several projects have been developed to parallelize the architecture of the turbo decoder.</td>\n",
       "      <td>0.483294</td>\n",
       "      <td>0.210614</td>\n",
       "      <td>0.599531</td>\n",
       "      <td>-0.155749</td>\n",
       "    </tr>\n",
       "    <tr>\n",
       "      <th>2</th>\n",
       "      <td>thus, together with flexible and high throughput processing elements, a multi-asip architecture must feature also a flexible and high throughput interconnection backbone.</td>\n",
       "      <td>a multi-asip architecture must also include a flexible and high-speed connection backbone, which is also a multi-asip architecture.</td>\n",
       "      <td>0.589108</td>\n",
       "      <td>0.281490</td>\n",
       "      <td>0.647406</td>\n",
       "      <td>0.298741</td>\n",
       "    </tr>\n",
       "    <tr>\n",
       "      <th>3</th>\n",
       "      <td>in this work a general framework to design network on chip based turbo decoder architectures has been presented.</td>\n",
       "      <td>a general framework for the design of a network on chip based on a turbo decoder has been presented in this work.</td>\n",
       "      <td>0.755267</td>\n",
       "      <td>0.259816</td>\n",
       "      <td>0.747649</td>\n",
       "      <td>1.250368</td>\n",
       "    </tr>\n",
       "    <tr>\n",
       "      <th>4</th>\n",
       "      <td>the proposed framework can be adapted to explore different topologies, degrees of parallelism, message injection rates and routing algorithms.</td>\n",
       "      <td>the framework can be adapted to examine different topologies, degrees of parallelism, message injection rates and routing algorithms.</td>\n",
       "      <td>0.926009</td>\n",
       "      <td>0.747014</td>\n",
       "      <td>0.397401</td>\n",
       "      <td>-2.074601</td>\n",
       "    </tr>\n",
       "  </tbody>\n",
       "</table>\n",
       "</div>"
      ],
      "text/plain": [
       "                                                                                                                                                                     original  ... F1_Zscore\n",
       "0  in the last years wireless communication systems coped with the problem of delivering reliable information while granting high throughput.                                  ...  0.449819\n",
       "1  several works addressed the parallelization of turbo decoder architectures to achieve higher throughput.                                                                    ... -0.155749\n",
       "2  thus, together with flexible and high throughput processing elements, a multi-asip architecture must feature also a flexible and high throughput interconnection backbone.  ...  0.298741\n",
       "3  in this work a general framework to design network on chip based turbo decoder architectures has been presented.                                                            ...  1.250368\n",
       "4  the proposed framework can be adapted to explore different topologies, degrees of parallelism, message injection rates and routing algorithms.                              ... -2.074601\n",
       "\n",
       "[5 rows x 6 columns]"
      ]
     },
     "execution_count": 75,
     "metadata": {
      "tags": []
     },
     "output_type": "execute_result"
    }
   ],
   "source": [
    "data_gpt2_scored = data_gpt2_scored.sort_index(ascending=True)\n",
    "data_gpt2_scored.head()"
   ]
  },
  {
   "cell_type": "code",
   "execution_count": null,
   "metadata": {
    "colab": {
     "base_uri": "https://localhost:8080/",
     "height": 316
    },
    "id": "tByj6WVvT1E4",
    "outputId": "f92b6e2c-7be2-4064-aa62-f99aaa9a802c"
   },
   "outputs": [
    {
     "data": {
      "text/html": [
       "<div>\n",
       "<style scoped>\n",
       "    .dataframe tbody tr th:only-of-type {\n",
       "        vertical-align: middle;\n",
       "    }\n",
       "\n",
       "    .dataframe tbody tr th {\n",
       "        vertical-align: top;\n",
       "    }\n",
       "\n",
       "    .dataframe thead th {\n",
       "        text-align: right;\n",
       "    }\n",
       "</style>\n",
       "<table border=\"1\" class=\"dataframe\">\n",
       "  <thead>\n",
       "    <tr style=\"text-align: right;\">\n",
       "      <th></th>\n",
       "      <th>Unnamed: 0</th>\n",
       "      <th>original</th>\n",
       "      <th>paraphrase</th>\n",
       "      <th>MoverScore</th>\n",
       "      <th>BLEU</th>\n",
       "      <th>label</th>\n",
       "      <th>F1</th>\n",
       "      <th>F1_Zscore</th>\n",
       "    </tr>\n",
       "  </thead>\n",
       "  <tbody>\n",
       "    <tr>\n",
       "      <th>0</th>\n",
       "      <td>0</td>\n",
       "      <td>in the last years wireless communication systems coped with the problem of delivering reliable information while granting high throughput.</td>\n",
       "      <td>wireless communication systems have dealt with the problems of providing reliable information at high speeds in recent years.</td>\n",
       "      <td>0.656146</td>\n",
       "      <td>0.197498</td>\n",
       "      <td>1</td>\n",
       "      <td>0.721981</td>\n",
       "      <td>0.940052</td>\n",
       "    </tr>\n",
       "    <tr>\n",
       "      <th>1</th>\n",
       "      <td>1</td>\n",
       "      <td>several works addressed the parallelization of turbo decoder architectures to achieve higher throughput.</td>\n",
       "      <td>to increase the speed, several projects have investigated the parallelisation of turbo decoder architectures.</td>\n",
       "      <td>0.648949</td>\n",
       "      <td>0.204480</td>\n",
       "      <td>1</td>\n",
       "      <td>0.714798</td>\n",
       "      <td>0.836903</td>\n",
       "    </tr>\n",
       "    <tr>\n",
       "      <th>2</th>\n",
       "      <td>2</td>\n",
       "      <td>thus, together with flexible and high throughput processing elements, a multi-asip architecture must feature also a flexible and high throughput interconnection backbone.</td>\n",
       "      <td>it must thus provide a flexible and high-speed interconnection basis in addition to the flexible and high-speed processing components.</td>\n",
       "      <td>0.630068</td>\n",
       "      <td>0.167375</td>\n",
       "      <td>1</td>\n",
       "      <td>0.717321</td>\n",
       "      <td>0.873130</td>\n",
       "    </tr>\n",
       "    <tr>\n",
       "      <th>3</th>\n",
       "      <td>3</td>\n",
       "      <td>in this work a general framework to design network on chip based turbo decoder architectures has been presented.</td>\n",
       "      <td>the work was presented in general framework for the design of turbo decoder networks.</td>\n",
       "      <td>0.575493</td>\n",
       "      <td>0.195831</td>\n",
       "      <td>1</td>\n",
       "      <td>0.670880</td>\n",
       "      <td>0.206213</td>\n",
       "    </tr>\n",
       "    <tr>\n",
       "      <th>4</th>\n",
       "      <td>4</td>\n",
       "      <td>the proposed framework can be adapted to explore different topologies, degrees of parallelism, message injection rates and routing algorithms.</td>\n",
       "      <td>the different topologies and degrees of parallelism, the rate of insertion and rewriting algorithms can be studied with the help of this model.</td>\n",
       "      <td>0.539129</td>\n",
       "      <td>0.169184</td>\n",
       "      <td>1</td>\n",
       "      <td>0.653919</td>\n",
       "      <td>-0.037344</td>\n",
       "    </tr>\n",
       "  </tbody>\n",
       "</table>\n",
       "</div>"
      ],
      "text/plain": [
       "   Unnamed: 0  ... F1_Zscore\n",
       "0  0           ...  0.940052\n",
       "1  1           ...  0.836903\n",
       "2  2           ...  0.873130\n",
       "3  3           ...  0.206213\n",
       "4  4           ... -0.037344\n",
       "\n",
       "[5 rows x 8 columns]"
      ]
     },
     "execution_count": 76,
     "metadata": {
      "tags": []
     },
     "output_type": "execute_result"
    }
   ],
   "source": [
    "data_T5_scored = data_T5_scored.sort_index(ascending=True)\n",
    "data_T5_scored.head()"
   ]
  },
  {
   "cell_type": "markdown",
   "metadata": {
    "id": "OkqiZdQ3dfXZ"
   },
   "source": [
    "## Creating Z-scores and producing final data for M2 to be trained on"
   ]
  },
  {
   "cell_type": "code",
   "execution_count": null,
   "metadata": {
    "id": "4UwpKEAEd0fi"
   },
   "outputs": [],
   "source": [
    "data_final = data_T5_scored \n",
    "\n",
    "data_final['F1_Zscore']= z_score(data_final['F1'])\n",
    "data_final = data_final[np.abs(data_final['F1_Zscore'])<1]\n",
    "\n",
    "# SAVE DATA"
   ]
  },
  {
   "cell_type": "code",
   "execution_count": null,
   "metadata": {
    "id": "Mq94D6pce2SZ"
   },
   "outputs": [],
   "source": [
    "data_final.head(20)"
   ]
  },
  {
   "cell_type": "code",
   "execution_count": null,
   "metadata": {
    "id": "enMWIbyre561"
   },
   "outputs": [],
   "source": [
    "data_final.tail(20)"
   ]
  },
  {
   "cell_type": "code",
   "execution_count": null,
   "metadata": {
    "id": "m4yNZYKQfufp"
   },
   "outputs": [],
   "source": []
  }
 ],
 "metadata": {
  "accelerator": "GPU",
  "colab": {
   "collapsed_sections": [],
   "name": "M1_Evaluation_phase3.ipynb",
   "provenance": [],
   "toc_visible": true
  },
  "kernelspec": {
   "display_name": "Python 3",
   "language": "python",
   "name": "python3"
  },
  "language_info": {
   "codemirror_mode": {
    "name": "ipython",
    "version": 3
   },
   "file_extension": ".py",
   "mimetype": "text/x-python",
   "name": "python",
   "nbconvert_exporter": "python",
   "pygments_lexer": "ipython3",
   "version": "3.7.5"
  },
  "toc": {
   "base_numbering": 1,
   "nav_menu": {},
   "number_sections": true,
   "sideBar": true,
   "skip_h1_title": false,
   "title_cell": "Table of Contents",
   "title_sidebar": "Contents",
   "toc_cell": false,
   "toc_position": {},
   "toc_section_display": true,
   "toc_window_display": false
  }
 },
 "nbformat": 4,
 "nbformat_minor": 1
}
