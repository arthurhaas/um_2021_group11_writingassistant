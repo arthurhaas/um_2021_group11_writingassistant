{
 "cells": [
  {
   "cell_type": "markdown",
   "metadata": {
    "id": "rPCCWgJSfY42"
   },
   "source": [
    "# Moverscore\n",
    "\n",
    "Moverscore is a metric to evaluate semantic similarity between sentences. It was proposed in (Zhao et al. 2019, https://arxiv.org/pdf/1909.02622.pdf)and is closely related to BERTScore (https://arxiv.org/pdf/1904.09675.pdf). The implemenation can be found in https://github.com/AIPHES/emnlp19-moverscore/. \n",
    "\n",
    "**PLEASE INSTALL MOVERSCORE AS BELOW USING**\n",
    "- https://drive.google.com/drive/folders/1SMHlJ338BHoJnkRiY-419EjLdFTHV91O?usp=sharing\n",
    "\n",
    "Alternatively, please refer to https://github.com/AIPHES/emnlp19-moverscore"
   ]
  },
  {
   "cell_type": "markdown",
   "metadata": {
    "id": "3qfFHE5QfctJ"
   },
   "source": [
    "## Mount Drive and install packages"
   ]
  },
  {
   "cell_type": "code",
   "execution_count": null,
   "metadata": {
    "colab": {
     "base_uri": "https://localhost:8080/"
    },
    "id": "HUcgjuB-NhKo",
    "outputId": "a684a473-a430-4fd2-aab9-1519d684e4db"
   },
   "outputs": [
    {
     "name": "stdout",
     "output_type": "stream",
     "text": [
      "Mounted at /content/gdrive/\n"
     ]
    }
   ],
   "source": [
    "from google.colab import drive\n",
    "drive.mount('/content/gdrive/')"
   ]
  },
  {
   "cell_type": "code",
   "execution_count": null,
   "metadata": {
    "id": "hJ4mgxKPOT6-"
   },
   "outputs": [],
   "source": [
    "base_path_moversocre = '/content/gdrive/MyDrive/NLP_EvaluationMetrics/MoverScore/'"
   ]
  },
  {
   "cell_type": "code",
   "execution_count": null,
   "metadata": {
    "colab": {
     "base_uri": "https://localhost:8080/"
    },
    "id": "MZhfdg-iTJin",
    "outputId": "e6475e0f-4072-4f8e-ee57-45c64c626d27"
   },
   "outputs": [
    {
     "name": "stdout",
     "output_type": "stream",
     "text": [
      "Requirement already satisfied: torch>=1.0.0 in /usr/local/lib/python3.7/dist-packages (from -r /content/gdrive/MyDrive/NLP_EvaluationMetrics/MoverScore/requirements.txt (line 1)) (1.9.0+cu102)\n",
      "Requirement already satisfied: pyemd==0.5.1 in /usr/local/lib/python3.7/dist-packages (from -r /content/gdrive/MyDrive/NLP_EvaluationMetrics/MoverScore/requirements.txt (line 2)) (0.5.1)\n",
      "Collecting pytorch-transformers>=1.1.0\n",
      "\u001b[?25l  Downloading https://files.pythonhosted.org/packages/a3/b7/d3d18008a67e0b968d1ab93ad444fc05699403fa662f634b2f2c318a508b/pytorch_transformers-1.2.0-py3-none-any.whl (176kB)\n",
      "\r",
      "\u001b[K     |█▉                              | 10kB 18.9MB/s eta 0:00:01\r",
      "\u001b[K     |███▊                            | 20kB 16.3MB/s eta 0:00:01\r",
      "\u001b[K     |█████▋                          | 30kB 13.3MB/s eta 0:00:01\r",
      "\u001b[K     |███████▍                        | 40kB 13.0MB/s eta 0:00:01\r",
      "\u001b[K     |█████████▎                      | 51kB 7.5MB/s eta 0:00:01\r",
      "\u001b[K     |███████████▏                    | 61kB 8.6MB/s eta 0:00:01\r",
      "\u001b[K     |█████████████                   | 71kB 8.5MB/s eta 0:00:01\r",
      "\u001b[K     |██████████████▉                 | 81kB 9.3MB/s eta 0:00:01\r",
      "\u001b[K     |████████████████▊               | 92kB 8.8MB/s eta 0:00:01\r",
      "\u001b[K     |██████████████████▋             | 102kB 7.4MB/s eta 0:00:01\r",
      "\u001b[K     |████████████████████▍           | 112kB 7.4MB/s eta 0:00:01\r",
      "\u001b[K     |██████████████████████▎         | 122kB 7.4MB/s eta 0:00:01\r",
      "\u001b[K     |████████████████████████▏       | 133kB 7.4MB/s eta 0:00:01\r",
      "\u001b[K     |██████████████████████████      | 143kB 7.4MB/s eta 0:00:01\r",
      "\u001b[K     |███████████████████████████▉    | 153kB 7.4MB/s eta 0:00:01\r",
      "\u001b[K     |█████████████████████████████▊  | 163kB 7.4MB/s eta 0:00:01\r",
      "\u001b[K     |███████████████████████████████▋| 174kB 7.4MB/s eta 0:00:01\r",
      "\u001b[K     |████████████████████████████████| 184kB 7.4MB/s \n",
      "\u001b[?25hRequirement already satisfied: typing-extensions in /usr/local/lib/python3.7/dist-packages (from torch>=1.0.0->-r /content/gdrive/MyDrive/NLP_EvaluationMetrics/MoverScore/requirements.txt (line 1)) (3.7.4.3)\n",
      "Requirement already satisfied: numpy<2.0.0,>=1.9.0 in /usr/local/lib/python3.7/dist-packages (from pyemd==0.5.1->-r /content/gdrive/MyDrive/NLP_EvaluationMetrics/MoverScore/requirements.txt (line 2)) (1.19.5)\n",
      "Collecting boto3\n",
      "\u001b[?25l  Downloading https://files.pythonhosted.org/packages/39/96/5c009100d651f4646639f9777a82777430897590f5fd28bbc077cace09bf/boto3-1.17.97-py2.py3-none-any.whl (131kB)\n",
      "\u001b[K     |████████████████████████████████| 133kB 27.9MB/s \n",
      "\u001b[?25hRequirement already satisfied: regex in /usr/local/lib/python3.7/dist-packages (from pytorch-transformers>=1.1.0->-r /content/gdrive/MyDrive/NLP_EvaluationMetrics/MoverScore/requirements.txt (line 3)) (2019.12.20)\n",
      "Collecting sacremoses\n",
      "\u001b[?25l  Downloading https://files.pythonhosted.org/packages/75/ee/67241dc87f266093c533a2d4d3d69438e57d7a90abb216fa076e7d475d4a/sacremoses-0.0.45-py3-none-any.whl (895kB)\n",
      "\u001b[K     |████████████████████████████████| 901kB 35.2MB/s \n",
      "\u001b[?25hRequirement already satisfied: requests in /usr/local/lib/python3.7/dist-packages (from pytorch-transformers>=1.1.0->-r /content/gdrive/MyDrive/NLP_EvaluationMetrics/MoverScore/requirements.txt (line 3)) (2.23.0)\n",
      "Requirement already satisfied: tqdm in /usr/local/lib/python3.7/dist-packages (from pytorch-transformers>=1.1.0->-r /content/gdrive/MyDrive/NLP_EvaluationMetrics/MoverScore/requirements.txt (line 3)) (4.41.1)\n",
      "Collecting sentencepiece\n",
      "\u001b[?25l  Downloading https://files.pythonhosted.org/packages/ac/aa/1437691b0c7c83086ebb79ce2da16e00bef024f24fec2a5161c35476f499/sentencepiece-0.1.96-cp37-cp37m-manylinux_2_17_x86_64.manylinux2014_x86_64.whl (1.2MB)\n",
      "\u001b[K     |████████████████████████████████| 1.2MB 37.3MB/s \n",
      "\u001b[?25hCollecting s3transfer<0.5.0,>=0.4.0\n",
      "\u001b[?25l  Downloading https://files.pythonhosted.org/packages/63/d0/693477c688348654ddc21dcdce0817653a294aa43f41771084c25e7ff9c7/s3transfer-0.4.2-py2.py3-none-any.whl (79kB)\n",
      "\u001b[K     |████████████████████████████████| 81kB 9.3MB/s \n",
      "\u001b[?25hCollecting jmespath<1.0.0,>=0.7.1\n",
      "  Downloading https://files.pythonhosted.org/packages/07/cb/5f001272b6faeb23c1c9e0acc04d48eaaf5c862c17709d20e3469c6e0139/jmespath-0.10.0-py2.py3-none-any.whl\n",
      "Collecting botocore<1.21.0,>=1.20.97\n",
      "\u001b[?25l  Downloading https://files.pythonhosted.org/packages/94/a2/bd7cd40c61a71c3daede70158b5c0aca918057f63cfbef015c56cccdb6b2/botocore-1.20.97-py2.py3-none-any.whl (7.6MB)\n",
      "\u001b[K     |████████████████████████████████| 7.6MB 34.2MB/s \n",
      "\u001b[?25hRequirement already satisfied: six in /usr/local/lib/python3.7/dist-packages (from sacremoses->pytorch-transformers>=1.1.0->-r /content/gdrive/MyDrive/NLP_EvaluationMetrics/MoverScore/requirements.txt (line 3)) (1.15.0)\n",
      "Requirement already satisfied: click in /usr/local/lib/python3.7/dist-packages (from sacremoses->pytorch-transformers>=1.1.0->-r /content/gdrive/MyDrive/NLP_EvaluationMetrics/MoverScore/requirements.txt (line 3)) (7.1.2)\n",
      "Requirement already satisfied: joblib in /usr/local/lib/python3.7/dist-packages (from sacremoses->pytorch-transformers>=1.1.0->-r /content/gdrive/MyDrive/NLP_EvaluationMetrics/MoverScore/requirements.txt (line 3)) (1.0.1)\n",
      "Requirement already satisfied: certifi>=2017.4.17 in /usr/local/lib/python3.7/dist-packages (from requests->pytorch-transformers>=1.1.0->-r /content/gdrive/MyDrive/NLP_EvaluationMetrics/MoverScore/requirements.txt (line 3)) (2021.5.30)\n",
      "Requirement already satisfied: urllib3!=1.25.0,!=1.25.1,<1.26,>=1.21.1 in /usr/local/lib/python3.7/dist-packages (from requests->pytorch-transformers>=1.1.0->-r /content/gdrive/MyDrive/NLP_EvaluationMetrics/MoverScore/requirements.txt (line 3)) (1.24.3)\n",
      "Requirement already satisfied: idna<3,>=2.5 in /usr/local/lib/python3.7/dist-packages (from requests->pytorch-transformers>=1.1.0->-r /content/gdrive/MyDrive/NLP_EvaluationMetrics/MoverScore/requirements.txt (line 3)) (2.10)\n",
      "Requirement already satisfied: chardet<4,>=3.0.2 in /usr/local/lib/python3.7/dist-packages (from requests->pytorch-transformers>=1.1.0->-r /content/gdrive/MyDrive/NLP_EvaluationMetrics/MoverScore/requirements.txt (line 3)) (3.0.4)\n",
      "Requirement already satisfied: python-dateutil<3.0.0,>=2.1 in /usr/local/lib/python3.7/dist-packages (from botocore<1.21.0,>=1.20.97->boto3->pytorch-transformers>=1.1.0->-r /content/gdrive/MyDrive/NLP_EvaluationMetrics/MoverScore/requirements.txt (line 3)) (2.8.1)\n",
      "\u001b[31mERROR: botocore 1.20.97 has requirement urllib3<1.27,>=1.25.4, but you'll have urllib3 1.24.3 which is incompatible.\u001b[0m\n",
      "Installing collected packages: jmespath, botocore, s3transfer, boto3, sacremoses, sentencepiece, pytorch-transformers\n",
      "Successfully installed boto3-1.17.97 botocore-1.20.97 jmespath-0.10.0 pytorch-transformers-1.2.0 s3transfer-0.4.2 sacremoses-0.0.45 sentencepiece-0.1.96\n"
     ]
    }
   ],
   "source": [
    "! pip3 install -r /content/gdrive/MyDrive/NLP_EvaluationMetrics/MoverScore/requirements.txt "
   ]
  },
  {
   "cell_type": "code",
   "execution_count": null,
   "metadata": {
    "colab": {
     "base_uri": "https://localhost:8080/"
    },
    "id": "7xaMz0sUTt4l",
    "outputId": "926ecf9e-f0af-4d64-83fb-c2ef88cc7cfe"
   },
   "outputs": [
    {
     "name": "stdout",
     "output_type": "stream",
     "text": [
      "Collecting transformers\n",
      "\u001b[?25l  Downloading https://files.pythonhosted.org/packages/00/92/6153f4912b84ee1ab53ab45663d23e7cf3704161cb5ef18b0c07e207cef2/transformers-4.7.0-py3-none-any.whl (2.5MB)\n",
      "\u001b[K     |████████████████████████████████| 2.5MB 8.3MB/s \n",
      "\u001b[?25hRequirement already satisfied: regex!=2019.12.17 in /usr/local/lib/python3.7/dist-packages (from transformers) (2019.12.20)\n",
      "Requirement already satisfied: tqdm>=4.27 in /usr/local/lib/python3.7/dist-packages (from transformers) (4.41.1)\n",
      "Collecting huggingface-hub==0.0.8\n",
      "  Downloading https://files.pythonhosted.org/packages/a1/88/7b1e45720ecf59c6c6737ff332f41c955963090a18e72acbcbeac6b25e86/huggingface_hub-0.0.8-py3-none-any.whl\n",
      "Collecting tokenizers<0.11,>=0.10.1\n",
      "\u001b[?25l  Downloading https://files.pythonhosted.org/packages/d4/e2/df3543e8ffdab68f5acc73f613de9c2b155ac47f162e725dcac87c521c11/tokenizers-0.10.3-cp37-cp37m-manylinux_2_5_x86_64.manylinux1_x86_64.manylinux_2_12_x86_64.manylinux2010_x86_64.whl (3.3MB)\n",
      "\u001b[K     |████████████████████████████████| 3.3MB 34.9MB/s \n",
      "\u001b[?25hRequirement already satisfied: filelock in /usr/local/lib/python3.7/dist-packages (from transformers) (3.0.12)\n",
      "Requirement already satisfied: packaging in /usr/local/lib/python3.7/dist-packages (from transformers) (20.9)\n",
      "Requirement already satisfied: requests in /usr/local/lib/python3.7/dist-packages (from transformers) (2.23.0)\n",
      "Requirement already satisfied: sacremoses in /usr/local/lib/python3.7/dist-packages (from transformers) (0.0.45)\n",
      "Requirement already satisfied: importlib-metadata; python_version < \"3.8\" in /usr/local/lib/python3.7/dist-packages (from transformers) (4.5.0)\n",
      "Requirement already satisfied: numpy>=1.17 in /usr/local/lib/python3.7/dist-packages (from transformers) (1.19.5)\n",
      "Requirement already satisfied: pyyaml in /usr/local/lib/python3.7/dist-packages (from transformers) (3.13)\n",
      "Requirement already satisfied: pyparsing>=2.0.2 in /usr/local/lib/python3.7/dist-packages (from packaging->transformers) (2.4.7)\n",
      "Requirement already satisfied: certifi>=2017.4.17 in /usr/local/lib/python3.7/dist-packages (from requests->transformers) (2021.5.30)\n",
      "Requirement already satisfied: chardet<4,>=3.0.2 in /usr/local/lib/python3.7/dist-packages (from requests->transformers) (3.0.4)\n",
      "Requirement already satisfied: idna<3,>=2.5 in /usr/local/lib/python3.7/dist-packages (from requests->transformers) (2.10)\n",
      "Requirement already satisfied: urllib3!=1.25.0,!=1.25.1,<1.26,>=1.21.1 in /usr/local/lib/python3.7/dist-packages (from requests->transformers) (1.24.3)\n",
      "Requirement already satisfied: click in /usr/local/lib/python3.7/dist-packages (from sacremoses->transformers) (7.1.2)\n",
      "Requirement already satisfied: six in /usr/local/lib/python3.7/dist-packages (from sacremoses->transformers) (1.15.0)\n",
      "Requirement already satisfied: joblib in /usr/local/lib/python3.7/dist-packages (from sacremoses->transformers) (1.0.1)\n",
      "Requirement already satisfied: typing-extensions>=3.6.4; python_version < \"3.8\" in /usr/local/lib/python3.7/dist-packages (from importlib-metadata; python_version < \"3.8\"->transformers) (3.7.4.3)\n",
      "Requirement already satisfied: zipp>=0.5 in /usr/local/lib/python3.7/dist-packages (from importlib-metadata; python_version < \"3.8\"->transformers) (3.4.1)\n",
      "Installing collected packages: huggingface-hub, tokenizers, transformers\n",
      "Successfully installed huggingface-hub-0.0.8 tokenizers-0.10.3 transformers-4.7.0\n"
     ]
    }
   ],
   "source": [
    "! pip3 install transformers"
   ]
  },
  {
   "cell_type": "code",
   "execution_count": null,
   "metadata": {
    "colab": {
     "base_uri": "https://localhost:8080/"
    },
    "id": "d1AFQK-K5kRS",
    "outputId": "81ac87e3-9de3-4e36-bb91-80e8b2897272"
   },
   "outputs": [
    {
     "name": "stdout",
     "output_type": "stream",
     "text": [
      "Collecting pytorch-pretrained-bert\n",
      "\u001b[?25l  Downloading https://files.pythonhosted.org/packages/d7/e0/c08d5553b89973d9a240605b9c12404bcf8227590de62bae27acbcfe076b/pytorch_pretrained_bert-0.6.2-py3-none-any.whl (123kB)\n",
      "\r",
      "\u001b[K     |██▋                             | 10kB 15.5MB/s eta 0:00:01\r",
      "\u001b[K     |█████▎                          | 20kB 19.0MB/s eta 0:00:01\r",
      "\u001b[K     |████████                        | 30kB 15.8MB/s eta 0:00:01\r",
      "\u001b[K     |██████████▋                     | 40kB 14.3MB/s eta 0:00:01\r",
      "\u001b[K     |█████████████▎                  | 51kB 7.8MB/s eta 0:00:01\r",
      "\u001b[K     |███████████████▉                | 61kB 7.7MB/s eta 0:00:01\r",
      "\u001b[K     |██████████████████▌             | 71kB 8.6MB/s eta 0:00:01\r",
      "\u001b[K     |█████████████████████▏          | 81kB 9.2MB/s eta 0:00:01\r",
      "\u001b[K     |███████████████████████▉        | 92kB 9.4MB/s eta 0:00:01\r",
      "\u001b[K     |██████████████████████████▌     | 102kB 7.5MB/s eta 0:00:01\r",
      "\u001b[K     |█████████████████████████████▏  | 112kB 7.5MB/s eta 0:00:01\r",
      "\u001b[K     |███████████████████████████████▊| 122kB 7.5MB/s eta 0:00:01\r",
      "\u001b[K     |████████████████████████████████| 133kB 7.5MB/s \n",
      "\u001b[?25hRequirement already satisfied: tqdm in /usr/local/lib/python3.7/dist-packages (from pytorch-pretrained-bert) (4.41.1)\n",
      "Requirement already satisfied: numpy in /usr/local/lib/python3.7/dist-packages (from pytorch-pretrained-bert) (1.19.5)\n",
      "Requirement already satisfied: requests in /usr/local/lib/python3.7/dist-packages (from pytorch-pretrained-bert) (2.23.0)\n",
      "Requirement already satisfied: torch>=0.4.1 in /usr/local/lib/python3.7/dist-packages (from pytorch-pretrained-bert) (1.9.0+cu102)\n",
      "Requirement already satisfied: regex in /usr/local/lib/python3.7/dist-packages (from pytorch-pretrained-bert) (2019.12.20)\n",
      "Requirement already satisfied: boto3 in /usr/local/lib/python3.7/dist-packages (from pytorch-pretrained-bert) (1.17.97)\n",
      "Requirement already satisfied: urllib3!=1.25.0,!=1.25.1,<1.26,>=1.21.1 in /usr/local/lib/python3.7/dist-packages (from requests->pytorch-pretrained-bert) (1.24.3)\n",
      "Requirement already satisfied: chardet<4,>=3.0.2 in /usr/local/lib/python3.7/dist-packages (from requests->pytorch-pretrained-bert) (3.0.4)\n",
      "Requirement already satisfied: certifi>=2017.4.17 in /usr/local/lib/python3.7/dist-packages (from requests->pytorch-pretrained-bert) (2021.5.30)\n",
      "Requirement already satisfied: idna<3,>=2.5 in /usr/local/lib/python3.7/dist-packages (from requests->pytorch-pretrained-bert) (2.10)\n",
      "Requirement already satisfied: typing-extensions in /usr/local/lib/python3.7/dist-packages (from torch>=0.4.1->pytorch-pretrained-bert) (3.7.4.3)\n",
      "Requirement already satisfied: botocore<1.21.0,>=1.20.97 in /usr/local/lib/python3.7/dist-packages (from boto3->pytorch-pretrained-bert) (1.20.97)\n",
      "Requirement already satisfied: jmespath<1.0.0,>=0.7.1 in /usr/local/lib/python3.7/dist-packages (from boto3->pytorch-pretrained-bert) (0.10.0)\n",
      "Requirement already satisfied: s3transfer<0.5.0,>=0.4.0 in /usr/local/lib/python3.7/dist-packages (from boto3->pytorch-pretrained-bert) (0.4.2)\n",
      "Requirement already satisfied: python-dateutil<3.0.0,>=2.1 in /usr/local/lib/python3.7/dist-packages (from botocore<1.21.0,>=1.20.97->boto3->pytorch-pretrained-bert) (2.8.1)\n",
      "Requirement already satisfied: six>=1.5 in /usr/local/lib/python3.7/dist-packages (from python-dateutil<3.0.0,>=2.1->botocore<1.21.0,>=1.20.97->boto3->pytorch-pretrained-bert) (1.15.0)\n",
      "Installing collected packages: pytorch-pretrained-bert\n",
      "Successfully installed pytorch-pretrained-bert-0.6.2\n"
     ]
    }
   ],
   "source": [
    "! pip3 install pytorch-pretrained-bert"
   ]
  },
  {
   "cell_type": "code",
   "execution_count": null,
   "metadata": {
    "colab": {
     "base_uri": "https://localhost:8080/",
     "height": 382
    },
    "id": "wjRqEBdNO6dZ",
    "outputId": "551d9acd-023e-4614-fc13-67c6454fdae8"
   },
   "outputs": [
    {
     "name": "stdout",
     "output_type": "stream",
     "text": [
      "Collecting moverscore\n",
      "  Downloading https://files.pythonhosted.org/packages/d7/66/5ac942903a4d2d316f6c1df716e047e34fb0f9bfc7e70d44dab995708e9d/moverscore-1.0.3.tar.gz\n",
      "Collecting typing\n",
      "\u001b[?25l  Downloading https://files.pythonhosted.org/packages/05/d9/6eebe19d46bd05360c9a9aae822e67a80f9242aabbfc58b641b957546607/typing-3.7.4.3.tar.gz (78kB)\n",
      "\u001b[K     |████████████████████████████████| 81kB 4.8MB/s \n",
      "\u001b[?25hCollecting portalocker\n",
      "  Downloading https://files.pythonhosted.org/packages/68/33/cb524f4de298509927b90aa5ee34767b9a2b93e663cf354b2a3efa2b4acd/portalocker-2.3.0-py2.py3-none-any.whl\n",
      "Building wheels for collected packages: moverscore, typing\n",
      "  Building wheel for moverscore (setup.py) ... \u001b[?25l\u001b[?25hdone\n",
      "  Created wheel for moverscore: filename=moverscore-1.0.3-cp37-none-any.whl size=7968 sha256=3a091d9545553e0deb2b50b4e0dd86f93a2a723cdc543c63167dd2f5abe55c93\n",
      "  Stored in directory: /root/.cache/pip/wheels/79/1b/3b/146bc744eef28d6c091b864fac8b76a7ffec5a694776c105f1\n",
      "  Building wheel for typing (setup.py) ... \u001b[?25l\u001b[?25hdone\n",
      "  Created wheel for typing: filename=typing-3.7.4.3-cp37-none-any.whl size=26323 sha256=512d3003a77fe31246367aba219dc9bfa1782c7f24d6f53439c3856eaebc14be\n",
      "  Stored in directory: /root/.cache/pip/wheels/2d/04/41/8e1836e79581989c22eebac3f4e70aaac9af07b0908da173be\n",
      "Successfully built moverscore typing\n",
      "Installing collected packages: typing, portalocker, moverscore\n",
      "Successfully installed moverscore-1.0.3 portalocker-2.3.0 typing-3.7.4.3\n"
     ]
    },
    {
     "data": {
      "application/vnd.colab-display-data+json": {
       "pip_warning": {
        "packages": [
         "typing"
        ]
       }
      }
     },
     "metadata": {
      "tags": []
     },
     "output_type": "display_data"
    }
   ],
   "source": [
    "! pip3 install moverscore"
   ]
  },
  {
   "cell_type": "code",
   "execution_count": null,
   "metadata": {
    "colab": {
     "base_uri": "https://localhost:8080/"
    },
    "id": "J1T0Luog_5nI",
    "outputId": "df18176a-ec65-4106-aea5-a1134fb33516"
   },
   "outputs": [
    {
     "name": "stdout",
     "output_type": "stream",
     "text": [
      "Collecting tdqm\n",
      "  Downloading https://files.pythonhosted.org/packages/5a/38/58c9e22b95e98666fe29f35e217ab6126a03798dadf3f4f8f3e5f898510b/tdqm-0.0.1.tar.gz\n",
      "Requirement already satisfied: tqdm in /usr/local/lib/python3.7/dist-packages (from tdqm) (4.41.1)\n",
      "Building wheels for collected packages: tdqm\n",
      "  Building wheel for tdqm (setup.py) ... \u001b[?25l\u001b[?25hdone\n",
      "  Created wheel for tdqm: filename=tdqm-0.0.1-cp37-none-any.whl size=1320 sha256=65a01e4ff80213f0e6de43c20eadadc73473dab761c387bc63393d3fb1d2e6fe\n",
      "  Stored in directory: /root/.cache/pip/wheels/d5/c0/4b/a98405d8b13071ab9a2be7beeef6820d26349ee46651c16a0d\n",
      "Successfully built tdqm\n",
      "Installing collected packages: tdqm\n",
      "Successfully installed tdqm-0.0.1\n"
     ]
    }
   ],
   "source": [
    "! pip3 install tdqm"
   ]
  },
  {
   "cell_type": "code",
   "execution_count": null,
   "metadata": {
    "colab": {
     "base_uri": "https://localhost:8080/"
    },
    "id": "yxmF6jvTVOen",
    "outputId": "e929f92c-88b1-46ac-c421-e7f54ab4f85e"
   },
   "outputs": [
    {
     "name": "stdout",
     "output_type": "stream",
     "text": [
      "Used device is cuda:0\n"
     ]
    }
   ],
   "source": [
    "# Get Device \n",
    "import torch\n",
    "device = torch.device(\"cuda:0\" if torch.cuda.is_available() else \"cpu\")\n",
    "print(f'Used device is {device}')"
   ]
  },
  {
   "cell_type": "markdown",
   "metadata": {
    "id": "Iwxc3rn7ftyF"
   },
   "source": [
    "moversocre works without problem. Moverscore_V2 still does not work, as DistillBERT seems to make problems\n"
   ]
  },
  {
   "cell_type": "code",
   "execution_count": null,
   "metadata": {
    "colab": {
     "base_uri": "https://localhost:8080/"
    },
    "id": "kxVOQhP_O6fz",
    "outputId": "849ef00d-1dfb-48e4-d039-a5a5ed7af1b3"
   },
   "outputs": [
    {
     "name": "stdout",
     "output_type": "stream",
     "text": [
      "Downloading https://github.com/AIPHES/emnlp19-moverscore/releases/download/0.6/MNLI_BERT.zip to /root/.moverscore/MNLI_BERT.zip\n",
      "[--------------------------------------------------]\n"
     ]
    }
   ],
   "source": [
    "# Use the original version with BERTMNLI to reproduce the results.\n",
    "from moverscore import get_idf_dict, word_mover_score\n",
    "# Recommend to use this version (DistilBERT) for evaluation, if the speed is your concern.\n",
    "#from moverscore_v2 import get_idf_dict, word_mover_score \n",
    "from collections import defaultdict\n",
    "import os\n",
    "import pickle\n",
    "import tqdm\n",
    "import seaborn as sns\n",
    "import numpy as np\n",
    "import matplotlib.pyplot as plt\n",
    "import warnings\n",
    "warnings.simplefilter(action='ignore', category=FutureWarning)\n"
   ]
  },
  {
   "cell_type": "markdown",
   "metadata": {
    "id": "FIOqYJbUwVgo"
   },
   "source": [
    "## Example and Explanation: Moverscore\n",
    "\n",
    "Moverscore takes two sentences, tokenizes both, and runs them through BERT, such that each sentence is a set of contextualized token embeddings. Then, a (soft) alignement between the vectors representing the first sentence and vectors representing the second sentence is found (see image below). The sum of distances between aligned vectors is considered, call this d. This can be seen as the sum of the length of all blue arrows in the figure below.\n",
    "Returns 1-d: 1 will be returned if both sentences are equal.\n",
    "\n",
    "The next cell can be used to play around with moverscore. Note that applying Moverscore to a large corpus, words will also be weighted using inverse document frequency.\n",
    "\n",
    "![Difference BERTScore, MoverScore](data:image/png;base64,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)"
   ]
  },
  {
   "cell_type": "code",
   "execution_count": null,
   "metadata": {
    "colab": {
     "base_uri": "https://localhost:8080/"
    },
    "id": "dCP9iqGAaL6B",
    "outputId": "c6357321-c70d-44b0-e7b2-aef5b236ddb7"
   },
   "outputs": [
    {
     "name": "stdout",
     "output_type": "stream",
     "text": [
      "[0.6184953104753815]\n"
     ]
    }
   ],
   "source": [
    "translations = ['The day was sunny in Valencia']\n",
    "\n",
    "references = ['Today the weather in Valencia was very sunny']\n",
    "\n",
    "#idf_dict_hyp = get_idf_dict(translations) # idf_dict_hyp = defaultdict(lambda: 1.)\n",
    "idf_dict_hyp = defaultdict(lambda: 1.)\n",
    "#idf_dict_ref = get_idf_dict(references) # idf_dict_ref = defaultdict(lambda: 1.)\n",
    "idf_dict_ref = defaultdict(lambda: 1.)\n",
    "\n",
    "scores = word_mover_score(references, translations, idf_dict_ref, idf_dict_hyp, \\\n",
    "                          stop_words=[], n_gram=1, remove_subwords=True)\n",
    "print(scores)"
   ]
  },
  {
   "cell_type": "markdown",
   "metadata": {
    "id": "k5gB-GxfW-GM"
   },
   "source": [
    "## Read Paws\n"
   ]
  },
  {
   "cell_type": "code",
   "execution_count": null,
   "metadata": {
    "id": "dCsO2-hGW-GN"
   },
   "outputs": [],
   "source": [
    "base_path_data= '/evaluation/datasets/moverscore_data/'"
   ]
  },
  {
   "cell_type": "code",
   "execution_count": null,
   "metadata": {
    "colab": {
     "base_uri": "https://localhost:8080/",
     "height": 406,
     "referenced_widgets": [
      "37a28523718e4091bfbe18210a6c69bd",
      "12aca2274b02484dac42718877443745",
      "aa6ebc9d1ffd4f55808129a04c8fe792",
      "f10ac22e324f4a1da029c235bb22a607",
      "7746481637264001b311e09767bf2c97",
      "be4a681e8c33431b8de0a90ad79757ea",
      "f149f2ef41db459daa99219430ee3d19",
      "bfd8b43122f042488ff74d48e9f801db",
      "442bd22acd04411aa9edda3b39f3fef9",
      "32dc6200c0bd489cb6093abd16a28638",
      "7bfc0bb8e3f34817a2e413518584b96c",
      "4c32d21376714e50b578ce6bc3c39b1a",
      "1033124fd34b4ec7b92b59697fd2c5ad",
      "e92f688bf3434ee7b2caeffd462590d7",
      "eb4fff7180874f3daacaf68c58e8ef48",
      "29d03013e14c4e7bab6dbe4900d40124",
      "d956fd86fc44406384efe98bf257d049",
      "848336de7e2f41989349899e3ea5851d",
      "1c5f3fd54e0a4b60a2fd3a894a585234",
      "1597ef495db44bb498a9b8c49972e65c",
      "08a66908370e4a9e9829e659c3dfecfe",
      "be3abe63b0e14c0ca29e029597b2c16e",
      "b6dbfc8b28e5443587698605a3004300",
      "4fbc82697a164908afdaff0fd8f30baa",
      "5b2c8a0adcab402c878fc6fae4e18b8b",
      "ae2600fbac2742e78a2539774779677f",
      "10447e58a66a4b7da50eeef56672f84c",
      "5d141dd50ace4004b0ed4ebb69ff1025",
      "2b7231c91a284e619663268fdde0accd",
      "0734cd7502ff4ab6820781f6ff1c523a",
      "ea7063709d924cc1985f17a1242b584c",
      "e6e25ce6976c49c4b720d196bb1c9af7",
      "10c23975009f407186a964ab65129795",
      "8ce7e8e95774448e9422828d22ae787d",
      "429516a720e245748df246036f8d3ca8",
      "131d7c74e7974b23bb02e0ef47c6407e",
      "95bd8ca8a8f046f3875a94fd249e56d0",
      "a215fcb2d55a4c5ea15122d2bdda3802",
      "a2df14b4639a420eb75549077c88f75e",
      "a6d2f5a7674f45a7a393beee636025cb",
      "cc9a8e277f084ac982c6fb49d986ce92",
      "63b5ec2ec691409bac76d9e5ea8f3991",
      "2259fc0f9e4342cfbc6cd3506e42d8fd",
      "9457de4b69784c97bb39a9e7a9513f4d",
      "f47fa104bcc445e2b589225b49ecf255",
      "8b0d8a4dfea243ab8ae15a4f1f40043a",
      "131f320f449e46b1875c87c1ae1db3ff",
      "1605000462414525962e3aa864189cc3",
      "5918e479bb9a4b2d87582111411ff84f",
      "fba959fe2c9f41f5819aed8ee0265bb4",
      "22db2b8bb9f44c05bad583450e0df5e8",
      "931a990df5e249cf80799ee4c8921448",
      "91dc35fa151649389a4044d5d751c1f5",
      "40e11d829e7e4f1f932fc0f20598da96",
      "b383cc698602435aa0ec4b6893b506e4",
      "3041d6e806fc48e486b2c41473511d3e",
      "baf9670b0f524ba886384ee2c5627838",
      "f4c83ba128854cffbe04730d93ea17b3",
      "4cf09415d9aa4a83bb26b7667d9738b8",
      "824af5b5a91946bc960b9fb23cc34c63",
      "677e13ed4a5243f699fc24e0705ba848",
      "9e68a42eab0e490ebf10f24c936d64d1",
      "601b196156344c538dfd90d136e8a524",
      "a02e9127565e4738bb2a212e53a6824c",
      "4b7bb6548a24481c828749dab7f0f092",
      "32688b6d4a65437086a2ac8de93d6f86",
      "5d6fe84f21614e098f8cee99e0b9c788",
      "92cbb56ee51d45f3b92e606a9788a9a1",
      "c1b0d79f6f8a48869076ea911ec4a61d",
      "74a2d09eb23a468f91a2ed477c0e2368",
      "198840fb222a48bf839d522a7b5fd456",
      "38c199f7045445298608ac774b6733bb"
     ]
    },
    "id": "YcNf-ALkXTAE",
    "outputId": "5d96da68-e0f3-40fb-e292-dfccf723d63f"
   },
   "outputs": [
    {
     "name": "stdout",
     "output_type": "stream",
     "text": [
      "\u001b[1mDownloading and preparing dataset paws_x_wiki/en/1.0.0 (download: 28.88 MiB, generated: 14.59 MiB, total: 43.47 MiB) to /root/tensorflow_datasets/paws_x_wiki/en/1.0.0...\u001b[0m\n"
     ]
    },
    {
     "data": {
      "application/vnd.jupyter.widget-view+json": {
       "model_id": "37a28523718e4091bfbe18210a6c69bd",
       "version_major": 2,
       "version_minor": 0
      },
      "text/plain": [
       "HBox(children=(FloatProgress(value=1.0, bar_style='info', description='Dl Completed...', max=1.0, style=Progre…"
      ]
     },
     "metadata": {
      "tags": []
     },
     "output_type": "display_data"
    },
    {
     "data": {
      "application/vnd.jupyter.widget-view+json": {
       "model_id": "442bd22acd04411aa9edda3b39f3fef9",
       "version_major": 2,
       "version_minor": 0
      },
      "text/plain": [
       "HBox(children=(FloatProgress(value=1.0, bar_style='info', description='Dl Size...', max=1.0, style=ProgressSty…"
      ]
     },
     "metadata": {
      "tags": []
     },
     "output_type": "display_data"
    },
    {
     "data": {
      "application/vnd.jupyter.widget-view+json": {
       "model_id": "d956fd86fc44406384efe98bf257d049",
       "version_major": 2,
       "version_minor": 0
      },
      "text/plain": [
       "HBox(children=(FloatProgress(value=1.0, bar_style='info', description='Extraction completed...', max=1.0, styl…"
      ]
     },
     "metadata": {
      "tags": []
     },
     "output_type": "display_data"
    },
    {
     "name": "stdout",
     "output_type": "stream",
     "text": [
      "\n",
      "\n",
      "\n",
      "\n",
      "\n",
      "\n"
     ]
    },
    {
     "data": {
      "application/vnd.jupyter.widget-view+json": {
       "model_id": "5b2c8a0adcab402c878fc6fae4e18b8b",
       "version_major": 2,
       "version_minor": 0
      },
      "text/plain": [
       "HBox(children=(FloatProgress(value=1.0, bar_style='info', max=1.0), HTML(value='')))"
      ]
     },
     "metadata": {
      "tags": []
     },
     "output_type": "display_data"
    },
    {
     "name": "stdout",
     "output_type": "stream",
     "text": [
      "\r",
      "Shuffling and writing examples to /root/tensorflow_datasets/paws_x_wiki/en/1.0.0.incompleteBTQS56/paws_x_wiki-train.tfrecord\n"
     ]
    },
    {
     "data": {
      "application/vnd.jupyter.widget-view+json": {
       "model_id": "10c23975009f407186a964ab65129795",
       "version_major": 2,
       "version_minor": 0
      },
      "text/plain": [
       "HBox(children=(FloatProgress(value=0.0, max=49175.0), HTML(value='')))"
      ]
     },
     "metadata": {
      "tags": []
     },
     "output_type": "display_data"
    },
    {
     "name": "stdout",
     "output_type": "stream",
     "text": [
      "\r"
     ]
    },
    {
     "data": {
      "application/vnd.jupyter.widget-view+json": {
       "model_id": "cc9a8e277f084ac982c6fb49d986ce92",
       "version_major": 2,
       "version_minor": 0
      },
      "text/plain": [
       "HBox(children=(FloatProgress(value=1.0, bar_style='info', max=1.0), HTML(value='')))"
      ]
     },
     "metadata": {
      "tags": []
     },
     "output_type": "display_data"
    },
    {
     "name": "stdout",
     "output_type": "stream",
     "text": [
      "\r",
      "Shuffling and writing examples to /root/tensorflow_datasets/paws_x_wiki/en/1.0.0.incompleteBTQS56/paws_x_wiki-test.tfrecord\n"
     ]
    },
    {
     "data": {
      "application/vnd.jupyter.widget-view+json": {
       "model_id": "5918e479bb9a4b2d87582111411ff84f",
       "version_major": 2,
       "version_minor": 0
      },
      "text/plain": [
       "HBox(children=(FloatProgress(value=0.0, max=2000.0), HTML(value='')))"
      ]
     },
     "metadata": {
      "tags": []
     },
     "output_type": "display_data"
    },
    {
     "name": "stdout",
     "output_type": "stream",
     "text": [
      "\r"
     ]
    },
    {
     "data": {
      "application/vnd.jupyter.widget-view+json": {
       "model_id": "baf9670b0f524ba886384ee2c5627838",
       "version_major": 2,
       "version_minor": 0
      },
      "text/plain": [
       "HBox(children=(FloatProgress(value=1.0, bar_style='info', max=1.0), HTML(value='')))"
      ]
     },
     "metadata": {
      "tags": []
     },
     "output_type": "display_data"
    },
    {
     "name": "stdout",
     "output_type": "stream",
     "text": [
      "\r",
      "Shuffling and writing examples to /root/tensorflow_datasets/paws_x_wiki/en/1.0.0.incompleteBTQS56/paws_x_wiki-validation.tfrecord\n"
     ]
    },
    {
     "data": {
      "application/vnd.jupyter.widget-view+json": {
       "model_id": "4b7bb6548a24481c828749dab7f0f092",
       "version_major": 2,
       "version_minor": 0
      },
      "text/plain": [
       "HBox(children=(FloatProgress(value=0.0, max=2000.0), HTML(value='')))"
      ]
     },
     "metadata": {
      "tags": []
     },
     "output_type": "display_data"
    },
    {
     "name": "stdout",
     "output_type": "stream",
     "text": [
      "\u001b[1mDataset paws_x_wiki downloaded and prepared to /root/tensorflow_datasets/paws_x_wiki/en/1.0.0. Subsequent calls will reuse this data.\u001b[0m\n",
      "\r",
      "<PrefetchDataset shapes: {label: (), sentence1: (), sentence2: ()}, types: {label: tf.int64, sentence1: tf.string, sentence2: tf.string}>\n"
     ]
    }
   ],
   "source": [
    "import tensorflow_datasets as tfds\n",
    "import tensorflow as tf\n",
    "import pandas as pd\n",
    "import pickle\n",
    "import os\n",
    "\n",
    "ds = tfds.load('paws_x_wiki/en', split='train')\n",
    "assert isinstance(ds, tf.data.Dataset)\n",
    "print(ds)"
   ]
  },
  {
   "cell_type": "code",
   "execution_count": null,
   "metadata": {
    "id": "L_hiTaqBXTC5"
   },
   "outputs": [],
   "source": [
    "df = tfds.as_dataframe(ds)\n",
    "\n",
    "all_sent1 = df['sentence1'].str.decode(encoding = 'UTF-8').tolist()\n",
    "all_sent2 = df['sentence2'].str.decode(encoding = 'UTF-8').tolist()\n",
    "all_labels = df['label'].tolist()"
   ]
  },
  {
   "cell_type": "code",
   "execution_count": null,
   "metadata": {
    "colab": {
     "base_uri": "https://localhost:8080/",
     "height": 546
    },
    "id": "AmZLZAvDgwMH",
    "outputId": "ec7e5b78-fb70-4b85-c662-cad0aa64c938"
   },
   "outputs": [
    {
     "name": "stdout",
     "output_type": "stream",
     "text": [
      "Min: 5 | Max: 1251\n"
     ]
    },
    {
     "data": {
      "image/png": "[encoded data removed]",
      "text/plain": [
       "<Figure size 432x288 with 1 Axes>"
      ]
     },
     "metadata": {
      "needs_background": "light",
      "tags": []
     },
     "output_type": "display_data"
    },
    {
     "name": "stdout",
     "output_type": "stream",
     "text": [
      "Min: 5 | Max: 118\n"
     ]
    },
    {
     "data": {
      "image/png": "[encoded data removed]",
      "text/plain": [
       "<Figure size 432x288 with 1 Axes>"
      ]
     },
     "metadata": {
      "needs_background": "light",
      "tags": []
     },
     "output_type": "display_data"
    }
   ],
   "source": [
    "len_all_sent1 = [len(sent.split()) for sent in all_sent1]\n",
    "len_all_sent2 = [len(sent.split()) for sent in all_sent2]\n",
    "\n",
    "print(f'Min: {min(len_all_sent1)} | Max: {max(len_all_sent1)}')\n",
    "plt.hist(len_all_sent1, bins = 50)\n",
    "plt.show()\n",
    "print(f'Min: {min(len_all_sent2)} | Max: {max(len_all_sent2)}')\n",
    "plt.hist(len_all_sent2, bins = 50)\n",
    "plt.show()"
   ]
  },
  {
   "cell_type": "code",
   "execution_count": null,
   "metadata": {
    "colab": {
     "base_uri": "https://localhost:8080/",
     "height": 546
    },
    "id": "6zKOoT3Ehg8s",
    "outputId": "e1505865-f46e-40b4-911f-acc69c0b282d"
   },
   "outputs": [
    {
     "name": "stdout",
     "output_type": "stream",
     "text": [
      "Min: 5 | Max: 37\n"
     ]
    },
    {
     "data": {
      "image/png": "[encoded data removed]",
      "text/plain": [
       "<Figure size 432x288 with 1 Axes>"
      ]
     },
     "metadata": {
      "needs_background": "light",
      "tags": []
     },
     "output_type": "display_data"
    },
    {
     "name": "stdout",
     "output_type": "stream",
     "text": [
      "Min: 5 | Max: 36\n"
     ]
    },
    {
     "data": {
      "image/png": "[encoded data removed]",
      "text/plain": [
       "<Figure size 432x288 with 1 Axes>"
      ]
     },
     "metadata": {
      "needs_background": "light",
      "tags": []
     },
     "output_type": "display_data"
    }
   ],
   "source": [
    "# Some Filtering:\n",
    "max_length = [max(l1, l2) for l1, l2 in zip(len_all_sent1, len_all_sent2)]\n",
    "\n",
    "all_sent1 = [sent for i, sent in enumerate(all_sent1) if max_length[i] <= 40]\n",
    "all_sent2 = [sent for i, sent in enumerate(all_sent2) if max_length[i] <= 40]\n",
    "all_labels = [label for i, label in enumerate(all_labels) if max_length[i] <= 40]\n",
    "\n",
    "assert len(all_sent1) ==  len(all_sent2)\n",
    "assert len(all_sent2) == len(all_labels)\n",
    "\n",
    "\n",
    "len_all_sent1 = [len(sent.split()) for sent in all_sent1]\n",
    "len_all_sent2 = [len(sent.split()) for sent in all_sent2]\n",
    "\n",
    "print(f'Min: {min(len_all_sent1)} | Max: {max(len_all_sent1)}')\n",
    "plt.hist(len_all_sent1, bins = 50)\n",
    "plt.show()\n",
    "print(f'Min: {min(len_all_sent2)} | Max: {max(len_all_sent2)}')\n",
    "plt.hist(len_all_sent2, bins = 50)\n",
    "plt.show()"
   ]
  },
  {
   "cell_type": "code",
   "execution_count": null,
   "metadata": {
    "colab": {
     "base_uri": "https://localhost:8080/"
    },
    "id": "DKjwalzPW-GN",
    "outputId": "e6e64533-7742-47b7-e4bf-2448c629a206"
   },
   "outputs": [
    {
     "name": "stdout",
     "output_type": "stream",
     "text": [
      "Hugo Käch died on December 31 , 2003 in Schaffhausen near Flurlingen , Germany .\n",
      "Hugo Käch died on 31 December 2003 in Flurlingen near Schaffhausen . \n",
      " 0 \n",
      "\n",
      "In 2013 Peter married Anna Barattin while Julia is married to Nicholas Furiuele , both are members of the band Shantih Shantih .\n",
      "Peter Anna Barattin married in 2013 while Julia was married to Nicholas Furiuele , both of whom are members of the band Shantih Shantih . \n",
      " 1 \n",
      "\n",
      "The recent Sierra Leone Civil War was secular in nature featuring members of Tribal , Muslim , and Christian faiths fighting on both sides of the conflict .\n",
      "The recent civil war in Sierra Leone was secular in nature , with members of Christian , Muslim , and tribal faith fighting on both sides of the conflict . \n",
      " 1 \n",
      "\n",
      "True\n"
     ]
    }
   ],
   "source": [
    "# Printing Sentence pairs as examples\n",
    "for i, (ref, tran) in enumerate(zip(all_sent1, all_sent2)):\n",
    "  if i >2: break\n",
    "  print(ref)\n",
    "  print(tran, '\\n', all_labels[i],'\\n')\n",
    "\n",
    "print(isinstance(tran, str))"
   ]
  },
  {
   "cell_type": "markdown",
   "metadata": {
    "id": "uDo3Emk0W-GO"
   },
   "source": [
    "### MoverScore on Paws"
   ]
  },
  {
   "cell_type": "code",
   "execution_count": null,
   "metadata": {
    "colab": {
     "base_uri": "https://localhost:8080/"
    },
    "id": "YKv8kYBNW-GO",
    "outputId": "14e77d75-8116-4f7d-93b4-2fb4d49f8a55"
   },
   "outputs": [
    {
     "name": "stdout",
     "output_type": "stream",
     "text": [
      "MoverScores loaded!\n",
      "Done!\n"
     ]
    }
   ],
   "source": [
    "filename = 'mover_scores_paws.pickle'\n",
    "try:\n",
    "  # Try to read already calculated data\n",
    "  with open(base_path_data + filename, \"rb\") as f: \n",
    "    mover_scores_paws = pickle.load(f)\n",
    "    print(f'MoverScores loaded!')\n",
    "\n",
    "except FileNotFoundError:\n",
    "\n",
    "  print(f'MoverScores do not exist yet! \\n Calculating Moverscores...')\n",
    "  # Get idf dicts \n",
    "  idf_dict_hyp = get_idf_dict(all_sent1) # idf_dict_hyp = defaultdict(lambda: 1.)\n",
    "  idf_dict_ref = get_idf_dict(all_sent2) # idf_dict_ref = defaultdict(lambda: 1.)\n",
    "\n",
    "  # calculate moverscores\n",
    "  #THIS SHOULD BE IMPROVED WITH BETTER BATCHING\n",
    "  mover_scores_paws = []\n",
    "  for i, (ref, tran) in tqdm.notebook.tqdm(enumerate(zip(all_sent1, all_sent2)), total = len(all_sent1)):\n",
    "    score = word_mover_score([ref], [tran], idf_dict_ref, idf_dict_hyp, \n",
    "                            stop_words=[], n_gram=1, remove_subwords=True)\n",
    "    mover_scores_paws.append(score[0])\n",
    "\n",
    "  # write data\n",
    "  with open(base_path_data + filename, 'wb') as f:\n",
    "    pickle.dump(mover_scores_paws , f)\n",
    "\n",
    "finally:\n",
    "  print('Done!')"
   ]
  },
  {
   "cell_type": "code",
   "execution_count": null,
   "metadata": {
    "id": "9AkNbooIvI31"
   },
   "outputs": [],
   "source": [
    "#print(ref)\n",
    "#print(tran)\n"
   ]
  },
  {
   "cell_type": "code",
   "execution_count": null,
   "metadata": {
    "colab": {
     "base_uri": "https://localhost:8080/",
     "height": 518
    },
    "id": "D6XjUYk-W-GP",
    "outputId": "990c9be5-5b84-4f28-9fae-2989768b2bb3"
   },
   "outputs": [
    {
     "name": "stderr",
     "output_type": "stream",
     "text": [
      "/usr/local/lib/python3.7/dist-packages/numpy/core/_asarray.py:83: VisibleDeprecationWarning: Creating an ndarray from ragged nested sequences (which is a list-or-tuple of lists-or-tuples-or ndarrays with different lengths or shapes) is deprecated. If you meant to do this, you must specify 'dtype=object' when creating the ndarray\n",
      "  return array(a, dtype, copy=False, order=order)\n"
     ]
    },
    {
     "data": {
      "image/png": "[encoded data removed]",
      "text/plain": [
       "<Figure size 720x504 with 1 Axes>"
      ]
     },
     "metadata": {
      "needs_background": "light",
      "tags": []
     },
     "output_type": "display_data"
    },
    {
     "name": "stdout",
     "output_type": "stream",
     "text": [
      "D'Agostino-Test: The null hypothesis of normality can be rejected\n"
     ]
    }
   ],
   "source": [
    "# Statistical analysis\n",
    "from statsmodels.graphics.gofplots import qqplot\n",
    "from scipy import stats\n",
    "\n",
    "fig,ax = plt.subplots(1,1, figsize = (10,7))\n",
    "\n",
    "mover_scores_paws_correct = [score for i,score in enumerate(mover_scores_paws) if all_labels[i] == 1]\n",
    "mover_scores_paws_false = [score for i,score in enumerate(mover_scores_paws) if all_labels[i] == 0]\n",
    "#sns.distplot(mover_scores_paws,  hist = True, color=\"blue\", ax = ax[0])\n",
    "ax.hist([mover_scores_paws_correct,mover_scores_paws_false] , bins = 50, label = ['correct paraphrase', 'wrong paraphrase'], density=True)\n",
    "ax.set_title('MoverScore on Paws', fontsize = 18)\n",
    "ax.legend()\n",
    "\n",
    "#sns.distplot(np.random.normal(np.mean(mover_scores), np.std(mover_scores), size=len(mover_scores)),  hist = True, color=\"red\", ax = ax[1])\n",
    "#ax[1].set_title('Normal data', fontsize = 24)\n",
    "\n",
    "#qqplot(np.array(sorted(mover_scores_paws)), line='s', ax = ax[1])\n",
    "#ax[1].set_title('QQ-Plot to normal distribution', fontsize = )\n",
    "\n",
    "\n",
    "plt.show()\n",
    "\n",
    "#normal_test = stats.shapiro(mover_scores)\n",
    "normal_test = stats.normaltest(np.array(mover_scores_paws))\n",
    "#print(normal_test)\n",
    "alpha = 0.05\n",
    "\n",
    "if normal_test.pvalue < alpha:  # null hypothesis: x comes from a normal distribution\n",
    "    print(\"D'Agostino-Test: The null hypothesis of normality can be rejected\")\n",
    "else:\n",
    "    print(\"D'Agostino-Test: The null hypothesis of normality cannot be rejected\")"
   ]
  },
  {
   "cell_type": "code",
   "execution_count": null,
   "metadata": {
    "id": "cjWWJfi-W7cy"
   },
   "outputs": [],
   "source": [
    "with open(base_path_data+ 'mover_scores_paranmt75k.pickle', \"rb\") as f: \n",
    "    mover_scores_paranmt75k = pickle.load(f)\n",
    "#mover_scores_paranmt75k \n",
    "with open(base_path_data + 'mover_scores_paranmt_sampled.pickle', \"rb\") as f: \n",
    "    mover_scores_paranmt_sampled = pickle.load(f)\n",
    "#mover_scores_paranmt75k "
   ]
  },
  {
   "cell_type": "code",
   "execution_count": null,
   "metadata": {
    "colab": {
     "base_uri": "https://localhost:8080/",
     "height": 372
    },
    "id": "QoBG6wWEWvCz",
    "outputId": "2042bd36-666e-46cc-f48d-1796dc98f681"
   },
   "outputs": [
    {
     "name": "stderr",
     "output_type": "stream",
     "text": [
      "/usr/local/lib/python3.7/dist-packages/numpy/core/_asarray.py:83: VisibleDeprecationWarning: Creating an ndarray from ragged nested sequences (which is a list-or-tuple of lists-or-tuples-or ndarrays with different lengths or shapes) is deprecated. If you meant to do this, you must specify 'dtype=object' when creating the ndarray\n",
      "  return array(a, dtype, copy=False, order=order)\n"
     ]
    },
    {
     "data": {
      "image/png": "[encoded data removed]",
      "text/plain": [
       "<Figure size 864x360 with 1 Axes>"
      ]
     },
     "metadata": {
      "needs_background": "light",
      "tags": []
     },
     "output_type": "display_data"
    }
   ],
   "source": [
    "# Statistical analysis\n",
    "from statsmodels.graphics.gofplots import qqplot\n",
    "from scipy import stats\n",
    "\n",
    "fig,ax = plt.subplots(1,1, figsize = (12,5))\n",
    "\n",
    "mover_scores_paws_correct = [score for i,score in enumerate(mover_scores_paws) if all_labels[i] == 1]\n",
    "mover_scores_paws_false = [score for i,score in enumerate(mover_scores_paws) if all_labels[i] == 0]\n",
    "#sns.distplot(mover_scores_paws,  hist = True, color=\"blue\", ax = ax[0])\n",
    "ax.hist([mover_scores_paws_correct,mover_scores_paws_false, mover_scores_paranmt75k, mover_scores_paranmt_sampled] , bins = 40, label = ['Paws: correct paraphrase', 'Paws: wrong paraphrase', 'Paranmt: 75k', 'Paranmt: sample'], density=True)\n",
    "ax.set_title('', fontsize = 18)\n",
    "ax.set_ylabel('Moverscore', fontsize = 12)\n",
    "ax.legend(fontsize = 14)#fontsize = 18\n",
    "\n",
    "#sns.distplot(np.random.normal(np.mean(mover_scores), np.std(mover_scores), size=len(mover_scores)),  hist = True, color=\"red\", ax = ax[1])\n",
    "#ax[1].set_title('Normal data', fontsize = 24)\n",
    "\n",
    "#qqplot(np.array(sorted(mover_scores_paws)), line='s', ax = ax[1])\n",
    "#ax[1].set_title('QQ-Plot to normal distribution', fontsize = )\n",
    "\n",
    "\n",
    "plt.show()\n"
   ]
  },
  {
   "cell_type": "code",
   "execution_count": null,
   "metadata": {
    "id": "7Fkra9XpW_xz"
   },
   "outputs": [],
   "source": []
  }
 ],
 "metadata": {
  "accelerator": "GPU",
  "colab": {
   "collapsed_sections": [],
   "name": "MoverScorePaws.ipynb",
   "provenance": [],
   "toc_visible": true
  },
  "kernelspec": {
   "display_name": "Python 3",
   "language": "python",
   "name": "python3"
  },
  "language_info": {
   "codemirror_mode": {
    "name": "ipython",
    "version": 3
   },
   "file_extension": ".py",
   "mimetype": "text/x-python",
   "name": "python",
   "nbconvert_exporter": "python",
   "pygments_lexer": "ipython3",
   "version": "3.7.5"
  },
  "toc": {
   "base_numbering": 1,
   "nav_menu": {},
   "number_sections": true,
   "sideBar": true,
   "skip_h1_title": false,
   "title_cell": "Table of Contents",
   "title_sidebar": "Contents",
   "toc_cell": false,
   "toc_position": {},
   "toc_section_display": true,
   "toc_window_display": false
  },
  "widgets": {
   "application/vnd.jupyter.widget-state+json": {
    "0734cd7502ff4ab6820781f6ff1c523a": {
     "model_module": "@jupyter-widgets/base",
     "model_name": "LayoutModel",
     "state": {
      "_model_module": "@jupyter-widgets/base",
      "_model_module_version": "1.2.0",
      "_model_name": "LayoutModel",
      "_view_count": null,
      "_view_module": "@jupyter-widgets/base",
      "_view_module_version": "1.2.0",
      "_view_name": "LayoutView",
      "align_content": null,
      "align_items": null,
      "align_self": null,
      "border": null,
      "bottom": null,
      "display": null,
      "flex": null,
      "flex_flow": null,
      "grid_area": null,
      "grid_auto_columns": null,
      "grid_auto_flow": null,
      "grid_auto_rows": null,
      "grid_column": null,
      "grid_gap": null,
      "grid_row": null,
      "grid_template_areas": null,
      "grid_template_columns": null,
      "grid_template_rows": null,
      "height": null,
      "justify_content": null,
      "justify_items": null,
      "left": null,
      "margin": null,
      "max_height": null,
      "max_width": null,
      "min_height": null,
      "min_width": null,
      "object_fit": null,
      "object_position": null,
      "order": null,
      "overflow": null,
      "overflow_x": null,
      "overflow_y": null,
      "padding": null,
      "right": null,
      "top": null,
      "visibility": null,
      "width": null
     }
    },
    "08a66908370e4a9e9829e659c3dfecfe": {
     "model_module": "@jupyter-widgets/controls",
     "model_name": "ProgressStyleModel",
     "state": {
      "_model_module": "@jupyter-widgets/controls",
      "_model_module_version": "1.5.0",
      "_model_name": "ProgressStyleModel",
      "_view_count": null,
      "_view_module": "@jupyter-widgets/base",
      "_view_module_version": "1.2.0",
      "_view_name": "StyleView",
      "bar_color": null,
      "description_width": "initial"
     }
    },
    "1033124fd34b4ec7b92b59697fd2c5ad": {
     "model_module": "@jupyter-widgets/controls",
     "model_name": "ProgressStyleModel",
     "state": {
      "_model_module": "@jupyter-widgets/controls",
      "_model_module_version": "1.5.0",
      "_model_name": "ProgressStyleModel",
      "_view_count": null,
      "_view_module": "@jupyter-widgets/base",
      "_view_module_version": "1.2.0",
      "_view_name": "StyleView",
      "bar_color": null,
      "description_width": "initial"
     }
    },
    "10447e58a66a4b7da50eeef56672f84c": {
     "model_module": "@jupyter-widgets/controls",
     "model_name": "FloatProgressModel",
     "state": {
      "_dom_classes": [],
      "_model_module": "@jupyter-widgets/controls",
      "_model_module_version": "1.5.0",
      "_model_name": "FloatProgressModel",
      "_view_count": null,
      "_view_module": "@jupyter-widgets/controls",
      "_view_module_version": "1.5.0",
      "_view_name": "ProgressView",
      "bar_style": "info",
      "description": "",
      "description_tooltip": null,
      "layout": "IPY_MODEL_0734cd7502ff4ab6820781f6ff1c523a",
      "max": 1,
      "min": 0,
      "orientation": "horizontal",
      "style": "IPY_MODEL_2b7231c91a284e619663268fdde0accd",
      "value": 1
     }
    },
    "10c23975009f407186a964ab65129795": {
     "model_module": "@jupyter-widgets/controls",
     "model_name": "HBoxModel",
     "state": {
      "_dom_classes": [],
      "_model_module": "@jupyter-widgets/controls",
      "_model_module_version": "1.5.0",
      "_model_name": "HBoxModel",
      "_view_count": null,
      "_view_module": "@jupyter-widgets/controls",
      "_view_module_version": "1.5.0",
      "_view_name": "HBoxView",
      "box_style": "",
      "children": [
       "IPY_MODEL_429516a720e245748df246036f8d3ca8",
       "IPY_MODEL_131d7c74e7974b23bb02e0ef47c6407e"
      ],
      "layout": "IPY_MODEL_8ce7e8e95774448e9422828d22ae787d"
     }
    },
    "12aca2274b02484dac42718877443745": {
     "model_module": "@jupyter-widgets/base",
     "model_name": "LayoutModel",
     "state": {
      "_model_module": "@jupyter-widgets/base",
      "_model_module_version": "1.2.0",
      "_model_name": "LayoutModel",
      "_view_count": null,
      "_view_module": "@jupyter-widgets/base",
      "_view_module_version": "1.2.0",
      "_view_name": "LayoutView",
      "align_content": null,
      "align_items": null,
      "align_self": null,
      "border": null,
      "bottom": null,
      "display": null,
      "flex": null,
      "flex_flow": null,
      "grid_area": null,
      "grid_auto_columns": null,
      "grid_auto_flow": null,
      "grid_auto_rows": null,
      "grid_column": null,
      "grid_gap": null,
      "grid_row": null,
      "grid_template_areas": null,
      "grid_template_columns": null,
      "grid_template_rows": null,
      "height": null,
      "justify_content": null,
      "justify_items": null,
      "left": null,
      "margin": null,
      "max_height": null,
      "max_width": null,
      "min_height": null,
      "min_width": null,
      "object_fit": null,
      "object_position": null,
      "order": null,
      "overflow": null,
      "overflow_x": null,
      "overflow_y": null,
      "padding": null,
      "right": null,
      "top": null,
      "visibility": null,
      "width": null
     }
    },
    "131d7c74e7974b23bb02e0ef47c6407e": {
     "model_module": "@jupyter-widgets/controls",
     "model_name": "HTMLModel",
     "state": {
      "_dom_classes": [],
      "_model_module": "@jupyter-widgets/controls",
      "_model_module_version": "1.5.0",
      "_model_name": "HTMLModel",
      "_view_count": null,
      "_view_module": "@jupyter-widgets/controls",
      "_view_module_version": "1.5.0",
      "_view_name": "HTMLView",
      "description": "",
      "description_tooltip": null,
      "layout": "IPY_MODEL_a6d2f5a7674f45a7a393beee636025cb",
      "placeholder": "​",
      "style": "IPY_MODEL_a2df14b4639a420eb75549077c88f75e",
      "value": " 34661/49175 [00:00&lt;17:04, 14.17 examples/s]"
     }
    },
    "131f320f449e46b1875c87c1ae1db3ff": {
     "model_module": "@jupyter-widgets/controls",
     "model_name": "DescriptionStyleModel",
     "state": {
      "_model_module": "@jupyter-widgets/controls",
      "_model_module_version": "1.5.0",
      "_model_name": "DescriptionStyleModel",
      "_view_count": null,
      "_view_module": "@jupyter-widgets/base",
      "_view_module_version": "1.2.0",
      "_view_name": "StyleView",
      "description_width": ""
     }
    },
    "1597ef495db44bb498a9b8c49972e65c": {
     "model_module": "@jupyter-widgets/controls",
     "model_name": "HTMLModel",
     "state": {
      "_dom_classes": [],
      "_model_module": "@jupyter-widgets/controls",
      "_model_module_version": "1.5.0",
      "_model_name": "HTMLModel",
      "_view_count": null,
      "_view_module": "@jupyter-widgets/controls",
      "_view_module_version": "1.5.0",
      "_view_name": "HTMLView",
      "description": "",
      "description_tooltip": null,
      "layout": "IPY_MODEL_4fbc82697a164908afdaff0fd8f30baa",
      "placeholder": "​",
      "style": "IPY_MODEL_b6dbfc8b28e5443587698605a3004300",
      "value": " 1/1 [00:02&lt;00:00,  2.39s/ file]"
     }
    },
    "1605000462414525962e3aa864189cc3": {
     "model_module": "@jupyter-widgets/base",
     "model_name": "LayoutModel",
     "state": {
      "_model_module": "@jupyter-widgets/base",
      "_model_module_version": "1.2.0",
      "_model_name": "LayoutModel",
      "_view_count": null,
      "_view_module": "@jupyter-widgets/base",
      "_view_module_version": "1.2.0",
      "_view_name": "LayoutView",
      "align_content": null,
      "align_items": null,
      "align_self": null,
      "border": null,
      "bottom": null,
      "display": null,
      "flex": null,
      "flex_flow": null,
      "grid_area": null,
      "grid_auto_columns": null,
      "grid_auto_flow": null,
      "grid_auto_rows": null,
      "grid_column": null,
      "grid_gap": null,
      "grid_row": null,
      "grid_template_areas": null,
      "grid_template_columns": null,
      "grid_template_rows": null,
      "height": null,
      "justify_content": null,
      "justify_items": null,
      "left": null,
      "margin": null,
      "max_height": null,
      "max_width": null,
      "min_height": null,
      "min_width": null,
      "object_fit": null,
      "object_position": null,
      "order": null,
      "overflow": null,
      "overflow_x": null,
      "overflow_y": null,
      "padding": null,
      "right": null,
      "top": null,
      "visibility": null,
      "width": null
     }
    },
    "198840fb222a48bf839d522a7b5fd456": {
     "model_module": "@jupyter-widgets/controls",
     "model_name": "DescriptionStyleModel",
     "state": {
      "_model_module": "@jupyter-widgets/controls",
      "_model_module_version": "1.5.0",
      "_model_name": "DescriptionStyleModel",
      "_view_count": null,
      "_view_module": "@jupyter-widgets/base",
      "_view_module_version": "1.2.0",
      "_view_name": "StyleView",
      "description_width": ""
     }
    },
    "1c5f3fd54e0a4b60a2fd3a894a585234": {
     "model_module": "@jupyter-widgets/controls",
     "model_name": "FloatProgressModel",
     "state": {
      "_dom_classes": [],
      "_model_module": "@jupyter-widgets/controls",
      "_model_module_version": "1.5.0",
      "_model_name": "FloatProgressModel",
      "_view_count": null,
      "_view_module": "@jupyter-widgets/controls",
      "_view_module_version": "1.5.0",
      "_view_name": "ProgressView",
      "bar_style": "success",
      "description": "Extraction completed...: 100%",
      "description_tooltip": null,
      "layout": "IPY_MODEL_be3abe63b0e14c0ca29e029597b2c16e",
      "max": 1,
      "min": 0,
      "orientation": "horizontal",
      "style": "IPY_MODEL_08a66908370e4a9e9829e659c3dfecfe",
      "value": 1
     }
    },
    "2259fc0f9e4342cfbc6cd3506e42d8fd": {
     "model_module": "@jupyter-widgets/controls",
     "model_name": "FloatProgressModel",
     "state": {
      "_dom_classes": [],
      "_model_module": "@jupyter-widgets/controls",
      "_model_module_version": "1.5.0",
      "_model_name": "FloatProgressModel",
      "_view_count": null,
      "_view_module": "@jupyter-widgets/controls",
      "_view_module_version": "1.5.0",
      "_view_name": "ProgressView",
      "bar_style": "info",
      "description": "",
      "description_tooltip": null,
      "layout": "IPY_MODEL_8b0d8a4dfea243ab8ae15a4f1f40043a",
      "max": 1,
      "min": 0,
      "orientation": "horizontal",
      "style": "IPY_MODEL_f47fa104bcc445e2b589225b49ecf255",
      "value": 1
     }
    },
    "22db2b8bb9f44c05bad583450e0df5e8": {
     "model_module": "@jupyter-widgets/controls",
     "model_name": "FloatProgressModel",
     "state": {
      "_dom_classes": [],
      "_model_module": "@jupyter-widgets/controls",
      "_model_module_version": "1.5.0",
      "_model_name": "FloatProgressModel",
      "_view_count": null,
      "_view_module": "@jupyter-widgets/controls",
      "_view_module_version": "1.5.0",
      "_view_name": "ProgressView",
      "bar_style": "danger",
      "description": "  0%",
      "description_tooltip": null,
      "layout": "IPY_MODEL_40e11d829e7e4f1f932fc0f20598da96",
      "max": 2000,
      "min": 0,
      "orientation": "horizontal",
      "style": "IPY_MODEL_91dc35fa151649389a4044d5d751c1f5",
      "value": 0
     }
    },
    "29d03013e14c4e7bab6dbe4900d40124": {
     "model_module": "@jupyter-widgets/base",
     "model_name": "LayoutModel",
     "state": {
      "_model_module": "@jupyter-widgets/base",
      "_model_module_version": "1.2.0",
      "_model_name": "LayoutModel",
      "_view_count": null,
      "_view_module": "@jupyter-widgets/base",
      "_view_module_version": "1.2.0",
      "_view_name": "LayoutView",
      "align_content": null,
      "align_items": null,
      "align_self": null,
      "border": null,
      "bottom": null,
      "display": null,
      "flex": null,
      "flex_flow": null,
      "grid_area": null,
      "grid_auto_columns": null,
      "grid_auto_flow": null,
      "grid_auto_rows": null,
      "grid_column": null,
      "grid_gap": null,
      "grid_row": null,
      "grid_template_areas": null,
      "grid_template_columns": null,
      "grid_template_rows": null,
      "height": null,
      "justify_content": null,
      "justify_items": null,
      "left": null,
      "margin": null,
      "max_height": null,
      "max_width": null,
      "min_height": null,
      "min_width": null,
      "object_fit": null,
      "object_position": null,
      "order": null,
      "overflow": null,
      "overflow_x": null,
      "overflow_y": null,
      "padding": null,
      "right": null,
      "top": null,
      "visibility": null,
      "width": null
     }
    },
    "2b7231c91a284e619663268fdde0accd": {
     "model_module": "@jupyter-widgets/controls",
     "model_name": "ProgressStyleModel",
     "state": {
      "_model_module": "@jupyter-widgets/controls",
      "_model_module_version": "1.5.0",
      "_model_name": "ProgressStyleModel",
      "_view_count": null,
      "_view_module": "@jupyter-widgets/base",
      "_view_module_version": "1.2.0",
      "_view_name": "StyleView",
      "bar_color": null,
      "description_width": "initial"
     }
    },
    "3041d6e806fc48e486b2c41473511d3e": {
     "model_module": "@jupyter-widgets/base",
     "model_name": "LayoutModel",
     "state": {
      "_model_module": "@jupyter-widgets/base",
      "_model_module_version": "1.2.0",
      "_model_name": "LayoutModel",
      "_view_count": null,
      "_view_module": "@jupyter-widgets/base",
      "_view_module_version": "1.2.0",
      "_view_name": "LayoutView",
      "align_content": null,
      "align_items": null,
      "align_self": null,
      "border": null,
      "bottom": null,
      "display": null,
      "flex": null,
      "flex_flow": null,
      "grid_area": null,
      "grid_auto_columns": null,
      "grid_auto_flow": null,
      "grid_auto_rows": null,
      "grid_column": null,
      "grid_gap": null,
      "grid_row": null,
      "grid_template_areas": null,
      "grid_template_columns": null,
      "grid_template_rows": null,
      "height": null,
      "justify_content": null,
      "justify_items": null,
      "left": null,
      "margin": null,
      "max_height": null,
      "max_width": null,
      "min_height": null,
      "min_width": null,
      "object_fit": null,
      "object_position": null,
      "order": null,
      "overflow": null,
      "overflow_x": null,
      "overflow_y": null,
      "padding": null,
      "right": null,
      "top": null,
      "visibility": null,
      "width": null
     }
    },
    "32688b6d4a65437086a2ac8de93d6f86": {
     "model_module": "@jupyter-widgets/base",
     "model_name": "LayoutModel",
     "state": {
      "_model_module": "@jupyter-widgets/base",
      "_model_module_version": "1.2.0",
      "_model_name": "LayoutModel",
      "_view_count": null,
      "_view_module": "@jupyter-widgets/base",
      "_view_module_version": "1.2.0",
      "_view_name": "LayoutView",
      "align_content": null,
      "align_items": null,
      "align_self": null,
      "border": null,
      "bottom": null,
      "display": null,
      "flex": null,
      "flex_flow": null,
      "grid_area": null,
      "grid_auto_columns": null,
      "grid_auto_flow": null,
      "grid_auto_rows": null,
      "grid_column": null,
      "grid_gap": null,
      "grid_row": null,
      "grid_template_areas": null,
      "grid_template_columns": null,
      "grid_template_rows": null,
      "height": null,
      "justify_content": null,
      "justify_items": null,
      "left": null,
      "margin": null,
      "max_height": null,
      "max_width": null,
      "min_height": null,
      "min_width": null,
      "object_fit": null,
      "object_position": null,
      "order": null,
      "overflow": null,
      "overflow_x": null,
      "overflow_y": null,
      "padding": null,
      "right": null,
      "top": null,
      "visibility": null,
      "width": null
     }
    },
    "32dc6200c0bd489cb6093abd16a28638": {
     "model_module": "@jupyter-widgets/base",
     "model_name": "LayoutModel",
     "state": {
      "_model_module": "@jupyter-widgets/base",
      "_model_module_version": "1.2.0",
      "_model_name": "LayoutModel",
      "_view_count": null,
      "_view_module": "@jupyter-widgets/base",
      "_view_module_version": "1.2.0",
      "_view_name": "LayoutView",
      "align_content": null,
      "align_items": null,
      "align_self": null,
      "border": null,
      "bottom": null,
      "display": null,
      "flex": null,
      "flex_flow": null,
      "grid_area": null,
      "grid_auto_columns": null,
      "grid_auto_flow": null,
      "grid_auto_rows": null,
      "grid_column": null,
      "grid_gap": null,
      "grid_row": null,
      "grid_template_areas": null,
      "grid_template_columns": null,
      "grid_template_rows": null,
      "height": null,
      "justify_content": null,
      "justify_items": null,
      "left": null,
      "margin": null,
      "max_height": null,
      "max_width": null,
      "min_height": null,
      "min_width": null,
      "object_fit": null,
      "object_position": null,
      "order": null,
      "overflow": null,
      "overflow_x": null,
      "overflow_y": null,
      "padding": null,
      "right": null,
      "top": null,
      "visibility": null,
      "width": null
     }
    },
    "37a28523718e4091bfbe18210a6c69bd": {
     "model_module": "@jupyter-widgets/controls",
     "model_name": "HBoxModel",
     "state": {
      "_dom_classes": [],
      "_model_module": "@jupyter-widgets/controls",
      "_model_module_version": "1.5.0",
      "_model_name": "HBoxModel",
      "_view_count": null,
      "_view_module": "@jupyter-widgets/controls",
      "_view_module_version": "1.5.0",
      "_view_name": "HBoxView",
      "box_style": "",
      "children": [
       "IPY_MODEL_aa6ebc9d1ffd4f55808129a04c8fe792",
       "IPY_MODEL_f10ac22e324f4a1da029c235bb22a607"
      ],
      "layout": "IPY_MODEL_12aca2274b02484dac42718877443745"
     }
    },
    "38c199f7045445298608ac774b6733bb": {
     "model_module": "@jupyter-widgets/base",
     "model_name": "LayoutModel",
     "state": {
      "_model_module": "@jupyter-widgets/base",
      "_model_module_version": "1.2.0",
      "_model_name": "LayoutModel",
      "_view_count": null,
      "_view_module": "@jupyter-widgets/base",
      "_view_module_version": "1.2.0",
      "_view_name": "LayoutView",
      "align_content": null,
      "align_items": null,
      "align_self": null,
      "border": null,
      "bottom": null,
      "display": null,
      "flex": null,
      "flex_flow": null,
      "grid_area": null,
      "grid_auto_columns": null,
      "grid_auto_flow": null,
      "grid_auto_rows": null,
      "grid_column": null,
      "grid_gap": null,
      "grid_row": null,
      "grid_template_areas": null,
      "grid_template_columns": null,
      "grid_template_rows": null,
      "height": null,
      "justify_content": null,
      "justify_items": null,
      "left": null,
      "margin": null,
      "max_height": null,
      "max_width": null,
      "min_height": null,
      "min_width": null,
      "object_fit": null,
      "object_position": null,
      "order": null,
      "overflow": null,
      "overflow_x": null,
      "overflow_y": null,
      "padding": null,
      "right": null,
      "top": null,
      "visibility": null,
      "width": null
     }
    },
    "40e11d829e7e4f1f932fc0f20598da96": {
     "model_module": "@jupyter-widgets/base",
     "model_name": "LayoutModel",
     "state": {
      "_model_module": "@jupyter-widgets/base",
      "_model_module_version": "1.2.0",
      "_model_name": "LayoutModel",
      "_view_count": null,
      "_view_module": "@jupyter-widgets/base",
      "_view_module_version": "1.2.0",
      "_view_name": "LayoutView",
      "align_content": null,
      "align_items": null,
      "align_self": null,
      "border": null,
      "bottom": null,
      "display": null,
      "flex": null,
      "flex_flow": null,
      "grid_area": null,
      "grid_auto_columns": null,
      "grid_auto_flow": null,
      "grid_auto_rows": null,
      "grid_column": null,
      "grid_gap": null,
      "grid_row": null,
      "grid_template_areas": null,
      "grid_template_columns": null,
      "grid_template_rows": null,
      "height": null,
      "justify_content": null,
      "justify_items": null,
      "left": null,
      "margin": null,
      "max_height": null,
      "max_width": null,
      "min_height": null,
      "min_width": null,
      "object_fit": null,
      "object_position": null,
      "order": null,
      "overflow": null,
      "overflow_x": null,
      "overflow_y": null,
      "padding": null,
      "right": null,
      "top": null,
      "visibility": null,
      "width": null
     }
    },
    "429516a720e245748df246036f8d3ca8": {
     "model_module": "@jupyter-widgets/controls",
     "model_name": "FloatProgressModel",
     "state": {
      "_dom_classes": [],
      "_model_module": "@jupyter-widgets/controls",
      "_model_module_version": "1.5.0",
      "_model_name": "FloatProgressModel",
      "_view_count": null,
      "_view_module": "@jupyter-widgets/controls",
      "_view_module_version": "1.5.0",
      "_view_name": "ProgressView",
      "bar_style": "danger",
      "description": " 70%",
      "description_tooltip": null,
      "layout": "IPY_MODEL_a215fcb2d55a4c5ea15122d2bdda3802",
      "max": 49175,
      "min": 0,
      "orientation": "horizontal",
      "style": "IPY_MODEL_95bd8ca8a8f046f3875a94fd249e56d0",
      "value": 34661
     }
    },
    "442bd22acd04411aa9edda3b39f3fef9": {
     "model_module": "@jupyter-widgets/controls",
     "model_name": "HBoxModel",
     "state": {
      "_dom_classes": [],
      "_model_module": "@jupyter-widgets/controls",
      "_model_module_version": "1.5.0",
      "_model_name": "HBoxModel",
      "_view_count": null,
      "_view_module": "@jupyter-widgets/controls",
      "_view_module_version": "1.5.0",
      "_view_name": "HBoxView",
      "box_style": "",
      "children": [
       "IPY_MODEL_7bfc0bb8e3f34817a2e413518584b96c",
       "IPY_MODEL_4c32d21376714e50b578ce6bc3c39b1a"
      ],
      "layout": "IPY_MODEL_32dc6200c0bd489cb6093abd16a28638"
     }
    },
    "4b7bb6548a24481c828749dab7f0f092": {
     "model_module": "@jupyter-widgets/controls",
     "model_name": "HBoxModel",
     "state": {
      "_dom_classes": [],
      "_model_module": "@jupyter-widgets/controls",
      "_model_module_version": "1.5.0",
      "_model_name": "HBoxModel",
      "_view_count": null,
      "_view_module": "@jupyter-widgets/controls",
      "_view_module_version": "1.5.0",
      "_view_name": "HBoxView",
      "box_style": "",
      "children": [
       "IPY_MODEL_5d6fe84f21614e098f8cee99e0b9c788",
       "IPY_MODEL_92cbb56ee51d45f3b92e606a9788a9a1"
      ],
      "layout": "IPY_MODEL_32688b6d4a65437086a2ac8de93d6f86"
     }
    },
    "4c32d21376714e50b578ce6bc3c39b1a": {
     "model_module": "@jupyter-widgets/controls",
     "model_name": "HTMLModel",
     "state": {
      "_dom_classes": [],
      "_model_module": "@jupyter-widgets/controls",
      "_model_module_version": "1.5.0",
      "_model_name": "HTMLModel",
      "_view_count": null,
      "_view_module": "@jupyter-widgets/controls",
      "_view_module_version": "1.5.0",
      "_view_name": "HTMLView",
      "description": "",
      "description_tooltip": null,
      "layout": "IPY_MODEL_29d03013e14c4e7bab6dbe4900d40124",
      "placeholder": "​",
      "style": "IPY_MODEL_eb4fff7180874f3daacaf68c58e8ef48",
      "value": " 28/28 [00:02&lt;00:00, 11.41 MiB/s]"
     }
    },
    "4cf09415d9aa4a83bb26b7667d9738b8": {
     "model_module": "@jupyter-widgets/controls",
     "model_name": "FloatProgressModel",
     "state": {
      "_dom_classes": [],
      "_model_module": "@jupyter-widgets/controls",
      "_model_module_version": "1.5.0",
      "_model_name": "FloatProgressModel",
      "_view_count": null,
      "_view_module": "@jupyter-widgets/controls",
      "_view_module_version": "1.5.0",
      "_view_name": "ProgressView",
      "bar_style": "info",
      "description": "",
      "description_tooltip": null,
      "layout": "IPY_MODEL_9e68a42eab0e490ebf10f24c936d64d1",
      "max": 1,
      "min": 0,
      "orientation": "horizontal",
      "style": "IPY_MODEL_677e13ed4a5243f699fc24e0705ba848",
      "value": 1
     }
    },
    "4fbc82697a164908afdaff0fd8f30baa": {
     "model_module": "@jupyter-widgets/base",
     "model_name": "LayoutModel",
     "state": {
      "_model_module": "@jupyter-widgets/base",
      "_model_module_version": "1.2.0",
      "_model_name": "LayoutModel",
      "_view_count": null,
      "_view_module": "@jupyter-widgets/base",
      "_view_module_version": "1.2.0",
      "_view_name": "LayoutView",
      "align_content": null,
      "align_items": null,
      "align_self": null,
      "border": null,
      "bottom": null,
      "display": null,
      "flex": null,
      "flex_flow": null,
      "grid_area": null,
      "grid_auto_columns": null,
      "grid_auto_flow": null,
      "grid_auto_rows": null,
      "grid_column": null,
      "grid_gap": null,
      "grid_row": null,
      "grid_template_areas": null,
      "grid_template_columns": null,
      "grid_template_rows": null,
      "height": null,
      "justify_content": null,
      "justify_items": null,
      "left": null,
      "margin": null,
      "max_height": null,
      "max_width": null,
      "min_height": null,
      "min_width": null,
      "object_fit": null,
      "object_position": null,
      "order": null,
      "overflow": null,
      "overflow_x": null,
      "overflow_y": null,
      "padding": null,
      "right": null,
      "top": null,
      "visibility": null,
      "width": null
     }
    },
    "5918e479bb9a4b2d87582111411ff84f": {
     "model_module": "@jupyter-widgets/controls",
     "model_name": "HBoxModel",
     "state": {
      "_dom_classes": [],
      "_model_module": "@jupyter-widgets/controls",
      "_model_module_version": "1.5.0",
      "_model_name": "HBoxModel",
      "_view_count": null,
      "_view_module": "@jupyter-widgets/controls",
      "_view_module_version": "1.5.0",
      "_view_name": "HBoxView",
      "box_style": "",
      "children": [
       "IPY_MODEL_22db2b8bb9f44c05bad583450e0df5e8",
       "IPY_MODEL_931a990df5e249cf80799ee4c8921448"
      ],
      "layout": "IPY_MODEL_fba959fe2c9f41f5819aed8ee0265bb4"
     }
    },
    "5b2c8a0adcab402c878fc6fae4e18b8b": {
     "model_module": "@jupyter-widgets/controls",
     "model_name": "HBoxModel",
     "state": {
      "_dom_classes": [],
      "_model_module": "@jupyter-widgets/controls",
      "_model_module_version": "1.5.0",
      "_model_name": "HBoxModel",
      "_view_count": null,
      "_view_module": "@jupyter-widgets/controls",
      "_view_module_version": "1.5.0",
      "_view_name": "HBoxView",
      "box_style": "",
      "children": [
       "IPY_MODEL_10447e58a66a4b7da50eeef56672f84c",
       "IPY_MODEL_5d141dd50ace4004b0ed4ebb69ff1025"
      ],
      "layout": "IPY_MODEL_ae2600fbac2742e78a2539774779677f"
     }
    },
    "5d141dd50ace4004b0ed4ebb69ff1025": {
     "model_module": "@jupyter-widgets/controls",
     "model_name": "HTMLModel",
     "state": {
      "_dom_classes": [],
      "_model_module": "@jupyter-widgets/controls",
      "_model_module_version": "1.5.0",
      "_model_name": "HTMLModel",
      "_view_count": null,
      "_view_module": "@jupyter-widgets/controls",
      "_view_module_version": "1.5.0",
      "_view_name": "HTMLView",
      "description": "",
      "description_tooltip": null,
      "layout": "IPY_MODEL_e6e25ce6976c49c4b720d196bb1c9af7",
      "placeholder": "​",
      "style": "IPY_MODEL_ea7063709d924cc1985f17a1242b584c",
      "value": " 49175/0 [00:19&lt;00:00, 2602.18 examples/s]"
     }
    },
    "5d6fe84f21614e098f8cee99e0b9c788": {
     "model_module": "@jupyter-widgets/controls",
     "model_name": "FloatProgressModel",
     "state": {
      "_dom_classes": [],
      "_model_module": "@jupyter-widgets/controls",
      "_model_module_version": "1.5.0",
      "_model_name": "FloatProgressModel",
      "_view_count": null,
      "_view_module": "@jupyter-widgets/controls",
      "_view_module_version": "1.5.0",
      "_view_name": "ProgressView",
      "bar_style": "danger",
      "description": "  0%",
      "description_tooltip": null,
      "layout": "IPY_MODEL_74a2d09eb23a468f91a2ed477c0e2368",
      "max": 2000,
      "min": 0,
      "orientation": "horizontal",
      "style": "IPY_MODEL_c1b0d79f6f8a48869076ea911ec4a61d",
      "value": 0
     }
    },
    "601b196156344c538dfd90d136e8a524": {
     "model_module": "@jupyter-widgets/controls",
     "model_name": "DescriptionStyleModel",
     "state": {
      "_model_module": "@jupyter-widgets/controls",
      "_model_module_version": "1.5.0",
      "_model_name": "DescriptionStyleModel",
      "_view_count": null,
      "_view_module": "@jupyter-widgets/base",
      "_view_module_version": "1.2.0",
      "_view_name": "StyleView",
      "description_width": ""
     }
    },
    "63b5ec2ec691409bac76d9e5ea8f3991": {
     "model_module": "@jupyter-widgets/base",
     "model_name": "LayoutModel",
     "state": {
      "_model_module": "@jupyter-widgets/base",
      "_model_module_version": "1.2.0",
      "_model_name": "LayoutModel",
      "_view_count": null,
      "_view_module": "@jupyter-widgets/base",
      "_view_module_version": "1.2.0",
      "_view_name": "LayoutView",
      "align_content": null,
      "align_items": null,
      "align_self": null,
      "border": null,
      "bottom": null,
      "display": null,
      "flex": null,
      "flex_flow": null,
      "grid_area": null,
      "grid_auto_columns": null,
      "grid_auto_flow": null,
      "grid_auto_rows": null,
      "grid_column": null,
      "grid_gap": null,
      "grid_row": null,
      "grid_template_areas": null,
      "grid_template_columns": null,
      "grid_template_rows": null,
      "height": null,
      "justify_content": null,
      "justify_items": null,
      "left": null,
      "margin": null,
      "max_height": null,
      "max_width": null,
      "min_height": null,
      "min_width": null,
      "object_fit": null,
      "object_position": null,
      "order": null,
      "overflow": null,
      "overflow_x": null,
      "overflow_y": null,
      "padding": null,
      "right": null,
      "top": null,
      "visibility": null,
      "width": null
     }
    },
    "677e13ed4a5243f699fc24e0705ba848": {
     "model_module": "@jupyter-widgets/controls",
     "model_name": "ProgressStyleModel",
     "state": {
      "_model_module": "@jupyter-widgets/controls",
      "_model_module_version": "1.5.0",
      "_model_name": "ProgressStyleModel",
      "_view_count": null,
      "_view_module": "@jupyter-widgets/base",
      "_view_module_version": "1.2.0",
      "_view_name": "StyleView",
      "bar_color": null,
      "description_width": "initial"
     }
    },
    "74a2d09eb23a468f91a2ed477c0e2368": {
     "model_module": "@jupyter-widgets/base",
     "model_name": "LayoutModel",
     "state": {
      "_model_module": "@jupyter-widgets/base",
      "_model_module_version": "1.2.0",
      "_model_name": "LayoutModel",
      "_view_count": null,
      "_view_module": "@jupyter-widgets/base",
      "_view_module_version": "1.2.0",
      "_view_name": "LayoutView",
      "align_content": null,
      "align_items": null,
      "align_self": null,
      "border": null,
      "bottom": null,
      "display": null,
      "flex": null,
      "flex_flow": null,
      "grid_area": null,
      "grid_auto_columns": null,
      "grid_auto_flow": null,
      "grid_auto_rows": null,
      "grid_column": null,
      "grid_gap": null,
      "grid_row": null,
      "grid_template_areas": null,
      "grid_template_columns": null,
      "grid_template_rows": null,
      "height": null,
      "justify_content": null,
      "justify_items": null,
      "left": null,
      "margin": null,
      "max_height": null,
      "max_width": null,
      "min_height": null,
      "min_width": null,
      "object_fit": null,
      "object_position": null,
      "order": null,
      "overflow": null,
      "overflow_x": null,
      "overflow_y": null,
      "padding": null,
      "right": null,
      "top": null,
      "visibility": null,
      "width": null
     }
    },
    "7746481637264001b311e09767bf2c97": {
     "model_module": "@jupyter-widgets/controls",
     "model_name": "ProgressStyleModel",
     "state": {
      "_model_module": "@jupyter-widgets/controls",
      "_model_module_version": "1.5.0",
      "_model_name": "ProgressStyleModel",
      "_view_count": null,
      "_view_module": "@jupyter-widgets/base",
      "_view_module_version": "1.2.0",
      "_view_name": "StyleView",
      "bar_color": null,
      "description_width": "initial"
     }
    },
    "7bfc0bb8e3f34817a2e413518584b96c": {
     "model_module": "@jupyter-widgets/controls",
     "model_name": "FloatProgressModel",
     "state": {
      "_dom_classes": [],
      "_model_module": "@jupyter-widgets/controls",
      "_model_module_version": "1.5.0",
      "_model_name": "FloatProgressModel",
      "_view_count": null,
      "_view_module": "@jupyter-widgets/controls",
      "_view_module_version": "1.5.0",
      "_view_name": "ProgressView",
      "bar_style": "success",
      "description": "Dl Size...: 100%",
      "description_tooltip": null,
      "layout": "IPY_MODEL_e92f688bf3434ee7b2caeffd462590d7",
      "max": 1,
      "min": 0,
      "orientation": "horizontal",
      "style": "IPY_MODEL_1033124fd34b4ec7b92b59697fd2c5ad",
      "value": 1
     }
    },
    "824af5b5a91946bc960b9fb23cc34c63": {
     "model_module": "@jupyter-widgets/controls",
     "model_name": "HTMLModel",
     "state": {
      "_dom_classes": [],
      "_model_module": "@jupyter-widgets/controls",
      "_model_module_version": "1.5.0",
      "_model_name": "HTMLModel",
      "_view_count": null,
      "_view_module": "@jupyter-widgets/controls",
      "_view_module_version": "1.5.0",
      "_view_name": "HTMLView",
      "description": "",
      "description_tooltip": null,
      "layout": "IPY_MODEL_a02e9127565e4738bb2a212e53a6824c",
      "placeholder": "​",
      "style": "IPY_MODEL_601b196156344c538dfd90d136e8a524",
      "value": " 2000/0 [00:00&lt;00:00, 2015.04 examples/s]"
     }
    },
    "848336de7e2f41989349899e3ea5851d": {
     "model_module": "@jupyter-widgets/base",
     "model_name": "LayoutModel",
     "state": {
      "_model_module": "@jupyter-widgets/base",
      "_model_module_version": "1.2.0",
      "_model_name": "LayoutModel",
      "_view_count": null,
      "_view_module": "@jupyter-widgets/base",
      "_view_module_version": "1.2.0",
      "_view_name": "LayoutView",
      "align_content": null,
      "align_items": null,
      "align_self": null,
      "border": null,
      "bottom": null,
      "display": null,
      "flex": null,
      "flex_flow": null,
      "grid_area": null,
      "grid_auto_columns": null,
      "grid_auto_flow": null,
      "grid_auto_rows": null,
      "grid_column": null,
      "grid_gap": null,
      "grid_row": null,
      "grid_template_areas": null,
      "grid_template_columns": null,
      "grid_template_rows": null,
      "height": null,
      "justify_content": null,
      "justify_items": null,
      "left": null,
      "margin": null,
      "max_height": null,
      "max_width": null,
      "min_height": null,
      "min_width": null,
      "object_fit": null,
      "object_position": null,
      "order": null,
      "overflow": null,
      "overflow_x": null,
      "overflow_y": null,
      "padding": null,
      "right": null,
      "top": null,
      "visibility": null,
      "width": null
     }
    },
    "8b0d8a4dfea243ab8ae15a4f1f40043a": {
     "model_module": "@jupyter-widgets/base",
     "model_name": "LayoutModel",
     "state": {
      "_model_module": "@jupyter-widgets/base",
      "_model_module_version": "1.2.0",
      "_model_name": "LayoutModel",
      "_view_count": null,
      "_view_module": "@jupyter-widgets/base",
      "_view_module_version": "1.2.0",
      "_view_name": "LayoutView",
      "align_content": null,
      "align_items": null,
      "align_self": null,
      "border": null,
      "bottom": null,
      "display": null,
      "flex": null,
      "flex_flow": null,
      "grid_area": null,
      "grid_auto_columns": null,
      "grid_auto_flow": null,
      "grid_auto_rows": null,
      "grid_column": null,
      "grid_gap": null,
      "grid_row": null,
      "grid_template_areas": null,
      "grid_template_columns": null,
      "grid_template_rows": null,
      "height": null,
      "justify_content": null,
      "justify_items": null,
      "left": null,
      "margin": null,
      "max_height": null,
      "max_width": null,
      "min_height": null,
      "min_width": null,
      "object_fit": null,
      "object_position": null,
      "order": null,
      "overflow": null,
      "overflow_x": null,
      "overflow_y": null,
      "padding": null,
      "right": null,
      "top": null,
      "visibility": null,
      "width": null
     }
    },
    "8ce7e8e95774448e9422828d22ae787d": {
     "model_module": "@jupyter-widgets/base",
     "model_name": "LayoutModel",
     "state": {
      "_model_module": "@jupyter-widgets/base",
      "_model_module_version": "1.2.0",
      "_model_name": "LayoutModel",
      "_view_count": null,
      "_view_module": "@jupyter-widgets/base",
      "_view_module_version": "1.2.0",
      "_view_name": "LayoutView",
      "align_content": null,
      "align_items": null,
      "align_self": null,
      "border": null,
      "bottom": null,
      "display": null,
      "flex": null,
      "flex_flow": null,
      "grid_area": null,
      "grid_auto_columns": null,
      "grid_auto_flow": null,
      "grid_auto_rows": null,
      "grid_column": null,
      "grid_gap": null,
      "grid_row": null,
      "grid_template_areas": null,
      "grid_template_columns": null,
      "grid_template_rows": null,
      "height": null,
      "justify_content": null,
      "justify_items": null,
      "left": null,
      "margin": null,
      "max_height": null,
      "max_width": null,
      "min_height": null,
      "min_width": null,
      "object_fit": null,
      "object_position": null,
      "order": null,
      "overflow": null,
      "overflow_x": null,
      "overflow_y": null,
      "padding": null,
      "right": null,
      "top": null,
      "visibility": null,
      "width": null
     }
    },
    "91dc35fa151649389a4044d5d751c1f5": {
     "model_module": "@jupyter-widgets/controls",
     "model_name": "ProgressStyleModel",
     "state": {
      "_model_module": "@jupyter-widgets/controls",
      "_model_module_version": "1.5.0",
      "_model_name": "ProgressStyleModel",
      "_view_count": null,
      "_view_module": "@jupyter-widgets/base",
      "_view_module_version": "1.2.0",
      "_view_name": "StyleView",
      "bar_color": null,
      "description_width": "initial"
     }
    },
    "92cbb56ee51d45f3b92e606a9788a9a1": {
     "model_module": "@jupyter-widgets/controls",
     "model_name": "HTMLModel",
     "state": {
      "_dom_classes": [],
      "_model_module": "@jupyter-widgets/controls",
      "_model_module_version": "1.5.0",
      "_model_name": "HTMLModel",
      "_view_count": null,
      "_view_module": "@jupyter-widgets/controls",
      "_view_module_version": "1.5.0",
      "_view_name": "HTMLView",
      "description": "",
      "description_tooltip": null,
      "layout": "IPY_MODEL_38c199f7045445298608ac774b6733bb",
      "placeholder": "​",
      "style": "IPY_MODEL_198840fb222a48bf839d522a7b5fd456",
      "value": " 0/2000 [00:00&lt;?, ? examples/s]"
     }
    },
    "931a990df5e249cf80799ee4c8921448": {
     "model_module": "@jupyter-widgets/controls",
     "model_name": "HTMLModel",
     "state": {
      "_dom_classes": [],
      "_model_module": "@jupyter-widgets/controls",
      "_model_module_version": "1.5.0",
      "_model_name": "HTMLModel",
      "_view_count": null,
      "_view_module": "@jupyter-widgets/controls",
      "_view_module_version": "1.5.0",
      "_view_name": "HTMLView",
      "description": "",
      "description_tooltip": null,
      "layout": "IPY_MODEL_3041d6e806fc48e486b2c41473511d3e",
      "placeholder": "​",
      "style": "IPY_MODEL_b383cc698602435aa0ec4b6893b506e4",
      "value": " 0/2000 [00:00&lt;?, ? examples/s]"
     }
    },
    "9457de4b69784c97bb39a9e7a9513f4d": {
     "model_module": "@jupyter-widgets/controls",
     "model_name": "HTMLModel",
     "state": {
      "_dom_classes": [],
      "_model_module": "@jupyter-widgets/controls",
      "_model_module_version": "1.5.0",
      "_model_name": "HTMLModel",
      "_view_count": null,
      "_view_module": "@jupyter-widgets/controls",
      "_view_module_version": "1.5.0",
      "_view_name": "HTMLView",
      "description": "",
      "description_tooltip": null,
      "layout": "IPY_MODEL_1605000462414525962e3aa864189cc3",
      "placeholder": "​",
      "style": "IPY_MODEL_131f320f449e46b1875c87c1ae1db3ff",
      "value": " 2000/0 [00:00&lt;00:00, 2261.85 examples/s]"
     }
    },
    "95bd8ca8a8f046f3875a94fd249e56d0": {
     "model_module": "@jupyter-widgets/controls",
     "model_name": "ProgressStyleModel",
     "state": {
      "_model_module": "@jupyter-widgets/controls",
      "_model_module_version": "1.5.0",
      "_model_name": "ProgressStyleModel",
      "_view_count": null,
      "_view_module": "@jupyter-widgets/base",
      "_view_module_version": "1.2.0",
      "_view_name": "StyleView",
      "bar_color": null,
      "description_width": "initial"
     }
    },
    "9e68a42eab0e490ebf10f24c936d64d1": {
     "model_module": "@jupyter-widgets/base",
     "model_name": "LayoutModel",
     "state": {
      "_model_module": "@jupyter-widgets/base",
      "_model_module_version": "1.2.0",
      "_model_name": "LayoutModel",
      "_view_count": null,
      "_view_module": "@jupyter-widgets/base",
      "_view_module_version": "1.2.0",
      "_view_name": "LayoutView",
      "align_content": null,
      "align_items": null,
      "align_self": null,
      "border": null,
      "bottom": null,
      "display": null,
      "flex": null,
      "flex_flow": null,
      "grid_area": null,
      "grid_auto_columns": null,
      "grid_auto_flow": null,
      "grid_auto_rows": null,
      "grid_column": null,
      "grid_gap": null,
      "grid_row": null,
      "grid_template_areas": null,
      "grid_template_columns": null,
      "grid_template_rows": null,
      "height": null,
      "justify_content": null,
      "justify_items": null,
      "left": null,
      "margin": null,
      "max_height": null,
      "max_width": null,
      "min_height": null,
      "min_width": null,
      "object_fit": null,
      "object_position": null,
      "order": null,
      "overflow": null,
      "overflow_x": null,
      "overflow_y": null,
      "padding": null,
      "right": null,
      "top": null,
      "visibility": null,
      "width": null
     }
    },
    "a02e9127565e4738bb2a212e53a6824c": {
     "model_module": "@jupyter-widgets/base",
     "model_name": "LayoutModel",
     "state": {
      "_model_module": "@jupyter-widgets/base",
      "_model_module_version": "1.2.0",
      "_model_name": "LayoutModel",
      "_view_count": null,
      "_view_module": "@jupyter-widgets/base",
      "_view_module_version": "1.2.0",
      "_view_name": "LayoutView",
      "align_content": null,
      "align_items": null,
      "align_self": null,
      "border": null,
      "bottom": null,
      "display": null,
      "flex": null,
      "flex_flow": null,
      "grid_area": null,
      "grid_auto_columns": null,
      "grid_auto_flow": null,
      "grid_auto_rows": null,
      "grid_column": null,
      "grid_gap": null,
      "grid_row": null,
      "grid_template_areas": null,
      "grid_template_columns": null,
      "grid_template_rows": null,
      "height": null,
      "justify_content": null,
      "justify_items": null,
      "left": null,
      "margin": null,
      "max_height": null,
      "max_width": null,
      "min_height": null,
      "min_width": null,
      "object_fit": null,
      "object_position": null,
      "order": null,
      "overflow": null,
      "overflow_x": null,
      "overflow_y": null,
      "padding": null,
      "right": null,
      "top": null,
      "visibility": null,
      "width": null
     }
    },
    "a215fcb2d55a4c5ea15122d2bdda3802": {
     "model_module": "@jupyter-widgets/base",
     "model_name": "LayoutModel",
     "state": {
      "_model_module": "@jupyter-widgets/base",
      "_model_module_version": "1.2.0",
      "_model_name": "LayoutModel",
      "_view_count": null,
      "_view_module": "@jupyter-widgets/base",
      "_view_module_version": "1.2.0",
      "_view_name": "LayoutView",
      "align_content": null,
      "align_items": null,
      "align_self": null,
      "border": null,
      "bottom": null,
      "display": null,
      "flex": null,
      "flex_flow": null,
      "grid_area": null,
      "grid_auto_columns": null,
      "grid_auto_flow": null,
      "grid_auto_rows": null,
      "grid_column": null,
      "grid_gap": null,
      "grid_row": null,
      "grid_template_areas": null,
      "grid_template_columns": null,
      "grid_template_rows": null,
      "height": null,
      "justify_content": null,
      "justify_items": null,
      "left": null,
      "margin": null,
      "max_height": null,
      "max_width": null,
      "min_height": null,
      "min_width": null,
      "object_fit": null,
      "object_position": null,
      "order": null,
      "overflow": null,
      "overflow_x": null,
      "overflow_y": null,
      "padding": null,
      "right": null,
      "top": null,
      "visibility": null,
      "width": null
     }
    },
    "a2df14b4639a420eb75549077c88f75e": {
     "model_module": "@jupyter-widgets/controls",
     "model_name": "DescriptionStyleModel",
     "state": {
      "_model_module": "@jupyter-widgets/controls",
      "_model_module_version": "1.5.0",
      "_model_name": "DescriptionStyleModel",
      "_view_count": null,
      "_view_module": "@jupyter-widgets/base",
      "_view_module_version": "1.2.0",
      "_view_name": "StyleView",
      "description_width": ""
     }
    },
    "a6d2f5a7674f45a7a393beee636025cb": {
     "model_module": "@jupyter-widgets/base",
     "model_name": "LayoutModel",
     "state": {
      "_model_module": "@jupyter-widgets/base",
      "_model_module_version": "1.2.0",
      "_model_name": "LayoutModel",
      "_view_count": null,
      "_view_module": "@jupyter-widgets/base",
      "_view_module_version": "1.2.0",
      "_view_name": "LayoutView",
      "align_content": null,
      "align_items": null,
      "align_self": null,
      "border": null,
      "bottom": null,
      "display": null,
      "flex": null,
      "flex_flow": null,
      "grid_area": null,
      "grid_auto_columns": null,
      "grid_auto_flow": null,
      "grid_auto_rows": null,
      "grid_column": null,
      "grid_gap": null,
      "grid_row": null,
      "grid_template_areas": null,
      "grid_template_columns": null,
      "grid_template_rows": null,
      "height": null,
      "justify_content": null,
      "justify_items": null,
      "left": null,
      "margin": null,
      "max_height": null,
      "max_width": null,
      "min_height": null,
      "min_width": null,
      "object_fit": null,
      "object_position": null,
      "order": null,
      "overflow": null,
      "overflow_x": null,
      "overflow_y": null,
      "padding": null,
      "right": null,
      "top": null,
      "visibility": null,
      "width": null
     }
    },
    "aa6ebc9d1ffd4f55808129a04c8fe792": {
     "model_module": "@jupyter-widgets/controls",
     "model_name": "FloatProgressModel",
     "state": {
      "_dom_classes": [],
      "_model_module": "@jupyter-widgets/controls",
      "_model_module_version": "1.5.0",
      "_model_name": "FloatProgressModel",
      "_view_count": null,
      "_view_module": "@jupyter-widgets/controls",
      "_view_module_version": "1.5.0",
      "_view_name": "ProgressView",
      "bar_style": "success",
      "description": "Dl Completed...: 100%",
      "description_tooltip": null,
      "layout": "IPY_MODEL_be4a681e8c33431b8de0a90ad79757ea",
      "max": 1,
      "min": 0,
      "orientation": "horizontal",
      "style": "IPY_MODEL_7746481637264001b311e09767bf2c97",
      "value": 1
     }
    },
    "ae2600fbac2742e78a2539774779677f": {
     "model_module": "@jupyter-widgets/base",
     "model_name": "LayoutModel",
     "state": {
      "_model_module": "@jupyter-widgets/base",
      "_model_module_version": "1.2.0",
      "_model_name": "LayoutModel",
      "_view_count": null,
      "_view_module": "@jupyter-widgets/base",
      "_view_module_version": "1.2.0",
      "_view_name": "LayoutView",
      "align_content": null,
      "align_items": null,
      "align_self": null,
      "border": null,
      "bottom": null,
      "display": null,
      "flex": null,
      "flex_flow": null,
      "grid_area": null,
      "grid_auto_columns": null,
      "grid_auto_flow": null,
      "grid_auto_rows": null,
      "grid_column": null,
      "grid_gap": null,
      "grid_row": null,
      "grid_template_areas": null,
      "grid_template_columns": null,
      "grid_template_rows": null,
      "height": null,
      "justify_content": null,
      "justify_items": null,
      "left": null,
      "margin": null,
      "max_height": null,
      "max_width": null,
      "min_height": null,
      "min_width": null,
      "object_fit": null,
      "object_position": null,
      "order": null,
      "overflow": null,
      "overflow_x": null,
      "overflow_y": null,
      "padding": null,
      "right": null,
      "top": null,
      "visibility": null,
      "width": null
     }
    },
    "b383cc698602435aa0ec4b6893b506e4": {
     "model_module": "@jupyter-widgets/controls",
     "model_name": "DescriptionStyleModel",
     "state": {
      "_model_module": "@jupyter-widgets/controls",
      "_model_module_version": "1.5.0",
      "_model_name": "DescriptionStyleModel",
      "_view_count": null,
      "_view_module": "@jupyter-widgets/base",
      "_view_module_version": "1.2.0",
      "_view_name": "StyleView",
      "description_width": ""
     }
    },
    "b6dbfc8b28e5443587698605a3004300": {
     "model_module": "@jupyter-widgets/controls",
     "model_name": "DescriptionStyleModel",
     "state": {
      "_model_module": "@jupyter-widgets/controls",
      "_model_module_version": "1.5.0",
      "_model_name": "DescriptionStyleModel",
      "_view_count": null,
      "_view_module": "@jupyter-widgets/base",
      "_view_module_version": "1.2.0",
      "_view_name": "StyleView",
      "description_width": ""
     }
    },
    "baf9670b0f524ba886384ee2c5627838": {
     "model_module": "@jupyter-widgets/controls",
     "model_name": "HBoxModel",
     "state": {
      "_dom_classes": [],
      "_model_module": "@jupyter-widgets/controls",
      "_model_module_version": "1.5.0",
      "_model_name": "HBoxModel",
      "_view_count": null,
      "_view_module": "@jupyter-widgets/controls",
      "_view_module_version": "1.5.0",
      "_view_name": "HBoxView",
      "box_style": "",
      "children": [
       "IPY_MODEL_4cf09415d9aa4a83bb26b7667d9738b8",
       "IPY_MODEL_824af5b5a91946bc960b9fb23cc34c63"
      ],
      "layout": "IPY_MODEL_f4c83ba128854cffbe04730d93ea17b3"
     }
    },
    "be3abe63b0e14c0ca29e029597b2c16e": {
     "model_module": "@jupyter-widgets/base",
     "model_name": "LayoutModel",
     "state": {
      "_model_module": "@jupyter-widgets/base",
      "_model_module_version": "1.2.0",
      "_model_name": "LayoutModel",
      "_view_count": null,
      "_view_module": "@jupyter-widgets/base",
      "_view_module_version": "1.2.0",
      "_view_name": "LayoutView",
      "align_content": null,
      "align_items": null,
      "align_self": null,
      "border": null,
      "bottom": null,
      "display": null,
      "flex": null,
      "flex_flow": null,
      "grid_area": null,
      "grid_auto_columns": null,
      "grid_auto_flow": null,
      "grid_auto_rows": null,
      "grid_column": null,
      "grid_gap": null,
      "grid_row": null,
      "grid_template_areas": null,
      "grid_template_columns": null,
      "grid_template_rows": null,
      "height": null,
      "justify_content": null,
      "justify_items": null,
      "left": null,
      "margin": null,
      "max_height": null,
      "max_width": null,
      "min_height": null,
      "min_width": null,
      "object_fit": null,
      "object_position": null,
      "order": null,
      "overflow": null,
      "overflow_x": null,
      "overflow_y": null,
      "padding": null,
      "right": null,
      "top": null,
      "visibility": null,
      "width": null
     }
    },
    "be4a681e8c33431b8de0a90ad79757ea": {
     "model_module": "@jupyter-widgets/base",
     "model_name": "LayoutModel",
     "state": {
      "_model_module": "@jupyter-widgets/base",
      "_model_module_version": "1.2.0",
      "_model_name": "LayoutModel",
      "_view_count": null,
      "_view_module": "@jupyter-widgets/base",
      "_view_module_version": "1.2.0",
      "_view_name": "LayoutView",
      "align_content": null,
      "align_items": null,
      "align_self": null,
      "border": null,
      "bottom": null,
      "display": null,
      "flex": null,
      "flex_flow": null,
      "grid_area": null,
      "grid_auto_columns": null,
      "grid_auto_flow": null,
      "grid_auto_rows": null,
      "grid_column": null,
      "grid_gap": null,
      "grid_row": null,
      "grid_template_areas": null,
      "grid_template_columns": null,
      "grid_template_rows": null,
      "height": null,
      "justify_content": null,
      "justify_items": null,
      "left": null,
      "margin": null,
      "max_height": null,
      "max_width": null,
      "min_height": null,
      "min_width": null,
      "object_fit": null,
      "object_position": null,
      "order": null,
      "overflow": null,
      "overflow_x": null,
      "overflow_y": null,
      "padding": null,
      "right": null,
      "top": null,
      "visibility": null,
      "width": null
     }
    },
    "bfd8b43122f042488ff74d48e9f801db": {
     "model_module": "@jupyter-widgets/base",
     "model_name": "LayoutModel",
     "state": {
      "_model_module": "@jupyter-widgets/base",
      "_model_module_version": "1.2.0",
      "_model_name": "LayoutModel",
      "_view_count": null,
      "_view_module": "@jupyter-widgets/base",
      "_view_module_version": "1.2.0",
      "_view_name": "LayoutView",
      "align_content": null,
      "align_items": null,
      "align_self": null,
      "border": null,
      "bottom": null,
      "display": null,
      "flex": null,
      "flex_flow": null,
      "grid_area": null,
      "grid_auto_columns": null,
      "grid_auto_flow": null,
      "grid_auto_rows": null,
      "grid_column": null,
      "grid_gap": null,
      "grid_row": null,
      "grid_template_areas": null,
      "grid_template_columns": null,
      "grid_template_rows": null,
      "height": null,
      "justify_content": null,
      "justify_items": null,
      "left": null,
      "margin": null,
      "max_height": null,
      "max_width": null,
      "min_height": null,
      "min_width": null,
      "object_fit": null,
      "object_position": null,
      "order": null,
      "overflow": null,
      "overflow_x": null,
      "overflow_y": null,
      "padding": null,
      "right": null,
      "top": null,
      "visibility": null,
      "width": null
     }
    },
    "c1b0d79f6f8a48869076ea911ec4a61d": {
     "model_module": "@jupyter-widgets/controls",
     "model_name": "ProgressStyleModel",
     "state": {
      "_model_module": "@jupyter-widgets/controls",
      "_model_module_version": "1.5.0",
      "_model_name": "ProgressStyleModel",
      "_view_count": null,
      "_view_module": "@jupyter-widgets/base",
      "_view_module_version": "1.2.0",
      "_view_name": "StyleView",
      "bar_color": null,
      "description_width": "initial"
     }
    },
    "cc9a8e277f084ac982c6fb49d986ce92": {
     "model_module": "@jupyter-widgets/controls",
     "model_name": "HBoxModel",
     "state": {
      "_dom_classes": [],
      "_model_module": "@jupyter-widgets/controls",
      "_model_module_version": "1.5.0",
      "_model_name": "HBoxModel",
      "_view_count": null,
      "_view_module": "@jupyter-widgets/controls",
      "_view_module_version": "1.5.0",
      "_view_name": "HBoxView",
      "box_style": "",
      "children": [
       "IPY_MODEL_2259fc0f9e4342cfbc6cd3506e42d8fd",
       "IPY_MODEL_9457de4b69784c97bb39a9e7a9513f4d"
      ],
      "layout": "IPY_MODEL_63b5ec2ec691409bac76d9e5ea8f3991"
     }
    },
    "d956fd86fc44406384efe98bf257d049": {
     "model_module": "@jupyter-widgets/controls",
     "model_name": "HBoxModel",
     "state": {
      "_dom_classes": [],
      "_model_module": "@jupyter-widgets/controls",
      "_model_module_version": "1.5.0",
      "_model_name": "HBoxModel",
      "_view_count": null,
      "_view_module": "@jupyter-widgets/controls",
      "_view_module_version": "1.5.0",
      "_view_name": "HBoxView",
      "box_style": "",
      "children": [
       "IPY_MODEL_1c5f3fd54e0a4b60a2fd3a894a585234",
       "IPY_MODEL_1597ef495db44bb498a9b8c49972e65c"
      ],
      "layout": "IPY_MODEL_848336de7e2f41989349899e3ea5851d"
     }
    },
    "e6e25ce6976c49c4b720d196bb1c9af7": {
     "model_module": "@jupyter-widgets/base",
     "model_name": "LayoutModel",
     "state": {
      "_model_module": "@jupyter-widgets/base",
      "_model_module_version": "1.2.0",
      "_model_name": "LayoutModel",
      "_view_count": null,
      "_view_module": "@jupyter-widgets/base",
      "_view_module_version": "1.2.0",
      "_view_name": "LayoutView",
      "align_content": null,
      "align_items": null,
      "align_self": null,
      "border": null,
      "bottom": null,
      "display": null,
      "flex": null,
      "flex_flow": null,
      "grid_area": null,
      "grid_auto_columns": null,
      "grid_auto_flow": null,
      "grid_auto_rows": null,
      "grid_column": null,
      "grid_gap": null,
      "grid_row": null,
      "grid_template_areas": null,
      "grid_template_columns": null,
      "grid_template_rows": null,
      "height": null,
      "justify_content": null,
      "justify_items": null,
      "left": null,
      "margin": null,
      "max_height": null,
      "max_width": null,
      "min_height": null,
      "min_width": null,
      "object_fit": null,
      "object_position": null,
      "order": null,
      "overflow": null,
      "overflow_x": null,
      "overflow_y": null,
      "padding": null,
      "right": null,
      "top": null,
      "visibility": null,
      "width": null
     }
    },
    "e92f688bf3434ee7b2caeffd462590d7": {
     "model_module": "@jupyter-widgets/base",
     "model_name": "LayoutModel",
     "state": {
      "_model_module": "@jupyter-widgets/base",
      "_model_module_version": "1.2.0",
      "_model_name": "LayoutModel",
      "_view_count": null,
      "_view_module": "@jupyter-widgets/base",
      "_view_module_version": "1.2.0",
      "_view_name": "LayoutView",
      "align_content": null,
      "align_items": null,
      "align_self": null,
      "border": null,
      "bottom": null,
      "display": null,
      "flex": null,
      "flex_flow": null,
      "grid_area": null,
      "grid_auto_columns": null,
      "grid_auto_flow": null,
      "grid_auto_rows": null,
      "grid_column": null,
      "grid_gap": null,
      "grid_row": null,
      "grid_template_areas": null,
      "grid_template_columns": null,
      "grid_template_rows": null,
      "height": null,
      "justify_content": null,
      "justify_items": null,
      "left": null,
      "margin": null,
      "max_height": null,
      "max_width": null,
      "min_height": null,
      "min_width": null,
      "object_fit": null,
      "object_position": null,
      "order": null,
      "overflow": null,
      "overflow_x": null,
      "overflow_y": null,
      "padding": null,
      "right": null,
      "top": null,
      "visibility": null,
      "width": null
     }
    },
    "ea7063709d924cc1985f17a1242b584c": {
     "model_module": "@jupyter-widgets/controls",
     "model_name": "DescriptionStyleModel",
     "state": {
      "_model_module": "@jupyter-widgets/controls",
      "_model_module_version": "1.5.0",
      "_model_name": "DescriptionStyleModel",
      "_view_count": null,
      "_view_module": "@jupyter-widgets/base",
      "_view_module_version": "1.2.0",
      "_view_name": "StyleView",
      "description_width": ""
     }
    },
    "eb4fff7180874f3daacaf68c58e8ef48": {
     "model_module": "@jupyter-widgets/controls",
     "model_name": "DescriptionStyleModel",
     "state": {
      "_model_module": "@jupyter-widgets/controls",
      "_model_module_version": "1.5.0",
      "_model_name": "DescriptionStyleModel",
      "_view_count": null,
      "_view_module": "@jupyter-widgets/base",
      "_view_module_version": "1.2.0",
      "_view_name": "StyleView",
      "description_width": ""
     }
    },
    "f10ac22e324f4a1da029c235bb22a607": {
     "model_module": "@jupyter-widgets/controls",
     "model_name": "HTMLModel",
     "state": {
      "_dom_classes": [],
      "_model_module": "@jupyter-widgets/controls",
      "_model_module_version": "1.5.0",
      "_model_name": "HTMLModel",
      "_view_count": null,
      "_view_module": "@jupyter-widgets/controls",
      "_view_module_version": "1.5.0",
      "_view_name": "HTMLView",
      "description": "",
      "description_tooltip": null,
      "layout": "IPY_MODEL_bfd8b43122f042488ff74d48e9f801db",
      "placeholder": "​",
      "style": "IPY_MODEL_f149f2ef41db459daa99219430ee3d19",
      "value": " 1/1 [00:02&lt;00:00,  2.50s/ url]"
     }
    },
    "f149f2ef41db459daa99219430ee3d19": {
     "model_module": "@jupyter-widgets/controls",
     "model_name": "DescriptionStyleModel",
     "state": {
      "_model_module": "@jupyter-widgets/controls",
      "_model_module_version": "1.5.0",
      "_model_name": "DescriptionStyleModel",
      "_view_count": null,
      "_view_module": "@jupyter-widgets/base",
      "_view_module_version": "1.2.0",
      "_view_name": "StyleView",
      "description_width": ""
     }
    },
    "f47fa104bcc445e2b589225b49ecf255": {
     "model_module": "@jupyter-widgets/controls",
     "model_name": "ProgressStyleModel",
     "state": {
      "_model_module": "@jupyter-widgets/controls",
      "_model_module_version": "1.5.0",
      "_model_name": "ProgressStyleModel",
      "_view_count": null,
      "_view_module": "@jupyter-widgets/base",
      "_view_module_version": "1.2.0",
      "_view_name": "StyleView",
      "bar_color": null,
      "description_width": "initial"
     }
    },
    "f4c83ba128854cffbe04730d93ea17b3": {
     "model_module": "@jupyter-widgets/base",
     "model_name": "LayoutModel",
     "state": {
      "_model_module": "@jupyter-widgets/base",
      "_model_module_version": "1.2.0",
      "_model_name": "LayoutModel",
      "_view_count": null,
      "_view_module": "@jupyter-widgets/base",
      "_view_module_version": "1.2.0",
      "_view_name": "LayoutView",
      "align_content": null,
      "align_items": null,
      "align_self": null,
      "border": null,
      "bottom": null,
      "display": null,
      "flex": null,
      "flex_flow": null,
      "grid_area": null,
      "grid_auto_columns": null,
      "grid_auto_flow": null,
      "grid_auto_rows": null,
      "grid_column": null,
      "grid_gap": null,
      "grid_row": null,
      "grid_template_areas": null,
      "grid_template_columns": null,
      "grid_template_rows": null,
      "height": null,
      "justify_content": null,
      "justify_items": null,
      "left": null,
      "margin": null,
      "max_height": null,
      "max_width": null,
      "min_height": null,
      "min_width": null,
      "object_fit": null,
      "object_position": null,
      "order": null,
      "overflow": null,
      "overflow_x": null,
      "overflow_y": null,
      "padding": null,
      "right": null,
      "top": null,
      "visibility": null,
      "width": null
     }
    },
    "fba959fe2c9f41f5819aed8ee0265bb4": {
     "model_module": "@jupyter-widgets/base",
     "model_name": "LayoutModel",
     "state": {
      "_model_module": "@jupyter-widgets/base",
      "_model_module_version": "1.2.0",
      "_model_name": "LayoutModel",
      "_view_count": null,
      "_view_module": "@jupyter-widgets/base",
      "_view_module_version": "1.2.0",
      "_view_name": "LayoutView",
      "align_content": null,
      "align_items": null,
      "align_self": null,
      "border": null,
      "bottom": null,
      "display": null,
      "flex": null,
      "flex_flow": null,
      "grid_area": null,
      "grid_auto_columns": null,
      "grid_auto_flow": null,
      "grid_auto_rows": null,
      "grid_column": null,
      "grid_gap": null,
      "grid_row": null,
      "grid_template_areas": null,
      "grid_template_columns": null,
      "grid_template_rows": null,
      "height": null,
      "justify_content": null,
      "justify_items": null,
      "left": null,
      "margin": null,
      "max_height": null,
      "max_width": null,
      "min_height": null,
      "min_width": null,
      "object_fit": null,
      "object_position": null,
      "order": null,
      "overflow": null,
      "overflow_x": null,
      "overflow_y": null,
      "padding": null,
      "right": null,
      "top": null,
      "visibility": null,
      "width": null
     }
    }
   }
  }
 },
 "nbformat": 4,
 "nbformat_minor": 1
}
