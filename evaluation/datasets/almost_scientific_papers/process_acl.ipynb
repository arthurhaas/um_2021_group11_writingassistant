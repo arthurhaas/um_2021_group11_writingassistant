{
 "cells": [
  {
   "cell_type": "markdown",
   "metadata": {},
   "source": [
    "# ACL paper analysis"
   ]
  },
  {
   "cell_type": "code",
   "execution_count": 48,
   "metadata": {},
   "outputs": [],
   "source": [
    "import os\n",
    "import json\n",
    "import random\n",
    "import re\n",
    "import pandas as pd\n",
    "import numpy as np"
   ]
  },
  {
   "cell_type": "markdown",
   "metadata": {},
   "source": [
    "## Load dataset of reviews"
   ]
  },
  {
   "cell_type": "markdown",
   "metadata": {},
   "source": [
    "**chosen scores (1-5)**\n",
    "- clarity\n",
    "- recommendation\n",
    "- substance\n",
    "- reviewer confidence\n",
    "\n",
    "**Reasons for chosen scores:**\n",
    "\n",
    "`reviewer confidence` shows, how much the other scores can be trusted. Is used to weight them later.\n",
    "\n",
    "`substance`, `clarity` have high pearson correlation coefficients with the final recommendation of the paper (page 4).\n",
    "\n",
    "substance (1-5):  \n",
    "Does this paper have enough substance, or would it benefit from more ideas or results? Note that this question mainly concerns the amount of work; its quality is evaluated in other categories.\n",
    "\n",
    "clarity (1-5):  \n",
    "For the reasonably well-prepared reader, is it clear what was done and why?\n",
    "Is the paper well-written and well-structured?\n",
    "\n",
    "details according to paper from: [https://github.com/allenai/PeerRead](https://github.com/allenai/PeerRead)"
   ]
  },
  {
   "cell_type": "code",
   "execution_count": 49,
   "metadata": {},
   "outputs": [],
   "source": [
    "CONFERENCES = [\"acl_2017\"]\n",
    "FILE_SPLIT_CATEGORIES = \"dev,test,train\".split(\",\")\n",
    "\n",
    "# load accepted acl papers\n",
    "accepted_paper_titles = []\n",
    "with open(os.path.join(\"PeerRead\", \"data\", \"acl_accepted.txt\"), \"r\") as fp:\n",
    "    accepted_paper_titles = fp.read().split(\"\\n\")\n",
    "\n",
    "\n",
    "# load all three arxiv paper categories\n",
    "papers = {}\n",
    "reviews = []\n",
    "cols = \"paper,clarity,substance,recommendation,reviewer_confidence\".split(\",\")\n",
    "for cat_id, category in enumerate(CONFERENCES):\n",
    "\n",
    "    # load all three folders, i.e.: dev, train, test\n",
    "    for split_id, file_split in enumerate(FILE_SPLIT_CATEGORIES):\n",
    "        FOLDER_PATH = os.path.join(\"PeerRead\", \"data\", category, file_split, \"reviews\")\n",
    "        for f in os.listdir(FOLDER_PATH):\n",
    "            filepath = os.path.join(FOLDER_PATH,f)\n",
    "            if os.path.isfile(filepath) and f.endswith(\".json\"):\n",
    "                \n",
    "                with open(filepath, \"r\") as fp:\n",
    "                    review_data = json.load(fp)\n",
    "                    \n",
    "                    # scores\n",
    "                    for item in review_data['reviews']:\n",
    "                        review = []\n",
    "                        review.append(review_data['id'])\n",
    "                        \n",
    "                        review.append(item['CLARITY'])\n",
    "                        review.append(item['SUBSTANCE'])\n",
    "                        review.append(item['RECOMMENDATION'])\n",
    "                        review.append(item['REVIEWER_CONFIDENCE'])\n",
    "                        \n",
    "                        reviews.append(review)\n",
    "                        \n",
    "                        \n",
    "                    # accepted/ rejected based on acl_accepted.txt\n",
    "                    # for acl not really existing according to paper -> rather aspect scores\n",
    "                    papers[review_data['id']] = {}\n",
    "                    papers[review_data['id']]['accepted'] = (review_data['title'] in accepted_paper_titles)\n",
    "                    papers[review_data['id']]['cat'] = category\n",
    "                    papers[review_data['id']]['split'] = file_split"
   ]
  },
  {
   "cell_type": "code",
   "execution_count": 50,
   "metadata": {},
   "outputs": [],
   "source": [
    "df_papers = pd.DataFrame.from_dict(papers, orient='index')\n",
    "df_papers = df_papers.reset_index().rename(columns={\"index\":\"paper\"})\n",
    "df_papers.paper = pd.to_numeric(df_papers.paper)\n",
    "\n",
    "df_reviews = pd.DataFrame(data=reviews, columns=cols)\n",
    "df_reviews = df_reviews.apply(pd.to_numeric)"
   ]
  },
  {
   "cell_type": "code",
   "execution_count": 51,
   "metadata": {},
   "outputs": [
    {
     "data": {
      "text/html": [
       "<div>\n",
       "<style scoped>\n",
       "    .dataframe tbody tr th:only-of-type {\n",
       "        vertical-align: middle;\n",
       "    }\n",
       "\n",
       "    .dataframe tbody tr th {\n",
       "        vertical-align: top;\n",
       "    }\n",
       "\n",
       "    .dataframe thead th {\n",
       "        text-align: right;\n",
       "    }\n",
       "</style>\n",
       "<table border=\"1\" class=\"dataframe\">\n",
       "  <thead>\n",
       "    <tr style=\"text-align: right;\">\n",
       "      <th></th>\n",
       "      <th>paper</th>\n",
       "      <th>accepted</th>\n",
       "      <th>cat</th>\n",
       "      <th>split</th>\n",
       "    </tr>\n",
       "  </thead>\n",
       "  <tbody>\n",
       "    <tr>\n",
       "      <th>0</th>\n",
       "      <td>660</td>\n",
       "      <td>True</td>\n",
       "      <td>acl_2017</td>\n",
       "      <td>dev</td>\n",
       "    </tr>\n",
       "    <tr>\n",
       "      <th>1</th>\n",
       "      <td>94</td>\n",
       "      <td>True</td>\n",
       "      <td>acl_2017</td>\n",
       "      <td>dev</td>\n",
       "    </tr>\n",
       "    <tr>\n",
       "      <th>2</th>\n",
       "      <td>37</td>\n",
       "      <td>True</td>\n",
       "      <td>acl_2017</td>\n",
       "      <td>dev</td>\n",
       "    </tr>\n",
       "    <tr>\n",
       "      <th>3</th>\n",
       "      <td>352</td>\n",
       "      <td>True</td>\n",
       "      <td>acl_2017</td>\n",
       "      <td>dev</td>\n",
       "    </tr>\n",
       "    <tr>\n",
       "      <th>4</th>\n",
       "      <td>489</td>\n",
       "      <td>True</td>\n",
       "      <td>acl_2017</td>\n",
       "      <td>dev</td>\n",
       "    </tr>\n",
       "  </tbody>\n",
       "</table>\n",
       "</div>"
      ],
      "text/plain": [
       "   paper  accepted       cat split\n",
       "0    660      True  acl_2017   dev\n",
       "1     94      True  acl_2017   dev\n",
       "2     37      True  acl_2017   dev\n",
       "3    352      True  acl_2017   dev\n",
       "4    489      True  acl_2017   dev"
      ]
     },
     "execution_count": 51,
     "metadata": {},
     "output_type": "execute_result"
    }
   ],
   "source": [
    "df_papers.head()"
   ]
  },
  {
   "cell_type": "code",
   "execution_count": 52,
   "metadata": {},
   "outputs": [
    {
     "data": {
      "text/html": [
       "<div>\n",
       "<style scoped>\n",
       "    .dataframe tbody tr th:only-of-type {\n",
       "        vertical-align: middle;\n",
       "    }\n",
       "\n",
       "    .dataframe tbody tr th {\n",
       "        vertical-align: top;\n",
       "    }\n",
       "\n",
       "    .dataframe thead th {\n",
       "        text-align: right;\n",
       "    }\n",
       "</style>\n",
       "<table border=\"1\" class=\"dataframe\">\n",
       "  <thead>\n",
       "    <tr style=\"text-align: right;\">\n",
       "      <th></th>\n",
       "      <th>paper</th>\n",
       "      <th>clarity</th>\n",
       "      <th>substance</th>\n",
       "      <th>recommendation</th>\n",
       "      <th>reviewer_confidence</th>\n",
       "    </tr>\n",
       "  </thead>\n",
       "  <tbody>\n",
       "    <tr>\n",
       "      <th>0</th>\n",
       "      <td>660</td>\n",
       "      <td>4</td>\n",
       "      <td>5</td>\n",
       "      <td>4</td>\n",
       "      <td>3</td>\n",
       "    </tr>\n",
       "    <tr>\n",
       "      <th>1</th>\n",
       "      <td>660</td>\n",
       "      <td>3</td>\n",
       "      <td>4</td>\n",
       "      <td>3</td>\n",
       "      <td>4</td>\n",
       "    </tr>\n",
       "    <tr>\n",
       "      <th>2</th>\n",
       "      <td>94</td>\n",
       "      <td>5</td>\n",
       "      <td>4</td>\n",
       "      <td>4</td>\n",
       "      <td>5</td>\n",
       "    </tr>\n",
       "    <tr>\n",
       "      <th>3</th>\n",
       "      <td>37</td>\n",
       "      <td>4</td>\n",
       "      <td>4</td>\n",
       "      <td>4</td>\n",
       "      <td>2</td>\n",
       "    </tr>\n",
       "    <tr>\n",
       "      <th>4</th>\n",
       "      <td>352</td>\n",
       "      <td>4</td>\n",
       "      <td>4</td>\n",
       "      <td>4</td>\n",
       "      <td>2</td>\n",
       "    </tr>\n",
       "    <tr>\n",
       "      <th>...</th>\n",
       "      <td>...</td>\n",
       "      <td>...</td>\n",
       "      <td>...</td>\n",
       "      <td>...</td>\n",
       "      <td>...</td>\n",
       "    </tr>\n",
       "    <tr>\n",
       "      <th>270</th>\n",
       "      <td>706</td>\n",
       "      <td>4</td>\n",
       "      <td>4</td>\n",
       "      <td>4</td>\n",
       "      <td>4</td>\n",
       "    </tr>\n",
       "    <tr>\n",
       "      <th>271</th>\n",
       "      <td>706</td>\n",
       "      <td>5</td>\n",
       "      <td>4</td>\n",
       "      <td>4</td>\n",
       "      <td>3</td>\n",
       "    </tr>\n",
       "    <tr>\n",
       "      <th>272</th>\n",
       "      <td>614</td>\n",
       "      <td>4</td>\n",
       "      <td>4</td>\n",
       "      <td>4</td>\n",
       "      <td>4</td>\n",
       "    </tr>\n",
       "    <tr>\n",
       "      <th>273</th>\n",
       "      <td>614</td>\n",
       "      <td>4</td>\n",
       "      <td>4</td>\n",
       "      <td>2</td>\n",
       "      <td>4</td>\n",
       "    </tr>\n",
       "    <tr>\n",
       "      <th>274</th>\n",
       "      <td>182</td>\n",
       "      <td>5</td>\n",
       "      <td>4</td>\n",
       "      <td>4</td>\n",
       "      <td>3</td>\n",
       "    </tr>\n",
       "  </tbody>\n",
       "</table>\n",
       "<p>275 rows × 5 columns</p>\n",
       "</div>"
      ],
      "text/plain": [
       "     paper  clarity  substance  recommendation  reviewer_confidence\n",
       "0      660        4          5               4                    3\n",
       "1      660        3          4               3                    4\n",
       "2       94        5          4               4                    5\n",
       "3       37        4          4               4                    2\n",
       "4      352        4          4               4                    2\n",
       "..     ...      ...        ...             ...                  ...\n",
       "270    706        4          4               4                    4\n",
       "271    706        5          4               4                    3\n",
       "272    614        4          4               4                    4\n",
       "273    614        4          4               2                    4\n",
       "274    182        5          4               4                    3\n",
       "\n",
       "[275 rows x 5 columns]"
      ]
     },
     "execution_count": 52,
     "metadata": {},
     "output_type": "execute_result"
    }
   ],
   "source": [
    "df_reviews"
   ]
  },
  {
   "cell_type": "markdown",
   "metadata": {},
   "source": [
    "## merge\n",
    "\n",
    "group reviews by weighted average based upon the reviewer confidence score and merge"
   ]
  },
  {
   "cell_type": "code",
   "execution_count": 53,
   "metadata": {},
   "outputs": [],
   "source": [
    "# lambda function for weighted average:\n",
    "weighted_scoring = lambda x: np.average(x, weights=df_reviews.loc[x.index, \"reviewer_confidence\"])\n",
    "\n",
    "df = (\n",
    "    df_reviews\n",
    "    .groupby([\"paper\"]).agg(\n",
    "            review_count=(\"clarity\",\"count\"),\n",
    "            clarity_weighted=('clarity', weighted_scoring),\n",
    "            substance_weighted=('substance', weighted_scoring),\n",
    "            recommendation_weighted=('recommendation', weighted_scoring))\n",
    "    .reset_index()\n",
    "    .sort_values(by=\"paper\")\n",
    ")\n",
    "df = df.round(2)\n",
    "df = pd.merge(df, df_papers, on=\"paper\", how=\"right\")"
   ]
  },
  {
   "cell_type": "code",
   "execution_count": 54,
   "metadata": {},
   "outputs": [
    {
     "data": {
      "text/html": [
       "<div>\n",
       "<style scoped>\n",
       "    .dataframe tbody tr th:only-of-type {\n",
       "        vertical-align: middle;\n",
       "    }\n",
       "\n",
       "    .dataframe tbody tr th {\n",
       "        vertical-align: top;\n",
       "    }\n",
       "\n",
       "    .dataframe thead th {\n",
       "        text-align: right;\n",
       "    }\n",
       "</style>\n",
       "<table border=\"1\" class=\"dataframe\">\n",
       "  <thead>\n",
       "    <tr style=\"text-align: right;\">\n",
       "      <th></th>\n",
       "      <th>paper</th>\n",
       "      <th>review_count</th>\n",
       "      <th>clarity_weighted</th>\n",
       "      <th>substance_weighted</th>\n",
       "      <th>recommendation_weighted</th>\n",
       "      <th>accepted</th>\n",
       "      <th>cat</th>\n",
       "      <th>split</th>\n",
       "    </tr>\n",
       "  </thead>\n",
       "  <tbody>\n",
       "    <tr>\n",
       "      <th>92</th>\n",
       "      <td>12</td>\n",
       "      <td>2</td>\n",
       "      <td>4.00</td>\n",
       "      <td>4.00</td>\n",
       "      <td>3.43</td>\n",
       "      <td>True</td>\n",
       "      <td>acl_2017</td>\n",
       "      <td>train</td>\n",
       "    </tr>\n",
       "    <tr>\n",
       "      <th>23</th>\n",
       "      <td>16</td>\n",
       "      <td>1</td>\n",
       "      <td>4.00</td>\n",
       "      <td>4.00</td>\n",
       "      <td>4.00</td>\n",
       "      <td>True</td>\n",
       "      <td>acl_2017</td>\n",
       "      <td>train</td>\n",
       "    </tr>\n",
       "    <tr>\n",
       "      <th>117</th>\n",
       "      <td>18</td>\n",
       "      <td>1</td>\n",
       "      <td>5.00</td>\n",
       "      <td>4.00</td>\n",
       "      <td>5.00</td>\n",
       "      <td>True</td>\n",
       "      <td>acl_2017</td>\n",
       "      <td>train</td>\n",
       "    </tr>\n",
       "    <tr>\n",
       "      <th>132</th>\n",
       "      <td>19</td>\n",
       "      <td>2</td>\n",
       "      <td>4.00</td>\n",
       "      <td>3.43</td>\n",
       "      <td>4.00</td>\n",
       "      <td>True</td>\n",
       "      <td>acl_2017</td>\n",
       "      <td>train</td>\n",
       "    </tr>\n",
       "    <tr>\n",
       "      <th>42</th>\n",
       "      <td>21</td>\n",
       "      <td>2</td>\n",
       "      <td>4.57</td>\n",
       "      <td>4.00</td>\n",
       "      <td>4.00</td>\n",
       "      <td>True</td>\n",
       "      <td>acl_2017</td>\n",
       "      <td>train</td>\n",
       "    </tr>\n",
       "    <tr>\n",
       "      <th>55</th>\n",
       "      <td>26</td>\n",
       "      <td>2</td>\n",
       "      <td>3.50</td>\n",
       "      <td>3.50</td>\n",
       "      <td>4.00</td>\n",
       "      <td>True</td>\n",
       "      <td>acl_2017</td>\n",
       "      <td>train</td>\n",
       "    </tr>\n",
       "  </tbody>\n",
       "</table>\n",
       "</div>"
      ],
      "text/plain": [
       "     paper  review_count  clarity_weighted  substance_weighted  \\\n",
       "92      12             2              4.00                4.00   \n",
       "23      16             1              4.00                4.00   \n",
       "117     18             1              5.00                4.00   \n",
       "132     19             2              4.00                3.43   \n",
       "42      21             2              4.57                4.00   \n",
       "55      26             2              3.50                3.50   \n",
       "\n",
       "     recommendation_weighted  accepted       cat  split  \n",
       "92                      3.43      True  acl_2017  train  \n",
       "23                      4.00      True  acl_2017  train  \n",
       "117                     5.00      True  acl_2017  train  \n",
       "132                     4.00      True  acl_2017  train  \n",
       "42                      4.00      True  acl_2017  train  \n",
       "55                      4.00      True  acl_2017  train  "
      ]
     },
     "execution_count": 54,
     "metadata": {},
     "output_type": "execute_result"
    }
   ],
   "source": [
    "df.sort_values(by=\"paper\").head(6)"
   ]
  },
  {
   "cell_type": "markdown",
   "metadata": {},
   "source": [
    "## Load full text"
   ]
  },
  {
   "cell_type": "code",
   "execution_count": 55,
   "metadata": {},
   "outputs": [
    {
     "name": "stdout",
     "output_type": "stream",
     "text": [
      "['660', '94', 37, '352', 489, '173', 371, 768, '355', '323']\n",
      "{'accepted': True, 'cat': 'acl_2017', 'split': 'dev'}\n"
     ]
    }
   ],
   "source": [
    "print(list(papers.keys())[:10])\n",
    "\n",
    "print(papers['660'])"
   ]
  },
  {
   "cell_type": "code",
   "execution_count": 56,
   "metadata": {},
   "outputs": [],
   "source": [
    "full_text = []\n",
    "\n",
    "for paper_id, metadata in papers.items():\n",
    "\n",
    "    paper_file = os.path.join(\"PeerRead\", \"data\", metadata['cat'], metadata['split'], \"parsed_pdfs\", f\"{paper_id}.pdf.json\")\n",
    "    with open(paper_file, \"r\") as fp:\n",
    "        abstracts = []\n",
    "        sections = []\n",
    "        content = json.load(fp)\n",
    "\n",
    "        if content['metadata']['abstractText']:\n",
    "            abstracts.append(content['metadata']['abstractText'])\n",
    "\n",
    "        if content['metadata']['sections']:\n",
    "            for section in content['metadata']['sections']:\n",
    "                sections.append(section['text'])\n",
    "\n",
    "        section_text = \" \".join(sections)\n",
    "        \n",
    "        # clean up multiple whitespaces / new lines\n",
    "        section_text = re.sub(r\"\\n\", \" \", section_text)\n",
    "        section_text = re.sub(r\" {2,}\", \" \", section_text)\n",
    "        \n",
    "        full_text.append([paper_id, \"\\n\".join(abstracts), section_text])\n",
    "\n",
    "df_full_text = pd.DataFrame(data=full_text, columns=[\"paper\", \"abstract\", \"text\"])\n",
    "df_full_text.paper = pd.to_numeric(df_full_text.paper)"
   ]
  },
  {
   "cell_type": "code",
   "execution_count": 57,
   "metadata": {},
   "outputs": [],
   "source": [
    "df = pd.merge(df, df_full_text, on=\"paper\", how=\"left\")"
   ]
  },
  {
   "cell_type": "code",
   "execution_count": 58,
   "metadata": {},
   "outputs": [
    {
     "data": {
      "text/html": [
       "<div>\n",
       "<style scoped>\n",
       "    .dataframe tbody tr th:only-of-type {\n",
       "        vertical-align: middle;\n",
       "    }\n",
       "\n",
       "    .dataframe tbody tr th {\n",
       "        vertical-align: top;\n",
       "    }\n",
       "\n",
       "    .dataframe thead th {\n",
       "        text-align: right;\n",
       "    }\n",
       "</style>\n",
       "<table border=\"1\" class=\"dataframe\">\n",
       "  <thead>\n",
       "    <tr style=\"text-align: right;\">\n",
       "      <th></th>\n",
       "      <th>paper</th>\n",
       "      <th>review_count</th>\n",
       "      <th>clarity_weighted</th>\n",
       "      <th>substance_weighted</th>\n",
       "      <th>recommendation_weighted</th>\n",
       "      <th>accepted</th>\n",
       "      <th>cat</th>\n",
       "      <th>split</th>\n",
       "      <th>abstract</th>\n",
       "      <th>text</th>\n",
       "    </tr>\n",
       "  </thead>\n",
       "  <tbody>\n",
       "    <tr>\n",
       "      <th>0</th>\n",
       "      <td>660</td>\n",
       "      <td>2</td>\n",
       "      <td>3.43</td>\n",
       "      <td>4.43</td>\n",
       "      <td>3.43</td>\n",
       "      <td>True</td>\n",
       "      <td>acl_2017</td>\n",
       "      <td>dev</td>\n",
       "      <td>We propose two novel methodologies for the aut...</td>\n",
       "      <td>1 000 011 012 013 014 015 016 017 018 019 020 ...</td>\n",
       "    </tr>\n",
       "    <tr>\n",
       "      <th>1</th>\n",
       "      <td>94</td>\n",
       "      <td>1</td>\n",
       "      <td>5.00</td>\n",
       "      <td>4.00</td>\n",
       "      <td>4.00</td>\n",
       "      <td>True</td>\n",
       "      <td>acl_2017</td>\n",
       "      <td>dev</td>\n",
       "      <td>Restricted non-monotonicity has been shown ben...</td>\n",
       "      <td>1 000 011 012 013 014 015 016 017 018 019 020 ...</td>\n",
       "    </tr>\n",
       "    <tr>\n",
       "      <th>2</th>\n",
       "      <td>37</td>\n",
       "      <td>1</td>\n",
       "      <td>4.00</td>\n",
       "      <td>4.00</td>\n",
       "      <td>4.00</td>\n",
       "      <td>True</td>\n",
       "      <td>acl_2017</td>\n",
       "      <td>dev</td>\n",
       "      <td>We study response selection for multi-turn con...</td>\n",
       "      <td>1 000 011 012 013 014 015 016 017 018 019 020 ...</td>\n",
       "    </tr>\n",
       "    <tr>\n",
       "      <th>3</th>\n",
       "      <td>352</td>\n",
       "      <td>2</td>\n",
       "      <td>4.00</td>\n",
       "      <td>4.60</td>\n",
       "      <td>4.00</td>\n",
       "      <td>True</td>\n",
       "      <td>acl_2017</td>\n",
       "      <td>dev</td>\n",
       "      <td>Neural network models have shown their promisi...</td>\n",
       "      <td>1 000 011 012 013 014 015 016 017 018 019 020 ...</td>\n",
       "    </tr>\n",
       "    <tr>\n",
       "      <th>4</th>\n",
       "      <td>489</td>\n",
       "      <td>2</td>\n",
       "      <td>3.50</td>\n",
       "      <td>4.50</td>\n",
       "      <td>4.00</td>\n",
       "      <td>True</td>\n",
       "      <td>acl_2017</td>\n",
       "      <td>dev</td>\n",
       "      <td>We compare three recent models of referential ...</td>\n",
       "      <td>1 000 011 012 013 014 015 016 017 018 019 020 ...</td>\n",
       "    </tr>\n",
       "  </tbody>\n",
       "</table>\n",
       "</div>"
      ],
      "text/plain": [
       "   paper  review_count  clarity_weighted  substance_weighted  \\\n",
       "0    660             2              3.43                4.43   \n",
       "1     94             1              5.00                4.00   \n",
       "2     37             1              4.00                4.00   \n",
       "3    352             2              4.00                4.60   \n",
       "4    489             2              3.50                4.50   \n",
       "\n",
       "   recommendation_weighted  accepted       cat split  \\\n",
       "0                     3.43      True  acl_2017   dev   \n",
       "1                     4.00      True  acl_2017   dev   \n",
       "2                     4.00      True  acl_2017   dev   \n",
       "3                     4.00      True  acl_2017   dev   \n",
       "4                     4.00      True  acl_2017   dev   \n",
       "\n",
       "                                            abstract  \\\n",
       "0  We propose two novel methodologies for the aut...   \n",
       "1  Restricted non-monotonicity has been shown ben...   \n",
       "2  We study response selection for multi-turn con...   \n",
       "3  Neural network models have shown their promisi...   \n",
       "4  We compare three recent models of referential ...   \n",
       "\n",
       "                                                text  \n",
       "0  1 000 011 012 013 014 015 016 017 018 019 020 ...  \n",
       "1  1 000 011 012 013 014 015 016 017 018 019 020 ...  \n",
       "2  1 000 011 012 013 014 015 016 017 018 019 020 ...  \n",
       "3  1 000 011 012 013 014 015 016 017 018 019 020 ...  \n",
       "4  1 000 011 012 013 014 015 016 017 018 019 020 ...  "
      ]
     },
     "execution_count": 58,
     "metadata": {},
     "output_type": "execute_result"
    }
   ],
   "source": [
    "df.head()"
   ]
  },
  {
   "cell_type": "markdown",
   "metadata": {},
   "source": [
    "## export"
   ]
  },
  {
   "cell_type": "code",
   "execution_count": 59,
   "metadata": {},
   "outputs": [],
   "source": [
    "export_path = os.path.join(\"processed\", \"acl\")\n",
    "os.makedirs(export_path, exist_ok = True)\n",
    "df.to_csv(os.path.join(export_path, \"papers_with_scores_not_cleaned.csv\"), index=False)"
   ]
  },
  {
   "cell_type": "markdown",
   "metadata": {},
   "source": [
    "## analysis"
   ]
  },
  {
   "cell_type": "code",
   "execution_count": 60,
   "metadata": {},
   "outputs": [],
   "source": [
    "import numpy as np\n",
    "bin_array = np.linspace(start=0., stop=5., num=11)"
   ]
  },
  {
   "cell_type": "code",
   "execution_count": 61,
   "metadata": {},
   "outputs": [
    {
     "data": {
      "text/plain": [
       "<AxesSubplot:>"
      ]
     },
     "execution_count": 61,
     "metadata": {},
     "output_type": "execute_result"
    },
    {
     "data": {
      "image/png": "[encoded data removed]",
      "text/plain": [
       "<Figure size 432x288 with 1 Axes>"
      ]
     },
     "metadata": {
      "needs_background": "light"
     },
     "output_type": "display_data"
    }
   ],
   "source": [
    "df.clarity_weighted.hist(bins=bin_array)"
   ]
  },
  {
   "cell_type": "code",
   "execution_count": 62,
   "metadata": {},
   "outputs": [
    {
     "data": {
      "text/plain": [
       "<AxesSubplot:>"
      ]
     },
     "execution_count": 62,
     "metadata": {},
     "output_type": "execute_result"
    },
    {
     "data": {
      "image/png": "[encoded data removed]",
      "text/plain": [
       "<Figure size 432x288 with 1 Axes>"
      ]
     },
     "metadata": {
      "needs_background": "light"
     },
     "output_type": "display_data"
    }
   ],
   "source": [
    "df.substance_weighted.hist(bins=bin_array)"
   ]
  },
  {
   "cell_type": "code",
   "execution_count": 63,
   "metadata": {},
   "outputs": [
    {
     "data": {
      "text/plain": [
       "<AxesSubplot:>"
      ]
     },
     "execution_count": 63,
     "metadata": {},
     "output_type": "execute_result"
    },
    {
     "data": {
      "image/png": "[encoded data removed]",
      "text/plain": [
       "<Figure size 432x288 with 1 Axes>"
      ]
     },
     "metadata": {
      "needs_background": "light"
     },
     "output_type": "display_data"
    }
   ],
   "source": [
    "df.recommendation_weighted.hist(bins=bin_array)"
   ]
  },
  {
   "cell_type": "markdown",
   "metadata": {},
   "source": [
    "## Cleaning text"
   ]
  },
  {
   "cell_type": "code",
   "execution_count": 64,
   "metadata": {},
   "outputs": [],
   "source": [
    "import pandas as pd\n",
    "import re\n",
    "from nltk.tokenize import sent_tokenize, word_tokenize, wordpunct_tokenize\n",
    "import os, sys"
   ]
  },
  {
   "cell_type": "code",
   "execution_count": 65,
   "metadata": {},
   "outputs": [],
   "source": [
    "def pattern_search(sentence_list, whitespace_separated = False):\n",
    "\n",
    "    clean_sentence_list = []\n",
    "\n",
    "    p_basic = r\"(@x)|(\\[\\s)|(\\{)\" # contains @x or [ or {\n",
    "    p_char = r\"[^a-zA-Z\\s.\\-,()!?\\\"':;]\" # contains anything else than a-z, A-Z, whitespace, - ,()!?\"'+:;=\n",
    "    p_cit = r\"\\s\\w[.]\\s\" # contains whitespace+letter+period+whitespace\n",
    "    p_etal = r\"et al\" # contains et al\n",
    "    p_link = r\"(http)|(www)|([.]com)\" # contains http or www or .com\n",
    "    p_punct = r\"[a-zA-Z][.!?\\-]\"\n",
    "    p_ieeg = r\"\\si\\.e\\.|\\se\\.g\\.|\\sfig\\s\"\n",
    "\n",
    "    for i, sentence in enumerate(sentence_list):\n",
    "        var = False\n",
    "        # can't contain @x or [ or {\n",
    "        if not re.search(p_basic, sentence):\n",
    "            # can't contain anything else than a-z and few exceptions\n",
    "            if not re.search(p_char, sentence):\n",
    "                # can't contain j. citations and other single letter before period\n",
    "                if not re.search(p_cit, sentence):\n",
    "                    # can't contain et al\n",
    "                    if not re.search(p_etal, sentence):\n",
    "                        # can't contain link\n",
    "                        if not re.search(p_link, sentence):\n",
    "                            # Filter out letter followed by period\n",
    "                            if whitespace_separated == False:\n",
    "                                if not re.search(p_ieeg,sentence):\n",
    "                                    var = True\n",
    "                            else:\n",
    "                                if not re.search(p_punct, sentence):\n",
    "                                    var = True\n",
    "        if var == True:\n",
    "            clean_sentence_list.append(sentence)\n",
    "    return clean_sentence_list\n",
    "\n",
    "def sentence_filter(sentence_list):\n",
    "    clean_sentence_list = []\n",
    "    for i, sent in enumerate(sentence_list):\n",
    "        # Multiple whitespaces to one\n",
    "        sent = re.sub(r\"\\s+\",r\" \",sent)\n",
    "        # Clean second part of sentece if letter+whitespace+period is followed by any text\n",
    "        sent = re.sub(r\"(\\w\\s[.]).+\",r\"\\1\",sent)\n",
    "        # Clean whitespaces before punctuations\n",
    "        sent = re.sub(r\"\\s([.,!?:;])\",r\"\\1\",sent)\n",
    "        # Clean start of sentence\n",
    "        sent = re.sub(r\"^[^\\w]+\",r\"\",sent)\n",
    "        # Clean whitespaces before and after hyphen and parentheses\n",
    "        sent = re.sub(r\"([(\\-])\\s(\\w)\",r\"\\1\\2\",sent)\n",
    "        sent = re.sub(r\"(\\w)\\s([)\\-])\",r\"\\1\\2\",sent)\n",
    "        clean_sentence_list.append(sent)\n",
    "    return clean_sentence_list"
   ]
  },
  {
   "cell_type": "code",
   "execution_count": 66,
   "metadata": {},
   "outputs": [
    {
     "name": "stdout",
     "output_type": "stream",
     "text": [
      "137\n"
     ]
    }
   ],
   "source": [
    "csv_path = os.path.join(\"processed\", \"acl\", \"papers_with_scores_not_cleaned.csv\")\n",
    "\n",
    "papers_with_scores = pd.read_csv(csv_path)\n",
    "\n",
    "print(len(papers_with_scores['text']))"
   ]
  },
  {
   "cell_type": "code",
   "execution_count": 67,
   "metadata": {},
   "outputs": [
    {
     "name": "stdout",
     "output_type": "stream",
     "text": [
      "220\n",
      "138\n",
      "138\n"
     ]
    }
   ],
   "source": [
    "example_article = sent_tokenize(papers_with_scores['text'][0])\n",
    "print(len(example_article))\n",
    "\n",
    "example_article = pattern_search(example_article)\n",
    "print(len(example_article))\n",
    "\n",
    "example_article = sentence_filter(example_article)\n",
    "print(len(example_article))"
   ]
  },
  {
   "cell_type": "code",
   "execution_count": 68,
   "metadata": {},
   "outputs": [],
   "source": [
    "clean_sentence_lists = []\n",
    "\n",
    "for i, article in enumerate(papers_with_scores['text']):\n",
    "    sentence_list = sent_tokenize(article)\n",
    "    sentence_list = pattern_search(sentence_list)\n",
    "    sentence_list = sentence_filter(sentence_list)\n",
    "    \n",
    "    sentences = \" \".join(sentence_list)\n",
    "    clean_sentence_lists.append(sentences)\n",
    "\n",
    "papers_with_scores['text_clean'] = clean_sentence_lists"
   ]
  },
  {
   "cell_type": "code",
   "execution_count": 69,
   "metadata": {},
   "outputs": [
    {
     "data": {
      "text/html": [
       "<div>\n",
       "<style scoped>\n",
       "    .dataframe tbody tr th:only-of-type {\n",
       "        vertical-align: middle;\n",
       "    }\n",
       "\n",
       "    .dataframe tbody tr th {\n",
       "        vertical-align: top;\n",
       "    }\n",
       "\n",
       "    .dataframe thead th {\n",
       "        text-align: right;\n",
       "    }\n",
       "</style>\n",
       "<table border=\"1\" class=\"dataframe\">\n",
       "  <thead>\n",
       "    <tr style=\"text-align: right;\">\n",
       "      <th></th>\n",
       "      <th>paper</th>\n",
       "      <th>review_count</th>\n",
       "      <th>clarity_weighted</th>\n",
       "      <th>substance_weighted</th>\n",
       "      <th>recommendation_weighted</th>\n",
       "      <th>accepted</th>\n",
       "      <th>cat</th>\n",
       "      <th>split</th>\n",
       "      <th>abstract</th>\n",
       "      <th>text</th>\n",
       "      <th>text_clean</th>\n",
       "    </tr>\n",
       "  </thead>\n",
       "  <tbody>\n",
       "    <tr>\n",
       "      <th>0</th>\n",
       "      <td>660</td>\n",
       "      <td>2</td>\n",
       "      <td>3.43</td>\n",
       "      <td>4.43</td>\n",
       "      <td>3.43</td>\n",
       "      <td>True</td>\n",
       "      <td>acl_2017</td>\n",
       "      <td>dev</td>\n",
       "      <td>We propose two novel methodologies for the aut...</td>\n",
       "      <td>1 000 011 012 013 014 015 016 017 018 019 020 ...</td>\n",
       "      <td>The first approach uses a neural language mode...</td>\n",
       "    </tr>\n",
       "    <tr>\n",
       "      <th>1</th>\n",
       "      <td>94</td>\n",
       "      <td>1</td>\n",
       "      <td>5.00</td>\n",
       "      <td>4.00</td>\n",
       "      <td>4.00</td>\n",
       "      <td>True</td>\n",
       "      <td>acl_2017</td>\n",
       "      <td>dev</td>\n",
       "      <td>Restricted non-monotonicity has been shown ben...</td>\n",
       "      <td>1 000 011 012 013 014 015 016 017 018 019 020 ...</td>\n",
       "      <td>They parse a sentence from left to right by gr...</td>\n",
       "    </tr>\n",
       "  </tbody>\n",
       "</table>\n",
       "</div>"
      ],
      "text/plain": [
       "   paper  review_count  clarity_weighted  substance_weighted  \\\n",
       "0    660             2              3.43                4.43   \n",
       "1     94             1              5.00                4.00   \n",
       "\n",
       "   recommendation_weighted  accepted       cat split  \\\n",
       "0                     3.43      True  acl_2017   dev   \n",
       "1                     4.00      True  acl_2017   dev   \n",
       "\n",
       "                                            abstract  \\\n",
       "0  We propose two novel methodologies for the aut...   \n",
       "1  Restricted non-monotonicity has been shown ben...   \n",
       "\n",
       "                                                text  \\\n",
       "0  1 000 011 012 013 014 015 016 017 018 019 020 ...   \n",
       "1  1 000 011 012 013 014 015 016 017 018 019 020 ...   \n",
       "\n",
       "                                          text_clean  \n",
       "0  The first approach uses a neural language mode...  \n",
       "1  They parse a sentence from left to right by gr...  "
      ]
     },
     "execution_count": 69,
     "metadata": {},
     "output_type": "execute_result"
    }
   ],
   "source": [
    "papers_with_scores.head(2)"
   ]
  },
  {
   "cell_type": "code",
   "execution_count": 73,
   "metadata": {},
   "outputs": [],
   "source": [
    "# export\n",
    "papers_with_scores.drop(\"text\", axis=1).to_csv(os.path.join(export_path, \"papers_with_scores_cleaned.csv\"), index=False)"
   ]
  },
  {
   "cell_type": "code",
   "execution_count": null,
   "metadata": {},
   "outputs": [],
   "source": []
  }
 ],
 "metadata": {
  "kernelspec": {
   "display_name": "Python 3",
   "language": "python",
   "name": "python3"
  },
  "language_info": {
   "codemirror_mode": {
    "name": "ipython",
    "version": 3
   },
   "file_extension": ".py",
   "mimetype": "text/x-python",
   "name": "python",
   "nbconvert_exporter": "python",
   "pygments_lexer": "ipython3",
   "version": "3.8.6"
  }
 },
 "nbformat": 4,
 "nbformat_minor": 4
}
