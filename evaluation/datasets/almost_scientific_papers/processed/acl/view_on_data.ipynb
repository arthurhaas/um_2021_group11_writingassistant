{
 "cells": [
  {
   "cell_type": "code",
   "execution_count": 13,
   "metadata": {},
   "outputs": [],
   "source": [
    "import pandas as pd\n",
    "import numpy as np\n",
    "import seaborn as sns"
   ]
  },
  {
   "cell_type": "code",
   "execution_count": 5,
   "metadata": {},
   "outputs": [],
   "source": [
    "df = pd.read_csv(\"papers_with_scores_not_cleaned.csv\")"
   ]
  },
  {
   "cell_type": "code",
   "execution_count": 6,
   "metadata": {},
   "outputs": [
    {
     "data": {
      "text/html": [
       "<div>\n",
       "<style scoped>\n",
       "    .dataframe tbody tr th:only-of-type {\n",
       "        vertical-align: middle;\n",
       "    }\n",
       "\n",
       "    .dataframe tbody tr th {\n",
       "        vertical-align: top;\n",
       "    }\n",
       "\n",
       "    .dataframe thead th {\n",
       "        text-align: right;\n",
       "    }\n",
       "</style>\n",
       "<table border=\"1\" class=\"dataframe\">\n",
       "  <thead>\n",
       "    <tr style=\"text-align: right;\">\n",
       "      <th></th>\n",
       "      <th>paper</th>\n",
       "      <th>review_count</th>\n",
       "      <th>clarity_weighted</th>\n",
       "      <th>substance_weighted</th>\n",
       "      <th>recommendation_weighted</th>\n",
       "      <th>accepted</th>\n",
       "      <th>cat</th>\n",
       "      <th>split</th>\n",
       "      <th>abstract</th>\n",
       "      <th>text</th>\n",
       "    </tr>\n",
       "  </thead>\n",
       "  <tbody>\n",
       "    <tr>\n",
       "      <th>0</th>\n",
       "      <td>660</td>\n",
       "      <td>2</td>\n",
       "      <td>3.43</td>\n",
       "      <td>4.43</td>\n",
       "      <td>3.43</td>\n",
       "      <td>True</td>\n",
       "      <td>acl_2017</td>\n",
       "      <td>dev</td>\n",
       "      <td>We propose two novel methodologies for the aut...</td>\n",
       "      <td>1 000 011 012 013 014 015 016 017 018 019 020 ...</td>\n",
       "    </tr>\n",
       "    <tr>\n",
       "      <th>1</th>\n",
       "      <td>94</td>\n",
       "      <td>1</td>\n",
       "      <td>5.00</td>\n",
       "      <td>4.00</td>\n",
       "      <td>4.00</td>\n",
       "      <td>True</td>\n",
       "      <td>acl_2017</td>\n",
       "      <td>dev</td>\n",
       "      <td>Restricted non-monotonicity has been shown ben...</td>\n",
       "      <td>1 000 011 012 013 014 015 016 017 018 019 020 ...</td>\n",
       "    </tr>\n",
       "    <tr>\n",
       "      <th>2</th>\n",
       "      <td>37</td>\n",
       "      <td>1</td>\n",
       "      <td>4.00</td>\n",
       "      <td>4.00</td>\n",
       "      <td>4.00</td>\n",
       "      <td>True</td>\n",
       "      <td>acl_2017</td>\n",
       "      <td>dev</td>\n",
       "      <td>We study response selection for multi-turn con...</td>\n",
       "      <td>1 000 011 012 013 014 015 016 017 018 019 020 ...</td>\n",
       "    </tr>\n",
       "    <tr>\n",
       "      <th>3</th>\n",
       "      <td>352</td>\n",
       "      <td>2</td>\n",
       "      <td>4.00</td>\n",
       "      <td>4.60</td>\n",
       "      <td>4.00</td>\n",
       "      <td>True</td>\n",
       "      <td>acl_2017</td>\n",
       "      <td>dev</td>\n",
       "      <td>Neural network models have shown their promisi...</td>\n",
       "      <td>1 000 011 012 013 014 015 016 017 018 019 020 ...</td>\n",
       "    </tr>\n",
       "    <tr>\n",
       "      <th>4</th>\n",
       "      <td>489</td>\n",
       "      <td>2</td>\n",
       "      <td>3.50</td>\n",
       "      <td>4.50</td>\n",
       "      <td>4.00</td>\n",
       "      <td>True</td>\n",
       "      <td>acl_2017</td>\n",
       "      <td>dev</td>\n",
       "      <td>We compare three recent models of referential ...</td>\n",
       "      <td>1 000 011 012 013 014 015 016 017 018 019 020 ...</td>\n",
       "    </tr>\n",
       "  </tbody>\n",
       "</table>\n",
       "</div>"
      ],
      "text/plain": [
       "   paper  review_count  clarity_weighted  substance_weighted  \\\n",
       "0    660             2              3.43                4.43   \n",
       "1     94             1              5.00                4.00   \n",
       "2     37             1              4.00                4.00   \n",
       "3    352             2              4.00                4.60   \n",
       "4    489             2              3.50                4.50   \n",
       "\n",
       "   recommendation_weighted  accepted       cat split  \\\n",
       "0                     3.43      True  acl_2017   dev   \n",
       "1                     4.00      True  acl_2017   dev   \n",
       "2                     4.00      True  acl_2017   dev   \n",
       "3                     4.00      True  acl_2017   dev   \n",
       "4                     4.00      True  acl_2017   dev   \n",
       "\n",
       "                                            abstract  \\\n",
       "0  We propose two novel methodologies for the aut...   \n",
       "1  Restricted non-monotonicity has been shown ben...   \n",
       "2  We study response selection for multi-turn con...   \n",
       "3  Neural network models have shown their promisi...   \n",
       "4  We compare three recent models of referential ...   \n",
       "\n",
       "                                                text  \n",
       "0  1 000 011 012 013 014 015 016 017 018 019 020 ...  \n",
       "1  1 000 011 012 013 014 015 016 017 018 019 020 ...  \n",
       "2  1 000 011 012 013 014 015 016 017 018 019 020 ...  \n",
       "3  1 000 011 012 013 014 015 016 017 018 019 020 ...  \n",
       "4  1 000 011 012 013 014 015 016 017 018 019 020 ...  "
      ]
     },
     "execution_count": 6,
     "metadata": {},
     "output_type": "execute_result"
    }
   ],
   "source": [
    "df.head()"
   ]
  },
  {
   "cell_type": "code",
   "execution_count": 7,
   "metadata": {},
   "outputs": [],
   "source": [
    "bin_array = np.linspace(start=0., stop=5., num=11)"
   ]
  },
  {
   "cell_type": "markdown",
   "metadata": {},
   "source": [
    "## CLARITY (1-5)\n",
    "\n",
    "For the reasonably well-prepared reader, is it clear what was done and why? Is the paper well-written and well-structured?\n",
    "\n",
    "- 5 = Very clear.\n",
    "- 4 = Understandable by most readers.\n",
    "- 3 = Mostly understandable to me with some effort.\n",
    "- 2 = Important questions were hard to resolve even with effort.\n",
    "- 1 = Much of the paper is confusing."
   ]
  },
  {
   "cell_type": "code",
   "execution_count": 8,
   "metadata": {},
   "outputs": [
    {
     "data": {
      "text/plain": [
       "<AxesSubplot:>"
      ]
     },
     "execution_count": 8,
     "metadata": {},
     "output_type": "execute_result"
    },
    {
     "data": {
      "image/png": "[encoded data removed]",
      "text/plain": [
       "<Figure size 432x288 with 1 Axes>"
      ]
     },
     "metadata": {
      "needs_background": "light"
     },
     "output_type": "display_data"
    }
   ],
   "source": [
    "df.clarity_weighted.hist(bins=bin_array)"
   ]
  },
  {
   "cell_type": "markdown",
   "metadata": {},
   "source": [
    "## SUBSTANCE (1-5)\n",
    "\n",
    "Does this paper have enough substance, or would it benefit from more ideas or results? Note that this question mainly concerns the amount of work; its quality is evaluated in other categories.\n",
    "\n",
    "- 5 = Contains more ideas or results than most publications in this conference; goes the extra mile.\n",
    "- 4 = Represents an appropriate amount of work for a publication in this conference. (most submissions)\n",
    "- 3 = Leaves open one or two natural questions that should have been pursued within the paper.\n",
    "- 2 = Work in progress. There are enough good ideas, but perhaps not enough in terms of outcome.\n",
    "- 1 = Seems thin. Not enough ideas here for a full-length paper."
   ]
  },
  {
   "cell_type": "code",
   "execution_count": 9,
   "metadata": {},
   "outputs": [
    {
     "data": {
      "text/plain": [
       "<AxesSubplot:>"
      ]
     },
     "execution_count": 9,
     "metadata": {},
     "output_type": "execute_result"
    },
    {
     "data": {
      "image/png": "[encoded data removed]",
      "text/plain": [
       "<Figure size 432x288 with 1 Axes>"
      ]
     },
     "metadata": {
      "needs_background": "light"
     },
     "output_type": "display_data"
    }
   ],
   "source": [
    "df.substance_weighted.hist(bins=bin_array)"
   ]
  },
  {
   "cell_type": "markdown",
   "metadata": {},
   "source": [
    "## RECOMMENDATION (1-5)\n",
    "\n",
    "There are many good submissions competing for slots at ACL 2016; how important is it to feature this one? Will people learn a lot by reading this paper or seeing it presented?\n",
    "In deciding on your ultimate recommendation, please think over all your scores above. But remember that no paper is perfect, and remember that we want a conference full of interesting, diverse, and timely work. If a paper has some weaknesses, but you really got a lot out of it, feel free to fight for it. If a paper is solid but you could live without it, let us know that you're ambivalent. Remember also that the authors have a few weeks to address reviewer comments before the camera-ready deadline.\n",
    "\n",
    "Should the paper be accepted or rejected?\n",
    "\n",
    "- 5 = This paper changed my thinking on this topic and I'd fight to get it accepted;\n",
    "- 4 = I learned a lot from this paper and would like to see it accepted.\n",
    "- 3 = Borderline: I'm ambivalent about this one.\n",
    "- 2 = Leaning against: I'd rather not see it in the conference.\n",
    "- 1 = Poor: I'd fight to have it rejected."
   ]
  },
  {
   "cell_type": "code",
   "execution_count": 10,
   "metadata": {},
   "outputs": [
    {
     "data": {
      "text/plain": [
       "<AxesSubplot:>"
      ]
     },
     "execution_count": 10,
     "metadata": {},
     "output_type": "execute_result"
    },
    {
     "data": {
      "image/png": "[encoded data removed]",
      "text/plain": [
       "<Figure size 432x288 with 1 Axes>"
      ]
     },
     "metadata": {
      "needs_background": "light"
     },
     "output_type": "display_data"
    }
   ],
   "source": [
    "df.recommendation_weighted.hist(bins=bin_array)"
   ]
  },
  {
   "cell_type": "markdown",
   "metadata": {},
   "source": [
    "## correlations"
   ]
  },
  {
   "cell_type": "code",
   "execution_count": 15,
   "metadata": {},
   "outputs": [
    {
     "data": {
      "text/plain": [
       "<AxesSubplot:>"
      ]
     },
     "execution_count": 15,
     "metadata": {},
     "output_type": "execute_result"
    },
    {
     "data": {
      "image/png": "[encoded data removed]",
      "text/plain": [
       "<Figure size 432x288 with 2 Axes>"
      ]
     },
     "metadata": {
      "needs_background": "light"
     },
     "output_type": "display_data"
    }
   ],
   "source": [
    "sns.heatmap(\n",
    "    df[[\"clarity_weighted\", \"substance_weighted\", \"recommendation_weighted\"]].corr(),\n",
    "    annot=True)"
   ]
  },
  {
   "cell_type": "code",
   "execution_count": null,
   "metadata": {},
   "outputs": [],
   "source": []
  }
 ],
 "metadata": {
  "kernelspec": {
   "display_name": "Python 3",
   "language": "python",
   "name": "python3"
  },
  "language_info": {
   "codemirror_mode": {
    "name": "ipython",
    "version": 3
   },
   "file_extension": ".py",
   "mimetype": "text/x-python",
   "name": "python",
   "nbconvert_exporter": "python",
   "pygments_lexer": "ipython3",
   "version": "3.8.6"
  }
 },
 "nbformat": 4,
 "nbformat_minor": 4
}
