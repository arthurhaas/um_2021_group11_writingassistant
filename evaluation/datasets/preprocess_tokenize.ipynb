{
 "cells": [
  {
   "cell_type": "markdown",
   "metadata": {},
   "source": [
    "# Tokenize datasets into sentences"
   ]
  },
  {
   "cell_type": "code",
   "execution_count": 1,
   "metadata": {},
   "outputs": [],
   "source": [
    "#imports\n",
    "import pandas as pd\n",
    "import os\n",
    "import pickle\n",
    "import ast\n",
    "import string\n",
    "import nltk\n",
    "from nltk.tokenize import sent_tokenize, word_tokenize, wordpunct_tokenize\n",
    "import matplotlib.pyplot as plt\n",
    "\n",
    "#setup\n",
    "FOLDER_NOVELS = os.path.join(\"not_scientific_novels\")\n",
    "FOLDER_THESIS = os.path.join(\"almost_scientific_thesis\")\n",
    "FOLDER_MEDIUM = os.path.join(\"almost_scientific_medium\")\n",
    "FOLDER_REPORTS = os.path.join(\"almost_scientific_reports\")\n",
    "FOLDER_ARXIV = os.path.join(\"scientific_arxiv\")"
   ]
  },
  {
   "cell_type": "code",
   "execution_count": 2,
   "metadata": {},
   "outputs": [],
   "source": [
    "def files_txt(path):\n",
    "    for file in os.listdir(path):\n",
    "        if os.path.isfile(os.path.join(path, file)) and file.endswith('.txt'):\n",
    "            yield file"
   ]
  },
  {
   "cell_type": "markdown",
   "metadata": {},
   "source": [
    "## Almost scientific - medium"
   ]
  },
  {
   "cell_type": "code",
   "execution_count": 30,
   "metadata": {},
   "outputs": [
    {
     "name": "stdout",
     "output_type": "stream",
     "text": [
      "Overview\n",
      "1565 articles from towardsdatascience\n",
      "57856 paragraphs from towardsdatascience\n",
      "? sentences -> see below\n",
      "\n",
      "Details\n"
     ]
    },
    {
     "data": {
      "text/html": [
       "<div>\n",
       "<style scoped>\n",
       "    .dataframe tbody tr th:only-of-type {\n",
       "        vertical-align: middle;\n",
       "    }\n",
       "\n",
       "    .dataframe tbody tr th {\n",
       "        vertical-align: top;\n",
       "    }\n",
       "\n",
       "    .dataframe thead th {\n",
       "        text-align: right;\n",
       "    }\n",
       "</style>\n",
       "<table border=\"1\" class=\"dataframe\">\n",
       "  <thead>\n",
       "    <tr style=\"text-align: right;\">\n",
       "      <th></th>\n",
       "      <th>date</th>\n",
       "      <th>title</th>\n",
       "      <th>subtitle</th>\n",
       "      <th>claps</th>\n",
       "      <th>responses</th>\n",
       "      <th>author_url</th>\n",
       "      <th>story_url</th>\n",
       "      <th>reading_time (mins)</th>\n",
       "      <th>number_sections</th>\n",
       "      <th>section_titles</th>\n",
       "      <th>number_paragraphs</th>\n",
       "      <th>paragraphs</th>\n",
       "    </tr>\n",
       "  </thead>\n",
       "  <tbody>\n",
       "    <tr>\n",
       "      <th>0</th>\n",
       "      <td>2021-01-01</td>\n",
       "      <td>7 Most Recommended Skills to Learn in 2021 to ...</td>\n",
       "      <td>Recommended by some of the largest…</td>\n",
       "      <td>1K</td>\n",
       "      <td>10</td>\n",
       "      <td>https://towardsdatascience.com/@terenceshin</td>\n",
       "      <td>https://towardsdatascience.com/7-most-recommen...</td>\n",
       "      <td>6</td>\n",
       "      <td>11</td>\n",
       "      <td>['7 Most Recommended Skills to Learn in 2021 t...</td>\n",
       "      <td>36</td>\n",
       "      <td>['Terence Shin', 'Jan 1·6 min read', 'Happy Ne...</td>\n",
       "    </tr>\n",
       "    <tr>\n",
       "      <th>1</th>\n",
       "      <td>2021-01-01</td>\n",
       "      <td>Shakespeare versus Eminem— who’s the better ly...</td>\n",
       "      <td>He is known for his poetry, his writings on life…</td>\n",
       "      <td>139</td>\n",
       "      <td>2</td>\n",
       "      <td>https://towardsdatascience.com/@jeroenvanzeeland</td>\n",
       "      <td>https://towardsdatascience.com/shakespeare-ver...</td>\n",
       "      <td>9</td>\n",
       "      <td>13</td>\n",
       "      <td>['Shakespeare versus Eminem—who’s the better l...</td>\n",
       "      <td>64</td>\n",
       "      <td>['Jeroen van Zeeland', 'Jan 1·9 min read', 'Da...</td>\n",
       "    </tr>\n",
       "  </tbody>\n",
       "</table>\n",
       "</div>"
      ],
      "text/plain": [
       "         date                                              title  \\\n",
       "0  2021-01-01  7 Most Recommended Skills to Learn in 2021 to ...   \n",
       "1  2021-01-01  Shakespeare versus Eminem— who’s the better ly...   \n",
       "\n",
       "                                            subtitle claps  responses  \\\n",
       "0                Recommended by some of the largest…    1K         10   \n",
       "1  He is known for his poetry, his writings on life…   139          2   \n",
       "\n",
       "                                         author_url  \\\n",
       "0       https://towardsdatascience.com/@terenceshin   \n",
       "1  https://towardsdatascience.com/@jeroenvanzeeland   \n",
       "\n",
       "                                           story_url  reading_time (mins)  \\\n",
       "0  https://towardsdatascience.com/7-most-recommen...                    6   \n",
       "1  https://towardsdatascience.com/shakespeare-ver...                    9   \n",
       "\n",
       "   number_sections                                     section_titles  \\\n",
       "0               11  ['7 Most Recommended Skills to Learn in 2021 t...   \n",
       "1               13  ['Shakespeare versus Eminem—who’s the better l...   \n",
       "\n",
       "   number_paragraphs                                         paragraphs  \n",
       "0                 36  ['Terence Shin', 'Jan 1·6 min read', 'Happy Ne...  \n",
       "1                 64  ['Jeroen van Zeeland', 'Jan 1·9 min read', 'Da...  "
      ]
     },
     "execution_count": 30,
     "metadata": {},
     "output_type": "execute_result"
    }
   ],
   "source": [
    "df_medium = pd.read_csv(os.path.join(FOLDER_MEDIUM, \"2021-01-January_export_scraper.csv\"))\n",
    "print(\"Overview\")\n",
    "print(f\"{len(df_medium)} articles from towardsdatascience\")\n",
    "print(f\"{df_medium.number_paragraphs.sum()} paragraphs from towardsdatascience\")\n",
    "print(\"? sentences -> see below\")\n",
    "print(\"\\nDetails\")\n",
    "df_medium.head(2)"
   ]
  },
  {
   "cell_type": "code",
   "execution_count": 26,
   "metadata": {},
   "outputs": [],
   "source": [
    "## Might be necessary, in case of an error in next cell:\n",
    "# nltk.download('punkt')"
   ]
  },
  {
   "cell_type": "code",
   "execution_count": 31,
   "metadata": {},
   "outputs": [
    {
     "name": "stdout",
     "output_type": "stream",
     "text": [
      "['Soner Yıldırım'] \n",
      "\n",
      "['Jan 1·5 min read'] \n",
      "\n",
      "['Stock price analysis is an example of time series analysis which is one of the primary areas in predictive analytics.', 'Time series data contains measurements or observations attached to sequential time stamps.', 'In case of stock prices, the time stamps can be seconds, minutes, or days depending on the task.'] \n",
      "\n",
      "['This article is a practical guide that covers some basic and essential operations in stock price analysis.', 'We will be using Pandas for data manipulation and Altair for data visualization.', 'Both are Python libraries that are commonly used in data science.'] \n",
      "\n",
      "['There are many resources to get stock price data.', 'We will use the data reader API of Pandas.', 'We first import the dependencies.'] \n",
      "\n"
     ]
    }
   ],
   "source": [
    "# Testing how the sentence tokenizer is applied to the paragraphs from medium articles.\n",
    "# This test shows, that every paragraphs has to be tokenized individually.\n",
    "\n",
    "test = df_medium['paragraphs'][4]\n",
    "test_list = ast.literal_eval(test)\n",
    "for para in test_list[:5]:\n",
    "    print(sent_tokenize(para), '\\n')"
   ]
  },
  {
   "cell_type": "code",
   "execution_count": 18,
   "metadata": {},
   "outputs": [],
   "source": [
    "def process_article(article, skip_paragraphs):\n",
    "    \"\"\"\n",
    "    Function to tokenize each paragraph of an article.\n",
    "    \"\"\"\n",
    "    \n",
    "    # string to list of paragraphs\n",
    "    article = ast.literal_eval(article)\n",
    "    sentence_list = []\n",
    "    \n",
    "    # remove author, date , title - This might cut of one paragraph too mu\n",
    "    article = article[skip_paragraphs:]\n",
    "    \n",
    "    for para in article:\n",
    "        sents = sent_tokenize(para)\n",
    "        sentence_list.extend(sents)\n",
    "        \n",
    "    return sentence_list"
   ]
  },
  {
   "cell_type": "code",
   "execution_count": 29,
   "metadata": {},
   "outputs": [],
   "source": [
    "df_medium['sentences'] = [process_article(article,2) for article in df_medium['paragraphs']]"
   ]
  },
  {
   "cell_type": "code",
   "execution_count": 31,
   "metadata": {},
   "outputs": [
    {
     "name": "stdout",
     "output_type": "stream",
     "text": [
      "['Soner Yıldırım', 'Jan 1·5 min read', 'Stock price analysis is an example of time series analysis which is one of the primary areas in predictive analytics. Time series data contains measurements or observations attached to sequential time stamps. In case of stock prices, the time stamps can be seconds, minutes, or days depending on the task.', 'This article is a practical guide that covers some basic and essential operations in stock price analysis. We will be using Pandas for data manipulation and Altair for data visualization. Both are Python libraries that are commonly used in data science.', 'There are many resources to get stock price data. We will use the data reader API of Pandas. We first import the dependencies.', 'We can now use the data reader to create Pandas dataframes that contain stock price data.', 'We use the DataReader function to get the stock prices. The stock name, start and end dates, and the source are the required parameters.', 'This function returns a dataframe as below:', 'We have a separate dataframe for Apple, IBM, and Microsoft. It is better to combine them but we need a column to specify the name of the stock.', 'The symbol column in each dataframe indicates the name. We can now combine them using the concat function of Pandas.', 'I have only included the date, close, volume, and symbol columns. Let’s first create a basic line plot of Apple stock prices.', 'The first line in the code is a top-level Chart object. We pass the data to be plotted to this object. A filter is applied using the symbol column to only include data that belongs to Apple stocks.', 'In the next line, the type of the plot is specified. The encode function indicates the columns to be plotted. Whatever we write as an argument in the encode function must be linked to the data passed to the Chart object.', 'The stock price of Apple seems to be continuously increasing except for a few occasional drops. The one in the April 2020 might be related to the global pandemic due to corona virus.', 'We can show the stock prices of all three companies in one visualization.', 'What distinguishes the companies is the symbol column. It is passed as an argument to the color parameter of the encode function. Apple and Microsoft stock prices follow a similar trend. IBM seems to suffer more from the pandemic.', 'In the last line, we use the properties function to change the size of the figure.', 'We can smooth the line by resampling the data. Resampling basically means representing the data with a different frequency. One option is to use the resample function Pandas. It aggregates data based on specified frequency and aggregation function.', 'The code above resamples the Microsoft stock prices based on the average of 7-day periods.', 'The only difference is that we pass the resampled data to the Chart object. The line seems much more smooth now.', 'Altair makes it quite simple to have multiple plots in one visualization. For instance, we can plot the closing price and volume for Microsoft stocks as below.', 'We assign each plot to a variable. The variables can easily be combined by logical operators. For instance, “|” puts them side-by-side whereas “&” puts the second plot under the first one.', 'Altair provides many options to enrich the visualizations by conveying more information. For instance, we can add a line that indicates the average value.', 'The first plot is a line plot just like the ones created earlier. The second plot is a rule that calculates the average value for each line. It is pretty straightforward to transform data with Altair. For instance, in the encode function of the second plot, the aggregation is indicated with a string (‘average(Close)’).', 'In our case, we can visually compare the mean values because there is a significant gap between values. However, it might be useful to indicate the mean when the values are close.', 'There are many definitions of time series data, all of which indicate the same meaning in a different way. A straightforward definition is that time series data includes data points attached to sequential time stamps.', 'We have covered some basic operations with Pandas and Altair. There is much more to cover in time series analysis. In fact, it is a highly complex topic and there is a great amount of research being done in this field.', 'With that being said, it is almost beneficial to comprehend the basics and then start on the more advanced topics.', 'Thank you for reading. Please let me know if you have any feedback.'] \n",
      "\n",
      "\n",
      " ['Stock price analysis is an example of time series analysis which is one of the primary areas in predictive analytics.', 'Time series data contains measurements or observations attached to sequential time stamps.', 'In case of stock prices, the time stamps can be seconds, minutes, or days depending on the task.', 'This article is a practical guide that covers some basic and essential operations in stock price analysis.', 'We will be using Pandas for data manipulation and Altair for data visualization.', 'Both are Python libraries that are commonly used in data science.', 'There are many resources to get stock price data.', 'We will use the data reader API of Pandas.', 'We first import the dependencies.', 'We can now use the data reader to create Pandas dataframes that contain stock price data.', 'We use the DataReader function to get the stock prices.', 'The stock name, start and end dates, and the source are the required parameters.', 'This function returns a dataframe as below:', 'We have a separate dataframe for Apple, IBM, and Microsoft.', 'It is better to combine them but we need a column to specify the name of the stock.', 'The symbol column in each dataframe indicates the name.', 'We can now combine them using the concat function of Pandas.', 'I have only included the date, close, volume, and symbol columns.', 'Let’s first create a basic line plot of Apple stock prices.', 'The first line in the code is a top-level Chart object.', 'We pass the data to be plotted to this object.', 'A filter is applied using the symbol column to only include data that belongs to Apple stocks.', 'In the next line, the type of the plot is specified.', 'The encode function indicates the columns to be plotted.', 'Whatever we write as an argument in the encode function must be linked to the data passed to the Chart object.', 'The stock price of Apple seems to be continuously increasing except for a few occasional drops.', 'The one in the April 2020 might be related to the global pandemic due to corona virus.', 'We can show the stock prices of all three companies in one visualization.', 'What distinguishes the companies is the symbol column.', 'It is passed as an argument to the color parameter of the encode function.', 'Apple and Microsoft stock prices follow a similar trend.', 'IBM seems to suffer more from the pandemic.', 'In the last line, we use the properties function to change the size of the figure.', 'We can smooth the line by resampling the data.', 'Resampling basically means representing the data with a different frequency.', 'One option is to use the resample function Pandas.', 'It aggregates data based on specified frequency and aggregation function.', 'The code above resamples the Microsoft stock prices based on the average of 7-day periods.', 'The only difference is that we pass the resampled data to the Chart object.', 'The line seems much more smooth now.', 'Altair makes it quite simple to have multiple plots in one visualization.', 'For instance, we can plot the closing price and volume for Microsoft stocks as below.', 'We assign each plot to a variable.', 'The variables can easily be combined by logical operators.', 'For instance, “|” puts them side-by-side whereas “&” puts the second plot under the first one.', 'Altair provides many options to enrich the visualizations by conveying more information.', 'For instance, we can add a line that indicates the average value.', 'The first plot is a line plot just like the ones created earlier.', 'The second plot is a rule that calculates the average value for each line.', 'It is pretty straightforward to transform data with Altair.', 'For instance, in the encode function of the second plot, the aggregation is indicated with a string (‘average(Close)’).', 'In our case, we can visually compare the mean values because there is a significant gap between values.', 'However, it might be useful to indicate the mean when the values are close.', 'There are many definitions of time series data, all of which indicate the same meaning in a different way.', 'A straightforward definition is that time series data includes data points attached to sequential time stamps.', 'We have covered some basic operations with Pandas and Altair.', 'There is much more to cover in time series analysis.', 'In fact, it is a highly complex topic and there is a great amount of research being done in this field.', 'With that being said, it is almost beneficial to comprehend the basics and then start on the more advanced topics.', 'Thank you for reading.', 'Please let me know if you have any feedback.']\n"
     ]
    }
   ],
   "source": [
    "idx = 4\n",
    "print(df_medium['paragraphs'][idx], '\\n\\n\\n',df_medium['sentences'][idx])"
   ]
  },
  {
   "cell_type": "code",
   "execution_count": 32,
   "metadata": {},
   "outputs": [
    {
     "name": "stdout",
     "output_type": "stream",
     "text": [
      "Number of sentences: 118969\n"
     ]
    }
   ],
   "source": [
    "# Accumulating all sentences\n",
    "all_sentences = []\n",
    "\n",
    "for sentences in df_medium['sentences']:\n",
    "    all_sentences.extend(sentences)\n",
    "    \n",
    "print(f'Number of sentences: {len(all_sentences)}')"
   ]
  },
  {
   "cell_type": "code",
   "execution_count": 35,
   "metadata": {},
   "outputs": [
    {
     "data": {
      "image/png": "[encoded data removed]",
      "text/plain": [
       "<Figure size 432x288 with 1 Axes>"
      ]
     },
     "metadata": {
      "needs_background": "light"
     },
     "output_type": "display_data"
    }
   ],
   "source": [
    "# Calculate length of sentences without punctuation\n",
    "len_all_sentences = [len([word for word in word_tokenize(sent) if not word in string.punctuation]) for sent in all_sentences]\n",
    "\n",
    "plt.hist(len_all_sentences, bins = 100)\n",
    "plt.show()"
   ]
  },
  {
   "cell_type": "code",
   "execution_count": 36,
   "metadata": {},
   "outputs": [
    {
     "name": "stdout",
     "output_type": "stream",
     "text": [
      "Number of sentences: 113554\n"
     ]
    }
   ],
   "source": [
    "# Some filtering\n",
    "\n",
    "# A complete sentence needs at least S,V,O\n",
    "all_sentences = [sent for i, sent in enumerate(all_sentences) if len_all_sentences[i] >= 3]\n",
    "print(f'Number of sentences: {len(all_sentences)}')"
   ]
  },
  {
   "cell_type": "code",
   "execution_count": 38,
   "metadata": {},
   "outputs": [],
   "source": [
    "with open(os.path.join(FOLDER_MEDIUM, 'sentences.pickle'), 'wb') as fp:\n",
    "    pickle.dump(all_sentences , fp)"
   ]
  },
  {
   "cell_type": "markdown",
   "metadata": {},
   "source": [
    "## Almost scientific - our reports"
   ]
  },
  {
   "cell_type": "code",
   "execution_count": 3,
   "metadata": {},
   "outputs": [],
   "source": [
    "sentence_list = []\n",
    "\n",
    "# original datasource contains one file per paragraph\n",
    "# to avoid uploading 10k files to Github, all of them were concatinated into one file using: cat *.txt > original.txt\n",
    "# nevertheless, following code can be useful later\n",
    "for file in files_txt(os.path.join(FOLDER_REPORTS, \"processed\")):\n",
    "    with open(os.path.join(FOLDER_REPORTS, \"processed\", file), \"r\") as fp:\n",
    "        text = fp.read()\n",
    "        sentence_list.extend(sent_tokenize(text))"
   ]
  },
  {
   "cell_type": "code",
   "execution_count": 4,
   "metadata": {},
   "outputs": [
    {
     "name": "stdout",
     "output_type": "stream",
     "text": [
      "Number of documents: 35\n",
      "Number of sentences 4682\n"
     ]
    }
   ],
   "source": [
    "print(f\"Number of documents: {len(list(files_txt(os.path.join(FOLDER_REPORTS, 'processed'))))}\")\n",
    "print(f\"Number of sentences {len(sentence_list)}\")"
   ]
  },
  {
   "cell_type": "code",
   "execution_count": 5,
   "metadata": {},
   "outputs": [
    {
     "name": "stdout",
     "output_type": "stream",
     "text": [
      "Number of sentences before filtering: 4682\n"
     ]
    },
    {
     "data": {
      "image/png": "[encoded data removed]",
      "text/plain": [
       "<Figure size 432x288 with 1 Axes>"
      ]
     },
     "metadata": {
      "needs_background": "light"
     },
     "output_type": "display_data"
    },
    {
     "name": "stdout",
     "output_type": "stream",
     "text": [
      "Number of sentences after filtering: 4389\n"
     ]
    }
   ],
   "source": [
    "print(f'Number of sentences before filtering: {len(sentence_list)}')\n",
    "\n",
    "# Calculate length of sentences without punctuation\n",
    "len_all_sentences = [len([word for word in word_tokenize(sent) if not word in string.punctuation]) for sent in sentence_list]\n",
    "plt.hist(len_all_sentences, bins = 100)\n",
    "plt.show()\n",
    "\n",
    "# Some filtering\n",
    "# A complete sentence needs at least S,V,O\n",
    "sentence_list = [sent for i, sent in enumerate(sentence_list) if len_all_sentences[i] >= 3]\n",
    "print(f'Number of sentences after filtering: {len(sentence_list)}')"
   ]
  },
  {
   "cell_type": "code",
   "execution_count": 6,
   "metadata": {},
   "outputs": [],
   "source": [
    "with open(os.path.join(FOLDER_REPORTS, 'sentences.pickle'), 'wb') as fp:\n",
    "    pickle.dump(sentence_list , fp)"
   ]
  },
  {
   "cell_type": "markdown",
   "metadata": {},
   "source": [
    "## (won't do) Almost scientific - thesis\n",
    "\n",
    "- first view on dataset showed: Main topics about agriculture and farming.\n",
    "- todo: might need to do NER to check topics more thourougly. But, better keep to other datasets!"
   ]
  },
  {
   "cell_type": "code",
   "execution_count": 16,
   "metadata": {},
   "outputs": [
    {
     "name": "stdout",
     "output_type": "stream",
     "text": [
      "merged.txt\n",
      "\n",
      "Error here due to an decode error (see below).\n",
      "Won't continue thesis dataset due to this error and not relevant topic of thesis.\n",
      "\n",
      "'utf-8' codec can't decode byte 0xd5 in position 928: invalid continuation byte\n"
     ]
    }
   ],
   "source": [
    "sentence_list = []\n",
    "\n",
    "try:\n",
    "    for file in files_txt(os.path.join(FOLDER_THESIS, \"original\")):\n",
    "        with open(os.path.join(FOLDER_THESIS, \"original\", file), \"r\") as fp:\n",
    "            print(file)\n",
    "            text = fp.read()\n",
    "            sentence_list.extend(sent_tokenize(text))\n",
    "except UnicodeDecodeError as e:\n",
    "    print(\n",
    "\"\"\"\n",
    "Error here due to an decode error (see below).\n",
    "Won't continue thesis dataset due to this error and not relevant topic of thesis.\n",
    "\"\"\")\n",
    "    print(e)"
   ]
  },
  {
   "cell_type": "markdown",
   "metadata": {},
   "source": [
    "## Scientific - arxiv"
   ]
  },
  {
   "cell_type": "code",
   "execution_count": 55,
   "metadata": {},
   "outputs": [],
   "source": [
    "sentence_list = []\n",
    "\n",
    "# original datasource contains one file per paragraph\n",
    "# to avoid uploading 10k files to Github, all of them were concatinated into one file using: cat *.txt > original.txt\n",
    "# nevertheless, following code can be useful later\n",
    "for file in files_txt(os.path.join(FOLDER_ARXIV, \"original\")):\n",
    "    with open(os.path.join(FOLDER_ARXIV, \"original\", file), \"r\") as fp:\n",
    "        paragraphs = fp.read()\n",
    "        paragraphs = paragraphs.strip()\n",
    "        sentence_list.extend(sent_tokenize(paragraphs))"
   ]
  },
  {
   "cell_type": "code",
   "execution_count": 56,
   "metadata": {},
   "outputs": [
    {
     "name": "stdout",
     "output_type": "stream",
     "text": [
      "Number of sentences before filtering: 131569\n"
     ]
    },
    {
     "data": {
      "image/png": "[encoded data removed]",
      "text/plain": [
       "<Figure size 432x288 with 1 Axes>"
      ]
     },
     "metadata": {
      "needs_background": "light"
     },
     "output_type": "display_data"
    },
    {
     "name": "stdout",
     "output_type": "stream",
     "text": [
      "Number of sentences after filtering: 124755\n"
     ]
    }
   ],
   "source": [
    "print(f'Number of sentences before filtering: {len(sentence_list)}')\n",
    "\n",
    "# Calculate length of sentences without punctuation\n",
    "len_all_sentences = [len([word for word in word_tokenize(sent) if not word in string.punctuation]) for sent in sentence_list]\n",
    "plt.hist(len_all_sentences, bins = 100)\n",
    "plt.show()\n",
    "\n",
    "# Some filtering\n",
    "# A complete sentence needs at least S,V,O\n",
    "sentence_list = [sent for i, sent in enumerate(sentence_list) if len_all_sentences[i] >= 3]\n",
    "print(f'Number of sentences after filtering: {len(sentence_list)}')"
   ]
  },
  {
   "cell_type": "code",
   "execution_count": 57,
   "metadata": {},
   "outputs": [],
   "source": [
    "with open(os.path.join(FOLDER_ARXIV, 'sentences.pickle'), 'wb') as fp:\n",
    "    pickle.dump(sentence_list , fp)"
   ]
  },
  {
   "cell_type": "code",
   "execution_count": null,
   "metadata": {},
   "outputs": [],
   "source": []
  },
  {
   "cell_type": "markdown",
   "metadata": {},
   "source": [
    "## Non scientific - novels"
   ]
  },
  {
   "cell_type": "code",
   "execution_count": 36,
   "metadata": {},
   "outputs": [],
   "source": [
    "sentence_list = []\n",
    "\n",
    "# original datasource contains one file per paragraph\n",
    "# to avoid uploading 10k files to Github, all of them were concatinated into one file using: cat *.txt > original.txt\n",
    "# nevertheless, following code can be useful later\n",
    "for file in files_txt(os.path.join(FOLDER_NOVELS, \"original\")):\n",
    "    with open(os.path.join(FOLDER_NOVELS, \"original\", file), \"r\") as fp:\n",
    "        text = fp.read()\n",
    "        sentence_list.extend(sent_tokenize(text))"
   ]
  },
  {
   "cell_type": "code",
   "execution_count": 37,
   "metadata": {},
   "outputs": [
    {
     "name": "stdout",
     "output_type": "stream",
     "text": [
      "Number of documents: 6\n",
      "Number of sentences 79784\n"
     ]
    }
   ],
   "source": [
    "print(f\"Number of documents: {len(list(files_txt(os.path.join(FOLDER_REPORTS, 'processed'))))}\")\n",
    "print(f\"Number of sentences {len(sentence_list)}\")"
   ]
  },
  {
   "cell_type": "code",
   "execution_count": 38,
   "metadata": {},
   "outputs": [
    {
     "name": "stdout",
     "output_type": "stream",
     "text": [
      "Number of sentences before filtering: 79784\n"
     ]
    },
    {
     "data": {
      "image/png": "[encoded data removed]",
      "text/plain": [
       "<Figure size 432x288 with 1 Axes>"
      ]
     },
     "metadata": {
      "needs_background": "light"
     },
     "output_type": "display_data"
    },
    {
     "name": "stdout",
     "output_type": "stream",
     "text": [
      "Number of sentences after filtering: 72239\n"
     ]
    }
   ],
   "source": [
    "print(f'Number of sentences before filtering: {len(sentence_list)}')\n",
    "\n",
    "# Calculate length of sentences without punctuation\n",
    "len_all_sentences = [len([word for word in word_tokenize(sent) if not word in string.punctuation]) for sent in sentence_list]\n",
    "plt.hist(len_all_sentences, bins = 100)\n",
    "plt.show()\n",
    "\n",
    "# Some filtering\n",
    "# A complete sentence needs at least S,V,O\n",
    "sentence_list = [sent for i, sent in enumerate(sentence_list) if len_all_sentences[i] >= 3]\n",
    "print(f'Number of sentences after filtering: {len(sentence_list)}')"
   ]
  },
  {
   "cell_type": "code",
   "execution_count": 39,
   "metadata": {},
   "outputs": [],
   "source": [
    "with open(os.path.join(FOLDER_NOVELS, 'sentences.pickle'), 'wb') as fp:\n",
    "    pickle.dump(sentence_list , fp)"
   ]
  },
  {
   "cell_type": "code",
   "execution_count": null,
   "metadata": {},
   "outputs": [],
   "source": []
  }
 ],
 "metadata": {
  "kernelspec": {
   "display_name": "Python 3",
   "language": "python",
   "name": "python3"
  },
  "language_info": {
   "codemirror_mode": {
    "name": "ipython",
    "version": 3
   },
   "file_extension": ".py",
   "mimetype": "text/x-python",
   "name": "python",
   "nbconvert_exporter": "python",
   "pygments_lexer": "ipython3",
   "version": "3.9.4"
  },
  "toc": {
   "base_numbering": 1,
   "nav_menu": {},
   "number_sections": true,
   "sideBar": true,
   "skip_h1_title": false,
   "title_cell": "Table of Contents",
   "title_sidebar": "Contents",
   "toc_cell": false,
   "toc_position": {},
   "toc_section_display": true,
   "toc_window_display": false
  }
 },
 "nbformat": 4,
 "nbformat_minor": 4
}
