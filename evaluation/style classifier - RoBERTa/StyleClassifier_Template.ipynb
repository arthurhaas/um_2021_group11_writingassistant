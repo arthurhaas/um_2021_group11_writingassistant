{
 "cells": [
  {
   "cell_type": "markdown",
   "metadata": {
    "id": "vtqo-KADGG67"
   },
   "source": [
    "# Building a RoBERTa-Classifier \n",
    "\n",
    "\n",
    "In this notebook we build a model to classify sentences. The classifier consists of a fully connected layer ont top of the [CLS]-vector a RoBERTa model.\n",
    "\n",
    "The implemenation is based on:\n",
    "- https://curiousily.com/posts/sentiment-analysis-with-bert-and-hugging-face-using-pytorch-and-python/\n",
    "-https://huggingface.co/transformers/model_doc/bert.html\n",
    "-https://huggingface.co/transformers/model_doc/roberta.html\n",
    "\n",
    "\n",
    "First, mount drive in which the used data is stored.\n"
   ]
  },
  {
   "cell_type": "code",
   "execution_count": null,
   "metadata": {
    "colab": {
     "base_uri": "https://localhost:8080/"
    },
    "executionInfo": {
     "elapsed": 23555,
     "status": "ok",
     "timestamp": 1623827985777,
     "user": {
      "displayName": "Carsten Gieshoff",
      "photoUrl": "",
      "userId": "15205643335020562625"
     },
     "user_tz": -120
    },
    "id": "nTtsu4qljgVx",
    "outputId": "73a372f5-2137-4e9e-d434-83431c3d5bc0"
   },
   "outputs": [],
   "source": [
    "#from google.colab import drive\n",
    "#drive.mount('/content/gdrive')"
   ]
  },
  {
   "cell_type": "markdown",
   "metadata": {
    "id": "kuoFPdzvGG7C"
   },
   "source": [
    "## Loading all needed Libraries"
   ]
  },
  {
   "cell_type": "code",
   "execution_count": null,
   "metadata": {
    "colab": {
     "base_uri": "https://localhost:8080/"
    },
    "executionInfo": {
     "elapsed": 7266,
     "status": "ok",
     "timestamp": 1623827993037,
     "user": {
      "displayName": "Carsten Gieshoff",
      "photoUrl": "",
      "userId": "15205643335020562625"
     },
     "user_tz": -120
    },
    "id": "dmNuCOFOGh1w",
    "outputId": "cdfd1cb5-fece-46b0-a91d-ffa47d4be203"
   },
   "outputs": [],
   "source": [
    "! pip install transformers==3\n",
    "! pip install tokenizers"
   ]
  },
  {
   "cell_type": "code",
   "execution_count": null,
   "metadata": {
    "executionInfo": {
     "elapsed": 4008,
     "status": "ok",
     "timestamp": 1623827997040,
     "user": {
      "displayName": "Carsten Gieshoff",
      "photoUrl": "",
      "userId": "15205643335020562625"
     },
     "user_tz": -120
    },
    "id": "CEqGmlAVGG7C"
   },
   "outputs": [],
   "source": [
    "import transformers\n",
    "from transformers import RobertaModel, RobertaTokenizer, AdamW, get_linear_schedule_with_warmup\n",
    "import torch\n",
    "import numpy as np\n",
    "import pandas as pd\n",
    "import seaborn as sns\n",
    "from pylab import rcParams\n",
    "import matplotlib.pyplot as plt\n",
    "from matplotlib import rc\n",
    "from sklearn.model_selection import train_test_split\n",
    "from sklearn.metrics import confusion_matrix, classification_report\n",
    "from collections import defaultdict\n",
    "from textwrap import wrap\n",
    "from torch import nn, optim\n",
    "import torch.nn.functional as F\n",
    "from torch.utils.data import Dataset, DataLoader\n",
    "import re\n",
    "from sklearn.utils import resample\n",
    "from sklearn.metrics import confusion_matrix\n",
    "import random\n",
    "import pickle"
   ]
  },
  {
   "cell_type": "markdown",
   "metadata": {
    "id": "SgxcMFe9glxh"
   },
   "source": [
    "- Get GPU"
   ]
  },
  {
   "cell_type": "code",
   "execution_count": null,
   "metadata": {
    "colab": {
     "base_uri": "https://localhost:8080/"
    },
    "executionInfo": {
     "elapsed": 16,
     "status": "ok",
     "timestamp": 1623827997040,
     "user": {
      "displayName": "Carsten Gieshoff",
      "photoUrl": "",
      "userId": "15205643335020562625"
     },
     "user_tz": -120
    },
    "id": "5FipvThvGG7F",
    "outputId": "9438e163-6e2d-4e25-90c8-d4ba1cde8d71"
   },
   "outputs": [],
   "source": [
    "# Get Device \n",
    "device = torch.device(\"cuda:0\" if torch.cuda.is_available() else \"cpu\")\n",
    "print(f'Used device is {device}')"
   ]
  },
  {
   "cell_type": "markdown",
   "metadata": {
    "id": "PGJfiP3vGG7F"
   },
   "source": [
    "## Loading and Combining Data into Dataset\n",
    "\n",
    "In this section the data is supposed to be laoded. Here we should have two lists of sentences, each from one corpus. These will be assigned labels and  then grouped and shuffled. Make sure the data is at least to some extend balanced.\n",
    "\n",
    "Moreover, all sentences are lower-cased. Punctuationbehaviour should also be similar in both corpora. It is recommended to run both corpora through the same preprocessing to ensure no formality give-aways occur in the data."
   ]
  },
  {
   "cell_type": "code",
   "execution_count": null,
   "metadata": {
    "executionInfo": {
     "elapsed": 15,
     "status": "ok",
     "timestamp": 1623827997041,
     "user": {
      "displayName": "Carsten Gieshoff",
      "photoUrl": "",
      "userId": "15205643335020562625"
     },
     "user_tz": -120
    },
    "id": "nhnkm2OLBZKj"
   },
   "outputs": [],
   "source": [
    "# Paths to data in drive // will be replaced at some point as data is put into Arthurs Drive \n",
    "datapath = '/evaluation/datasets/'\n",
    "datapath_scientific = datapath + 'scientific_arxiv/'\n",
    "datapath_almost_scientific = datapath + 'almost_scientific_medium/'\n",
    "\n"
   ]
  },
  {
   "cell_type": "code",
   "execution_count": null,
   "metadata": {
    "colab": {
     "base_uri": "https://localhost:8080/"
    },
    "executionInfo": {
     "elapsed": 3466,
     "status": "ok",
     "timestamp": 1623828000493,
     "user": {
      "displayName": "Carsten Gieshoff",
      "photoUrl": "",
      "userId": "15205643335020562625"
     },
     "user_tz": -120
    },
    "id": "HxPNuFZaGG7G",
    "outputId": "f30135e2-255e-48e3-c14c-9f3052e56c68"
   },
   "outputs": [],
   "source": [
    "# Load Almost Scientific data\n",
    "with open(datapath_almost_scientific + 'medium_processed_sentences.pkl', \"rb\") as f:  #os.path.join(args.data_dir, \"template_%d.pickle\" % i)\n",
    "    data1 = pickle.load(f)\n",
    "\n",
    "# lower-casing\n",
    "data1 = [sent.lower() for sent in data1]\n",
    "\n",
    "# non-scientific is assigend the label zero\n",
    "labels1 = [0 for _ in range(len(data1))]\n",
    "\n",
    "# looking at examples\n",
    "for i in range(100):\n",
    "  print(data1[i])\n",
    "\n",
    "print()\n",
    "print(f'Number of Medium Sentences: {len(data1)}')"
   ]
  },
  {
   "cell_type": "code",
   "execution_count": null,
   "metadata": {
    "colab": {
     "base_uri": "https://localhost:8080/"
    },
    "executionInfo": {
     "elapsed": 2732,
     "status": "ok",
     "timestamp": 1623828003213,
     "user": {
      "displayName": "Carsten Gieshoff",
      "photoUrl": "",
      "userId": "15205643335020562625"
     },
     "user_tz": -120
    },
    "id": "CAUV1GYsOIBq",
    "outputId": "a49f3f80-64b1-4060-9b99-f37a36d85f30"
   },
   "outputs": [],
   "source": [
    "# Load Scientific data\n",
    "with open(datapath_scientific + 'ds_sentence_list_full.pkl', \"rb\") as f:  #os.path.join(args.data_dir, \"template_%d.pickle\" % i)\n",
    "    data2= pickle.load(f)\n",
    "\n",
    "# Just using the same amount of data to be balanced\n",
    "data2 = data2[:len(data1)]\n",
    "\n",
    "# scientific sentences are given the label one\n",
    "labels2 = [1 for _ in range(len(data2))]\n",
    "\n",
    "# looking at examples\n",
    "for i in range(5,20):\n",
    "  print(data2[i])\n",
    "\n",
    "\n",
    "print()\n",
    "print(f'Number of DS Arxiv Sentences: {len(data2)}')  "
   ]
  },
  {
   "cell_type": "markdown",
   "metadata": {
    "id": "AZ7CcBqjkU9B"
   },
   "source": [
    "**Sentences from both corpora should have the same appearance w.r.t. casing and punctuation. If this is not the case, data needs to be reworked.**\n",
    "\n",
    "Netx, the two coropra and their labels are combined into one dataset."
   ]
  },
  {
   "cell_type": "code",
   "execution_count": null,
   "metadata": {
    "colab": {
     "base_uri": "https://localhost:8080/"
    },
    "executionInfo": {
     "elapsed": 727,
     "status": "ok",
     "timestamp": 1623828003936,
     "user": {
      "displayName": "Carsten Gieshoff",
      "photoUrl": "",
      "userId": "15205643335020562625"
     },
     "user_tz": -120
    },
    "id": "Sq6gVUc8Pyb6",
    "outputId": "dbaab6d9-4abc-46a1-8931-0178a47e81ee"
   },
   "outputs": [],
   "source": [
    "# Combine both datasets\n",
    "combinded_data = list(zip(data1, labels1))+ list(zip(data2, labels2))\n",
    "\n",
    "#Shuffle\n",
    "random.Random(42).shuffle(combinded_data)\n",
    "\n",
    "# get list of sentecnes and corresponding labels\n",
    "data, labels = zip(*combinded_data)\n",
    "\n",
    "# looking at examples\n",
    "for i in range(10):\n",
    "  print(data[i], '\\t', labels[i])"
   ]
  },
  {
   "cell_type": "markdown",
   "metadata": {
    "id": "EfblVWs0Jsw-"
   },
   "source": [
    "### Data Overview \n",
    "\n",
    "As RoBERTa models need a max length of tokens to consider, the distribution of teh data set will be analyzed here. Then, the data might be filtered given some threshold on the length of sentences."
   ]
  },
  {
   "cell_type": "code",
   "execution_count": null,
   "metadata": {
    "colab": {
     "base_uri": "https://localhost:8080/",
     "height": 0
    },
    "executionInfo": {
     "elapsed": 781,
     "status": "ok",
     "timestamp": 1623828004713,
     "user": {
      "displayName": "Carsten Gieshoff",
      "photoUrl": "",
      "userId": "15205643335020562625"
     },
     "user_tz": -120
    },
    "id": "G6mTEEzLJs4n",
    "outputId": "3b795c2a-d5a8-4754-e9e4-db41544920cc"
   },
   "outputs": [],
   "source": [
    "len_data_words = [len(sent.split()) for sent in data]\n",
    "len_data_chars = [len(sent) for sent in data]\n",
    "\n",
    "print(f'Min words: {min(len_data_words)} | Max words: {max(len_data_words)}')\n",
    "print(f'Min chars: {min(len_data_chars)} | Max chars: {max(len_data_chars)}')\n",
    "\n",
    "fig, ax = plt.subplots(1,2, figsize = (15,6))\n",
    "\n",
    "ax[0].hist(len_data_words, bins = 100)\n",
    "ax[0].set_title('#words per sentence ', fontsize = 16)\n",
    "\n",
    "ax[1].hist(len_data_chars, bins = 100)\n",
    "ax[1].set_title('#chars per sentence ', fontsize = 16)\n",
    "plt.show()"
   ]
  },
  {
   "cell_type": "markdown",
   "metadata": {
    "id": "lvvG9zMOLm2C"
   },
   "source": [
    "#### Filtering\n",
    "\n",
    "Thresholds on the amount of chars and words in a sentence should be set according to the histograms above."
   ]
  },
  {
   "cell_type": "code",
   "execution_count": null,
   "metadata": {
    "executionInfo": {
     "elapsed": 12,
     "status": "ok",
     "timestamp": 1623828004714,
     "user": {
      "displayName": "Carsten Gieshoff",
      "photoUrl": "",
      "userId": "15205643335020562625"
     },
     "user_tz": -120
    },
    "id": "BAoAeY-FKxH_"
   },
   "outputs": [],
   "source": [
    "# Filtering, as there seem to be sentences of unfeasible sizes\n",
    "threshold_words = 100\n",
    "threshold_chars =  500\n",
    "\n",
    "data = [sent for i, sent in enumerate(data) if len_data_words[i] <= threshold_words and len_data_chars[i] <= threshold_chars]\n",
    "labels = [label for i, label in enumerate(labels) if len_data_words[i] <= threshold_words and len_data_chars[i] <= threshold_chars]\n",
    "\n",
    "assert len(data) == len(labels)"
   ]
  },
  {
   "cell_type": "code",
   "execution_count": null,
   "metadata": {
    "colab": {
     "base_uri": "https://localhost:8080/"
    },
    "executionInfo": {
     "elapsed": 11,
     "status": "ok",
     "timestamp": 1623828004715,
     "user": {
      "displayName": "Carsten Gieshoff",
      "photoUrl": "",
      "userId": "15205643335020562625"
     },
     "user_tz": -120
    },
    "id": "ZBpnRvUSOoiN",
    "outputId": "0f4ee21a-e5db-45dc-e8a2-52b6a1536de9"
   },
   "outputs": [],
   "source": [
    "num_sentences = len(labels)\n",
    "num_sci_sentences = sum(labels)\n",
    "num_medium_sentences = num_sentences - num_sci_sentences\n",
    "\n",
    "print(f' Total: {num_sentences} sentences')\n",
    "print(f' Scientific: : {num_sci_sentences} sentences ({(100*(num_sci_sentences/num_sentences)):.2f}%)')\n",
    "print(f' Non-Scientific: : {num_medium_sentences} sentences ({(100*(num_medium_sentences/num_sentences)):.2f}%)')"
   ]
  },
  {
   "cell_type": "markdown",
   "metadata": {
    "id": "Xu02Y_WfGG7K"
   },
   "source": [
    "## Building RoBERTa Classifier Model\n",
    "Here we use the classical RoBERTa model 'roberta-base'. This might be replaced by more specific pretrained models. "
   ]
  },
  {
   "cell_type": "markdown",
   "metadata": {
    "id": "y1fiKVdnGG7L"
   },
   "source": [
    "### RoBERTa specific processing"
   ]
  },
  {
   "cell_type": "code",
   "execution_count": null,
   "metadata": {
    "colab": {
     "base_uri": "https://localhost:8080/",
     "height": 114,
     "referenced_widgets": [
      "c4769c24497844039f7d1b79ab70dea6",
      "5e9d26047e4746a78fccee3f002b9777",
      "5ae6a096502149f0b7b61502c627f860",
      "982ff25e5e3a46d3b30249dd9eda1820",
      "f2244df5ebf7440b9e465bebb4483551",
      "4d122ee65e0e43b5af604b64d96f30a3",
      "28c8a73073a146d08ff5e91bc8f94801",
      "8bc19c947067430b822eaab2a6d3149e",
      "7c8bb565706e4128844e048c1106867a",
      "cd2f3ae19bd04960b523d6a7b7252522",
      "abe8941ba9f04819bdff53c5cefd3066",
      "7c917bb40be44f6eba17f5f7096c6ea7",
      "646dc42cff834cf99df5bbeb46ed2da3",
      "3d1a02fca2a742638fcb0b4a6bf9f478",
      "cff4c8414cbd480380b04f81602923eb",
      "06f0faf642184764bea980904c970492"
     ]
    },
    "executionInfo": {
     "elapsed": 5355,
     "status": "ok",
     "timestamp": 1623828010061,
     "user": {
      "displayName": "Carsten Gieshoff",
      "photoUrl": "",
      "userId": "15205643335020562625"
     },
     "user_tz": -120
    },
    "id": "5qfK5p4QGG7L",
    "outputId": "433ffa71-ed84-4784-b516-5fc7ecb86895"
   },
   "outputs": [],
   "source": [
    "# Special RoBERTa mdoe to be used: While slight information might be lost; capitalization in tweets is a neglectable characteristic\n",
    "PRE_TRAINED_MODEL_NAME = 'roberta-base'\n",
    "tokenizer = RobertaTokenizer.from_pretrained(PRE_TRAINED_MODEL_NAME)"
   ]
  },
  {
   "cell_type": "markdown",
   "metadata": {
    "id": "BB5xQpmCodMU"
   },
   "source": [
    "Notes on the tokenizer:\n",
    "  - distinguishes between single whitespace and multiple\n",
    "  - distinguishes punctuation\n",
    "  - distinguishes lower and upper cases -> we use only lower cases"
   ]
  },
  {
   "cell_type": "code",
   "execution_count": null,
   "metadata": {
    "colab": {
     "base_uri": "https://localhost:8080/"
    },
    "executionInfo": {
     "elapsed": 333,
     "status": "ok",
     "timestamp": 1623828031621,
     "user": {
      "displayName": "Carsten Gieshoff",
      "photoUrl": "",
      "userId": "15205643335020562625"
     },
     "user_tz": -120
    },
    "id": "ChdqpWu5odVP",
    "outputId": "f106cd4d-d44d-4fc5-ae56-9f9b24f95776"
   },
   "outputs": [],
   "source": [
    "# Example\n",
    "print(tokenizer.encode('This is  it .'))\n",
    "print(tokenizer.encode('this is it.'))"
   ]
  },
  {
   "cell_type": "markdown",
   "metadata": {
    "id": "rrbiImoZj4C1"
   },
   "source": [
    "- Get understanding of the distribution of token sizes for maximal length used in RoBERTa, again set MAX_LEN accordingly"
   ]
  },
  {
   "cell_type": "code",
   "execution_count": null,
   "metadata": {
    "colab": {
     "base_uri": "https://localhost:8080/",
     "height": 391
    },
    "executionInfo": {
     "elapsed": 16127,
     "status": "ok",
     "timestamp": 1623828048143,
     "user": {
      "displayName": "Carsten Gieshoff",
      "photoUrl": "",
      "userId": "15205643335020562625"
     },
     "user_tz": -120
    },
    "id": "2jFQ-dakGQy2",
    "outputId": "38fdb489-be49-4f03-a547-58bdac8e58a5"
   },
   "outputs": [],
   "source": [
    "len_data_tokens = [len(tokenizer.tokenize(sent)) for sent in data]\n",
    "\n",
    "fig, ax = plt.subplots(1,1, figsize = (15,6))\n",
    "\n",
    "ax.hist(len_data_tokens, bins = 100)\n",
    "ax.set_title('# Token per sentence', fontsize = 16)\n",
    "plt.show()"
   ]
  },
  {
   "cell_type": "markdown",
   "metadata": {
    "id": "Q1xDxi2TGG7M"
   },
   "source": [
    "### Build PyTorch Dataset and DataLoader\n",
    "\n",
    "This Function builds the basic fucntionality for teh RoBERTa classifer, Dataloaders etc."
   ]
  },
  {
   "cell_type": "code",
   "execution_count": null,
   "metadata": {
    "executionInfo": {
     "elapsed": 18,
     "status": "ok",
     "timestamp": 1623828048144,
     "user": {
      "displayName": "Carsten Gieshoff",
      "photoUrl": "",
      "userId": "15205643335020562625"
     },
     "user_tz": -120
    },
    "id": "r5iRZUrDGG7M"
   },
   "outputs": [],
   "source": [
    "# Data Structure\n",
    "class SentenceDataset(Dataset):\n",
    "    def __init__(self, sents, labels, tokenizer, max_len):\n",
    "        self.sents = sents\n",
    "        self.labels = labels\n",
    "        self.tokenizer = tokenizer\n",
    "        self.max_len = max_len\n",
    "        \n",
    "    def __len__(self):\n",
    "        return len(self.sents)\n",
    "    \n",
    "    def __getitem__(self, item):\n",
    "        \n",
    "        sent = str(self.sents[item])\n",
    "        label = self.labels[item]\n",
    "\n",
    "        encoding = tokenizer(sent,\n",
    "                             truncation=True,\n",
    "                             add_special_tokens=True, # Add '[CLS]' and '[SEP]'\n",
    "                             return_token_type_ids=False,\n",
    "                             padding = 'max_length',\n",
    "                             max_length=self.max_len,\n",
    "                             return_attention_mask=True,\n",
    "                             return_tensors='pt')\n",
    "      \n",
    "        return { 'sent': sent, 'input_ids': encoding['input_ids'].flatten(),\n",
    "          'attention_mask': encoding['attention_mask'].flatten(),\n",
    "          'label': torch.tensor(label, dtype=torch.long)\n",
    "        }\n",
    "# Data Loader\n",
    "def create_data_loader(sentences, labels, tokenizer, max_len, batch_size):\n",
    "    ds = SentenceDataset(\n",
    "        sents=sentences, #.to_numpy()\n",
    "        labels=labels, #.to_numpy()\n",
    "        tokenizer=tokenizer,\n",
    "        max_len=max_len\n",
    "    )\n",
    "    return DataLoader(\n",
    "        ds,\n",
    "        batch_size=batch_size,\n",
    "        num_workers=2\n",
    "    )"
   ]
  },
  {
   "cell_type": "markdown",
   "metadata": {
    "id": "4-AWbwUqGG7O"
   },
   "source": [
    "### Actual Model"
   ]
  },
  {
   "cell_type": "code",
   "execution_count": null,
   "metadata": {
    "executionInfo": {
     "elapsed": 17,
     "status": "ok",
     "timestamp": 1623828048145,
     "user": {
      "displayName": "Carsten Gieshoff",
      "photoUrl": "",
      "userId": "15205643335020562625"
     },
     "user_tz": -120
    },
    "id": "S_DvWra9GG7O"
   },
   "outputs": [],
   "source": [
    "class StyleClassifier(nn.Module):\n",
    "    def __init__(self, n_classes, drop = 0.3):\n",
    "        \n",
    "        super(StyleClassifier, self).__init__()\n",
    "        self.roberta = RobertaModel.from_pretrained(PRE_TRAINED_MODEL_NAME)\n",
    "        self.drop = nn.Dropout(p=drop)\n",
    "        self.out = nn.Linear(self.roberta.config.hidden_size, n_classes)\n",
    "        \n",
    "    def forward(self, input_ids, attention_mask):\n",
    "        _, pooled_output = self.roberta(input_ids=input_ids, attention_mask=attention_mask)\n",
    "        output = self.drop(pooled_output)\n",
    "        return self.out(output)"
   ]
  },
  {
   "cell_type": "markdown",
   "metadata": {
    "id": "MIyj-PWKGG7P"
   },
   "source": [
    "## Training the model"
   ]
  },
  {
   "cell_type": "markdown",
   "metadata": {
    "id": "WeVa1TidGG7P"
   },
   "source": [
    "### Define Helper functions\n",
    "\n",
    "Here some functions for training and evaluationa re built, taht will be used later on."
   ]
  },
  {
   "cell_type": "code",
   "execution_count": null,
   "metadata": {
    "executionInfo": {
     "elapsed": 15,
     "status": "ok",
     "timestamp": 1623828048145,
     "user": {
      "displayName": "Carsten Gieshoff",
      "photoUrl": "",
      "userId": "15205643335020562625"
     },
     "user_tz": -120
    },
    "id": "Frpt7_9lxxiv"
   },
   "outputs": [],
   "source": [
    "# This provides just a way to illustrate our confusion matrices in a nice and labeled way\n",
    "def show_confusion_matrix(confusion_matrix, save_path = None):\n",
    "  confusion_df = pd.DataFrame(cm, index=names,columns=names)\n",
    "  plt.figure(figsize=(5,5))\n",
    "  sns.heatmap(confusion_df,annot=True,annot_kws={\"size\": 12},cbar=False, square=True,fmt='.2f')\n",
    "  plt.ylabel(r'True categories',fontsize=14)\n",
    "  plt.xlabel(r'Predicted categories',fontsize=14)\n",
    "  plt.tick_params(labelsize=12)\n",
    "  if save_path:\n",
    "    plt.savefig(save_path)\n",
    "  plt.show()"
   ]
  },
  {
   "cell_type": "code",
   "execution_count": null,
   "metadata": {
    "executionInfo": {
     "elapsed": 14,
     "status": "ok",
     "timestamp": 1623828048146,
     "user": {
      "displayName": "Carsten Gieshoff",
      "photoUrl": "",
      "userId": "15205643335020562625"
     },
     "user_tz": -120
    },
    "id": "wOtgFHQQyLgS"
   },
   "outputs": [],
   "source": [
    "def get_predictions(model, data_loader):\n",
    "  # put to eval mode to disable dropout \n",
    "  model = model.eval()\n",
    "\n",
    "  predictions = []\n",
    "  prediction_probs = []\n",
    "  real_values = []\n",
    "  with torch.no_grad():\n",
    "    for d in data_loader:\n",
    "\n",
    "      input_ids = d[\"input_ids\"].to(device)\n",
    "      attention_mask = d[\"attention_mask\"].to(device)\n",
    "      labels = d[\"label\"].to(device)\n",
    "\n",
    "      outputs = model(input_ids=input_ids, attention_mask=attention_mask) #dim BATCH_SIZE x 3\n",
    "      # torch.max(outputs, dim=1) returns (vals, positions) of maxima -> positions are kept and correspond to class labels\n",
    "      _, preds = torch.max(outputs, dim=1) # dim BATCH_SIZE x 1\n",
    "\n",
    "      predictions.extend(preds)\n",
    "      #prediction_probs.extend(outputs)\n",
    "      real_values.extend(labels)\n",
    "  predictions = torch.stack(predictions).cpu()\n",
    "  #prediction_probs = torch.stack(prediction_probs).cpu()\n",
    "  real_values = torch.stack(real_values).cpu()\n",
    "  return predictions, real_values #prediction_probs"
   ]
  },
  {
   "cell_type": "code",
   "execution_count": null,
   "metadata": {
    "executionInfo": {
     "elapsed": 14,
     "status": "ok",
     "timestamp": 1623828048147,
     "user": {
      "displayName": "Carsten Gieshoff",
      "photoUrl": "",
      "userId": "15205643335020562625"
     },
     "user_tz": -120
    },
    "id": "mw1k970NGG7P"
   },
   "outputs": [],
   "source": [
    "def train_epoch(model, data_loader, loss_fn, optimizer, device, scheduler, n_examples):\n",
    "    \n",
    "    model = model.train()\n",
    "    losses = []\n",
    "    correct_predictions = 0\n",
    "    \n",
    "    show_every = np.floor(len(data_loader)/5)\n",
    "    \n",
    "    for i,d in enumerate(data_loader):\n",
    "        \n",
    "        input_ids = d[\"input_ids\"].to(device)\n",
    "        attention_mask = d[\"attention_mask\"].to(device)\n",
    "        labels = d[\"label\"].to(device)\n",
    "        \n",
    "        outputs = model(input_ids=input_ids, attention_mask=attention_mask)\n",
    "        # torch.max(outputs, dim=1) returns (vals, positions) of maxima -> positions are kept and correspond to class labels\n",
    "        _, preds = torch.max(outputs, dim=1)\n",
    "        \n",
    "        loss = loss_fn(outputs, labels) # both outputs and labels are in {0,1,2}\n",
    "        correct_predictions += torch.sum(preds == labels)\n",
    "        \n",
    "        losses.append(loss.item())\n",
    "        loss.backward()\n",
    "        nn.utils.clip_grad_norm_(model.parameters(), max_norm=1.0)\n",
    "        optimizer.step()\n",
    "        scheduler.step()\n",
    "        optimizer.zero_grad()\n",
    "        \n",
    "                \n",
    "    return correct_predictions.double() / n_examples, np.mean(losses)"
   ]
  },
  {
   "cell_type": "code",
   "execution_count": null,
   "metadata": {
    "executionInfo": {
     "elapsed": 14,
     "status": "ok",
     "timestamp": 1623828048147,
     "user": {
      "displayName": "Carsten Gieshoff",
      "photoUrl": "",
      "userId": "15205643335020562625"
     },
     "user_tz": -120
    },
    "id": "tqkdAEHUGG7Q"
   },
   "outputs": [],
   "source": [
    "def eval_model(model, data_loader, loss_fn, device, n_examples):\n",
    "    \n",
    "    model = model.eval()\n",
    "    losses = []\n",
    "    correct_predictions = 0\n",
    "    \n",
    "    with torch.no_grad():\n",
    "        for d in data_loader:\n",
    "            \n",
    "            input_ids = d[\"input_ids\"].to(device)\n",
    "            attention_mask = d[\"attention_mask\"].to(device)\n",
    "            labels = d[\"label\"].to(device)\n",
    "            outputs = model(input_ids=input_ids, attention_mask=attention_mask)\n",
    "            _, preds = torch.max(outputs, dim=1)\n",
    "            loss = loss_fn(outputs, labels)\n",
    "            correct_predictions += torch.sum(preds == labels)\n",
    "            losses.append(loss.item())\n",
    "            \n",
    "    return correct_predictions.double() / n_examples, np.mean(losses)"
   ]
  },
  {
   "cell_type": "markdown",
   "metadata": {
    "id": "EGaZ6wceKQTr"
   },
   "source": [
    "### Parameter choices\n",
    "\n",
    "Here the parametres fro the model need to be set (e.g. MAX_LEN from the token histogram above). Model will be stored by the day its trained on, Hyperparamter choices will be written to the name model to ensure its replicable."
   ]
  },
  {
   "cell_type": "code",
   "execution_count": null,
   "metadata": {
    "colab": {
     "base_uri": "https://localhost:8080/"
    },
    "executionInfo": {
     "elapsed": 14,
     "status": "ok",
     "timestamp": 1623828048148,
     "user": {
      "displayName": "Carsten Gieshoff",
      "photoUrl": "",
      "userId": "15205643335020562625"
     },
     "user_tz": -120
    },
    "id": "hut0yzdqTPvV",
    "outputId": "6fc7b2e6-3f76-43e6-8ad6-cedf0eef4404"
   },
   "outputs": [],
   "source": [
    "import datetime\n",
    "print(datetime.date.today())\n",
    "today = datetime.date.today()\n",
    "! mkdir /content/gdrive/MyDrive/StyleClassifier/models/{today}"
   ]
  },
  {
   "cell_type": "code",
   "execution_count": null,
   "metadata": {
    "executionInfo": {
     "elapsed": 445,
     "status": "ok",
     "timestamp": 1623828048582,
     "user": {
      "displayName": "Carsten Gieshoff",
      "photoUrl": "",
      "userId": "15205643335020562625"
     },
     "user_tz": -120
    },
    "id": "GGa0sP8RKA9F"
   },
   "outputs": [],
   "source": [
    "MAX_LEN = 100 # chosen acccroding to hist above\n",
    "BATCH_SIZE = 32# tunable hyper parameter\n",
    "EPOCHS = 3\n",
    "lr = 1e-5\n",
    "dropout = 0.3\n",
    "\n",
    "# Choose adequate paths to google drive\n",
    "! mkdir /models/{today}/RoBERTA_Epochs{EPOCHS}_Bs{BATCH_SIZE}_lr{lr}_drop{dropout}\n",
    "\n",
    "model_save_path = f'/models/{today}/RoBERTA_Epochs{EPOCHS}_Bs{BATCH_SIZE}_lr{lr}_drop{dropout}/RoBERTa.bin'# save model parameters, should include BERT and hyperparameters in name\n",
    "img_save_path = f'/models/{today}/RoBERTA_Epochs{EPOCHS}_Bs{BATCH_SIZE}_lr{lr}_drop{dropout}/cm.png' # save confusion matrix, should include BERT and hyperparameters in name\n",
    "report_save_path = f'/models/{today}/RoBERTA_Epochs{EPOCHS}_Bs{BATCH_SIZE}_lr{lr}_drop{dropout}/report.csv' # save classification report, should include BERT and hyperparameters in name"
   ]
  },
  {
   "cell_type": "markdown",
   "metadata": {
    "id": "dACk_YZ3GG7Q"
   },
   "source": [
    "### Optimization\n"
   ]
  },
  {
   "cell_type": "markdown",
   "metadata": {
    "id": "O72MpM9eKDwC"
   },
   "source": [
    "- Prepare data: split into some training-, test- and validation set. This partition of data will also be stored, such that one can later work with the exact same test data."
   ]
  },
  {
   "cell_type": "code",
   "execution_count": null,
   "metadata": {
    "colab": {
     "base_uri": "https://localhost:8080/"
    },
    "executionInfo": {
     "elapsed": 7,
     "status": "ok",
     "timestamp": 1623828048583,
     "user": {
      "displayName": "Carsten Gieshoff",
      "photoUrl": "",
      "userId": "15205643335020562625"
     },
     "user_tz": -120
    },
    "id": "LVZwjxDvGG7N",
    "outputId": "c6101a41-b948-4288-9160-de45a348e78a"
   },
   "outputs": [],
   "source": [
    "# Splitting data -> adpat split if necessary\n",
    "data_train, data_valtest, labels_train, labels_valtest = train_test_split(data, labels, test_size=0.5, random_state = 42) \n",
    "data_val, data_test, labels_val, labels_test = train_test_split(data_valtest, labels_valtest, test_size=0.5,random_state = 42) \n",
    "\n",
    "assert len(data) == len(data_test)+len(data_train)+len(data_val)\n",
    "\n",
    "print(f'Number of training sentences: \\t {len(data_train)}')\n",
    "print(f'Number of validation sentences:  {len(data_val)}')\n",
    "print(f'Number of test sentences: \\t {len(data_test)}')\n",
    "\n",
    "# Create DataLoaders\n",
    "train_data_loader = create_data_loader(data_train, labels_train, tokenizer, MAX_LEN, BATCH_SIZE)\n",
    "val_data_loader = create_data_loader(data_val, labels_val, tokenizer, MAX_LEN, BATCH_SIZE)\n",
    "test_data_loader = create_data_loader(data_test, labels_test, tokenizer, MAX_LEN, BATCH_SIZE)\n",
    "\n",
    "model_specific_data = {}\n",
    "model_specific_data['train'] = list(zip(data_train, labels_train))\n",
    "model_specific_data['val'] = list(zip(data_val, labels_val))\n",
    "model_specific_data['test'] = list(zip(data_test, labels_test))"
   ]
  },
  {
   "cell_type": "code",
   "execution_count": null,
   "metadata": {
    "executionInfo": {
     "elapsed": 5,
     "status": "ok",
     "timestamp": 1623828048583,
     "user": {
      "displayName": "Carsten Gieshoff",
      "photoUrl": "",
      "userId": "15205643335020562625"
     },
     "user_tz": -120
    },
    "id": "AH0nMcNv8ZDr"
   },
   "outputs": [],
   "source": [
    "# Save partition of data\n",
    "data_save_path = f'/models/{today}/RoBERTA_Epochs{EPOCHS}_Bs{BATCH_SIZE}_lr{lr}_drop{dropout}/model_specific_data.pkl'\n",
    "\n",
    "with open(data_save_path, 'wb') as f:\n",
    "  pickle.dump(model_specific_data, f)"
   ]
  },
  {
   "cell_type": "markdown",
   "metadata": {
    "id": "B8g1hTd_EJAT"
   },
   "source": [
    "- Initialize model\n"
   ]
  },
  {
   "cell_type": "code",
   "execution_count": null,
   "metadata": {
    "colab": {
     "base_uri": "https://localhost:8080/",
     "height": 114,
     "referenced_widgets": [
      "82c4ff1dccd64e339feb8a41b010f7ac",
      "4cfc5c6f84f7450f9bf8415a6dca6c95",
      "705deb824d764d329f485440553a0e47",
      "c81b5a57e3af4591867e85c3c326e637",
      "dc0b4902b16c472b9dbb2c89904a56bb",
      "d964eef8f225473d952ddbc4e9f501eb",
      "65a0b6ddb09c4be283b2db08b0fda5ac",
      "ece2531a6953426d9e2da41bcedfb247",
      "54883b9b7ef74912998c46d858ffb234",
      "d2f488eab843475b958f265b81382a17",
      "e7f06f9807af4a49a05fe485183ba6d5",
      "adecd6a236304f959470a61e49718e85",
      "b368be4e87a445649f7db2bb567055f8",
      "3844cae41420422b9d3c9578d09883b9",
      "a2b2b7ec5de74f10a661afdd7def0e83",
      "56238a1bc61847f2b0a0832effa67469"
     ]
    },
    "executionInfo": {
     "elapsed": 22048,
     "status": "ok",
     "timestamp": 1623828070627,
     "user": {
      "displayName": "Carsten Gieshoff",
      "photoUrl": "",
      "userId": "15205643335020562625"
     },
     "user_tz": -120
    },
    "id": "HB0rZZCzGG7O",
    "outputId": "4248a815-8b5c-4c72-8d89-4a00c3f1bb84"
   },
   "outputs": [],
   "source": [
    "# Initialize model\n",
    "model = StyleClassifier(2, drop = dropout).to(device)"
   ]
  },
  {
   "cell_type": "markdown",
   "metadata": {
    "id": "o52yRNpbD362"
   },
   "source": [
    "- Set everything optimization related\n",
    "\n"
   ]
  },
  {
   "cell_type": "code",
   "execution_count": null,
   "metadata": {
    "executionInfo": {
     "elapsed": 6,
     "status": "ok",
     "timestamp": 1623828070628,
     "user": {
      "displayName": "Carsten Gieshoff",
      "photoUrl": "",
      "userId": "15205643335020562625"
     },
     "user_tz": -120
    },
    "id": "v1AHSCmYGG7P"
   },
   "outputs": [],
   "source": [
    "#Optimizer & Scheduler\n",
    "optimizer = AdamW(model.parameters(), lr=lr, correct_bias=False)\n",
    "\n",
    "scheduler = get_linear_schedule_with_warmup(\n",
    "  optimizer,\n",
    "  num_warmup_steps=0,\n",
    "  num_training_steps= len(train_data_loader) * EPOCHS\n",
    ")\n",
    "\n",
    "\n",
    "# The choice of loss is done, as 'This criterion combines LogSoftmax and NLLLoss in one single class'. \n",
    "# given input vector softmay is applied, and then NLLL  loss performed\n",
    "loss_fn = nn.CrossEntropyLoss().to(device)"
   ]
  },
  {
   "cell_type": "markdown",
   "metadata": {
    "id": "iMDv-TNhEMbT"
   },
   "source": [
    "- Actual optimization procedure"
   ]
  },
  {
   "cell_type": "code",
   "execution_count": null,
   "metadata": {
    "colab": {
     "base_uri": "https://localhost:8080/"
    },
    "executionInfo": {
     "elapsed": 112019,
     "status": "ok",
     "timestamp": 1623828182642,
     "user": {
      "displayName": "Carsten Gieshoff",
      "photoUrl": "",
      "userId": "15205643335020562625"
     },
     "user_tz": -120
    },
    "id": "CigFbTwy-Nmt",
    "outputId": "b8e874ea-a8a6-409c-901c-d94650f11b60"
   },
   "outputs": [],
   "source": [
    "# Test Accuracy before training: should be roughly 50%\n",
    "test_acc, _ = eval_model(model, test_data_loader, loss_fn, device, len(data_test))\n",
    "print(f'Test Accuracy: {test_acc.item()}')"
   ]
  },
  {
   "cell_type": "code",
   "execution_count": null,
   "metadata": {
    "colab": {
     "base_uri": "https://localhost:8080/"
    },
    "executionInfo": {
     "elapsed": 2426436,
     "status": "ok",
     "timestamp": 1623830609054,
     "user": {
      "displayName": "Carsten Gieshoff",
      "photoUrl": "",
      "userId": "15205643335020562625"
     },
     "user_tz": -120
    },
    "id": "0jhD2qySGG7R",
    "outputId": "6b2f516b-05c3-4d75-f577-09130c39f37c",
    "scrolled": true
   },
   "outputs": [],
   "source": [
    "# Training the model for the desired amount of epochs\n",
    "%%time\n",
    "history = defaultdict(list)\n",
    "best_accuracy = 0\n",
    "\n",
    "for epoch in range(EPOCHS):\n",
    "    print(f'Epoch {epoch + 1}/{EPOCHS}')\n",
    "    print('-' * 10)\n",
    "    train_acc, train_loss = train_epoch(model, train_data_loader, loss_fn, optimizer, device, scheduler, len(data_train))\n",
    "      \n",
    "    print(f'Train loss {train_loss} accuracy {train_acc}')\n",
    "    val_acc, val_loss = eval_model(model, val_data_loader, loss_fn, device, len(data_val))\n",
    "      \n",
    "    print(f'Val   loss {val_loss} accuracy {val_acc}')\n",
    "    print()\n",
    "    \n",
    "    history['train_acc'].append(train_acc)\n",
    "    history['train_loss'].append(train_loss)\n",
    "    history['val_acc'].append(val_acc)\n",
    "    history['val_loss'].append(val_loss)\n",
    "    \n",
    "    if val_acc > best_accuracy:\n",
    "        print(f'Model updated after epoch: {epoch+1} \\n')\n",
    "        if model_save_path:\n",
    "          torch.save(model.state_dict(), model_save_path)\n",
    "        best_accuracy = val_acc\n"
   ]
  },
  {
   "cell_type": "code",
   "execution_count": null,
   "metadata": {
    "colab": {
     "base_uri": "https://localhost:8080/"
    },
    "executionInfo": {
     "elapsed": 112452,
     "status": "ok",
     "timestamp": 1623830721497,
     "user": {
      "displayName": "Carsten Gieshoff",
      "photoUrl": "",
      "userId": "15205643335020562625"
     },
     "user_tz": -120
    },
    "id": "yYZ2qDcSCRY1",
    "outputId": "e1cc29d5-a6f2-4b9e-8248-61079fa9ee63"
   },
   "outputs": [],
   "source": [
    "# Test Accuracy after training: should be significantly better than previous 50%\n",
    "test_acc, _ = eval_model(model, test_data_loader, loss_fn, device, len(data_test))\n",
    "print(f'Test Accuracy: {test_acc.item()}')"
   ]
  },
  {
   "cell_type": "markdown",
   "metadata": {
    "id": "voCzvv0QP9gO"
   },
   "source": [
    "## Model Evaluation"
   ]
  },
  {
   "cell_type": "code",
   "execution_count": null,
   "metadata": {
    "colab": {
     "base_uri": "https://localhost:8080/",
     "height": 295
    },
    "executionInfo": {
     "elapsed": 623,
     "status": "ok",
     "timestamp": 1623830722111,
     "user": {
      "displayName": "Carsten Gieshoff",
      "photoUrl": "",
      "userId": "15205643335020562625"
     },
     "user_tz": -120
    },
    "id": "AKKXbs7BGG7R",
    "outputId": "e40601c3-a8a3-4515-fa4a-12b6febd80ea"
   },
   "outputs": [],
   "source": [
    "# Trajectory of training and validation loss during training\n",
    "plt.plot(history['train_acc'], label='train accuracy')\n",
    "plt.plot(history['val_acc'], label='validation accuracy')\n",
    "plt.title('Training history')\n",
    "plt.ylabel('Accuracy')\n",
    "plt.xlabel('Epoch')\n",
    "plt.legend()\n",
    "#plt.ylim([0, 1])\n",
    "plt.yscale('log')\n",
    "plt.show()"
   ]
  },
  {
   "cell_type": "markdown",
   "metadata": {
    "id": "oq_PdVG3BUNZ"
   },
   "source": [
    "- Next we load our best model, as the current state might have overfitted"
   ]
  },
  {
   "cell_type": "code",
   "execution_count": null,
   "metadata": {
    "executionInfo": {
     "elapsed": 5514,
     "status": "ok",
     "timestamp": 1623830727586,
     "user": {
      "displayName": "Carsten Gieshoff",
      "photoUrl": "",
      "userId": "15205643335020562625"
     },
     "user_tz": -120
    },
    "id": "wudQ6QS1BTmO"
   },
   "outputs": [],
   "source": [
    "# load best model from optimization\n",
    "if model_save_path: \n",
    "  model = StyleClassifier(2)\n",
    "  model.load_state_dict(torch.load(model_save_path))\n",
    "  model = model.to(device)"
   ]
  },
  {
   "cell_type": "code",
   "execution_count": null,
   "metadata": {
    "colab": {
     "base_uri": "https://localhost:8080/"
    },
    "executionInfo": {
     "elapsed": 112212,
     "status": "ok",
     "timestamp": 1623830839783,
     "user": {
      "displayName": "Carsten Gieshoff",
      "photoUrl": "",
      "userId": "15205643335020562625"
     },
     "user_tz": -120
    },
    "id": "dfCApAE_ShY0",
    "outputId": "79f3359b-4090-4cd2-aa6a-cdff6220938d"
   },
   "outputs": [],
   "source": [
    "# Test Accuracy\n",
    "test_acc, _ = eval_model(model, test_data_loader, loss_fn, device, len(data_test))\n",
    "print(f'Test Accuracy: {test_acc.item()}')"
   ]
  },
  {
   "cell_type": "markdown",
   "metadata": {
    "id": "2hYSixO-LAB3"
   },
   "source": [
    "- Calculate Scores "
   ]
  },
  {
   "cell_type": "code",
   "execution_count": null,
   "metadata": {
    "colab": {
     "base_uri": "https://localhost:8080/",
     "height": 201
    },
    "executionInfo": {
     "elapsed": 110167,
     "status": "ok",
     "timestamp": 1623830949937,
     "user": {
      "displayName": "Carsten Gieshoff",
      "photoUrl": "",
      "userId": "15205643335020562625"
     },
     "user_tz": -120
    },
    "id": "FB0oBOsuyH4d",
    "outputId": "90c7dad0-e9e8-43d2-cdb8-ffc3ccaefdc3"
   },
   "outputs": [],
   "source": [
    "# Calculation of relevant scores\n",
    "labels_pred, labels_test = get_predictions(model, test_data_loader)\n",
    "report = classification_report(labels_test, labels_pred, output_dict=True)\n",
    "report_df = pd.DataFrame(report).transpose()\n",
    "if report_save_path:\n",
    "  report_df.to_csv(report_save_path) \n",
    "\n",
    "report_df"
   ]
  },
  {
   "cell_type": "code",
   "execution_count": null,
   "metadata": {
    "colab": {
     "base_uri": "https://localhost:8080/",
     "height": 340
    },
    "executionInfo": {
     "elapsed": 16,
     "status": "ok",
     "timestamp": 1623830949938,
     "user": {
      "displayName": "Carsten Gieshoff",
      "photoUrl": "",
      "userId": "15205643335020562625"
     },
     "user_tz": -120
    },
    "id": "IxkHG20G2GWv",
    "outputId": "0798b193-e4c7-4f10-b305-a1cda00b9eee"
   },
   "outputs": [],
   "source": [
    "cm = confusion_matrix(labels_test, labels_pred, normalize = 'true')\n",
    "show_confusion_matrix(cm, names = ['0', '1'], save_path=img_save_path)"
   ]
  },
  {
   "cell_type": "code",
   "execution_count": null,
   "metadata": {
    "executionInfo": {
     "elapsed": 14,
     "status": "ok",
     "timestamp": 1623830949939,
     "user": {
      "displayName": "Carsten Gieshoff",
      "photoUrl": "",
      "userId": "15205643335020562625"
     },
     "user_tz": -120
    },
    "id": "MeVoB6cmdww1"
   },
   "outputs": [],
   "source": []
  }
 ],
 "metadata": {
  "accelerator": "GPU",
  "colab": {
   "collapsed_sections": [
    "kuoFPdzvGG7C",
    "EfblVWs0Jsw-",
    "y1fiKVdnGG7L",
    "Q1xDxi2TGG7M",
    "4-AWbwUqGG7O",
    "EGaZ6wceKQTr"
   ],
   "name": "StyleClassifier_Template.ipynb",
   "provenance": [],
   "toc_visible": true
  },
  "kernelspec": {
   "display_name": "Python 3",
   "language": "python",
   "name": "python3"
  },
  "language_info": {
   "codemirror_mode": {
    "name": "ipython",
    "version": 3
   },
   "file_extension": ".py",
   "mimetype": "text/x-python",
   "name": "python",
   "nbconvert_exporter": "python",
   "pygments_lexer": "ipython3",
   "version": "3.7.5"
  },
  "toc": {
   "base_numbering": 1,
   "nav_menu": {},
   "number_sections": true,
   "sideBar": true,
   "skip_h1_title": false,
   "title_cell": "Table of Contents",
   "title_sidebar": "Contents",
   "toc_cell": false,
   "toc_position": {},
   "toc_section_display": true,
   "toc_window_display": false
  },
  "widgets": {
   "application/vnd.jupyter.widget-state+json": {
    "06f0faf642184764bea980904c970492": {
     "model_module": "@jupyter-widgets/base",
     "model_name": "LayoutModel",
     "state": {
      "_model_module": "@jupyter-widgets/base",
      "_model_module_version": "1.2.0",
      "_model_name": "LayoutModel",
      "_view_count": null,
      "_view_module": "@jupyter-widgets/base",
      "_view_module_version": "1.2.0",
      "_view_name": "LayoutView",
      "align_content": null,
      "align_items": null,
      "align_self": null,
      "border": null,
      "bottom": null,
      "display": null,
      "flex": null,
      "flex_flow": null,
      "grid_area": null,
      "grid_auto_columns": null,
      "grid_auto_flow": null,
      "grid_auto_rows": null,
      "grid_column": null,
      "grid_gap": null,
      "grid_row": null,
      "grid_template_areas": null,
      "grid_template_columns": null,
      "grid_template_rows": null,
      "height": null,
      "justify_content": null,
      "justify_items": null,
      "left": null,
      "margin": null,
      "max_height": null,
      "max_width": null,
      "min_height": null,
      "min_width": null,
      "object_fit": null,
      "object_position": null,
      "order": null,
      "overflow": null,
      "overflow_x": null,
      "overflow_y": null,
      "padding": null,
      "right": null,
      "top": null,
      "visibility": null,
      "width": null
     }
    },
    "28c8a73073a146d08ff5e91bc8f94801": {
     "model_module": "@jupyter-widgets/controls",
     "model_name": "DescriptionStyleModel",
     "state": {
      "_model_module": "@jupyter-widgets/controls",
      "_model_module_version": "1.5.0",
      "_model_name": "DescriptionStyleModel",
      "_view_count": null,
      "_view_module": "@jupyter-widgets/base",
      "_view_module_version": "1.2.0",
      "_view_name": "StyleView",
      "description_width": ""
     }
    },
    "3844cae41420422b9d3c9578d09883b9": {
     "model_module": "@jupyter-widgets/base",
     "model_name": "LayoutModel",
     "state": {
      "_model_module": "@jupyter-widgets/base",
      "_model_module_version": "1.2.0",
      "_model_name": "LayoutModel",
      "_view_count": null,
      "_view_module": "@jupyter-widgets/base",
      "_view_module_version": "1.2.0",
      "_view_name": "LayoutView",
      "align_content": null,
      "align_items": null,
      "align_self": null,
      "border": null,
      "bottom": null,
      "display": null,
      "flex": null,
      "flex_flow": null,
      "grid_area": null,
      "grid_auto_columns": null,
      "grid_auto_flow": null,
      "grid_auto_rows": null,
      "grid_column": null,
      "grid_gap": null,
      "grid_row": null,
      "grid_template_areas": null,
      "grid_template_columns": null,
      "grid_template_rows": null,
      "height": null,
      "justify_content": null,
      "justify_items": null,
      "left": null,
      "margin": null,
      "max_height": null,
      "max_width": null,
      "min_height": null,
      "min_width": null,
      "object_fit": null,
      "object_position": null,
      "order": null,
      "overflow": null,
      "overflow_x": null,
      "overflow_y": null,
      "padding": null,
      "right": null,
      "top": null,
      "visibility": null,
      "width": null
     }
    },
    "3d1a02fca2a742638fcb0b4a6bf9f478": {
     "model_module": "@jupyter-widgets/base",
     "model_name": "LayoutModel",
     "state": {
      "_model_module": "@jupyter-widgets/base",
      "_model_module_version": "1.2.0",
      "_model_name": "LayoutModel",
      "_view_count": null,
      "_view_module": "@jupyter-widgets/base",
      "_view_module_version": "1.2.0",
      "_view_name": "LayoutView",
      "align_content": null,
      "align_items": null,
      "align_self": null,
      "border": null,
      "bottom": null,
      "display": null,
      "flex": null,
      "flex_flow": null,
      "grid_area": null,
      "grid_auto_columns": null,
      "grid_auto_flow": null,
      "grid_auto_rows": null,
      "grid_column": null,
      "grid_gap": null,
      "grid_row": null,
      "grid_template_areas": null,
      "grid_template_columns": null,
      "grid_template_rows": null,
      "height": null,
      "justify_content": null,
      "justify_items": null,
      "left": null,
      "margin": null,
      "max_height": null,
      "max_width": null,
      "min_height": null,
      "min_width": null,
      "object_fit": null,
      "object_position": null,
      "order": null,
      "overflow": null,
      "overflow_x": null,
      "overflow_y": null,
      "padding": null,
      "right": null,
      "top": null,
      "visibility": null,
      "width": null
     }
    },
    "4cfc5c6f84f7450f9bf8415a6dca6c95": {
     "model_module": "@jupyter-widgets/base",
     "model_name": "LayoutModel",
     "state": {
      "_model_module": "@jupyter-widgets/base",
      "_model_module_version": "1.2.0",
      "_model_name": "LayoutModel",
      "_view_count": null,
      "_view_module": "@jupyter-widgets/base",
      "_view_module_version": "1.2.0",
      "_view_name": "LayoutView",
      "align_content": null,
      "align_items": null,
      "align_self": null,
      "border": null,
      "bottom": null,
      "display": null,
      "flex": null,
      "flex_flow": null,
      "grid_area": null,
      "grid_auto_columns": null,
      "grid_auto_flow": null,
      "grid_auto_rows": null,
      "grid_column": null,
      "grid_gap": null,
      "grid_row": null,
      "grid_template_areas": null,
      "grid_template_columns": null,
      "grid_template_rows": null,
      "height": null,
      "justify_content": null,
      "justify_items": null,
      "left": null,
      "margin": null,
      "max_height": null,
      "max_width": null,
      "min_height": null,
      "min_width": null,
      "object_fit": null,
      "object_position": null,
      "order": null,
      "overflow": null,
      "overflow_x": null,
      "overflow_y": null,
      "padding": null,
      "right": null,
      "top": null,
      "visibility": null,
      "width": null
     }
    },
    "4d122ee65e0e43b5af604b64d96f30a3": {
     "model_module": "@jupyter-widgets/base",
     "model_name": "LayoutModel",
     "state": {
      "_model_module": "@jupyter-widgets/base",
      "_model_module_version": "1.2.0",
      "_model_name": "LayoutModel",
      "_view_count": null,
      "_view_module": "@jupyter-widgets/base",
      "_view_module_version": "1.2.0",
      "_view_name": "LayoutView",
      "align_content": null,
      "align_items": null,
      "align_self": null,
      "border": null,
      "bottom": null,
      "display": null,
      "flex": null,
      "flex_flow": null,
      "grid_area": null,
      "grid_auto_columns": null,
      "grid_auto_flow": null,
      "grid_auto_rows": null,
      "grid_column": null,
      "grid_gap": null,
      "grid_row": null,
      "grid_template_areas": null,
      "grid_template_columns": null,
      "grid_template_rows": null,
      "height": null,
      "justify_content": null,
      "justify_items": null,
      "left": null,
      "margin": null,
      "max_height": null,
      "max_width": null,
      "min_height": null,
      "min_width": null,
      "object_fit": null,
      "object_position": null,
      "order": null,
      "overflow": null,
      "overflow_x": null,
      "overflow_y": null,
      "padding": null,
      "right": null,
      "top": null,
      "visibility": null,
      "width": null
     }
    },
    "54883b9b7ef74912998c46d858ffb234": {
     "model_module": "@jupyter-widgets/controls",
     "model_name": "HBoxModel",
     "state": {
      "_dom_classes": [],
      "_model_module": "@jupyter-widgets/controls",
      "_model_module_version": "1.5.0",
      "_model_name": "HBoxModel",
      "_view_count": null,
      "_view_module": "@jupyter-widgets/controls",
      "_view_module_version": "1.5.0",
      "_view_name": "HBoxView",
      "box_style": "",
      "children": [
       "IPY_MODEL_e7f06f9807af4a49a05fe485183ba6d5",
       "IPY_MODEL_adecd6a236304f959470a61e49718e85"
      ],
      "layout": "IPY_MODEL_d2f488eab843475b958f265b81382a17"
     }
    },
    "56238a1bc61847f2b0a0832effa67469": {
     "model_module": "@jupyter-widgets/base",
     "model_name": "LayoutModel",
     "state": {
      "_model_module": "@jupyter-widgets/base",
      "_model_module_version": "1.2.0",
      "_model_name": "LayoutModel",
      "_view_count": null,
      "_view_module": "@jupyter-widgets/base",
      "_view_module_version": "1.2.0",
      "_view_name": "LayoutView",
      "align_content": null,
      "align_items": null,
      "align_self": null,
      "border": null,
      "bottom": null,
      "display": null,
      "flex": null,
      "flex_flow": null,
      "grid_area": null,
      "grid_auto_columns": null,
      "grid_auto_flow": null,
      "grid_auto_rows": null,
      "grid_column": null,
      "grid_gap": null,
      "grid_row": null,
      "grid_template_areas": null,
      "grid_template_columns": null,
      "grid_template_rows": null,
      "height": null,
      "justify_content": null,
      "justify_items": null,
      "left": null,
      "margin": null,
      "max_height": null,
      "max_width": null,
      "min_height": null,
      "min_width": null,
      "object_fit": null,
      "object_position": null,
      "order": null,
      "overflow": null,
      "overflow_x": null,
      "overflow_y": null,
      "padding": null,
      "right": null,
      "top": null,
      "visibility": null,
      "width": null
     }
    },
    "5ae6a096502149f0b7b61502c627f860": {
     "model_module": "@jupyter-widgets/controls",
     "model_name": "FloatProgressModel",
     "state": {
      "_dom_classes": [],
      "_model_module": "@jupyter-widgets/controls",
      "_model_module_version": "1.5.0",
      "_model_name": "FloatProgressModel",
      "_view_count": null,
      "_view_module": "@jupyter-widgets/controls",
      "_view_module_version": "1.5.0",
      "_view_name": "ProgressView",
      "bar_style": "success",
      "description": "Downloading: 100%",
      "description_tooltip": null,
      "layout": "IPY_MODEL_4d122ee65e0e43b5af604b64d96f30a3",
      "max": 898823,
      "min": 0,
      "orientation": "horizontal",
      "style": "IPY_MODEL_f2244df5ebf7440b9e465bebb4483551",
      "value": 898823
     }
    },
    "5e9d26047e4746a78fccee3f002b9777": {
     "model_module": "@jupyter-widgets/base",
     "model_name": "LayoutModel",
     "state": {
      "_model_module": "@jupyter-widgets/base",
      "_model_module_version": "1.2.0",
      "_model_name": "LayoutModel",
      "_view_count": null,
      "_view_module": "@jupyter-widgets/base",
      "_view_module_version": "1.2.0",
      "_view_name": "LayoutView",
      "align_content": null,
      "align_items": null,
      "align_self": null,
      "border": null,
      "bottom": null,
      "display": null,
      "flex": null,
      "flex_flow": null,
      "grid_area": null,
      "grid_auto_columns": null,
      "grid_auto_flow": null,
      "grid_auto_rows": null,
      "grid_column": null,
      "grid_gap": null,
      "grid_row": null,
      "grid_template_areas": null,
      "grid_template_columns": null,
      "grid_template_rows": null,
      "height": null,
      "justify_content": null,
      "justify_items": null,
      "left": null,
      "margin": null,
      "max_height": null,
      "max_width": null,
      "min_height": null,
      "min_width": null,
      "object_fit": null,
      "object_position": null,
      "order": null,
      "overflow": null,
      "overflow_x": null,
      "overflow_y": null,
      "padding": null,
      "right": null,
      "top": null,
      "visibility": null,
      "width": null
     }
    },
    "646dc42cff834cf99df5bbeb46ed2da3": {
     "model_module": "@jupyter-widgets/controls",
     "model_name": "ProgressStyleModel",
     "state": {
      "_model_module": "@jupyter-widgets/controls",
      "_model_module_version": "1.5.0",
      "_model_name": "ProgressStyleModel",
      "_view_count": null,
      "_view_module": "@jupyter-widgets/base",
      "_view_module_version": "1.2.0",
      "_view_name": "StyleView",
      "bar_color": null,
      "description_width": "initial"
     }
    },
    "65a0b6ddb09c4be283b2db08b0fda5ac": {
     "model_module": "@jupyter-widgets/controls",
     "model_name": "DescriptionStyleModel",
     "state": {
      "_model_module": "@jupyter-widgets/controls",
      "_model_module_version": "1.5.0",
      "_model_name": "DescriptionStyleModel",
      "_view_count": null,
      "_view_module": "@jupyter-widgets/base",
      "_view_module_version": "1.2.0",
      "_view_name": "StyleView",
      "description_width": ""
     }
    },
    "705deb824d764d329f485440553a0e47": {
     "model_module": "@jupyter-widgets/controls",
     "model_name": "FloatProgressModel",
     "state": {
      "_dom_classes": [],
      "_model_module": "@jupyter-widgets/controls",
      "_model_module_version": "1.5.0",
      "_model_name": "FloatProgressModel",
      "_view_count": null,
      "_view_module": "@jupyter-widgets/controls",
      "_view_module_version": "1.5.0",
      "_view_name": "ProgressView",
      "bar_style": "success",
      "description": "Downloading: 100%",
      "description_tooltip": null,
      "layout": "IPY_MODEL_d964eef8f225473d952ddbc4e9f501eb",
      "max": 481,
      "min": 0,
      "orientation": "horizontal",
      "style": "IPY_MODEL_dc0b4902b16c472b9dbb2c89904a56bb",
      "value": 481
     }
    },
    "7c8bb565706e4128844e048c1106867a": {
     "model_module": "@jupyter-widgets/controls",
     "model_name": "HBoxModel",
     "state": {
      "_dom_classes": [],
      "_model_module": "@jupyter-widgets/controls",
      "_model_module_version": "1.5.0",
      "_model_name": "HBoxModel",
      "_view_count": null,
      "_view_module": "@jupyter-widgets/controls",
      "_view_module_version": "1.5.0",
      "_view_name": "HBoxView",
      "box_style": "",
      "children": [
       "IPY_MODEL_abe8941ba9f04819bdff53c5cefd3066",
       "IPY_MODEL_7c917bb40be44f6eba17f5f7096c6ea7"
      ],
      "layout": "IPY_MODEL_cd2f3ae19bd04960b523d6a7b7252522"
     }
    },
    "7c917bb40be44f6eba17f5f7096c6ea7": {
     "model_module": "@jupyter-widgets/controls",
     "model_name": "HTMLModel",
     "state": {
      "_dom_classes": [],
      "_model_module": "@jupyter-widgets/controls",
      "_model_module_version": "1.5.0",
      "_model_name": "HTMLModel",
      "_view_count": null,
      "_view_module": "@jupyter-widgets/controls",
      "_view_module_version": "1.5.0",
      "_view_name": "HTMLView",
      "description": "",
      "description_tooltip": null,
      "layout": "IPY_MODEL_06f0faf642184764bea980904c970492",
      "placeholder": "​",
      "style": "IPY_MODEL_cff4c8414cbd480380b04f81602923eb",
      "value": " 456k/456k [00:00&lt;00:00, 470kB/s]"
     }
    },
    "82c4ff1dccd64e339feb8a41b010f7ac": {
     "model_module": "@jupyter-widgets/controls",
     "model_name": "HBoxModel",
     "state": {
      "_dom_classes": [],
      "_model_module": "@jupyter-widgets/controls",
      "_model_module_version": "1.5.0",
      "_model_name": "HBoxModel",
      "_view_count": null,
      "_view_module": "@jupyter-widgets/controls",
      "_view_module_version": "1.5.0",
      "_view_name": "HBoxView",
      "box_style": "",
      "children": [
       "IPY_MODEL_705deb824d764d329f485440553a0e47",
       "IPY_MODEL_c81b5a57e3af4591867e85c3c326e637"
      ],
      "layout": "IPY_MODEL_4cfc5c6f84f7450f9bf8415a6dca6c95"
     }
    },
    "8bc19c947067430b822eaab2a6d3149e": {
     "model_module": "@jupyter-widgets/base",
     "model_name": "LayoutModel",
     "state": {
      "_model_module": "@jupyter-widgets/base",
      "_model_module_version": "1.2.0",
      "_model_name": "LayoutModel",
      "_view_count": null,
      "_view_module": "@jupyter-widgets/base",
      "_view_module_version": "1.2.0",
      "_view_name": "LayoutView",
      "align_content": null,
      "align_items": null,
      "align_self": null,
      "border": null,
      "bottom": null,
      "display": null,
      "flex": null,
      "flex_flow": null,
      "grid_area": null,
      "grid_auto_columns": null,
      "grid_auto_flow": null,
      "grid_auto_rows": null,
      "grid_column": null,
      "grid_gap": null,
      "grid_row": null,
      "grid_template_areas": null,
      "grid_template_columns": null,
      "grid_template_rows": null,
      "height": null,
      "justify_content": null,
      "justify_items": null,
      "left": null,
      "margin": null,
      "max_height": null,
      "max_width": null,
      "min_height": null,
      "min_width": null,
      "object_fit": null,
      "object_position": null,
      "order": null,
      "overflow": null,
      "overflow_x": null,
      "overflow_y": null,
      "padding": null,
      "right": null,
      "top": null,
      "visibility": null,
      "width": null
     }
    },
    "982ff25e5e3a46d3b30249dd9eda1820": {
     "model_module": "@jupyter-widgets/controls",
     "model_name": "HTMLModel",
     "state": {
      "_dom_classes": [],
      "_model_module": "@jupyter-widgets/controls",
      "_model_module_version": "1.5.0",
      "_model_name": "HTMLModel",
      "_view_count": null,
      "_view_module": "@jupyter-widgets/controls",
      "_view_module_version": "1.5.0",
      "_view_name": "HTMLView",
      "description": "",
      "description_tooltip": null,
      "layout": "IPY_MODEL_8bc19c947067430b822eaab2a6d3149e",
      "placeholder": "​",
      "style": "IPY_MODEL_28c8a73073a146d08ff5e91bc8f94801",
      "value": " 899k/899k [00:03&lt;00:00, 248kB/s]"
     }
    },
    "a2b2b7ec5de74f10a661afdd7def0e83": {
     "model_module": "@jupyter-widgets/controls",
     "model_name": "DescriptionStyleModel",
     "state": {
      "_model_module": "@jupyter-widgets/controls",
      "_model_module_version": "1.5.0",
      "_model_name": "DescriptionStyleModel",
      "_view_count": null,
      "_view_module": "@jupyter-widgets/base",
      "_view_module_version": "1.2.0",
      "_view_name": "StyleView",
      "description_width": ""
     }
    },
    "abe8941ba9f04819bdff53c5cefd3066": {
     "model_module": "@jupyter-widgets/controls",
     "model_name": "FloatProgressModel",
     "state": {
      "_dom_classes": [],
      "_model_module": "@jupyter-widgets/controls",
      "_model_module_version": "1.5.0",
      "_model_name": "FloatProgressModel",
      "_view_count": null,
      "_view_module": "@jupyter-widgets/controls",
      "_view_module_version": "1.5.0",
      "_view_name": "ProgressView",
      "bar_style": "success",
      "description": "Downloading: 100%",
      "description_tooltip": null,
      "layout": "IPY_MODEL_3d1a02fca2a742638fcb0b4a6bf9f478",
      "max": 456318,
      "min": 0,
      "orientation": "horizontal",
      "style": "IPY_MODEL_646dc42cff834cf99df5bbeb46ed2da3",
      "value": 456318
     }
    },
    "adecd6a236304f959470a61e49718e85": {
     "model_module": "@jupyter-widgets/controls",
     "model_name": "HTMLModel",
     "state": {
      "_dom_classes": [],
      "_model_module": "@jupyter-widgets/controls",
      "_model_module_version": "1.5.0",
      "_model_name": "HTMLModel",
      "_view_count": null,
      "_view_module": "@jupyter-widgets/controls",
      "_view_module_version": "1.5.0",
      "_view_name": "HTMLView",
      "description": "",
      "description_tooltip": null,
      "layout": "IPY_MODEL_56238a1bc61847f2b0a0832effa67469",
      "placeholder": "​",
      "style": "IPY_MODEL_a2b2b7ec5de74f10a661afdd7def0e83",
      "value": " 501M/501M [00:10&lt;00:00, 48.4MB/s]"
     }
    },
    "b368be4e87a445649f7db2bb567055f8": {
     "model_module": "@jupyter-widgets/controls",
     "model_name": "ProgressStyleModel",
     "state": {
      "_model_module": "@jupyter-widgets/controls",
      "_model_module_version": "1.5.0",
      "_model_name": "ProgressStyleModel",
      "_view_count": null,
      "_view_module": "@jupyter-widgets/base",
      "_view_module_version": "1.2.0",
      "_view_name": "StyleView",
      "bar_color": null,
      "description_width": "initial"
     }
    },
    "c4769c24497844039f7d1b79ab70dea6": {
     "model_module": "@jupyter-widgets/controls",
     "model_name": "HBoxModel",
     "state": {
      "_dom_classes": [],
      "_model_module": "@jupyter-widgets/controls",
      "_model_module_version": "1.5.0",
      "_model_name": "HBoxModel",
      "_view_count": null,
      "_view_module": "@jupyter-widgets/controls",
      "_view_module_version": "1.5.0",
      "_view_name": "HBoxView",
      "box_style": "",
      "children": [
       "IPY_MODEL_5ae6a096502149f0b7b61502c627f860",
       "IPY_MODEL_982ff25e5e3a46d3b30249dd9eda1820"
      ],
      "layout": "IPY_MODEL_5e9d26047e4746a78fccee3f002b9777"
     }
    },
    "c81b5a57e3af4591867e85c3c326e637": {
     "model_module": "@jupyter-widgets/controls",
     "model_name": "HTMLModel",
     "state": {
      "_dom_classes": [],
      "_model_module": "@jupyter-widgets/controls",
      "_model_module_version": "1.5.0",
      "_model_name": "HTMLModel",
      "_view_count": null,
      "_view_module": "@jupyter-widgets/controls",
      "_view_module_version": "1.5.0",
      "_view_name": "HTMLView",
      "description": "",
      "description_tooltip": null,
      "layout": "IPY_MODEL_ece2531a6953426d9e2da41bcedfb247",
      "placeholder": "​",
      "style": "IPY_MODEL_65a0b6ddb09c4be283b2db08b0fda5ac",
      "value": " 481/481 [02:34&lt;00:00, 3.11B/s]"
     }
    },
    "cd2f3ae19bd04960b523d6a7b7252522": {
     "model_module": "@jupyter-widgets/base",
     "model_name": "LayoutModel",
     "state": {
      "_model_module": "@jupyter-widgets/base",
      "_model_module_version": "1.2.0",
      "_model_name": "LayoutModel",
      "_view_count": null,
      "_view_module": "@jupyter-widgets/base",
      "_view_module_version": "1.2.0",
      "_view_name": "LayoutView",
      "align_content": null,
      "align_items": null,
      "align_self": null,
      "border": null,
      "bottom": null,
      "display": null,
      "flex": null,
      "flex_flow": null,
      "grid_area": null,
      "grid_auto_columns": null,
      "grid_auto_flow": null,
      "grid_auto_rows": null,
      "grid_column": null,
      "grid_gap": null,
      "grid_row": null,
      "grid_template_areas": null,
      "grid_template_columns": null,
      "grid_template_rows": null,
      "height": null,
      "justify_content": null,
      "justify_items": null,
      "left": null,
      "margin": null,
      "max_height": null,
      "max_width": null,
      "min_height": null,
      "min_width": null,
      "object_fit": null,
      "object_position": null,
      "order": null,
      "overflow": null,
      "overflow_x": null,
      "overflow_y": null,
      "padding": null,
      "right": null,
      "top": null,
      "visibility": null,
      "width": null
     }
    },
    "cff4c8414cbd480380b04f81602923eb": {
     "model_module": "@jupyter-widgets/controls",
     "model_name": "DescriptionStyleModel",
     "state": {
      "_model_module": "@jupyter-widgets/controls",
      "_model_module_version": "1.5.0",
      "_model_name": "DescriptionStyleModel",
      "_view_count": null,
      "_view_module": "@jupyter-widgets/base",
      "_view_module_version": "1.2.0",
      "_view_name": "StyleView",
      "description_width": ""
     }
    },
    "d2f488eab843475b958f265b81382a17": {
     "model_module": "@jupyter-widgets/base",
     "model_name": "LayoutModel",
     "state": {
      "_model_module": "@jupyter-widgets/base",
      "_model_module_version": "1.2.0",
      "_model_name": "LayoutModel",
      "_view_count": null,
      "_view_module": "@jupyter-widgets/base",
      "_view_module_version": "1.2.0",
      "_view_name": "LayoutView",
      "align_content": null,
      "align_items": null,
      "align_self": null,
      "border": null,
      "bottom": null,
      "display": null,
      "flex": null,
      "flex_flow": null,
      "grid_area": null,
      "grid_auto_columns": null,
      "grid_auto_flow": null,
      "grid_auto_rows": null,
      "grid_column": null,
      "grid_gap": null,
      "grid_row": null,
      "grid_template_areas": null,
      "grid_template_columns": null,
      "grid_template_rows": null,
      "height": null,
      "justify_content": null,
      "justify_items": null,
      "left": null,
      "margin": null,
      "max_height": null,
      "max_width": null,
      "min_height": null,
      "min_width": null,
      "object_fit": null,
      "object_position": null,
      "order": null,
      "overflow": null,
      "overflow_x": null,
      "overflow_y": null,
      "padding": null,
      "right": null,
      "top": null,
      "visibility": null,
      "width": null
     }
    },
    "d964eef8f225473d952ddbc4e9f501eb": {
     "model_module": "@jupyter-widgets/base",
     "model_name": "LayoutModel",
     "state": {
      "_model_module": "@jupyter-widgets/base",
      "_model_module_version": "1.2.0",
      "_model_name": "LayoutModel",
      "_view_count": null,
      "_view_module": "@jupyter-widgets/base",
      "_view_module_version": "1.2.0",
      "_view_name": "LayoutView",
      "align_content": null,
      "align_items": null,
      "align_self": null,
      "border": null,
      "bottom": null,
      "display": null,
      "flex": null,
      "flex_flow": null,
      "grid_area": null,
      "grid_auto_columns": null,
      "grid_auto_flow": null,
      "grid_auto_rows": null,
      "grid_column": null,
      "grid_gap": null,
      "grid_row": null,
      "grid_template_areas": null,
      "grid_template_columns": null,
      "grid_template_rows": null,
      "height": null,
      "justify_content": null,
      "justify_items": null,
      "left": null,
      "margin": null,
      "max_height": null,
      "max_width": null,
      "min_height": null,
      "min_width": null,
      "object_fit": null,
      "object_position": null,
      "order": null,
      "overflow": null,
      "overflow_x": null,
      "overflow_y": null,
      "padding": null,
      "right": null,
      "top": null,
      "visibility": null,
      "width": null
     }
    },
    "dc0b4902b16c472b9dbb2c89904a56bb": {
     "model_module": "@jupyter-widgets/controls",
     "model_name": "ProgressStyleModel",
     "state": {
      "_model_module": "@jupyter-widgets/controls",
      "_model_module_version": "1.5.0",
      "_model_name": "ProgressStyleModel",
      "_view_count": null,
      "_view_module": "@jupyter-widgets/base",
      "_view_module_version": "1.2.0",
      "_view_name": "StyleView",
      "bar_color": null,
      "description_width": "initial"
     }
    },
    "e7f06f9807af4a49a05fe485183ba6d5": {
     "model_module": "@jupyter-widgets/controls",
     "model_name": "FloatProgressModel",
     "state": {
      "_dom_classes": [],
      "_model_module": "@jupyter-widgets/controls",
      "_model_module_version": "1.5.0",
      "_model_name": "FloatProgressModel",
      "_view_count": null,
      "_view_module": "@jupyter-widgets/controls",
      "_view_module_version": "1.5.0",
      "_view_name": "ProgressView",
      "bar_style": "success",
      "description": "Downloading: 100%",
      "description_tooltip": null,
      "layout": "IPY_MODEL_3844cae41420422b9d3c9578d09883b9",
      "max": 501200538,
      "min": 0,
      "orientation": "horizontal",
      "style": "IPY_MODEL_b368be4e87a445649f7db2bb567055f8",
      "value": 501200538
     }
    },
    "ece2531a6953426d9e2da41bcedfb247": {
     "model_module": "@jupyter-widgets/base",
     "model_name": "LayoutModel",
     "state": {
      "_model_module": "@jupyter-widgets/base",
      "_model_module_version": "1.2.0",
      "_model_name": "LayoutModel",
      "_view_count": null,
      "_view_module": "@jupyter-widgets/base",
      "_view_module_version": "1.2.0",
      "_view_name": "LayoutView",
      "align_content": null,
      "align_items": null,
      "align_self": null,
      "border": null,
      "bottom": null,
      "display": null,
      "flex": null,
      "flex_flow": null,
      "grid_area": null,
      "grid_auto_columns": null,
      "grid_auto_flow": null,
      "grid_auto_rows": null,
      "grid_column": null,
      "grid_gap": null,
      "grid_row": null,
      "grid_template_areas": null,
      "grid_template_columns": null,
      "grid_template_rows": null,
      "height": null,
      "justify_content": null,
      "justify_items": null,
      "left": null,
      "margin": null,
      "max_height": null,
      "max_width": null,
      "min_height": null,
      "min_width": null,
      "object_fit": null,
      "object_position": null,
      "order": null,
      "overflow": null,
      "overflow_x": null,
      "overflow_y": null,
      "padding": null,
      "right": null,
      "top": null,
      "visibility": null,
      "width": null
     }
    },
    "f2244df5ebf7440b9e465bebb4483551": {
     "model_module": "@jupyter-widgets/controls",
     "model_name": "ProgressStyleModel",
     "state": {
      "_model_module": "@jupyter-widgets/controls",
      "_model_module_version": "1.5.0",
      "_model_name": "ProgressStyleModel",
      "_view_count": null,
      "_view_module": "@jupyter-widgets/base",
      "_view_module_version": "1.2.0",
      "_view_name": "StyleView",
      "bar_color": null,
      "description_width": "initial"
     }
    }
   }
  }
 },
 "nbformat": 4,
 "nbformat_minor": 1
}
