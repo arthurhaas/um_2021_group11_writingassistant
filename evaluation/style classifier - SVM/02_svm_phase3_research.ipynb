{
 "cells": [
  {
   "cell_type": "code",
   "execution_count": 1,
   "id": "0a44f660-47f9-42bb-bde7-b9f453f720ff",
   "metadata": {},
   "outputs": [
    {
     "name": "stderr",
     "output_type": "stream",
     "text": [
      "[nltk_data] Downloading package averaged_perceptron_tagger to\n",
      "[nltk_data]     /Users/arthur/nltk_data...\n",
      "[nltk_data]   Package averaged_perceptron_tagger is already up-to-\n",
      "[nltk_data]       date!\n",
      "[nltk_data] Downloading package tagsets to /Users/arthur/nltk_data...\n",
      "[nltk_data]   Package tagsets is already up-to-date!\n",
      "[nltk_data] Downloading package universal_tagset to\n",
      "[nltk_data]     /Users/arthur/nltk_data...\n",
      "[nltk_data]   Package universal_tagset is already up-to-date!\n"
     ]
    },
    {
     "data": {
      "text/plain": [
       "True"
      ]
     },
     "execution_count": 1,
     "metadata": {},
     "output_type": "execute_result"
    }
   ],
   "source": [
    "import pandas as pd\n",
    "import seaborn as sns\n",
    "import os\n",
    "import pickle\n",
    "import matplotlib.pyplot as plt\n",
    "from tqdm.auto import tqdm\n",
    "import random\n",
    "\n",
    "# linguistic\n",
    "import string\n",
    "import nltk\n",
    "from nltk.tokenize import word_tokenize, wordpunct_tokenize, sent_tokenize\n",
    "\n",
    "# text feature extraction\n",
    "from helper import TextFeatures, CoreNLPHelper\n",
    "import importlib\n",
    "importlib.reload(TextFeatures)\n",
    "importlib.reload(CoreNLPHelper)\n",
    "coreNLPfeatures = CoreNLPHelper.CoreNLPFeatures(core_nlp_server_url=\"http://localhost:9000\")\n",
    "\n",
    "# svm\n",
    "from sklearn.model_selection import train_test_split\n",
    "from sklearn.svm import SVC\n",
    "from sklearn.metrics import classification_report, confusion_matrix, plot_confusion_matrix\n",
    "\n",
    "#setup\n",
    "pd.set_option('display.max_columns', 500)\n",
    "pd.set_option('display.max_rows', 30)\n",
    "pd.set_option('display.max_colwidth', 100)\n",
    "\n",
    "\n",
    "\n",
    "FOLDER_MEDIUM = os.path.join(\"..\", \"datasets\", \"almost_scientific_medium\")\n",
    "FOLDER_REPORTS = os.path.join(\"..\", \"datasets\", \"almost_scientific_reports\")\n",
    "FOLDER_ARXIV = os.path.join(\"..\", \"datasets\", \"scientific_arxiv\")\n",
    "\n",
    "FOLDER_TF_SCI = os.path.join(\"..\", \"..\", \"datasets\", \"tensorflow scientific papers\")\n",
    "\n",
    "# might need:\n",
    "nltk.download('averaged_perceptron_tagger')\n",
    "nltk.download('tagsets')\n",
    "nltk.download('universal_tagset')"
   ]
  },
  {
   "cell_type": "markdown",
   "id": "fc571731-3f78-4c3e-bd92-4a19923896c0",
   "metadata": {},
   "source": [
    "# Data gathering"
   ]
  },
  {
   "cell_type": "code",
   "execution_count": 5,
   "id": "dc70f119-7f5b-49be-bfad-ec7812e2596a",
   "metadata": {},
   "outputs": [
    {
     "name": "stdout",
     "output_type": "stream",
     "text": [
      "df: (6000, 2)\n"
     ]
    }
   ],
   "source": [
    "num_samples = 3000\n",
    "\n",
    "sent_medium = pickle.load(open(os.path.join(FOLDER_MEDIUM, \"sentences.pickle\"), \"rb\"))\n",
    "sent_arxiv = pickle.load(open(os.path.join(FOLDER_ARXIV, \"sentences.pickle\"), \"rb\"))\n",
    "\n",
    "# selecting sentences\n",
    "random.shuffle(sent_medium)\n",
    "random.shuffle(sent_arxiv)\n",
    "sent_medium = sent_medium[:num_samples]\n",
    "sent_arxiv = sent_arxiv[:num_samples]\n",
    "\n",
    "df_medium = pd.DataFrame(data=sent_medium, columns=[\"sentence\"])\n",
    "df_medium['scientific'] = 0\n",
    "df_arxiv = pd.DataFrame(data=sent_arxiv, columns=[\"sentence\"])\n",
    "df_arxiv['scientific'] = 1\n",
    "\n",
    "df = pd.concat([df_medium, df_arxiv], ignore_index=True)\n",
    "print(f\"df: {df.shape}\")"
   ]
  },
  {
   "cell_type": "markdown",
   "id": "fdd6e3e2-bb26-4daa-90c4-f27145626c49",
   "metadata": {},
   "source": [
    "# Feature extraction"
   ]
  },
  {
   "cell_type": "code",
   "execution_count": 6,
   "id": "80afd9cb-c6fb-49da-8153-0fa1661b7757",
   "metadata": {},
   "outputs": [],
   "source": [
    "def add_features(df):\n",
    "    columns = {}\n",
    "\n",
    "    print(\"lexical features character based\")\n",
    "    (cols_lexical_char, df_sub) = TextFeatures.extract_lexical_features_character_based(df[\"sentence\"])\n",
    "    df[cols_lexical_char] = df_sub[cols_lexical_char]\n",
    "    columns[\"cols_lexical_char\"] = cols_lexical_char\n",
    "\n",
    "    print(\"lexical features word based\")\n",
    "    (cols_lexical_word, df_sub) = TextFeatures.extract_lexical_features_word_based(df[\"sentence\"])\n",
    "    df[cols_lexical_word] = df_sub[cols_lexical_word]\n",
    "    columns[\"cols_lexical_word\"] = cols_lexical_word\n",
    "    \n",
    "    print(\"lexical features vocabulary richness\")\n",
    "    (cols_vocab_rich, df_sub) = TextFeatures.extract_vocabulary_richness(df[\"sentence\"])\n",
    "    df[cols_vocab_rich] = df_sub[cols_vocab_rich]\n",
    "    columns[\"cols_vocab_rich\"] = cols_vocab_rich\n",
    "\n",
    "    print(\"pos tags\")\n",
    "    (cols_pos_tag, df_sub) = TextFeatures.extract_pos_tags(df[\"sentence\"], universal=False)\n",
    "    df[cols_pos_tag] = df_sub[cols_pos_tag]\n",
    "    columns[\"cols_pos_tag\"] = cols_pos_tag\n",
    "\n",
    "    print(\"passive sentence\")\n",
    "    (cols_passive, df_sub) = coreNLPfeatures.extract_passive_case(df[\"sentence\"])\n",
    "    df[cols_passive] = df_sub[cols_passive]\n",
    "    columns[\"cols_passive\"] = cols_passive\n",
    "    \n",
    "    return (df, columns)"
   ]
  },
  {
   "cell_type": "code",
   "execution_count": 7,
   "id": "e489d20e-8c65-49ae-8848-94f32a0d16ca",
   "metadata": {},
   "outputs": [
    {
     "name": "stdout",
     "output_type": "stream",
     "text": [
      "lexical features character based\n",
      "lexical features word based\n"
     ]
    },
    {
     "data": {
      "application/vnd.jupyter.widget-view+json": {
       "model_id": "f09dd9eb65da4d02a1aa621ed31bab02",
       "version_major": 2,
       "version_minor": 0
      },
      "text/plain": [
       "  0%|          | 0/6000 [00:00<?, ?it/s]"
      ]
     },
     "metadata": {},
     "output_type": "display_data"
    },
    {
     "name": "stdout",
     "output_type": "stream",
     "text": [
      "lexical features vocabulary richness\n",
      "pos tags\n"
     ]
    },
    {
     "data": {
      "application/vnd.jupyter.widget-view+json": {
       "model_id": "fe96e699d71e45c5a5113398b2395333",
       "version_major": 2,
       "version_minor": 0
      },
      "text/plain": [
       "  0%|          | 0/6000 [00:00<?, ?it/s]"
      ]
     },
     "metadata": {},
     "output_type": "display_data"
    },
    {
     "data": {
      "application/vnd.jupyter.widget-view+json": {
       "model_id": "a38db8a887084ddcb2804e53bd8a40cd",
       "version_major": 2,
       "version_minor": 0
      },
      "text/plain": [
       "  0%|          | 0/6000 [00:00<?, ?it/s]"
      ]
     },
     "metadata": {},
     "output_type": "display_data"
    },
    {
     "name": "stdout",
     "output_type": "stream",
     "text": [
      "passive sentence\n"
     ]
    },
    {
     "data": {
      "application/vnd.jupyter.widget-view+json": {
       "model_id": "1bc1f87d9cb5415d958ebc7af8ae569d",
       "version_major": 2,
       "version_minor": 0
      },
      "text/plain": [
       "  0%|          | 0/6000 [00:00<?, ?it/s]"
      ]
     },
     "metadata": {},
     "output_type": "display_data"
    }
   ],
   "source": [
    "(df, columns_v1) = add_features(df)"
   ]
  },
  {
   "cell_type": "code",
   "execution_count": 8,
   "id": "65943c3d-2050-47fe-9765-16a3142a7d02",
   "metadata": {},
   "outputs": [
    {
     "data": {
      "text/plain": [
       "(6000, 61)"
      ]
     },
     "execution_count": 8,
     "metadata": {},
     "output_type": "execute_result"
    }
   ],
   "source": [
    "df.shape"
   ]
  },
  {
   "cell_type": "code",
   "execution_count": 9,
   "id": "ca6f827b-d926-4ea0-8d4e-6cdc77883465",
   "metadata": {},
   "outputs": [
    {
     "data": {
      "text/html": [
       "<div>\n",
       "<style scoped>\n",
       "    .dataframe tbody tr th:only-of-type {\n",
       "        vertical-align: middle;\n",
       "    }\n",
       "\n",
       "    .dataframe tbody tr th {\n",
       "        vertical-align: top;\n",
       "    }\n",
       "\n",
       "    .dataframe thead th {\n",
       "        text-align: right;\n",
       "    }\n",
       "</style>\n",
       "<table border=\"1\" class=\"dataframe\">\n",
       "  <thead>\n",
       "    <tr style=\"text-align: right;\">\n",
       "      <th></th>\n",
       "      <th>sentence</th>\n",
       "      <th>scientific</th>\n",
       "      <th>total_chars</th>\n",
       "      <th>freq_chars_alpha</th>\n",
       "      <th>freq_chars_upper</th>\n",
       "      <th>freq_chars_digit</th>\n",
       "      <th>freq_chars_space</th>\n",
       "      <th>freq_chars_special</th>\n",
       "      <th>total_words</th>\n",
       "      <th>freq_words_short</th>\n",
       "      <th>avg_word_length</th>\n",
       "      <th>freq_unique_words</th>\n",
       "      <th>vocab_richness_hapax_legomena</th>\n",
       "      <th>vocab_richness_hapax_dislegomena</th>\n",
       "      <th>$</th>\n",
       "      <th>''</th>\n",
       "      <th>(</th>\n",
       "      <th>)</th>\n",
       "      <th>,</th>\n",
       "      <th>--</th>\n",
       "      <th>.</th>\n",
       "      <th>:</th>\n",
       "      <th>CC</th>\n",
       "      <th>CD</th>\n",
       "      <th>DT</th>\n",
       "      <th>EX</th>\n",
       "      <th>FW</th>\n",
       "      <th>IN</th>\n",
       "      <th>JJ</th>\n",
       "      <th>JJR</th>\n",
       "      <th>JJS</th>\n",
       "      <th>LS</th>\n",
       "      <th>MD</th>\n",
       "      <th>NN</th>\n",
       "      <th>NNP</th>\n",
       "      <th>NNPS</th>\n",
       "      <th>NNS</th>\n",
       "      <th>PDT</th>\n",
       "      <th>POS</th>\n",
       "      <th>PRP</th>\n",
       "      <th>PRP$</th>\n",
       "      <th>RB</th>\n",
       "      <th>RBR</th>\n",
       "      <th>RBS</th>\n",
       "      <th>RP</th>\n",
       "      <th>SYM</th>\n",
       "      <th>TO</th>\n",
       "      <th>UH</th>\n",
       "      <th>VB</th>\n",
       "      <th>VBD</th>\n",
       "      <th>VBG</th>\n",
       "      <th>VBN</th>\n",
       "      <th>VBP</th>\n",
       "      <th>VBZ</th>\n",
       "      <th>WDT</th>\n",
       "      <th>WP</th>\n",
       "      <th>WP$</th>\n",
       "      <th>WRB</th>\n",
       "      <th>``</th>\n",
       "      <th>#</th>\n",
       "      <th>is_passive</th>\n",
       "    </tr>\n",
       "  </thead>\n",
       "  <tbody>\n",
       "    <tr>\n",
       "      <th>0</th>\n",
       "      <td>Important questions to answer include:</td>\n",
       "      <td>0</td>\n",
       "      <td>38</td>\n",
       "      <td>0.868421</td>\n",
       "      <td>0.026316</td>\n",
       "      <td>0.000000</td>\n",
       "      <td>0.105263</td>\n",
       "      <td>0.026316</td>\n",
       "      <td>5</td>\n",
       "      <td>0.2</td>\n",
       "      <td>6.600000</td>\n",
       "      <td>1.000000</td>\n",
       "      <td>1.000000</td>\n",
       "      <td>0.000000</td>\n",
       "      <td>0</td>\n",
       "      <td>0</td>\n",
       "      <td>0</td>\n",
       "      <td>0</td>\n",
       "      <td>0</td>\n",
       "      <td>0</td>\n",
       "      <td>0</td>\n",
       "      <td>1</td>\n",
       "      <td>0</td>\n",
       "      <td>0</td>\n",
       "      <td>0</td>\n",
       "      <td>0</td>\n",
       "      <td>0</td>\n",
       "      <td>0</td>\n",
       "      <td>1</td>\n",
       "      <td>0</td>\n",
       "      <td>0</td>\n",
       "      <td>0</td>\n",
       "      <td>0</td>\n",
       "      <td>1</td>\n",
       "      <td>0</td>\n",
       "      <td>0</td>\n",
       "      <td>1</td>\n",
       "      <td>0</td>\n",
       "      <td>0</td>\n",
       "      <td>0</td>\n",
       "      <td>0</td>\n",
       "      <td>0</td>\n",
       "      <td>0</td>\n",
       "      <td>0</td>\n",
       "      <td>0</td>\n",
       "      <td>0</td>\n",
       "      <td>1</td>\n",
       "      <td>0</td>\n",
       "      <td>1</td>\n",
       "      <td>0</td>\n",
       "      <td>0</td>\n",
       "      <td>0</td>\n",
       "      <td>0</td>\n",
       "      <td>0</td>\n",
       "      <td>0</td>\n",
       "      <td>0</td>\n",
       "      <td>0</td>\n",
       "      <td>0</td>\n",
       "      <td>0</td>\n",
       "      <td>0</td>\n",
       "      <td>0</td>\n",
       "    </tr>\n",
       "    <tr>\n",
       "      <th>1</th>\n",
       "      <td>For regression algorithms, the three most popular metrics are MAE, MSE and the R²-score.</td>\n",
       "      <td>0</td>\n",
       "      <td>88</td>\n",
       "      <td>0.795455</td>\n",
       "      <td>0.090909</td>\n",
       "      <td>0.011364</td>\n",
       "      <td>0.147727</td>\n",
       "      <td>0.045455</td>\n",
       "      <td>14</td>\n",
       "      <td>0.5</td>\n",
       "      <td>5.142857</td>\n",
       "      <td>0.928571</td>\n",
       "      <td>0.857143</td>\n",
       "      <td>0.076923</td>\n",
       "      <td>0</td>\n",
       "      <td>0</td>\n",
       "      <td>0</td>\n",
       "      <td>0</td>\n",
       "      <td>2</td>\n",
       "      <td>0</td>\n",
       "      <td>1</td>\n",
       "      <td>0</td>\n",
       "      <td>1</td>\n",
       "      <td>1</td>\n",
       "      <td>2</td>\n",
       "      <td>0</td>\n",
       "      <td>0</td>\n",
       "      <td>1</td>\n",
       "      <td>1</td>\n",
       "      <td>0</td>\n",
       "      <td>0</td>\n",
       "      <td>0</td>\n",
       "      <td>0</td>\n",
       "      <td>2</td>\n",
       "      <td>3</td>\n",
       "      <td>0</td>\n",
       "      <td>1</td>\n",
       "      <td>0</td>\n",
       "      <td>0</td>\n",
       "      <td>0</td>\n",
       "      <td>0</td>\n",
       "      <td>0</td>\n",
       "      <td>0</td>\n",
       "      <td>1</td>\n",
       "      <td>0</td>\n",
       "      <td>0</td>\n",
       "      <td>0</td>\n",
       "      <td>0</td>\n",
       "      <td>0</td>\n",
       "      <td>0</td>\n",
       "      <td>0</td>\n",
       "      <td>0</td>\n",
       "      <td>1</td>\n",
       "      <td>0</td>\n",
       "      <td>0</td>\n",
       "      <td>0</td>\n",
       "      <td>0</td>\n",
       "      <td>0</td>\n",
       "      <td>0</td>\n",
       "      <td>0</td>\n",
       "      <td>0</td>\n",
       "    </tr>\n",
       "  </tbody>\n",
       "</table>\n",
       "</div>"
      ],
      "text/plain": [
       "                                                                                   sentence  \\\n",
       "0                                                    Important questions to answer include:   \n",
       "1  For regression algorithms, the three most popular metrics are MAE, MSE and the R²-score.   \n",
       "\n",
       "   scientific  total_chars  freq_chars_alpha  freq_chars_upper  \\\n",
       "0           0           38          0.868421          0.026316   \n",
       "1           0           88          0.795455          0.090909   \n",
       "\n",
       "   freq_chars_digit  freq_chars_space  freq_chars_special  total_words  \\\n",
       "0          0.000000          0.105263            0.026316            5   \n",
       "1          0.011364          0.147727            0.045455           14   \n",
       "\n",
       "   freq_words_short  avg_word_length  freq_unique_words  \\\n",
       "0               0.2         6.600000           1.000000   \n",
       "1               0.5         5.142857           0.928571   \n",
       "\n",
       "   vocab_richness_hapax_legomena  vocab_richness_hapax_dislegomena  $  ''  (  \\\n",
       "0                       1.000000                          0.000000  0   0  0   \n",
       "1                       0.857143                          0.076923  0   0  0   \n",
       "\n",
       "   )  ,  --  .  :  CC  CD  DT  EX  FW  IN  JJ  JJR  JJS  LS  MD  NN  NNP  \\\n",
       "0  0  0   0  0  1   0   0   0   0   0   0   1    0    0   0   0   1    0   \n",
       "1  0  2   0  1  0   1   1   2   0   0   1   1    0    0   0   0   2    3   \n",
       "\n",
       "   NNPS  NNS  PDT  POS  PRP  PRP$  RB  RBR  RBS  RP  SYM  TO  UH  VB  VBD  \\\n",
       "0     0    1    0    0    0     0   0    0    0   0    0   1   0   1    0   \n",
       "1     0    1    0    0    0     0   0    0    1   0    0   0   0   0    0   \n",
       "\n",
       "   VBG  VBN  VBP  VBZ  WDT  WP  WP$  WRB  ``  #  is_passive  \n",
       "0    0    0    0    0    0   0    0    0   0  0           0  \n",
       "1    0    0    1    0    0   0    0    0   0  0           0  "
      ]
     },
     "execution_count": 9,
     "metadata": {},
     "output_type": "execute_result"
    }
   ],
   "source": [
    "df.head(2)"
   ]
  },
  {
   "cell_type": "markdown",
   "id": "8ed87d08-846e-4480-a01d-03b5daf963d2",
   "metadata": {},
   "source": [
    "# SVM"
   ]
  },
  {
   "cell_type": "markdown",
   "id": "02cd0a4b-8b4b-4e9b-8541-d7e1c15fe5cd",
   "metadata": {},
   "source": [
    "## SVM 1: as it is (pure)\n",
    "\n",
    "f1: 62%"
   ]
  },
  {
   "cell_type": "code",
   "execution_count": 10,
   "id": "fa948eb9-cc56-49b4-8054-929dd705e294",
   "metadata": {},
   "outputs": [
    {
     "name": "stdout",
     "output_type": "stream",
     "text": [
      "training X: ['total_chars', 'freq_chars_alpha', 'freq_chars_upper', 'freq_chars_digit', 'freq_chars_space', 'freq_chars_special', 'total_words', 'freq_words_short', 'avg_word_length', 'freq_unique_words', 'vocab_richness_hapax_legomena', 'vocab_richness_hapax_dislegomena', '$', \"''\", '(', ')', ',', '--', '.', ':', 'CC', 'CD', 'DT', 'EX', 'FW', 'IN', 'JJ', 'JJR', 'JJS', 'LS', 'MD', 'NN', 'NNP', 'NNPS', 'NNS', 'PDT', 'POS', 'PRP', 'PRP$', 'RB', 'RBR', 'RBS', 'RP', 'SYM', 'TO', 'UH', 'VB', 'VBD', 'VBG', 'VBN', 'VBP', 'VBZ', 'WDT', 'WP', 'WP$', 'WRB', '``', '#', 'is_passive']\n",
      "\n",
      "training y: scientific\n",
      "\n"
     ]
    },
    {
     "data": {
      "image/png": "[encoded data removed]",
      "text/plain": [
       "<Figure size 432x288 with 2 Axes>"
      ]
     },
     "metadata": {
      "needs_background": "light"
     },
     "output_type": "display_data"
    }
   ],
   "source": [
    "exclude_from_training = [\"sentence\", \"scientific\"]\n",
    "\n",
    "X = df.drop(exclude_from_training, axis=1)\n",
    "y = df['scientific']\n",
    "X_train, X_test, y_train, y_test = train_test_split(X, y, test_size = 0.20)\n",
    "\n",
    "clf_svm = SVC(kernel='rbf')\n",
    "clf_svm.fit(X_train, y_train)\n",
    "\n",
    "\n",
    "y_pred = clf_svm.predict(X_test)\n",
    "plot_confusion_matrix(clf_svm,\n",
    "                             X_test,\n",
    "                             y_test,\n",
    "                             display_labels=[\"non-sci\", \"sci\"],\n",
    "                             cmap=plt.cm.Blues,\n",
    "                             normalize=None,\n",
    "                            )\n",
    "\n",
    "print(f\"training X: {list(X.columns)}\\n\")\n",
    "print(f\"training y: {y.name}\\n\")"
   ]
  },
  {
   "cell_type": "code",
   "execution_count": 11,
   "id": "b9055cdb-409f-4294-9331-08c6d85b9a80",
   "metadata": {},
   "outputs": [
    {
     "name": "stdout",
     "output_type": "stream",
     "text": [
      "              precision    recall  f1-score   support\n",
      "\n",
      "     non-sci       0.68      0.69      0.68       616\n",
      "         sci       0.66      0.65      0.66       584\n",
      "\n",
      "    accuracy                           0.67      1200\n",
      "   macro avg       0.67      0.67      0.67      1200\n",
      "weighted avg       0.67      0.67      0.67      1200\n",
      "\n"
     ]
    }
   ],
   "source": [
    "print(classification_report(y_test,y_pred, target_names=[\"non-sci\", \"sci\"]))"
   ]
  },
  {
   "cell_type": "markdown",
   "id": "13d2c563-c1ee-4142-9673-076e5dac44ee",
   "metadata": {},
   "source": [
    "## SVM 2: Hyperparameter tuning\n",
    "\n",
    "f1: 78%"
   ]
  },
  {
   "cell_type": "code",
   "execution_count": 12,
   "id": "334b7c4d-2192-4858-a00a-0e448d2f5cdc",
   "metadata": {},
   "outputs": [
    {
     "name": "stdout",
     "output_type": "stream",
     "text": [
      "Fitting 5 folds for each of 25 candidates, totalling 125 fits\n"
     ]
    },
    {
     "data": {
      "text/plain": [
       "GridSearchCV(estimator=SVC(),\n",
       "             param_grid={'C': [0.1, 1, 10, 100, 1000],\n",
       "                         'gamma': [1, 0.1, 0.01, 0.001, 0.0001],\n",
       "                         'kernel': ['rbf']},\n",
       "             verbose=1)"
      ]
     },
     "execution_count": 12,
     "metadata": {},
     "output_type": "execute_result"
    }
   ],
   "source": [
    "from sklearn.model_selection import GridSearchCV\n",
    "\n",
    "# defining parameter range\n",
    "param_grid = {'C': [0.1, 1, 10, 100, 1000],\n",
    "                'gamma': [1, 0.1, 0.01, 0.001, 0.0001],\n",
    "                'kernel': ['rbf']}\n",
    "\n",
    "grid = GridSearchCV(SVC(), param_grid, refit = True, verbose = 1)\n",
    "\n",
    "# fitting the model for grid search\n",
    "grid.fit(X_train, y_train)"
   ]
  },
  {
   "cell_type": "code",
   "execution_count": 13,
   "id": "db43d649-d316-42ca-834f-d810831ea040",
   "metadata": {},
   "outputs": [
    {
     "name": "stdout",
     "output_type": "stream",
     "text": [
      "{'C': 1000, 'gamma': 0.0001, 'kernel': 'rbf'}\n",
      "SVC(C=1000, gamma=0.0001)\n"
     ]
    },
    {
     "data": {
      "text/plain": [
       "<sklearn.metrics._plot.confusion_matrix.ConfusionMatrixDisplay at 0x11fef0460>"
      ]
     },
     "execution_count": 13,
     "metadata": {},
     "output_type": "execute_result"
    },
    {
     "data": {
      "image/png": "[encoded data removed]",
      "text/plain": [
       "<Figure size 432x288 with 2 Axes>"
      ]
     },
     "metadata": {
      "needs_background": "light"
     },
     "output_type": "display_data"
    }
   ],
   "source": [
    "# print best parameter after tuning\n",
    "print(grid.best_params_)\n",
    "  \n",
    "# print how our model looks after hyper-parameter tuning\n",
    "print(grid.best_estimator_)\n",
    "\n",
    "grid_predictions = grid.predict(X_test)\n",
    "  \n",
    "plot_confusion_matrix(grid,\n",
    "                             X_test,\n",
    "                             y_test,\n",
    "                             display_labels=[\"non-sci\", \"sci\"],\n",
    "                             cmap=plt.cm.Blues,\n",
    "                             normalize=None,\n",
    "                            )"
   ]
  },
  {
   "cell_type": "code",
   "execution_count": 14,
   "id": "d1b86148-0bc7-4b8a-ad6c-b7e416a78316",
   "metadata": {},
   "outputs": [
    {
     "name": "stdout",
     "output_type": "stream",
     "text": [
      "              precision    recall  f1-score   support\n",
      "\n",
      "     non-sci       0.81      0.77      0.79       616\n",
      "         sci       0.77      0.81      0.79       584\n",
      "\n",
      "    accuracy                           0.79      1200\n",
      "   macro avg       0.79      0.79      0.79      1200\n",
      "weighted avg       0.79      0.79      0.79      1200\n",
      "\n"
     ]
    }
   ],
   "source": [
    "# print classification report\n",
    "print(classification_report(y_test, grid_predictions, target_names=[\"non-sci\", \"sci\"]))"
   ]
  },
  {
   "cell_type": "markdown",
   "id": "50c130ba-1378-45c2-88e4-bb69e3cbfdda",
   "metadata": {},
   "source": [
    "### Validation with student reports"
   ]
  },
  {
   "cell_type": "code",
   "execution_count": 15,
   "id": "38d8d6d1-8ffd-443b-811c-bbcb27c455ea",
   "metadata": {
    "tags": []
   },
   "outputs": [
    {
     "name": "stdout",
     "output_type": "stream",
     "text": [
      "Number of sentences: 4389\n",
      "lexical features character based\n",
      "lexical features word based\n"
     ]
    },
    {
     "data": {
      "application/vnd.jupyter.widget-view+json": {
       "model_id": "50de03574c5844dcb665b81ced341d2d",
       "version_major": 2,
       "version_minor": 0
      },
      "text/plain": [
       "  0%|          | 0/4389 [00:00<?, ?it/s]"
      ]
     },
     "metadata": {},
     "output_type": "display_data"
    },
    {
     "name": "stdout",
     "output_type": "stream",
     "text": [
      "lexical features vocabulary richness\n",
      "pos tags\n"
     ]
    },
    {
     "data": {
      "application/vnd.jupyter.widget-view+json": {
       "model_id": "3fb2623bc23e4c6e96446017fa02b217",
       "version_major": 2,
       "version_minor": 0
      },
      "text/plain": [
       "  0%|          | 0/4389 [00:00<?, ?it/s]"
      ]
     },
     "metadata": {},
     "output_type": "display_data"
    },
    {
     "data": {
      "application/vnd.jupyter.widget-view+json": {
       "model_id": "2f908c9199e24c14ba01ad26d818bdf2",
       "version_major": 2,
       "version_minor": 0
      },
      "text/plain": [
       "  0%|          | 0/4389 [00:00<?, ?it/s]"
      ]
     },
     "metadata": {},
     "output_type": "display_data"
    },
    {
     "name": "stdout",
     "output_type": "stream",
     "text": [
      "passive sentence\n"
     ]
    },
    {
     "data": {
      "application/vnd.jupyter.widget-view+json": {
       "model_id": "be1ba0ec2c554b92b67b1a2cefe3e42b",
       "version_major": 2,
       "version_minor": 0
      },
      "text/plain": [
       "  0%|          | 0/4389 [00:00<?, ?it/s]"
      ]
     },
     "metadata": {},
     "output_type": "display_data"
    }
   ],
   "source": [
    "sent_studentreports = pickle.load(open(os.path.join(FOLDER_REPORTS, \"sentences.pickle\"), \"rb\"))\n",
    "print(f\"Number of sentences: {len(sent_studentreports)}\")\n",
    "\n",
    "df_val = pd.DataFrame(data=sent_studentreports, columns=[\"sentence\"])\n",
    "(df_val, columns_val_student) = add_features(df_val)"
   ]
  },
  {
   "cell_type": "code",
   "execution_count": 16,
   "id": "f798d222-f4ac-439d-b3e2-9178406621f4",
   "metadata": {},
   "outputs": [
    {
     "name": "stderr",
     "output_type": "stream",
     "text": [
      "/Users/arthur/.pyenv/versions/3.9.4/envs/mrp/lib/python3.9/site-packages/sklearn/metrics/_classification.py:1248: UndefinedMetricWarning: Recall and F-score are ill-defined and being set to 0.0 in labels with no true samples. Use `zero_division` parameter to control this behavior.\n",
      "  _warn_prf(average, modifier, msg_start, len(result))\n",
      "/Users/arthur/.pyenv/versions/3.9.4/envs/mrp/lib/python3.9/site-packages/sklearn/metrics/_classification.py:1248: UndefinedMetricWarning: Recall and F-score are ill-defined and being set to 0.0 in labels with no true samples. Use `zero_division` parameter to control this behavior.\n",
      "  _warn_prf(average, modifier, msg_start, len(result))\n",
      "/Users/arthur/.pyenv/versions/3.9.4/envs/mrp/lib/python3.9/site-packages/sklearn/metrics/_classification.py:1248: UndefinedMetricWarning: Recall and F-score are ill-defined and being set to 0.0 in labels with no true samples. Use `zero_division` parameter to control this behavior.\n",
      "  _warn_prf(average, modifier, msg_start, len(result))\n"
     ]
    },
    {
     "name": "stdout",
     "output_type": "stream",
     "text": [
      "              precision    recall  f1-score   support\n",
      "\n",
      "     non-sci       1.00      0.40      0.57      4389\n",
      "         sci       0.00      0.00      0.00         0\n",
      "\n",
      "    accuracy                           0.40      4389\n",
      "   macro avg       0.50      0.20      0.29      4389\n",
      "weighted avg       1.00      0.40      0.57      4389\n",
      "\n"
     ]
    },
    {
     "data": {
      "text/plain": [
       "<AxesSubplot:>"
      ]
     },
     "execution_count": 16,
     "metadata": {},
     "output_type": "execute_result"
    },
    {
     "data": {
      "image/png": "[encoded data removed]",
      "text/plain": [
       "<Figure size 432x288 with 1 Axes>"
      ]
     },
     "metadata": {
      "needs_background": "light"
     },
     "output_type": "display_data"
    }
   ],
   "source": [
    "# to allow for repeated execution\n",
    "try:\n",
    "    val_pred = grid.predict(df_val.drop([\"sentence\", \"pred_sci\"], axis=1))\n",
    "except KeyError as error:\n",
    "    val_pred = grid.predict(df_val.drop([\"sentence\"], axis=1))\n",
    "\n",
    "df_val['scientific'] = 0\n",
    "df_val['pred_sci'] = val_pred\n",
    "\n",
    "print(classification_report(df_val['scientific'],df_val['pred_sci'], target_names=[\"non-sci\", \"sci\"]))\n",
    "\n",
    "# Histogram to see results\n",
    "df_val.pred_sci.hist()"
   ]
  },
  {
   "cell_type": "markdown",
   "id": "57caf27a-1563-4511-9f98-2372168ee282",
   "metadata": {},
   "source": [
    "Not really good. Majority is predicted to be of scientific style."
   ]
  },
  {
   "cell_type": "markdown",
   "id": "942528b3-20bd-4879-89c3-5dc32e8084a3",
   "metadata": {},
   "source": [
    "## SVM 3: New dataset -> latest tensorflow vs. medium\n",
    "\n",
    "- f1: 75%\n",
    "- f1 tuned: 85%"
   ]
  },
  {
   "cell_type": "code",
   "execution_count": 17,
   "id": "b5b9deac-6194-4a5b-8ea0-f3e3d309dfbd",
   "metadata": {},
   "outputs": [
    {
     "name": "stdout",
     "output_type": "stream",
     "text": [
      "df: (6000, 2)\n",
      "lexical features character based\n",
      "lexical features word based\n"
     ]
    },
    {
     "data": {
      "application/vnd.jupyter.widget-view+json": {
       "model_id": "5123da5ee11b426697e26304626d3283",
       "version_major": 2,
       "version_minor": 0
      },
      "text/plain": [
       "  0%|          | 0/6000 [00:00<?, ?it/s]"
      ]
     },
     "metadata": {},
     "output_type": "display_data"
    },
    {
     "name": "stdout",
     "output_type": "stream",
     "text": [
      "lexical features vocabulary richness\n",
      "pos tags\n"
     ]
    },
    {
     "data": {
      "application/vnd.jupyter.widget-view+json": {
       "model_id": "6d85daded6124e22b2177d1fb79ba8eb",
       "version_major": 2,
       "version_minor": 0
      },
      "text/plain": [
       "  0%|          | 0/6000 [00:00<?, ?it/s]"
      ]
     },
     "metadata": {},
     "output_type": "display_data"
    },
    {
     "data": {
      "application/vnd.jupyter.widget-view+json": {
       "model_id": "e589ad4daccf4b9f9086256b6e19a55e",
       "version_major": 2,
       "version_minor": 0
      },
      "text/plain": [
       "  0%|          | 0/6000 [00:00<?, ?it/s]"
      ]
     },
     "metadata": {},
     "output_type": "display_data"
    },
    {
     "name": "stdout",
     "output_type": "stream",
     "text": [
      "passive sentence\n"
     ]
    },
    {
     "data": {
      "application/vnd.jupyter.widget-view+json": {
       "model_id": "30e9bf76ae4040a1bdea6d4385f4dae4",
       "version_major": 2,
       "version_minor": 0
      },
      "text/plain": [
       "  0%|          | 0/6000 [00:00<?, ?it/s]"
      ]
     },
     "metadata": {},
     "output_type": "display_data"
    }
   ],
   "source": [
    "sent_tf_cleaned = pickle.load(open(os.path.join(FOLDER_TF_SCI, \"filtered_sent_cola.pkl\"), \"rb\"))\n",
    "\n",
    "# selecting sentences\n",
    "random.shuffle(sent_tf_cleaned)\n",
    "sent_tf_cleaned = sent_tf_cleaned[:num_samples]\n",
    "\n",
    "df_tf_cleaned = pd.DataFrame(data=sent_tf_cleaned, columns=[\"sentence\"])\n",
    "df_tf_cleaned['scientific'] = 1\n",
    "\n",
    "df_v2 = pd.concat([df_medium, df_tf_cleaned], ignore_index=True)\n",
    "print(f\"df: {df_v2.shape}\")\n",
    "\n",
    "# add features\n",
    "(df_v2, columns_v2) = add_features(df_v2)"
   ]
  },
  {
   "cell_type": "code",
   "execution_count": 19,
   "id": "078b7079-e1f0-49c9-92e8-1eaa065df5ef",
   "metadata": {},
   "outputs": [
    {
     "name": "stdout",
     "output_type": "stream",
     "text": [
      "(6000, 61)\n"
     ]
    },
    {
     "data": {
      "text/html": [
       "<div>\n",
       "<style scoped>\n",
       "    .dataframe tbody tr th:only-of-type {\n",
       "        vertical-align: middle;\n",
       "    }\n",
       "\n",
       "    .dataframe tbody tr th {\n",
       "        vertical-align: top;\n",
       "    }\n",
       "\n",
       "    .dataframe thead th {\n",
       "        text-align: right;\n",
       "    }\n",
       "</style>\n",
       "<table border=\"1\" class=\"dataframe\">\n",
       "  <thead>\n",
       "    <tr style=\"text-align: right;\">\n",
       "      <th></th>\n",
       "      <th>sentence</th>\n",
       "      <th>scientific</th>\n",
       "      <th>total_chars</th>\n",
       "      <th>freq_chars_alpha</th>\n",
       "      <th>freq_chars_upper</th>\n",
       "      <th>freq_chars_digit</th>\n",
       "      <th>freq_chars_space</th>\n",
       "      <th>freq_chars_special</th>\n",
       "      <th>total_words</th>\n",
       "      <th>freq_words_short</th>\n",
       "      <th>avg_word_length</th>\n",
       "      <th>freq_unique_words</th>\n",
       "      <th>vocab_richness_hapax_legomena</th>\n",
       "      <th>vocab_richness_hapax_dislegomena</th>\n",
       "      <th>$</th>\n",
       "      <th>''</th>\n",
       "      <th>(</th>\n",
       "      <th>)</th>\n",
       "      <th>,</th>\n",
       "      <th>--</th>\n",
       "      <th>.</th>\n",
       "      <th>:</th>\n",
       "      <th>CC</th>\n",
       "      <th>CD</th>\n",
       "      <th>DT</th>\n",
       "      <th>EX</th>\n",
       "      <th>FW</th>\n",
       "      <th>IN</th>\n",
       "      <th>JJ</th>\n",
       "      <th>JJR</th>\n",
       "      <th>JJS</th>\n",
       "      <th>LS</th>\n",
       "      <th>MD</th>\n",
       "      <th>NN</th>\n",
       "      <th>NNP</th>\n",
       "      <th>NNPS</th>\n",
       "      <th>NNS</th>\n",
       "      <th>PDT</th>\n",
       "      <th>POS</th>\n",
       "      <th>PRP</th>\n",
       "      <th>PRP$</th>\n",
       "      <th>RB</th>\n",
       "      <th>RBR</th>\n",
       "      <th>RBS</th>\n",
       "      <th>RP</th>\n",
       "      <th>SYM</th>\n",
       "      <th>TO</th>\n",
       "      <th>UH</th>\n",
       "      <th>VB</th>\n",
       "      <th>VBD</th>\n",
       "      <th>VBG</th>\n",
       "      <th>VBN</th>\n",
       "      <th>VBP</th>\n",
       "      <th>VBZ</th>\n",
       "      <th>WDT</th>\n",
       "      <th>WP</th>\n",
       "      <th>WP$</th>\n",
       "      <th>WRB</th>\n",
       "      <th>``</th>\n",
       "      <th>#</th>\n",
       "      <th>is_passive</th>\n",
       "    </tr>\n",
       "  </thead>\n",
       "  <tbody>\n",
       "    <tr>\n",
       "      <th>0</th>\n",
       "      <td>Important questions to answer include:</td>\n",
       "      <td>0</td>\n",
       "      <td>38</td>\n",
       "      <td>0.868421</td>\n",
       "      <td>0.026316</td>\n",
       "      <td>0.000000</td>\n",
       "      <td>0.105263</td>\n",
       "      <td>0.026316</td>\n",
       "      <td>5</td>\n",
       "      <td>0.2</td>\n",
       "      <td>6.600000</td>\n",
       "      <td>1.000000</td>\n",
       "      <td>1.000000</td>\n",
       "      <td>0.000000</td>\n",
       "      <td>0</td>\n",
       "      <td>0</td>\n",
       "      <td>0</td>\n",
       "      <td>0</td>\n",
       "      <td>0</td>\n",
       "      <td>0</td>\n",
       "      <td>0</td>\n",
       "      <td>1</td>\n",
       "      <td>0</td>\n",
       "      <td>0</td>\n",
       "      <td>0</td>\n",
       "      <td>0</td>\n",
       "      <td>0</td>\n",
       "      <td>0</td>\n",
       "      <td>1</td>\n",
       "      <td>0</td>\n",
       "      <td>0</td>\n",
       "      <td>0</td>\n",
       "      <td>0</td>\n",
       "      <td>1</td>\n",
       "      <td>0</td>\n",
       "      <td>0</td>\n",
       "      <td>1</td>\n",
       "      <td>0</td>\n",
       "      <td>0</td>\n",
       "      <td>0</td>\n",
       "      <td>0</td>\n",
       "      <td>0</td>\n",
       "      <td>0</td>\n",
       "      <td>0</td>\n",
       "      <td>0</td>\n",
       "      <td>0</td>\n",
       "      <td>1</td>\n",
       "      <td>0</td>\n",
       "      <td>1</td>\n",
       "      <td>0</td>\n",
       "      <td>0</td>\n",
       "      <td>0</td>\n",
       "      <td>0</td>\n",
       "      <td>0</td>\n",
       "      <td>0</td>\n",
       "      <td>0</td>\n",
       "      <td>0</td>\n",
       "      <td>0</td>\n",
       "      <td>0</td>\n",
       "      <td>0</td>\n",
       "      <td>0</td>\n",
       "    </tr>\n",
       "    <tr>\n",
       "      <th>1</th>\n",
       "      <td>For regression algorithms, the three most popular metrics are MAE, MSE and the R²-score.</td>\n",
       "      <td>0</td>\n",
       "      <td>88</td>\n",
       "      <td>0.795455</td>\n",
       "      <td>0.090909</td>\n",
       "      <td>0.011364</td>\n",
       "      <td>0.147727</td>\n",
       "      <td>0.045455</td>\n",
       "      <td>14</td>\n",
       "      <td>0.5</td>\n",
       "      <td>5.142857</td>\n",
       "      <td>0.928571</td>\n",
       "      <td>0.857143</td>\n",
       "      <td>0.076923</td>\n",
       "      <td>0</td>\n",
       "      <td>0</td>\n",
       "      <td>0</td>\n",
       "      <td>0</td>\n",
       "      <td>2</td>\n",
       "      <td>0</td>\n",
       "      <td>1</td>\n",
       "      <td>0</td>\n",
       "      <td>1</td>\n",
       "      <td>1</td>\n",
       "      <td>2</td>\n",
       "      <td>0</td>\n",
       "      <td>0</td>\n",
       "      <td>1</td>\n",
       "      <td>1</td>\n",
       "      <td>0</td>\n",
       "      <td>0</td>\n",
       "      <td>0</td>\n",
       "      <td>0</td>\n",
       "      <td>2</td>\n",
       "      <td>3</td>\n",
       "      <td>0</td>\n",
       "      <td>1</td>\n",
       "      <td>0</td>\n",
       "      <td>0</td>\n",
       "      <td>0</td>\n",
       "      <td>0</td>\n",
       "      <td>0</td>\n",
       "      <td>0</td>\n",
       "      <td>1</td>\n",
       "      <td>0</td>\n",
       "      <td>0</td>\n",
       "      <td>0</td>\n",
       "      <td>0</td>\n",
       "      <td>0</td>\n",
       "      <td>0</td>\n",
       "      <td>0</td>\n",
       "      <td>0</td>\n",
       "      <td>1</td>\n",
       "      <td>0</td>\n",
       "      <td>0</td>\n",
       "      <td>0</td>\n",
       "      <td>0</td>\n",
       "      <td>0</td>\n",
       "      <td>0</td>\n",
       "      <td>0</td>\n",
       "      <td>0</td>\n",
       "    </tr>\n",
       "  </tbody>\n",
       "</table>\n",
       "</div>"
      ],
      "text/plain": [
       "                                                                                   sentence  \\\n",
       "0                                                    Important questions to answer include:   \n",
       "1  For regression algorithms, the three most popular metrics are MAE, MSE and the R²-score.   \n",
       "\n",
       "   scientific  total_chars  freq_chars_alpha  freq_chars_upper  \\\n",
       "0           0           38          0.868421          0.026316   \n",
       "1           0           88          0.795455          0.090909   \n",
       "\n",
       "   freq_chars_digit  freq_chars_space  freq_chars_special  total_words  \\\n",
       "0          0.000000          0.105263            0.026316            5   \n",
       "1          0.011364          0.147727            0.045455           14   \n",
       "\n",
       "   freq_words_short  avg_word_length  freq_unique_words  \\\n",
       "0               0.2         6.600000           1.000000   \n",
       "1               0.5         5.142857           0.928571   \n",
       "\n",
       "   vocab_richness_hapax_legomena  vocab_richness_hapax_dislegomena  $  ''  (  \\\n",
       "0                       1.000000                          0.000000  0   0  0   \n",
       "1                       0.857143                          0.076923  0   0  0   \n",
       "\n",
       "   )  ,  --  .  :  CC  CD  DT  EX  FW  IN  JJ  JJR  JJS  LS  MD  NN  NNP  \\\n",
       "0  0  0   0  0  1   0   0   0   0   0   0   1    0    0   0   0   1    0   \n",
       "1  0  2   0  1  0   1   1   2   0   0   1   1    0    0   0   0   2    3   \n",
       "\n",
       "   NNPS  NNS  PDT  POS  PRP  PRP$  RB  RBR  RBS  RP  SYM  TO  UH  VB  VBD  \\\n",
       "0     0    1    0    0    0     0   0    0    0   0    0   1   0   1    0   \n",
       "1     0    1    0    0    0     0   0    0    1   0    0   0   0   0    0   \n",
       "\n",
       "   VBG  VBN  VBP  VBZ  WDT  WP  WP$  WRB  ``  #  is_passive  \n",
       "0    0    0    0    0    0   0    0    0   0  0           0  \n",
       "1    0    0    1    0    0   0    0    0   0  0           0  "
      ]
     },
     "execution_count": 19,
     "metadata": {},
     "output_type": "execute_result"
    }
   ],
   "source": [
    "print(df_v2.shape)\n",
    "df_v2.head(2)"
   ]
  },
  {
   "cell_type": "code",
   "execution_count": 20,
   "id": "6ad9c752-739b-42a3-a186-c625308e16f0",
   "metadata": {},
   "outputs": [
    {
     "data": {
      "text/plain": [
       "<sklearn.metrics._plot.confusion_matrix.ConfusionMatrixDisplay at 0x11fe12880>"
      ]
     },
     "execution_count": 20,
     "metadata": {},
     "output_type": "execute_result"
    },
    {
     "data": {
      "image/png": "[encoded data removed]",
      "text/plain": [
       "<Figure size 432x288 with 2 Axes>"
      ]
     },
     "metadata": {
      "needs_background": "light"
     },
     "output_type": "display_data"
    }
   ],
   "source": [
    "exclude_from_training = [\"sentence\", \"scientific\"]\n",
    "\n",
    "X = df_v2.drop(exclude_from_training, axis=1)\n",
    "y = df_v2['scientific']\n",
    "X_train, X_test, y_train, y_test = train_test_split(X, y, test_size = 0.20)\n",
    "\n",
    "clf_svm = SVC(kernel='rbf')\n",
    "clf_svm.fit(X_train, y_train)\n",
    "\n",
    "\n",
    "y_pred = clf_svm.predict(X_test)\n",
    "plot_confusion_matrix(clf_svm,\n",
    "                             X_test,\n",
    "                             y_test,\n",
    "                             display_labels=[\"non-sci\", \"sci\"],\n",
    "                             cmap=plt.cm.Blues,\n",
    "                             normalize=None,\n",
    "                            )"
   ]
  },
  {
   "cell_type": "code",
   "execution_count": 21,
   "id": "eddebf33-d7e3-4ba0-ba58-fb66a21e3f2c",
   "metadata": {},
   "outputs": [
    {
     "name": "stdout",
     "output_type": "stream",
     "text": [
      "              precision    recall  f1-score   support\n",
      "\n",
      "     non-sci       0.78      0.67      0.72       595\n",
      "         sci       0.72      0.82      0.76       605\n",
      "\n",
      "    accuracy                           0.74      1200\n",
      "   macro avg       0.75      0.74      0.74      1200\n",
      "weighted avg       0.75      0.74      0.74      1200\n",
      "\n"
     ]
    }
   ],
   "source": [
    "print(classification_report(y_test,y_pred, target_names=[\"non-sci\", \"sci\"]))"
   ]
  },
  {
   "cell_type": "markdown",
   "id": "6d769b8b-6aba-49e6-9eaf-0519f1c5118e",
   "metadata": {},
   "source": [
    "### Hyperparameter tuning"
   ]
  },
  {
   "cell_type": "code",
   "execution_count": 22,
   "id": "167e9bfa-8f87-4c25-b615-ac94532e7aa1",
   "metadata": {},
   "outputs": [
    {
     "name": "stdout",
     "output_type": "stream",
     "text": [
      "Fitting 5 folds for each of 25 candidates, totalling 125 fits\n"
     ]
    },
    {
     "data": {
      "text/plain": [
       "GridSearchCV(estimator=SVC(),\n",
       "             param_grid={'C': [0.1, 1, 10, 100, 1000],\n",
       "                         'gamma': [1, 0.1, 0.01, 0.001, 0.0001],\n",
       "                         'kernel': ['rbf']},\n",
       "             verbose=1)"
      ]
     },
     "execution_count": 22,
     "metadata": {},
     "output_type": "execute_result"
    }
   ],
   "source": [
    "from sklearn.model_selection import GridSearchCV\n",
    "\n",
    "# defining parameter range\n",
    "param_grid = {'C': [0.1, 1, 10, 100, 1000],\n",
    "                'gamma': [1, 0.1, 0.01, 0.001, 0.0001],\n",
    "                'kernel': ['rbf']}\n",
    "\n",
    "grid = GridSearchCV(SVC(), param_grid, refit = True, verbose = 1)\n",
    "\n",
    "# fitting the model for grid search\n",
    "grid.fit(X_train, y_train)"
   ]
  },
  {
   "cell_type": "code",
   "execution_count": 23,
   "id": "5c0f5149-1e84-4a20-8fc5-54a9b004a2e7",
   "metadata": {},
   "outputs": [
    {
     "name": "stdout",
     "output_type": "stream",
     "text": [
      "{'C': 1000, 'gamma': 0.0001, 'kernel': 'rbf'}\n",
      "SVC(C=1000, gamma=0.0001)\n"
     ]
    },
    {
     "data": {
      "text/plain": [
       "<sklearn.metrics._plot.confusion_matrix.ConfusionMatrixDisplay at 0x1204c87f0>"
      ]
     },
     "execution_count": 23,
     "metadata": {},
     "output_type": "execute_result"
    },
    {
     "data": {
      "image/png": "[encoded data removed]",
      "text/plain": [
       "<Figure size 432x288 with 2 Axes>"
      ]
     },
     "metadata": {
      "needs_background": "light"
     },
     "output_type": "display_data"
    }
   ],
   "source": [
    "# print best parameter after tuning\n",
    "print(grid.best_params_)\n",
    "  \n",
    "# print how our model looks after hyper-parameter tuning\n",
    "print(grid.best_estimator_)\n",
    "\n",
    "grid_predictions = grid.predict(X_test)\n",
    "  \n",
    "plot_confusion_matrix(grid,\n",
    "                             X_test,\n",
    "                             y_test,\n",
    "                             display_labels=[\"non-sci\", \"sci\"],\n",
    "                             cmap=plt.cm.Blues,\n",
    "                             normalize=None,\n",
    "                            )"
   ]
  },
  {
   "cell_type": "code",
   "execution_count": 24,
   "id": "70e28ef2-ce5f-4a75-b4ce-3b4b67c8cede",
   "metadata": {},
   "outputs": [
    {
     "name": "stdout",
     "output_type": "stream",
     "text": [
      "              precision    recall  f1-score   support\n",
      "\n",
      "     non-sci       0.90      0.74      0.81       595\n",
      "         sci       0.78      0.92      0.84       605\n",
      "\n",
      "    accuracy                           0.83      1200\n",
      "   macro avg       0.84      0.83      0.83      1200\n",
      "weighted avg       0.84      0.83      0.83      1200\n",
      "\n"
     ]
    }
   ],
   "source": [
    "# print classification report\n",
    "print(classification_report(y_test, grid_predictions, target_names=[\"non-sci\", \"sci\"]))"
   ]
  },
  {
   "cell_type": "markdown",
   "id": "d411945f-7483-445a-b356-569a11d1b6eb",
   "metadata": {},
   "source": [
    "### Validation with student reports"
   ]
  },
  {
   "cell_type": "code",
   "execution_count": 25,
   "id": "e4c0f15a-3d5e-41bd-bae2-7ded8b1fc285",
   "metadata": {},
   "outputs": [
    {
     "name": "stdout",
     "output_type": "stream",
     "text": [
      "              precision    recall  f1-score   support\n",
      "\n",
      "     non-sci       1.00      0.60      0.75      4389\n",
      "         sci       0.00      0.00      0.00         0\n",
      "\n",
      "    accuracy                           0.60      4389\n",
      "   macro avg       0.50      0.30      0.37      4389\n",
      "weighted avg       1.00      0.60      0.75      4389\n",
      "\n"
     ]
    },
    {
     "name": "stderr",
     "output_type": "stream",
     "text": [
      "/Users/arthur/.pyenv/versions/3.9.4/envs/mrp/lib/python3.9/site-packages/sklearn/metrics/_classification.py:1248: UndefinedMetricWarning: Recall and F-score are ill-defined and being set to 0.0 in labels with no true samples. Use `zero_division` parameter to control this behavior.\n",
      "  _warn_prf(average, modifier, msg_start, len(result))\n",
      "/Users/arthur/.pyenv/versions/3.9.4/envs/mrp/lib/python3.9/site-packages/sklearn/metrics/_classification.py:1248: UndefinedMetricWarning: Recall and F-score are ill-defined and being set to 0.0 in labels with no true samples. Use `zero_division` parameter to control this behavior.\n",
      "  _warn_prf(average, modifier, msg_start, len(result))\n",
      "/Users/arthur/.pyenv/versions/3.9.4/envs/mrp/lib/python3.9/site-packages/sklearn/metrics/_classification.py:1248: UndefinedMetricWarning: Recall and F-score are ill-defined and being set to 0.0 in labels with no true samples. Use `zero_division` parameter to control this behavior.\n",
      "  _warn_prf(average, modifier, msg_start, len(result))\n"
     ]
    }
   ],
   "source": [
    "# to allow for repeated execution\n",
    "try:\n",
    "    val_pred = grid.predict(df_val.drop(exclude_from_training + [\"pred_sci\"], axis=1))\n",
    "except ValueError as error:\n",
    "    val_pred = grid.predict(df_val.drop([\"sentence\"], axis=1))\n",
    "\n",
    "df_val['scientific'] = 0\n",
    "df_val['pred_sci'] = val_pred\n",
    "\n",
    "print(classification_report(df_val['scientific'],df_val['pred_sci'], target_names=[\"non-sci\", \"sci\"]))"
   ]
  },
  {
   "cell_type": "code",
   "execution_count": 26,
   "id": "a8b7540b-1ec2-42ea-8bba-35f0e78fe469",
   "metadata": {},
   "outputs": [
    {
     "data": {
      "text/plain": [
       "<AxesSubplot:>"
      ]
     },
     "execution_count": 26,
     "metadata": {},
     "output_type": "execute_result"
    },
    {
     "data": {
      "image/png": "[encoded data removed]",
      "text/plain": [
       "<Figure size 432x288 with 1 Axes>"
      ]
     },
     "metadata": {
      "needs_background": "light"
     },
     "output_type": "display_data"
    }
   ],
   "source": [
    "df_val.pred_sci.hist()"
   ]
  },
  {
   "cell_type": "markdown",
   "id": "3dd53d56-ba0d-4556-9190-1e2ca1cc484a",
   "metadata": {},
   "source": [
    "Looking much better with the distribution. Majority is non sci."
   ]
  },
  {
   "cell_type": "markdown",
   "id": "80b20788-46c7-4809-84a7-f8f8a6842d27",
   "metadata": {
    "tags": []
   },
   "source": [
    "### SHAP insights\n",
    "\n",
    "Now we can have a look into which features are most important. Turns out:\n",
    "\n",
    "- total_* colums & average word length are most important. Well, these columns contain the largest values. Removing them for next classifier model."
   ]
  },
  {
   "cell_type": "code",
   "execution_count": 27,
   "id": "8cb8ef86-698a-40ee-bdbf-df9b85c67eb4",
   "metadata": {},
   "outputs": [
    {
     "data": {
      "application/vnd.jupyter.widget-view+json": {
       "model_id": "d26b13b586c3452da2379cf97524d63a",
       "version_major": 2,
       "version_minor": 0
      },
      "text/plain": [
       "  0%|          | 0/10 [00:00<?, ?it/s]"
      ]
     },
     "metadata": {},
     "output_type": "display_data"
    }
   ],
   "source": [
    "# https://towardsdatascience.com/explain-any-models-with-the-shap-values-use-the-kernelexplainer-79de9464897a\n",
    "import shap\n",
    "\n",
    "# The SHAP values\n",
    "X_sample = shap.sample(X, nsamples=10, random_state=0)\n",
    "\n",
    "svm_explainer = shap.KernelExplainer(grid.predict,X_sample)\n",
    "svm_shap_values = svm_explainer.shap_values(X_sample)"
   ]
  },
  {
   "cell_type": "code",
   "execution_count": 28,
   "id": "e2456ac5-f612-4e28-b048-fbdfab82eec2",
   "metadata": {
    "tags": []
   },
   "outputs": [
    {
     "data": {
      "image/png": "[encoded data removed]",
      "text/plain": [
       "<Figure size 576x684 with 2 Axes>"
      ]
     },
     "metadata": {
      "needs_background": "light"
     },
     "output_type": "display_data"
    }
   ],
   "source": [
    "# export summary plot\n",
    "shap.summary_plot(svm_shap_values, X_sample, show=True)"
   ]
  },
  {
   "cell_type": "code",
   "execution_count": 29,
   "id": "2c9db83a-b9c9-4ebd-89d1-80c0fdf815eb",
   "metadata": {},
   "outputs": [
    {
     "data": {
      "image/png": "[encoded data removed]",
      "text/plain": [
       "<Figure size 540x360 with 2 Axes>"
      ]
     },
     "metadata": {
      "needs_background": "light"
     },
     "output_type": "display_data"
    }
   ],
   "source": [
    "shap.dependence_plot(\"total_words\", svm_shap_values, X_sample)"
   ]
  },
  {
   "cell_type": "markdown",
   "id": "375ba066-6683-4521-9ce8-8f258d2d470d",
   "metadata": {},
   "source": [
    "## SVM 4: Without total_ values. (POS are absolute)\n",
    "\n",
    "- f1: 81%\n",
    "- f1 tuned: 83%"
   ]
  },
  {
   "cell_type": "code",
   "execution_count": null,
   "id": "3e8623e3-6a2c-4c70-b0bc-5c00828325b0",
   "metadata": {},
   "outputs": [],
   "source": [
    "# normalize pos tags and num_punctuation for SVM model\n",
    "#df[list(pos_tags) + [\"num_punctuation\"]] = df[list(pos_tags) + [\"num_punctuation\"]].div(df.num_words, axis=0)"
   ]
  },
  {
   "cell_type": "code",
   "execution_count": 30,
   "id": "70b0b5c1-1011-4d45-82f7-9492dd9bfd0b",
   "metadata": {
    "tags": []
   },
   "outputs": [
    {
     "data": {
      "text/plain": [
       "['total_chars', 'total_words']"
      ]
     },
     "execution_count": 30,
     "metadata": {},
     "output_type": "execute_result"
    }
   ],
   "source": [
    "total_values = [c for c in list(df_v2.columns) if c.startswith(\"total_\")]\n",
    "total_values"
   ]
  },
  {
   "cell_type": "code",
   "execution_count": 31,
   "id": "3c782120-18da-4db4-aad6-b602369f53d2",
   "metadata": {},
   "outputs": [
    {
     "data": {
      "text/plain": [
       "<sklearn.metrics._plot.confusion_matrix.ConfusionMatrixDisplay at 0x11fff5a00>"
      ]
     },
     "execution_count": 31,
     "metadata": {},
     "output_type": "execute_result"
    },
    {
     "data": {
      "image/png": "[encoded data removed]",
      "text/plain": [
       "<Figure size 432x288 with 2 Axes>"
      ]
     },
     "metadata": {
      "needs_background": "light"
     },
     "output_type": "display_data"
    }
   ],
   "source": [
    "exclude_from_training = [\"sentence\", \"scientific\"] + total_values\n",
    "\n",
    "X = df_v2.drop(exclude_from_training, axis=1)\n",
    "y = df_v2['scientific']\n",
    "X_train, X_test, y_train, y_test = train_test_split(X, y, test_size = 0.20)\n",
    "\n",
    "clf_svm = SVC(kernel='rbf')\n",
    "clf_svm.fit(X_train, y_train)\n",
    "\n",
    "\n",
    "y_pred = clf_svm.predict(X_test)\n",
    "plot_confusion_matrix(clf_svm,\n",
    "                             X_test,\n",
    "                             y_test,\n",
    "                             display_labels=[\"non-sci\", \"sci\"],\n",
    "                             cmap=plt.cm.Blues,\n",
    "                             normalize=None,\n",
    "                            )"
   ]
  },
  {
   "cell_type": "code",
   "execution_count": 32,
   "id": "43a70c2b-3299-48a6-a9b5-ceb56b00e340",
   "metadata": {},
   "outputs": [
    {
     "name": "stdout",
     "output_type": "stream",
     "text": [
      "              precision    recall  f1-score   support\n",
      "\n",
      "     non-sci       0.90      0.70      0.79       633\n",
      "         sci       0.73      0.91      0.81       567\n",
      "\n",
      "    accuracy                           0.80      1200\n",
      "   macro avg       0.81      0.81      0.80      1200\n",
      "weighted avg       0.82      0.80      0.80      1200\n",
      "\n"
     ]
    }
   ],
   "source": [
    "print(classification_report(y_test,y_pred, target_names=[\"non-sci\", \"sci\"]))"
   ]
  },
  {
   "cell_type": "markdown",
   "id": "8a23720f-2d3d-4dcd-9760-7894a35ac00f",
   "metadata": {},
   "source": [
    "### Hyperparameter tuning"
   ]
  },
  {
   "cell_type": "code",
   "execution_count": 33,
   "id": "7908748e-a217-435d-8f55-6e4bdf540670",
   "metadata": {},
   "outputs": [
    {
     "name": "stdout",
     "output_type": "stream",
     "text": [
      "Fitting 5 folds for each of 25 candidates, totalling 125 fits\n"
     ]
    },
    {
     "data": {
      "text/plain": [
       "GridSearchCV(estimator=SVC(),\n",
       "             param_grid={'C': [0.1, 1, 10, 100, 1000],\n",
       "                         'gamma': [1, 0.1, 0.01, 0.001, 0.0001],\n",
       "                         'kernel': ['rbf']},\n",
       "             verbose=1)"
      ]
     },
     "execution_count": 33,
     "metadata": {},
     "output_type": "execute_result"
    }
   ],
   "source": [
    "from sklearn.model_selection import GridSearchCV\n",
    "\n",
    "# defining parameter range\n",
    "param_grid = {'C': [0.1, 1, 10, 100, 1000],\n",
    "                'gamma': [1, 0.1, 0.01, 0.001, 0.0001],\n",
    "                'kernel': ['rbf']}\n",
    "\n",
    "grid = GridSearchCV(SVC(), param_grid, refit = True, verbose = 1)\n",
    "\n",
    "# fitting the model for grid search\n",
    "grid.fit(X_train, y_train)"
   ]
  },
  {
   "cell_type": "code",
   "execution_count": 34,
   "id": "192dfa85-8d7b-4ff6-a83b-12c6ca648b8a",
   "metadata": {},
   "outputs": [
    {
     "name": "stdout",
     "output_type": "stream",
     "text": [
      "{'C': 1000, 'gamma': 0.01, 'kernel': 'rbf'}\n",
      "SVC(C=1000, gamma=0.01)\n"
     ]
    },
    {
     "data": {
      "text/plain": [
       "<sklearn.metrics._plot.confusion_matrix.ConfusionMatrixDisplay at 0x124809e50>"
      ]
     },
     "execution_count": 34,
     "metadata": {},
     "output_type": "execute_result"
    },
    {
     "data": {
      "image/png": "[encoded data removed]",
      "text/plain": [
       "<Figure size 432x288 with 2 Axes>"
      ]
     },
     "metadata": {
      "needs_background": "light"
     },
     "output_type": "display_data"
    }
   ],
   "source": [
    "# print best parameter after tuning\n",
    "print(grid.best_params_)\n",
    "  \n",
    "# print how our model looks after hyper-parameter tuning\n",
    "print(grid.best_estimator_)\n",
    "\n",
    "grid_predictions = grid.predict(X_test)\n",
    "  \n",
    "plot_confusion_matrix(grid,\n",
    "                             X_test,\n",
    "                             y_test,\n",
    "                             display_labels=[\"non-sci\", \"sci\"],\n",
    "                             cmap=plt.cm.Blues,\n",
    "                             normalize=None,\n",
    "                            )"
   ]
  },
  {
   "cell_type": "code",
   "execution_count": 35,
   "id": "f07a0508-aa36-4c2c-bd24-20adc592195e",
   "metadata": {},
   "outputs": [
    {
     "name": "stdout",
     "output_type": "stream",
     "text": [
      "              precision    recall  f1-score   support\n",
      "\n",
      "     non-sci       0.90      0.86      0.88       633\n",
      "         sci       0.85      0.89      0.87       567\n",
      "\n",
      "    accuracy                           0.88      1200\n",
      "   macro avg       0.87      0.88      0.87      1200\n",
      "weighted avg       0.88      0.88      0.88      1200\n",
      "\n"
     ]
    }
   ],
   "source": [
    "# print classification report\n",
    "print(classification_report(y_test, grid_predictions, target_names=[\"non-sci\", \"sci\"]))"
   ]
  },
  {
   "cell_type": "markdown",
   "id": "12cd3d4f-a5df-4097-b7fa-4cc9113a44e9",
   "metadata": {},
   "source": [
    "### Validation with student reports"
   ]
  },
  {
   "cell_type": "code",
   "execution_count": 36,
   "id": "22dc8135-5c1e-4420-8598-15eee7bc49e1",
   "metadata": {},
   "outputs": [
    {
     "name": "stdout",
     "output_type": "stream",
     "text": [
      "              precision    recall  f1-score   support\n",
      "\n",
      "     non-sci       1.00      0.76      0.86      4389\n",
      "         sci       0.00      0.00      0.00         0\n",
      "\n",
      "    accuracy                           0.76      4389\n",
      "   macro avg       0.50      0.38      0.43      4389\n",
      "weighted avg       1.00      0.76      0.86      4389\n",
      "\n"
     ]
    },
    {
     "name": "stderr",
     "output_type": "stream",
     "text": [
      "Recall and F-score are ill-defined and being set to 0.0 in labels with no true samples. Use `zero_division` parameter to control this behavior.\n",
      "Recall and F-score are ill-defined and being set to 0.0 in labels with no true samples. Use `zero_division` parameter to control this behavior.\n",
      "Recall and F-score are ill-defined and being set to 0.0 in labels with no true samples. Use `zero_division` parameter to control this behavior.\n"
     ]
    }
   ],
   "source": [
    "# to allow for repeated execution\n",
    "try:\n",
    "    val_pred = grid.predict(df_val.drop(exclude_from_training + [\"pred_sci\"], axis=1))\n",
    "except ValueError as error:\n",
    "    val_pred = grid.predict(df_val.drop([\"sentence\"], axis=1))\n",
    "\n",
    "df_val['scientific'] = 0\n",
    "df_val['pred_sci'] = val_pred\n",
    "\n",
    "print(classification_report(df_val['scientific'],df_val['pred_sci'], target_names=[\"non-sci\", \"sci\"]))"
   ]
  },
  {
   "cell_type": "code",
   "execution_count": 37,
   "id": "039d44f4-091d-4a62-9f72-f13c02c8a01c",
   "metadata": {},
   "outputs": [
    {
     "data": {
      "text/plain": [
       "<AxesSubplot:>"
      ]
     },
     "execution_count": 37,
     "metadata": {},
     "output_type": "execute_result"
    },
    {
     "data": {
      "image/png": "[encoded data removed]",
      "text/plain": [
       "<Figure size 432x288 with 1 Axes>"
      ]
     },
     "metadata": {
      "needs_background": "light"
     },
     "output_type": "display_data"
    }
   ],
   "source": [
    "df_val.pred_sci.hist()"
   ]
  },
  {
   "cell_type": "markdown",
   "id": "9621cea4-3fae-4f47-9cce-455b86b6a7cf",
   "metadata": {},
   "source": [
    "Much better. Majority is considered as non-scientific."
   ]
  },
  {
   "cell_type": "markdown",
   "id": "25973a4b-0e5d-41c9-8664-a3f7e21f6538",
   "metadata": {},
   "source": [
    "### Validation with scientific sentences from latest tf cleaned"
   ]
  },
  {
   "cell_type": "code",
   "execution_count": 38,
   "id": "4e4a1ed4-ae21-44b2-a117-c0d9b25cad3d",
   "metadata": {},
   "outputs": [
    {
     "name": "stdout",
     "output_type": "stream",
     "text": [
      "105056 - original size\n",
      "102056 - size after filtering\n"
     ]
    }
   ],
   "source": [
    "# load sci dataset\n",
    "sent_tf_cleaned_val = pickle.load(open(os.path.join(FOLDER_TF_SCI, \"filtered_sent_cola.pkl\"), \"rb\"))\n",
    "print(f\"{len(sent_tf_cleaned_val)} - original size\")\n",
    "\n",
    "# remove sentences that were used for training & testing SVM\n",
    "sent_tf_cleaned_val = [s for s in sent_tf_cleaned_val if s not in sent_tf_cleaned]\n",
    "print(f\"{len(sent_tf_cleaned_val)} - size after filtering\")\n",
    "\n",
    "# randomize them\n",
    "random.shuffle(sent_tf_cleaned_val)"
   ]
  },
  {
   "cell_type": "code",
   "execution_count": 39,
   "id": "eab9e5cf-4851-4279-a0dc-54a7d90cde2f",
   "metadata": {},
   "outputs": [
    {
     "name": "stdout",
     "output_type": "stream",
     "text": [
      "lexical features character based\n",
      "lexical features word based\n"
     ]
    },
    {
     "data": {
      "application/vnd.jupyter.widget-view+json": {
       "model_id": "a0a73d8b522140e9a76fea9fe741c2a4",
       "version_major": 2,
       "version_minor": 0
      },
      "text/plain": [
       "  0%|          | 0/5000 [00:00<?, ?it/s]"
      ]
     },
     "metadata": {},
     "output_type": "display_data"
    },
    {
     "name": "stdout",
     "output_type": "stream",
     "text": [
      "lexical features vocabulary richness\n",
      "pos tags\n"
     ]
    },
    {
     "data": {
      "application/vnd.jupyter.widget-view+json": {
       "model_id": "57e7f1fa6c53406a85c34cc759e1c4f4",
       "version_major": 2,
       "version_minor": 0
      },
      "text/plain": [
       "  0%|          | 0/5000 [00:00<?, ?it/s]"
      ]
     },
     "metadata": {},
     "output_type": "display_data"
    },
    {
     "data": {
      "application/vnd.jupyter.widget-view+json": {
       "model_id": "fdd24093b1e741b9969650bf01a534d8",
       "version_major": 2,
       "version_minor": 0
      },
      "text/plain": [
       "  0%|          | 0/5000 [00:00<?, ?it/s]"
      ]
     },
     "metadata": {},
     "output_type": "display_data"
    },
    {
     "name": "stdout",
     "output_type": "stream",
     "text": [
      "passive sentence\n"
     ]
    },
    {
     "data": {
      "application/vnd.jupyter.widget-view+json": {
       "model_id": "438e64e447834e54af7e6c9ba3ad6f7c",
       "version_major": 2,
       "version_minor": 0
      },
      "text/plain": [
       "  0%|          | 0/5000 [00:00<?, ?it/s]"
      ]
     },
     "metadata": {},
     "output_type": "display_data"
    }
   ],
   "source": [
    "# extract features\n",
    "df_val_sci = pd.DataFrame(data=sent_tf_cleaned_val[:5000], columns=[\"sentence\"])\n",
    "(df_val_sci, columns_val_sci) = add_features(df_val_sci)"
   ]
  },
  {
   "cell_type": "code",
   "execution_count": 40,
   "id": "fa77de77-4e5f-4184-954f-eeb1440b2674",
   "metadata": {},
   "outputs": [
    {
     "name": "stdout",
     "output_type": "stream",
     "text": [
      "              precision    recall  f1-score   support\n",
      "\n",
      "     non-sci       0.00      0.00      0.00         0\n",
      "         sci       1.00      0.90      0.95      5000\n",
      "\n",
      "    accuracy                           0.90      5000\n",
      "   macro avg       0.50      0.45      0.47      5000\n",
      "weighted avg       1.00      0.90      0.95      5000\n",
      "\n"
     ]
    },
    {
     "name": "stderr",
     "output_type": "stream",
     "text": [
      "Recall and F-score are ill-defined and being set to 0.0 in labels with no true samples. Use `zero_division` parameter to control this behavior.\n",
      "Recall and F-score are ill-defined and being set to 0.0 in labels with no true samples. Use `zero_division` parameter to control this behavior.\n",
      "Recall and F-score are ill-defined and being set to 0.0 in labels with no true samples. Use `zero_division` parameter to control this behavior.\n"
     ]
    }
   ],
   "source": [
    "# to allow for repeated execution\n",
    "try:\n",
    "    val_pred_sci = grid.predict(df_val_sci.drop(exclude_from_training + [\"pred_sci\"], axis=1))\n",
    "except KeyError as error:\n",
    "    val_pred_sci = grid.predict(df_val_sci.drop([c for c in exclude_from_training if c != \"scientific\"], axis=1))\n",
    "\n",
    "df_val_sci['scientific'] = 1\n",
    "df_val_sci['pred_sci'] = val_pred_sci\n",
    "\n",
    "print(classification_report(df_val_sci['scientific'],df_val_sci['pred_sci'], target_names=[\"non-sci\", \"sci\"]))"
   ]
  },
  {
   "cell_type": "code",
   "execution_count": 41,
   "id": "92d32058-44a8-4a88-a15c-70d22cd27966",
   "metadata": {},
   "outputs": [
    {
     "data": {
      "text/plain": [
       "<AxesSubplot:>"
      ]
     },
     "execution_count": 41,
     "metadata": {},
     "output_type": "execute_result"
    },
    {
     "data": {
      "image/png": "[encoded data removed]",
      "text/plain": [
       "<Figure size 432x288 with 1 Axes>"
      ]
     },
     "metadata": {
      "needs_background": "light"
     },
     "output_type": "display_data"
    }
   ],
   "source": [
    "df_val_sci.pred_sci.hist()"
   ]
  },
  {
   "cell_type": "markdown",
   "id": "0c102ca8-a06a-4f11-9f24-4f1bf8a933cf",
   "metadata": {},
   "source": [
    "perfect"
   ]
  },
  {
   "cell_type": "markdown",
   "id": "ba0ec556-66f2-4e75-9de5-467b2e7f5ee4",
   "metadata": {
    "tags": []
   },
   "source": [
    "### SHAP insights\n",
    "\n",
    "Now we can have a look into which features are most important."
   ]
  },
  {
   "cell_type": "code",
   "execution_count": 42,
   "id": "fbd36767-077c-4ef3-a5ae-a2c4dd7ee0f9",
   "metadata": {},
   "outputs": [
    {
     "data": {
      "application/vnd.jupyter.widget-view+json": {
       "model_id": "4513a4483163492396ca1b282f15c818",
       "version_major": 2,
       "version_minor": 0
      },
      "text/plain": [
       "  0%|          | 0/10 [00:00<?, ?it/s]"
      ]
     },
     "metadata": {},
     "output_type": "display_data"
    }
   ],
   "source": [
    "# https://towardsdatascience.com/explain-any-models-with-the-shap-values-use-the-kernelexplainer-79de9464897a\n",
    "import shap\n",
    "\n",
    "# The SHAP values\n",
    "X_sample = shap.sample(X, nsamples=10, random_state=0)\n",
    "\n",
    "svm_explainer = shap.KernelExplainer(grid.predict,X_sample)\n",
    "svm_shap_values = svm_explainer.shap_values(X_sample)"
   ]
  },
  {
   "cell_type": "code",
   "execution_count": 43,
   "id": "e7971c6f-c3d5-4ccc-825d-e78a026b7205",
   "metadata": {
    "tags": []
   },
   "outputs": [
    {
     "data": {
      "image/png": "[encoded data removed]",
      "text/plain": [
       "<Figure size 576x684 with 2 Axes>"
      ]
     },
     "metadata": {
      "needs_background": "light"
     },
     "output_type": "display_data"
    }
   ],
   "source": [
    "# export summary plot\n",
    "shap.summary_plot(svm_shap_values, X_sample, show=True)"
   ]
  },
  {
   "cell_type": "code",
   "execution_count": 45,
   "id": "77fd29ac-c974-46af-8211-0e3dfec0d704",
   "metadata": {},
   "outputs": [
    {
     "data": {
      "image/png": "[encoded data removed]",
      "text/plain": [
       "<Figure size 540x360 with 2 Axes>"
      ]
     },
     "metadata": {
      "needs_background": "light"
     },
     "output_type": "display_data"
    }
   ],
   "source": [
    "shap.dependence_plot(\"freq_chars_upper\", svm_shap_values, X_sample)"
   ]
  },
  {
   "cell_type": "markdown",
   "id": "be5db1fd-3f8d-41bd-a230-e01991e7f9cc",
   "metadata": {},
   "source": [
    "## SVM 5: freq. measures only (best results for validation)\n",
    "\n",
    "Removing the total & avg. values above was good for the model. Let's see, if turning all values to frequencies [0,1] and doing further feature selection yields even better results:\n",
    "\n",
    "- f1: 82%\n",
    "- f1 tuned: 85%"
   ]
  },
  {
   "cell_type": "code",
   "execution_count": 46,
   "id": "b7af5e79-f432-4b1f-9115-0575a1d04870",
   "metadata": {},
   "outputs": [
    {
     "data": {
      "text/html": [
       "<div>\n",
       "<style scoped>\n",
       "    .dataframe tbody tr th:only-of-type {\n",
       "        vertical-align: middle;\n",
       "    }\n",
       "\n",
       "    .dataframe tbody tr th {\n",
       "        vertical-align: top;\n",
       "    }\n",
       "\n",
       "    .dataframe thead th {\n",
       "        text-align: right;\n",
       "    }\n",
       "</style>\n",
       "<table border=\"1\" class=\"dataframe\">\n",
       "  <thead>\n",
       "    <tr style=\"text-align: right;\">\n",
       "      <th></th>\n",
       "      <th>sentence</th>\n",
       "      <th>scientific</th>\n",
       "      <th>total_chars</th>\n",
       "      <th>freq_chars_alpha</th>\n",
       "      <th>freq_chars_upper</th>\n",
       "      <th>freq_chars_digit</th>\n",
       "      <th>freq_chars_space</th>\n",
       "      <th>freq_chars_special</th>\n",
       "      <th>total_words</th>\n",
       "      <th>freq_words_short</th>\n",
       "      <th>avg_word_length</th>\n",
       "      <th>freq_unique_words</th>\n",
       "      <th>vocab_richness_hapax_legomena</th>\n",
       "      <th>vocab_richness_hapax_dislegomena</th>\n",
       "      <th>$</th>\n",
       "      <th>''</th>\n",
       "      <th>(</th>\n",
       "      <th>)</th>\n",
       "      <th>,</th>\n",
       "      <th>--</th>\n",
       "      <th>.</th>\n",
       "      <th>:</th>\n",
       "      <th>CC</th>\n",
       "      <th>CD</th>\n",
       "      <th>DT</th>\n",
       "      <th>EX</th>\n",
       "      <th>FW</th>\n",
       "      <th>IN</th>\n",
       "      <th>JJ</th>\n",
       "      <th>JJR</th>\n",
       "      <th>JJS</th>\n",
       "      <th>LS</th>\n",
       "      <th>MD</th>\n",
       "      <th>NN</th>\n",
       "      <th>NNP</th>\n",
       "      <th>NNPS</th>\n",
       "      <th>NNS</th>\n",
       "      <th>PDT</th>\n",
       "      <th>POS</th>\n",
       "      <th>PRP</th>\n",
       "      <th>PRP$</th>\n",
       "      <th>RB</th>\n",
       "      <th>RBR</th>\n",
       "      <th>RBS</th>\n",
       "      <th>RP</th>\n",
       "      <th>SYM</th>\n",
       "      <th>TO</th>\n",
       "      <th>UH</th>\n",
       "      <th>VB</th>\n",
       "      <th>VBD</th>\n",
       "      <th>VBG</th>\n",
       "      <th>VBN</th>\n",
       "      <th>VBP</th>\n",
       "      <th>VBZ</th>\n",
       "      <th>WDT</th>\n",
       "      <th>WP</th>\n",
       "      <th>WP$</th>\n",
       "      <th>WRB</th>\n",
       "      <th>``</th>\n",
       "      <th>#</th>\n",
       "      <th>is_passive</th>\n",
       "    </tr>\n",
       "  </thead>\n",
       "  <tbody>\n",
       "    <tr>\n",
       "      <th>0</th>\n",
       "      <td>Important questions to answer include:</td>\n",
       "      <td>0</td>\n",
       "      <td>38</td>\n",
       "      <td>0.868421</td>\n",
       "      <td>0.026316</td>\n",
       "      <td>0.0</td>\n",
       "      <td>0.105263</td>\n",
       "      <td>0.026316</td>\n",
       "      <td>5</td>\n",
       "      <td>0.2</td>\n",
       "      <td>6.6</td>\n",
       "      <td>1.0</td>\n",
       "      <td>1.0</td>\n",
       "      <td>0.0</td>\n",
       "      <td>0</td>\n",
       "      <td>0</td>\n",
       "      <td>0</td>\n",
       "      <td>0</td>\n",
       "      <td>0</td>\n",
       "      <td>0</td>\n",
       "      <td>0</td>\n",
       "      <td>1</td>\n",
       "      <td>0</td>\n",
       "      <td>0</td>\n",
       "      <td>0</td>\n",
       "      <td>0</td>\n",
       "      <td>0</td>\n",
       "      <td>0</td>\n",
       "      <td>1</td>\n",
       "      <td>0</td>\n",
       "      <td>0</td>\n",
       "      <td>0</td>\n",
       "      <td>0</td>\n",
       "      <td>1</td>\n",
       "      <td>0</td>\n",
       "      <td>0</td>\n",
       "      <td>1</td>\n",
       "      <td>0</td>\n",
       "      <td>0</td>\n",
       "      <td>0</td>\n",
       "      <td>0</td>\n",
       "      <td>0</td>\n",
       "      <td>0</td>\n",
       "      <td>0</td>\n",
       "      <td>0</td>\n",
       "      <td>0</td>\n",
       "      <td>1</td>\n",
       "      <td>0</td>\n",
       "      <td>1</td>\n",
       "      <td>0</td>\n",
       "      <td>0</td>\n",
       "      <td>0</td>\n",
       "      <td>0</td>\n",
       "      <td>0</td>\n",
       "      <td>0</td>\n",
       "      <td>0</td>\n",
       "      <td>0</td>\n",
       "      <td>0</td>\n",
       "      <td>0</td>\n",
       "      <td>0</td>\n",
       "      <td>0</td>\n",
       "    </tr>\n",
       "  </tbody>\n",
       "</table>\n",
       "</div>"
      ],
      "text/plain": [
       "                                 sentence  scientific  total_chars  \\\n",
       "0  Important questions to answer include:           0           38   \n",
       "\n",
       "   freq_chars_alpha  freq_chars_upper  freq_chars_digit  freq_chars_space  \\\n",
       "0          0.868421          0.026316               0.0          0.105263   \n",
       "\n",
       "   freq_chars_special  total_words  freq_words_short  avg_word_length  \\\n",
       "0            0.026316            5               0.2              6.6   \n",
       "\n",
       "   freq_unique_words  vocab_richness_hapax_legomena  \\\n",
       "0                1.0                            1.0   \n",
       "\n",
       "   vocab_richness_hapax_dislegomena  $  ''  (  )  ,  --  .  :  CC  CD  DT  EX  \\\n",
       "0                               0.0  0   0  0  0  0   0  0  1   0   0   0   0   \n",
       "\n",
       "   FW  IN  JJ  JJR  JJS  LS  MD  NN  NNP  NNPS  NNS  PDT  POS  PRP  PRP$  RB  \\\n",
       "0   0   0   1    0    0   0   0   1    0     0    1    0    0    0     0   0   \n",
       "\n",
       "   RBR  RBS  RP  SYM  TO  UH  VB  VBD  VBG  VBN  VBP  VBZ  WDT  WP  WP$  WRB  \\\n",
       "0    0    0   0    0   1   0   1    0    0    0    0    0    0   0    0    0   \n",
       "\n",
       "   ``  #  is_passive  \n",
       "0   0  0           0  "
      ]
     },
     "execution_count": 46,
     "metadata": {},
     "output_type": "execute_result"
    }
   ],
   "source": [
    "# before\n",
    "df_v2.head(1)"
   ]
  },
  {
   "cell_type": "code",
   "execution_count": 47,
   "id": "f08cd7df-7b1b-402c-82c5-7401984fa9c5",
   "metadata": {},
   "outputs": [
    {
     "data": {
      "text/html": [
       "<div>\n",
       "<style scoped>\n",
       "    .dataframe tbody tr th:only-of-type {\n",
       "        vertical-align: middle;\n",
       "    }\n",
       "\n",
       "    .dataframe tbody tr th {\n",
       "        vertical-align: top;\n",
       "    }\n",
       "\n",
       "    .dataframe thead th {\n",
       "        text-align: right;\n",
       "    }\n",
       "</style>\n",
       "<table border=\"1\" class=\"dataframe\">\n",
       "  <thead>\n",
       "    <tr style=\"text-align: right;\">\n",
       "      <th></th>\n",
       "      <th>sentence</th>\n",
       "      <th>scientific</th>\n",
       "      <th>total_chars</th>\n",
       "      <th>freq_chars_alpha</th>\n",
       "      <th>freq_chars_upper</th>\n",
       "      <th>freq_chars_digit</th>\n",
       "      <th>freq_chars_space</th>\n",
       "      <th>freq_chars_special</th>\n",
       "      <th>total_words</th>\n",
       "      <th>freq_words_short</th>\n",
       "      <th>avg_word_length</th>\n",
       "      <th>freq_unique_words</th>\n",
       "      <th>vocab_richness_hapax_legomena</th>\n",
       "      <th>vocab_richness_hapax_dislegomena</th>\n",
       "      <th>$</th>\n",
       "      <th>''</th>\n",
       "      <th>(</th>\n",
       "      <th>)</th>\n",
       "      <th>,</th>\n",
       "      <th>--</th>\n",
       "      <th>.</th>\n",
       "      <th>:</th>\n",
       "      <th>CC</th>\n",
       "      <th>CD</th>\n",
       "      <th>DT</th>\n",
       "      <th>EX</th>\n",
       "      <th>FW</th>\n",
       "      <th>IN</th>\n",
       "      <th>JJ</th>\n",
       "      <th>JJR</th>\n",
       "      <th>JJS</th>\n",
       "      <th>LS</th>\n",
       "      <th>MD</th>\n",
       "      <th>NN</th>\n",
       "      <th>NNP</th>\n",
       "      <th>NNPS</th>\n",
       "      <th>NNS</th>\n",
       "      <th>PDT</th>\n",
       "      <th>POS</th>\n",
       "      <th>PRP</th>\n",
       "      <th>PRP$</th>\n",
       "      <th>RB</th>\n",
       "      <th>RBR</th>\n",
       "      <th>RBS</th>\n",
       "      <th>RP</th>\n",
       "      <th>SYM</th>\n",
       "      <th>TO</th>\n",
       "      <th>UH</th>\n",
       "      <th>VB</th>\n",
       "      <th>VBD</th>\n",
       "      <th>VBG</th>\n",
       "      <th>VBN</th>\n",
       "      <th>VBP</th>\n",
       "      <th>VBZ</th>\n",
       "      <th>WDT</th>\n",
       "      <th>WP</th>\n",
       "      <th>WP$</th>\n",
       "      <th>WRB</th>\n",
       "      <th>``</th>\n",
       "      <th>#</th>\n",
       "      <th>is_passive</th>\n",
       "    </tr>\n",
       "  </thead>\n",
       "  <tbody>\n",
       "    <tr>\n",
       "      <th>0</th>\n",
       "      <td>Important questions to answer include:</td>\n",
       "      <td>0</td>\n",
       "      <td>38</td>\n",
       "      <td>0.868421</td>\n",
       "      <td>0.026316</td>\n",
       "      <td>0.000000</td>\n",
       "      <td>0.105263</td>\n",
       "      <td>0.026316</td>\n",
       "      <td>5</td>\n",
       "      <td>0.2</td>\n",
       "      <td>6.600000</td>\n",
       "      <td>1.000000</td>\n",
       "      <td>1.000000</td>\n",
       "      <td>0.000000</td>\n",
       "      <td>0.0</td>\n",
       "      <td>0.0</td>\n",
       "      <td>0.0</td>\n",
       "      <td>0.0</td>\n",
       "      <td>0.000000</td>\n",
       "      <td>0.0</td>\n",
       "      <td>0.000000</td>\n",
       "      <td>0.2</td>\n",
       "      <td>0.000000</td>\n",
       "      <td>0.000000</td>\n",
       "      <td>0.000000</td>\n",
       "      <td>0.0</td>\n",
       "      <td>0.0</td>\n",
       "      <td>0.000000</td>\n",
       "      <td>0.200000</td>\n",
       "      <td>0.0</td>\n",
       "      <td>0.0</td>\n",
       "      <td>0.0</td>\n",
       "      <td>0.0</td>\n",
       "      <td>0.200000</td>\n",
       "      <td>0.000000</td>\n",
       "      <td>0.0</td>\n",
       "      <td>0.200000</td>\n",
       "      <td>0.0</td>\n",
       "      <td>0.0</td>\n",
       "      <td>0.0</td>\n",
       "      <td>0.0</td>\n",
       "      <td>0.0</td>\n",
       "      <td>0.0</td>\n",
       "      <td>0.000000</td>\n",
       "      <td>0.0</td>\n",
       "      <td>0.0</td>\n",
       "      <td>0.2</td>\n",
       "      <td>0.0</td>\n",
       "      <td>0.2</td>\n",
       "      <td>0.0</td>\n",
       "      <td>0.0</td>\n",
       "      <td>0.0</td>\n",
       "      <td>0.000000</td>\n",
       "      <td>0.0</td>\n",
       "      <td>0.0</td>\n",
       "      <td>0.0</td>\n",
       "      <td>0.0</td>\n",
       "      <td>0.0</td>\n",
       "      <td>0.0</td>\n",
       "      <td>0.0</td>\n",
       "      <td>0</td>\n",
       "    </tr>\n",
       "    <tr>\n",
       "      <th>1</th>\n",
       "      <td>For regression algorithms, the three most popular metrics are MAE, MSE and the R²-score.</td>\n",
       "      <td>0</td>\n",
       "      <td>88</td>\n",
       "      <td>0.795455</td>\n",
       "      <td>0.090909</td>\n",
       "      <td>0.011364</td>\n",
       "      <td>0.147727</td>\n",
       "      <td>0.045455</td>\n",
       "      <td>14</td>\n",
       "      <td>0.5</td>\n",
       "      <td>5.142857</td>\n",
       "      <td>0.928571</td>\n",
       "      <td>0.857143</td>\n",
       "      <td>0.076923</td>\n",
       "      <td>0.0</td>\n",
       "      <td>0.0</td>\n",
       "      <td>0.0</td>\n",
       "      <td>0.0</td>\n",
       "      <td>0.142857</td>\n",
       "      <td>0.0</td>\n",
       "      <td>0.071429</td>\n",
       "      <td>0.0</td>\n",
       "      <td>0.071429</td>\n",
       "      <td>0.071429</td>\n",
       "      <td>0.142857</td>\n",
       "      <td>0.0</td>\n",
       "      <td>0.0</td>\n",
       "      <td>0.071429</td>\n",
       "      <td>0.071429</td>\n",
       "      <td>0.0</td>\n",
       "      <td>0.0</td>\n",
       "      <td>0.0</td>\n",
       "      <td>0.0</td>\n",
       "      <td>0.142857</td>\n",
       "      <td>0.214286</td>\n",
       "      <td>0.0</td>\n",
       "      <td>0.071429</td>\n",
       "      <td>0.0</td>\n",
       "      <td>0.0</td>\n",
       "      <td>0.0</td>\n",
       "      <td>0.0</td>\n",
       "      <td>0.0</td>\n",
       "      <td>0.0</td>\n",
       "      <td>0.071429</td>\n",
       "      <td>0.0</td>\n",
       "      <td>0.0</td>\n",
       "      <td>0.0</td>\n",
       "      <td>0.0</td>\n",
       "      <td>0.0</td>\n",
       "      <td>0.0</td>\n",
       "      <td>0.0</td>\n",
       "      <td>0.0</td>\n",
       "      <td>0.071429</td>\n",
       "      <td>0.0</td>\n",
       "      <td>0.0</td>\n",
       "      <td>0.0</td>\n",
       "      <td>0.0</td>\n",
       "      <td>0.0</td>\n",
       "      <td>0.0</td>\n",
       "      <td>0.0</td>\n",
       "      <td>0</td>\n",
       "    </tr>\n",
       "  </tbody>\n",
       "</table>\n",
       "</div>"
      ],
      "text/plain": [
       "                                                                                   sentence  \\\n",
       "0                                                    Important questions to answer include:   \n",
       "1  For regression algorithms, the three most popular metrics are MAE, MSE and the R²-score.   \n",
       "\n",
       "   scientific  total_chars  freq_chars_alpha  freq_chars_upper  \\\n",
       "0           0           38          0.868421          0.026316   \n",
       "1           0           88          0.795455          0.090909   \n",
       "\n",
       "   freq_chars_digit  freq_chars_space  freq_chars_special  total_words  \\\n",
       "0          0.000000          0.105263            0.026316            5   \n",
       "1          0.011364          0.147727            0.045455           14   \n",
       "\n",
       "   freq_words_short  avg_word_length  freq_unique_words  \\\n",
       "0               0.2         6.600000           1.000000   \n",
       "1               0.5         5.142857           0.928571   \n",
       "\n",
       "   vocab_richness_hapax_legomena  vocab_richness_hapax_dislegomena    $   ''  \\\n",
       "0                       1.000000                          0.000000  0.0  0.0   \n",
       "1                       0.857143                          0.076923  0.0  0.0   \n",
       "\n",
       "     (    )         ,   --         .    :        CC        CD        DT   EX  \\\n",
       "0  0.0  0.0  0.000000  0.0  0.000000  0.2  0.000000  0.000000  0.000000  0.0   \n",
       "1  0.0  0.0  0.142857  0.0  0.071429  0.0  0.071429  0.071429  0.142857  0.0   \n",
       "\n",
       "    FW        IN        JJ  JJR  JJS   LS   MD        NN       NNP  NNPS  \\\n",
       "0  0.0  0.000000  0.200000  0.0  0.0  0.0  0.0  0.200000  0.000000   0.0   \n",
       "1  0.0  0.071429  0.071429  0.0  0.0  0.0  0.0  0.142857  0.214286   0.0   \n",
       "\n",
       "        NNS  PDT  POS  PRP  PRP$   RB  RBR       RBS   RP  SYM   TO   UH   VB  \\\n",
       "0  0.200000  0.0  0.0  0.0   0.0  0.0  0.0  0.000000  0.0  0.0  0.2  0.0  0.2   \n",
       "1  0.071429  0.0  0.0  0.0   0.0  0.0  0.0  0.071429  0.0  0.0  0.0  0.0  0.0   \n",
       "\n",
       "   VBD  VBG  VBN       VBP  VBZ  WDT   WP  WP$  WRB   ``    #  is_passive  \n",
       "0  0.0  0.0  0.0  0.000000  0.0  0.0  0.0  0.0  0.0  0.0  0.0           0  \n",
       "1  0.0  0.0  0.0  0.071429  0.0  0.0  0.0  0.0  0.0  0.0  0.0           0  "
      ]
     },
     "execution_count": 47,
     "metadata": {},
     "output_type": "execute_result"
    }
   ],
   "source": [
    "# (1) normalize pos tags for SVM model\n",
    "df_v2_freq = df_v2.copy()\n",
    "df_v2_freq[columns_v2['cols_pos_tag']] = df_v2_freq[columns_v2['cols_pos_tag']].div(df_v2_freq.total_words, axis=0)\n",
    "\n",
    "df_v2_freq.head(2)"
   ]
  },
  {
   "cell_type": "code",
   "execution_count": 48,
   "id": "bfde5a57-9cd7-4ccd-97d4-726a60c70484",
   "metadata": {
    "tags": []
   },
   "outputs": [
    {
     "data": {
      "text/plain": [
       "['total_chars', 'total_words', 'avg_word_length']"
      ]
     },
     "execution_count": 48,
     "metadata": {},
     "output_type": "execute_result"
    }
   ],
   "source": [
    "# (2) columns to be excluded: total and average values\n",
    "total_values = [c for c in list(df_v2_freq.columns) if c.startswith(\"total_\")]\n",
    "total_values += [c for c in list(df_v2_freq.columns) if c.startswith(\"avg_\")]\n",
    "total_values"
   ]
  },
  {
   "cell_type": "code",
   "execution_count": 64,
   "id": "6d31051e-5d4f-4f72-b90c-2549244f5167",
   "metadata": {},
   "outputs": [
    {
     "data": {
      "image/png": "[encoded data removed]",
      "text/plain": [
       "<Figure size 412.875x360 with 1 Axes>"
      ]
     },
     "metadata": {
      "needs_background": "light"
     },
     "output_type": "display_data"
    }
   ],
   "source": [
    "# (3) further feature selection\n",
    "# all scientific sentences are lowercase\n",
    "sns.displot(x=df_v2_freq.freq_chars_upper, hue=df_v2_freq.scientific)\n",
    "exclude_further = [\"freq_chars_upper\"]"
   ]
  },
  {
   "cell_type": "code",
   "execution_count": 50,
   "id": "da62da31-077d-4916-8e79-b4deb257149e",
   "metadata": {},
   "outputs": [
    {
     "data": {
      "text/html": [
       "<div>\n",
       "<style scoped>\n",
       "    .dataframe tbody tr th:only-of-type {\n",
       "        vertical-align: middle;\n",
       "    }\n",
       "\n",
       "    .dataframe tbody tr th {\n",
       "        vertical-align: top;\n",
       "    }\n",
       "\n",
       "    .dataframe thead th {\n",
       "        text-align: right;\n",
       "    }\n",
       "</style>\n",
       "<table border=\"1\" class=\"dataframe\">\n",
       "  <thead>\n",
       "    <tr style=\"text-align: right;\">\n",
       "      <th></th>\n",
       "      <th>sentence</th>\n",
       "      <th>freq_chars_alpha</th>\n",
       "    </tr>\n",
       "  </thead>\n",
       "  <tbody>\n",
       "    <tr>\n",
       "      <th>1980</th>\n",
       "      <td>193{203, 1999.</td>\n",
       "      <td>0.000000</td>\n",
       "    </tr>\n",
       "    <tr>\n",
       "      <th>2063</th>\n",
       "      <td>= 0.272 / 0.456 = 0.596</td>\n",
       "      <td>0.000000</td>\n",
       "    </tr>\n",
       "    <tr>\n",
       "      <th>2999</th>\n",
       "      <td>6848–6856, doi: 10.1109/CVPR.2018.00716.</td>\n",
       "      <td>0.175000</td>\n",
       "    </tr>\n",
       "    <tr>\n",
       "      <th>649</th>\n",
       "      <td>Hₐ: μ = 2.67</td>\n",
       "      <td>0.250000</td>\n",
       "    </tr>\n",
       "    <tr>\n",
       "      <th>2024</th>\n",
       "      <td>arXiv:1909.06312 [cs.LG] (2019)</td>\n",
       "      <td>0.290323</td>\n",
       "    </tr>\n",
       "    <tr>\n",
       "      <th>...</th>\n",
       "      <td>...</td>\n",
       "      <td>...</td>\n",
       "    </tr>\n",
       "    <tr>\n",
       "      <th>629</th>\n",
       "      <td>Excessive model complexity causes overfitting.</td>\n",
       "      <td>0.891304</td>\n",
       "    </tr>\n",
       "    <tr>\n",
       "      <th>2933</th>\n",
       "      <td>Install Google Assistant API</td>\n",
       "      <td>0.892857</td>\n",
       "    </tr>\n",
       "    <tr>\n",
       "      <th>1601</th>\n",
       "      <td>Important Side Note</td>\n",
       "      <td>0.894737</td>\n",
       "    </tr>\n",
       "    <tr>\n",
       "      <th>525</th>\n",
       "      <td>Photography Splash Page</td>\n",
       "      <td>0.913043</td>\n",
       "    </tr>\n",
       "    <tr>\n",
       "      <th>1060</th>\n",
       "      <td>Literature Review Findings</td>\n",
       "      <td>0.923077</td>\n",
       "    </tr>\n",
       "  </tbody>\n",
       "</table>\n",
       "<p>3000 rows × 2 columns</p>\n",
       "</div>"
      ],
      "text/plain": [
       "                                            sentence  freq_chars_alpha\n",
       "1980                                  193{203, 1999.          0.000000\n",
       "2063                         = 0.272 / 0.456 = 0.596          0.000000\n",
       "2999        6848–6856, doi: 10.1109/CVPR.2018.00716.          0.175000\n",
       "649                                     Hₐ: μ = 2.67          0.250000\n",
       "2024                 arXiv:1909.06312 [cs.LG] (2019)          0.290323\n",
       "...                                              ...               ...\n",
       "629   Excessive model complexity causes overfitting.          0.891304\n",
       "2933                    Install Google Assistant API          0.892857\n",
       "1601                             Important Side Note          0.894737\n",
       "525                          Photography Splash Page          0.913043\n",
       "1060                      Literature Review Findings          0.923077\n",
       "\n",
       "[3000 rows x 2 columns]"
      ]
     },
     "execution_count": 50,
     "metadata": {},
     "output_type": "execute_result"
    }
   ],
   "source": [
    "# (3) further feature selection\n",
    "# non_scientific sentences are less cleaned and result in having a much lower freq_chars_alpha value\n",
    "#sns.displot(x=df_v2_freq.freq_chars_alpha, hue=df_v2_freq.scientific)\n",
    "exclude_further += [\"freq_chars_alpha\"]\n",
    "df_v2_freq[df_v2_freq.scientific == 0][[\"sentence\", \"freq_chars_alpha\"]].sort_values(by='freq_chars_alpha', ascending=True)"
   ]
  },
  {
   "cell_type": "code",
   "execution_count": 65,
   "id": "88e66284-294c-45c9-80b7-160c4d3ddfb7",
   "metadata": {},
   "outputs": [
    {
     "data": {
      "text/plain": [
       "['freq_chars_upper',\n",
       " 'freq_chars_alpha',\n",
       " 'freq_chars_upper',\n",
       " 'freq_chars_digit',\n",
       " 'freq_chars_space',\n",
       " 'freq_chars_special']"
      ]
     },
     "execution_count": 65,
     "metadata": {},
     "output_type": "execute_result"
    }
   ],
   "source": [
    "# removing all char frequencies, because the latest cleaned dataset was stripped off of all of them\n",
    "exclude_further += [c for c in list(df_v2_freq.columns) if c.startswith(\"freq_chars_\")]\n",
    "exclude_further"
   ]
  },
  {
   "cell_type": "code",
   "execution_count": 66,
   "id": "bd7794ea-3444-47b3-87dc-a6678d685011",
   "metadata": {},
   "outputs": [
    {
     "name": "stdout",
     "output_type": "stream",
     "text": [
      "training X: ['freq_words_short', 'freq_unique_words', 'vocab_richness_hapax_legomena', 'vocab_richness_hapax_dislegomena', '$', \"''\", '(', ')', ',', '--', '.', ':', 'CC', 'CD', 'DT', 'EX', 'FW', 'IN', 'JJ', 'JJR', 'JJS', 'LS', 'MD', 'NN', 'NNP', 'NNPS', 'NNS', 'PDT', 'POS', 'PRP', 'PRP$', 'RB', 'RBR', 'RBS', 'RP', 'SYM', 'TO', 'UH', 'VB', 'VBD', 'VBG', 'VBN', 'VBP', 'VBZ', 'WDT', 'WP', 'WP$', 'WRB', '``', '#', 'is_passive']\n",
      "\n",
      "training y: scientific\n",
      "\n",
      "excluded: ['sentence', 'scientific', 'total_chars', 'total_words', 'avg_word_length', 'freq_chars_upper', 'freq_chars_alpha', 'freq_chars_upper', 'freq_chars_digit', 'freq_chars_space', 'freq_chars_special']\n"
     ]
    },
    {
     "data": {
      "image/png": "[encoded data removed]",
      "text/plain": [
       "<Figure size 432x288 with 2 Axes>"
      ]
     },
     "metadata": {
      "needs_background": "light"
     },
     "output_type": "display_data"
    }
   ],
   "source": [
    "exclude_from_training = [\"sentence\", \"scientific\"] + total_values + exclude_further\n",
    "\n",
    "X = df_v2_freq.drop(exclude_from_training, axis=1)\n",
    "y = df_v2_freq['scientific']\n",
    "X_train, X_test, y_train, y_test = train_test_split(X, y, test_size = 0.20)\n",
    "\n",
    "clf_svm = SVC(kernel='rbf')\n",
    "clf_svm.fit(X_train, y_train)\n",
    "\n",
    "\n",
    "y_pred = clf_svm.predict(X_test)\n",
    "plot_confusion_matrix(clf_svm,\n",
    "                             X_test,\n",
    "                             y_test,\n",
    "                             display_labels=[\"non-sci\", \"sci\"],\n",
    "                             cmap=plt.cm.Blues,\n",
    "                             normalize=None,\n",
    "                            )\n",
    "\n",
    "print(f\"training X: {list(X.columns)}\\n\")\n",
    "print(f\"training y: {y.name}\\n\")\n",
    "\n",
    "print(f\"excluded: {exclude_from_training}\")"
   ]
  },
  {
   "cell_type": "code",
   "execution_count": 67,
   "id": "5cf53ddd-0793-463a-aa19-ed0458d88fb1",
   "metadata": {},
   "outputs": [
    {
     "name": "stdout",
     "output_type": "stream",
     "text": [
      "              precision    recall  f1-score   support\n",
      "\n",
      "     non-sci       0.86      0.68      0.76       613\n",
      "         sci       0.73      0.89      0.80       587\n",
      "\n",
      "    accuracy                           0.78      1200\n",
      "   macro avg       0.79      0.78      0.78      1200\n",
      "weighted avg       0.79      0.78      0.78      1200\n",
      "\n"
     ]
    }
   ],
   "source": [
    "print(classification_report(y_test,y_pred, target_names=[\"non-sci\", \"sci\"]))"
   ]
  },
  {
   "cell_type": "markdown",
   "id": "99c403ad-ea82-479a-8fcd-0e1e4465b9f9",
   "metadata": {},
   "source": [
    "### Hyperparameter tuning"
   ]
  },
  {
   "cell_type": "code",
   "execution_count": 68,
   "id": "f0bd1290-2bf8-409e-8d0b-7d6a73d51174",
   "metadata": {},
   "outputs": [
    {
     "name": "stdout",
     "output_type": "stream",
     "text": [
      "Fitting 5 folds for each of 25 candidates, totalling 125 fits\n"
     ]
    },
    {
     "data": {
      "text/plain": [
       "GridSearchCV(estimator=SVC(),\n",
       "             param_grid={'C': [0.1, 1, 10, 100, 1000],\n",
       "                         'gamma': [1, 0.1, 0.01, 0.001, 0.0001],\n",
       "                         'kernel': ['rbf']},\n",
       "             verbose=1)"
      ]
     },
     "execution_count": 68,
     "metadata": {},
     "output_type": "execute_result"
    }
   ],
   "source": [
    "from sklearn.model_selection import GridSearchCV\n",
    "\n",
    "# defining parameter range\n",
    "param_grid = {'C': [0.1, 1, 10, 100, 1000],\n",
    "                'gamma': [1, 0.1, 0.01, 0.001, 0.0001],\n",
    "                'kernel': ['rbf']}\n",
    "\n",
    "grid = GridSearchCV(SVC(), param_grid, refit = True, verbose = 1)\n",
    "\n",
    "# fitting the model for grid search\n",
    "grid.fit(X_train, y_train)"
   ]
  },
  {
   "cell_type": "code",
   "execution_count": 69,
   "id": "ef627539-72e8-4a5d-ac73-eafe255443be",
   "metadata": {},
   "outputs": [
    {
     "name": "stdout",
     "output_type": "stream",
     "text": [
      "{'C': 1000, 'gamma': 0.1, 'kernel': 'rbf'}\n",
      "SVC(C=1000, gamma=0.1)\n"
     ]
    },
    {
     "data": {
      "text/plain": [
       "<sklearn.metrics._plot.confusion_matrix.ConfusionMatrixDisplay at 0x125679be0>"
      ]
     },
     "execution_count": 69,
     "metadata": {},
     "output_type": "execute_result"
    },
    {
     "data": {
      "image/png": "[encoded data removed]",
      "text/plain": [
       "<Figure size 432x288 with 2 Axes>"
      ]
     },
     "metadata": {
      "needs_background": "light"
     },
     "output_type": "display_data"
    }
   ],
   "source": [
    "# print best parameter after tuning\n",
    "print(grid.best_params_)\n",
    "  \n",
    "# print how our model looks after hyper-parameter tuning\n",
    "print(grid.best_estimator_)\n",
    "\n",
    "grid_predictions = grid.predict(X_test)\n",
    "  \n",
    "plot_confusion_matrix(grid,\n",
    "                             X_test,\n",
    "                             y_test,\n",
    "                             display_labels=[\"non-sci\", \"sci\"],\n",
    "                             cmap=plt.cm.Blues,\n",
    "                             normalize=None,\n",
    "                            )"
   ]
  },
  {
   "cell_type": "code",
   "execution_count": 70,
   "id": "f1b88b35-2d45-4dbd-b5d1-7940c6afa483",
   "metadata": {},
   "outputs": [
    {
     "name": "stdout",
     "output_type": "stream",
     "text": [
      "              precision    recall  f1-score   support\n",
      "\n",
      "     non-sci       0.88      0.70      0.78       613\n",
      "         sci       0.74      0.90      0.82       587\n",
      "\n",
      "    accuracy                           0.80      1200\n",
      "   macro avg       0.81      0.80      0.80      1200\n",
      "weighted avg       0.81      0.80      0.80      1200\n",
      "\n"
     ]
    }
   ],
   "source": [
    "# print classification report\n",
    "print(classification_report(y_test, grid_predictions, target_names=[\"non-sci\", \"sci\"]))"
   ]
  },
  {
   "cell_type": "markdown",
   "id": "b96777f9-3e82-44eb-863a-dac9f6bf2a21",
   "metadata": {},
   "source": [
    "### Validation with student reports"
   ]
  },
  {
   "cell_type": "code",
   "execution_count": 71,
   "id": "dc716468-5569-44fd-b586-1b63b70113eb",
   "metadata": {},
   "outputs": [
    {
     "name": "stdout",
     "output_type": "stream",
     "text": [
      "              precision    recall  f1-score   support\n",
      "\n",
      "     non-sci       1.00      0.54      0.70      4389\n",
      "         sci       0.00      0.00      0.00         0\n",
      "\n",
      "    accuracy                           0.54      4389\n",
      "   macro avg       0.50      0.27      0.35      4389\n",
      "weighted avg       1.00      0.54      0.70      4389\n",
      "\n"
     ]
    },
    {
     "name": "stderr",
     "output_type": "stream",
     "text": [
      "Recall and F-score are ill-defined and being set to 0.0 in labels with no true samples. Use `zero_division` parameter to control this behavior.\n",
      "Recall and F-score are ill-defined and being set to 0.0 in labels with no true samples. Use `zero_division` parameter to control this behavior.\n",
      "Recall and F-score are ill-defined and being set to 0.0 in labels with no true samples. Use `zero_division` parameter to control this behavior.\n"
     ]
    }
   ],
   "source": [
    "# to allow for repeated execution\n",
    "\n",
    "df_val_freq = df_val.copy()\n",
    "df_val_freq[columns_v2['cols_pos_tag']] = df_val_freq[columns_v2['cols_pos_tag']].div(df_val_freq.total_words, axis=0)\n",
    "\n",
    "try:\n",
    "    val_pred = grid.predict(df_val_freq.drop(exclude_from_training + [\"pred_sci\"], axis=1))\n",
    "except ValueError as error:\n",
    "    val_pred = grid.predict(df_val_freq.drop(exclude_from_training, axis=1))\n",
    "\n",
    "df_val_freq['scientific'] = 0\n",
    "df_val_freq['pred_sci'] = val_pred\n",
    "\n",
    "try:\n",
    "    print(classification_report(df_val_freq['scientific'],df_val_freq['pred_sci'], target_names=[\"non-sci\", \"sci\"]))\n",
    "except ValueError:\n",
    "    print(classification_report(df_val_freq['scientific'],df_val_freq['pred_sci'], target_names=[\"non-sci\"]))"
   ]
  },
  {
   "cell_type": "code",
   "execution_count": 72,
   "id": "fd7b85ce-a3c0-466f-873e-a9b016bd15a6",
   "metadata": {},
   "outputs": [
    {
     "data": {
      "text/plain": [
       "<AxesSubplot:>"
      ]
     },
     "execution_count": 72,
     "metadata": {},
     "output_type": "execute_result"
    },
    {
     "data": {
      "image/png": "[encoded data removed]",
      "text/plain": [
       "<Figure size 432x288 with 1 Axes>"
      ]
     },
     "metadata": {
      "needs_background": "light"
     },
     "output_type": "display_data"
    }
   ],
   "source": [
    "df_val_freq.pred_sci.hist()"
   ]
  },
  {
   "cell_type": "markdown",
   "id": "57b50a94-a958-4dc5-8daa-7004feb39c3d",
   "metadata": {},
   "source": [
    "Much better. Majority is considered as non-scientific."
   ]
  },
  {
   "cell_type": "markdown",
   "id": "30e5577c-a329-44db-9b56-54a7e72656e3",
   "metadata": {},
   "source": [
    "### Validation with scientific sentences from latest tf cleaned"
   ]
  },
  {
   "cell_type": "code",
   "execution_count": 73,
   "id": "bca503ae-015f-4efa-90fe-f16782876e33",
   "metadata": {},
   "outputs": [
    {
     "data": {
      "text/html": [
       "<div>\n",
       "<style scoped>\n",
       "    .dataframe tbody tr th:only-of-type {\n",
       "        vertical-align: middle;\n",
       "    }\n",
       "\n",
       "    .dataframe tbody tr th {\n",
       "        vertical-align: top;\n",
       "    }\n",
       "\n",
       "    .dataframe thead th {\n",
       "        text-align: right;\n",
       "    }\n",
       "</style>\n",
       "<table border=\"1\" class=\"dataframe\">\n",
       "  <thead>\n",
       "    <tr style=\"text-align: right;\">\n",
       "      <th></th>\n",
       "      <th>sentence</th>\n",
       "      <th>total_chars</th>\n",
       "      <th>freq_chars_alpha</th>\n",
       "      <th>freq_chars_upper</th>\n",
       "      <th>freq_chars_digit</th>\n",
       "      <th>freq_chars_space</th>\n",
       "      <th>freq_chars_special</th>\n",
       "      <th>total_words</th>\n",
       "      <th>freq_words_short</th>\n",
       "      <th>avg_word_length</th>\n",
       "      <th>freq_unique_words</th>\n",
       "      <th>vocab_richness_hapax_legomena</th>\n",
       "      <th>vocab_richness_hapax_dislegomena</th>\n",
       "      <th>$</th>\n",
       "      <th>''</th>\n",
       "      <th>(</th>\n",
       "      <th>)</th>\n",
       "      <th>,</th>\n",
       "      <th>--</th>\n",
       "      <th>.</th>\n",
       "      <th>:</th>\n",
       "      <th>CC</th>\n",
       "      <th>CD</th>\n",
       "      <th>DT</th>\n",
       "      <th>EX</th>\n",
       "      <th>FW</th>\n",
       "      <th>IN</th>\n",
       "      <th>JJ</th>\n",
       "      <th>JJR</th>\n",
       "      <th>JJS</th>\n",
       "      <th>LS</th>\n",
       "      <th>MD</th>\n",
       "      <th>NN</th>\n",
       "      <th>NNP</th>\n",
       "      <th>NNPS</th>\n",
       "      <th>NNS</th>\n",
       "      <th>PDT</th>\n",
       "      <th>POS</th>\n",
       "      <th>PRP</th>\n",
       "      <th>PRP$</th>\n",
       "      <th>RB</th>\n",
       "      <th>RBR</th>\n",
       "      <th>RBS</th>\n",
       "      <th>RP</th>\n",
       "      <th>SYM</th>\n",
       "      <th>TO</th>\n",
       "      <th>UH</th>\n",
       "      <th>VB</th>\n",
       "      <th>VBD</th>\n",
       "      <th>VBG</th>\n",
       "      <th>VBN</th>\n",
       "      <th>VBP</th>\n",
       "      <th>VBZ</th>\n",
       "      <th>WDT</th>\n",
       "      <th>WP</th>\n",
       "      <th>WP$</th>\n",
       "      <th>WRB</th>\n",
       "      <th>``</th>\n",
       "      <th>#</th>\n",
       "      <th>is_passive</th>\n",
       "      <th>scientific</th>\n",
       "      <th>pred_sci</th>\n",
       "    </tr>\n",
       "  </thead>\n",
       "  <tbody>\n",
       "    <tr>\n",
       "      <th>0</th>\n",
       "      <td>the construction of the final knowledge representation structures is done as follows.</td>\n",
       "      <td>85</td>\n",
       "      <td>0.858824</td>\n",
       "      <td>0.0</td>\n",
       "      <td>0.0</td>\n",
       "      <td>0.129412</td>\n",
       "      <td>0.011765</td>\n",
       "      <td>12</td>\n",
       "      <td>0.416667</td>\n",
       "      <td>6.083333</td>\n",
       "      <td>0.916667</td>\n",
       "      <td>0.833333</td>\n",
       "      <td>0.090909</td>\n",
       "      <td>0</td>\n",
       "      <td>0</td>\n",
       "      <td>0</td>\n",
       "      <td>0</td>\n",
       "      <td>0</td>\n",
       "      <td>0</td>\n",
       "      <td>1</td>\n",
       "      <td>0</td>\n",
       "      <td>0</td>\n",
       "      <td>0</td>\n",
       "      <td>2</td>\n",
       "      <td>0</td>\n",
       "      <td>0</td>\n",
       "      <td>2</td>\n",
       "      <td>1</td>\n",
       "      <td>0</td>\n",
       "      <td>0</td>\n",
       "      <td>0</td>\n",
       "      <td>0</td>\n",
       "      <td>3</td>\n",
       "      <td>0</td>\n",
       "      <td>0</td>\n",
       "      <td>1</td>\n",
       "      <td>0</td>\n",
       "      <td>0</td>\n",
       "      <td>0</td>\n",
       "      <td>0</td>\n",
       "      <td>0</td>\n",
       "      <td>0</td>\n",
       "      <td>0</td>\n",
       "      <td>0</td>\n",
       "      <td>0</td>\n",
       "      <td>0</td>\n",
       "      <td>0</td>\n",
       "      <td>0</td>\n",
       "      <td>0</td>\n",
       "      <td>0</td>\n",
       "      <td>1</td>\n",
       "      <td>0</td>\n",
       "      <td>2</td>\n",
       "      <td>0</td>\n",
       "      <td>0</td>\n",
       "      <td>0</td>\n",
       "      <td>0</td>\n",
       "      <td>0</td>\n",
       "      <td>0</td>\n",
       "      <td>1</td>\n",
       "      <td>1</td>\n",
       "      <td>1</td>\n",
       "    </tr>\n",
       "    <tr>\n",
       "      <th>1</th>\n",
       "      <td>the denser the triangles are, the closer the node is to the core of the community.</td>\n",
       "      <td>82</td>\n",
       "      <td>0.792683</td>\n",
       "      <td>0.0</td>\n",
       "      <td>0.0</td>\n",
       "      <td>0.182927</td>\n",
       "      <td>0.024390</td>\n",
       "      <td>16</td>\n",
       "      <td>0.625000</td>\n",
       "      <td>4.062500</td>\n",
       "      <td>0.687500</td>\n",
       "      <td>0.625000</td>\n",
       "      <td>0.000000</td>\n",
       "      <td>0</td>\n",
       "      <td>0</td>\n",
       "      <td>0</td>\n",
       "      <td>0</td>\n",
       "      <td>1</td>\n",
       "      <td>0</td>\n",
       "      <td>1</td>\n",
       "      <td>0</td>\n",
       "      <td>0</td>\n",
       "      <td>0</td>\n",
       "      <td>6</td>\n",
       "      <td>0</td>\n",
       "      <td>0</td>\n",
       "      <td>1</td>\n",
       "      <td>0</td>\n",
       "      <td>1</td>\n",
       "      <td>0</td>\n",
       "      <td>0</td>\n",
       "      <td>0</td>\n",
       "      <td>4</td>\n",
       "      <td>0</td>\n",
       "      <td>0</td>\n",
       "      <td>1</td>\n",
       "      <td>0</td>\n",
       "      <td>0</td>\n",
       "      <td>0</td>\n",
       "      <td>0</td>\n",
       "      <td>0</td>\n",
       "      <td>0</td>\n",
       "      <td>0</td>\n",
       "      <td>0</td>\n",
       "      <td>0</td>\n",
       "      <td>1</td>\n",
       "      <td>0</td>\n",
       "      <td>0</td>\n",
       "      <td>0</td>\n",
       "      <td>0</td>\n",
       "      <td>0</td>\n",
       "      <td>1</td>\n",
       "      <td>1</td>\n",
       "      <td>0</td>\n",
       "      <td>0</td>\n",
       "      <td>0</td>\n",
       "      <td>0</td>\n",
       "      <td>0</td>\n",
       "      <td>0</td>\n",
       "      <td>0</td>\n",
       "      <td>1</td>\n",
       "      <td>1</td>\n",
       "    </tr>\n",
       "    <tr>\n",
       "      <th>2</th>\n",
       "      <td>the first step is to perturb the previous transcription to make a new one.</td>\n",
       "      <td>74</td>\n",
       "      <td>0.810811</td>\n",
       "      <td>0.0</td>\n",
       "      <td>0.0</td>\n",
       "      <td>0.175676</td>\n",
       "      <td>0.013514</td>\n",
       "      <td>14</td>\n",
       "      <td>0.571429</td>\n",
       "      <td>4.285714</td>\n",
       "      <td>0.857143</td>\n",
       "      <td>0.714286</td>\n",
       "      <td>0.166667</td>\n",
       "      <td>0</td>\n",
       "      <td>0</td>\n",
       "      <td>0</td>\n",
       "      <td>0</td>\n",
       "      <td>0</td>\n",
       "      <td>0</td>\n",
       "      <td>1</td>\n",
       "      <td>0</td>\n",
       "      <td>0</td>\n",
       "      <td>1</td>\n",
       "      <td>3</td>\n",
       "      <td>0</td>\n",
       "      <td>0</td>\n",
       "      <td>0</td>\n",
       "      <td>3</td>\n",
       "      <td>0</td>\n",
       "      <td>0</td>\n",
       "      <td>0</td>\n",
       "      <td>0</td>\n",
       "      <td>2</td>\n",
       "      <td>0</td>\n",
       "      <td>0</td>\n",
       "      <td>0</td>\n",
       "      <td>0</td>\n",
       "      <td>0</td>\n",
       "      <td>0</td>\n",
       "      <td>0</td>\n",
       "      <td>0</td>\n",
       "      <td>0</td>\n",
       "      <td>0</td>\n",
       "      <td>0</td>\n",
       "      <td>0</td>\n",
       "      <td>2</td>\n",
       "      <td>0</td>\n",
       "      <td>2</td>\n",
       "      <td>0</td>\n",
       "      <td>0</td>\n",
       "      <td>0</td>\n",
       "      <td>0</td>\n",
       "      <td>1</td>\n",
       "      <td>0</td>\n",
       "      <td>0</td>\n",
       "      <td>0</td>\n",
       "      <td>0</td>\n",
       "      <td>0</td>\n",
       "      <td>0</td>\n",
       "      <td>0</td>\n",
       "      <td>1</td>\n",
       "      <td>0</td>\n",
       "    </tr>\n",
       "  </tbody>\n",
       "</table>\n",
       "</div>"
      ],
      "text/plain": [
       "                                                                                sentence  \\\n",
       "0  the construction of the final knowledge representation structures is done as follows.   \n",
       "1     the denser the triangles are, the closer the node is to the core of the community.   \n",
       "2             the first step is to perturb the previous transcription to make a new one.   \n",
       "\n",
       "   total_chars  freq_chars_alpha  freq_chars_upper  freq_chars_digit  \\\n",
       "0           85          0.858824               0.0               0.0   \n",
       "1           82          0.792683               0.0               0.0   \n",
       "2           74          0.810811               0.0               0.0   \n",
       "\n",
       "   freq_chars_space  freq_chars_special  total_words  freq_words_short  \\\n",
       "0          0.129412            0.011765           12          0.416667   \n",
       "1          0.182927            0.024390           16          0.625000   \n",
       "2          0.175676            0.013514           14          0.571429   \n",
       "\n",
       "   avg_word_length  freq_unique_words  vocab_richness_hapax_legomena  \\\n",
       "0         6.083333           0.916667                       0.833333   \n",
       "1         4.062500           0.687500                       0.625000   \n",
       "2         4.285714           0.857143                       0.714286   \n",
       "\n",
       "   vocab_richness_hapax_dislegomena  $  ''  (  )  ,  --  .  :  CC  CD  DT  EX  \\\n",
       "0                          0.090909  0   0  0  0  0   0  1  0   0   0   2   0   \n",
       "1                          0.000000  0   0  0  0  1   0  1  0   0   0   6   0   \n",
       "2                          0.166667  0   0  0  0  0   0  1  0   0   1   3   0   \n",
       "\n",
       "   FW  IN  JJ  JJR  JJS  LS  MD  NN  NNP  NNPS  NNS  PDT  POS  PRP  PRP$  RB  \\\n",
       "0   0   2   1    0    0   0   0   3    0     0    1    0    0    0     0   0   \n",
       "1   0   1   0    1    0   0   0   4    0     0    1    0    0    0     0   0   \n",
       "2   0   0   3    0    0   0   0   2    0     0    0    0    0    0     0   0   \n",
       "\n",
       "   RBR  RBS  RP  SYM  TO  UH  VB  VBD  VBG  VBN  VBP  VBZ  WDT  WP  WP$  WRB  \\\n",
       "0    0    0   0    0   0   0   0    0    0    1    0    2    0   0    0    0   \n",
       "1    0    0   0    0   1   0   0    0    0    0    1    1    0   0    0    0   \n",
       "2    0    0   0    0   2   0   2    0    0    0    0    1    0   0    0    0   \n",
       "\n",
       "   ``  #  is_passive  scientific  pred_sci  \n",
       "0   0  0           1           1         1  \n",
       "1   0  0           0           1         1  \n",
       "2   0  0           0           1         0  "
      ]
     },
     "execution_count": 73,
     "metadata": {},
     "output_type": "execute_result"
    }
   ],
   "source": [
    "df_val_sci.head(3)"
   ]
  },
  {
   "cell_type": "code",
   "execution_count": 74,
   "id": "111f6346-e9f4-4071-b2fe-1b399d2a2b14",
   "metadata": {},
   "outputs": [
    {
     "name": "stdout",
     "output_type": "stream",
     "text": [
      "              precision    recall  f1-score   support\n",
      "\n",
      "     non-sci       0.00      0.00      0.00         0\n",
      "         sci       1.00      0.92      0.96      5000\n",
      "\n",
      "    accuracy                           0.92      5000\n",
      "   macro avg       0.50      0.46      0.48      5000\n",
      "weighted avg       1.00      0.92      0.96      5000\n",
      "\n"
     ]
    },
    {
     "name": "stderr",
     "output_type": "stream",
     "text": [
      "Recall and F-score are ill-defined and being set to 0.0 in labels with no true samples. Use `zero_division` parameter to control this behavior.\n",
      "Recall and F-score are ill-defined and being set to 0.0 in labels with no true samples. Use `zero_division` parameter to control this behavior.\n",
      "Recall and F-score are ill-defined and being set to 0.0 in labels with no true samples. Use `zero_division` parameter to control this behavior.\n"
     ]
    }
   ],
   "source": [
    "# to allow for repeated execution\n",
    "\n",
    "df_val_sci_freq = df_val_sci.copy()\n",
    "df_val_sci_freq[columns_v2['cols_pos_tag']] = df_val_sci_freq[columns_v2['cols_pos_tag']].div(df_val_sci_freq.total_words, axis=0)\n",
    "\n",
    "try:\n",
    "    val_pred_sci = grid.predict(df_val_sci_freq.drop(exclude_from_training + [\"pred_sci\"], axis=1))\n",
    "except KeyError as error:\n",
    "    val_pred_sci = grid.predict(df_val_sci_freq.drop([c for c in exclude_from_training if c != \"scientific\"], axis=1))\n",
    "\n",
    "df_val_sci_freq['scientific'] = 1\n",
    "df_val_sci_freq['pred_sci'] = val_pred_sci\n",
    "\n",
    "\n",
    "print(classification_report(df_val_sci_freq['scientific'],df_val_sci_freq['pred_sci'], target_names=[\"non-sci\", \"sci\"]))"
   ]
  },
  {
   "cell_type": "code",
   "execution_count": 75,
   "id": "066fd575-d015-4371-838b-a62c996787db",
   "metadata": {},
   "outputs": [
    {
     "data": {
      "text/plain": [
       "<AxesSubplot:>"
      ]
     },
     "execution_count": 75,
     "metadata": {},
     "output_type": "execute_result"
    },
    {
     "data": {
      "image/png": "[encoded data removed]",
      "text/plain": [
       "<Figure size 432x288 with 1 Axes>"
      ]
     },
     "metadata": {
      "needs_background": "light"
     },
     "output_type": "display_data"
    }
   ],
   "source": [
    "df_val_sci_freq.pred_sci.hist()"
   ]
  },
  {
   "cell_type": "markdown",
   "id": "e8e11ec6-fd43-44db-acd1-2b05a1996eba",
   "metadata": {},
   "source": [
    "perfect"
   ]
  },
  {
   "cell_type": "markdown",
   "id": "7c5c341a-a200-49ef-9626-5574b4632fcf",
   "metadata": {
    "tags": []
   },
   "source": [
    "### SHAP insights\n",
    "\n",
    "Now we can have a look into which features are most important."
   ]
  },
  {
   "cell_type": "code",
   "execution_count": 76,
   "id": "edb5ddde-0683-4701-9125-3278b8309b30",
   "metadata": {},
   "outputs": [
    {
     "data": {
      "application/vnd.jupyter.widget-view+json": {
       "model_id": "5dfc2100a93e4c18bd59d2334b7216cd",
       "version_major": 2,
       "version_minor": 0
      },
      "text/plain": [
       "  0%|          | 0/10 [00:00<?, ?it/s]"
      ]
     },
     "metadata": {},
     "output_type": "display_data"
    }
   ],
   "source": [
    "# https://towardsdatascience.com/explain-any-models-with-the-shap-values-use-the-kernelexplainer-79de9464897a\n",
    "import shap\n",
    "\n",
    "# The SHAP values\n",
    "X_sample = shap.sample(X, nsamples=10, random_state=0)\n",
    "\n",
    "svm_explainer = shap.KernelExplainer(grid.predict,X_sample)\n",
    "svm_shap_values = svm_explainer.shap_values(X_sample)"
   ]
  },
  {
   "cell_type": "code",
   "execution_count": 77,
   "id": "f309a600-8359-42a8-b091-bef21485ff40",
   "metadata": {
    "tags": []
   },
   "outputs": [
    {
     "data": {
      "image/png": "[encoded data removed]",
      "text/plain": [
       "<Figure size 576x684 with 2 Axes>"
      ]
     },
     "metadata": {
      "needs_background": "light"
     },
     "output_type": "display_data"
    }
   ],
   "source": [
    "# export summary plot\n",
    "shap.summary_plot(svm_shap_values, X_sample, show=True)"
   ]
  },
  {
   "cell_type": "code",
   "execution_count": 78,
   "id": "48763b81-b7c5-4b9c-b98a-6e7aa51626fa",
   "metadata": {},
   "outputs": [
    {
     "data": {
      "image/png": "[encoded data removed]",
      "text/plain": [
       "<Figure size 540x360 with 2 Axes>"
      ]
     },
     "metadata": {
      "needs_background": "light"
     },
     "output_type": "display_data"
    }
   ],
   "source": [
    "shap.dependence_plot(\"JJ\", svm_shap_values, X_sample)"
   ]
  },
  {
   "cell_type": "markdown",
   "id": "d5dfce52-9f2f-4eb1-a36b-81ae15aef42f",
   "metadata": {},
   "source": [
    "## SVM 6: char trigrams"
   ]
  },
  {
   "cell_type": "code",
   "execution_count": 100,
   "id": "7a62de5f-8129-4a4b-bab6-d84e7d566cf8",
   "metadata": {},
   "outputs": [],
   "source": [
    "def add_features_trigrams(df):\n",
    "    columns = {}\n",
    "\n",
    "    print(\"char trigrams\")\n",
    "    (cols_trigram, df_sub) = TextFeatures.extract_char_trigrams(df[\"sentence\"])\n",
    "    df[cols_trigram] = df_sub[cols_trigram]\n",
    "    columns[\"char_trigrams\"] = cols_trigram\n",
    "    \n",
    "    return (df, columns)"
   ]
  },
  {
   "cell_type": "code",
   "execution_count": 90,
   "id": "b97a8b0c-7b17-41c8-95aa-2cbeeba4ba76",
   "metadata": {},
   "outputs": [
    {
     "name": "stdout",
     "output_type": "stream",
     "text": [
      "char trigrams\n"
     ]
    },
    {
     "data": {
      "application/vnd.jupyter.widget-view+json": {
       "model_id": "1c39710610074d1eb007b31b2058a56a",
       "version_major": 2,
       "version_minor": 0
      },
      "text/plain": [
       "  0%|          | 0/6000 [00:00<?, ?it/s]"
      ]
     },
     "metadata": {},
     "output_type": "display_data"
    }
   ],
   "source": [
    "df_v2_freq_full = df_v2_freq.copy()\n",
    "(df_v2_freq_full, df_v2_freq_full_colls) = add_features_trigrams(df_v2_freq_full)"
   ]
  },
  {
   "cell_type": "code",
   "execution_count": 91,
   "id": "af0b63dd-d5f1-430b-94ba-c0271883a1af",
   "metadata": {},
   "outputs": [
    {
     "data": {
      "text/plain": [
       "(6000, 311)"
      ]
     },
     "execution_count": 91,
     "metadata": {},
     "output_type": "execute_result"
    }
   ],
   "source": [
    "df_v2_freq_full.shape"
   ]
  },
  {
   "cell_type": "code",
   "execution_count": 101,
   "id": "3eb2c74c-2fb1-4011-a18c-99a137cde15e",
   "metadata": {},
   "outputs": [
    {
     "data": {
      "text/html": [
       "<div>\n",
       "<style scoped>\n",
       "    .dataframe tbody tr th:only-of-type {\n",
       "        vertical-align: middle;\n",
       "    }\n",
       "\n",
       "    .dataframe tbody tr th {\n",
       "        vertical-align: top;\n",
       "    }\n",
       "\n",
       "    .dataframe thead th {\n",
       "        text-align: right;\n",
       "    }\n",
       "</style>\n",
       "<table border=\"1\" class=\"dataframe\">\n",
       "  <thead>\n",
       "    <tr style=\"text-align: right;\">\n",
       "      <th></th>\n",
       "      <th>sentence</th>\n",
       "      <th>scientific</th>\n",
       "      <th>total_chars</th>\n",
       "      <th>freq_chars_alpha</th>\n",
       "      <th>freq_chars_upper</th>\n",
       "      <th>freq_chars_digit</th>\n",
       "      <th>freq_chars_space</th>\n",
       "      <th>freq_chars_special</th>\n",
       "      <th>total_words</th>\n",
       "      <th>freq_words_short</th>\n",
       "      <th>avg_word_length</th>\n",
       "      <th>freq_unique_words</th>\n",
       "      <th>vocab_richness_hapax_legomena</th>\n",
       "      <th>vocab_richness_hapax_dislegomena</th>\n",
       "      <th>$</th>\n",
       "      <th>''</th>\n",
       "      <th>(</th>\n",
       "      <th>)</th>\n",
       "      <th>,</th>\n",
       "      <th>--</th>\n",
       "      <th>.</th>\n",
       "      <th>:</th>\n",
       "      <th>CC</th>\n",
       "      <th>CD</th>\n",
       "      <th>DT</th>\n",
       "      <th>EX</th>\n",
       "      <th>FW</th>\n",
       "      <th>IN</th>\n",
       "      <th>JJ</th>\n",
       "      <th>JJR</th>\n",
       "      <th>JJS</th>\n",
       "      <th>LS</th>\n",
       "      <th>MD</th>\n",
       "      <th>NN</th>\n",
       "      <th>NNP</th>\n",
       "      <th>NNPS</th>\n",
       "      <th>NNS</th>\n",
       "      <th>PDT</th>\n",
       "      <th>POS</th>\n",
       "      <th>PRP</th>\n",
       "      <th>PRP$</th>\n",
       "      <th>RB</th>\n",
       "      <th>RBR</th>\n",
       "      <th>RBS</th>\n",
       "      <th>RP</th>\n",
       "      <th>SYM</th>\n",
       "      <th>TO</th>\n",
       "      <th>UH</th>\n",
       "      <th>VB</th>\n",
       "      <th>VBD</th>\n",
       "      <th>VBG</th>\n",
       "      <th>VBN</th>\n",
       "      <th>VBP</th>\n",
       "      <th>VBZ</th>\n",
       "      <th>WDT</th>\n",
       "      <th>WP</th>\n",
       "      <th>WP$</th>\n",
       "      <th>WRB</th>\n",
       "      <th>``</th>\n",
       "      <th>#</th>\n",
       "      <th>is_passive</th>\n",
       "      <th>/ a /</th>\n",
       "      <th>/ al/</th>\n",
       "      <th>/ an/</th>\n",
       "      <th>/ ar/</th>\n",
       "      <th>/ as/</th>\n",
       "      <th>/ be/</th>\n",
       "      <th>/ ca/</th>\n",
       "      <th>/ co/</th>\n",
       "      <th>/ da/</th>\n",
       "      <th>/ de/</th>\n",
       "      <th>/ di/</th>\n",
       "      <th>/ do/</th>\n",
       "      <th>/ ex/</th>\n",
       "      <th>/ fi/</th>\n",
       "      <th>/ fo/</th>\n",
       "      <th>/ fr/</th>\n",
       "      <th>/ ha/</th>\n",
       "      <th>/ im/</th>\n",
       "      <th>/ in/</th>\n",
       "      <th>/ is/</th>\n",
       "      <th>/ it/</th>\n",
       "      <th>/ le/</th>\n",
       "      <th>/ li/</th>\n",
       "      <th>/ lo/</th>\n",
       "      <th>/ ma/</th>\n",
       "      <th>/ me/</th>\n",
       "      <th>/ mo/</th>\n",
       "      <th>/ ne/</th>\n",
       "      <th>/ no/</th>\n",
       "      <th>/ of/</th>\n",
       "      <th>/ on/</th>\n",
       "      <th>/ pa/</th>\n",
       "      <th>/ po/</th>\n",
       "      <th>/ pr/</th>\n",
       "      <th>/ re/</th>\n",
       "      <th>/ se/</th>\n",
       "      <th>/ si/</th>\n",
       "      <th>/ so/</th>\n",
       "      <th>/ st/</th>\n",
       "      <th>/ su/</th>\n",
       "      <th>/ th/</th>\n",
       "      <th>/ to/</th>\n",
       "      <th>/ tr/</th>\n",
       "      <th>/ us/</th>\n",
       "      <th>/ we/</th>\n",
       "      <th>/ wh/</th>\n",
       "      <th>/ wi/</th>\n",
       "      <th>/ wo/</th>\n",
       "      <th>/ yo/</th>\n",
       "      <th>/, a/</th>\n",
       "      <th>/, t/</th>\n",
       "      <th>/, w/</th>\n",
       "      <th>/a s/</th>\n",
       "      <th>/abl/</th>\n",
       "      <th>/ach/</th>\n",
       "      <th>/act/</th>\n",
       "      <th>/age/</th>\n",
       "      <th>/ain/</th>\n",
       "      <th>/al /</th>\n",
       "      <th>/all/</th>\n",
       "      <th>/an /</th>\n",
       "      <th>/and/</th>\n",
       "      <th>/app/</th>\n",
       "      <th>/are/</th>\n",
       "      <th>/art/</th>\n",
       "      <th>/as /</th>\n",
       "      <th>/ase/</th>\n",
       "      <th>/at /</th>\n",
       "      <th>/ata/</th>\n",
       "      <th>/ate/</th>\n",
       "      <th>/ati/</th>\n",
       "      <th>/ave/</th>\n",
       "      <th>/be /</th>\n",
       "      <th>/ble/</th>\n",
       "      <th>/by /</th>\n",
       "      <th>/cal/</th>\n",
       "      <th>/can/</th>\n",
       "      <th>/ce /</th>\n",
       "      <th>/ces/</th>\n",
       "      <th>/ch /</th>\n",
       "      <th>/com/</th>\n",
       "      <th>/con/</th>\n",
       "      <th>/cti/</th>\n",
       "      <th>/d a/</th>\n",
       "      <th>/d b/</th>\n",
       "      <th>/d i/</th>\n",
       "      <th>/d t/</th>\n",
       "      <th>/dat/</th>\n",
       "      <th>/der/</th>\n",
       "      <th>/e a/</th>\n",
       "      <th>/e b/</th>\n",
       "      <th>/e c/</th>\n",
       "      <th>/e d/</th>\n",
       "      <th>/e e/</th>\n",
       "      <th>/e f/</th>\n",
       "      <th>/e i/</th>\n",
       "      <th>/e l/</th>\n",
       "      <th>/e m/</th>\n",
       "      <th>/e n/</th>\n",
       "      <th>/e o/</th>\n",
       "      <th>/e p/</th>\n",
       "      <th>/e r/</th>\n",
       "      <th>/e s/</th>\n",
       "      <th>/e t/</th>\n",
       "      <th>/e w/</th>\n",
       "      <th>/e, /</th>\n",
       "      <th>/ear/</th>\n",
       "      <th>/ect/</th>\n",
       "      <th>/ed /</th>\n",
       "      <th>/en /</th>\n",
       "      <th>/enc/</th>\n",
       "      <th>/ent/</th>\n",
       "      <th>/er /</th>\n",
       "      <th>/era/</th>\n",
       "      <th>/ere/</th>\n",
       "      <th>/ers/</th>\n",
       "      <th>/es /</th>\n",
       "      <th>/ese/</th>\n",
       "      <th>/ess/</th>\n",
       "      <th>/est/</th>\n",
       "      <th>/eve/</th>\n",
       "      <th>/f t/</th>\n",
       "      <th>/for/</th>\n",
       "      <th>/g t/</th>\n",
       "      <th>/hat/</th>\n",
       "      <th>/hav/</th>\n",
       "      <th>/he /</th>\n",
       "      <th>/her/</th>\n",
       "      <th>/his/</th>\n",
       "      <th>/how/</th>\n",
       "      <th>/ica/</th>\n",
       "      <th>/ide/</th>\n",
       "      <th>/ill/</th>\n",
       "      <th>/imp/</th>\n",
       "      <th>/in /</th>\n",
       "      <th>/ine/</th>\n",
       "      <th>/ing/</th>\n",
       "      <th>/int/</th>\n",
       "      <th>/ion/</th>\n",
       "      <th>/is /</th>\n",
       "      <th>/ist/</th>\n",
       "      <th>/it /</th>\n",
       "      <th>/ith/</th>\n",
       "      <th>/iti/</th>\n",
       "      <th>/ity/</th>\n",
       "      <th>/ive/</th>\n",
       "      <th>/lat/</th>\n",
       "      <th>/le /</th>\n",
       "      <th>/ll /</th>\n",
       "      <th>/ly /</th>\n",
       "      <th>/mat/</th>\n",
       "      <th>/me /</th>\n",
       "      <th>/men/</th>\n",
       "      <th>/mod/</th>\n",
       "      <th>/mpl/</th>\n",
       "      <th>/n a/</th>\n",
       "      <th>/n i/</th>\n",
       "      <th>/n o/</th>\n",
       "      <th>/n t/</th>\n",
       "      <th>/nal/</th>\n",
       "      <th>/nce/</th>\n",
       "      <th>/nd /</th>\n",
       "      <th>/ne /</th>\n",
       "      <th>/ng /</th>\n",
       "      <th>/not/</th>\n",
       "      <th>/ns /</th>\n",
       "      <th>/nt /</th>\n",
       "      <th>/nte/</th>\n",
       "      <th>/nti/</th>\n",
       "      <th>/o t/</th>\n",
       "      <th>/ode/</th>\n",
       "      <th>/of /</th>\n",
       "      <th>/om /</th>\n",
       "      <th>/omp/</th>\n",
       "      <th>/on /</th>\n",
       "      <th>/one/</th>\n",
       "      <th>/ons/</th>\n",
       "      <th>/or /</th>\n",
       "      <th>/ore/</th>\n",
       "      <th>/orm/</th>\n",
       "      <th>/ot /</th>\n",
       "      <th>/ou /</th>\n",
       "      <th>/our/</th>\n",
       "      <th>/ove/</th>\n",
       "      <th>/ow /</th>\n",
       "      <th>/par/</th>\n",
       "      <th>/per/</th>\n",
       "      <th>/ple/</th>\n",
       "      <th>/pre/</th>\n",
       "      <th>/pro/</th>\n",
       "      <th>/r a/</th>\n",
       "      <th>/r t/</th>\n",
       "      <th>/rat/</th>\n",
       "      <th>/re /</th>\n",
       "      <th>/rea/</th>\n",
       "      <th>/red/</th>\n",
       "      <th>/res/</th>\n",
       "      <th>/rs /</th>\n",
       "      <th>/ry /</th>\n",
       "      <th>/s a/</th>\n",
       "      <th>/s c/</th>\n",
       "      <th>/s f/</th>\n",
       "      <th>/s i/</th>\n",
       "      <th>/s o/</th>\n",
       "      <th>/s s/</th>\n",
       "      <th>/s t/</th>\n",
       "      <th>/s w/</th>\n",
       "      <th>/s, /</th>\n",
       "      <th>/se /</th>\n",
       "      <th>/sed/</th>\n",
       "      <th>/sin/</th>\n",
       "      <th>/st /</th>\n",
       "      <th>/sta/</th>\n",
       "      <th>/ste/</th>\n",
       "      <th>/sti/</th>\n",
       "      <th>/str/</th>\n",
       "      <th>/t a/</th>\n",
       "      <th>/t i/</th>\n",
       "      <th>/t o/</th>\n",
       "      <th>/t t/</th>\n",
       "      <th>/tat/</th>\n",
       "      <th>/te /</th>\n",
       "      <th>/ted/</th>\n",
       "      <th>/ter/</th>\n",
       "      <th>/th /</th>\n",
       "      <th>/tha/</th>\n",
       "      <th>/the/</th>\n",
       "      <th>/thi/</th>\n",
       "      <th>/tic/</th>\n",
       "      <th>/tim/</th>\n",
       "      <th>/tin/</th>\n",
       "      <th>/tio/</th>\n",
       "      <th>/tiv/</th>\n",
       "      <th>/to /</th>\n",
       "      <th>/tra/</th>\n",
       "      <th>/tri/</th>\n",
       "      <th>/ts /</th>\n",
       "      <th>/tur/</th>\n",
       "      <th>/ty /</th>\n",
       "      <th>/ur /</th>\n",
       "      <th>/ure/</th>\n",
       "      <th>/use/</th>\n",
       "      <th>/ut /</th>\n",
       "      <th>/ve /</th>\n",
       "      <th>/ver/</th>\n",
       "      <th>/we /</th>\n",
       "      <th>/wit/</th>\n",
       "      <th>/wor/</th>\n",
       "      <th>/y t/</th>\n",
       "      <th>/you/</th>\n",
       "    </tr>\n",
       "  </thead>\n",
       "  <tbody>\n",
       "    <tr>\n",
       "      <th>0</th>\n",
       "      <td>Important questions to answer include:</td>\n",
       "      <td>0</td>\n",
       "      <td>38</td>\n",
       "      <td>0.868421</td>\n",
       "      <td>0.026316</td>\n",
       "      <td>0.000000</td>\n",
       "      <td>0.105263</td>\n",
       "      <td>0.026316</td>\n",
       "      <td>5</td>\n",
       "      <td>0.2</td>\n",
       "      <td>6.600000</td>\n",
       "      <td>1.000000</td>\n",
       "      <td>1.000000</td>\n",
       "      <td>0.000000</td>\n",
       "      <td>0.0</td>\n",
       "      <td>0.0</td>\n",
       "      <td>0.0</td>\n",
       "      <td>0.0</td>\n",
       "      <td>0.000000</td>\n",
       "      <td>0.0</td>\n",
       "      <td>0.000000</td>\n",
       "      <td>0.2</td>\n",
       "      <td>0.000000</td>\n",
       "      <td>0.000000</td>\n",
       "      <td>0.000000</td>\n",
       "      <td>0.0</td>\n",
       "      <td>0.0</td>\n",
       "      <td>0.000000</td>\n",
       "      <td>0.200000</td>\n",
       "      <td>0.0</td>\n",
       "      <td>0.0</td>\n",
       "      <td>0.0</td>\n",
       "      <td>0.0</td>\n",
       "      <td>0.200000</td>\n",
       "      <td>0.000000</td>\n",
       "      <td>0.0</td>\n",
       "      <td>0.200000</td>\n",
       "      <td>0.0</td>\n",
       "      <td>0.0</td>\n",
       "      <td>0.0</td>\n",
       "      <td>0.0</td>\n",
       "      <td>0.0</td>\n",
       "      <td>0.0</td>\n",
       "      <td>0.000000</td>\n",
       "      <td>0.0</td>\n",
       "      <td>0.0</td>\n",
       "      <td>0.2</td>\n",
       "      <td>0.0</td>\n",
       "      <td>0.2</td>\n",
       "      <td>0.0</td>\n",
       "      <td>0.0</td>\n",
       "      <td>0.0</td>\n",
       "      <td>0.000000</td>\n",
       "      <td>0.0</td>\n",
       "      <td>0.0</td>\n",
       "      <td>0.0</td>\n",
       "      <td>0.0</td>\n",
       "      <td>0.0</td>\n",
       "      <td>0.0</td>\n",
       "      <td>0.0</td>\n",
       "      <td>0</td>\n",
       "      <td>0.0</td>\n",
       "      <td>0.000000</td>\n",
       "      <td>0.206416</td>\n",
       "      <td>0.000000</td>\n",
       "      <td>0.0</td>\n",
       "      <td>0.0</td>\n",
       "      <td>0.0</td>\n",
       "      <td>0.0</td>\n",
       "      <td>0.0</td>\n",
       "      <td>0.0</td>\n",
       "      <td>0.0</td>\n",
       "      <td>0.0</td>\n",
       "      <td>0.0</td>\n",
       "      <td>0.0</td>\n",
       "      <td>0.0</td>\n",
       "      <td>0.0</td>\n",
       "      <td>0.0</td>\n",
       "      <td>0.0</td>\n",
       "      <td>0.198306</td>\n",
       "      <td>0.0</td>\n",
       "      <td>0.0</td>\n",
       "      <td>0.0</td>\n",
       "      <td>0.0</td>\n",
       "      <td>0.0</td>\n",
       "      <td>0.00000</td>\n",
       "      <td>0.0000</td>\n",
       "      <td>0.000000</td>\n",
       "      <td>0.0</td>\n",
       "      <td>0.0</td>\n",
       "      <td>0.0</td>\n",
       "      <td>0.0</td>\n",
       "      <td>0.0</td>\n",
       "      <td>0.000000</td>\n",
       "      <td>0.0</td>\n",
       "      <td>0.000000</td>\n",
       "      <td>0.0</td>\n",
       "      <td>0.0</td>\n",
       "      <td>0.0</td>\n",
       "      <td>0.0</td>\n",
       "      <td>0.0</td>\n",
       "      <td>0.000000</td>\n",
       "      <td>0.201999</td>\n",
       "      <td>0.0</td>\n",
       "      <td>0.0</td>\n",
       "      <td>0.0</td>\n",
       "      <td>0.0</td>\n",
       "      <td>0.0</td>\n",
       "      <td>0.0</td>\n",
       "      <td>0.0</td>\n",
       "      <td>0.0</td>\n",
       "      <td>0.000000</td>\n",
       "      <td>0.0</td>\n",
       "      <td>0.0</td>\n",
       "      <td>0.0</td>\n",
       "      <td>0.0</td>\n",
       "      <td>0.0</td>\n",
       "      <td>0.0</td>\n",
       "      <td>0.0</td>\n",
       "      <td>0.0</td>\n",
       "      <td>0.0</td>\n",
       "      <td>0.0</td>\n",
       "      <td>0.000000</td>\n",
       "      <td>0.0</td>\n",
       "      <td>0.000000</td>\n",
       "      <td>0.0</td>\n",
       "      <td>0.0</td>\n",
       "      <td>0.0</td>\n",
       "      <td>0.0</td>\n",
       "      <td>0.0</td>\n",
       "      <td>0.0</td>\n",
       "      <td>0.0</td>\n",
       "      <td>0.0</td>\n",
       "      <td>0.0</td>\n",
       "      <td>0.0</td>\n",
       "      <td>0.0</td>\n",
       "      <td>0.0</td>\n",
       "      <td>0.0</td>\n",
       "      <td>0.0</td>\n",
       "      <td>0.0</td>\n",
       "      <td>0.0</td>\n",
       "      <td>0.0</td>\n",
       "      <td>0.0</td>\n",
       "      <td>0.0</td>\n",
       "      <td>0.0</td>\n",
       "      <td>0.0</td>\n",
       "      <td>0.0</td>\n",
       "      <td>0.000000</td>\n",
       "      <td>0.0</td>\n",
       "      <td>0.0</td>\n",
       "      <td>0.000000</td>\n",
       "      <td>0.0</td>\n",
       "      <td>0.0</td>\n",
       "      <td>0.0</td>\n",
       "      <td>0.0</td>\n",
       "      <td>0.0</td>\n",
       "      <td>0.0</td>\n",
       "      <td>0.0</td>\n",
       "      <td>0.000000</td>\n",
       "      <td>0.0</td>\n",
       "      <td>0.0</td>\n",
       "      <td>0.0</td>\n",
       "      <td>0.000000</td>\n",
       "      <td>0.0</td>\n",
       "      <td>0.000000</td>\n",
       "      <td>0.0</td>\n",
       "      <td>0.000000</td>\n",
       "      <td>0.0</td>\n",
       "      <td>0.0</td>\n",
       "      <td>0.0</td>\n",
       "      <td>0.0</td>\n",
       "      <td>0.0</td>\n",
       "      <td>0.0</td>\n",
       "      <td>0.236995</td>\n",
       "      <td>0.0</td>\n",
       "      <td>0.0</td>\n",
       "      <td>0.0</td>\n",
       "      <td>0.0</td>\n",
       "      <td>0.0</td>\n",
       "      <td>0.000000</td>\n",
       "      <td>0.341855</td>\n",
       "      <td>0.0</td>\n",
       "      <td>0.0</td>\n",
       "      <td>0.000000</td>\n",
       "      <td>0.0</td>\n",
       "      <td>0.0</td>\n",
       "      <td>0.0</td>\n",
       "      <td>0.000000</td>\n",
       "      <td>0.0</td>\n",
       "      <td>0.0</td>\n",
       "      <td>0.0</td>\n",
       "      <td>0.0</td>\n",
       "      <td>0.0</td>\n",
       "      <td>0.0</td>\n",
       "      <td>0.365176</td>\n",
       "      <td>0.0</td>\n",
       "      <td>0.0</td>\n",
       "      <td>0.0</td>\n",
       "      <td>0.0</td>\n",
       "      <td>0.191919</td>\n",
       "      <td>0.0</td>\n",
       "      <td>0.0</td>\n",
       "      <td>0.0</td>\n",
       "      <td>0.000000</td>\n",
       "      <td>0.0</td>\n",
       "      <td>0.0</td>\n",
       "      <td>0.0</td>\n",
       "      <td>0.0</td>\n",
       "      <td>0.0</td>\n",
       "      <td>0.0</td>\n",
       "      <td>0.0</td>\n",
       "      <td>0.0</td>\n",
       "      <td>0.0</td>\n",
       "      <td>0.0</td>\n",
       "      <td>0.0</td>\n",
       "      <td>0.0</td>\n",
       "      <td>0.000000</td>\n",
       "      <td>0.0</td>\n",
       "      <td>0.0</td>\n",
       "      <td>0.0</td>\n",
       "      <td>0.0</td>\n",
       "      <td>0.0</td>\n",
       "      <td>0.000000</td>\n",
       "      <td>0.0</td>\n",
       "      <td>0.0</td>\n",
       "      <td>0.0</td>\n",
       "      <td>0.321529</td>\n",
       "      <td>0.281711</td>\n",
       "      <td>0.0</td>\n",
       "      <td>0.0</td>\n",
       "      <td>0.0</td>\n",
       "      <td>0.0</td>\n",
       "      <td>0.0</td>\n",
       "      <td>0.0</td>\n",
       "      <td>0.0</td>\n",
       "      <td>0.000000</td>\n",
       "      <td>0.0</td>\n",
       "      <td>0.27585</td>\n",
       "      <td>0.000</td>\n",
       "      <td>0.000000</td>\n",
       "      <td>0.0</td>\n",
       "      <td>0.0</td>\n",
       "      <td>0.0</td>\n",
       "      <td>0.0</td>\n",
       "      <td>0.0</td>\n",
       "      <td>0.0</td>\n",
       "      <td>0.0</td>\n",
       "      <td>0.0</td>\n",
       "      <td>0.0</td>\n",
       "      <td>0.0</td>\n",
       "      <td>0.0</td>\n",
       "      <td>0.0</td>\n",
       "      <td>0.0</td>\n",
       "      <td>0.0</td>\n",
       "      <td>0.000000</td>\n",
       "      <td>0.0</td>\n",
       "      <td>0.0</td>\n",
       "      <td>0.000000</td>\n",
       "      <td>0.0</td>\n",
       "      <td>0.0</td>\n",
       "      <td>0.000000</td>\n",
       "      <td>0.0</td>\n",
       "      <td>0.0</td>\n",
       "      <td>0.0</td>\n",
       "      <td>0.0</td>\n",
       "      <td>0.0</td>\n",
       "      <td>0.248275</td>\n",
       "      <td>0.0</td>\n",
       "      <td>0.000000</td>\n",
       "      <td>0.00000</td>\n",
       "      <td>0.0</td>\n",
       "      <td>0.0</td>\n",
       "      <td>0.000000</td>\n",
       "      <td>0.0</td>\n",
       "      <td>0.0</td>\n",
       "      <td>0.36236</td>\n",
       "      <td>0.0</td>\n",
       "      <td>0.0</td>\n",
       "      <td>0.0</td>\n",
       "      <td>0.0</td>\n",
       "      <td>0.0</td>\n",
       "      <td>0.0</td>\n",
       "      <td>0.0</td>\n",
       "      <td>0.0</td>\n",
       "      <td>0.0</td>\n",
       "      <td>0.0</td>\n",
       "      <td>0.0</td>\n",
       "      <td>0.000000</td>\n",
       "      <td>0.0</td>\n",
       "      <td>0.0</td>\n",
       "      <td>0.0</td>\n",
       "      <td>0.0</td>\n",
       "      <td>0.201042</td>\n",
       "      <td>0.0</td>\n",
       "      <td>0.204565</td>\n",
       "      <td>0.0</td>\n",
       "      <td>0.000000</td>\n",
       "      <td>0.0</td>\n",
       "      <td>0.0</td>\n",
       "      <td>0.0</td>\n",
       "      <td>0.0</td>\n",
       "      <td>0.0</td>\n",
       "      <td>0.0</td>\n",
       "      <td>0.0</td>\n",
       "      <td>0.0</td>\n",
       "      <td>0.0</td>\n",
       "      <td>0.0</td>\n",
       "      <td>0.0</td>\n",
       "      <td>0.0</td>\n",
       "      <td>0.0</td>\n",
       "      <td>0.0</td>\n",
       "    </tr>\n",
       "    <tr>\n",
       "      <th>1</th>\n",
       "      <td>For regression algorithms, the three most popular metrics are MAE, MSE and the R²-score.</td>\n",
       "      <td>0</td>\n",
       "      <td>88</td>\n",
       "      <td>0.795455</td>\n",
       "      <td>0.090909</td>\n",
       "      <td>0.011364</td>\n",
       "      <td>0.147727</td>\n",
       "      <td>0.045455</td>\n",
       "      <td>14</td>\n",
       "      <td>0.5</td>\n",
       "      <td>5.142857</td>\n",
       "      <td>0.928571</td>\n",
       "      <td>0.857143</td>\n",
       "      <td>0.076923</td>\n",
       "      <td>0.0</td>\n",
       "      <td>0.0</td>\n",
       "      <td>0.0</td>\n",
       "      <td>0.0</td>\n",
       "      <td>0.142857</td>\n",
       "      <td>0.0</td>\n",
       "      <td>0.071429</td>\n",
       "      <td>0.0</td>\n",
       "      <td>0.071429</td>\n",
       "      <td>0.071429</td>\n",
       "      <td>0.142857</td>\n",
       "      <td>0.0</td>\n",
       "      <td>0.0</td>\n",
       "      <td>0.071429</td>\n",
       "      <td>0.071429</td>\n",
       "      <td>0.0</td>\n",
       "      <td>0.0</td>\n",
       "      <td>0.0</td>\n",
       "      <td>0.0</td>\n",
       "      <td>0.142857</td>\n",
       "      <td>0.214286</td>\n",
       "      <td>0.0</td>\n",
       "      <td>0.071429</td>\n",
       "      <td>0.0</td>\n",
       "      <td>0.0</td>\n",
       "      <td>0.0</td>\n",
       "      <td>0.0</td>\n",
       "      <td>0.0</td>\n",
       "      <td>0.0</td>\n",
       "      <td>0.071429</td>\n",
       "      <td>0.0</td>\n",
       "      <td>0.0</td>\n",
       "      <td>0.0</td>\n",
       "      <td>0.0</td>\n",
       "      <td>0.0</td>\n",
       "      <td>0.0</td>\n",
       "      <td>0.0</td>\n",
       "      <td>0.0</td>\n",
       "      <td>0.071429</td>\n",
       "      <td>0.0</td>\n",
       "      <td>0.0</td>\n",
       "      <td>0.0</td>\n",
       "      <td>0.0</td>\n",
       "      <td>0.0</td>\n",
       "      <td>0.0</td>\n",
       "      <td>0.0</td>\n",
       "      <td>0</td>\n",
       "      <td>0.0</td>\n",
       "      <td>0.163114</td>\n",
       "      <td>0.112855</td>\n",
       "      <td>0.157899</td>\n",
       "      <td>0.0</td>\n",
       "      <td>0.0</td>\n",
       "      <td>0.0</td>\n",
       "      <td>0.0</td>\n",
       "      <td>0.0</td>\n",
       "      <td>0.0</td>\n",
       "      <td>0.0</td>\n",
       "      <td>0.0</td>\n",
       "      <td>0.0</td>\n",
       "      <td>0.0</td>\n",
       "      <td>0.0</td>\n",
       "      <td>0.0</td>\n",
       "      <td>0.0</td>\n",
       "      <td>0.0</td>\n",
       "      <td>0.000000</td>\n",
       "      <td>0.0</td>\n",
       "      <td>0.0</td>\n",
       "      <td>0.0</td>\n",
       "      <td>0.0</td>\n",
       "      <td>0.0</td>\n",
       "      <td>0.16389</td>\n",
       "      <td>0.1905</td>\n",
       "      <td>0.163054</td>\n",
       "      <td>0.0</td>\n",
       "      <td>0.0</td>\n",
       "      <td>0.0</td>\n",
       "      <td>0.0</td>\n",
       "      <td>0.0</td>\n",
       "      <td>0.194641</td>\n",
       "      <td>0.0</td>\n",
       "      <td>0.128324</td>\n",
       "      <td>0.0</td>\n",
       "      <td>0.0</td>\n",
       "      <td>0.0</td>\n",
       "      <td>0.0</td>\n",
       "      <td>0.0</td>\n",
       "      <td>0.218343</td>\n",
       "      <td>0.000000</td>\n",
       "      <td>0.0</td>\n",
       "      <td>0.0</td>\n",
       "      <td>0.0</td>\n",
       "      <td>0.0</td>\n",
       "      <td>0.0</td>\n",
       "      <td>0.0</td>\n",
       "      <td>0.0</td>\n",
       "      <td>0.0</td>\n",
       "      <td>0.185143</td>\n",
       "      <td>0.0</td>\n",
       "      <td>0.0</td>\n",
       "      <td>0.0</td>\n",
       "      <td>0.0</td>\n",
       "      <td>0.0</td>\n",
       "      <td>0.0</td>\n",
       "      <td>0.0</td>\n",
       "      <td>0.0</td>\n",
       "      <td>0.0</td>\n",
       "      <td>0.0</td>\n",
       "      <td>0.119387</td>\n",
       "      <td>0.0</td>\n",
       "      <td>0.160165</td>\n",
       "      <td>0.0</td>\n",
       "      <td>0.0</td>\n",
       "      <td>0.0</td>\n",
       "      <td>0.0</td>\n",
       "      <td>0.0</td>\n",
       "      <td>0.0</td>\n",
       "      <td>0.0</td>\n",
       "      <td>0.0</td>\n",
       "      <td>0.0</td>\n",
       "      <td>0.0</td>\n",
       "      <td>0.0</td>\n",
       "      <td>0.0</td>\n",
       "      <td>0.0</td>\n",
       "      <td>0.0</td>\n",
       "      <td>0.0</td>\n",
       "      <td>0.0</td>\n",
       "      <td>0.0</td>\n",
       "      <td>0.0</td>\n",
       "      <td>0.0</td>\n",
       "      <td>0.0</td>\n",
       "      <td>0.0</td>\n",
       "      <td>0.0</td>\n",
       "      <td>0.152718</td>\n",
       "      <td>0.0</td>\n",
       "      <td>0.0</td>\n",
       "      <td>0.132122</td>\n",
       "      <td>0.0</td>\n",
       "      <td>0.0</td>\n",
       "      <td>0.0</td>\n",
       "      <td>0.0</td>\n",
       "      <td>0.0</td>\n",
       "      <td>0.0</td>\n",
       "      <td>0.0</td>\n",
       "      <td>0.346386</td>\n",
       "      <td>0.0</td>\n",
       "      <td>0.0</td>\n",
       "      <td>0.0</td>\n",
       "      <td>0.176609</td>\n",
       "      <td>0.0</td>\n",
       "      <td>0.121373</td>\n",
       "      <td>0.0</td>\n",
       "      <td>0.190595</td>\n",
       "      <td>0.0</td>\n",
       "      <td>0.0</td>\n",
       "      <td>0.0</td>\n",
       "      <td>0.0</td>\n",
       "      <td>0.0</td>\n",
       "      <td>0.0</td>\n",
       "      <td>0.000000</td>\n",
       "      <td>0.0</td>\n",
       "      <td>0.0</td>\n",
       "      <td>0.0</td>\n",
       "      <td>0.0</td>\n",
       "      <td>0.0</td>\n",
       "      <td>0.181284</td>\n",
       "      <td>0.000000</td>\n",
       "      <td>0.0</td>\n",
       "      <td>0.0</td>\n",
       "      <td>0.129573</td>\n",
       "      <td>0.0</td>\n",
       "      <td>0.0</td>\n",
       "      <td>0.0</td>\n",
       "      <td>0.161475</td>\n",
       "      <td>0.0</td>\n",
       "      <td>0.0</td>\n",
       "      <td>0.0</td>\n",
       "      <td>0.0</td>\n",
       "      <td>0.0</td>\n",
       "      <td>0.0</td>\n",
       "      <td>0.000000</td>\n",
       "      <td>0.0</td>\n",
       "      <td>0.0</td>\n",
       "      <td>0.0</td>\n",
       "      <td>0.0</td>\n",
       "      <td>0.104929</td>\n",
       "      <td>0.0</td>\n",
       "      <td>0.0</td>\n",
       "      <td>0.0</td>\n",
       "      <td>0.159605</td>\n",
       "      <td>0.0</td>\n",
       "      <td>0.0</td>\n",
       "      <td>0.0</td>\n",
       "      <td>0.0</td>\n",
       "      <td>0.0</td>\n",
       "      <td>0.0</td>\n",
       "      <td>0.0</td>\n",
       "      <td>0.0</td>\n",
       "      <td>0.0</td>\n",
       "      <td>0.0</td>\n",
       "      <td>0.0</td>\n",
       "      <td>0.0</td>\n",
       "      <td>0.166786</td>\n",
       "      <td>0.0</td>\n",
       "      <td>0.0</td>\n",
       "      <td>0.0</td>\n",
       "      <td>0.0</td>\n",
       "      <td>0.0</td>\n",
       "      <td>0.117576</td>\n",
       "      <td>0.0</td>\n",
       "      <td>0.0</td>\n",
       "      <td>0.0</td>\n",
       "      <td>0.000000</td>\n",
       "      <td>0.000000</td>\n",
       "      <td>0.0</td>\n",
       "      <td>0.0</td>\n",
       "      <td>0.0</td>\n",
       "      <td>0.0</td>\n",
       "      <td>0.0</td>\n",
       "      <td>0.0</td>\n",
       "      <td>0.0</td>\n",
       "      <td>0.116003</td>\n",
       "      <td>0.0</td>\n",
       "      <td>0.00000</td>\n",
       "      <td>0.136</td>\n",
       "      <td>0.188905</td>\n",
       "      <td>0.0</td>\n",
       "      <td>0.0</td>\n",
       "      <td>0.0</td>\n",
       "      <td>0.0</td>\n",
       "      <td>0.0</td>\n",
       "      <td>0.0</td>\n",
       "      <td>0.0</td>\n",
       "      <td>0.0</td>\n",
       "      <td>0.0</td>\n",
       "      <td>0.0</td>\n",
       "      <td>0.0</td>\n",
       "      <td>0.0</td>\n",
       "      <td>0.0</td>\n",
       "      <td>0.0</td>\n",
       "      <td>0.127677</td>\n",
       "      <td>0.0</td>\n",
       "      <td>0.0</td>\n",
       "      <td>0.153517</td>\n",
       "      <td>0.0</td>\n",
       "      <td>0.0</td>\n",
       "      <td>0.127388</td>\n",
       "      <td>0.0</td>\n",
       "      <td>0.0</td>\n",
       "      <td>0.0</td>\n",
       "      <td>0.0</td>\n",
       "      <td>0.0</td>\n",
       "      <td>0.000000</td>\n",
       "      <td>0.0</td>\n",
       "      <td>0.177743</td>\n",
       "      <td>0.15619</td>\n",
       "      <td>0.0</td>\n",
       "      <td>0.0</td>\n",
       "      <td>0.169901</td>\n",
       "      <td>0.0</td>\n",
       "      <td>0.0</td>\n",
       "      <td>0.00000</td>\n",
       "      <td>0.0</td>\n",
       "      <td>0.0</td>\n",
       "      <td>0.0</td>\n",
       "      <td>0.0</td>\n",
       "      <td>0.0</td>\n",
       "      <td>0.0</td>\n",
       "      <td>0.0</td>\n",
       "      <td>0.0</td>\n",
       "      <td>0.0</td>\n",
       "      <td>0.0</td>\n",
       "      <td>0.0</td>\n",
       "      <td>0.147423</td>\n",
       "      <td>0.0</td>\n",
       "      <td>0.0</td>\n",
       "      <td>0.0</td>\n",
       "      <td>0.0</td>\n",
       "      <td>0.000000</td>\n",
       "      <td>0.0</td>\n",
       "      <td>0.000000</td>\n",
       "      <td>0.0</td>\n",
       "      <td>0.206381</td>\n",
       "      <td>0.0</td>\n",
       "      <td>0.0</td>\n",
       "      <td>0.0</td>\n",
       "      <td>0.0</td>\n",
       "      <td>0.0</td>\n",
       "      <td>0.0</td>\n",
       "      <td>0.0</td>\n",
       "      <td>0.0</td>\n",
       "      <td>0.0</td>\n",
       "      <td>0.0</td>\n",
       "      <td>0.0</td>\n",
       "      <td>0.0</td>\n",
       "      <td>0.0</td>\n",
       "      <td>0.0</td>\n",
       "    </tr>\n",
       "  </tbody>\n",
       "</table>\n",
       "</div>"
      ],
      "text/plain": [
       "                                                                                   sentence  scientific  total_chars  freq_chars_alpha  freq_chars_upper  freq_chars_digit  freq_chars_space  freq_chars_special  total_words  freq_words_short  avg_word_length  freq_unique_words  vocab_richness_hapax_legomena  vocab_richness_hapax_dislegomena    $   ''    (    )         ,   --         .    :        CC        CD        DT   EX   FW        IN        JJ  JJR  JJS   LS   MD        NN       NNP  NNPS       NNS  PDT  POS  PRP  PRP$   RB  RBR       RBS   RP  SYM   TO   UH   VB  VBD  VBG  VBN       VBP  VBZ  WDT   WP  WP$  WRB   ``    #  is_passive  / a /     / al/     / an/     / ar/  / as/  / be/  / ca/  / co/  / da/  / de/  / di/  / do/  / ex/  / fi/  / fo/  / fr/  / ha/  / im/     / in/  / is/  / it/  / le/  / li/  / lo/    / ma/   / me/     / mo/  / ne/  / no/  / of/  / on/  / pa/     / po/  / pr/     / re/  / se/  / si/  / so/  / st/  / su/     / th/     / to/  / tr/  / us/  / we/  / wh/  / wi/  / wo/  / yo/  /, a/     /, t/  /, w/  /a s/  /abl/  /ach/  /act/  /age/  /ain/  /al /  /all/  /an /     /and/  /app/     /are/  /art/  /as /  /ase/  /at /  /ata/  /ate/  /ati/  /ave/  /be /  /ble/  /by /  /cal/  /can/  /ce /  /ces/  /ch /  /com/  /con/  /cti/  /d a/  /d b/  /d i/     /d t/  /dat/  /der/     /e a/  /e b/  /e c/  /e d/  /e e/  /e f/  /e i/  /e l/     /e m/  /e n/  /e o/  /e p/     /e r/  /e s/     /e t/  /e w/     /e, /  /ear/  /ect/  /ed /  /en /  /enc/  /ent/     /er /  /era/  /ere/  /ers/  /es /  /ese/     /ess/     /est/  /eve/  /f t/     /for/  /g t/  /hat/  /hav/     /he /  /her/  /his/  /how/  /ica/  /ide/  /ill/     /imp/  /in /  /ine/  /ing/  /int/     /ion/  /is /  /ist/  /it /     /ith/  /iti/  /ity/  /ive/  /lat/  /le /  /ll /  /ly /  /mat/  /me /  /men/  /mod/  /mpl/     /n a/  /n i/  /n o/  /n t/  /nal/  /nce/     /nd /  /ne /  /ng /  /not/     /ns /     /nt /  /nte/  /nti/  /o t/  /ode/  /of /  /om /  /omp/     /on /  /one/    /ons/  /or /     /ore/  /orm/  /ot /  /ou /  /our/  /ove/  /ow /  /par/  /per/  /ple/  /pre/  /pro/  /r a/  /r t/  /rat/     /re /  /rea/  /red/     /res/  /rs /  /ry /     /s a/  /s c/  /s f/  /s i/  /s o/  /s s/     /s t/  /s w/     /s, /    /se /  /sed/  /sin/     /st /  /sta/  /ste/    /sti/  /str/  /t a/  /t i/  /t o/  /t t/  /tat/  /te /  /ted/  /ter/  /th /  /tha/     /the/  /thi/  /tic/  /tim/  /tin/     /tio/  /tiv/     /to /  /tra/     /tri/  /ts /  /tur/  /ty /  /ur /  /ure/  /use/  /ut /  /ve /  /ver/  /we /  /wit/  /wor/  /y t/  /you/\n",
       "0                                                    Important questions to answer include:           0           38          0.868421          0.026316          0.000000          0.105263            0.026316            5               0.2         6.600000           1.000000                       1.000000                          0.000000  0.0  0.0  0.0  0.0  0.000000  0.0  0.000000  0.2  0.000000  0.000000  0.000000  0.0  0.0  0.000000  0.200000  0.0  0.0  0.0  0.0  0.200000  0.000000   0.0  0.200000  0.0  0.0  0.0   0.0  0.0  0.0  0.000000  0.0  0.0  0.2  0.0  0.2  0.0  0.0  0.0  0.000000  0.0  0.0  0.0  0.0  0.0  0.0  0.0           0    0.0  0.000000  0.206416  0.000000    0.0    0.0    0.0    0.0    0.0    0.0    0.0    0.0    0.0    0.0    0.0    0.0    0.0    0.0  0.198306    0.0    0.0    0.0    0.0    0.0  0.00000  0.0000  0.000000    0.0    0.0    0.0    0.0    0.0  0.000000    0.0  0.000000    0.0    0.0    0.0    0.0    0.0  0.000000  0.201999    0.0    0.0    0.0    0.0    0.0    0.0    0.0    0.0  0.000000    0.0    0.0    0.0    0.0    0.0    0.0    0.0    0.0    0.0    0.0  0.000000    0.0  0.000000    0.0    0.0    0.0    0.0    0.0    0.0    0.0    0.0    0.0    0.0    0.0    0.0    0.0    0.0    0.0    0.0    0.0    0.0    0.0    0.0    0.0    0.0  0.000000    0.0    0.0  0.000000    0.0    0.0    0.0    0.0    0.0    0.0    0.0  0.000000    0.0    0.0    0.0  0.000000    0.0  0.000000    0.0  0.000000    0.0    0.0    0.0    0.0    0.0    0.0  0.236995    0.0    0.0    0.0    0.0    0.0  0.000000  0.341855    0.0    0.0  0.000000    0.0    0.0    0.0  0.000000    0.0    0.0    0.0    0.0    0.0    0.0  0.365176    0.0    0.0    0.0    0.0  0.191919    0.0    0.0    0.0  0.000000    0.0    0.0    0.0    0.0    0.0    0.0    0.0    0.0    0.0    0.0    0.0    0.0  0.000000    0.0    0.0    0.0    0.0    0.0  0.000000    0.0    0.0    0.0  0.321529  0.281711    0.0    0.0    0.0    0.0    0.0    0.0    0.0  0.000000    0.0  0.27585  0.000  0.000000    0.0    0.0    0.0    0.0    0.0    0.0    0.0    0.0    0.0    0.0    0.0    0.0    0.0    0.0  0.000000    0.0    0.0  0.000000    0.0    0.0  0.000000    0.0    0.0    0.0    0.0    0.0  0.248275    0.0  0.000000  0.00000    0.0    0.0  0.000000    0.0    0.0  0.36236    0.0    0.0    0.0    0.0    0.0    0.0    0.0    0.0    0.0    0.0    0.0  0.000000    0.0    0.0    0.0    0.0  0.201042    0.0  0.204565    0.0  0.000000    0.0    0.0    0.0    0.0    0.0    0.0    0.0    0.0    0.0    0.0    0.0    0.0    0.0    0.0\n",
       "1  For regression algorithms, the three most popular metrics are MAE, MSE and the R²-score.           0           88          0.795455          0.090909          0.011364          0.147727            0.045455           14               0.5         5.142857           0.928571                       0.857143                          0.076923  0.0  0.0  0.0  0.0  0.142857  0.0  0.071429  0.0  0.071429  0.071429  0.142857  0.0  0.0  0.071429  0.071429  0.0  0.0  0.0  0.0  0.142857  0.214286   0.0  0.071429  0.0  0.0  0.0   0.0  0.0  0.0  0.071429  0.0  0.0  0.0  0.0  0.0  0.0  0.0  0.0  0.071429  0.0  0.0  0.0  0.0  0.0  0.0  0.0           0    0.0  0.163114  0.112855  0.157899    0.0    0.0    0.0    0.0    0.0    0.0    0.0    0.0    0.0    0.0    0.0    0.0    0.0    0.0  0.000000    0.0    0.0    0.0    0.0    0.0  0.16389  0.1905  0.163054    0.0    0.0    0.0    0.0    0.0  0.194641    0.0  0.128324    0.0    0.0    0.0    0.0    0.0  0.218343  0.000000    0.0    0.0    0.0    0.0    0.0    0.0    0.0    0.0  0.185143    0.0    0.0    0.0    0.0    0.0    0.0    0.0    0.0    0.0    0.0  0.119387    0.0  0.160165    0.0    0.0    0.0    0.0    0.0    0.0    0.0    0.0    0.0    0.0    0.0    0.0    0.0    0.0    0.0    0.0    0.0    0.0    0.0    0.0    0.0    0.0  0.152718    0.0    0.0  0.132122    0.0    0.0    0.0    0.0    0.0    0.0    0.0  0.346386    0.0    0.0    0.0  0.176609    0.0  0.121373    0.0  0.190595    0.0    0.0    0.0    0.0    0.0    0.0  0.000000    0.0    0.0    0.0    0.0    0.0  0.181284  0.000000    0.0    0.0  0.129573    0.0    0.0    0.0  0.161475    0.0    0.0    0.0    0.0    0.0    0.0  0.000000    0.0    0.0    0.0    0.0  0.104929    0.0    0.0    0.0  0.159605    0.0    0.0    0.0    0.0    0.0    0.0    0.0    0.0    0.0    0.0    0.0    0.0  0.166786    0.0    0.0    0.0    0.0    0.0  0.117576    0.0    0.0    0.0  0.000000  0.000000    0.0    0.0    0.0    0.0    0.0    0.0    0.0  0.116003    0.0  0.00000  0.136  0.188905    0.0    0.0    0.0    0.0    0.0    0.0    0.0    0.0    0.0    0.0    0.0    0.0    0.0    0.0  0.127677    0.0    0.0  0.153517    0.0    0.0  0.127388    0.0    0.0    0.0    0.0    0.0  0.000000    0.0  0.177743  0.15619    0.0    0.0  0.169901    0.0    0.0  0.00000    0.0    0.0    0.0    0.0    0.0    0.0    0.0    0.0    0.0    0.0    0.0  0.147423    0.0    0.0    0.0    0.0  0.000000    0.0  0.000000    0.0  0.206381    0.0    0.0    0.0    0.0    0.0    0.0    0.0    0.0    0.0    0.0    0.0    0.0    0.0    0.0"
      ]
     },
     "execution_count": 101,
     "metadata": {},
     "output_type": "execute_result"
    }
   ],
   "source": [
    "df_v2_freq_full.head(2)"
   ]
  },
  {
   "cell_type": "code",
   "execution_count": 137,
   "id": "6e5ad6ea-f112-4757-9cf2-c5d2cd62b5ef",
   "metadata": {},
   "outputs": [],
   "source": [
    "# add another exclusion\n",
    "exclude_further += \":\""
   ]
  },
  {
   "cell_type": "code",
   "execution_count": 138,
   "id": "b6f80eb9-3ce5-4e63-9fa1-999645e81056",
   "metadata": {},
   "outputs": [
    {
     "name": "stdout",
     "output_type": "stream",
     "text": [
      "training X: ['freq_words_short', 'freq_unique_words', 'vocab_richness_hapax_legomena', 'vocab_richness_hapax_dislegomena', '$', \"''\", '(', ')', ',', '--', '.', 'CC', 'CD', 'DT', 'EX', 'FW', 'IN', 'JJ', 'JJR', 'JJS', 'LS', 'MD', 'NN', 'NNP', 'NNPS', 'NNS', 'PDT', 'POS', 'PRP', 'PRP$', 'RB', 'RBR', 'RBS', 'RP', 'SYM', 'TO', 'UH', 'VB', 'VBD', 'VBG', 'VBN', 'VBP', 'VBZ', 'WDT', 'WP', 'WP$', 'WRB', '``', '#', 'is_passive', '/ a /', '/ al/', '/ an/', '/ ar/', '/ as/', '/ be/', '/ ca/', '/ co/', '/ da/', '/ de/', '/ di/', '/ do/', '/ ex/', '/ fi/', '/ fo/', '/ fr/', '/ ha/', '/ im/', '/ in/', '/ is/', '/ it/', '/ le/', '/ li/', '/ lo/', '/ ma/', '/ me/', '/ mo/', '/ ne/', '/ no/', '/ of/', '/ on/', '/ pa/', '/ po/', '/ pr/', '/ re/', '/ se/', '/ si/', '/ so/', '/ st/', '/ su/', '/ th/', '/ to/', '/ tr/', '/ us/', '/ we/', '/ wh/', '/ wi/', '/ wo/', '/ yo/', '/, a/', '/, t/', '/, w/', '/a s/', '/abl/', '/ach/', '/act/', '/age/', '/ain/', '/al /', '/all/', '/an /', '/and/', '/app/', '/are/', '/art/', '/as /', '/ase/', '/at /', '/ata/', '/ate/', '/ati/', '/ave/', '/be /', '/ble/', '/by /', '/cal/', '/can/', '/ce /', '/ces/', '/ch /', '/com/', '/con/', '/cti/', '/d a/', '/d b/', '/d i/', '/d t/', '/dat/', '/der/', '/e a/', '/e b/', '/e c/', '/e d/', '/e e/', '/e f/', '/e i/', '/e l/', '/e m/', '/e n/', '/e o/', '/e p/', '/e r/', '/e s/', '/e t/', '/e w/', '/e, /', '/ear/', '/ect/', '/ed /', '/en /', '/enc/', '/ent/', '/er /', '/era/', '/ere/', '/ers/', '/es /', '/ese/', '/ess/', '/est/', '/eve/', '/f t/', '/for/', '/g t/', '/hat/', '/hav/', '/he /', '/her/', '/his/', '/how/', '/ica/', '/ide/', '/ill/', '/imp/', '/in /', '/ine/', '/ing/', '/int/', '/ion/', '/is /', '/ist/', '/it /', '/ith/', '/iti/', '/ity/', '/ive/', '/lat/', '/le /', '/ll /', '/ly /', '/mat/', '/me /', '/men/', '/mod/', '/mpl/', '/n a/', '/n i/', '/n o/', '/n t/', '/nal/', '/nce/', '/nd /', '/ne /', '/ng /', '/not/', '/ns /', '/nt /', '/nte/', '/nti/', '/o t/', '/ode/', '/of /', '/om /', '/omp/', '/on /', '/one/', '/ons/', '/or /', '/ore/', '/orm/', '/ot /', '/ou /', '/our/', '/ove/', '/ow /', '/par/', '/per/', '/ple/', '/pre/', '/pro/', '/r a/', '/r t/', '/rat/', '/re /', '/rea/', '/red/', '/res/', '/rs /', '/ry /', '/s a/', '/s c/', '/s f/', '/s i/', '/s o/', '/s s/', '/s t/', '/s w/', '/s, /', '/se /', '/sed/', '/sin/', '/st /', '/sta/', '/ste/', '/sti/', '/str/', '/t a/', '/t i/', '/t o/', '/t t/', '/tat/', '/te /', '/ted/', '/ter/', '/th /', '/tha/', '/the/', '/thi/', '/tic/', '/tim/', '/tin/', '/tio/', '/tiv/', '/to /', '/tra/', '/tri/', '/ts /', '/tur/', '/ty /', '/ur /', '/ure/', '/use/', '/ut /', '/ve /', '/ver/', '/we /', '/wit/', '/wor/', '/y t/', '/you/']\n",
      "\n",
      "training y: scientific\n",
      "\n",
      "excluded: ['sentence', 'scientific', 'total_chars', 'total_words', 'avg_word_length', 'freq_chars_upper', 'freq_chars_alpha', 'freq_chars_upper', 'freq_chars_digit', 'freq_chars_space', 'freq_chars_special', ':']\n"
     ]
    },
    {
     "data": {
      "image/png": "[encoded data removed]",
      "text/plain": [
       "<Figure size 432x288 with 2 Axes>"
      ]
     },
     "metadata": {
      "needs_background": "light"
     },
     "output_type": "display_data"
    }
   ],
   "source": [
    "exclude_from_training = [\"sentence\", \"scientific\"] + total_values + exclude_further\n",
    "\n",
    "X = df_v2_freq_full.drop(exclude_from_training, axis=1)\n",
    "y = df_v2_freq_full['scientific']\n",
    "X_train, X_test, y_train, y_test = train_test_split(X, y, test_size = 0.20)\n",
    "\n",
    "clf_svm = SVC(kernel='rbf')\n",
    "clf_svm.fit(X_train, y_train)\n",
    "\n",
    "\n",
    "y_pred = clf_svm.predict(X_test)\n",
    "plot_confusion_matrix(clf_svm,\n",
    "                             X_test,\n",
    "                             y_test,\n",
    "                             display_labels=[\"non-sci\", \"sci\"],\n",
    "                             cmap=plt.cm.Blues,\n",
    "                             normalize=None,\n",
    "                            )\n",
    "\n",
    "print(f\"training X: {list(X.columns)}\\n\")\n",
    "print(f\"training y: {y.name}\\n\")\n",
    "\n",
    "print(f\"excluded: {exclude_from_training}\")"
   ]
  },
  {
   "cell_type": "code",
   "execution_count": 139,
   "id": "1276d16e-9428-4179-b438-fc1215b0e903",
   "metadata": {},
   "outputs": [
    {
     "name": "stdout",
     "output_type": "stream",
     "text": [
      "              precision    recall  f1-score   support\n",
      "\n",
      "     non-sci       0.92      0.76      0.83       608\n",
      "         sci       0.79      0.93      0.85       592\n",
      "\n",
      "    accuracy                           0.84      1200\n",
      "   macro avg       0.85      0.85      0.84      1200\n",
      "weighted avg       0.85      0.84      0.84      1200\n",
      "\n"
     ]
    }
   ],
   "source": [
    "print(classification_report(y_test,y_pred, target_names=[\"non-sci\", \"sci\"]))"
   ]
  },
  {
   "cell_type": "markdown",
   "id": "f5dbf31f-b818-4875-8a0b-3075da234316",
   "metadata": {},
   "source": [
    "### Hyperparameter tuning"
   ]
  },
  {
   "cell_type": "code",
   "execution_count": 140,
   "id": "676907cd-cceb-47b3-a40d-c0741ac17f9c",
   "metadata": {},
   "outputs": [
    {
     "name": "stdout",
     "output_type": "stream",
     "text": [
      "Fitting 5 folds for each of 25 candidates, totalling 125 fits\n"
     ]
    },
    {
     "data": {
      "text/plain": [
       "GridSearchCV(estimator=SVC(), n_jobs=2,\n",
       "             param_grid={'C': [0.1, 1, 10, 100, 1000],\n",
       "                         'gamma': [1, 0.1, 0.01, 0.001, 0.0001],\n",
       "                         'kernel': ['rbf']},\n",
       "             verbose=2)"
      ]
     },
     "execution_count": 140,
     "metadata": {},
     "output_type": "execute_result"
    }
   ],
   "source": [
    "from sklearn.model_selection import GridSearchCV\n",
    "\n",
    "# defining parameter range\n",
    "param_grid = {'C': [0.1, 1, 10, 100, 1000],\n",
    "                'gamma': [1, 0.1, 0.01, 0.001, 0.0001],\n",
    "                'kernel': ['rbf']}\n",
    "\n",
    "grid = GridSearchCV(SVC(), param_grid, refit = True, verbose = 2, n_jobs=2)\n",
    "# n_jobs=2, verbose = 2\n",
    "# fitting the model for grid search\n",
    "grid.fit(X_train, y_train)"
   ]
  },
  {
   "cell_type": "code",
   "execution_count": 141,
   "id": "244b27e6-7175-43ea-958c-36df71ad621d",
   "metadata": {},
   "outputs": [
    {
     "name": "stdout",
     "output_type": "stream",
     "text": [
      "{'C': 1000, 'gamma': 0.01, 'kernel': 'rbf'}\n",
      "SVC(C=1000, gamma=0.01)\n"
     ]
    },
    {
     "data": {
      "text/plain": [
       "<sklearn.metrics._plot.confusion_matrix.ConfusionMatrixDisplay at 0x127027400>"
      ]
     },
     "execution_count": 141,
     "metadata": {},
     "output_type": "execute_result"
    },
    {
     "data": {
      "image/png": "[encoded data removed]",
      "text/plain": [
       "<Figure size 432x288 with 2 Axes>"
      ]
     },
     "metadata": {
      "needs_background": "light"
     },
     "output_type": "display_data"
    }
   ],
   "source": [
    "# print best parameter after tuning\n",
    "print(grid.best_params_)\n",
    "  \n",
    "# print how our model looks after hyper-parameter tuning\n",
    "print(grid.best_estimator_)\n",
    "\n",
    "grid_predictions = grid.predict(X_test)\n",
    "  \n",
    "plot_confusion_matrix(grid,\n",
    "                             X_test,\n",
    "                             y_test,\n",
    "                             display_labels=[\"non-sci\", \"sci\"],\n",
    "                             cmap=plt.cm.Blues,\n",
    "                             normalize=None,\n",
    "                            )"
   ]
  },
  {
   "cell_type": "code",
   "execution_count": 107,
   "id": "593e8f50-eb7a-4c4a-9051-9dacfc7a13ca",
   "metadata": {},
   "outputs": [
    {
     "name": "stdout",
     "output_type": "stream",
     "text": [
      "              precision    recall  f1-score   support\n",
      "\n",
      "     non-sci       0.86      0.78      0.82       596\n",
      "         sci       0.80      0.87      0.83       604\n",
      "\n",
      "    accuracy                           0.83      1200\n",
      "   macro avg       0.83      0.83      0.83      1200\n",
      "weighted avg       0.83      0.83      0.83      1200\n",
      "\n"
     ]
    }
   ],
   "source": [
    "# print classification report\n",
    "print(classification_report(y_test, grid_predictions, target_names=[\"non-sci\", \"sci\"]))"
   ]
  },
  {
   "cell_type": "markdown",
   "id": "98521b65-9cae-4694-a1d0-441c4ce380c1",
   "metadata": {},
   "source": [
    "### Validation with student reports"
   ]
  },
  {
   "cell_type": "code",
   "execution_count": 117,
   "id": "cd59b6f8-a9dc-47f6-9c96-aa15ef448f64",
   "metadata": {},
   "outputs": [
    {
     "name": "stdout",
     "output_type": "stream",
     "text": [
      "char trigrams\n"
     ]
    },
    {
     "data": {
      "application/vnd.jupyter.widget-view+json": {
       "model_id": "0c2869fff11c4954b67b75833f46ee34",
       "version_major": 2,
       "version_minor": 0
      },
      "text/plain": [
       "  0%|          | 0/4389 [00:00<?, ?it/s]"
      ]
     },
     "metadata": {},
     "output_type": "display_data"
    }
   ],
   "source": [
    "df_val_freq_full = df_val_freq.copy()\n",
    "(df_val_freq_full, df_val_freq_full_colls) = add_features_trigrams(df_val_freq_full)"
   ]
  },
  {
   "cell_type": "code",
   "execution_count": 142,
   "id": "4bf7d53b-78fe-4adb-becb-10b9904bc0d4",
   "metadata": {},
   "outputs": [
    {
     "data": {
      "text/plain": [
       "(4389, 312)"
      ]
     },
     "execution_count": 142,
     "metadata": {},
     "output_type": "execute_result"
    }
   ],
   "source": [
    "df_val_freq_full.shape"
   ]
  },
  {
   "cell_type": "code",
   "execution_count": 143,
   "id": "2661c3ef-f0b0-4feb-b196-7751d07f1070",
   "metadata": {},
   "outputs": [
    {
     "name": "stdout",
     "output_type": "stream",
     "text": [
      "              precision    recall  f1-score   support\n",
      "\n",
      "     non-sci       1.00      0.63      0.77      4389\n",
      "         sci       0.00      0.00      0.00         0\n",
      "\n",
      "    accuracy                           0.63      4389\n",
      "   macro avg       0.50      0.31      0.39      4389\n",
      "weighted avg       1.00      0.63      0.77      4389\n",
      "\n"
     ]
    },
    {
     "name": "stderr",
     "output_type": "stream",
     "text": [
      "Recall and F-score are ill-defined and being set to 0.0 in labels with no true samples. Use `zero_division` parameter to control this behavior.\n",
      "Recall and F-score are ill-defined and being set to 0.0 in labels with no true samples. Use `zero_division` parameter to control this behavior.\n",
      "Recall and F-score are ill-defined and being set to 0.0 in labels with no true samples. Use `zero_division` parameter to control this behavior.\n"
     ]
    }
   ],
   "source": [
    "# to allow for repeated execution\n",
    "try:\n",
    "    val_pred = grid.predict(df_val_freq_full.drop(exclude_from_training + [\"pred_sci\"], axis=1))\n",
    "except ValueError as error:\n",
    "    val_pred = grid.predict(df_val_freq_full.drop(exclude_from_training, axis=1))\n",
    "\n",
    "df_val_freq_full['scientific'] = 0\n",
    "df_val_freq_full['pred_sci'] = val_pred\n",
    "\n",
    "try:\n",
    "    print(classification_report(df_val_freq_full['scientific'],df_val_freq_full['pred_sci'], target_names=[\"non-sci\", \"sci\"]))\n",
    "except ValueError:\n",
    "    print(classification_report(df_val_freq_full['scientific'],df_val_freq_full['pred_sci'], target_names=[\"non-sci\"]))"
   ]
  },
  {
   "cell_type": "code",
   "execution_count": 144,
   "id": "02a4235f-8120-4b8e-8eec-8d3a4d60ca36",
   "metadata": {},
   "outputs": [
    {
     "data": {
      "text/plain": [
       "<AxesSubplot:>"
      ]
     },
     "execution_count": 144,
     "metadata": {},
     "output_type": "execute_result"
    },
    {
     "data": {
      "image/png": "[encoded data removed]",
      "text/plain": [
       "<Figure size 432x288 with 1 Axes>"
      ]
     },
     "metadata": {
      "needs_background": "light"
     },
     "output_type": "display_data"
    }
   ],
   "source": [
    "df_val_freq_full.pred_sci.hist()"
   ]
  },
  {
   "cell_type": "markdown",
   "id": "daead269-5a1c-4261-bebb-89f056cdcf7e",
   "metadata": {},
   "source": [
    "Much better. Majority is considered as non-scientific."
   ]
  },
  {
   "cell_type": "markdown",
   "id": "8d7c208d-1c1a-45b8-ae4c-09339f2384a7",
   "metadata": {},
   "source": [
    "### Validation with scientific sentences from latest tf cleaned"
   ]
  },
  {
   "cell_type": "code",
   "execution_count": 127,
   "id": "5b377ccd-5511-45b1-901c-092eaeb12523",
   "metadata": {},
   "outputs": [
    {
     "name": "stdout",
     "output_type": "stream",
     "text": [
      "char trigrams\n"
     ]
    },
    {
     "data": {
      "application/vnd.jupyter.widget-view+json": {
       "model_id": "b67f262376ce4a1e91769d357abf8182",
       "version_major": 2,
       "version_minor": 0
      },
      "text/plain": [
       "  0%|          | 0/5000 [00:00<?, ?it/s]"
      ]
     },
     "metadata": {},
     "output_type": "display_data"
    }
   ],
   "source": [
    "df_val_sci_freq_full = df_val_sci_freq.copy()\n",
    "(df_val_sci_freq_full, df_val_sci_full_colls) = add_features_trigrams(df_val_sci_freq_full)"
   ]
  },
  {
   "cell_type": "code",
   "execution_count": 145,
   "id": "00908d95-d815-4ee3-9168-29ce530fb69b",
   "metadata": {},
   "outputs": [
    {
     "data": {
      "text/plain": [
       "(5000, 312)"
      ]
     },
     "execution_count": 145,
     "metadata": {},
     "output_type": "execute_result"
    }
   ],
   "source": [
    "df_val_sci_freq_full.shape"
   ]
  },
  {
   "cell_type": "code",
   "execution_count": 146,
   "id": "3658b3b8-69ff-4bab-924b-d3dfdaeaf3fb",
   "metadata": {},
   "outputs": [
    {
     "name": "stdout",
     "output_type": "stream",
     "text": [
      "              precision    recall  f1-score   support\n",
      "\n",
      "     non-sci       0.00      0.00      0.00         0\n",
      "         sci       1.00      0.66      0.80      5000\n",
      "\n",
      "    accuracy                           0.66      5000\n",
      "   macro avg       0.50      0.33      0.40      5000\n",
      "weighted avg       1.00      0.66      0.80      5000\n",
      "\n"
     ]
    },
    {
     "name": "stderr",
     "output_type": "stream",
     "text": [
      "Recall and F-score are ill-defined and being set to 0.0 in labels with no true samples. Use `zero_division` parameter to control this behavior.\n",
      "Recall and F-score are ill-defined and being set to 0.0 in labels with no true samples. Use `zero_division` parameter to control this behavior.\n",
      "Recall and F-score are ill-defined and being set to 0.0 in labels with no true samples. Use `zero_division` parameter to control this behavior.\n"
     ]
    }
   ],
   "source": [
    "# to allow for repeated execution\n",
    "\n",
    "try:\n",
    "    val_pred_sci = grid.predict(df_val_sci_freq_full.drop(exclude_from_training + [\"pred_sci\"], axis=1))\n",
    "except KeyError as error:\n",
    "    val_pred_sci = grid.predict(df_val_sci_freq_full.drop([c for c in exclude_from_training if c != \"scientific\"], axis=1))\n",
    "\n",
    "df_val_sci_freq_full['scientific'] = 1\n",
    "df_val_sci_freq_full['pred_sci'] = val_pred_sci\n",
    "\n",
    "\n",
    "print(classification_report(df_val_sci_freq_full['scientific'],df_val_sci_freq_full['pred_sci'], target_names=[\"non-sci\", \"sci\"]))"
   ]
  },
  {
   "cell_type": "code",
   "execution_count": 147,
   "id": "e455fcc1-54e5-42c3-9bf5-99706b46e8ef",
   "metadata": {},
   "outputs": [
    {
     "data": {
      "text/plain": [
       "<AxesSubplot:>"
      ]
     },
     "execution_count": 147,
     "metadata": {},
     "output_type": "execute_result"
    },
    {
     "data": {
      "image/png": "[encoded data removed]",
      "text/plain": [
       "<Figure size 432x288 with 1 Axes>"
      ]
     },
     "metadata": {
      "needs_background": "light"
     },
     "output_type": "display_data"
    }
   ],
   "source": [
    "df_val_sci_freq_full.pred_sci.hist()"
   ]
  },
  {
   "cell_type": "markdown",
   "id": "3d0715ec-df79-460e-b6b9-49bb9fd58e75",
   "metadata": {},
   "source": [
    "perfect"
   ]
  },
  {
   "cell_type": "markdown",
   "id": "f38c2ec5-f8e5-4fd1-8a19-eb48fb04b9f0",
   "metadata": {
    "tags": []
   },
   "source": [
    "### SHAP insights\n",
    "\n",
    "Now we can have a look into which features are most important."
   ]
  },
  {
   "cell_type": "code",
   "execution_count": 148,
   "id": "94a10ecd-966d-4e71-b717-74d606a8a9b6",
   "metadata": {},
   "outputs": [
    {
     "data": {
      "application/vnd.jupyter.widget-view+json": {
       "model_id": "d1cc4a5b4c164312a334492f8129b8cb",
       "version_major": 2,
       "version_minor": 0
      },
      "text/plain": [
       "  0%|          | 0/15 [00:00<?, ?it/s]"
      ]
     },
     "metadata": {},
     "output_type": "display_data"
    }
   ],
   "source": [
    "# https://towardsdatascience.com/explain-any-models-with-the-shap-values-use-the-kernelexplainer-79de9464897a\n",
    "import shap\n",
    "\n",
    "# The SHAP values\n",
    "X_sample = shap.sample(X, nsamples=15, random_state=0)\n",
    "\n",
    "svm_explainer = shap.KernelExplainer(grid.predict,X_sample)\n",
    "svm_shap_values = svm_explainer.shap_values(X_sample)"
   ]
  },
  {
   "cell_type": "code",
   "execution_count": 149,
   "id": "e89b36f0-6d6f-4522-8720-69856b692e96",
   "metadata": {
    "tags": []
   },
   "outputs": [
    {
     "data": {
      "image/png": "[encoded data removed]",
      "text/plain": [
       "<Figure size 576x684 with 2 Axes>"
      ]
     },
     "metadata": {
      "needs_background": "light"
     },
     "output_type": "display_data"
    }
   ],
   "source": [
    "# export summary plot\n",
    "shap.summary_plot(svm_shap_values, X_sample, show=True)"
   ]
  },
  {
   "cell_type": "code",
   "execution_count": 152,
   "id": "2a1cb723-262e-49c6-adc4-6ccb0eef7f83",
   "metadata": {},
   "outputs": [
    {
     "data": {
      "image/png": "[encoded data removed]",
      "text/plain": [
       "<Figure size 540x360 with 2 Axes>"
      ]
     },
     "metadata": {
      "needs_background": "light"
     },
     "output_type": "display_data"
    }
   ],
   "source": [
    "shap.dependence_plot(\"PRP\", svm_shap_values, X_sample)"
   ]
  },
  {
   "cell_type": "markdown",
   "id": "29f8da15-43be-491a-806a-68d6ba2aff39",
   "metadata": {},
   "source": [
    "# conclusion\n",
    "\n",
    "- Done. The final model SVM 6 is good enough.\n",
    "- This jupyter notebook gets too large. Hence, creating another one for the final evaluation."
   ]
  },
  {
   "cell_type": "code",
   "execution_count": null,
   "id": "d9bfb58b-1873-4290-a288-a5308d5469ba",
   "metadata": {},
   "outputs": [],
   "source": []
  }
 ],
 "metadata": {
  "kernelspec": {
   "display_name": "Python 3",
   "language": "python",
   "name": "python3"
  },
  "language_info": {
   "codemirror_mode": {
    "name": "ipython",
    "version": 3
   },
   "file_extension": ".py",
   "mimetype": "text/x-python",
   "name": "python",
   "nbconvert_exporter": "python",
   "pygments_lexer": "ipython3",
   "version": "3.9.4"
  }
 },
 "nbformat": 4,
 "nbformat_minor": 5
}
