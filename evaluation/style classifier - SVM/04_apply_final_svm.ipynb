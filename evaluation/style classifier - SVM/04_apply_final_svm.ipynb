{
 "cells": [
  {
   "cell_type": "code",
   "execution_count": 1,
   "id": "b9e349a8-946a-4e94-a02d-ed7644c4d87d",
   "metadata": {},
   "outputs": [],
   "source": [
    "import joblib\n",
    "\n",
    "import pandas as pd\n",
    "import seaborn as sns\n",
    "import matplotlib.pyplot as plt\n",
    "\n",
    "import os\n",
    "\n",
    "# text feature extraction\n",
    "from helper import TextFeatures, CoreNLPHelper\n",
    "import importlib\n",
    "coreNLPfeatures = CoreNLPHelper.CoreNLPFeatures(core_nlp_server_url=\"http://localhost:9000\")"
   ]
  },
  {
   "cell_type": "code",
   "execution_count": 2,
   "id": "cc99b2a3-798e-428b-b317-a63a7577cacb",
   "metadata": {},
   "outputs": [],
   "source": [
    "import_obj = joblib.load('svm_style_classifier_v5_trigram.joblib.z')\n",
    "svm_clf = import_obj['model']\n",
    "svm_clf_df = import_obj['df_train']\n",
    "svm_clf_cols_excluded = import_obj['excluded']\n",
    "svm_clf_trigram_vectorizer = import_obj['trigram_vectorizer']"
   ]
  },
  {
   "cell_type": "markdown",
   "id": "037a5c45-ae63-4df8-91af-79177517fabe",
   "metadata": {},
   "source": [
    "# Load your data"
   ]
  },
  {
   "cell_type": "code",
   "execution_count": 3,
   "id": "07f01256-f6be-4861-8b27-ee1d026a1026",
   "metadata": {},
   "outputs": [],
   "source": [
    "PATH_TO_CSV = os.path.join(\"final_eval_datasets\", \"evaluation_sample3000_GPT_M2.csv\")\n",
    "INPUT_COLUMN_SENTENCES = [\"sent\", \"sent_output\"]\n",
    "OUTPUT_COLUMN_SVM_PREDICTION_SUFFIX = \"style_svm\""
   ]
  },
  {
   "cell_type": "code",
   "execution_count": 4,
   "id": "453c6b30-0267-4c17-a403-b683210e8e69",
   "metadata": {},
   "outputs": [
    {
     "data": {
      "text/html": [
       "<div>\n",
       "<style scoped>\n",
       "    .dataframe tbody tr th:only-of-type {\n",
       "        vertical-align: middle;\n",
       "    }\n",
       "\n",
       "    .dataframe tbody tr th {\n",
       "        vertical-align: top;\n",
       "    }\n",
       "\n",
       "    .dataframe thead th {\n",
       "        text-align: right;\n",
       "    }\n",
       "</style>\n",
       "<table border=\"1\" class=\"dataframe\">\n",
       "  <thead>\n",
       "    <tr style=\"text-align: right;\">\n",
       "      <th></th>\n",
       "      <th>Unnamed: 0</th>\n",
       "      <th>Unnamed: 0.1</th>\n",
       "      <th>sent</th>\n",
       "      <th>true_label</th>\n",
       "      <th>pred_label</th>\n",
       "      <th>prob0</th>\n",
       "      <th>prob1</th>\n",
       "      <th>prob_max</th>\n",
       "      <th>len</th>\n",
       "      <th>sent_masked</th>\n",
       "      <th>source</th>\n",
       "      <th>sent_output</th>\n",
       "    </tr>\n",
       "  </thead>\n",
       "  <tbody>\n",
       "    <tr>\n",
       "      <th>0</th>\n",
       "      <td>0</td>\n",
       "      <td>102226</td>\n",
       "      <td>therefore, for languages like chinese and japa...</td>\n",
       "      <td>1</td>\n",
       "      <td>0</td>\n",
       "      <td>0.670159</td>\n",
       "      <td>0.416702</td>\n",
       "      <td>0.670159</td>\n",
       "      <td>29</td>\n",
       "      <td>therefore, for &lt;unk&gt; like chinese and japanese...</td>\n",
       "      <td>cs_conf</td>\n",
       "      <td>therefore, tokenization is a matter of languag...</td>\n",
       "    </tr>\n",
       "    <tr>\n",
       "      <th>1</th>\n",
       "      <td>1</td>\n",
       "      <td>28200</td>\n",
       "      <td>similar to these subtopics, feature representa...</td>\n",
       "      <td>1</td>\n",
       "      <td>0</td>\n",
       "      <td>0.776326</td>\n",
       "      <td>0.337896</td>\n",
       "      <td>0.776326</td>\n",
       "      <td>40</td>\n",
       "      <td>similar to these subtopics, &lt;unk&gt; &lt;unk&gt; is put...</td>\n",
       "      <td>cs_conf</td>\n",
       "      <td>as an essential element for the three main com...</td>\n",
       "    </tr>\n",
       "    <tr>\n",
       "      <th>2</th>\n",
       "      <td>2</td>\n",
       "      <td>75338</td>\n",
       "      <td>these clusters are ranked by collection select...</td>\n",
       "      <td>1</td>\n",
       "      <td>0</td>\n",
       "      <td>0.590534</td>\n",
       "      <td>0.567582</td>\n",
       "      <td>0.590534</td>\n",
       "      <td>14</td>\n",
       "      <td>these &lt;unk&gt; are ranked by &lt;unk&gt; &lt;unk&gt; to deter...</td>\n",
       "      <td>cs_conf</td>\n",
       "      <td>in order to determine which clusters to search...</td>\n",
       "    </tr>\n",
       "    <tr>\n",
       "      <th>3</th>\n",
       "      <td>3</td>\n",
       "      <td>100804</td>\n",
       "      <td>however, the behavior network is realized by r...</td>\n",
       "      <td>1</td>\n",
       "      <td>0</td>\n",
       "      <td>0.732323</td>\n",
       "      <td>0.412871</td>\n",
       "      <td>0.732323</td>\n",
       "      <td>38</td>\n",
       "      <td>however, the &lt;unk&gt; &lt;unk&gt; is realized by runnin...</td>\n",
       "      <td>cs_conf</td>\n",
       "      <td>however, the behavior network is designed to r...</td>\n",
       "    </tr>\n",
       "    <tr>\n",
       "      <th>4</th>\n",
       "      <td>4</td>\n",
       "      <td>54387</td>\n",
       "      <td>how well the code is performing, the percentag...</td>\n",
       "      <td>1</td>\n",
       "      <td>0</td>\n",
       "      <td>0.692315</td>\n",
       "      <td>0.452050</td>\n",
       "      <td>0.692315</td>\n",
       "      <td>23</td>\n",
       "      <td>how well the &lt;unk&gt; is performing, the percenta...</td>\n",
       "      <td>cs_conf</td>\n",
       "      <td>how well the code is working, how much work is...</td>\n",
       "    </tr>\n",
       "  </tbody>\n",
       "</table>\n",
       "</div>"
      ],
      "text/plain": [
       "   Unnamed: 0  Unnamed: 0.1  \\\n",
       "0           0        102226   \n",
       "1           1         28200   \n",
       "2           2         75338   \n",
       "3           3        100804   \n",
       "4           4         54387   \n",
       "\n",
       "                                                sent  true_label  pred_label  \\\n",
       "0  therefore, for languages like chinese and japa...           1           0   \n",
       "1  similar to these subtopics, feature representa...           1           0   \n",
       "2  these clusters are ranked by collection select...           1           0   \n",
       "3  however, the behavior network is realized by r...           1           0   \n",
       "4  how well the code is performing, the percentag...           1           0   \n",
       "\n",
       "      prob0     prob1  prob_max  len  \\\n",
       "0  0.670159  0.416702  0.670159   29   \n",
       "1  0.776326  0.337896  0.776326   40   \n",
       "2  0.590534  0.567582  0.590534   14   \n",
       "3  0.732323  0.412871  0.732323   38   \n",
       "4  0.692315  0.452050  0.692315   23   \n",
       "\n",
       "                                         sent_masked   source  \\\n",
       "0  therefore, for <unk> like chinese and japanese...  cs_conf   \n",
       "1  similar to these subtopics, <unk> <unk> is put...  cs_conf   \n",
       "2  these <unk> are ranked by <unk> <unk> to deter...  cs_conf   \n",
       "3  however, the <unk> <unk> is realized by runnin...  cs_conf   \n",
       "4  how well the <unk> is performing, the percenta...  cs_conf   \n",
       "\n",
       "                                         sent_output  \n",
       "0  therefore, tokenization is a matter of languag...  \n",
       "1  as an essential element for the three main com...  \n",
       "2  in order to determine which clusters to search...  \n",
       "3  however, the behavior network is designed to r...  \n",
       "4  how well the code is working, how much work is...  "
      ]
     },
     "execution_count": 4,
     "metadata": {},
     "output_type": "execute_result"
    }
   ],
   "source": [
    "df = pd.read_csv(PATH_TO_CSV)\n",
    "\n",
    "# checks\n",
    "for col in INPUT_COLUMN_SENTENCES:\n",
    "    if not col in df.columns:\n",
    "        raise ValueError(f\"Please check the '{INPUT_COLUMN_SENTENCES}' input column\")\n",
    "if OUTPUT_COLUMN_SVM_PREDICTION_SUFFIX in df.columns:\n",
    "    raise ValueError(\"Please choose different name for svm output column\")\n",
    "    \n",
    "df.head()"
   ]
  },
  {
   "cell_type": "markdown",
   "id": "f69dd152-a6f5-408d-a9b9-3e0b741c1e3f",
   "metadata": {},
   "source": [
    "# Prediction"
   ]
  },
  {
   "cell_type": "code",
   "execution_count": 5,
   "id": "4f72122a-50a5-40a2-9a2b-5e98236c8bb1",
   "metadata": {},
   "outputs": [],
   "source": [
    "def add_features(df, trigram_vectorizer=None):\n",
    "    columns = {}\n",
    "\n",
    "    print(\"lexical features character based\")\n",
    "    (cols_lexical_char, df_sub) = TextFeatures.extract_lexical_features_character_based(df[\"sentence\"])\n",
    "    df[cols_lexical_char] = df_sub[cols_lexical_char]\n",
    "    columns[\"cols_lexical_char\"] = cols_lexical_char\n",
    "\n",
    "    print(\"lexical features word based\")\n",
    "    (cols_lexical_word, df_sub) = TextFeatures.extract_lexical_features_word_based(df[\"sentence\"])\n",
    "    df[cols_lexical_word] = df_sub[cols_lexical_word]\n",
    "    columns[\"cols_lexical_word\"] = cols_lexical_word\n",
    "    \n",
    "    print(\"lexical features vocabulary richness\")\n",
    "    (cols_vocab_rich, df_sub) = TextFeatures.extract_vocabulary_richness(df[\"sentence\"])\n",
    "    df[cols_vocab_rich] = df_sub[cols_vocab_rich]\n",
    "    columns[\"cols_vocab_rich\"] = cols_vocab_rich\n",
    "\n",
    "    print(\"pos tags\")\n",
    "    (cols_pos_tag, df_sub) = TextFeatures.extract_pos_tags(df[\"sentence\"], universal=False)\n",
    "    df[cols_pos_tag] = df_sub[cols_pos_tag]\n",
    "    columns[\"cols_pos_tag\"] = cols_pos_tag\n",
    "\n",
    "    print(\"passive sentence\")\n",
    "    (cols_passive, df_sub) = coreNLPfeatures.extract_passive_case(df[\"sentence\"])\n",
    "    df[cols_passive] = df_sub[cols_passive]\n",
    "    columns[\"cols_passive\"] = cols_passive\n",
    "    \n",
    "    print(\"char trigrams\")\n",
    "    (cols_trigram, df_sub, vec) = TextFeatures.extract_char_trigrams(df[\"sentence\"], trigram_vectorizer)\n",
    "    df[cols_trigram] = df_sub[cols_trigram]\n",
    "    columns[\"char_trigrams\"] = cols_trigram\n",
    "    \n",
    "    return (df, columns, vec)\n",
    "\n",
    "\n",
    "def svm_predict(df, column):\n",
    "    \n",
    "    # making sure to leave original dataset as it is\n",
    "    df_features = df[[column]].copy()\n",
    "    df_features.rename({column: \"sentence\"}, axis=1, inplace = True)\n",
    "\n",
    "    # apply feature extraction\n",
    "    (df_features, cols_features, vec) = add_features(df_features, svm_clf_trigram_vectorizer)\n",
    "\n",
    "    sci_pred = svm_clf.predict(df_features.drop(svm_clf_cols_excluded, axis=1, errors = \"ignore\"))\n",
    "    df[\"_\".join([column,OUTPUT_COLUMN_SVM_PREDICTION_SUFFIX])] = sci_pred\n",
    "\n",
    "    del df_features\n",
    "    \n",
    "    return df"
   ]
  },
  {
   "cell_type": "code",
   "execution_count": 6,
   "id": "b473436f-825f-42a5-950c-56e1c9a41a89",
   "metadata": {},
   "outputs": [
    {
     "name": "stdout",
     "output_type": "stream",
     "text": [
      "### Predicting for column: sent\n",
      "lexical features character based\n",
      "lexical features word based\n"
     ]
    },
    {
     "data": {
      "application/vnd.jupyter.widget-view+json": {
       "model_id": "8cfc6e9692194b2f818f002ebfb75981",
       "version_major": 2,
       "version_minor": 0
      },
      "text/plain": [
       "  0%|          | 0/3000 [00:00<?, ?it/s]"
      ]
     },
     "metadata": {},
     "output_type": "display_data"
    },
    {
     "name": "stdout",
     "output_type": "stream",
     "text": [
      "lexical features vocabulary richness\n",
      "pos tags\n"
     ]
    },
    {
     "data": {
      "application/vnd.jupyter.widget-view+json": {
       "model_id": "294f343efc544caa987e40657cabe0a9",
       "version_major": 2,
       "version_minor": 0
      },
      "text/plain": [
       "  0%|          | 0/3000 [00:00<?, ?it/s]"
      ]
     },
     "metadata": {},
     "output_type": "display_data"
    },
    {
     "data": {
      "application/vnd.jupyter.widget-view+json": {
       "model_id": "ebff4122a02840b0a092dfb29fcd5a42",
       "version_major": 2,
       "version_minor": 0
      },
      "text/plain": [
       "  0%|          | 0/3000 [00:00<?, ?it/s]"
      ]
     },
     "metadata": {},
     "output_type": "display_data"
    },
    {
     "name": "stdout",
     "output_type": "stream",
     "text": [
      "passive sentence\n"
     ]
    },
    {
     "data": {
      "application/vnd.jupyter.widget-view+json": {
       "model_id": "416d4f5d219b449ba94a4f2aa146c19f",
       "version_major": 2,
       "version_minor": 0
      },
      "text/plain": [
       "  0%|          | 0/3000 [00:00<?, ?it/s]"
      ]
     },
     "metadata": {},
     "output_type": "display_data"
    },
    {
     "name": "stdout",
     "output_type": "stream",
     "text": [
      "char trigrams\n"
     ]
    },
    {
     "data": {
      "application/vnd.jupyter.widget-view+json": {
       "model_id": "44c20b3d339b49c89e3965ed8cf7e795",
       "version_major": 2,
       "version_minor": 0
      },
      "text/plain": [
       "  0%|          | 0/3000 [00:00<?, ?it/s]"
      ]
     },
     "metadata": {},
     "output_type": "display_data"
    },
    {
     "name": "stdout",
     "output_type": "stream",
     "text": [
      "### Predicting for column: sent_output\n",
      "lexical features character based\n",
      "lexical features word based\n"
     ]
    },
    {
     "data": {
      "application/vnd.jupyter.widget-view+json": {
       "model_id": "d320f9d503db48e6b5d8782d898ec5b2",
       "version_major": 2,
       "version_minor": 0
      },
      "text/plain": [
       "  0%|          | 0/3000 [00:00<?, ?it/s]"
      ]
     },
     "metadata": {},
     "output_type": "display_data"
    },
    {
     "name": "stdout",
     "output_type": "stream",
     "text": [
      "lexical features vocabulary richness\n",
      "pos tags\n"
     ]
    },
    {
     "data": {
      "application/vnd.jupyter.widget-view+json": {
       "model_id": "06dba09ed9cd4132bc4575f280374188",
       "version_major": 2,
       "version_minor": 0
      },
      "text/plain": [
       "  0%|          | 0/3000 [00:00<?, ?it/s]"
      ]
     },
     "metadata": {},
     "output_type": "display_data"
    },
    {
     "data": {
      "application/vnd.jupyter.widget-view+json": {
       "model_id": "506ad5deb4b44ed09cecc89f65e7f40a",
       "version_major": 2,
       "version_minor": 0
      },
      "text/plain": [
       "  0%|          | 0/3000 [00:00<?, ?it/s]"
      ]
     },
     "metadata": {},
     "output_type": "display_data"
    },
    {
     "name": "stdout",
     "output_type": "stream",
     "text": [
      "passive sentence\n"
     ]
    },
    {
     "data": {
      "application/vnd.jupyter.widget-view+json": {
       "model_id": "01918fa613114d97aaa673c4aff4783c",
       "version_major": 2,
       "version_minor": 0
      },
      "text/plain": [
       "  0%|          | 0/3000 [00:00<?, ?it/s]"
      ]
     },
     "metadata": {},
     "output_type": "display_data"
    },
    {
     "name": "stdout",
     "output_type": "stream",
     "text": [
      "char trigrams\n"
     ]
    },
    {
     "data": {
      "application/vnd.jupyter.widget-view+json": {
       "model_id": "b36bca8ff15642a19132b96813b94b61",
       "version_major": 2,
       "version_minor": 0
      },
      "text/plain": [
       "  0%|          | 0/3000 [00:00<?, ?it/s]"
      ]
     },
     "metadata": {},
     "output_type": "display_data"
    }
   ],
   "source": [
    "for col in INPUT_COLUMN_SENTENCES:\n",
    "    print(f\"### Predicting for column: {col}\")\n",
    "    df = svm_predict(df, col)"
   ]
  },
  {
   "cell_type": "markdown",
   "id": "597a93ad-492f-4c66-9823-3eb918b6e47e",
   "metadata": {},
   "source": [
    "## Predict scientificity"
   ]
  },
  {
   "cell_type": "code",
   "execution_count": 7,
   "id": "9f8b8bbc-e6e9-4ac0-ac15-b25144588751",
   "metadata": {},
   "outputs": [
    {
     "name": "stdout",
     "output_type": "stream",
     "text": [
      "### Graph for column sent\n"
     ]
    },
    {
     "data": {
      "image/png": "[encoded data removed]",
      "text/plain": [
       "<Figure size 432x288 with 1 Axes>"
      ]
     },
     "metadata": {
      "needs_background": "light"
     },
     "output_type": "display_data"
    },
    {
     "name": "stdout",
     "output_type": "stream",
     "text": [
      "### Graph for column sent_output\n"
     ]
    },
    {
     "data": {
      "image/png": "[encoded data removed]",
      "text/plain": [
       "<Figure size 432x288 with 1 Axes>"
      ]
     },
     "metadata": {
      "needs_background": "light"
     },
     "output_type": "display_data"
    }
   ],
   "source": [
    "for col in INPUT_COLUMN_SENTENCES:\n",
    "    print(f\"### Graph for column {col}\")\n",
    "    ax = sns.histplot(data=df, x=\"_\".join([col,OUTPUT_COLUMN_SVM_PREDICTION_SUFFIX]))\n",
    "    ax.set_title(f\"Prediction of scientificity: {col}\")\n",
    "    ax.set_xlabel(\"Prediction (1 = scientific)\")\n",
    "    plt.show()"
   ]
  },
  {
   "cell_type": "markdown",
   "id": "52fde0af-e878-4497-9f41-44cae565d795",
   "metadata": {},
   "source": [
    "# Export"
   ]
  },
  {
   "cell_type": "code",
   "execution_count": 8,
   "id": "25e8ecf6-4bf5-4b91-b652-d623a20847f8",
   "metadata": {},
   "outputs": [],
   "source": [
    "df.to_csv(PATH_TO_CSV+\"_svm.csv\", index=False)"
   ]
  }
 ],
 "metadata": {
  "kernelspec": {
   "display_name": "Python 3",
   "language": "python",
   "name": "python3"
  },
  "language_info": {
   "codemirror_mode": {
    "name": "ipython",
    "version": 3
   },
   "file_extension": ".py",
   "mimetype": "text/x-python",
   "name": "python",
   "nbconvert_exporter": "python",
   "pygments_lexer": "ipython3",
   "version": "3.9.4"
  }
 },
 "nbformat": 4,
 "nbformat_minor": 5
}
